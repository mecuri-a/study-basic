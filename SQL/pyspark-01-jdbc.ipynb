{
 "cells": [
  {
   "cell_type": "code",
   "execution_count": 1,
   "id": "52a37aa8-9657-4ab1-b14e-81f652761b6f",
   "metadata": {},
   "outputs": [],
   "source": [
    "url = 'jdbc:mysql://192.168.0.2:3306/bigdata'\n",
    "user = 'root'\n",
    "password = 'asd123'\n",
    "\n",
    "# pyspark MariaDB jar 연동 실행\n",
    "# pyspark --driver-class-path=/home/hadoop/jar/mariadb-java-client-2.7.2.jar &"
   ]
  },
  {
   "cell_type": "code",
   "execution_count": 2,
   "id": "9c764e94-eb52-4138-8f4c-1e385ffa033b",
   "metadata": {},
   "outputs": [],
   "source": [
    "emp = spark.read.format('jdbc').options(url=url,user=user,password=password,dbtable='employees').load()"
   ]
  },
  {
   "cell_type": "code",
   "execution_count": 3,
   "id": "721c94c5-4be0-4849-84b1-a8615c0db409",
   "metadata": {},
   "outputs": [
    {
     "name": "stdout",
     "output_type": "stream",
     "text": [
      "root\n",
      " |-- EMPLOYEE_ID: integer (nullable = true)\n",
      " |-- FIRST_NAME: string (nullable = true)\n",
      " |-- LAST_NAME: string (nullable = true)\n",
      " |-- EMAIL: string (nullable = true)\n",
      " |-- PHONE_NUMBER: string (nullable = true)\n",
      " |-- HIRE_DATE: string (nullable = true)\n",
      " |-- JOB_ID: string (nullable = true)\n",
      " |-- SALARY: integer (nullable = true)\n",
      " |-- COMMISSION_PCT: double (nullable = true)\n",
      " |-- MANAGER_ID: integer (nullable = true)\n",
      " |-- DEPARTMENT_ID: integer (nullable = true)\n",
      "\n"
     ]
    }
   ],
   "source": [
    "emp.printSchema()"
   ]
  },
  {
   "cell_type": "code",
   "execution_count": 4,
   "id": "d0f64351-0d1a-45d4-8855-0ab40873f06f",
   "metadata": {},
   "outputs": [],
   "source": [
    "from pyspark.sql.functions import round,avg,sum\n",
    "from pyspark.sql.functions import count, col, countDistinct\n",
    "from pyspark import SparkContext\n",
    "from pyspark.sql import DataFrameReader, SQLContext"
   ]
  },
  {
   "cell_type": "code",
   "execution_count": 5,
   "id": "11247fcd-a730-4f93-8a6c-3919a9064f0b",
   "metadata": {},
   "outputs": [],
   "source": [
    "summermedals = spark.read.format('jdbc').options(url=url, user=user, password=password, dbtable='summermedals').load()"
   ]
  },
  {
   "cell_type": "code",
   "execution_count": 6,
   "id": "cd000269-b729-4927-814c-74d3973e0354",
   "metadata": {},
   "outputs": [
    {
     "name": "stdout",
     "output_type": "stream",
     "text": [
      "root\n",
      " |-- Year: double (nullable = true)\n",
      " |-- City: string (nullable = true)\n",
      " |-- Sport: string (nullable = true)\n",
      " |-- Discipline: string (nullable = true)\n",
      " |-- Athlete: string (nullable = true)\n",
      " |-- Country: string (nullable = true)\n",
      " |-- Gender: string (nullable = true)\n",
      " |-- Event: string (nullable = true)\n",
      " |-- Medal: string (nullable = true)\n",
      "\n"
     ]
    }
   ],
   "source": [
    "summermedals.printSchema()"
   ]
  },
  {
   "cell_type": "code",
   "execution_count": 7,
   "id": "93cd6e87-8651-4ffc-9e92-fcebbe9eea42",
   "metadata": {},
   "outputs": [],
   "source": [
    "medal = summermedals.createOrReplaceTempView(\"medal\")"
   ]
  },
  {
   "cell_type": "code",
   "execution_count": 8,
   "id": "f8ee0eb7-1b59-4cbe-8db3-7e096fb7979d",
   "metadata": {},
   "outputs": [
    {
     "name": "stderr",
     "output_type": "stream",
     "text": [
      "21/11/06 09:31:56 WARN ObjectStore: Failed to get database global_temp, returning NoSuchObjectException\n",
      "[Stage 1:=========================================>             (150 + 2) / 200]"
     ]
    },
    {
     "name": "stdout",
     "output_type": "stream",
     "text": [
      "+-------+----+\n",
      "|Country| cnt|\n",
      "+-------+----+\n",
      "|    USA|2235|\n",
      "|    URS| 838|\n",
      "|    GBR| 546|\n",
      "|    ITA| 476|\n",
      "|    GER| 452|\n",
      "|    HUN| 412|\n",
      "|    FRA| 408|\n",
      "|    SWE| 349|\n",
      "|    GDR| 329|\n",
      "|    AUS| 312|\n",
      "+-------+----+\n",
      "only showing top 10 rows\n",
      "\n"
     ]
    },
    {
     "name": "stderr",
     "output_type": "stream",
     "text": [
      "                                                                                \r"
     ]
    }
   ],
   "source": [
    "## 글메달을 가장 많이 딴 나라순으로 조회\n",
    "sql = \"\"\" select Country, count(Medal) cnt from medal where Medal = 'Gold' group by Country order by cnt desc \"\"\"\n",
    "spark.sql(sql).show(10)"
   ]
  },
  {
   "cell_type": "code",
   "execution_count": 9,
   "id": "44cc261e-f0cd-47a2-9718-39981cbcd78d",
   "metadata": {},
   "outputs": [
    {
     "name": "stdout",
     "output_type": "stream",
     "text": [
      "+-------+----+\n",
      "|Country| cnt|\n",
      "+-------+----+\n",
      "|    USA|2235|\n",
      "|    URS| 838|\n",
      "|    GBR| 546|\n",
      "|    ITA| 476|\n",
      "|    GER| 452|\n",
      "|    HUN| 412|\n",
      "|    FRA| 408|\n",
      "|    SWE| 349|\n",
      "|    GDR| 329|\n",
      "|    AUS| 312|\n",
      "+-------+----+\n",
      "only showing top 10 rows\n",
      "\n"
     ]
    },
    {
     "name": "stderr",
     "output_type": "stream",
     "text": [
      "                                                                                \r"
     ]
    }
   ],
   "source": [
    "summermedals.filter(col('Medal') == 'Gold').groupBy('Country').agg(count('Medal').alias('cnt')).orderBy('cnt',ascending=False).show(10)"
   ]
  },
  {
   "cell_type": "code",
   "execution_count": 10,
   "id": "d846f019-286c-45da-b998-dc54fca3fa05",
   "metadata": {},
   "outputs": [],
   "source": [
    "import pandas as pd\n",
    "import seaborn as sns"
   ]
  },
  {
   "cell_type": "code",
   "execution_count": 11,
   "id": "6590b1ed-5a8e-4809-8b83-6ccb6cdb4568",
   "metadata": {},
   "outputs": [],
   "source": [
    "titanic = spark.read.csv('csv/titanic.csv', header=True, inferSchema=True)"
   ]
  },
  {
   "cell_type": "code",
   "execution_count": 12,
   "id": "46da860d-73f9-4d99-a73d-43a8742bf8b6",
   "metadata": {},
   "outputs": [
    {
     "name": "stdout",
     "output_type": "stream",
     "text": [
      "root\n",
      " |-- pclass: integer (nullable = true)\n",
      " |-- survived: integer (nullable = true)\n",
      " |-- name: string (nullable = true)\n",
      " |-- sex: string (nullable = true)\n",
      " |-- age: double (nullable = true)\n",
      " |-- sibsp: integer (nullable = true)\n",
      " |-- parch: integer (nullable = true)\n",
      " |-- ticket: string (nullable = true)\n",
      " |-- fare: double (nullable = true)\n",
      " |-- cabin: string (nullable = true)\n",
      " |-- embarked: string (nullable = true)\n",
      "\n"
     ]
    }
   ],
   "source": [
    "titanic.printSchema()"
   ]
  },
  {
   "cell_type": "code",
   "execution_count": 13,
   "id": "bb97acf4-9a28-4fd2-b085-e161085f442a",
   "metadata": {},
   "outputs": [
    {
     "data": {
      "text/plain": [
       "<AxesSubplot:xlabel='survived', ylabel='count'>"
      ]
     },
     "execution_count": 13,
     "metadata": {},
     "output_type": "execute_result"
    },
    {
     "data": {
      "image/png": "[encoded data removed]",
      "text/plain": [
       "<Figure size 432x288 with 1 Axes>"
      ]
     },
     "metadata": {
      "needs_background": "light"
     },
     "output_type": "display_data"
    }
   ],
   "source": [
    "titanic2 = titanic.toPandas()\n",
    "\n",
    "# 타이타닉 승객 성별 현황\n",
    "sns.countplot(data=titanic2, x='survived')"
   ]
  },
  {
   "cell_type": "code",
   "execution_count": 14,
   "id": "aed79a48-3700-4ebb-921c-8821a27c1c75",
   "metadata": {
    "tags": []
   },
   "outputs": [
    {
     "data": {
      "text/plain": [
       "<AxesSubplot:xlabel='JOB_ID', ylabel='count'>"
      ]
     },
     "execution_count": 14,
     "metadata": {},
     "output_type": "execute_result"
    },
    {
     "data": {
      "image/png": "[encoded data removed]",
      "text/plain": [
       "<Figure size 432x288 with 1 Axes>"
      ]
     },
     "metadata": {
      "needs_background": "light"
     },
     "output_type": "display_data"
    }
   ],
   "source": [
    "# 사원들의 직책별 현황\n",
    "emp = spark.read.csv('csv/employees.csv', header=True, inferSchema=True)\n",
    "emp2 = emp.toPandas()\n",
    "sns.countplot(data=emp2, x='JOB_ID')"
   ]
  }
 ],
 "metadata": {
  "kernelspec": {
   "display_name": "Python 3 (ipykernel)",
   "language": "python",
   "name": "python3"
  },
  "language_info": {
   "codemirror_mode": {
    "name": "ipython",
    "version": 3
   },
   "file_extension": ".py",
   "mimetype": "text/x-python",
   "name": "python",
   "nbconvert_exporter": "python",
   "pygments_lexer": "ipython3",
   "version": "3.7.10"
  }
 },
 "nbformat": 4,
 "nbformat_minor": 5
}
