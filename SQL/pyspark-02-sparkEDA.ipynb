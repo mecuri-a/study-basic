{
 "cells": [
  {
   "cell_type": "markdown",
   "id": "0b5c6d8c-512c-424e-ac93-b2287ae8e15b",
   "metadata": {},
   "source": [
    "### 탐색적 분석\n",
    "- Exploratory Data Analysis  - EDA\n",
    "- 본격적인 데이터 분석전에 데이터의 각 컬럼에 대한 이해\n",
    "- 데이터의 결측치, 이상치 처리 및 필터링을 수행\n",
    "- 누구나 이해가기 쉬운 시각화를 수행하는 과정"
   ]
  },
  {
   "cell_type": "code",
   "execution_count": 1,
   "id": "cb20a5b0-5316-4af5-aa52-eb6c060e450f",
   "metadata": {},
   "outputs": [
    {
     "name": "stdout",
     "output_type": "stream",
     "text": [
      "+---+---+---+---+------+\n",
      "|_c0|_c1|_c2|_c3|   _c4|\n",
      "+---+---+---+---+------+\n",
      "|5.1|3.5|1.4|0.2|setosa|\n",
      "|4.9|3.0|1.4|0.2|setosa|\n",
      "|4.7|3.2|1.3|0.2|setosa|\n",
      "|4.6|3.1|1.5|0.2|setosa|\n",
      "|5.0|3.6|1.4|0.2|setosa|\n",
      "+---+---+---+---+------+\n",
      "only showing top 5 rows\n",
      "\n"
     ]
    }
   ],
   "source": [
    "# iris 데이터를 spark 객체로 생성\n",
    "iris = spark.read.csv('csv/iris.csv', header=False, inferSchema=True)\n",
    "iris.show(5)"
   ]
  },
  {
   "cell_type": "code",
   "execution_count": 2,
   "id": "c8b0093f-b0e9-426a-9741-1b334f222012",
   "metadata": {},
   "outputs": [],
   "source": [
    "# 컬럼명 변경 :  withColumnRenamed(기존이름, 새이름)\n",
    "iris =iris.withColumnRenamed('_c0','Sepal Length').withColumnRenamed('_c1','Sepal Width').withColumnRenamed('_c2','Petal Length').withColumnRenamed('_c3','Petal Width').withColumnRenamed('_c4','Species')"
   ]
  },
  {
   "cell_type": "code",
   "execution_count": 3,
   "id": "1cb0c95d-a898-43cc-8120-12d30fa63410",
   "metadata": {},
   "outputs": [
    {
     "name": "stdout",
     "output_type": "stream",
     "text": [
      "+------------+-----------+------------+-----------+-------+\n",
      "|Sepal Length|Sepal Width|Petal Length|Petal Width|Species|\n",
      "+------------+-----------+------------+-----------+-------+\n",
      "|         5.1|        3.5|         1.4|        0.2| setosa|\n",
      "|         4.9|        3.0|         1.4|        0.2| setosa|\n",
      "|         4.7|        3.2|         1.3|        0.2| setosa|\n",
      "|         4.6|        3.1|         1.5|        0.2| setosa|\n",
      "|         5.0|        3.6|         1.4|        0.2| setosa|\n",
      "+------------+-----------+------------+-----------+-------+\n",
      "only showing top 5 rows\n",
      "\n"
     ]
    }
   ],
   "source": [
    "iris.show(5)"
   ]
  },
  {
   "cell_type": "code",
   "execution_count": 4,
   "id": "ad1e3d6a-d8e3-42c9-95df-0168c9b59e9c",
   "metadata": {},
   "outputs": [
    {
     "name": "stdout",
     "output_type": "stream",
     "text": [
      "+-----------------+------------------+\n",
      "|avg(Sepal Length)|  avg(Sepal Width)|\n",
      "+-----------------+------------------+\n",
      "|5.843333333333335|3.0540000000000007|\n",
      "+-----------------+------------------+\n",
      "\n"
     ]
    }
   ],
   "source": [
    "# 데이터분석 함수 : avg, max, min, sum, count\n",
    "# agg({컬럼명:집계함수})\n",
    "meanVals = iris.agg({'Sepal Length':'avg','Sepal Width':'avg'})\n",
    "meanVals.show()"
   ]
  },
  {
   "cell_type": "code",
   "execution_count": 5,
   "id": "e4e7cf31-7f60-4e11-94c6-034b6585e19c",
   "metadata": {},
   "outputs": [
    {
     "name": "stdout",
     "output_type": "stream",
     "text": [
      "+-----------------+----------------+\n",
      "|max(Sepal Length)|max(Sepal Width)|\n",
      "+-----------------+----------------+\n",
      "|              7.9|             4.4|\n",
      "+-----------------+----------------+\n",
      "\n"
     ]
    }
   ],
   "source": [
    "maxVals = iris.agg({'Sepal Length':'max','Sepal Width':'max'})\n",
    "maxVals.show()"
   ]
  },
  {
   "cell_type": "code",
   "execution_count": 6,
   "id": "b7223c9c-fa72-413c-b06a-f5dd60116185",
   "metadata": {},
   "outputs": [
    {
     "name": "stdout",
     "output_type": "stream",
     "text": [
      "+----------------------+---------------------+\n",
      "|var_samp(Sepal Length)|var_samp(Sepal Width)|\n",
      "+----------------------+---------------------+\n",
      "|    0.6856935123042518|   0.1880040268456377|\n",
      "+----------------------+---------------------+\n",
      "\n"
     ]
    }
   ],
   "source": [
    "# 데이터 함수2 : var_samp(분산), stddev_samp(표준편차), cov(공분산), corr(상관계수)\n",
    "varVals = iris.agg({'Sepal Length':'var_samp','Sepal Width':'var_samp'})\n",
    "varVals.show()"
   ]
  },
  {
   "cell_type": "code",
   "execution_count": 7,
   "id": "1a1a31ba-86a7-439d-b4fc-6347b7c6f4a0",
   "metadata": {},
   "outputs": [
    {
     "name": "stdout",
     "output_type": "stream",
     "text": [
      "+-------------------------+------------------------+\n",
      "|stddev_samp(Sepal Length)|stddev_samp(Sepal Width)|\n",
      "+-------------------------+------------------------+\n",
      "|       0.8280661279778637|     0.43359431136217375|\n",
      "+-------------------------+------------------------+\n",
      "\n"
     ]
    }
   ],
   "source": [
    "stddevVals = iris.agg({'Sepal Length':'stddev_samp','Sepal Width':'stddev_samp'})\n",
    "stddevVals.show()"
   ]
  },
  {
   "cell_type": "code",
   "execution_count": 8,
   "id": "97490f33-4b16-4eb5-b645-22c0b1889e21",
   "metadata": {},
   "outputs": [
    {
     "data": {
      "text/plain": [
       "-0.03926845637583896"
      ]
     },
     "execution_count": 8,
     "metadata": {},
     "output_type": "execute_result"
    }
   ],
   "source": [
    "covVals = iris.cov('Sepal Length','Sepal Width')\n",
    "covVals"
   ]
  },
  {
   "cell_type": "code",
   "execution_count": 9,
   "id": "27812fbf-c152-4911-a103-33d4d342b336",
   "metadata": {},
   "outputs": [
    {
     "data": {
      "text/plain": [
       "-0.10936924995064931"
      ]
     },
     "execution_count": 9,
     "metadata": {},
     "output_type": "execute_result"
    }
   ],
   "source": [
    "corrVals = iris.corr('Sepal Length','Sepal Width')\n",
    "corrVals"
   ]
  },
  {
   "cell_type": "code",
   "execution_count": 10,
   "id": "1229a15f-4354-4f7a-9232-4edc86c83b70",
   "metadata": {},
   "outputs": [
    {
     "data": {
      "text/plain": [
       "1.2963874720357942"
      ]
     },
     "execution_count": 10,
     "metadata": {},
     "output_type": "execute_result"
    }
   ],
   "source": [
    "covVals = iris.cov('Petal Length','Petal Width')\n",
    "covVals"
   ]
  },
  {
   "cell_type": "code",
   "execution_count": 11,
   "id": "55b8949c-b740-4ccb-89c7-ea864a86bae8",
   "metadata": {},
   "outputs": [
    {
     "data": {
      "text/plain": [
       "0.9627570970509666"
      ]
     },
     "execution_count": 11,
     "metadata": {},
     "output_type": "execute_result"
    }
   ],
   "source": [
    "corrVals = iris.corr('Petal Length','Petal Width')\n",
    "corrVals"
   ]
  },
  {
   "cell_type": "code",
   "execution_count": 12,
   "id": "e8c57e8b-af9f-4c7b-ba2a-078e8d573a2a",
   "metadata": {},
   "outputs": [],
   "source": [
    "import numpy as np\n",
    "import pandas as pd\n",
    "import matplotlib.pyplot as plt\n",
    "import seaborn as sns\n",
    "from pyspark.sql.functions import col"
   ]
  },
  {
   "cell_type": "code",
   "execution_count": 13,
   "id": "3ee81afb-66a9-4db1-bf70-2f6e68001d90",
   "metadata": {},
   "outputs": [
    {
     "data": {
      "text/plain": [
       "[<matplotlib.lines.Line2D at 0x7f68fd539b50>]"
      ]
     },
     "execution_count": 13,
     "metadata": {},
     "output_type": "execute_result"
    },
    {
     "data": {
      "image/png": "[encoded data removed]",
      "text/plain": [
       "<Figure size 432x288 with 1 Axes>"
      ]
     },
     "metadata": {
      "needs_background": "light"
     },
     "output_type": "display_data"
    }
   ],
   "source": [
    "# 데이터의 외형 확인\n",
    "# plot(x 변수, y 변수, 그래프옵션)\n",
    "iris2 = iris.toPandas()\n",
    "plt.plot(iris2['Sepal Length'],iris2['Sepal Width'], 'or')"
   ]
  },
  {
   "cell_type": "code",
   "execution_count": 14,
   "id": "e20fb672-5173-4ab4-845f-4b2604eadc2c",
   "metadata": {},
   "outputs": [
    {
     "data": {
      "text/plain": [
       "[<matplotlib.lines.Line2D at 0x7f68f4befc90>]"
      ]
     },
     "execution_count": 14,
     "metadata": {},
     "output_type": "execute_result"
    },
    {
     "data": {
      "image/png": "[encoded data removed]",
      "text/plain": [
       "<Figure size 432x288 with 1 Axes>"
      ]
     },
     "metadata": {
      "needs_background": "light"
     },
     "output_type": "display_data"
    }
   ],
   "source": [
    "plt.plot(iris2['Petal Length'],iris2['Petal Width'], 'or')"
   ]
  },
  {
   "cell_type": "code",
   "execution_count": 15,
   "id": "560e5423-1e36-4915-b5a8-2b449e0b16cf",
   "metadata": {},
   "outputs": [
    {
     "data": {
      "text/plain": [
       "<AxesSubplot:xlabel='Species', ylabel='count'>"
      ]
     },
     "execution_count": 15,
     "metadata": {},
     "output_type": "execute_result"
    },
    {
     "data": {
      "image/png": "[encoded data removed]",
      "text/plain": [
       "<Figure size 432x288 with 1 Axes>"
      ]
     },
     "metadata": {
      "needs_background": "light"
     },
     "output_type": "display_data"
    }
   ],
   "source": [
    "sns.countplot(data=iris2, x='Species')"
   ]
  },
  {
   "cell_type": "code",
   "execution_count": 16,
   "id": "04c18382-3d9b-4e8c-b601-a4812a8a97da",
   "metadata": {},
   "outputs": [
    {
     "data": {
      "text/plain": [
       "(array([ 9., 23., 14., 27., 16., 26., 18.,  6.,  5.,  6.]),\n",
       " array([4.3 , 4.66, 5.02, 5.38, 5.74, 6.1 , 6.46, 6.82, 7.18, 7.54, 7.9 ]),\n",
       " <BarContainer object of 10 artists>)"
      ]
     },
     "execution_count": 16,
     "metadata": {},
     "output_type": "execute_result"
    },
    {
     "data": {
      "image/png": "[encoded data removed]",
      "text/plain": [
       "<Figure size 432x288 with 1 Axes>"
      ]
     },
     "metadata": {
      "needs_background": "light"
     },
     "output_type": "display_data"
    }
   ],
   "source": [
    "# 연속형 데이터 : 히스토그램\n",
    "# hist(대상컬럼, 옵션)\n",
    "plt.hist(iris2['Sepal Length'])"
   ]
  },
  {
   "cell_type": "code",
   "execution_count": 17,
   "id": "f5b28047-c0aa-4131-b1e5-7ed4f15b8122",
   "metadata": {},
   "outputs": [
    {
     "data": {
      "text/plain": [
       "<AxesSubplot:xlabel='Sepal Length', ylabel='Density'>"
      ]
     },
     "execution_count": 17,
     "metadata": {},
     "output_type": "execute_result"
    },
    {
     "data": {
      "image/png": "[encoded data removed]",
      "text/plain": [
       "<Figure size 432x288 with 1 Axes>"
      ]
     },
     "metadata": {
      "needs_background": "light"
     },
     "output_type": "display_data"
    }
   ],
   "source": [
    "# 확률밀도 그래프 : kde\n",
    "# kdeplot(변수, 데이터객체)\n",
    "sns.kdeplot(data=iris2, x='Sepal Length')"
   ]
  },
  {
   "cell_type": "code",
   "execution_count": 18,
   "id": "de9e4eb9-94ea-474f-ba47-d1d847136eb5",
   "metadata": {},
   "outputs": [
    {
     "name": "stdout",
     "output_type": "stream",
     "text": [
      "+-------+------------------+-------------------+------------------+------------------+---------+\n",
      "|summary|      Sepal Length|        Sepal Width|      Petal Length|       Petal Width|  Species|\n",
      "+-------+------------------+-------------------+------------------+------------------+---------+\n",
      "|  count|               150|                150|               150|               150|      150|\n",
      "|   mean| 5.843333333333335| 3.0540000000000007|3.7586666666666693|1.1986666666666672|     null|\n",
      "| stddev|0.8280661279778637|0.43359431136217375| 1.764420419952262|0.7631607417008414|     null|\n",
      "|    min|               4.3|                2.0|               1.0|               0.1|   setosa|\n",
      "|    25%|               5.1|                2.8|               1.6|               0.3|     null|\n",
      "|    50%|               5.8|                3.0|               4.3|               1.3|     null|\n",
      "|    75%|               6.4|                3.3|               5.1|               1.8|     null|\n",
      "|    max|               7.9|                4.4|               6.9|               2.5|virginica|\n",
      "+-------+------------------+-------------------+------------------+------------------+---------+\n",
      "\n",
      "+-------+-----------------+------------------+------------------+------------------+---------+\n",
      "|summary|     Sepal Length|       Sepal Width|      Petal Length|       Petal Width|  Species|\n",
      "+-------+-----------------+------------------+------------------+------------------+---------+\n",
      "|  count|              150|               150|               150|               150|      150|\n",
      "|   mean|5.843333333333335|3.0540000000000007|3.7586666666666693|1.1986666666666672|     null|\n",
      "|    min|              4.3|               2.0|               1.0|               0.1|   setosa|\n",
      "|    max|              7.9|               4.4|               6.9|               2.5|virginica|\n",
      "+-------+-----------------+------------------+------------------+------------------+---------+\n",
      "\n",
      "+-------+-----------------+------------------+\n",
      "|summary|     Sepal Length|       Sepal Width|\n",
      "+-------+-----------------+------------------+\n",
      "|  count|              150|               150|\n",
      "|   mean|5.843333333333335|3.0540000000000007|\n",
      "|    min|              4.3|               2.0|\n",
      "|    max|              7.9|               4.4|\n",
      "+-------+-----------------+------------------+\n",
      "\n"
     ]
    }
   ],
   "source": [
    "# 데이터분석 함수3 : summary, describe\n",
    "iris.summary().show()\n",
    "iris.summary(['count','mean','min','max']).show()\n",
    "iris.select(col('Sepal Length'), col('Sepal Width')).summary(['count','mean','min','max']).show()"
   ]
  },
  {
   "cell_type": "code",
   "execution_count": 19,
   "id": "edb6d843-2e70-428b-9377-45f8534a8b21",
   "metadata": {},
   "outputs": [
    {
     "name": "stdout",
     "output_type": "stream",
     "text": [
      "+-------+------------------+-------------------+------------------+------------------+---------+\n",
      "|summary|      Sepal Length|        Sepal Width|      Petal Length|       Petal Width|  Species|\n",
      "+-------+------------------+-------------------+------------------+------------------+---------+\n",
      "|  count|               150|                150|               150|               150|      150|\n",
      "|   mean| 5.843333333333335| 3.0540000000000007|3.7586666666666693|1.1986666666666672|     null|\n",
      "| stddev|0.8280661279778637|0.43359431136217375| 1.764420419952262|0.7631607417008414|     null|\n",
      "|    min|               4.3|                2.0|               1.0|               0.1|   setosa|\n",
      "|    max|               7.9|                4.4|               6.9|               2.5|virginica|\n",
      "+-------+------------------+-------------------+------------------+------------------+---------+\n",
      "\n",
      "+-------+------------------+-------------------+\n",
      "|summary|      Sepal Length|        Sepal Width|\n",
      "+-------+------------------+-------------------+\n",
      "|  count|               150|                150|\n",
      "|   mean| 5.843333333333335| 3.0540000000000007|\n",
      "| stddev|0.8280661279778637|0.43359431136217375|\n",
      "|    min|               4.3|                2.0|\n",
      "|    max|               7.9|                4.4|\n",
      "+-------+------------------+-------------------+\n",
      "\n"
     ]
    }
   ],
   "source": [
    "iris.describe().show()\n",
    "iris.describe(['Sepal Length','Sepal Width']).show()"
   ]
  },
  {
   "cell_type": "markdown",
   "id": "bd24f27b-4187-4c2d-96ce-cab26629343f",
   "metadata": {},
   "source": [
    "### loan 데이터 분석"
   ]
  },
  {
   "cell_type": "code",
   "execution_count": 20,
   "id": "3a6f1789-bbb6-42a5-b99f-c385ed2a3a59",
   "metadata": {},
   "outputs": [
    {
     "name": "stdout",
     "output_type": "stream",
     "text": [
      "+-------+------------+-------------+-----------------------+-----------------------------------------------+-------------+---------------+-----------+-------------+---+----------------+-----+\n",
      "|loan_id|loan_purpose|is_first_loan|total_credit_card_limit|avg_percentage_credit_card_limit_used_last_year|saving_amount|checking_amount|is_employed|yearly_salary|age|dependent_number|label|\n",
      "+-------+------------+-------------+-----------------------+-----------------------------------------------+-------------+---------------+-----------+-------------+---+----------------+-----+\n",
      "|    A_1|    personal|            1|                   7900|                                            0.8|         1103|           6393|          1|        16400| 42|               4|    0|\n",
      "|    A_2|    personal|            0|                   3300|                                           0.29|         2588|            832|          1|        75500| 56|               1|    0|\n",
      "|    A_3|    personal|            0|                   7600|                                            0.9|         1651|           8868|          1|        59000| 46|               1|    0|\n",
      "|    A_4|    personal|            1|                   3400|                                           0.38|         1269|           6863|          1|        26000| 55|               8|    0|\n",
      "|    A_5|   emergency|            0|                   2600|                                           0.89|         1310|           3423|          1|         9700| 41|               4|    1|\n",
      "+-------+------------+-------------+-----------------------+-----------------------------------------------+-------------+---------------+-----------+-------------+---+----------------+-----+\n",
      "only showing top 5 rows\n",
      "\n"
     ]
    }
   ],
   "source": [
    "loans = spark.read.csv('csv/loan.csv', header=True, inferSchema=True)\n",
    "loans.show(5)\n",
    "loans2 = loans.toPandas()"
   ]
  },
  {
   "cell_type": "code",
   "execution_count": 21,
   "id": "5b567a85-1517-49f6-9124-aa188dd41f6a",
   "metadata": {},
   "outputs": [
    {
     "name": "stdout",
     "output_type": "stream",
     "text": [
      "+-----+-----+\n",
      "|label|count|\n",
      "+-----+-----+\n",
      "|    1|16201|\n",
      "|    0|30550|\n",
      "+-----+-----+\n",
      "\n"
     ]
    },
    {
     "data": {
      "text/plain": [
       "<AxesSubplot:xlabel='label', ylabel='count'>"
      ]
     },
     "execution_count": 21,
     "metadata": {},
     "output_type": "execute_result"
    },
    {
     "data": {
      "image/png": "[encoded data removed]",
      "text/plain": [
       "<Figure size 432x288 with 1 Axes>"
      ]
     },
     "metadata": {
      "needs_background": "light"
     },
     "output_type": "display_data"
    }
   ],
   "source": [
    "# 대출 여부 건수\n",
    "loans.groupBy('label').count().show()\n",
    "sns.countplot(data=loans2, x='label')"
   ]
  },
  {
   "cell_type": "code",
   "execution_count": 22,
   "id": "eba56093-d06b-4319-9363-b69756decb54",
   "metadata": {},
   "outputs": [
    {
     "name": "stdout",
     "output_type": "stream",
     "text": [
      "+------------+-----+\n",
      "|loan_purpose|count|\n",
      "+------------+-----+\n",
      "|      others| 6763|\n",
      "|   emergency| 7562|\n",
      "|    property|11388|\n",
      "|  operations|10580|\n",
      "|    personal|10458|\n",
      "+------------+-----+\n",
      "\n"
     ]
    },
    {
     "data": {
      "text/plain": [
       "<AxesSubplot:xlabel='loan_purpose', ylabel='count'>"
      ]
     },
     "execution_count": 22,
     "metadata": {},
     "output_type": "execute_result"
    },
    {
     "data": {
      "image/png": "[encoded data removed]",
      "text/plain": [
       "<Figure size 432x288 with 1 Axes>"
      ]
     },
     "metadata": {
      "needs_background": "light"
     },
     "output_type": "display_data"
    }
   ],
   "source": [
    "# 대출 목적별 현황\n",
    "loans.groupBy('loan_purpose').count().show()\n",
    "sns.countplot(data=loans2, x='loan_purpose')"
   ]
  },
  {
   "cell_type": "code",
   "execution_count": 23,
   "id": "8b2e8663-03ca-4467-a12b-63bc2c1a0b57",
   "metadata": {},
   "outputs": [
    {
     "name": "stdout",
     "output_type": "stream",
     "text": [
      "+-------------+-----+\n",
      "|is_first_loan|count|\n",
      "+-------------+-----+\n",
      "|            1|25313|\n",
      "|            0|21438|\n",
      "+-------------+-----+\n",
      "\n"
     ]
    },
    {
     "data": {
      "text/plain": [
       "<AxesSubplot:xlabel='is_first_loan', ylabel='count'>"
      ]
     },
     "execution_count": 23,
     "metadata": {},
     "output_type": "execute_result"
    },
    {
     "data": {
      "image/png": "[encoded data removed]",
      "text/plain": [
       "<Figure size 432x288 with 1 Axes>"
      ]
     },
     "metadata": {
      "needs_background": "light"
     },
     "output_type": "display_data"
    }
   ],
   "source": [
    "# 처음 대출 여부 현황 \n",
    "loans.groupBy('is_first_loan').count().show()\n",
    "sns.countplot(data=loans2, x='is_first_loan')"
   ]
  },
  {
   "cell_type": "code",
   "execution_count": 24,
   "id": "bdfd761b-cbed-4345-850c-3e817f6f6471",
   "metadata": {},
   "outputs": [
    {
     "name": "stdout",
     "output_type": "stream",
     "text": [
      "+-----------+-----+\n",
      "|is_employed|count|\n",
      "+-----------+-----+\n",
      "|          1|42886|\n",
      "|          0| 3865|\n",
      "+-----------+-----+\n",
      "\n"
     ]
    },
    {
     "data": {
      "text/plain": [
       "<AxesSubplot:xlabel='is_employed', ylabel='count'>"
      ]
     },
     "execution_count": 24,
     "metadata": {},
     "output_type": "execute_result"
    },
    {
     "data": {
      "image/png": "[encoded data removed]",
      "text/plain": [
       "<Figure size 432x288 with 1 Axes>"
      ]
     },
     "metadata": {
      "needs_background": "light"
     },
     "output_type": "display_data"
    }
   ],
   "source": [
    "# 대출시 근로자 여부 현황\n",
    "loans.groupBy('is_employed').count().show()\n",
    "sns.countplot(data=loans2, x='is_employed')"
   ]
  },
  {
   "cell_type": "code",
   "execution_count": 25,
   "id": "32fb16ab-2c01-4249-b171-c6e2382221c7",
   "metadata": {},
   "outputs": [
    {
     "name": "stdout",
     "output_type": "stream",
     "text": [
      "+----------------+-----+\n",
      "|dependent_number|count|\n",
      "+----------------+-----+\n",
      "|               0| 1738|\n",
      "|               1| 9894|\n",
      "|               2| 8552|\n",
      "|               3| 6047|\n",
      "|               4| 4467|\n",
      "|               5| 3256|\n",
      "|               6| 2373|\n",
      "|               7| 1842|\n",
      "|               8| 8582|\n",
      "+----------------+-----+\n",
      "\n"
     ]
    },
    {
     "data": {
      "text/plain": [
       "<AxesSubplot:xlabel='dependent_number', ylabel='count'>"
      ]
     },
     "execution_count": 25,
     "metadata": {},
     "output_type": "execute_result"
    },
    {
     "data": {
      "image/png": "[encoded data removed]",
      "text/plain": [
       "<Figure size 432x288 with 1 Axes>"
      ]
     },
     "metadata": {
      "needs_background": "light"
     },
     "output_type": "display_data"
    }
   ],
   "source": [
    "# 부양 가족수 현황 dependent_number\n",
    "loans.groupBy('dependent_number').count().orderBy('dependent_number').show()\n",
    "sns.countplot(data=loans2, x='dependent_number')"
   ]
  },
  {
   "cell_type": "code",
   "execution_count": 26,
   "id": "8e8ea878-0dfc-4a7b-ae2f-3e239c657102",
   "metadata": {},
   "outputs": [
    {
     "data": {
      "text/plain": [
       "(array([4452., 5725., 7441., 7923., 7553., 5890., 3880., 2274., 1126.,\n",
       "         487.]),\n",
       " array([18. , 24.1, 30.2, 36.3, 42.4, 48.5, 54.6, 60.7, 66.8, 72.9, 79. ]),\n",
       " <BarContainer object of 10 artists>)"
      ]
     },
     "execution_count": 26,
     "metadata": {},
     "output_type": "execute_result"
    },
    {
     "data": {
      "image/png": "[encoded data removed]",
      "text/plain": [
       "<Figure size 432x288 with 1 Axes>"
      ]
     },
     "metadata": {
      "needs_background": "light"
     },
     "output_type": "display_data"
    }
   ],
   "source": [
    "# 대출자 나이 분포 age\n",
    "plt.hist(loans2['age'])"
   ]
  },
  {
   "cell_type": "code",
   "execution_count": 27,
   "id": "6206014f-d059-425f-9e90-2f0eac968468",
   "metadata": {},
   "outputs": [
    {
     "data": {
      "text/plain": [
       "<AxesSubplot:xlabel='age', ylabel='Density'>"
      ]
     },
     "execution_count": 27,
     "metadata": {},
     "output_type": "execute_result"
    },
    {
     "data": {
      "image/png": "[encoded data removed]",
      "text/plain": [
       "<Figure size 432x288 with 1 Axes>"
      ]
     },
     "metadata": {
      "needs_background": "light"
     },
     "output_type": "display_data"
    }
   ],
   "source": [
    "sns.kdeplot(data=loans2, x='age')"
   ]
  },
  {
   "cell_type": "code",
   "execution_count": 28,
   "id": "6c8f0aaf-bf4e-43d6-b0a3-5367aae5cfa3",
   "metadata": {},
   "outputs": [
    {
     "name": "stdout",
     "output_type": "stream",
     "text": [
      "+-------------+-----+\n",
      "|yearly_salary|count|\n",
      "+-------------+-----+\n",
      "|            0| 3874|\n",
      "|          100|    4|\n",
      "|          200|    8|\n",
      "|          300|   15|\n",
      "|          400|    6|\n",
      "|          500|   14|\n",
      "|          600|   10|\n",
      "|          700|   10|\n",
      "|          800|   10|\n",
      "|          900|    7|\n",
      "|         1000|   12|\n",
      "|         1100|    9|\n",
      "|         1200|    7|\n",
      "|         1300|   10|\n",
      "|         1400|    6|\n",
      "|         1500|   10|\n",
      "|         1600|   14|\n",
      "|         1700|    6|\n",
      "|         1800|   11|\n",
      "|         1900|    8|\n",
      "+-------------+-----+\n",
      "only showing top 20 rows\n",
      "\n"
     ]
    },
    {
     "data": {
      "text/plain": [
       "<AxesSubplot:xlabel='yearly_salary', ylabel='Density'>"
      ]
     },
     "execution_count": 28,
     "metadata": {},
     "output_type": "execute_result"
    },
    {
     "data": {
      "image/png": "[encoded data removed]",
      "text/plain": [
       "<Figure size 432x288 with 1 Axes>"
      ]
     },
     "metadata": {
      "needs_background": "light"
     },
     "output_type": "display_data"
    }
   ],
   "source": [
    "# 대출자 급여 분포 yearly_salary\n",
    "loans.groupBy('yearly_salary').count().orderBy('yearly_salary').show()\n",
    "sns.kdeplot(data=loans2, x='yearly_salary')"
   ]
  },
  {
   "cell_type": "code",
   "execution_count": 29,
   "id": "544245b0-b86d-4c5b-b136-87448ab53072",
   "metadata": {},
   "outputs": [
    {
     "name": "stdout",
     "output_type": "stream",
     "text": [
      "+-------------+-----+\n",
      "|saving_amount|count|\n",
      "+-------------+-----+\n",
      "|            0|    2|\n",
      "|            1|    1|\n",
      "|            2|   10|\n",
      "|            3|    5|\n",
      "|            4|    5|\n",
      "|            5|    5|\n",
      "|            6|    3|\n",
      "|            7|    3|\n",
      "|            8|    5|\n",
      "|            9|    7|\n",
      "|           10|    8|\n",
      "|           11|    8|\n",
      "|           12|    6|\n",
      "|           13|    3|\n",
      "|           14|    5|\n",
      "|           15|    7|\n",
      "|           16|    5|\n",
      "|           17|    6|\n",
      "|           18|    7|\n",
      "|           19|    6|\n",
      "+-------------+-----+\n",
      "only showing top 20 rows\n",
      "\n"
     ]
    },
    {
     "data": {
      "text/plain": [
       "<AxesSubplot:xlabel='saving_amount', ylabel='Density'>"
      ]
     },
     "execution_count": 29,
     "metadata": {},
     "output_type": "execute_result"
    },
    {
     "data": {
      "image/png": "[encoded data removed]",
      "text/plain": [
       "<Figure size 432x288 with 1 Axes>"
      ]
     },
     "metadata": {
      "needs_background": "light"
     },
     "output_type": "display_data"
    }
   ],
   "source": [
    "# 대출자 저축금액 분포 saving_amount\n",
    "loans.groupBy('saving_amount').count().orderBy('saving_amount').show()\n",
    "sns.kdeplot(data=loans2, x='saving_amount')"
   ]
  },
  {
   "cell_type": "markdown",
   "id": "f1e82acf-d9d6-431b-b831-127701436351",
   "metadata": {},
   "source": [
    "### 대출여부 종속변수는 범주형이므로 분석방법은 분류를 이용\n",
    "-> 로지스틱 회귀, 의사결정나무, 랜덤포레스트, 앙상블"
   ]
  },
  {
   "cell_type": "code",
   "execution_count": 30,
   "id": "465ae54c-855d-4d53-8bd0-ebb0653ab6e3",
   "metadata": {},
   "outputs": [
    {
     "name": "stdout",
     "output_type": "stream",
     "text": [
      "+-------+------------+-------------+-----------------------+-----------------------------------------------+-------------+---------------+-----------+-------------+---+----------------+-----+\n",
      "|loan_id|loan_purpose|is_first_loan|total_credit_card_limit|avg_percentage_credit_card_limit_used_last_year|saving_amount|checking_amount|is_employed|yearly_salary|age|dependent_number|label|\n",
      "+-------+------------+-------------+-----------------------+-----------------------------------------------+-------------+---------------+-----------+-------------+---+----------------+-----+\n",
      "|    A_1|    personal|            1|                   7900|                                            0.8|         1103|           6393|          1|        16400| 42|               4|    0|\n",
      "|    A_2|    personal|            0|                   3300|                                           0.29|         2588|            832|          1|        75500| 56|               1|    0|\n",
      "|    A_3|    personal|            0|                   7600|                                            0.9|         1651|           8868|          1|        59000| 46|               1|    0|\n",
      "|    A_4|    personal|            1|                   3400|                                           0.38|         1269|           6863|          1|        26000| 55|               8|    0|\n",
      "|    A_5|   emergency|            0|                   2600|                                           0.89|         1310|           3423|          1|         9700| 41|               4|    1|\n",
      "+-------+------------+-------------+-----------------------+-----------------------------------------------+-------------+---------------+-----------+-------------+---+----------------+-----+\n",
      "only showing top 5 rows\n",
      "\n"
     ]
    }
   ],
   "source": [
    "loans.show(5)"
   ]
  },
  {
   "cell_type": "code",
   "execution_count": 31,
   "id": "baa70e4a-5b1e-4641-8c2d-cd8c8ddc47b8",
   "metadata": {},
   "outputs": [
    {
     "name": "stdout",
     "output_type": "stream",
     "text": [
      "<class 'pandas.core.frame.DataFrame'>\n",
      "RangeIndex: 46751 entries, 0 to 46750\n",
      "Data columns (total 12 columns):\n",
      " #   Column                                           Non-Null Count  Dtype  \n",
      "---  ------                                           --------------  -----  \n",
      " 0   loan_id                                          46751 non-null  object \n",
      " 1   loan_purpose                                     46751 non-null  object \n",
      " 2   is_first_loan                                    46751 non-null  int32  \n",
      " 3   total_credit_card_limit                          46751 non-null  int32  \n",
      " 4   avg_percentage_credit_card_limit_used_last_year  46751 non-null  float64\n",
      " 5   saving_amount                                    46751 non-null  int32  \n",
      " 6   checking_amount                                  46751 non-null  int32  \n",
      " 7   is_employed                                      46751 non-null  int32  \n",
      " 8   yearly_salary                                    46751 non-null  int32  \n",
      " 9   age                                              46751 non-null  int32  \n",
      " 10  dependent_number                                 46751 non-null  int32  \n",
      " 11  label                                            46751 non-null  int32  \n",
      "dtypes: float64(1), int32(9), object(2)\n",
      "memory usage: 2.7+ MB\n"
     ]
    }
   ],
   "source": [
    "# 결측치 여부 확인\n",
    "loans2.info()"
   ]
  },
  {
   "cell_type": "code",
   "execution_count": 32,
   "id": "72e14f60-a0e6-4882-be3d-d4510489fc84",
   "metadata": {},
   "outputs": [
    {
     "data": {
      "text/plain": [
       "<AxesSubplot:>"
      ]
     },
     "execution_count": 32,
     "metadata": {},
     "output_type": "execute_result"
    },
    {
     "data": {
      "image/png": "[encoded data removed]",
      "text/plain": [
       "<Figure size 432x288 with 1 Axes>"
      ]
     },
     "metadata": {
      "needs_background": "light"
     },
     "output_type": "display_data"
    }
   ],
   "source": [
    "# 이상치 여부 확인\n",
    "loans2.boxplot(column=['saving_amount','yearly_salary','avg_percentage_credit_card_limit_used_last_year'])"
   ]
  },
  {
   "cell_type": "markdown",
   "id": "7178d1e4-96f0-4068-ae9a-fc4198c9cdcd",
   "metadata": {},
   "source": [
    "### 레이블 인코딩\n",
    "- one, two, three 등의 데이터를 레이블 인코딩 하면?\n",
    "    - 0 : one, 1 : three, 2 : two\n",
    "\n",
    "### 원핫인코딩 : 레이블인코딩의 단점 보완\n",
    "+ one, two, three 등의 데이터를 레이블 인코딩 하면?\n",
    "    + one   two   three </br>\n",
    "      1     0      0    : one </br>\n",
    "      0     1      0    : two </br>\n",
    "      0     0      1    : three </br>\n",
    "      최종적으로 만들어진 코드 : 100, 010, 001"
   ]
  },
  {
   "cell_type": "code",
   "execution_count": 33,
   "id": "01115e59-85f1-431f-b243-37c2b41bb3c8",
   "metadata": {},
   "outputs": [
    {
     "name": "stdout",
     "output_type": "stream",
     "text": [
      "+------------+------+\n",
      "|loan_purpose|lp_idx|\n",
      "+------------+------+\n",
      "|    personal|   2.0|\n",
      "|    personal|   2.0|\n",
      "|    personal|   2.0|\n",
      "|    personal|   2.0|\n",
      "|   emergency|   3.0|\n",
      "+------------+------+\n",
      "only showing top 5 rows\n",
      "\n"
     ]
    }
   ],
   "source": [
    "# 범주형 변수를 수치형으로 변경\n",
    "from pyspark.ml.feature import OneHotEncoder, StringIndexer\n",
    "\n",
    "# 문자형 변수의 값을 숫자형으로 변환하기 위해 레이블 인코딩 수행\n",
    "# StringIndexer(입력컬럼, 대상컬럼).fit(데이터프레임)\n",
    "lp_idx = StringIndexer(inputCol='loan_purpose', outputCol='lp_idx').fit(loans)\n",
    "\n",
    "# 레이블 인코딩 결과를 이용해서 대출목적 컬럼의 값을 숫자형으로 변경\n",
    "loan_idx = lp_idx.transform(loans)\n",
    "loan_idx.select('loan_purpose','lp_idx').show(5)"
   ]
  },
  {
   "cell_type": "code",
   "execution_count": 34,
   "id": "cc0b9ebd-89c0-4fb1-baa3-bd224edc454e",
   "metadata": {},
   "outputs": [
    {
     "name": "stdout",
     "output_type": "stream",
     "text": [
      "+------------+------+-------------+\n",
      "|loan_purpose|lp_idx|       lp_ohe|\n",
      "+------------+------+-------------+\n",
      "|    personal|   2.0|(4,[2],[1.0])|\n",
      "|    personal|   2.0|(4,[2],[1.0])|\n",
      "|    personal|   2.0|(4,[2],[1.0])|\n",
      "|    personal|   2.0|(4,[2],[1.0])|\n",
      "|   emergency|   3.0|(4,[3],[1.0])|\n",
      "+------------+------+-------------+\n",
      "only showing top 5 rows\n",
      "\n"
     ]
    }
   ],
   "source": [
    "# 분류 분석을 위해 원핫인코딩으로 변환\n",
    "lp_ohe = OneHotEncoder(inputCol='lp_idx', outputCol='lp_ohe')\n",
    "loan_ohe = lp_ohe.transform(loan_idx)\n",
    "loan_ohe.select('loan_purpose','lp_idx','lp_ohe').show(5)"
   ]
  },
  {
   "cell_type": "code",
   "execution_count": 35,
   "id": "e0892b2e-bbd2-4444-8828-f6ddb651b1f9",
   "metadata": {},
   "outputs": [
    {
     "name": "stdout",
     "output_type": "stream",
     "text": [
      "+--------------------------------------------------------------------+-----+\n",
      "|features                                                            |label|\n",
      "+--------------------------------------------------------------------+-----+\n",
      "|[0.0,0.0,1.0,0.0,1.0,7900.0,0.8,1103.0,6393.0,1.0,16400.0,42.0,4.0] |0    |\n",
      "|[0.0,0.0,1.0,0.0,0.0,3300.0,0.29,2588.0,832.0,1.0,75500.0,56.0,1.0] |0    |\n",
      "|[0.0,0.0,1.0,0.0,0.0,7600.0,0.9,1651.0,8868.0,1.0,59000.0,46.0,1.0] |0    |\n",
      "|[0.0,0.0,1.0,0.0,1.0,3400.0,0.38,1269.0,6863.0,1.0,26000.0,55.0,8.0]|0    |\n",
      "|[0.0,0.0,0.0,1.0,0.0,2600.0,0.89,1310.0,3423.0,1.0,9700.0,41.0,4.0] |1    |\n",
      "+--------------------------------------------------------------------+-----+\n",
      "only showing top 5 rows\n",
      "\n"
     ]
    }
   ],
   "source": [
    "# 독립변수와 종속변수를 하나로 묶음\n",
    "from pyspark.ml.feature import VectorAssembler\n",
    "\n",
    "vdf = VectorAssembler(inputCols=['lp_ohe', 'is_first_loan', 'total_credit_card_limit', 'avg_percentage_credit_card_limit_used_last_year', 'saving_amount', 'checking_amount', \n",
    "                                 'is_employed', 'yearly_salary', 'age', 'dependent_number'], outputCol='features')\n",
    "loans = vdf.transform(loan_ohe)\n",
    "loans.select('features', 'label').show(5, False)"
   ]
  },
  {
   "cell_type": "code",
   "execution_count": 36,
   "id": "b5a56b38-2afe-424c-ba0b-94830e722831",
   "metadata": {},
   "outputs": [
    {
     "name": "stdout",
     "output_type": "stream",
     "text": [
      "+--------------------+-----+\n",
      "|            features|label|\n",
      "+--------------------+-----+\n",
      "|[0.0,0.0,1.0,0.0,...|    0|\n",
      "|[0.0,0.0,1.0,0.0,...|    0|\n",
      "|[0.0,0.0,1.0,0.0,...|    0|\n",
      "|[0.0,0.0,1.0,0.0,...|    0|\n",
      "|[0.0,0.0,0.0,1.0,...|    1|\n",
      "+--------------------+-----+\n",
      "only showing top 5 rows\n",
      "\n"
     ]
    }
   ],
   "source": [
    "# 분석을 위해 독립변수와 종속변수를 추출해서 새로운 변수 생성\n",
    "model_df = loans.select('features', 'label')\n",
    "model_df.show(5)"
   ]
  },
  {
   "cell_type": "code",
   "execution_count": 37,
   "id": "751c0e93-178a-4395-a41f-3e74c130233a",
   "metadata": {},
   "outputs": [],
   "source": [
    "# train, test로 분리\n",
    "train, test = model_df.randomSplit([0.75, 0.25])"
   ]
  },
  {
   "cell_type": "code",
   "execution_count": 38,
   "id": "516ce94e-ba4e-4602-b45f-2c2e3fbea1e9",
   "metadata": {},
   "outputs": [],
   "source": [
    "# 모델 훈련\n",
    "from pyspark.ml.classification import LogisticRegression"
   ]
  },
  {
   "cell_type": "code",
   "execution_count": 39,
   "id": "190baf8a-0a7b-4948-b476-6ddf0f532366",
   "metadata": {},
   "outputs": [
    {
     "name": "stderr",
     "output_type": "stream",
     "text": [
      "21/11/06 09:43:06 WARN BLAS: Failed to load implementation from: com.github.fommil.netlib.NativeSystemBLAS\n",
      "21/11/06 09:43:06 WARN BLAS: Failed to load implementation from: com.github.fommil.netlib.NativeRefBLAS\n"
     ]
    },
    {
     "data": {
      "text/plain": [
       "0.9586663539986789"
      ]
     },
     "execution_count": 39,
     "metadata": {},
     "output_type": "execute_result"
    }
   ],
   "source": [
    "lg = LogisticRegression().fit(train)\n",
    "trainmodel = lg.summary\n",
    "\n",
    "trainmodel.accuracy             # 정확도\n",
    "trainmodel.precisionByLabel     # 정밀도\n",
    "trainmodel.recallByLabel        # 재현율\n",
    "trainmodel.areaUnderROC         # AUC값"
   ]
  },
  {
   "cell_type": "code",
   "execution_count": 40,
   "id": "c5742ec0-ff5f-4a62-92b3-a5ae5d4fd241",
   "metadata": {},
   "outputs": [
    {
     "name": "stdout",
     "output_type": "stream",
     "text": [
      "+---------------------------------------------------------------+-----+------------------------------------------+-----------------------------------------+----------+\n",
      "|features                                                       |label|rawPrediction                             |probability                              |prediction|\n",
      "+---------------------------------------------------------------+-----+------------------------------------------+-----------------------------------------+----------+\n",
      "|(13,[0,4,5,6,7,8,11],[1.0,1.0,2500.0,0.82,965.0,1463.0,45.0])  |1    |[-4.203233119856469,4.203233119856469]    |[0.014727044931089815,0.9852729550689101]|1.0       |\n",
      "|(13,[0,4,5,6,7,8,11],[1.0,1.0,2700.0,0.49,1802.0,526.0,66.0])  |1    |[-2.7849842612470783,2.7849842612470783]  |[0.05814101236232216,0.9418589876376778] |1.0       |\n",
      "|(13,[0,4,5,6,7,8,11],[1.0,1.0,5400.0,0.89,1524.0,3482.0,45.0]) |0    |[-0.24972682138362945,0.24972682138362945]|[0.43789073882403357,0.5621092611759664] |1.0       |\n",
      "|(13,[0,4,5,6,7,8,11],[1.0,1.0,6100.0,0.4,4549.0,1959.0,28.0])  |0    |[4.614715982621531,-4.614715982621531]    |[0.9901921505133199,0.009807849486680056]|0.0       |\n",
      "|(13,[0,4,5,6,7,8,11],[1.0,1.0,6400.0,0.93,1340.0,2843.0,39.0]) |0    |[-0.6709328434698643,0.6709328434698643]  |[0.33828799301763696,0.661712006982363]  |1.0       |\n",
      "|(13,[0,4,5,6,7,8,11],[1.0,1.0,6400.0,0.94,3377.0,6218.0,34.0]) |0    |[5.345072161133764,-5.345072161133764]    |[0.9952510532386297,0.004748946761370386]|0.0       |\n",
      "|(13,[0,5,6,7,8,11],[1.0,3800.0,0.81,1152.0,1322.0,68.0])       |1    |[-3.3582917018469693,3.3582917018469693]  |[0.033624688636269794,0.9663753113637302]|1.0       |\n",
      "|(13,[0,5,6,7,8,11],[1.0,4200.0,0.76,461.0,2232.0,59.0])        |1    |[-3.295642823525656,3.295642823525656]    |[0.03572096890172326,0.9642790310982767] |1.0       |\n",
      "|(13,[0,5,6,7,8,11,12],[1.0,1000.0,0.55,1507.0,1061.0,34.0,6.0])|1    |[-4.528483947146729,4.528483947146729]    |[0.010681701860366556,0.9893182981396335]|1.0       |\n",
      "|(13,[0,5,6,7,8,11,12],[1.0,1200.0,0.61,2062.0,499.0,30.0,4.0]) |1    |[-4.011367057101463,4.011367057101463]    |[0.017786533166804848,0.9822134668331952]|1.0       |\n",
      "+---------------------------------------------------------------+-----+------------------------------------------+-----------------------------------------+----------+\n",
      "only showing top 10 rows\n",
      "\n"
     ]
    },
    {
     "data": {
      "text/plain": [
       "0.9596654173689515"
      ]
     },
     "execution_count": 40,
     "metadata": {},
     "output_type": "execute_result"
    }
   ],
   "source": [
    "# 모델 예측 \n",
    "pred = lg.transform(test)\n",
    "pred.show(10, False)\t#예측결과 확인\n",
    "\n",
    "pred = lg.evaluate(test)\n",
    "\n",
    "pred.accuracy\n",
    "pred.precisionByLabel\n",
    "pred.recallByLabel\n",
    "pred.areaUnderROC"
   ]
  },
  {
   "cell_type": "code",
   "execution_count": 41,
   "id": "544ec9c5-52e6-4e75-a47b-ebc1a4f23063",
   "metadata": {},
   "outputs": [],
   "source": [
    "# 오차 행렬 confusion matrix\n",
    "pred = lg.transform(test)\n",
    "y_true = pred.select(['label']).collect()\n",
    "y_pred = pred.select(['prediction']).collect()"
   ]
  },
  {
   "cell_type": "code",
   "execution_count": 42,
   "id": "9e37cdaa-0d62-4941-982d-b397471ecdad",
   "metadata": {},
   "outputs": [
    {
     "data": {
      "text/plain": [
       "array([[6991,  651],\n",
       "       [ 554, 3562]])"
      ]
     },
     "execution_count": 42,
     "metadata": {},
     "output_type": "execute_result"
    }
   ],
   "source": [
    "from sklearn.metrics import confusion_matrix\n",
    "confusion_matrix(y_true, y_pred)"
   ]
  }
 ],
 "metadata": {
  "kernelspec": {
   "display_name": "Python 3 (ipykernel)",
   "language": "python",
   "name": "python3"
  },
  "language_info": {
   "codemirror_mode": {
    "name": "ipython",
    "version": 3
   },
   "file_extension": ".py",
   "mimetype": "text/x-python",
   "name": "python",
   "nbconvert_exporter": "python",
   "pygments_lexer": "ipython3",
   "version": "3.7.10"
  }
 },
 "nbformat": 4,
 "nbformat_minor": 5
}
