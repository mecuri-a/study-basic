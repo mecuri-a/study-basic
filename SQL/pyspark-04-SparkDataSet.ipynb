{
 "cells": [
  {
   "cell_type": "markdown",
   "id": "b40c1937-5af5-4145-bce3-6c676c1cdb69",
   "metadata": {},
   "source": [
    "### Join\n",
    "+ 여러 테이블을 연결해서 데이터를 검색하는 것\n",
    "+ 테이블을 결합기준은 각 테이블에 존재하는 공통 속성임\n",
    "+ 결합 유형 : inner join, outer join, self join\n",
    "+ 데이터객체명.join(조인대상, 조인조건, 조인유형)"
   ]
  },
  {
   "cell_type": "code",
   "execution_count": 1,
   "id": "11d2a8d2-d47a-4f34-af2b-f3b37bdb46d3",
   "metadata": {},
   "outputs": [
    {
     "name": "stdout",
     "output_type": "stream",
     "text": [
      "+-----------+----------+---------+--------+------------+-------------------+-------+------+--------------+----------+-------------+\n",
      "|EMPLOYEE_ID|FIRST_NAME|LAST_NAME|   EMAIL|PHONE_NUMBER|          HIRE_DATE| JOB_ID|SALARY|COMMISSION_PCT|MANAGER_ID|DEPARTMENT_ID|\n",
      "+-----------+----------+---------+--------+------------+-------------------+-------+------+--------------+----------+-------------+\n",
      "|        100|    Steven|     King|   SKING|515.123.4567|2003-06-17 00:00:00|AD_PRES| 24000|          null|      null|           90|\n",
      "|        101|     Neena|  Kochhar|NKOCHHAR|515.123.4568|2005-09-21 00:00:00|  AD_VP| 17000|          null|       100|           90|\n",
      "|        102|       Lex|  De Haan| LDEHAAN|515.123.4569|2001-01-13 00:00:00|  AD_VP| 17000|          null|       100|           90|\n",
      "|        103| Alexander|   Hunold| AHUNOLD|590.423.4567|2006-01-03 00:00:00|IT_PROG|  9000|          null|       102|           60|\n",
      "|        104|     Bruce|    Ernst|  BERNST|590.423.4568|2007-05-21 00:00:00|IT_PROG|  6000|          null|       103|           60|\n",
      "+-----------+----------+---------+--------+------------+-------------------+-------+------+--------------+----------+-------------+\n",
      "only showing top 5 rows\n",
      "\n"
     ]
    }
   ],
   "source": [
    "emp = spark.read.csv('csv/employees.csv', header=True, inferSchema=True)\n",
    "emp.show(5)"
   ]
  },
  {
   "cell_type": "code",
   "execution_count": 2,
   "id": "df6f9a05-ae5a-4ce3-8964-6214088dab59",
   "metadata": {},
   "outputs": [
    {
     "name": "stdout",
     "output_type": "stream",
     "text": [
      "+-------------+---------------+----------+-----------+\n",
      "|DEPARTMENT_ID|DEPARTMENT_NAME|MANAGER_ID|LOCATION_ID|\n",
      "+-------------+---------------+----------+-----------+\n",
      "|           10| Administration|       200|       1700|\n",
      "|           20|      Marketing|       201|       1800|\n",
      "|           30|     Purchasing|       114|       1700|\n",
      "|           40|Human Resources|       203|       2400|\n",
      "|           50|       Shipping|       121|       1500|\n",
      "+-------------+---------------+----------+-----------+\n",
      "only showing top 5 rows\n",
      "\n"
     ]
    }
   ],
   "source": [
    "dept = spark.read.csv('csv/departments.csv', header=True, inferSchema=True)\n",
    "dept.show(5)"
   ]
  },
  {
   "cell_type": "code",
   "execution_count": 3,
   "id": "b6f3012f-73d9-49ff-99dc-828c6c41c01d",
   "metadata": {},
   "outputs": [
    {
     "name": "stdout",
     "output_type": "stream",
     "text": [
      "+-----------+----------+---------+--------+------------+-------------------+-------+------+--------------+----------+-------------+-------------+---------------+----------+-----------+\n",
      "|EMPLOYEE_ID|FIRST_NAME|LAST_NAME|   EMAIL|PHONE_NUMBER|          HIRE_DATE| JOB_ID|SALARY|COMMISSION_PCT|MANAGER_ID|DEPARTMENT_ID|DEPARTMENT_ID|DEPARTMENT_NAME|MANAGER_ID|LOCATION_ID|\n",
      "+-----------+----------+---------+--------+------------+-------------------+-------+------+--------------+----------+-------------+-------------+---------------+----------+-----------+\n",
      "|        100|    Steven|     King|   SKING|515.123.4567|2003-06-17 00:00:00|AD_PRES| 24000|          null|      null|           90|           90|      Executive|       100|       1700|\n",
      "|        101|     Neena|  Kochhar|NKOCHHAR|515.123.4568|2005-09-21 00:00:00|  AD_VP| 17000|          null|       100|           90|           90|      Executive|       100|       1700|\n",
      "|        102|       Lex|  De Haan| LDEHAAN|515.123.4569|2001-01-13 00:00:00|  AD_VP| 17000|          null|       100|           90|           90|      Executive|       100|       1700|\n",
      "|        103| Alexander|   Hunold| AHUNOLD|590.423.4567|2006-01-03 00:00:00|IT_PROG|  9000|          null|       102|           60|           60|             IT|       103|       1400|\n",
      "|        104|     Bruce|    Ernst|  BERNST|590.423.4568|2007-05-21 00:00:00|IT_PROG|  6000|          null|       103|           60|           60|             IT|       103|       1400|\n",
      "+-----------+----------+---------+--------+------------+-------------------+-------+------+--------------+----------+-------------+-------------+---------------+----------+-----------+\n",
      "only showing top 5 rows\n",
      "\n"
     ]
    }
   ],
   "source": [
    "# 내부조인: 공통속성명이 다를 경우\n",
    "join_condition = emp.DEPARTMENT_ID == dept.DEPARTMENT_ID\n",
    "empdept = emp.join(dept, join_condition, 'inner')\n",
    "empdept.show(5)"
   ]
  },
  {
   "cell_type": "code",
   "execution_count": 4,
   "id": "2e962960-95ea-433c-9cf9-4008e8e61fb8",
   "metadata": {},
   "outputs": [
    {
     "name": "stdout",
     "output_type": "stream",
     "text": [
      "+-------------+-----------+----------+---------+--------+------------+-------------------+-------+------+--------------+----------+---------------+----------+-----------+\n",
      "|DEPARTMENT_ID|EMPLOYEE_ID|FIRST_NAME|LAST_NAME|   EMAIL|PHONE_NUMBER|          HIRE_DATE| JOB_ID|SALARY|COMMISSION_PCT|MANAGER_ID|DEPARTMENT_NAME|MANAGER_ID|LOCATION_ID|\n",
      "+-------------+-----------+----------+---------+--------+------------+-------------------+-------+------+--------------+----------+---------------+----------+-----------+\n",
      "|           90|        100|    Steven|     King|   SKING|515.123.4567|2003-06-17 00:00:00|AD_PRES| 24000|          null|      null|      Executive|       100|       1700|\n",
      "|           90|        101|     Neena|  Kochhar|NKOCHHAR|515.123.4568|2005-09-21 00:00:00|  AD_VP| 17000|          null|       100|      Executive|       100|       1700|\n",
      "|           90|        102|       Lex|  De Haan| LDEHAAN|515.123.4569|2001-01-13 00:00:00|  AD_VP| 17000|          null|       100|      Executive|       100|       1700|\n",
      "|           60|        103| Alexander|   Hunold| AHUNOLD|590.423.4567|2006-01-03 00:00:00|IT_PROG|  9000|          null|       102|             IT|       103|       1400|\n",
      "|           60|        104|     Bruce|    Ernst|  BERNST|590.423.4568|2007-05-21 00:00:00|IT_PROG|  6000|          null|       103|             IT|       103|       1400|\n",
      "+-------------+-----------+----------+---------+--------+------------+-------------------+-------+------+--------------+----------+---------------+----------+-----------+\n",
      "only showing top 5 rows\n",
      "\n"
     ]
    }
   ],
   "source": [
    "# 내부조인: 공통속성명이 동일한 경우\n",
    "empdept = emp.join(dept, 'DEPARTMENT_ID', 'inner')\n",
    "empdept.show(5)"
   ]
  },
  {
   "cell_type": "code",
   "execution_count": 5,
   "id": "e6abdb62-7941-4bd9-ac85-6c0893d34af4",
   "metadata": {},
   "outputs": [
    {
     "name": "stdout",
     "output_type": "stream",
     "text": [
      "+----------+---------------+\n",
      "|FIRST_NAME|DEPARTMENT_NAME|\n",
      "+----------+---------------+\n",
      "|    Steven|      Executive|\n",
      "|     Neena|      Executive|\n",
      "|       Lex|      Executive|\n",
      "| Alexander|             IT|\n",
      "|     Bruce|             IT|\n",
      "+----------+---------------+\n",
      "only showing top 5 rows\n",
      "\n"
     ]
    }
   ],
   "source": [
    "# 사원의 이름과 부서명을 조회하세요\n",
    "empdept.select('FIRST_NAME','DEPARTMENT_NAME').show(5)"
   ]
  },
  {
   "cell_type": "code",
   "execution_count": 6,
   "id": "cdb3329e-b618-4a52-af4d-e23e543d96cd",
   "metadata": {},
   "outputs": [
    {
     "name": "stdout",
     "output_type": "stream",
     "text": [
      "+-------------+-----------+----------+---------+------+------------------+-------------------+------+------+--------------+----------+------------------+----------+-----------+\n",
      "|DEPARTMENT_ID|EMPLOYEE_ID|FIRST_NAME|LAST_NAME| EMAIL|      PHONE_NUMBER|          HIRE_DATE|JOB_ID|SALARY|COMMISSION_PCT|MANAGER_ID|   DEPARTMENT_NAME|MANAGER_ID|LOCATION_ID|\n",
      "+-------------+-----------+----------+---------+------+------------------+-------------------+------+------+--------------+----------+------------------+----------+-----------+\n",
      "|          210|       null|      null|     null|  null|              null|               null|  null|  null|          null|      null|        IT Support|      null|       1700|\n",
      "|          230|       null|      null|     null|  null|              null|               null|  null|  null|          null|      null|       IT Helpdesk|      null|       1700|\n",
      "|          190|       null|      null|     null|  null|              null|               null|  null|  null|          null|      null|       Contracting|      null|       1700|\n",
      "|          140|       null|      null|     null|  null|              null|               null|  null|  null|          null|      null|Control And Credit|      null|       1700|\n",
      "|         null|        178| Kimberely|    Grant|KGRANT|011.44.1644.429263|2007-05-24 00:00:00|SA_REP|  7000|          0.15|       149|              null|      null|       null|\n",
      "+-------------+-----------+----------+---------+------+------------------+-------------------+------+------+--------------+----------+------------------+----------+-----------+\n",
      "only showing top 5 rows\n",
      "\n"
     ]
    },
    {
     "name": "stderr",
     "output_type": "stream",
     "text": [
      "                                                                                \r"
     ]
    }
   ],
   "source": [
    "# 외부조인\n",
    "empdept2 = emp.join(dept, 'DEPARTMENT_ID', 'outer')\n",
    "empdept2.show(5)"
   ]
  },
  {
   "cell_type": "code",
   "execution_count": 7,
   "id": "169241e6-cfb8-4c38-ae35-431f8a5431e0",
   "metadata": {},
   "outputs": [
    {
     "name": "stdout",
     "output_type": "stream",
     "text": [
      "+-------------+--------------------+\n",
      "|DEPARTMENT_ID|     DEPARTMENT_NAME|\n",
      "+-------------+--------------------+\n",
      "|          210|          IT Support|\n",
      "|          230|         IT Helpdesk|\n",
      "|          190|         Contracting|\n",
      "|          140|  Control And Credit|\n",
      "|          250|        Retail Sales|\n",
      "|          120|            Treasury|\n",
      "|          220|                 NOC|\n",
      "|          130|       Corporate Tax|\n",
      "|          240|    Government Sales|\n",
      "|          160|            Benefits|\n",
      "|          200|          Operations|\n",
      "|          170|       Manufacturing|\n",
      "|          150|Shareholder Services|\n",
      "|          260|          Recruiting|\n",
      "|          270|             Payroll|\n",
      "|          180|        Construction|\n",
      "+-------------+--------------------+\n",
      "\n"
     ]
    }
   ],
   "source": [
    "# 사원이 한명도 없는 부서를 조회하세요\n",
    "empdept2.filter(empdept2.FIRST_NAME.isNull()).select('DEPARTMENT_ID','DEPARTMENT_NAME').show()"
   ]
  },
  {
   "cell_type": "code",
   "execution_count": 8,
   "id": "0def325a-2cc1-441c-9f38-4922f33dac10",
   "metadata": {},
   "outputs": [
    {
     "name": "stdout",
     "output_type": "stream",
     "text": [
      "+----------+---------+\n",
      "|FIRST_NAME|LAST_NAME|\n",
      "+----------+---------+\n",
      "| Kimberely|    Grant|\n",
      "+----------+---------+\n",
      "\n"
     ]
    }
   ],
   "source": [
    "# 부서에 소속되지 않은 사원을 조회하세요\n",
    "empdept2.filter(empdept2.DEPARTMENT_ID.isNull()).select('FIRST_NAME', 'LAST_NAME').show()"
   ]
  },
  {
   "cell_type": "markdown",
   "id": "a3fac047-8ff2-4a06-af68-cc29f0f0ad73",
   "metadata": {},
   "source": [
    "### 다른거"
   ]
  },
  {
   "cell_type": "code",
   "execution_count": 9,
   "id": "d7d22739-5a4b-4f59-ad95-0966f708d7be",
   "metadata": {},
   "outputs": [],
   "source": [
    "customers = spark.read.csv('csv/Customers.csv',header=True, inferSchema=True)\n",
    "orders = spark.read.csv('csv/Orders.csv',header=True, inferSchema=True)\n",
    "products = spark.read.csv('csv/Products.csv',header=True, inferSchema=True)"
   ]
  },
  {
   "cell_type": "code",
   "execution_count": 10,
   "id": "951cb036-6bcf-47c4-8a19-04a24d45d6e4",
   "metadata": {},
   "outputs": [
    {
     "name": "stdout",
     "output_type": "stream",
     "text": [
      "+--------+-----+\n",
      "|prodname|price|\n",
      "+--------+-----+\n",
      "|매운쫄면| 5500|\n",
      "|쿵떡파이| 2600|\n",
      "+--------+-----+\n",
      "\n"
     ]
    }
   ],
   "source": [
    "# 당근 carrot 고객이 주문한 상품의 가격은 무엇인지 조회하세요\n",
    "prododr = orders.join(products, 'prodid','inner')\n",
    "prododr.filter(prododr.userid == 'carrot').select('prodname','price').show()"
   ]
  },
  {
   "cell_type": "code",
   "execution_count": 11,
   "id": "b7661de1-0f01-4cbf-9b98-b9f1284a742e",
   "metadata": {},
   "outputs": [
    {
     "name": "stdout",
     "output_type": "stream",
     "text": [
      "+------+------+------+\n",
      "|userid|  name| grade|\n",
      "+------+------+------+\n",
      "|orange|김용욱|silver|\n",
      "| peach|오형준|silver|\n",
      "+------+------+------+\n",
      "\n"
     ]
    }
   ],
   "source": [
    "# 주문을 한번도 하지 않는 고객의 이름. 등급을 조회하세요\n",
    "custodr = orders.join(customers, 'userid','right_outer')\n",
    "custodr.filter(custodr.orderid.isNull()).select('userid','name','grade').show()"
   ]
  },
  {
   "cell_type": "code",
   "execution_count": 12,
   "id": "941b9f40-c92b-4305-adc8-09fa55140ee9",
   "metadata": {},
   "outputs": [
    {
     "name": "stdout",
     "output_type": "stream",
     "text": [
      "+----------+--------+\n",
      "|  prodname|   maker|\n",
      "+----------+--------+\n",
      "|  얼큰라면|대한식품|\n",
      "|달콤비스켓|한빛제과|\n",
      "+----------+--------+\n",
      "\n"
     ]
    }
   ],
   "source": [
    "# 주문이 한번도 하지 않는 고객이름, 제조업체를 조회하세요.\n",
    "prododr2 = orders.join(products, 'prodid','right_outer')\n",
    "prododr2.filter(prododr2.orderid.isNull()).select('prodname','maker').show()"
   ]
  },
  {
   "cell_type": "markdown",
   "id": "212d6ee9-fbc0-43d3-af26-b6a4c39e0d4e",
   "metadata": {},
   "source": [
    "### 각 사원들의 상사(사번과 이름)을 조회하세요.\n",
    "### 같은 이름의 테이블을 경합해서 원하는 데이터를 조회하는것"
   ]
  },
  {
   "cell_type": "code",
   "execution_count": 13,
   "id": "44e86e60-08b8-40b3-bb11-b27baeebcecd",
   "metadata": {},
   "outputs": [
    {
     "name": "stdout",
     "output_type": "stream",
     "text": [
      "+-----------+----------+---------+--------+------------+-------------------+-------+------+--------------+----------+-------------+-----------+----------+---------+-------+------------+-------------------+-------+------+--------------+----------+-------------+\n",
      "|EMPLOYEE_ID|FIRST_NAME|LAST_NAME|   EMAIL|PHONE_NUMBER|          HIRE_DATE| JOB_ID|SALARY|COMMISSION_PCT|MANAGER_ID|DEPARTMENT_ID|EMPLOYEE_ID|FIRST_NAME|LAST_NAME|  EMAIL|PHONE_NUMBER|          HIRE_DATE| JOB_ID|SALARY|COMMISSION_PCT|MANAGER_ID|DEPARTMENT_ID|\n",
      "+-----------+----------+---------+--------+------------+-------------------+-------+------+--------------+----------+-------------+-----------+----------+---------+-------+------------+-------------------+-------+------+--------------+----------+-------------+\n",
      "|        101|     Neena|  Kochhar|NKOCHHAR|515.123.4568|2005-09-21 00:00:00|  AD_VP| 17000|          null|       100|           90|        100|    Steven|     King|  SKING|515.123.4567|2003-06-17 00:00:00|AD_PRES| 24000|          null|      null|           90|\n",
      "|        102|       Lex|  De Haan| LDEHAAN|515.123.4569|2001-01-13 00:00:00|  AD_VP| 17000|          null|       100|           90|        100|    Steven|     King|  SKING|515.123.4567|2003-06-17 00:00:00|AD_PRES| 24000|          null|      null|           90|\n",
      "|        103| Alexander|   Hunold| AHUNOLD|590.423.4567|2006-01-03 00:00:00|IT_PROG|  9000|          null|       102|           60|        102|       Lex|  De Haan|LDEHAAN|515.123.4569|2001-01-13 00:00:00|  AD_VP| 17000|          null|       100|           90|\n",
      "|        104|     Bruce|    Ernst|  BERNST|590.423.4568|2007-05-21 00:00:00|IT_PROG|  6000|          null|       103|           60|        103| Alexander|   Hunold|AHUNOLD|590.423.4567|2006-01-03 00:00:00|IT_PROG|  9000|          null|       102|           60|\n",
      "|        105|     David|   Austin| DAUSTIN|590.423.4569|2005-06-25 00:00:00|IT_PROG|  4800|          null|       103|           60|        103| Alexander|   Hunold|AHUNOLD|590.423.4567|2006-01-03 00:00:00|IT_PROG|  9000|          null|       102|           60|\n",
      "+-----------+----------+---------+--------+------------+-------------------+-------+------+--------------+----------+-------------+-----------+----------+---------+-------+------------+-------------------+-------+------+--------------+----------+-------------+\n",
      "only showing top 5 rows\n",
      "\n"
     ]
    }
   ],
   "source": [
    "from pyspark.sql.functions import col\n",
    "emp = spark.read.csv('csv/employees.csv', header=True, inferSchema=True)\n",
    "\n",
    "empmgr = emp.alias('emp').join(emp.alias('mgr'),col('emp.MANAGER_ID') == col('mgr.EMPLOYEE_ID'),'inner')\n",
    "empmgr.show(5)"
   ]
  },
  {
   "cell_type": "code",
   "execution_count": 14,
   "id": "98eec694-350a-470f-8d4c-ba43cdc4dcb2",
   "metadata": {},
   "outputs": [
    {
     "name": "stdout",
     "output_type": "stream",
     "text": [
      "+-----------+-----------+-----------+----------+\n",
      "|EMPLOYEE_ID| FIRST_NAME|EMPLOYEE_ID|FIRST_NAME|\n",
      "+-----------+-----------+-----------+----------+\n",
      "|        101|      Neena|        100|    Steven|\n",
      "|        102|        Lex|        100|    Steven|\n",
      "|        103|  Alexander|        102|       Lex|\n",
      "|        104|      Bruce|        103| Alexander|\n",
      "|        105|      David|        103| Alexander|\n",
      "|        106|      Valli|        103| Alexander|\n",
      "|        107|      Diana|        103| Alexander|\n",
      "|        108|      Nancy|        101|     Neena|\n",
      "|        109|     Daniel|        108|     Nancy|\n",
      "|        110|       John|        108|     Nancy|\n",
      "|        111|     Ismael|        108|     Nancy|\n",
      "|        112|Jose Manuel|        108|     Nancy|\n",
      "|        113|       Luis|        108|     Nancy|\n",
      "|        114|        Den|        100|    Steven|\n",
      "|        115|  Alexander|        114|       Den|\n",
      "|        116|     Shelli|        114|       Den|\n",
      "|        117|      Sigal|        114|       Den|\n",
      "|        118|        Guy|        114|       Den|\n",
      "|        119|      Karen|        114|       Den|\n",
      "|        120|    Matthew|        100|    Steven|\n",
      "+-----------+-----------+-----------+----------+\n",
      "only showing top 20 rows\n",
      "\n"
     ]
    }
   ],
   "source": [
    "empmgr.select('emp.EMPLOYEE_ID' , 'emp.FIRST_NAME' , 'mgr.EMPLOYEE_ID','mgr.FIRST_NAME').show()"
   ]
  },
  {
   "cell_type": "markdown",
   "id": "086b8d15-44b1-4ffd-b429-447b273190b8",
   "metadata": {},
   "source": [
    "### Spark SQL\n",
    "- 스파크 데이터프레임에 저장된 데이터들을 SQL 문법을 이용해서 탐색할 수 있도록 해줌\n",
    "- spark.sql() 함수 사용\n",
    "- OLTP 보다는 OLAP 처리에 적합"
   ]
  },
  {
   "cell_type": "code",
   "execution_count": 15,
   "id": "e85b3669-9a2d-4247-b8b0-06dd6911e9ef",
   "metadata": {},
   "outputs": [],
   "source": [
    "# 스파크 SQL을 위한 스파크 세션 생성\n",
    "spark = SparkSession.builder.master('app').appName('sparkSQL').getOrCreate()"
   ]
  },
  {
   "cell_type": "code",
   "execution_count": 16,
   "id": "34f74446-2fc0-4a62-8bb4-5b73c1437abd",
   "metadata": {},
   "outputs": [],
   "source": [
    "# SQL 사용을 위한 View 객체 생성\n",
    "EMP = emp.createOrReplaceTempView(\"EMP\")"
   ]
  },
  {
   "cell_type": "code",
   "execution_count": 17,
   "id": "968299a2-2464-4c44-90d6-1455a74eb25b",
   "metadata": {},
   "outputs": [
    {
     "name": "stdout",
     "output_type": "stream",
     "text": [
      "+----------+---------+\n",
      "|FIRST_NAME|LAST_NAME|\n",
      "+----------+---------+\n",
      "|    Steven|     King|\n",
      "|     Neena|  Kochhar|\n",
      "|       Lex|  De Haan|\n",
      "| Alexander|   Hunold|\n",
      "|     Bruce|    Ernst|\n",
      "+----------+---------+\n",
      "only showing top 5 rows\n",
      "\n"
     ]
    },
    {
     "name": "stderr",
     "output_type": "stream",
     "text": [
      "21/11/06 09:34:35 WARN ObjectStore: Failed to get database global_temp, returning NoSuchObjectException\n"
     ]
    }
   ],
   "source": [
    "# sql 함수를 이용해서 SQL 질의문 실행하고 결과 출력\n",
    "spark.sql('select FIRST_NAME, LAST_NAME from EMP').show(5)"
   ]
  },
  {
   "cell_type": "markdown",
   "id": "44ae3237-9e21-4ee9-96cc-fe439fa0c952",
   "metadata": {},
   "source": [
    "### Spark_DSL_SQL"
   ]
  },
  {
   "cell_type": "code",
   "execution_count": 18,
   "id": "ba0ef941-4192-4181-9654-daf58afce367",
   "metadata": {},
   "outputs": [],
   "source": [
    "customers = spark.read.csv('csv/Customers.csv',header=True, inferSchema=True)\n",
    "orders = spark.read.csv('csv/Orders.csv',header=True, inferSchema=True)\n",
    "products = spark.read.csv('csv/Products.csv',header=True, inferSchema=True)"
   ]
  },
  {
   "cell_type": "code",
   "execution_count": 19,
   "id": "aff2c483-87c1-4975-87f5-200b2169c33a",
   "metadata": {},
   "outputs": [],
   "source": [
    "spark = SparkSession.builder.master('app').appName('sparkSQL').getOrCreate()"
   ]
  },
  {
   "cell_type": "code",
   "execution_count": 20,
   "id": "4ce56d45-c3d3-4896-bd80-bba5a05917c4",
   "metadata": {},
   "outputs": [],
   "source": [
    "# View 로 줄이기\n",
    "cust = customers.createOrReplaceTempView(\"cust\")\n",
    "orde = orders.createOrReplaceTempView(\"orde\")\n",
    "prod = products.createOrReplaceTempView(\"prod\")"
   ]
  },
  {
   "cell_type": "code",
   "execution_count": 21,
   "id": "6403fa5a-0e6a-40dc-b4ea-cbe779e3fc05",
   "metadata": {},
   "outputs": [],
   "source": [
    "# Join 설정\n",
    "## customers + orders\n",
    "custorder = customers.join(orders, 'userid', 'inner')\n",
    "## orders + products\n",
    "oderprod = orders.join(products,'prodid','inner')\n",
    "## customers + orders + products\n",
    "custordeprod = custorder.join(products, 'prodid', 'inner')\n",
    "\n",
    "# View 설정\n",
    "cuor = custorder.createOrReplaceTempView(\"cuor\")\n",
    "orpr = oderprod.createOrReplaceTempView(\"orpr\")\n",
    "cuorpr = custordeprod.createOrReplaceTempView(\"cuorpr\")"
   ]
  },
  {
   "cell_type": "markdown",
   "id": "6cc9a5ae-db19-41a4-b1c0-0b6f2a80d617",
   "metadata": {},
   "source": [
    "### SQL 사용하는 View\n",
    "+ create view 뷰이름 as SQL질의문\n",
    " - create view prodorder as select * from products p inner join orders o using(prodid);\n",
    " - select * form prodorder;"
   ]
  },
  {
   "cell_type": "markdown",
   "id": "3fc03539-2b5f-4049-8faf-79f3e0e5800c",
   "metadata": {},
   "source": [
    "### 예제"
   ]
  },
  {
   "cell_type": "code",
   "execution_count": 22,
   "id": "c874aa6c-a955-4175-8b04-a0d62c7c8849",
   "metadata": {},
   "outputs": [
    {
     "name": "stdout",
     "output_type": "stream",
     "text": [
      "+------+------+---+-----+------+-----+\n",
      "|userid|  name|age|grade|   job|coins|\n",
      "+------+------+---+-----+------+-----+\n",
      "|banana|김선우| 25|  vip|간호사| 2500|\n",
      "+------+------+---+-----+------+-----+\n",
      "\n"
     ]
    }
   ],
   "source": [
    "# 판매 데이터베이스에서 banana 고객이 주문한 제품의 이름을 검색해 보자\n",
    "spark.sql('select * from cust where userid = \"banana\"').show()"
   ]
  },
  {
   "cell_type": "code",
   "execution_count": 23,
   "id": "151afd86-b30a-4aed-acac-03dc93fddaa5",
   "metadata": {},
   "outputs": [
    {
     "name": "stdout",
     "output_type": "stream",
     "text": [
      "+------+------+---+----------+--------+\n",
      "|userid|  name|age|  oderdate|prodname|\n",
      "+------+------+---+----------+--------+\n",
      "| melon|성원용| 35|2013-01-10|그냥만두|\n",
      "| melon|성원용| 35|2013-02-20|통통우동|\n",
      "|  pear|채광주| 31|2013-04-10|매운쫄면|\n",
      "+------+------+---+----------+--------+\n",
      "\n"
     ]
    }
   ],
   "source": [
    "# 판매 데이터베이스에서 나이가 30세 이상인 고객이 주문한 제품의 주문제품과 주문일자를 검색해 보자\n",
    "sql = \"\"\" select userid, name, age, substring(orddate,0,10) oderdate, prodname from cust c inner join orde o using(userid) inner join prod p using(prodid) where age >= 30 \"\"\"\n",
    "spark.sql(sql).show()"
   ]
  },
  {
   "cell_type": "code",
   "execution_count": 24,
   "id": "fb405c60-222d-4787-afaf-112d16f6d0f1",
   "metadata": {},
   "outputs": [
    {
     "name": "stdout",
     "output_type": "stream",
     "text": [
      "+------+------+---+----------+--------+\n",
      "|userid|  name|age|  oderdate|prodname|\n",
      "+------+------+---+----------+--------+\n",
      "| melon|성원용| 35|2013-01-10|그냥만두|\n",
      "| melon|성원용| 35|2013-02-20|통통우동|\n",
      "|  pear|채광주| 31|2013-04-10|매운쫄면|\n",
      "+------+------+---+----------+--------+\n",
      "\n"
     ]
    }
   ],
   "source": [
    "sql = \"\"\" select userid, name, age, substring(orddate,0,10) oderdate, prodname from cuorpr where age >= 30 \"\"\"\n",
    "spark.sql(sql).show()"
   ]
  },
  {
   "cell_type": "code",
   "execution_count": 25,
   "id": "520d1328-ef48-45f2-b854-62134ff872dc",
   "metadata": {},
   "outputs": [
    {
     "name": "stdout",
     "output_type": "stream",
     "text": [
      "+------+------+-------------------+--------+\n",
      "|userid|  name|            orddate|prodname|\n",
      "+------+------+-------------------+--------+\n",
      "|carrot|고명석|2013-02-01 00:00:00|매운쫄면|\n",
      "|carrot|고명석|2013-05-22 00:00:00|쿵떡파이|\n",
      "+------+------+-------------------+--------+\n",
      "\n"
     ]
    }
   ],
   "source": [
    "#판매 데이터베이스 에서 고명석 고객이 주문한 제품의 제품명을 검색해보자\n",
    "sql = \"\"\" select o.userid, c.name, o.orddate, p.prodname from prod p inner join orde o using(prodid) inner join cust c using(userid) where c.name='고명석' \"\"\"\n",
    "spark.sql(sql).show()"
   ]
  },
  {
   "cell_type": "code",
   "execution_count": 26,
   "id": "bd75d2a1-caf4-4fff-86fd-7f621aeb1682",
   "metadata": {},
   "outputs": [
    {
     "name": "stdout",
     "output_type": "stream",
     "text": [
      "+------+------+-------------------+--------+\n",
      "|userid|  name|            orddate|prodname|\n",
      "+------+------+-------------------+--------+\n",
      "|carrot|고명석|2013-02-01 00:00:00|매운쫄면|\n",
      "|carrot|고명석|2013-05-22 00:00:00|쿵떡파이|\n",
      "+------+------+-------------------+--------+\n",
      "\n"
     ]
    }
   ],
   "source": [
    "sql = \"\"\" select userid, name, orddate, prodname from cuorpr where name='고명석' \"\"\"\n",
    "spark.sql(sql).show()"
   ]
  },
  {
   "cell_type": "markdown",
   "id": "fdc5ebcf-17e9-4912-8210-031ee586963c",
   "metadata": {},
   "source": [
    "### 평균(avg), 합계(sum), count, groupBy sum"
   ]
  },
  {
   "cell_type": "code",
   "execution_count": 27,
   "id": "e8818e86-46a4-49f1-9a3c-99a4b7471eac",
   "metadata": {},
   "outputs": [
    {
     "name": "stdout",
     "output_type": "stream",
     "text": [
      "+---------+\n",
      "|avg price|\n",
      "+---------+\n",
      "|  2764.29|\n",
      "+---------+\n",
      "\n"
     ]
    }
   ],
   "source": [
    "from pyspark.sql.functions import round,avg,sum\n",
    "products.select( round(avg(products.price),2).alias('avg price')).show()"
   ]
  },
  {
   "cell_type": "code",
   "execution_count": 28,
   "id": "a8f50f48-8b9f-41c3-b929-3a197535ba76",
   "metadata": {},
   "outputs": [
    {
     "name": "stdout",
     "output_type": "stream",
     "text": [
      "+--------+\n",
      "|avgprice|\n",
      "+--------+\n",
      "| 2764.29|\n",
      "+--------+\n",
      "\n"
     ]
    }
   ],
   "source": [
    "sql = \"\"\" select round(avg(price),2) avgprice from prod \"\"\"\n",
    "spark.sql(sql).show()"
   ]
  },
  {
   "cell_type": "code",
   "execution_count": 29,
   "id": "1b5b1511-ae4b-4962-9955-b5708926653e",
   "metadata": {},
   "outputs": [
    {
     "name": "stdout",
     "output_type": "stream",
     "text": [
      "+----------+\n",
      "|sum(stock)|\n",
      "+----------+\n",
      "|      6500|\n",
      "+----------+\n",
      "\n"
     ]
    }
   ],
   "source": [
    "products.filter(products.maker == '한빛제과').select(sum(products.stock)).show()"
   ]
  },
  {
   "cell_type": "code",
   "execution_count": 30,
   "id": "9ea22740-55c0-4f7c-b0e6-79076342129d",
   "metadata": {},
   "outputs": [
    {
     "name": "stdout",
     "output_type": "stream",
     "text": [
      "+--------+\n",
      "|allstock|\n",
      "+--------+\n",
      "|    6500|\n",
      "+--------+\n",
      "\n"
     ]
    }
   ],
   "source": [
    "sql = \"\"\" select sum(stock) allstock from prod where maker='한빛제과' \"\"\"\n",
    "spark.sql(sql).show()"
   ]
  },
  {
   "cell_type": "code",
   "execution_count": 31,
   "id": "49ba96e3-be5e-4115-83d0-70db5d898232",
   "metadata": {},
   "outputs": [],
   "source": [
    "from pyspark.sql.functions import count, col, countDistinct"
   ]
  },
  {
   "cell_type": "code",
   "execution_count": 32,
   "id": "cf6fdba2-9166-4995-adb4-d71798039574",
   "metadata": {},
   "outputs": [
    {
     "name": "stdout",
     "output_type": "stream",
     "text": [
      "+---+\n",
      "|cnt|\n",
      "+---+\n",
      "|  7|\n",
      "+---+\n",
      "\n"
     ]
    }
   ],
   "source": [
    "customers.select(count(col('name')).alias('cnt')).show()"
   ]
  },
  {
   "cell_type": "code",
   "execution_count": 33,
   "id": "102f07d0-b5c0-4a73-8c0e-32844d7320c3",
   "metadata": {},
   "outputs": [
    {
     "name": "stdout",
     "output_type": "stream",
     "text": [
      "+---+\n",
      "|cnt|\n",
      "+---+\n",
      "|  7|\n",
      "+---+\n",
      "\n"
     ]
    }
   ],
   "source": [
    "sql = \"\"\" select count('name') cnt from cust \"\"\"\n",
    "spark.sql(sql).show()"
   ]
  },
  {
   "cell_type": "code",
   "execution_count": 34,
   "id": "a94a8f83-6773-4b7e-8efb-60ae295afc52",
   "metadata": {},
   "outputs": [
    {
     "name": "stderr",
     "output_type": "stream",
     "text": [
      "                                                                                \r"
     ]
    },
    {
     "data": {
      "text/plain": [
       "3"
      ]
     },
     "execution_count": 34,
     "metadata": {},
     "output_type": "execute_result"
    }
   ],
   "source": [
    "products.select(col('maker')).distinct().count()"
   ]
  },
  {
   "cell_type": "code",
   "execution_count": 35,
   "id": "943ea47d-93ba-4495-9f48-b2c8d60ee10b",
   "metadata": {},
   "outputs": [
    {
     "name": "stdout",
     "output_type": "stream",
     "text": [
      "+---+\n",
      "|cnt|\n",
      "+---+\n",
      "|  3|\n",
      "+---+\n",
      "\n"
     ]
    },
    {
     "name": "stderr",
     "output_type": "stream",
     "text": [
      "                                                                                \r"
     ]
    }
   ],
   "source": [
    "sql = \"\"\" select count(distinct maker) cnt from prod \"\"\"\n",
    "spark.sql(sql).show()"
   ]
  },
  {
   "cell_type": "code",
   "execution_count": 36,
   "id": "7f1c2a44-6f5f-4e0f-90f3-790469d21a37",
   "metadata": {},
   "outputs": [
    {
     "name": "stdout",
     "output_type": "stream",
     "text": [
      "+------+-----------+\n",
      "|prodid|sum(amount)|\n",
      "+------+-----------+\n",
      "|   p01|         24|\n",
      "|   p02|         58|\n",
      "|   p03|         52|\n",
      "|   p04|         15|\n",
      "|   p06|         81|\n",
      "+------+-----------+\n",
      "\n"
     ]
    }
   ],
   "source": [
    "## 주문 제품별 주문 합계\n",
    "orders.groupBy('prodid').agg(sum('amount')).orderBy('prodid').show()"
   ]
  },
  {
   "cell_type": "code",
   "execution_count": 37,
   "id": "236fda3a-4c03-4fae-b539-8c962a75255e",
   "metadata": {},
   "outputs": [
    {
     "name": "stdout",
     "output_type": "stream",
     "text": [
      "+------+-----------+\n",
      "|prodid|sum(amount)|\n",
      "+------+-----------+\n",
      "|   p01|         24|\n",
      "|   p02|         58|\n",
      "|   p03|         52|\n",
      "|   p04|         15|\n",
      "|   p06|         81|\n",
      "+------+-----------+\n",
      "\n"
     ]
    }
   ],
   "source": [
    "sql = \"\"\" select prodid,sum(amount) from orde group by prodid order by prodid \"\"\"\n",
    "spark.sql(sql).show()"
   ]
  }
 ],
 "metadata": {
  "kernelspec": {
   "display_name": "Python 3 (ipykernel)",
   "language": "python",
   "name": "python3"
  },
  "language_info": {
   "codemirror_mode": {
    "name": "ipython",
    "version": 3
   },
   "file_extension": ".py",
   "mimetype": "text/x-python",
   "name": "python",
   "nbconvert_exporter": "python",
   "pygments_lexer": "ipython3",
   "version": "3.7.10"
  }
 },
 "nbformat": 4,
 "nbformat_minor": 5
}
