{
 "cells": [
  {
   "cell_type": "code",
   "execution_count": 1,
   "id": "d49e30db-4499-4ae7-885c-5b45f7c40ac0",
   "metadata": {},
   "outputs": [],
   "source": [
    "import numpy as np\n",
    "import pandas as pd\n",
    "import matplotlib.pyplot as plt\n",
    "import sklearn\n",
    "\n",
    "from sklearn.linear_model import LogisticRegression\n",
    "from sklearn.tree import DecisionTreeClassifier\n",
    "from sklearn.metrics import accuracy_score\n",
    "from sklearn.ensemble import RandomForestClassifier\n",
    "from sklearn.neighbors import KNeighborsClassifier\n",
    "from sklearn.model_selection import train_test_split\n",
    "from sklearn.model_selection import cross_val_score\n",
    "\n",
    "from sklearn.base import BaseEstimator\n",
    "\n",
    "from sklearn.metrics import confusion_matrix\n",
    "from sklearn.metrics import classification_report"
   ]
  },
  {
   "cell_type": "markdown",
   "id": "e98df367-d2c8-4e19-a171-2e260711d6db",
   "metadata": {},
   "source": [
    "### 머신러닝 모델 평가\n",
    "+ 일반적으로 머신러닝은\n",
    "    - 데이터가공/변환(전처리)\n",
    "    - 모델 학습/예측\n",
    "    - 평가의 과정을 거침\n",
    "+ 앞의 타이타닉분석에서 모델의 평가는 정확도만 사용함\n",
    "+ 한편, 머신러닝의 예측성능의 평가방법은\n",
    "    - 회귀 : R^2, MSE평균제곱오차\n",
    "    - 분류 : 오차행렬, ROC, AUC, F1스코어, 크로스엔트로피, 최대우도"
   ]
  },
  {
   "cell_type": "markdown",
   "id": "67f22df2-0e8f-4c0b-a977-fb28d9506c54",
   "metadata": {},
   "source": [
    "### 정확도의 함정\n",
    "+ 탐색적 분석 시행시 성별 기준 생존비율은 여성이 더 높음\n",
    "+ 따라서, 굳이 ML알고리즘을 적용하지 않아도 성별이 여성일 경우 생존, 남성일 경우 사망이라고 예측해도 크게 무리가 없음\n",
    "+ 즉, 단순히 성별 조건 하나만 적용해도 별거 아닌 알고리즘으로도 높은 정확도가 나타나는 상황 발생"
   ]
  },
  {
   "cell_type": "code",
   "execution_count": 2,
   "id": "5c5cf5a4-a2d0-4996-ae29-87d30c0c21ea",
   "metadata": {},
   "outputs": [],
   "source": [
    "# BaseEstimator 클래스를 상속받아 가짜 분류기 생성\n",
    "\n",
    "class DummyClassifier(BaseEstimator):\n",
    "    def fit(self, X, y=None):\n",
    "        pass\n",
    "    \"\"\"\n",
    "    성별이 1(남자)이면 사망(0)\n",
    "    성별이 0(여자)이면 생존(1)이라고\n",
    "    예측하는 predict메서드 정의 \"\"\"\n",
    "    def predict(self, X):\n",
    "        # 입력데이터 크기만큼 0으로 채워진 1차원 행렬 생성\n",
    "        pred = np.zeros((X.shape[0], 1))\n",
    "        # 성별이 여성이라면 무족건 생존이라 예측\n",
    "        for i in range(X.shape[0]):\n",
    "            if X['sex'].iloc[i] != 1:\n",
    "                pred[i] = 1\n",
    "        return pred\n",
    "    "
   ]
  },
  {
   "cell_type": "code",
   "execution_count": 3,
   "id": "149bbcbd-bb47-463a-9768-0a523632df48",
   "metadata": {},
   "outputs": [],
   "source": [
    "titanic = pd.read_csv('csv/titanic2.csv')\n",
    "titanic['sex'] = titanic['sex'].apply(lambda x: 0 if x == 'female' else 1)"
   ]
  },
  {
   "cell_type": "code",
   "execution_count": 4,
   "id": "56ec64ff-69b5-4996-a592-e54c264f025c",
   "metadata": {},
   "outputs": [],
   "source": [
    "data = titanic.iloc[:, [0, 3,4, 5, 6, 8]]\n",
    "target = titanic.survived\n",
    "Xtrain, Xtest, ytrain, ytest = train_test_split(data, target, train_size=0.7, random_state=2111041205)"
   ]
  },
  {
   "cell_type": "code",
   "execution_count": 5,
   "id": "13d7acaf-2a87-4894-adc9-6c8c7eb712e9",
   "metadata": {},
   "outputs": [
    {
     "data": {
      "text/plain": [
       "0.798469387755102"
      ]
     },
     "execution_count": 5,
     "metadata": {},
     "output_type": "execute_result"
    }
   ],
   "source": [
    "myclf = DummyClassifier()\n",
    "myclf.fit(Xtrain, ytrain)\n",
    "pred = myclf.predict(Xtest)\n",
    "accuracy_score(pred,ytest)"
   ]
  },
  {
   "cell_type": "markdown",
   "id": "c5746b9c-5ac1-43ec-b737-33e4c84041a3",
   "metadata": {},
   "source": [
    "+ 따라서, 불균형한 레이블 데이터셋트의 성능수치로 정확도를 평가지표로 사용해서는 안됨\n",
    "    - 이러한 한계를 극복하기 위해 오차행렬을 사용\n",
    "    - 특히 분류모델에서는 정확도보다 정밀도/재현율을 더 선호"
   ]
  },
  {
   "cell_type": "code",
   "execution_count": 6,
   "id": "e4fd9311-8d7c-4b5c-8b23-f0167a288eb7",
   "metadata": {},
   "outputs": [
    {
     "data": {
      "text/plain": [
       "array([[202,  36],\n",
       "       [ 43, 111]])"
      ]
     },
     "execution_count": 6,
     "metadata": {},
     "output_type": "execute_result"
    }
   ],
   "source": [
    "confusion_matrix(pred, ytest)"
   ]
  },
  {
   "cell_type": "code",
   "execution_count": 7,
   "id": "a10e9ab2-94a1-4b30-bd1b-2fe95110005c",
   "metadata": {},
   "outputs": [
    {
     "name": "stdout",
     "output_type": "stream",
     "text": [
      "              precision    recall  f1-score   support\n",
      "\n",
      "         0.0       0.82      0.85      0.84       238\n",
      "         1.0       0.76      0.72      0.74       154\n",
      "\n",
      "    accuracy                           0.80       392\n",
      "   macro avg       0.79      0.78      0.79       392\n",
      "weighted avg       0.80      0.80      0.80       392\n",
      "\n"
     ]
    }
   ],
   "source": [
    "print(classification_report(pred, ytest))"
   ]
  },
  {
   "cell_type": "markdown",
   "id": "bc87647e-be37-4e9f-b679-a7b692e71df6",
   "metadata": {},
   "source": [
    "![nn](jpg/CM.jpg)"
   ]
  },
  {
   "cell_type": "markdown",
   "id": "28cad346-d6a0-4651-b332-d1c23c92d9f2",
   "metadata": {},
   "source": [
    "### iris 데이터셋을 이용해서 로지스틱 회귀모델로 분석한 후 오차행렬과 정밀도/재현율 등을 확인해보세요."
   ]
  },
  {
   "cell_type": "code",
   "execution_count": 8,
   "id": "79285bd8-5cd3-4199-be2a-2db8d50763a7",
   "metadata": {},
   "outputs": [],
   "source": [
    "from sklearn.datasets import load_iris\n",
    "iris = load_iris()\n",
    "Xtrain, Xtest, ytrain, ytest = train_test_split(iris.data, iris.target, train_size=0.7, stratify=iris.target, random_state=2111041255)"
   ]
  },
  {
   "cell_type": "code",
   "execution_count": 9,
   "id": "e28e79f7-db26-44b5-b809-384839caaf9e",
   "metadata": {},
   "outputs": [
    {
     "data": {
      "text/plain": [
       "0.9777777777777777"
      ]
     },
     "execution_count": 9,
     "metadata": {},
     "output_type": "execute_result"
    }
   ],
   "source": [
    "lrclf = LogisticRegression()\n",
    "lrclf.fit(Xtrain, ytrain)\n",
    "pred = lrclf.predict(Xtest)\n",
    "accuracy_score(pred,ytest)"
   ]
  },
  {
   "cell_type": "code",
   "execution_count": 10,
   "id": "413e95d9-dac3-480b-abd9-43a41172c9b0",
   "metadata": {},
   "outputs": [
    {
     "data": {
      "text/plain": [
       "array([[15,  0,  0],\n",
       "       [ 0, 14,  0],\n",
       "       [ 0,  1, 15]])"
      ]
     },
     "execution_count": 10,
     "metadata": {},
     "output_type": "execute_result"
    }
   ],
   "source": [
    "confusion_matrix(pred, ytest)"
   ]
  },
  {
   "cell_type": "code",
   "execution_count": 11,
   "id": "6b860147-1638-40b9-8efc-752ea859c1a5",
   "metadata": {},
   "outputs": [
    {
     "name": "stdout",
     "output_type": "stream",
     "text": [
      "              precision    recall  f1-score   support\n",
      "\n",
      "           0       1.00      1.00      1.00        15\n",
      "           1       0.93      1.00      0.97        14\n",
      "           2       1.00      0.94      0.97        16\n",
      "\n",
      "    accuracy                           0.98        45\n",
      "   macro avg       0.98      0.98      0.98        45\n",
      "weighted avg       0.98      0.98      0.98        45\n",
      "\n"
     ]
    }
   ],
   "source": [
    "print(classification_report(pred, ytest))"
   ]
  },
  {
   "cell_type": "markdown",
   "id": "5ad5e725-210f-4ad6-b763-fa6aa09bb391",
   "metadata": {},
   "source": [
    "### 정확도\n",
    "+ 맞는 것을 맞다고, 틀린것을 틀리다고 올바르게 예측한 것\n",
    "+ $ accuacry = \\frac{TP+TN}{TP+TN+FP+FN} $\n",
    "+ 오차행렬에서 대각선 방향"
   ]
  },
  {
   "cell_type": "code",
   "execution_count": 12,
   "id": "bbbdc234-e6e9-4880-b2e7-6c8f7b07f0e2",
   "metadata": {},
   "outputs": [
    {
     "data": {
      "text/plain": [
       "0.798469387755102"
      ]
     },
     "execution_count": 12,
     "metadata": {},
     "output_type": "execute_result"
    }
   ],
   "source": [
    "# 타이타닉 분석결과의 오차행렬 정확도 계산\n",
    "(202+111) / (202+36+43+111)"
   ]
  },
  {
   "cell_type": "markdown",
   "id": "3ec0ca03-5bdf-414f-b91e-cdeb59cbaa03",
   "metadata": {},
   "source": [
    "### 정밀도\n",
    "+ 모델의 예측값이 얼마나 올바른지 알아보는 지표\n",
    "+ 양성으로 예측한 것 중에서 실제로 양성인 것은 얼마나 존재하나?\n",
    "+ $ precision = \\frac {TP} {TP+FP} $"
   ]
  },
  {
   "cell_type": "code",
   "execution_count": 13,
   "id": "af0ffa9b-32ae-4025-87ef-7822091f936b",
   "metadata": {},
   "outputs": [
    {
     "data": {
      "text/plain": [
       "0.8244897959183674"
      ]
     },
     "execution_count": 13,
     "metadata": {},
     "output_type": "execute_result"
    }
   ],
   "source": [
    "202 / (202+43)"
   ]
  },
  {
   "cell_type": "markdown",
   "id": "cd76a7e2-0e0f-45ef-af3c-19091011af71",
   "metadata": {},
   "source": [
    "### 6마리의 동물형상 중 개p/고양이n를 맞추는 게임을 진행\n",
    "### 정답 = [개     개     개 고양이 개     고양이]\n",
    "### 예측 = [개     고양이 개 고양이 개     개    ]\n",
    "\n",
    "+ 정확도는?  4 / 6 = 0.67 (개를 개라고, 고양이를 고양이라고 예측)\n",
    "+ 정밀도는?  3 / 4 = 0.75 (개라고 예측한 것 중에서 실제 개인 비율)\n",
    "+ 재현율는?  3 / 4 = 0.75 (실제 개중에서 내가 개라고 예측한 것)"
   ]
  },
  {
   "cell_type": "code",
   "execution_count": 14,
   "id": "6730018e-1bb5-4ea0-800d-876cdcf86c6b",
   "metadata": {},
   "outputs": [
    {
     "data": {
      "text/plain": [
       "'\\n오차행렬은?\\n            p  n  (predict)\\n           \\n(actual) p  3  1\\n\\n         n  1  1'"
      ]
     },
     "execution_count": 14,
     "metadata": {},
     "output_type": "execute_result"
    }
   ],
   "source": [
    "\"\"\"\n",
    "오차행렬은?\n",
    "            p  n  (predict)\n",
    "           \n",
    "(actual) p  3  1\n",
    "\n",
    "         n  1  1\"\"\""
   ]
  },
  {
   "cell_type": "markdown",
   "id": "5290d096-6dbd-4f13-b40c-d1966a04ff83",
   "metadata": {},
   "source": [
    "### 178개의 와인샘플을 13개의 여러 화학적 성분에 근거해\n",
    "+ 3가지 등급으로 분류한 wine 데이터셋을 이용해서 logistic regression으로 분석하고 오차행렬과 정밀도/재현율, F1스코어등을 확인해보세요"
   ]
  },
  {
   "cell_type": "code",
   "execution_count": 15,
   "id": "40071817-f520-4bc4-b1fa-e02dd37c12ee",
   "metadata": {},
   "outputs": [
    {
     "name": "stdout",
     "output_type": "stream",
     "text": [
      ".. _wine_dataset:\n",
      "\n",
      "Wine recognition dataset\n",
      "------------------------\n",
      "\n",
      "**Data Set Characteristics:**\n",
      "\n",
      "    :Number of Instances: 178 (50 in each of three classes)\n",
      "    :Number of Attributes: 13 numeric, predictive attributes and the class\n",
      "    :Attribute Information:\n",
      " \t\t- Alcohol\n",
      " \t\t- Malic acid\n",
      " \t\t- Ash\n",
      "\t\t- Alcalinity of ash  \n",
      " \t\t- Magnesium\n",
      "\t\t- Total phenols\n",
      " \t\t- Flavanoids\n",
      " \t\t- Nonflavanoid phenols\n",
      " \t\t- Proanthocyanins\n",
      "\t\t- Color intensity\n",
      " \t\t- Hue\n",
      " \t\t- OD280/OD315 of diluted wines\n",
      " \t\t- Proline\n",
      "\n",
      "    - class:\n",
      "            - class_0\n",
      "            - class_1\n",
      "            - class_2\n",
      "\t\t\n",
      "    :Summary Statistics:\n",
      "    \n",
      "    ============================= ==== ===== ======= =====\n",
      "                                   Min   Max   Mean     SD\n",
      "    ============================= ==== ===== ======= =====\n",
      "    Alcohol:                      11.0  14.8    13.0   0.8\n",
      "    Malic Acid:                   0.74  5.80    2.34  1.12\n",
      "    Ash:                          1.36  3.23    2.36  0.27\n",
      "    Alcalinity of Ash:            10.6  30.0    19.5   3.3\n",
      "    Magnesium:                    70.0 162.0    99.7  14.3\n",
      "    Total Phenols:                0.98  3.88    2.29  0.63\n",
      "    Flavanoids:                   0.34  5.08    2.03  1.00\n",
      "    Nonflavanoid Phenols:         0.13  0.66    0.36  0.12\n",
      "    Proanthocyanins:              0.41  3.58    1.59  0.57\n",
      "    Colour Intensity:              1.3  13.0     5.1   2.3\n",
      "    Hue:                          0.48  1.71    0.96  0.23\n",
      "    OD280/OD315 of diluted wines: 1.27  4.00    2.61  0.71\n",
      "    Proline:                       278  1680     746   315\n",
      "    ============================= ==== ===== ======= =====\n",
      "\n",
      "    :Missing Attribute Values: None\n",
      "    :Class Distribution: class_0 (59), class_1 (71), class_2 (48)\n",
      "    :Creator: R.A. Fisher\n",
      "    :Donor: Michael Marshall (MARSHALL%PLU@io.arc.nasa.gov)\n",
      "    :Date: July, 1988\n",
      "\n",
      "This is a copy of UCI ML Wine recognition datasets.\n",
      "https://archive.ics.uci.edu/ml/machine-learning-databases/wine/wine.data\n",
      "\n",
      "The data is the results of a chemical analysis of wines grown in the same\n",
      "region in Italy by three different cultivators. There are thirteen different\n",
      "measurements taken for different constituents found in the three types of\n",
      "wine.\n",
      "\n",
      "Original Owners: \n",
      "\n",
      "Forina, M. et al, PARVUS - \n",
      "An Extendible Package for Data Exploration, Classification and Correlation. \n",
      "Institute of Pharmaceutical and Food Analysis and Technologies,\n",
      "Via Brigata Salerno, 16147 Genoa, Italy.\n",
      "\n",
      "Citation:\n",
      "\n",
      "Lichman, M. (2013). UCI Machine Learning Repository\n",
      "[https://archive.ics.uci.edu/ml]. Irvine, CA: University of California,\n",
      "School of Information and Computer Science. \n",
      "\n",
      ".. topic:: References\n",
      "\n",
      "  (1) S. Aeberhard, D. Coomans and O. de Vel, \n",
      "  Comparison of Classifiers in High Dimensional Settings, \n",
      "  Tech. Rep. no. 92-02, (1992), Dept. of Computer Science and Dept. of  \n",
      "  Mathematics and Statistics, James Cook University of North Queensland. \n",
      "  (Also submitted to Technometrics). \n",
      "\n",
      "  The data was used with many others for comparing various \n",
      "  classifiers. The classes are separable, though only RDA \n",
      "  has achieved 100% correct classification. \n",
      "  (RDA : 100%, QDA 99.4%, LDA 98.9%, 1NN 96.1% (z-transformed data)) \n",
      "  (All results using the leave-one-out technique) \n",
      "\n",
      "  (2) S. Aeberhard, D. Coomans and O. de Vel, \n",
      "  \"THE CLASSIFICATION PERFORMANCE OF RDA\" \n",
      "  Tech. Rep. no. 92-01, (1992), Dept. of Computer Science and Dept. of \n",
      "  Mathematics and Statistics, James Cook University of North Queensland. \n",
      "  (Also submitted to Journal of Chemometrics).\n",
      "\n"
     ]
    }
   ],
   "source": [
    "from sklearn.datasets import load_wine\n",
    "wine = load_wine()\n",
    "print(wine.DESCR)"
   ]
  },
  {
   "cell_type": "code",
   "execution_count": 16,
   "id": "4b7531f5-13f3-4be0-a71e-3ac864e0c052",
   "metadata": {},
   "outputs": [
    {
     "data": {
      "text/plain": [
       "1    71\n",
       "0    59\n",
       "2    48\n",
       "dtype: int64"
      ]
     },
     "execution_count": 16,
     "metadata": {},
     "output_type": "execute_result"
    }
   ],
   "source": [
    "wine.data[:5]\n",
    "\n",
    "wine.feature_names  # 컬럼명\n",
    "wine.target_names   # 종속변수값\n",
    "pd.Series(wine.target).value_counts()   # 종속변수값 분포"
   ]
  },
  {
   "cell_type": "code",
   "execution_count": 17,
   "id": "dd062bc1-e7c1-4d7c-9d91-7fcbe7133204",
   "metadata": {},
   "outputs": [
    {
     "data": {
      "text/html": [
       "<div>\n",
       "<style scoped>\n",
       "    .dataframe tbody tr th:only-of-type {\n",
       "        vertical-align: middle;\n",
       "    }\n",
       "\n",
       "    .dataframe tbody tr th {\n",
       "        vertical-align: top;\n",
       "    }\n",
       "\n",
       "    .dataframe thead th {\n",
       "        text-align: right;\n",
       "    }\n",
       "</style>\n",
       "<table border=\"1\" class=\"dataframe\">\n",
       "  <thead>\n",
       "    <tr style=\"text-align: right;\">\n",
       "      <th></th>\n",
       "      <th>alcohol</th>\n",
       "      <th>malic_acid</th>\n",
       "      <th>ash</th>\n",
       "      <th>alcalinity_of_ash</th>\n",
       "      <th>magnesium</th>\n",
       "      <th>total_phenols</th>\n",
       "      <th>flavanoids</th>\n",
       "      <th>nonflavanoid_phenols</th>\n",
       "      <th>proanthocyanins</th>\n",
       "      <th>color_intensity</th>\n",
       "      <th>hue</th>\n",
       "      <th>od280/od315_of_diluted_wines</th>\n",
       "      <th>proline</th>\n",
       "      <th>class</th>\n",
       "    </tr>\n",
       "  </thead>\n",
       "  <tbody>\n",
       "    <tr>\n",
       "      <th>0</th>\n",
       "      <td>14.23</td>\n",
       "      <td>1.71</td>\n",
       "      <td>2.43</td>\n",
       "      <td>15.6</td>\n",
       "      <td>127.0</td>\n",
       "      <td>2.80</td>\n",
       "      <td>3.06</td>\n",
       "      <td>0.28</td>\n",
       "      <td>2.29</td>\n",
       "      <td>5.64</td>\n",
       "      <td>1.04</td>\n",
       "      <td>3.92</td>\n",
       "      <td>1065.0</td>\n",
       "      <td>0</td>\n",
       "    </tr>\n",
       "    <tr>\n",
       "      <th>1</th>\n",
       "      <td>13.20</td>\n",
       "      <td>1.78</td>\n",
       "      <td>2.14</td>\n",
       "      <td>11.2</td>\n",
       "      <td>100.0</td>\n",
       "      <td>2.65</td>\n",
       "      <td>2.76</td>\n",
       "      <td>0.26</td>\n",
       "      <td>1.28</td>\n",
       "      <td>4.38</td>\n",
       "      <td>1.05</td>\n",
       "      <td>3.40</td>\n",
       "      <td>1050.0</td>\n",
       "      <td>0</td>\n",
       "    </tr>\n",
       "    <tr>\n",
       "      <th>2</th>\n",
       "      <td>13.16</td>\n",
       "      <td>2.36</td>\n",
       "      <td>2.67</td>\n",
       "      <td>18.6</td>\n",
       "      <td>101.0</td>\n",
       "      <td>2.80</td>\n",
       "      <td>3.24</td>\n",
       "      <td>0.30</td>\n",
       "      <td>2.81</td>\n",
       "      <td>5.68</td>\n",
       "      <td>1.03</td>\n",
       "      <td>3.17</td>\n",
       "      <td>1185.0</td>\n",
       "      <td>0</td>\n",
       "    </tr>\n",
       "    <tr>\n",
       "      <th>3</th>\n",
       "      <td>14.37</td>\n",
       "      <td>1.95</td>\n",
       "      <td>2.50</td>\n",
       "      <td>16.8</td>\n",
       "      <td>113.0</td>\n",
       "      <td>3.85</td>\n",
       "      <td>3.49</td>\n",
       "      <td>0.24</td>\n",
       "      <td>2.18</td>\n",
       "      <td>7.80</td>\n",
       "      <td>0.86</td>\n",
       "      <td>3.45</td>\n",
       "      <td>1480.0</td>\n",
       "      <td>0</td>\n",
       "    </tr>\n",
       "    <tr>\n",
       "      <th>4</th>\n",
       "      <td>13.24</td>\n",
       "      <td>2.59</td>\n",
       "      <td>2.87</td>\n",
       "      <td>21.0</td>\n",
       "      <td>118.0</td>\n",
       "      <td>2.80</td>\n",
       "      <td>2.69</td>\n",
       "      <td>0.39</td>\n",
       "      <td>1.82</td>\n",
       "      <td>4.32</td>\n",
       "      <td>1.04</td>\n",
       "      <td>2.93</td>\n",
       "      <td>735.0</td>\n",
       "      <td>0</td>\n",
       "    </tr>\n",
       "  </tbody>\n",
       "</table>\n",
       "</div>"
      ],
      "text/plain": [
       "   alcohol  malic_acid   ash  alcalinity_of_ash  magnesium  total_phenols  \\\n",
       "0    14.23        1.71  2.43               15.6      127.0           2.80   \n",
       "1    13.20        1.78  2.14               11.2      100.0           2.65   \n",
       "2    13.16        2.36  2.67               18.6      101.0           2.80   \n",
       "3    14.37        1.95  2.50               16.8      113.0           3.85   \n",
       "4    13.24        2.59  2.87               21.0      118.0           2.80   \n",
       "\n",
       "   flavanoids  nonflavanoid_phenols  proanthocyanins  color_intensity   hue  \\\n",
       "0        3.06                  0.28             2.29             5.64  1.04   \n",
       "1        2.76                  0.26             1.28             4.38  1.05   \n",
       "2        3.24                  0.30             2.81             5.68  1.03   \n",
       "3        3.49                  0.24             2.18             7.80  0.86   \n",
       "4        2.69                  0.39             1.82             4.32  1.04   \n",
       "\n",
       "   od280/od315_of_diluted_wines  proline  class  \n",
       "0                          3.92   1065.0      0  \n",
       "1                          3.40   1050.0      0  \n",
       "2                          3.17   1185.0      0  \n",
       "3                          3.45   1480.0      0  \n",
       "4                          2.93    735.0      0  "
      ]
     },
     "execution_count": 17,
     "metadata": {},
     "output_type": "execute_result"
    }
   ],
   "source": [
    "# wine 데이터셋을 dataframe으로 생성\n",
    "wines = pd.DataFrame(wine.data)\n",
    "wines.columns = wine.feature_names\n",
    "wines['class'] = wine.target\n",
    "wines.head()"
   ]
  },
  {
   "cell_type": "code",
   "execution_count": 18,
   "id": "b2aef2e9-18ce-4d89-9c6b-7176a107d84f",
   "metadata": {},
   "outputs": [
    {
     "name": "stdout",
     "output_type": "stream",
     "text": [
      "<class 'pandas.core.frame.DataFrame'>\n",
      "RangeIndex: 178 entries, 0 to 177\n",
      "Data columns (total 14 columns):\n",
      " #   Column                        Non-Null Count  Dtype  \n",
      "---  ------                        --------------  -----  \n",
      " 0   alcohol                       178 non-null    float64\n",
      " 1   malic_acid                    178 non-null    float64\n",
      " 2   ash                           178 non-null    float64\n",
      " 3   alcalinity_of_ash             178 non-null    float64\n",
      " 4   magnesium                     178 non-null    float64\n",
      " 5   total_phenols                 178 non-null    float64\n",
      " 6   flavanoids                    178 non-null    float64\n",
      " 7   nonflavanoid_phenols          178 non-null    float64\n",
      " 8   proanthocyanins               178 non-null    float64\n",
      " 9   color_intensity               178 non-null    float64\n",
      " 10  hue                           178 non-null    float64\n",
      " 11  od280/od315_of_diluted_wines  178 non-null    float64\n",
      " 12  proline                       178 non-null    float64\n",
      " 13  class                         178 non-null    int64  \n",
      "dtypes: float64(13), int64(1)\n",
      "memory usage: 19.6 KB\n"
     ]
    }
   ],
   "source": [
    "wines.info()"
   ]
  },
  {
   "cell_type": "code",
   "execution_count": 19,
   "id": "b0e82a74-c525-4779-980b-ce8295f725c8",
   "metadata": {},
   "outputs": [],
   "source": [
    "# 데이터들을 train/test로 나눔\n",
    "\n",
    "Xtrain, Xtest, ytrain, ytest = train_test_split(wine.data, wine.target,train_size=0.7, stratify=wine.target,random_state=2111041645)"
   ]
  },
  {
   "cell_type": "code",
   "execution_count": 20,
   "id": "19fb0365-74fc-46fa-867a-aa2a2ede7197",
   "metadata": {},
   "outputs": [
    {
     "data": {
      "text/plain": [
       "0.9444444444444444"
      ]
     },
     "execution_count": 20,
     "metadata": {},
     "output_type": "execute_result"
    }
   ],
   "source": [
    "# max_iter : 적절한 해를 찾기 위한 탐색횟수 지정\n",
    "lrclf = LogisticRegression(max_iter=2500)\n",
    "lrclf.fit(Xtrain, ytrain)\n",
    "pred = lrclf.predict(Xtest)\n",
    "accuracy_score(pred, ytest) # 0.94"
   ]
  },
  {
   "cell_type": "code",
   "execution_count": 21,
   "id": "fb552e46-91c0-486d-8029-9d520390db32",
   "metadata": {},
   "outputs": [
    {
     "data": {
      "text/plain": [
       "array([[17,  0,  0],\n",
       "       [ 1, 20,  1],\n",
       "       [ 0,  1, 14]])"
      ]
     },
     "execution_count": 21,
     "metadata": {},
     "output_type": "execute_result"
    }
   ],
   "source": [
    "confusion_matrix(pred, ytest)"
   ]
  },
  {
   "cell_type": "code",
   "execution_count": 22,
   "id": "010b6e0d-aa7e-4865-983a-dde3a964eb83",
   "metadata": {},
   "outputs": [
    {
     "name": "stdout",
     "output_type": "stream",
     "text": [
      "              precision    recall  f1-score   support\n",
      "\n",
      "           0       0.94      1.00      0.97        17\n",
      "           1       0.95      0.91      0.93        22\n",
      "           2       0.93      0.93      0.93        15\n",
      "\n",
      "    accuracy                           0.94        54\n",
      "   macro avg       0.94      0.95      0.94        54\n",
      "weighted avg       0.94      0.94      0.94        54\n",
      "\n"
     ]
    }
   ],
   "source": [
    "print(classification_report(pred, ytest))"
   ]
  },
  {
   "cell_type": "code",
   "execution_count": 23,
   "id": "3a45e410-fff2-400d-ae66-a8e8e60521f9",
   "metadata": {},
   "outputs": [],
   "source": [
    "# 랜덤 포레스트를 이용한 분석\n",
    "from sklearn.ensemble import RandomForestClassifier"
   ]
  },
  {
   "cell_type": "code",
   "execution_count": 24,
   "id": "a4d5ae2f-668c-4c90-bc90-a7d45cd1903c",
   "metadata": {},
   "outputs": [
    {
     "data": {
      "text/plain": [
       "0.9629629629629629"
      ]
     },
     "execution_count": 24,
     "metadata": {},
     "output_type": "execute_result"
    }
   ],
   "source": [
    "rfclf = RandomForestClassifier()\n",
    "rfclf.fit(Xtrain, ytrain)\n",
    "pred = rfclf.predict(Xtest)\n",
    "accuracy_score(pred, ytest) # 0.94"
   ]
  },
  {
   "cell_type": "code",
   "execution_count": 25,
   "id": "02fef717-e1ad-493d-8edd-853f2107e1e1",
   "metadata": {},
   "outputs": [
    {
     "data": {
      "text/plain": [
       "array([[18,  0,  0],\n",
       "       [ 0, 19,  0],\n",
       "       [ 0,  2, 15]])"
      ]
     },
     "execution_count": 25,
     "metadata": {},
     "output_type": "execute_result"
    }
   ],
   "source": [
    "confusion_matrix(pred, ytest)"
   ]
  },
  {
   "cell_type": "code",
   "execution_count": 26,
   "id": "71ec970c-dbd0-4197-a83d-1a8e2ac66acb",
   "metadata": {},
   "outputs": [
    {
     "name": "stdout",
     "output_type": "stream",
     "text": [
      "              precision    recall  f1-score   support\n",
      "\n",
      "           0       1.00      1.00      1.00        18\n",
      "           1       0.90      1.00      0.95        19\n",
      "           2       1.00      0.88      0.94        17\n",
      "\n",
      "    accuracy                           0.96        54\n",
      "   macro avg       0.97      0.96      0.96        54\n",
      "weighted avg       0.97      0.96      0.96        54\n",
      "\n"
     ]
    }
   ],
   "source": [
    "print(classification_report(pred, ytest))"
   ]
  },
  {
   "cell_type": "markdown",
   "id": "f679723b-5518-4103-9f89-3c68bec4e1e0",
   "metadata": {},
   "source": [
    "### 적절한 변수선택을 통한 분석 방법\n",
    "* SequentialFeatureSelector 를 이용해서 적절한 변수는 몇개이고 그때의 정확도는 얼마인지 알아볼수 있음"
   ]
  },
  {
   "cell_type": "code",
   "execution_count": 27,
   "id": "742d77ad-68c0-4af4-9711-e8b2c1b74b04",
   "metadata": {},
   "outputs": [],
   "source": [
    "from sklearn.feature_selection import SequentialFeatureSelector\n",
    "from sklearn.neighbors import KNeighborsClassifier"
   ]
  },
  {
   "cell_type": "code",
   "execution_count": 28,
   "id": "12ae65ce-e86b-4dc4-a828-7a042264124a",
   "metadata": {},
   "outputs": [],
   "source": [
    "scores = []\n",
    "#lrclf = LogisticRegression(max_iter=2500)\n",
    "knn = KNeighborsClassifier()\n",
    "for n in range(1, 13):\n",
    "   sfs = SequentialFeatureSelector(knn,\n",
    "       n_features_to_select=n, n_jobs=-1)\n",
    "   sfs.fit(Xtrain, ytrain)\n",
    "   mask = sfs.support_\n",
    "   knn.fit(Xtrain[:, mask], ytrain)    \n",
    "   scores.append(knn.score(Xtrain[:, mask], ytrain))"
   ]
  },
  {
   "cell_type": "code",
   "execution_count": 29,
   "id": "497170ef-f9a5-4bd3-8edd-aaab25247442",
   "metadata": {},
   "outputs": [
    {
     "data": {
      "text/plain": [
       "0.9596774193548387"
      ]
     },
     "execution_count": 29,
     "metadata": {},
     "output_type": "execute_result"
    }
   ],
   "source": [
    "# 종속변수가 6~7일때 정확도가 좋음\n",
    "sfs = SequentialFeatureSelector(knn, n_features_to_select=6, n_jobs=-1)\n",
    "sfs.fit(Xtrain, ytrain)\n",
    "mask = sfs.support_\n",
    "knn.fit(Xtrain[:, mask], ytrain)\n",
    "knn.score(Xtrain[:, mask], ytrain)  # 0.959"
   ]
  },
  {
   "cell_type": "code",
   "execution_count": 30,
   "id": "e150483a-6298-46ad-8c30-eb2fd3e52ef6",
   "metadata": {},
   "outputs": [
    {
     "data": {
      "text/plain": [
       "Index(['alcalinity_of_ash', 'flavanoids', 'nonflavanoid_phenols',\n",
       "       'proanthocyanins', 'color_intensity', 'hue'],\n",
       "      dtype='object')"
      ]
     },
     "execution_count": 30,
     "metadata": {},
     "output_type": "execute_result"
    }
   ],
   "source": [
    "# 최적의 정확도 출력시 사용한 컬럼들\n",
    "wines.columns[1:][mask] "
   ]
  }
 ],
 "metadata": {
  "kernelspec": {
   "display_name": "Python 3 (ipykernel)",
   "language": "python",
   "name": "python3"
  },
  "language_info": {
   "codemirror_mode": {
    "name": "ipython",
    "version": 3
   },
   "file_extension": ".py",
   "mimetype": "text/x-python",
   "name": "python",
   "nbconvert_exporter": "python",
   "pygments_lexer": "ipython3",
   "version": "3.7.10"
  }
 },
 "nbformat": 4,
 "nbformat_minor": 5
}
