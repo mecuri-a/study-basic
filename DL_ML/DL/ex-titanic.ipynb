{
 "cells": [
  {
   "cell_type": "markdown",
   "id": "9c4e831f-c2c4-4735-832c-f75ad5f0bcd4",
   "metadata": {},
   "source": [
    "### 타이타닉 데이터 분석\n",
    "+ 다양한 머신러닝 알고리즘을 이용해서 교차검증 방식으로 모델을 훈련시키고 예측 정확도를 평가해 봄"
   ]
  },
  {
   "cell_type": "code",
   "execution_count": 1,
   "id": "bc557087-f1fe-4801-870a-9c4e4f0a110f",
   "metadata": {},
   "outputs": [],
   "source": [
    "import numpy as np\n",
    "import pandas as pd\n",
    "import matplotlib.pyplot as plt\n",
    "import sklearn"
   ]
  },
  {
   "cell_type": "code",
   "execution_count": 2,
   "id": "55651db5-e485-4a6d-b045-62a0ba404571",
   "metadata": {},
   "outputs": [
    {
     "data": {
      "text/html": [
       "<div>\n",
       "<style scoped>\n",
       "    .dataframe tbody tr th:only-of-type {\n",
       "        vertical-align: middle;\n",
       "    }\n",
       "\n",
       "    .dataframe tbody tr th {\n",
       "        vertical-align: top;\n",
       "    }\n",
       "\n",
       "    .dataframe thead th {\n",
       "        text-align: right;\n",
       "    }\n",
       "</style>\n",
       "<table border=\"1\" class=\"dataframe\">\n",
       "  <thead>\n",
       "    <tr style=\"text-align: right;\">\n",
       "      <th></th>\n",
       "      <th>pclass</th>\n",
       "      <th>survived</th>\n",
       "      <th>name</th>\n",
       "      <th>sex</th>\n",
       "      <th>age</th>\n",
       "      <th>sibsp</th>\n",
       "      <th>parch</th>\n",
       "      <th>ticket</th>\n",
       "      <th>fare</th>\n",
       "      <th>embarked</th>\n",
       "      <th>life</th>\n",
       "      <th>seat</th>\n",
       "      <th>port</th>\n",
       "    </tr>\n",
       "  </thead>\n",
       "  <tbody>\n",
       "    <tr>\n",
       "      <th>0</th>\n",
       "      <td>1</td>\n",
       "      <td>1</td>\n",
       "      <td>Allen, Miss. Elisabeth Walton</td>\n",
       "      <td>female</td>\n",
       "      <td>29.0000</td>\n",
       "      <td>0</td>\n",
       "      <td>0</td>\n",
       "      <td>24160</td>\n",
       "      <td>211.3375</td>\n",
       "      <td>S</td>\n",
       "      <td>live</td>\n",
       "      <td>1st</td>\n",
       "      <td>southampthon</td>\n",
       "    </tr>\n",
       "    <tr>\n",
       "      <th>1</th>\n",
       "      <td>1</td>\n",
       "      <td>1</td>\n",
       "      <td>Allison, Master. Hudson Trevor</td>\n",
       "      <td>male</td>\n",
       "      <td>0.9167</td>\n",
       "      <td>1</td>\n",
       "      <td>2</td>\n",
       "      <td>113781</td>\n",
       "      <td>151.5500</td>\n",
       "      <td>S</td>\n",
       "      <td>live</td>\n",
       "      <td>1st</td>\n",
       "      <td>southampthon</td>\n",
       "    </tr>\n",
       "    <tr>\n",
       "      <th>2</th>\n",
       "      <td>1</td>\n",
       "      <td>0</td>\n",
       "      <td>Allison, Miss. Helen Loraine</td>\n",
       "      <td>female</td>\n",
       "      <td>2.0000</td>\n",
       "      <td>1</td>\n",
       "      <td>2</td>\n",
       "      <td>113781</td>\n",
       "      <td>151.5500</td>\n",
       "      <td>S</td>\n",
       "      <td>dead</td>\n",
       "      <td>1st</td>\n",
       "      <td>southampthon</td>\n",
       "    </tr>\n",
       "    <tr>\n",
       "      <th>3</th>\n",
       "      <td>1</td>\n",
       "      <td>0</td>\n",
       "      <td>Allison, Mr. Hudson Joshua Creighton</td>\n",
       "      <td>male</td>\n",
       "      <td>30.0000</td>\n",
       "      <td>1</td>\n",
       "      <td>2</td>\n",
       "      <td>113781</td>\n",
       "      <td>151.5500</td>\n",
       "      <td>S</td>\n",
       "      <td>dead</td>\n",
       "      <td>1st</td>\n",
       "      <td>southampthon</td>\n",
       "    </tr>\n",
       "    <tr>\n",
       "      <th>4</th>\n",
       "      <td>1</td>\n",
       "      <td>0</td>\n",
       "      <td>Allison, Mrs. Hudson J C (Bessie Waldo Daniels)</td>\n",
       "      <td>female</td>\n",
       "      <td>25.0000</td>\n",
       "      <td>1</td>\n",
       "      <td>2</td>\n",
       "      <td>113781</td>\n",
       "      <td>151.5500</td>\n",
       "      <td>S</td>\n",
       "      <td>dead</td>\n",
       "      <td>1st</td>\n",
       "      <td>southampthon</td>\n",
       "    </tr>\n",
       "  </tbody>\n",
       "</table>\n",
       "</div>"
      ],
      "text/plain": [
       "   pclass  survived                                             name     sex  \\\n",
       "0       1         1                    Allen, Miss. Elisabeth Walton  female   \n",
       "1       1         1                   Allison, Master. Hudson Trevor    male   \n",
       "2       1         0                     Allison, Miss. Helen Loraine  female   \n",
       "3       1         0             Allison, Mr. Hudson Joshua Creighton    male   \n",
       "4       1         0  Allison, Mrs. Hudson J C (Bessie Waldo Daniels)  female   \n",
       "\n",
       "       age  sibsp  parch  ticket      fare embarked  life seat          port  \n",
       "0  29.0000      0      0   24160  211.3375        S  live  1st  southampthon  \n",
       "1   0.9167      1      2  113781  151.5500        S  live  1st  southampthon  \n",
       "2   2.0000      1      2  113781  151.5500        S  dead  1st  southampthon  \n",
       "3  30.0000      1      2  113781  151.5500        S  dead  1st  southampthon  \n",
       "4  25.0000      1      2  113781  151.5500        S  dead  1st  southampthon  "
      ]
     },
     "execution_count": 2,
     "metadata": {},
     "output_type": "execute_result"
    }
   ],
   "source": [
    "titanic = pd.read_csv('csv/titanic2.csv')\n",
    "titanic.head()"
   ]
  },
  {
   "cell_type": "code",
   "execution_count": 3,
   "id": "53d0699e-b990-43a3-919a-97e0bc1ecf86",
   "metadata": {},
   "outputs": [
    {
     "name": "stdout",
     "output_type": "stream",
     "text": [
      "<class 'pandas.core.frame.DataFrame'>\n",
      "RangeIndex: 1306 entries, 0 to 1305\n",
      "Data columns (total 13 columns):\n",
      " #   Column    Non-Null Count  Dtype  \n",
      "---  ------    --------------  -----  \n",
      " 0   pclass    1306 non-null   int64  \n",
      " 1   survived  1306 non-null   int64  \n",
      " 2   name      1306 non-null   object \n",
      " 3   sex       1306 non-null   object \n",
      " 4   age       1306 non-null   float64\n",
      " 5   sibsp     1306 non-null   int64  \n",
      " 6   parch     1306 non-null   int64  \n",
      " 7   ticket    1306 non-null   object \n",
      " 8   fare      1306 non-null   float64\n",
      " 9   embarked  1306 non-null   object \n",
      " 10  life      1306 non-null   object \n",
      " 11  seat      1306 non-null   object \n",
      " 12  port      1306 non-null   object \n",
      "dtypes: float64(2), int64(4), object(7)\n",
      "memory usage: 132.8+ KB\n"
     ]
    }
   ],
   "source": [
    "titanic.info()"
   ]
  },
  {
   "cell_type": "code",
   "execution_count": 4,
   "id": "faa50c79-0fd4-4667-b21f-08d450e651c8",
   "metadata": {},
   "outputs": [
    {
     "data": {
      "text/plain": [
       "dead    808\n",
       "live    498\n",
       "Name: life, dtype: int64"
      ]
     },
     "execution_count": 4,
     "metadata": {},
     "output_type": "execute_result"
    }
   ],
   "source": [
    "# 레이블 생사 분포 확인\n",
    "titanic.life.value_counts()"
   ]
  },
  {
   "cell_type": "code",
   "execution_count": 5,
   "id": "667bfd2d-845e-4281-a17d-2c33454f9436",
   "metadata": {},
   "outputs": [
    {
     "data": {
      "text/plain": [
       "3rd    708\n",
       "1st    321\n",
       "2nd    277\n",
       "Name: seat, dtype: int64"
      ]
     },
     "execution_count": 5,
     "metadata": {},
     "output_type": "execute_result"
    }
   ],
   "source": [
    "# 여러 특성들 중 성별 분포 확인\n",
    "titanic.seat.value_counts()"
   ]
  },
  {
   "cell_type": "code",
   "execution_count": 6,
   "id": "45400dcc-6fc6-4c7a-b178-21e89fee5a13",
   "metadata": {},
   "outputs": [
    {
     "data": {
      "text/plain": [
       "southampthon    913\n",
       "cherbourg       270\n",
       "qeenstown       123\n",
       "Name: port, dtype: int64"
      ]
     },
     "execution_count": 6,
     "metadata": {},
     "output_type": "execute_result"
    }
   ],
   "source": [
    "# 여러 특성들 중 승선위치 분포 확인\n",
    "titanic.port.value_counts()"
   ]
  },
  {
   "cell_type": "code",
   "execution_count": 7,
   "id": "21b37804-6bfe-4668-89eb-cdf9e80f83e0",
   "metadata": {},
   "outputs": [
    {
     "data": {
      "text/html": [
       "<div>\n",
       "<style scoped>\n",
       "    .dataframe tbody tr th:only-of-type {\n",
       "        vertical-align: middle;\n",
       "    }\n",
       "\n",
       "    .dataframe tbody tr th {\n",
       "        vertical-align: top;\n",
       "    }\n",
       "\n",
       "    .dataframe thead th {\n",
       "        text-align: right;\n",
       "    }\n",
       "</style>\n",
       "<table border=\"1\" class=\"dataframe\">\n",
       "  <thead>\n",
       "    <tr style=\"text-align: right;\">\n",
       "      <th></th>\n",
       "      <th>sex</th>\n",
       "      <th>gender</th>\n",
       "    </tr>\n",
       "  </thead>\n",
       "  <tbody>\n",
       "    <tr>\n",
       "      <th>0</th>\n",
       "      <td>female</td>\n",
       "      <td>0</td>\n",
       "    </tr>\n",
       "    <tr>\n",
       "      <th>1</th>\n",
       "      <td>male</td>\n",
       "      <td>1</td>\n",
       "    </tr>\n",
       "    <tr>\n",
       "      <th>2</th>\n",
       "      <td>female</td>\n",
       "      <td>0</td>\n",
       "    </tr>\n",
       "    <tr>\n",
       "      <th>3</th>\n",
       "      <td>male</td>\n",
       "      <td>1</td>\n",
       "    </tr>\n",
       "    <tr>\n",
       "      <th>4</th>\n",
       "      <td>female</td>\n",
       "      <td>0</td>\n",
       "    </tr>\n",
       "  </tbody>\n",
       "</table>\n",
       "</div>"
      ],
      "text/plain": [
       "      sex  gender\n",
       "0  female       0\n",
       "1    male       1\n",
       "2  female       0\n",
       "3    male       1\n",
       "4  female       0"
      ]
     },
     "execution_count": 7,
     "metadata": {},
     "output_type": "execute_result"
    }
   ],
   "source": [
    "# 데이터 분석시 문자형 값보다는 숫자형 값을 더 잘 인식함\n",
    "# 문자형값 -> 숫자형값으로 변환하는 과정 필요\n",
    "\n",
    "# 성별을 레이블인코딩으로 숫자형으로 변환 -> 파생변수\n",
    "titanic['gender'] = titanic['sex'].apply(lambda x: 0 if x == 'female' else 1)\n",
    "titanic.iloc[:,[3,13]].head()\n",
    "#titanic.loc[:,['sex','gender']].head(5)"
   ]
  },
  {
   "cell_type": "code",
   "execution_count": 8,
   "id": "fc61a1a8-98b7-43ee-be93-3ecd7a23a15f",
   "metadata": {},
   "outputs": [
    {
     "data": {
      "text/html": [
       "<div>\n",
       "<style scoped>\n",
       "    .dataframe tbody tr th:only-of-type {\n",
       "        vertical-align: middle;\n",
       "    }\n",
       "\n",
       "    .dataframe tbody tr th {\n",
       "        vertical-align: top;\n",
       "    }\n",
       "\n",
       "    .dataframe thead th {\n",
       "        text-align: right;\n",
       "    }\n",
       "</style>\n",
       "<table border=\"1\" class=\"dataframe\">\n",
       "  <thead>\n",
       "    <tr style=\"text-align: right;\">\n",
       "      <th></th>\n",
       "      <th>embarked</th>\n",
       "      <th>harbor</th>\n",
       "    </tr>\n",
       "  </thead>\n",
       "  <tbody>\n",
       "    <tr>\n",
       "      <th>0</th>\n",
       "      <td>S</td>\n",
       "      <td>1</td>\n",
       "    </tr>\n",
       "    <tr>\n",
       "      <th>1</th>\n",
       "      <td>S</td>\n",
       "      <td>1</td>\n",
       "    </tr>\n",
       "    <tr>\n",
       "      <th>2</th>\n",
       "      <td>S</td>\n",
       "      <td>1</td>\n",
       "    </tr>\n",
       "    <tr>\n",
       "      <th>3</th>\n",
       "      <td>S</td>\n",
       "      <td>1</td>\n",
       "    </tr>\n",
       "    <tr>\n",
       "      <th>4</th>\n",
       "      <td>S</td>\n",
       "      <td>1</td>\n",
       "    </tr>\n",
       "  </tbody>\n",
       "</table>\n",
       "</div>"
      ],
      "text/plain": [
       "  embarked  harbor\n",
       "0        S       1\n",
       "1        S       1\n",
       "2        S       1\n",
       "3        S       1\n",
       "4        S       1"
      ]
     },
     "execution_count": 8,
     "metadata": {},
     "output_type": "execute_result"
    }
   ],
   "source": [
    "# 승선 위치를 레이블인코딩으로 숫자형으로 변환 -> 파생변수\n",
    "titanic['harbor'] =  titanic['embarked'].apply(lambda x : 0 if x =='C' else (1 if x == 'S' else 2))\n",
    "titanic.iloc[:, [9,14]].head()"
   ]
  },
  {
   "cell_type": "code",
   "execution_count": 9,
   "id": "9035413d-5d05-4fc2-b197-cfac5e4d0ed3",
   "metadata": {},
   "outputs": [
    {
     "data": {
      "text/plain": [
       "S    913\n",
       "C    270\n",
       "Q    123\n",
       "Name: embarked, dtype: int64"
      ]
     },
     "execution_count": 9,
     "metadata": {},
     "output_type": "execute_result"
    }
   ],
   "source": [
    "titanic.embarked.value_counts()"
   ]
  },
  {
   "cell_type": "code",
   "execution_count": 10,
   "id": "510b84af-8320-4619-aaef-e69b9644196b",
   "metadata": {},
   "outputs": [],
   "source": [
    "from sklearn.linear_model import LogisticRegression\n",
    "from sklearn.tree import DecisionTreeClassifier\n",
    "from sklearn.metrics import accuracy_score\n",
    "from sklearn.ensemble import RandomForestClassifier\n",
    "from sklearn.neighbors import KNeighborsClassifier\n",
    "from sklearn.model_selection import train_test_split\n",
    "from sklearn.model_selection import cross_val_score"
   ]
  },
  {
   "cell_type": "markdown",
   "id": "13af4ee9-00a4-4932-b917-bd6edcf141b7",
   "metadata": {},
   "source": [
    "### 분석에 필요한 컬럼을 뽑아 특성/레이블을 만들기"
   ]
  },
  {
   "cell_type": "code",
   "execution_count": 11,
   "id": "815f4cdc-9a77-4337-9158-b2bf8346ac1b",
   "metadata": {},
   "outputs": [],
   "source": [
    "data = titanic.iloc[:, [0, 4, 5, 6, 8, 13, 14]]\n",
    "target = titanic.survived"
   ]
  },
  {
   "cell_type": "markdown",
   "id": "0f2aa3fc-9e7c-4117-958f-505117e4f0d1",
   "metadata": {
    "tags": []
   },
   "source": [
    "### 훈련/평가 데이터 분할"
   ]
  },
  {
   "cell_type": "code",
   "execution_count": 12,
   "id": "60293688-57a5-4fac-92f8-d8e49722e05c",
   "metadata": {},
   "outputs": [],
   "source": [
    "Xtrain, Xtest, ytrain, ytest = train_test_split(data, target, train_size=0.7, random_state=2111041110)"
   ]
  },
  {
   "cell_type": "markdown",
   "id": "ba1755f4-ad06-4025-a02c-8560d3684da6",
   "metadata": {},
   "source": [
    "### 의사결정나무"
   ]
  },
  {
   "cell_type": "code",
   "execution_count": 13,
   "id": "bc152bfa-cb47-4c5d-ac30-6dd6fda2f1a3",
   "metadata": {},
   "outputs": [
    {
     "data": {
      "text/plain": [
       "DecisionTreeClassifier()"
      ]
     },
     "execution_count": 13,
     "metadata": {},
     "output_type": "execute_result"
    }
   ],
   "source": [
    "dtclf = DecisionTreeClassifier()\n",
    "dtclf.fit(Xtrain, ytrain)"
   ]
  },
  {
   "cell_type": "code",
   "execution_count": 14,
   "id": "41a376e3-a7f3-4e3e-b015-c5547039b329",
   "metadata": {},
   "outputs": [],
   "source": [
    "pred = dtclf.predict(Xtest)"
   ]
  },
  {
   "cell_type": "code",
   "execution_count": 15,
   "id": "5ef1d9d0-ced0-43e8-9a62-bd0824094d85",
   "metadata": {},
   "outputs": [
    {
     "data": {
      "text/plain": [
       "0.7780612244897959"
      ]
     },
     "execution_count": 15,
     "metadata": {},
     "output_type": "execute_result"
    }
   ],
   "source": [
    "accuracy_score(ytest, pred)"
   ]
  },
  {
   "cell_type": "markdown",
   "id": "3cba9c7e-b451-4cff-9f54-2a44a5511733",
   "metadata": {},
   "source": [
    "### 로지스틱 회귀"
   ]
  },
  {
   "cell_type": "code",
   "execution_count": 16,
   "id": "e12f3ac4-aa9f-423b-b499-9ff10f9677b9",
   "metadata": {},
   "outputs": [
    {
     "data": {
      "text/plain": [
       "LogisticRegression()"
      ]
     },
     "execution_count": 16,
     "metadata": {},
     "output_type": "execute_result"
    }
   ],
   "source": [
    "lrclf = LogisticRegression()\n",
    "lrclf.fit(Xtrain, ytrain)"
   ]
  },
  {
   "cell_type": "code",
   "execution_count": 17,
   "id": "5092a3c4-f7f8-42b7-8b13-9ea55ef674a0",
   "metadata": {},
   "outputs": [
    {
     "data": {
      "text/plain": [
       "0.8010204081632653"
      ]
     },
     "execution_count": 17,
     "metadata": {},
     "output_type": "execute_result"
    }
   ],
   "source": [
    "pred2 = lrclf.predict(Xtest)\n",
    "accuracy_score(ytest, pred2)"
   ]
  },
  {
   "cell_type": "markdown",
   "id": "1d991499-de20-4bba-a434-52eb8ab8ef08",
   "metadata": {},
   "source": [
    "### 교차검증"
   ]
  },
  {
   "cell_type": "code",
   "execution_count": 18,
   "id": "6a225a3b-da9b-49dc-a960-da20276347ba",
   "metadata": {},
   "outputs": [
    {
     "data": {
      "text/plain": [
       "0.7487081620669407"
      ]
     },
     "execution_count": 18,
     "metadata": {},
     "output_type": "execute_result"
    }
   ],
   "source": [
    "dtclf = DecisionTreeClassifier(max_depth=3)\n",
    "scores = cross_val_score(dtclf, data, target, cv=10, scoring = 'accuracy')\n",
    "np.mean(scores)"
   ]
  },
  {
   "cell_type": "code",
   "execution_count": 19,
   "id": "bdc0d273-ed57-4e70-9a33-1d66f13dff1f",
   "metadata": {},
   "outputs": [
    {
     "data": {
      "text/plain": [
       "0.7501820317087493"
      ]
     },
     "execution_count": 19,
     "metadata": {},
     "output_type": "execute_result"
    }
   ],
   "source": [
    "lrclf = LogisticRegression(max_iter=300)\n",
    "scores = cross_val_score(lrclf, data, target, cv=10, scoring = 'accuracy')\n",
    "np.mean(scores)"
   ]
  },
  {
   "cell_type": "code",
   "execution_count": 20,
   "id": "9a42b58d-9ed5-4e95-9df4-960b30ea01f7",
   "metadata": {},
   "outputs": [
    {
     "data": {
      "text/plain": [
       "0.7348737522019965"
      ]
     },
     "execution_count": 20,
     "metadata": {},
     "output_type": "execute_result"
    }
   ],
   "source": [
    "rfclf = RandomForestClassifier()\n",
    "scores = cross_val_score(rfclf, data, target, cv=10, scoring = 'accuracy')\n",
    "np.mean(scores)"
   ]
  },
  {
   "cell_type": "code",
   "execution_count": 21,
   "id": "2f5eb2bd-9e42-4417-bdef-8afc528c066a",
   "metadata": {},
   "outputs": [
    {
     "data": {
      "text/plain": [
       "dead    808\n",
       "live    498\n",
       "Name: life, dtype: int64"
      ]
     },
     "execution_count": 21,
     "metadata": {},
     "output_type": "execute_result"
    }
   ],
   "source": [
    "# 머신 러닝 모델 평가\n",
    "# 정확도만으로 모델의 성능을 평가하는 것이 옳은 것인가?\n",
    "titanic.life.value_counts()"
   ]
  },
  {
   "cell_type": "code",
   "execution_count": 22,
   "id": "89dcf080-fd3d-49e8-8738-42cff7c388d9",
   "metadata": {},
   "outputs": [
    {
     "data": {
      "text/plain": [
       "sex     life\n",
       "female  dead    127\n",
       "        live    337\n",
       "male    dead    681\n",
       "        live    161\n",
       "Name: life, dtype: int64"
      ]
     },
     "execution_count": 22,
     "metadata": {},
     "output_type": "execute_result"
    }
   ],
   "source": [
    "# 성별에 따른 생존여부\n",
    "titanic.groupby(['sex','life'])['life'].count()\n",
    "\n",
    "# 여성의 생존률이 남성의 생존률보다 높기 때문에 간단한 조건문만으로도 모델을 만들수도 있음\n",
    "# 입력값 : 여성 -> 생존 // 남성 -> 사망"
   ]
  }
 ],
 "metadata": {
  "kernelspec": {
   "display_name": "Python 3 (ipykernel)",
   "language": "python",
   "name": "python3"
  },
  "language_info": {
   "codemirror_mode": {
    "name": "ipython",
    "version": 3
   },
   "file_extension": ".py",
   "mimetype": "text/x-python",
   "name": "python",
   "nbconvert_exporter": "python",
   "pygments_lexer": "ipython3",
   "version": "3.7.10"
  }
 },
 "nbformat": 4,
 "nbformat_minor": 5
}
