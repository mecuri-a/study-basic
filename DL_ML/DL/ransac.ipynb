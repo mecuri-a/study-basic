{
 "cells": [
  {
   "cell_type": "markdown",
   "id": "67a650be-db93-4154-81bd-be3c2cdfd7fd",
   "metadata": {},
   "source": [
    "### RANSAC\n",
    "* random smaple consensus\n",
    "* 데이터셋에서 노이즈를 제거하고 모델을 예측하는 알고리즘\n",
    "* 특정 임계값을 기준으로 데이터를 모델 생성\n",
    "    + 노이즈를 반영하지 않고 최대 데이터가 일치하는 이상적 모델 생성\n",
    "    + 즉, 가장 많은 수의 데이터로부터 지지를 받는 모델을 선택함\n",
    "* sklearn에서는 RANSACRegressor라는 객체를 제공\n",
    "    + 매개변수 : 임계값, 표본수"
   ]
  },
  {
   "cell_type": "markdown",
   "id": "56ff0372-ad07-4d23-a043-78ed7b014da0",
   "metadata": {},
   "source": [
    "<img src='img/ransac01.png'>\n",
    "<img src='img/ransac02.png'>\n",
    "<img src='img/ransac03.png' width=\"40%\">"
   ]
  },
  {
   "cell_type": "markdown",
   "id": "dff50a56-ab1c-4ecf-8c5b-201e3d2bf358",
   "metadata": {},
   "source": [
    "### RANSAC 알고리즘\n",
    "* 가설단계 : 전체데이터에서 N개의 표본을 선택하고, 선택된 표본으로부터 모델을 예측한다\n",
    "* 검증단계 : 데이터셋에서 모델과 일치하는 데이터수를 센 후 최대값인 경우 모델의 매개변수를 새롭게 저장함\n",
    "* RANSAC은 가설과 검증을 N번 반복해서 그 중 최고의 모델을 선정함"
   ]
  },
  {
   "cell_type": "markdown",
   "id": "8283be4e-96f7-4cc3-87e7-0f8039d54f64",
   "metadata": {},
   "source": [
    "<img src='img/ransac04.png'>"
   ]
  },
  {
   "cell_type": "code",
   "execution_count": 1,
   "id": "0c08b645-7b89-45c1-84c0-fbf8e4e0dcfe",
   "metadata": {},
   "outputs": [],
   "source": [
    "# 보스턴 집값 데이터셋에서 방수와 평균값에 대해 회귀분석과 RANSAC 분석을 실시하고 결과를 서로 비교해보세요"
   ]
  },
  {
   "cell_type": "code",
   "execution_count": 2,
   "id": "7d29a1df-1abc-45da-a472-b10321558da0",
   "metadata": {},
   "outputs": [],
   "source": [
    "import numpy as np\n",
    "import pandas as pd\n",
    "import matplotlib.pyplot as plt"
   ]
  },
  {
   "cell_type": "code",
   "execution_count": 3,
   "id": "840a0450-da88-44e0-9618-9e7b0fe74c4c",
   "metadata": {},
   "outputs": [],
   "source": [
    "from sklearn.datasets import load_boston\n",
    "from sklearn.model_selection import train_test_split\n",
    "from sklearn.linear_model import LinearRegression\n",
    "from sklearn.metrics import r2_score\n",
    "from sklearn.metrics import mean_squared_error"
   ]
  },
  {
   "cell_type": "code",
   "execution_count": 4,
   "id": "8846ba89-55f0-4d76-9afc-f7b30402d639",
   "metadata": {},
   "outputs": [
    {
     "name": "stderr",
     "output_type": "stream",
     "text": [
      "/home/hadoop/.local/lib/python3.7/site-packages/sklearn/utils/deprecation.py:87: FutureWarning: Function load_boston is deprecated; `load_boston` is deprecated in 1.0 and will be removed in 1.2.\n",
      "\n",
      "    The Boston housing prices dataset has an ethical problem. You can refer to\n",
      "    the documentation of this function for further details.\n",
      "\n",
      "    The scikit-learn maintainers therefore strongly discourage the use of this\n",
      "    dataset unless the purpose of the code is to study and educate about\n",
      "    ethical issues in data science and machine learning.\n",
      "\n",
      "    In this case special case, you can fetch the dataset from the original\n",
      "    source::\n",
      "\n",
      "        import pandas as pd\n",
      "        import numpy as np\n",
      "\n",
      "\n",
      "        data_url = \"http://lib.stat.cmu.edu/datasets/boston\"\n",
      "        raw_df = pd.read_csv(data_url, sep=\"\\s+\", skiprows=22, header=None)\n",
      "        data = np.hstack([raw_df.values[::2, :], raw_df.values[1::2, :2]])\n",
      "        target = raw_df.values[1::2, 2]\n",
      "\n",
      "    Alternative datasets include the California housing dataset (i.e.\n",
      "    func:`~sklearn.datasets.fetch_california_housing`) and the Ames housing\n",
      "    dataset. You can load the datasets as follows:\n",
      "\n",
      "        from sklearn.datasets import fetch_california_housing\n",
      "        housing = fetch_california_housing()\n",
      "\n",
      "    for the California housing dataset and:\n",
      "\n",
      "        from sklearn.datasets import fetch_openml\n",
      "        housing = fetch_openml(name=\"house_prices\", as_frame=True)\n",
      "\n",
      "    for the Ames housing dataset.\n",
      "    \n",
      "  warnings.warn(msg, category=FutureWarning)\n"
     ]
    }
   ],
   "source": [
    "boston = load_boston()\n",
    "df = pd.DataFrame(boston.data, columns=boston.feature_names)\n",
    "df['MDEV'] = boston.target"
   ]
  },
  {
   "cell_type": "code",
   "execution_count": 5,
   "id": "228d4365-a3ab-43e8-8fcf-8d13b1370cee",
   "metadata": {},
   "outputs": [],
   "source": [
    "X = df.RM # 방수 \n",
    "y = df.MDEV # 주택가격 "
   ]
  },
  {
   "cell_type": "code",
   "execution_count": 6,
   "id": "b38ad4eb-ef60-4253-880b-fdc923396498",
   "metadata": {},
   "outputs": [
    {
     "data": {
      "text/plain": [
       "[<matplotlib.lines.Line2D at 0x7fda4c008710>]"
      ]
     },
     "execution_count": 6,
     "metadata": {},
     "output_type": "execute_result"
    },
    {
     "data": {
      "image/png": "[encoded data removed]",
      "text/plain": [
       "<Figure size 432x288 with 1 Axes>"
      ]
     },
     "metadata": {
      "needs_background": "light"
     },
     "output_type": "display_data"
    }
   ],
   "source": [
    "# 단순 선형회귀 실시\n",
    "# 산점도로 시각화\n",
    "plt.plot(X,y, 'bo')"
   ]
  },
  {
   "cell_type": "code",
   "execution_count": 7,
   "id": "dc355f1f-12e5-4562-9ebd-ea1ed4671196",
   "metadata": {},
   "outputs": [],
   "source": [
    "X = np.array(X).reshape(-1,1)\n",
    "lrclf = LinearRegression()\n",
    "lrclf.fit(X,y)\n",
    "pred = lrclf.predict(X)"
   ]
  },
  {
   "cell_type": "code",
   "execution_count": 8,
   "id": "2d4f125e-dc88-47bb-8848-fa6e10df3720",
   "metadata": {},
   "outputs": [
    {
     "name": "stdout",
     "output_type": "stream",
     "text": [
      "[9.10210898] -34.67062077643857\n"
     ]
    }
   ],
   "source": [
    "# 선형모델의 계수\n",
    "a = lrclf.coef_\n",
    "b = lrclf.intercept_\n",
    "print(a,b) "
   ]
  },
  {
   "cell_type": "code",
   "execution_count": 9,
   "id": "83874818-0649-47c8-aed2-96310ce3512b",
   "metadata": {},
   "outputs": [
    {
     "name": "stdout",
     "output_type": "stream",
     "text": [
      "6.603071389222561 0.48352545599133423\n"
     ]
    }
   ],
   "source": [
    "# 모델 성능 평가\n",
    "rmse = np.sqrt(mean_squared_error(y,pred))\n",
    "r2 = r2_score(y,pred)\n",
    "print(rmse, r2)"
   ]
  },
  {
   "cell_type": "code",
   "execution_count": 10,
   "id": "f4ebb6f5-dfb0-4d1d-8439-2aa4efd8bbd4",
   "metadata": {},
   "outputs": [
    {
     "data": {
      "text/plain": [
       "[<matplotlib.lines.Line2D at 0x7fda49f40410>]"
      ]
     },
     "execution_count": 10,
     "metadata": {},
     "output_type": "execute_result"
    },
    {
     "data": {
      "image/png": "[encoded data removed]",
      "text/plain": [
       "<Figure size 432x288 with 1 Axes>"
      ]
     },
     "metadata": {
      "needs_background": "light"
     },
     "output_type": "display_data"
    }
   ],
   "source": [
    "# 회귀선 시각화\n",
    "z = lrclf.predict(X)\n",
    "plt.plot(X,y, 'bo')\n",
    "plt.plot(X,z, 'r-')"
   ]
  },
  {
   "cell_type": "code",
   "execution_count": 11,
   "id": "c31af88d-dbf5-49eb-b10d-f0b6c574ca8b",
   "metadata": {},
   "outputs": [],
   "source": [
    "# RANSAC 선형회귀 실시\n",
    "from sklearn.linear_model import RANSACRegressor"
   ]
  },
  {
   "cell_type": "code",
   "execution_count": 12,
   "id": "cd9bd9d8-8eff-45ae-bc13-11d5e68623f5",
   "metadata": {},
   "outputs": [],
   "source": [
    "lrclf2 = LinearRegression()\n",
    "# max_trials : 알고리즘 최대 반복횟수\n",
    "# min_samples : 모델 선정에 사용할 무작위 표본의 최소수\n",
    "# loss : 모델의 성능평가에 사용할 함수 지정\n",
    "# absolute_error(absolute_loss) : 평균 절대오차\n",
    "# residual_threshold : 정상치에 포함할 허용오차\n",
    "ransac = RANSACRegressor(lrclf2, max_trials=500, min_samples=50, loss='absolute_error', residual_threshold=5.0, random_state=2111091045)"
   ]
  },
  {
   "cell_type": "code",
   "execution_count": 13,
   "id": "1c1e28dd-17a3-4b89-aae6-7a3eae2f5a9c",
   "metadata": {},
   "outputs": [
    {
     "data": {
      "text/plain": [
       "RANSACRegressor(base_estimator=LinearRegression(), max_trials=500,\n",
       "                min_samples=50, random_state=2111091045,\n",
       "                residual_threshold=5.0)"
      ]
     },
     "execution_count": 13,
     "metadata": {},
     "output_type": "execute_result"
    }
   ],
   "source": [
    "ransac.fit(X,y)"
   ]
  },
  {
   "cell_type": "code",
   "execution_count": 14,
   "id": "499ffcaf-45cf-4ec2-951d-b91700e145dc",
   "metadata": {},
   "outputs": [
    {
     "name": "stdout",
     "output_type": "stream",
     "text": [
      "[10.13609866] -40.2080937417566\n"
     ]
    }
   ],
   "source": [
    "# 선형모델의 계수\n",
    "a = ransac.estimator_.coef_\n",
    "b = ransac.estimator_.intercept_\n",
    "print(a,b)"
   ]
  },
  {
   "cell_type": "code",
   "execution_count": 15,
   "id": "79ee5232-9247-473f-9324-4c8a93b751e5",
   "metadata": {},
   "outputs": [],
   "source": [
    "# 정상치inlier 와 이상치outlier 추출\n",
    "inlier_mask = ransac.inlier_mask_\n",
    "outlier_mask = np.logical_not(inlier_mask)"
   ]
  },
  {
   "cell_type": "code",
   "execution_count": 16,
   "id": "2795014a-56ee-47c5-a328-476d35a87f77",
   "metadata": {},
   "outputs": [],
   "source": [
    "# 회귀선시각화를 위한 변수 생성\n",
    "z = ransac.predict(X[inlier_mask])"
   ]
  },
  {
   "cell_type": "code",
   "execution_count": 17,
   "id": "99d4a9f7-a2b4-4a3e-86a7-7ce02c60f243",
   "metadata": {},
   "outputs": [
    {
     "data": {
      "text/plain": [
       "<matplotlib.legend.Legend at 0x7fda49ea2b10>"
      ]
     },
     "execution_count": 17,
     "metadata": {},
     "output_type": "execute_result"
    },
    {
     "data": {
      "image/png": "[encoded data removed]",
      "text/plain": [
       "<Figure size 432x288 with 1 Axes>"
      ]
     },
     "metadata": {
      "needs_background": "light"
     },
     "output_type": "display_data"
    }
   ],
   "source": [
    "# 정상치와 이상치 시각화\n",
    "plt.scatter(X[inlier_mask], y[inlier_mask], c='blue', marker='o', label='inlier')\n",
    "plt.scatter(X[outlier_mask], y[outlier_mask], c='pink', marker='o', label='outlier')\n",
    "plt.plot(X[inlier_mask], z, 'r-')\n",
    "plt.legend()"
   ]
  },
  {
   "cell_type": "code",
   "execution_count": 18,
   "id": "ab071c4f-5334-4b77-b754-d27c3a4c8b3d",
   "metadata": {},
   "outputs": [
    {
     "name": "stdout",
     "output_type": "stream",
     "text": [
      "2.4741094195756936 0.8760762080445963\n"
     ]
    }
   ],
   "source": [
    "# 모델 성능 평가\n",
    "rmse = np.sqrt(mean_squared_error(y[inlier_mask],z))\n",
    "r2 = r2_score(y[inlier_mask], z)\n",
    "print(rmse, r2)"
   ]
  },
  {
   "cell_type": "code",
   "execution_count": 19,
   "id": "8b6ea871-79bb-4c56-80c7-12835345e597",
   "metadata": {},
   "outputs": [],
   "source": [
    "# 보스턴 집값 데이터셋에서 저소득층비율LSTAT와 주택평균가격MDEV에 대해 회귀분석과 RASNSAC 분석을 실시하고 결과를 서로 비교해보세요"
   ]
  },
  {
   "cell_type": "code",
   "execution_count": 20,
   "id": "187a18a1-f9cc-4e8d-8490-5db159f6acc7",
   "metadata": {},
   "outputs": [],
   "source": [
    "X = df.LSTAT\n",
    "y = df.MDEV"
   ]
  },
  {
   "cell_type": "code",
   "execution_count": 21,
   "id": "f85e06df-2f3c-4fd2-b618-71df86cf7ee9",
   "metadata": {},
   "outputs": [
    {
     "data": {
      "text/plain": [
       "[<matplotlib.lines.Line2D at 0x7fda49d8a850>]"
      ]
     },
     "execution_count": 21,
     "metadata": {},
     "output_type": "execute_result"
    },
    {
     "data": {
      "image/png": "[encoded data removed]",
      "text/plain": [
       "<Figure size 432x288 with 1 Axes>"
      ]
     },
     "metadata": {
      "needs_background": "light"
     },
     "output_type": "display_data"
    }
   ],
   "source": [
    "plt.plot(X,y,'bo')"
   ]
  },
  {
   "cell_type": "code",
   "execution_count": 22,
   "id": "36b802be-4a10-48d1-8128-b6cc8c30dc0c",
   "metadata": {},
   "outputs": [],
   "source": [
    "# 선형회귀\n",
    "X = np.array(X).reshape(-1,1)\n",
    "lr = LinearRegression()\n",
    "lr.fit(X, y)\n",
    "pred = lr.predict(X)"
   ]
  },
  {
   "cell_type": "code",
   "execution_count": 23,
   "id": "803874cd-ed5c-47b5-a0f3-c2dcbb73bdfa",
   "metadata": {},
   "outputs": [
    {
     "data": {
      "text/plain": [
       "(array([-0.95004935]), 34.5538408793831)"
      ]
     },
     "execution_count": 23,
     "metadata": {},
     "output_type": "execute_result"
    }
   ],
   "source": [
    "lr.coef_, lr.intercept_"
   ]
  },
  {
   "cell_type": "code",
   "execution_count": 24,
   "id": "347906ec-5582-4bf5-9920-54899e1b21ee",
   "metadata": {},
   "outputs": [
    {
     "name": "stdout",
     "output_type": "stream",
     "text": [
      "6.20346413142642 0.5441462975864797\n"
     ]
    }
   ],
   "source": [
    "rmse = np.sqrt(mean_squared_error(y, pred))\n",
    "r2 = r2_score(y, pred)\n",
    "print(rmse, r2)"
   ]
  },
  {
   "cell_type": "code",
   "execution_count": 25,
   "id": "282ad000-42c6-4815-af30-a5198e54aefc",
   "metadata": {},
   "outputs": [
    {
     "data": {
      "text/plain": [
       "[<matplotlib.lines.Line2D at 0x7fda49d0dbd0>]"
      ]
     },
     "execution_count": 25,
     "metadata": {},
     "output_type": "execute_result"
    },
    {
     "data": {
      "image/png": "[encoded data removed]",
      "text/plain": [
       "<Figure size 432x288 with 1 Axes>"
      ]
     },
     "metadata": {
      "needs_background": "light"
     },
     "output_type": "display_data"
    }
   ],
   "source": [
    "plt.plot(X, y, 'bo')\n",
    "plt.plot(X, pred, 'r-')"
   ]
  },
  {
   "cell_type": "code",
   "execution_count": 26,
   "id": "b5743b42-f4fb-4341-967b-27485d09c73a",
   "metadata": {},
   "outputs": [
    {
     "data": {
      "text/plain": [
       "RANSACRegressor(base_estimator=LinearRegression(), max_trials=500,\n",
       "                min_samples=50, random_state=2111091205,\n",
       "                residual_threshold=5.0)"
      ]
     },
     "execution_count": 26,
     "metadata": {},
     "output_type": "execute_result"
    }
   ],
   "source": [
    "lr2 = LinearRegression()\n",
    "ransac = RANSACRegressor(lr2, max_trials=500,min_samples=50, loss='absolute_error',residual_threshold=5.0, random_state=2111091205)\n",
    "ransac.fit(X, y)"
   ]
  },
  {
   "cell_type": "code",
   "execution_count": 27,
   "id": "042c0ab4-cbd1-4bf3-b93a-23a5afcfe8c2",
   "metadata": {},
   "outputs": [
    {
     "name": "stdout",
     "output_type": "stream",
     "text": [
      "[-0.74347328] 29.828872956329434\n"
     ]
    }
   ],
   "source": [
    "a = ransac.estimator_.coef_\n",
    "b = ransac.estimator_.intercept_\n",
    "print(a,b)"
   ]
  },
  {
   "cell_type": "code",
   "execution_count": 28,
   "id": "229fad2b-bd65-4f42-a2f0-cd7ad5520367",
   "metadata": {},
   "outputs": [],
   "source": [
    "inlier_mask = ransac.inlier_mask_\n",
    "outlier_mask = np.logical_not(inlier_mask)"
   ]
  },
  {
   "cell_type": "code",
   "execution_count": 29,
   "id": "f250afd1-85f1-424c-bb21-70d71cec337d",
   "metadata": {},
   "outputs": [],
   "source": [
    "pred = ransac.predict(X[inlier_mask])"
   ]
  },
  {
   "cell_type": "code",
   "execution_count": 30,
   "id": "13c2c1e1-26a4-4504-aeda-dc5491520f2c",
   "metadata": {},
   "outputs": [
    {
     "name": "stdout",
     "output_type": "stream",
     "text": [
      "2.411268834239307 0.7981455201082017\n"
     ]
    }
   ],
   "source": [
    "rmse = np.sqrt(mean_squared_error(y[inlier_mask], pred))\n",
    "r2 = r2_score(y[inlier_mask], pred)\n",
    "print(rmse,r2)"
   ]
  },
  {
   "cell_type": "code",
   "execution_count": 31,
   "id": "40cd0e80-0d89-4397-a95a-748ace46fb6c",
   "metadata": {},
   "outputs": [
    {
     "data": {
      "text/plain": [
       "<matplotlib.legend.Legend at 0x7fda49ce81d0>"
      ]
     },
     "execution_count": 31,
     "metadata": {},
     "output_type": "execute_result"
    },
    {
     "data": {
      "image/png": "[encoded data removed]",
      "text/plain": [
       "<Figure size 432x288 with 1 Axes>"
      ]
     },
     "metadata": {
      "needs_background": "light"
     },
     "output_type": "display_data"
    }
   ],
   "source": [
    "# 정상치와 이상치 시각화\n",
    "plt.scatter(X[inlier_mask], y[inlier_mask], c='blue', marker='o', label='inlier')\n",
    "plt.scatter(X[outlier_mask], y[outlier_mask], c='pink', marker='o', label='outlier')\n",
    "plt.plot(X[inlier_mask], pred, 'r-')\n",
    "plt.legend()"
   ]
  }
 ],
 "metadata": {
  "kernelspec": {
   "display_name": "Python 3 (ipykernel)",
   "language": "python",
   "name": "python3"
  },
  "language_info": {
   "codemirror_mode": {
    "name": "ipython",
    "version": 3
   },
   "file_extension": ".py",
   "mimetype": "text/x-python",
   "name": "python",
   "nbconvert_exporter": "python",
   "pygments_lexer": "ipython3",
   "version": "3.7.10"
  }
 },
 "nbformat": 4,
 "nbformat_minor": 5
}
