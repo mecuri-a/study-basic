{
 "cells": [
  {
   "cell_type": "markdown",
   "id": "31ab19bc-6dfe-4040-92d4-5fbf50852b20",
   "metadata": {},
   "source": [
    "### ROC\n",
    "* 수신자 판단 곡선receiver operation characteristic\n",
    "* 세계 2차대전 통신장비 성능평가를 위해 고안된 수치\n",
    "   + 레이더데이터를 분석해서 적 항공기와 신호소음을 구분\n",
    "   + 수신기의 감도가 증가함에 따라 거짓긍정(특이성)의 수가 감소\n",
    "\n",
    "\n",
    "* 의학분야에 많이 사용되지만 머신러닝의 이진분류 모델 성능 평가에도 사용\n",
    "* ROC 곡선의 y축은 민감도, x축은 1-재현율로 그림\n",
    "* 모델이 양성/긍정으로 예측했을때 얼마나 잘 맞추고 있는지 설명"
   ]
  },
  {
   "cell_type": "code",
   "execution_count": 1,
   "id": "6274bfb9-6b3d-48fe-96fa-ce573e7129fe",
   "metadata": {},
   "outputs": [],
   "source": [
    "import numpy as np\n",
    "import pandas as pd\n",
    "import matplotlib.pyplot as plt\n",
    "import seaborn as sns"
   ]
  },
  {
   "cell_type": "code",
   "execution_count": 2,
   "id": "63fa4e69-3729-4cac-a12a-05c536a34096",
   "metadata": {},
   "outputs": [
    {
     "data": {
      "text/html": [
       "<div>\n",
       "<style scoped>\n",
       "    .dataframe tbody tr th:only-of-type {\n",
       "        vertical-align: middle;\n",
       "    }\n",
       "\n",
       "    .dataframe tbody tr th {\n",
       "        vertical-align: top;\n",
       "    }\n",
       "\n",
       "    .dataframe thead th {\n",
       "        text-align: right;\n",
       "    }\n",
       "</style>\n",
       "<table border=\"1\" class=\"dataframe\">\n",
       "  <thead>\n",
       "    <tr style=\"text-align: right;\">\n",
       "      <th></th>\n",
       "      <th>pclass</th>\n",
       "      <th>survived</th>\n",
       "      <th>name</th>\n",
       "      <th>sex</th>\n",
       "      <th>age</th>\n",
       "      <th>sibsp</th>\n",
       "      <th>parch</th>\n",
       "      <th>ticket</th>\n",
       "      <th>fare</th>\n",
       "      <th>embarked</th>\n",
       "      <th>life</th>\n",
       "      <th>seat</th>\n",
       "      <th>port</th>\n",
       "    </tr>\n",
       "  </thead>\n",
       "  <tbody>\n",
       "    <tr>\n",
       "      <th>0</th>\n",
       "      <td>1</td>\n",
       "      <td>1</td>\n",
       "      <td>Allen, Miss. Elisabeth Walton</td>\n",
       "      <td>female</td>\n",
       "      <td>29.0000</td>\n",
       "      <td>0</td>\n",
       "      <td>0</td>\n",
       "      <td>24160</td>\n",
       "      <td>211.3375</td>\n",
       "      <td>S</td>\n",
       "      <td>live</td>\n",
       "      <td>1st</td>\n",
       "      <td>southampthon</td>\n",
       "    </tr>\n",
       "    <tr>\n",
       "      <th>1</th>\n",
       "      <td>1</td>\n",
       "      <td>1</td>\n",
       "      <td>Allison, Master. Hudson Trevor</td>\n",
       "      <td>male</td>\n",
       "      <td>0.9167</td>\n",
       "      <td>1</td>\n",
       "      <td>2</td>\n",
       "      <td>113781</td>\n",
       "      <td>151.5500</td>\n",
       "      <td>S</td>\n",
       "      <td>live</td>\n",
       "      <td>1st</td>\n",
       "      <td>southampthon</td>\n",
       "    </tr>\n",
       "    <tr>\n",
       "      <th>2</th>\n",
       "      <td>1</td>\n",
       "      <td>0</td>\n",
       "      <td>Allison, Miss. Helen Loraine</td>\n",
       "      <td>female</td>\n",
       "      <td>2.0000</td>\n",
       "      <td>1</td>\n",
       "      <td>2</td>\n",
       "      <td>113781</td>\n",
       "      <td>151.5500</td>\n",
       "      <td>S</td>\n",
       "      <td>dead</td>\n",
       "      <td>1st</td>\n",
       "      <td>southampthon</td>\n",
       "    </tr>\n",
       "    <tr>\n",
       "      <th>3</th>\n",
       "      <td>1</td>\n",
       "      <td>0</td>\n",
       "      <td>Allison, Mr. Hudson Joshua Creighton</td>\n",
       "      <td>male</td>\n",
       "      <td>30.0000</td>\n",
       "      <td>1</td>\n",
       "      <td>2</td>\n",
       "      <td>113781</td>\n",
       "      <td>151.5500</td>\n",
       "      <td>S</td>\n",
       "      <td>dead</td>\n",
       "      <td>1st</td>\n",
       "      <td>southampthon</td>\n",
       "    </tr>\n",
       "    <tr>\n",
       "      <th>4</th>\n",
       "      <td>1</td>\n",
       "      <td>0</td>\n",
       "      <td>Allison, Mrs. Hudson J C (Bessie Waldo Daniels)</td>\n",
       "      <td>female</td>\n",
       "      <td>25.0000</td>\n",
       "      <td>1</td>\n",
       "      <td>2</td>\n",
       "      <td>113781</td>\n",
       "      <td>151.5500</td>\n",
       "      <td>S</td>\n",
       "      <td>dead</td>\n",
       "      <td>1st</td>\n",
       "      <td>southampthon</td>\n",
       "    </tr>\n",
       "  </tbody>\n",
       "</table>\n",
       "</div>"
      ],
      "text/plain": [
       "   pclass  survived                                             name     sex  \\\n",
       "0       1         1                    Allen, Miss. Elisabeth Walton  female   \n",
       "1       1         1                   Allison, Master. Hudson Trevor    male   \n",
       "2       1         0                     Allison, Miss. Helen Loraine  female   \n",
       "3       1         0             Allison, Mr. Hudson Joshua Creighton    male   \n",
       "4       1         0  Allison, Mrs. Hudson J C (Bessie Waldo Daniels)  female   \n",
       "\n",
       "       age  sibsp  parch  ticket      fare embarked  life seat          port  \n",
       "0  29.0000      0      0   24160  211.3375        S  live  1st  southampthon  \n",
       "1   0.9167      1      2  113781  151.5500        S  live  1st  southampthon  \n",
       "2   2.0000      1      2  113781  151.5500        S  dead  1st  southampthon  \n",
       "3  30.0000      1      2  113781  151.5500        S  dead  1st  southampthon  \n",
       "4  25.0000      1      2  113781  151.5500        S  dead  1st  southampthon  "
      ]
     },
     "execution_count": 2,
     "metadata": {},
     "output_type": "execute_result"
    }
   ],
   "source": [
    "# 타이타닉 데이터셋을 로지스틱 회귀로 분석한 후 특이도/재현율을 구한 다음 ROC그래프를 그려보세요\n",
    "titanic = pd.read_csv('csv/titanic2.csv')\n",
    "titanic.head()"
   ]
  },
  {
   "cell_type": "code",
   "execution_count": 3,
   "id": "7264575a-0989-46f9-8df8-d8c055c5763a",
   "metadata": {},
   "outputs": [],
   "source": [
    "titanic['gender'] = titanic['sex'].apply(lambda x : 0 if x == 'female' else 1)\n",
    "titanic['harbor'] = titanic['embarked'].apply(lambda x: 0 if x == 'C' else (1 if x == 'S' else 2))\n",
    "titanic.to_csv('csv/titanic3.csv', index=False)"
   ]
  },
  {
   "cell_type": "code",
   "execution_count": 4,
   "id": "dbe318cc-eaa6-4af2-b327-7b5bf06025a2",
   "metadata": {},
   "outputs": [],
   "source": [
    "data = titanic.iloc[:, [0,4,5,6,8,13,14]]\n",
    "target = titanic.survived"
   ]
  },
  {
   "cell_type": "code",
   "execution_count": 22,
   "id": "3c15973d-5dd8-4587-afa2-e79136ed496d",
   "metadata": {},
   "outputs": [],
   "source": [
    "from sklearn.model_selection import train_test_split\n",
    "from sklearn.linear_model import LogisticRegression\n",
    "\n",
    "Xtrain, Xtest, ytrain, ytest = train_test_split(data, target, train_size=0.7, random_state=2111050955)"
   ]
  },
  {
   "cell_type": "code",
   "execution_count": 6,
   "id": "ac07f8c4-a157-47ad-b230-5bda8636cf8d",
   "metadata": {},
   "outputs": [],
   "source": [
    "lrclf = LogisticRegression()\n",
    "lrclf.fit(Xtrain, ytrain)\n",
    "pred = lrclf.predict(Xtest)"
   ]
  },
  {
   "cell_type": "markdown",
   "id": "1d01e8e4-0472-4f1b-a8ac-7cbbd3d4cb43",
   "metadata": {},
   "source": [
    "### 분류 알고리즘 종류\n",
    "* 판별함수 모형\n",
    "  + 주어진 데이터를 범주에 따라 서로 다른 영역으로 나누는 경계면을 찾아낸 후 이 경계면을 기준으로 데이터가 어디에 속하는지 계산하는 함수 사용\n",
    "\n",
    "* 확률적 판별/생성 모형\n",
    "  + 주어진 데이터에 대해 각 범주/레이블이 정답일 조건부확률을 계산하는 방법에 따라 조건부확률 함수를 추정하거나 베이즈 정리를 사용해서 분류하는 모형\n",
    "\n",
    "* 분류기의 예측 불확실성을 추정하려면 scikit-learn에서 제공하는 2가지 함수 사용\n",
    "   + predict / predict_proba"
   ]
  },
  {
   "cell_type": "code",
   "execution_count": 7,
   "id": "825cb647-f6e5-4ac2-985d-18c6b4377bb7",
   "metadata": {},
   "outputs": [
    {
     "data": {
      "text/plain": [
       "array([0, 0, 0, 0, 0])"
      ]
     },
     "execution_count": 7,
     "metadata": {},
     "output_type": "execute_result"
    }
   ],
   "source": [
    "# 타이타닉 생존 예측확률 알아보기 1\n",
    "Xtest[:5]\n",
    "lrclf.predict(Xtest[:5])   # 예측결과는 이산형값으로 출력"
   ]
  },
  {
   "cell_type": "code",
   "execution_count": 8,
   "id": "1294ea0a-9340-4f32-9a33-0aa680e96f7b",
   "metadata": {},
   "outputs": [
    {
     "data": {
      "text/plain": [
       "array([[0.77107648, 0.22892352],\n",
       "       [0.59794768, 0.40205232],\n",
       "       [0.82068816, 0.17931184],\n",
       "       [0.81254511, 0.18745489],\n",
       "       [0.73155206, 0.26844794]])"
      ]
     },
     "execution_count": 8,
     "metadata": {},
     "output_type": "execute_result"
    }
   ],
   "source": [
    "# 타이타닉 생존 예측확률 알아보기 2\n",
    "lrclf.predict_proba(Xtest[:5]) # 예측결과는 확률수치로 출력"
   ]
  },
  {
   "cell_type": "code",
   "execution_count": 9,
   "id": "79b576a9-fddc-4ba2-b1d7-996f62eb7b81",
   "metadata": {},
   "outputs": [
    {
     "data": {
      "text/plain": [
       "array([[0.77107648, 0.22892352],\n",
       "       [0.59794768, 0.40205232],\n",
       "       [0.82068816, 0.17931184],\n",
       "       [0.81254511, 0.18745489],\n",
       "       [0.73155206, 0.26844794]])"
      ]
     },
     "execution_count": 9,
     "metadata": {},
     "output_type": "execute_result"
    }
   ],
   "source": [
    "# 확률적 판별/생성 모형을 통해 특이도에 따른 재현율의 변화를 살펴봄\n",
    "lrclf.predict_proba(Xtest)[:5]"
   ]
  },
  {
   "cell_type": "code",
   "execution_count": 10,
   "id": "5ef9fb83-ebfb-4751-a040-a813dfa4604f",
   "metadata": {},
   "outputs": [
    {
     "data": {
      "text/plain": [
       "(1296,)"
      ]
     },
     "execution_count": 10,
     "metadata": {},
     "output_type": "execute_result"
    }
   ],
   "source": [
    "# 결과에서 negative한 열을 추출함 : 특이도를 알아보기 위함\n",
    "pred_proba = lrclf.predict_proba(Xtest)[:,1]\n",
    "pred_proba.shape   # 예측확률 건수 => 392"
   ]
  },
  {
   "cell_type": "code",
   "execution_count": 11,
   "id": "9714460c-cecd-449a-963f-10da400fbfe9",
   "metadata": {},
   "outputs": [
    {
     "data": {
      "text/html": [
       "<div>\n",
       "<style scoped>\n",
       "    .dataframe tbody tr th:only-of-type {\n",
       "        vertical-align: middle;\n",
       "    }\n",
       "\n",
       "    .dataframe tbody tr th {\n",
       "        vertical-align: top;\n",
       "    }\n",
       "\n",
       "    .dataframe thead th {\n",
       "        text-align: right;\n",
       "    }\n",
       "</style>\n",
       "<table border=\"1\" class=\"dataframe\">\n",
       "  <thead>\n",
       "    <tr style=\"text-align: right;\">\n",
       "      <th></th>\n",
       "      <th>ytest</th>\n",
       "      <th>FP proba</th>\n",
       "      <th>pred</th>\n",
       "    </tr>\n",
       "  </thead>\n",
       "  <tbody>\n",
       "    <tr>\n",
       "      <th>332</th>\n",
       "      <td>0</td>\n",
       "      <td>0.228924</td>\n",
       "      <td>0</td>\n",
       "    </tr>\n",
       "    <tr>\n",
       "      <th>164</th>\n",
       "      <td>1</td>\n",
       "      <td>0.402052</td>\n",
       "      <td>0</td>\n",
       "    </tr>\n",
       "    <tr>\n",
       "      <th>1289</th>\n",
       "      <td>0</td>\n",
       "      <td>0.179312</td>\n",
       "      <td>0</td>\n",
       "    </tr>\n",
       "    <tr>\n",
       "      <th>1279</th>\n",
       "      <td>0</td>\n",
       "      <td>0.187455</td>\n",
       "      <td>0</td>\n",
       "    </tr>\n",
       "    <tr>\n",
       "      <th>1001</th>\n",
       "      <td>1</td>\n",
       "      <td>0.268448</td>\n",
       "      <td>0</td>\n",
       "    </tr>\n",
       "  </tbody>\n",
       "</table>\n",
       "</div>"
      ],
      "text/plain": [
       "      ytest  FP proba  pred\n",
       "332       0  0.228924     0\n",
       "164       1  0.402052     0\n",
       "1289      0  0.179312     0\n",
       "1279      0  0.187455     0\n",
       "1001      1  0.268448     0"
      ]
     },
     "execution_count": 11,
     "metadata": {},
     "output_type": "execute_result"
    }
   ],
   "source": [
    "# 실제값, 확률값, 예측값을 하나의 데이터프레임에 작성\n",
    "df = pd.DataFrame()\n",
    "df['ytest'] = ytest  # 실제값\n",
    "df['FP proba'] = pred_proba   # FP 확률\n",
    "df['pred'] = pred    # 예측값\n",
    "df.head()"
   ]
  },
  {
   "cell_type": "code",
   "execution_count": 12,
   "id": "2e41bcb6-91f3-4bf0-aa7e-3bbcf374ec4a",
   "metadata": {},
   "outputs": [],
   "source": [
    "# 각 예측확률별 특이도FPR와 민감도TPR, 임계값을 구함\n",
    "# 즉, 생존했는데 사망했다고 예측한 비율과\n",
    "# 사망했는데 사망했다고 예측한 비율을 판단할때의 경계값을 살펴봄\n",
    "from sklearn.metrics import roc_curve"
   ]
  },
  {
   "cell_type": "code",
   "execution_count": 13,
   "id": "5f8e60e7-75aa-4bff-9df7-a55dc74e6877",
   "metadata": {},
   "outputs": [
    {
     "name": "stdout",
     "output_type": "stream",
     "text": [
      "음성판단 [0.         0.         0.         0.00124688 0.00124688 0.00249377\n",
      " 0.00249377 0.00498753 0.00498753 0.0074813 ] (540,)\n"
     ]
    }
   ],
   "source": [
    "fprs, tprs, thresholds = roc_curve(ytest, pred_proba)\n",
    "print('음성판단', fprs[:10], fprs.shape)"
   ]
  },
  {
   "cell_type": "code",
   "execution_count": 14,
   "id": "2f31535d-0979-418e-ade1-5ab76015860e",
   "metadata": {},
   "outputs": [
    {
     "name": "stdout",
     "output_type": "stream",
     "text": [
      "양성판단 [0.         0.00809717 0.01417004 0.01417004 0.02024291 0.02024291\n",
      " 0.03036437 0.03036437 0.03643725 0.03643725] (540,)\n"
     ]
    }
   ],
   "source": [
    "print('양성판단', tprs[:10], fprs.shape)"
   ]
  },
  {
   "cell_type": "code",
   "execution_count": 15,
   "id": "402f596c-6b6f-4374-8d94-4afc4eaceca8",
   "metadata": {},
   "outputs": [
    {
     "data": {
      "text/html": [
       "<div>\n",
       "<style scoped>\n",
       "    .dataframe tbody tr th:only-of-type {\n",
       "        vertical-align: middle;\n",
       "    }\n",
       "\n",
       "    .dataframe tbody tr th {\n",
       "        vertical-align: top;\n",
       "    }\n",
       "\n",
       "    .dataframe thead th {\n",
       "        text-align: right;\n",
       "    }\n",
       "</style>\n",
       "<table border=\"1\" class=\"dataframe\">\n",
       "  <thead>\n",
       "    <tr style=\"text-align: right;\">\n",
       "      <th></th>\n",
       "      <th>FPR</th>\n",
       "      <th>TPR</th>\n",
       "      <th>Threshold</th>\n",
       "    </tr>\n",
       "  </thead>\n",
       "  <tbody>\n",
       "    <tr>\n",
       "      <th>0</th>\n",
       "      <td>0.000000</td>\n",
       "      <td>0.000000</td>\n",
       "      <td>2.0</td>\n",
       "    </tr>\n",
       "    <tr>\n",
       "      <th>1</th>\n",
       "      <td>0.000000</td>\n",
       "      <td>0.008097</td>\n",
       "      <td>1.0</td>\n",
       "    </tr>\n",
       "    <tr>\n",
       "      <th>2</th>\n",
       "      <td>0.000000</td>\n",
       "      <td>0.014170</td>\n",
       "      <td>1.0</td>\n",
       "    </tr>\n",
       "    <tr>\n",
       "      <th>3</th>\n",
       "      <td>0.001247</td>\n",
       "      <td>0.014170</td>\n",
       "      <td>1.0</td>\n",
       "    </tr>\n",
       "    <tr>\n",
       "      <th>4</th>\n",
       "      <td>0.001247</td>\n",
       "      <td>0.020243</td>\n",
       "      <td>1.0</td>\n",
       "    </tr>\n",
       "  </tbody>\n",
       "</table>\n",
       "</div>"
      ],
      "text/plain": [
       "        FPR       TPR  Threshold\n",
       "0  0.000000  0.000000        2.0\n",
       "1  0.000000  0.008097        1.0\n",
       "2  0.000000  0.014170        1.0\n",
       "3  0.001247  0.014170        1.0\n",
       "4  0.001247  0.020243        1.0"
      ]
     },
     "execution_count": 15,
     "metadata": {},
     "output_type": "execute_result"
    }
   ],
   "source": [
    "# 모두 합쳐서 살펴봄\n",
    "# fpr 과 tpr의 수치 관계를 눈여겨 봄\n",
    "roc = pd.DataFrame({'FPR':fprs, 'TPR':tprs,'Threshold':thresholds})\n",
    "roc.head()"
   ]
  },
  {
   "cell_type": "code",
   "execution_count": 16,
   "id": "804e9b88-54ed-4e24-8214-56d3e9267509",
   "metadata": {},
   "outputs": [
    {
     "data": {
      "text/plain": [
       "<seaborn.axisgrid.FacetGrid at 0x7f1519151090>"
      ]
     },
     "execution_count": 16,
     "metadata": {},
     "output_type": "execute_result"
    },
    {
     "data": {
      "image/png": "[encoded data removed]",
      "text/plain": [
       "<Figure size 414.875x360 with 1 Axes>"
      ]
     },
     "metadata": {
      "needs_background": "light"
     },
     "output_type": "display_data"
    }
   ],
   "source": [
    "# fpr 과 tpr의 수치 시각화\n",
    "# TPR 곡선과 FPR 곡선이 서로 겹칠수록 분류기의 성능은 떨어짐\n",
    "sns.displot(roc.iloc[:, [0,1]], kind='kde')"
   ]
  },
  {
   "cell_type": "code",
   "execution_count": 17,
   "id": "cd393042-9468-47ea-92e5-03a254260488",
   "metadata": {},
   "outputs": [
    {
     "data": {
      "text/plain": [
       "0.4905231104372174"
      ]
     },
     "execution_count": 17,
     "metadata": {},
     "output_type": "execute_result"
    }
   ],
   "source": [
    "# 최적의 임계값 살펴보기\n",
    "# tprs와 fprs 중 가장 큰 값을 찾아서 서로 빼줌\n",
    "optidx = np.argmax(tprs-fprs)\n",
    "optths = thresholds[optidx]\n",
    "optths"
   ]
  },
  {
   "cell_type": "markdown",
   "id": "3f189edc-ad96-4a6e-81cd-584b7ea36bf7",
   "metadata": {
    "tags": []
   },
   "source": [
    "### ROC 그래프 그림\n",
    "\n",
    "<img src='img/thredhold2low.gif'>\n",
    "<img src='img/thredhold2high.gif'>\n",
    "<img src='img/thredhold2curve.gif'>\n",
    "<img src='img/roc2good.gif'>\n",
    "\n",
    "+ 커브가 왼쪽 최상단에 가깝게 붙으수록 좋은 분류기임\n",
    "+ x축은 FPR, y축은 TPR을 의미\n",
    "+ TP : 사망한 승객을 사망했다고 예측한 것\n",
    "+ FP : 사망하지 않은 승객을 사망했다고 예측한 것"
   ]
  },
  {
   "cell_type": "code",
   "execution_count": 18,
   "id": "17cd29f7-470e-4526-bb75-4c7a9998410c",
   "metadata": {},
   "outputs": [
    {
     "data": {
      "text/plain": [
       "<matplotlib.legend.Legend at 0x7f151915a1d0>"
      ]
     },
     "execution_count": 18,
     "metadata": {},
     "output_type": "execute_result"
    },
    {
     "data": {
      "image/png": "[encoded data removed]",
      "text/plain": [
       "<Figure size 432x288 with 1 Axes>"
      ]
     },
     "metadata": {
      "needs_background": "light"
     },
     "output_type": "display_data"
    }
   ],
   "source": [
    "plt.plot(fprs, tprs, 'r', label='ROC')\n",
    "plt.plot([0,1], [0,1], 'k--')\n",
    "plt.legend()"
   ]
  },
  {
   "cell_type": "markdown",
   "id": "1181e612-03a3-4ea4-b76b-cd7d0e34e48c",
   "metadata": {},
   "source": [
    "### AUC\n",
    "* 0.7~0.8 : normal\n",
    "* 0.8~0.9 : good\n",
    "* 0.9~1 : excellent"
   ]
  },
  {
   "cell_type": "code",
   "execution_count": 19,
   "id": "af5849a7-0c48-474e-b3da-03e394cf729b",
   "metadata": {},
   "outputs": [
    {
     "data": {
      "text/plain": [
       "0.6598710713095803"
      ]
     },
     "execution_count": 19,
     "metadata": {},
     "output_type": "execute_result"
    }
   ],
   "source": [
    "from sklearn.metrics import roc_auc_score\n",
    "roc_auc_score(ytest, pred)"
   ]
  }
 ],
 "metadata": {
  "kernelspec": {
   "display_name": "Python 3 (ipykernel)",
   "language": "python",
   "name": "python3"
  },
  "language_info": {
   "codemirror_mode": {
    "name": "ipython",
    "version": 3
   },
   "file_extension": ".py",
   "mimetype": "text/x-python",
   "name": "python",
   "nbconvert_exporter": "python",
   "pygments_lexer": "ipython3",
   "version": "3.7.10"
  }
 },
 "nbformat": 4,
 "nbformat_minor": 5
}
