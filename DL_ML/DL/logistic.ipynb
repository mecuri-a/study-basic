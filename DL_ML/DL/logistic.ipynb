{
 "cells": [
  {
   "cell_type": "markdown",
   "id": "fd77c165-05c9-4b0a-9b65-40b83c5ab59d",
   "metadata": {},
   "source": [
    "### 선형회귀분석 오류\n",
    "* 곤충질량(g)에 따라 암수구분하는 모델 생성\n",
    "* 0 : 암컷 / 1: : 수컷"
   ]
  },
  {
   "cell_type": "code",
   "execution_count": 1,
   "id": "8cba12c8-b26d-451b-b1b2-02e09405fdd8",
   "metadata": {},
   "outputs": [],
   "source": [
    "wght = [1.94,1.67,0.92,1.11,1.41,1.65,2.28,0.47,1.07,2.19,2.08,1.02,0.91,1.16,1.46,1.02,0.85,0.89,1.79,1.89,0.75,0.9,1.87,0.5,0.69,1.5,0.96,0.53,1.21,0.6]\n",
    "spcs = [1,1,0,0,1,1,1,0,0,1,1,0,0,0,1,0,0,0,1,1,0,1,1,0,0,1,1,0,1,0]"
   ]
  },
  {
   "cell_type": "code",
   "execution_count": 2,
   "id": "2a6e4c1c-a809-4409-b334-8f653cd1e307",
   "metadata": {},
   "outputs": [],
   "source": [
    "import numpy as np\n",
    "import pandas as pd\n",
    "import matplotlib.pyplot as plt"
   ]
  },
  {
   "cell_type": "code",
   "execution_count": 3,
   "id": "73494fc0-c9f5-43b3-98bf-b19bf04f1f70",
   "metadata": {},
   "outputs": [],
   "source": [
    "from sklearn.linear_model import LinearRegression\n",
    "from sklearn.metrics import r2_score"
   ]
  },
  {
   "cell_type": "code",
   "execution_count": 4,
   "id": "da8aba2b-cf0b-45da-b85b-104fd17683bc",
   "metadata": {},
   "outputs": [
    {
     "data": {
      "text/plain": [
       "[<matplotlib.lines.Line2D at 0x7fcdc2bbb590>]"
      ]
     },
     "execution_count": 4,
     "metadata": {},
     "output_type": "execute_result"
    },
    {
     "data": {
      "image/png": "[encoded data removed]",
      "text/plain": [
       "<Figure size 432x288 with 1 Axes>"
      ]
     },
     "metadata": {
      "needs_background": "light"
     },
     "output_type": "display_data"
    }
   ],
   "source": [
    "# 시각화\n",
    "plt.plot(wght,spcs, 'ro')"
   ]
  },
  {
   "cell_type": "code",
   "execution_count": 5,
   "id": "54cc7d5c-4539-4410-ab83-384728fe5745",
   "metadata": {},
   "outputs": [
    {
     "data": {
      "text/plain": [
       "LinearRegression()"
      ]
     },
     "execution_count": 5,
     "metadata": {},
     "output_type": "execute_result"
    }
   ],
   "source": [
    "# 선형회귀분석\n",
    "lr = LinearRegression()\n",
    "lr.fit(np.array(wght).reshape(-1,1), spcs)"
   ]
  },
  {
   "cell_type": "code",
   "execution_count": 6,
   "id": "59bb3e8f-32c5-4dc7-a0f5-d160cf06714b",
   "metadata": {},
   "outputs": [
    {
     "data": {
      "text/plain": [
       "(array([0.74825276]), -0.43007818056050295)"
      ]
     },
     "execution_count": 6,
     "metadata": {},
     "output_type": "execute_result"
    }
   ],
   "source": [
    "lr.coef_, lr.intercept_"
   ]
  },
  {
   "cell_type": "code",
   "execution_count": 7,
   "id": "a85b19f0-2e4f-42a5-b34a-74900723c5f6",
   "metadata": {},
   "outputs": [
    {
     "data": {
      "text/plain": [
       "0.6140660982944375"
      ]
     },
     "execution_count": 7,
     "metadata": {},
     "output_type": "execute_result"
    }
   ],
   "source": [
    "pred = lr.predict(np.array(wght).reshape(-1,1))\n",
    "r2_score(spcs,pred)"
   ]
  },
  {
   "cell_type": "code",
   "execution_count": 8,
   "id": "b051af9a-09d4-43d3-8fd6-d892d65f3d1d",
   "metadata": {},
   "outputs": [
    {
     "data": {
      "text/plain": [
       "[<matplotlib.lines.Line2D at 0x7fcdc2a84490>]"
      ]
     },
     "execution_count": 8,
     "metadata": {},
     "output_type": "execute_result"
    },
    {
     "data": {
      "image/png": "[encoded data removed]",
      "text/plain": [
       "<Figure size 432x288 with 1 Axes>"
      ]
     },
     "metadata": {
      "needs_background": "light"
     },
     "output_type": "display_data"
    }
   ],
   "source": [
    "plt.plot(wght, spcs, 'bo')\n",
    "plt.plot(wght, pred, 'r-')"
   ]
  },
  {
   "cell_type": "markdown",
   "id": "605c11a6-71d9-4ec9-b2eb-73989499b739",
   "metadata": {},
   "source": [
    "### 종속변수가 범주형인 경우\n",
    "* 선형방정식은 이항분포를 따르는 데이터에 적용하기에 다소 맞지 않음\n",
    "    + ### $ y = ax + b $\n",
    "* 즉, 우변값의 범위는 <span style=color:green>'-무한대 ~ +무한대'</span> 이지만, 좌변값의 범위는<span style=color:green>'0 ~ 1'</span>임\n",
    "* 따라서, 좌변값의 범위를 우변과 동일하게 <span style=color:green>'-무한대 ~ +무한대'</span>로 하려면 적절한 변환함수가 필요 \n",
    "    + 로짓함수를 이용해서 변환함\n",
    "    + ### $ f(x) = \\frac {1} {1 + e^{-x}} $"
   ]
  },
  {
   "cell_type": "code",
   "execution_count": 9,
   "id": "2110fab5-c7fe-44b5-9c16-5c73ffeadfba",
   "metadata": {},
   "outputs": [],
   "source": [
    "# 로짓함수 정의\n",
    "def logistic(x,w):\n",
    "    yy = 1 / (1 + np.exp(-(w[0]*x + w[1])))\n",
    "    return yy"
   ]
  },
  {
   "cell_type": "code",
   "execution_count": 10,
   "id": "72ccaab5-759d-4364-bd19-73c6b8a259e3",
   "metadata": {},
   "outputs": [],
   "source": [
    "# 로짓함수를 이용해서 다시 그래프를 그림\n",
    "W = [8,-10] # 기울기와 절편을 임의로 설정\n",
    "xx = np.linspace(0.5, 2.25, 50) # 0.5~2.25내 50개 값생성\n",
    "yy = logistic(xx, W)"
   ]
  },
  {
   "cell_type": "code",
   "execution_count": 11,
   "id": "d0f536f7-50a9-46eb-b50b-d13664784799",
   "metadata": {},
   "outputs": [
    {
     "data": {
      "text/plain": [
       "[<matplotlib.lines.Line2D at 0x7fcdc29b71d0>]"
      ]
     },
     "execution_count": 11,
     "metadata": {},
     "output_type": "execute_result"
    },
    {
     "data": {
      "image/png": "[encoded data removed]",
      "text/plain": [
       "<Figure size 432x288 with 1 Axes>"
      ]
     },
     "metadata": {
      "needs_background": "light"
     },
     "output_type": "display_data"
    }
   ],
   "source": [
    "plt.scatter(pd.Series(wght), pd.Series(spcs), c=spcs)\n",
    "# plt.plot(wght, spcs, 'bo')\n",
    "plt.plot(xx.reshape(-1,1), yy, 'r-')\n",
    "# 결정경계 표시 (yy가 0.5이상되는 지점 알아냄)\n",
    "i = np.min( np.where(yy >= 0.5) )\n",
    "xp = (xx[i])\n",
    "plt.plot([xp,xp], [-.5,1.5], 'y--')"
   ]
  },
  {
   "cell_type": "code",
   "execution_count": 12,
   "id": "d7a51f17-9e95-4dd3-9e2a-aa3a829be721",
   "metadata": {},
   "outputs": [],
   "source": [
    "# sklearn에서 제공하는 LogisticRegression으로 분석하기\n",
    "from sklearn.linear_model import LogisticRegression\n",
    "from sklearn.metrics import accuracy_score"
   ]
  },
  {
   "cell_type": "code",
   "execution_count": 13,
   "id": "79f39bfa-37ea-436c-9785-d88552d3bae1",
   "metadata": {},
   "outputs": [],
   "source": [
    "X = np.array(wght).reshape(-1,1)\n",
    "y = spcs"
   ]
  },
  {
   "cell_type": "code",
   "execution_count": 14,
   "id": "8e74510a-5779-4678-bfad-ed280809b78a",
   "metadata": {},
   "outputs": [],
   "source": [
    "# solver : sklearn 20.x 이상부터는 명시적 지정 필요\n",
    "# liblinear : 이항회귀, 비교적 작은 데이터셋에 적합 ( 0 또는 1 같은걸 분석할떄 )\n",
    "# lbfgs, newton-cg : 다항회귀, L1제약\n",
    "# sag, saga : 다항회귀, L2제약, 확률적 경사하강법 사용\n",
    "# multi_class : 'multinomial' # 다항회귀 설정\n",
    "lrclf = LogisticRegression(solver='liblinear')\n",
    "lrclf.fit(X,y)\n",
    "pred = lrclf.predict(X)"
   ]
  },
  {
   "cell_type": "code",
   "execution_count": 15,
   "id": "11afae64-f5da-48ba-afa9-466aa399d69d",
   "metadata": {},
   "outputs": [
    {
     "data": {
      "text/plain": [
       "0.8666666666666667"
      ]
     },
     "execution_count": 15,
     "metadata": {},
     "output_type": "execute_result"
    }
   ],
   "source": [
    "accuracy_score(y,pred)"
   ]
  },
  {
   "cell_type": "code",
   "execution_count": 16,
   "id": "ee8f195f-a125-4519-ab1d-509d1b66293a",
   "metadata": {},
   "outputs": [
    {
     "data": {
      "text/plain": [
       "[<matplotlib.lines.Line2D at 0x7fcdc29661d0>]"
      ]
     },
     "execution_count": 16,
     "metadata": {},
     "output_type": "execute_result"
    },
    {
     "data": {
      "image/png": "[encoded data removed]",
      "text/plain": [
       "<Figure size 432x288 with 1 Axes>"
      ]
     },
     "metadata": {
      "needs_background": "light"
     },
     "output_type": "display_data"
    }
   ],
   "source": [
    "plt.scatter(X,y, c=y)\n",
    "yy = lrclf.predict_proba(X) # 0,1일 확률\n",
    "plt.plot(X,yy[:,1], 'ro')"
   ]
  },
  {
   "cell_type": "code",
   "execution_count": 17,
   "id": "4f1eff2e-990d-4b0d-bd02-8c188ce50f58",
   "metadata": {},
   "outputs": [
    {
     "name": "stdout",
     "output_type": "stream",
     "text": [
      "임계값: [1.07142857]\n"
     ]
    },
    {
     "data": {
      "image/png": "[encoded data removed]",
      "text/plain": [
       "<Figure size 432x288 with 1 Axes>"
      ]
     },
     "metadata": {
      "needs_background": "light"
     },
     "output_type": "display_data"
    }
   ],
   "source": [
    "xx = np.linspace(0.5,2.25,50).reshape(-1,1)\n",
    "yy = lrclf.predict_proba(xx)\n",
    "plt.plot(xx,yy[:,1], 'r-')\n",
    "i = np.min(np.where(yy[:,1] >= 0.5))\n",
    "xp = xx[i]\n",
    "plt.plot([xp,xp], [-.5, 1.5], 'g--')\n",
    "print('임계값:',xp)"
   ]
  },
  {
   "cell_type": "markdown",
   "id": "84af59d3-fc2a-40ed-8ad1-999d43d2721f",
   "metadata": {},
   "source": [
    "### iris 데이터셋을 이용한 로지스틱회귀\n",
    "* 4+1 변수, 150개 데이터로 구성\n",
    "* 결과값은 3가지 : setosa, versicolor, verginica"
   ]
  },
  {
   "cell_type": "code",
   "execution_count": 18,
   "id": "4c0b9be0-daea-442b-af04-c9c7b3677a96",
   "metadata": {},
   "outputs": [],
   "source": [
    "# 꽃잎너비, 레이블이 verginica인 경우에 대한 경계값 알아보기\n",
    "from sklearn.datasets import load_iris\n",
    "from sklearn.model_selection import train_test_split"
   ]
  },
  {
   "cell_type": "code",
   "execution_count": 19,
   "id": "44195532-79f0-4e78-b198-428d3975ec6c",
   "metadata": {},
   "outputs": [],
   "source": [
    "iris = load_iris()"
   ]
  },
  {
   "cell_type": "code",
   "execution_count": 20,
   "id": "f3d5d4ef-df49-4619-a99a-1b7ecc043cc7",
   "metadata": {},
   "outputs": [],
   "source": [
    "Xtrain, Xtest, ytrain, ytest = train_test_split(iris.data, iris.target, test_size=0.3, stratify=iris.target, random_state=2111091510)"
   ]
  },
  {
   "cell_type": "code",
   "execution_count": 21,
   "id": "f5badb26-bc72-4c42-aa0c-1f125539e8ca",
   "metadata": {},
   "outputs": [],
   "source": [
    "lrclf = LogisticRegression(solver='sag',multi_class='multinomial', C=0.01)"
   ]
  },
  {
   "cell_type": "code",
   "execution_count": 22,
   "id": "28bd6ef7-6328-4a73-95b0-47258a59eb68",
   "metadata": {},
   "outputs": [],
   "source": [
    "lrclf.fit(Xtrain,ytrain)\n",
    "pred = lrclf.predict(Xtest)"
   ]
  },
  {
   "cell_type": "code",
   "execution_count": 23,
   "id": "9d28ad37-d6b6-44ce-8507-98ff02f395e2",
   "metadata": {},
   "outputs": [
    {
     "data": {
      "text/plain": [
       "0.8444444444444444"
      ]
     },
     "execution_count": 23,
     "metadata": {},
     "output_type": "execute_result"
    }
   ],
   "source": [
    "accuracy_score(ytest, pred)"
   ]
  },
  {
   "cell_type": "code",
   "execution_count": 24,
   "id": "5b9cabd6-51cf-4d7c-a994-cd25c3b15b41",
   "metadata": {},
   "outputs": [],
   "source": [
    "X = iris.data[:,3] # petal width\n",
    "y = (iris.target == 2).astype(np.int32)"
   ]
  },
  {
   "cell_type": "code",
   "execution_count": 25,
   "id": "c06c6917-6dfe-4165-b3f7-a8033c660b6e",
   "metadata": {},
   "outputs": [
    {
     "data": {
      "text/plain": [
       "array([0, 0, 0, 0, 0], dtype=int32)"
      ]
     },
     "execution_count": 25,
     "metadata": {},
     "output_type": "execute_result"
    }
   ],
   "source": [
    "np.min(X), np.max(X)\n",
    "y[:5]"
   ]
  },
  {
   "cell_type": "code",
   "execution_count": 26,
   "id": "30d22192-e8d3-4881-9a6a-933ed2e3a872",
   "metadata": {},
   "outputs": [
    {
     "data": {
      "text/plain": [
       "LogisticRegression(solver='liblinear')"
      ]
     },
     "execution_count": 26,
     "metadata": {},
     "output_type": "execute_result"
    }
   ],
   "source": [
    "lrclf = LogisticRegression(solver='liblinear')\n",
    "lrclf.fit(X.reshape(-1,1),y)"
   ]
  },
  {
   "cell_type": "code",
   "execution_count": 27,
   "id": "690be048-a553-4520-9e27-f40e9a7d1167",
   "metadata": {},
   "outputs": [
    {
     "name": "stdout",
     "output_type": "stream",
     "text": [
      "임계값: [1.61616162]\n"
     ]
    },
    {
     "data": {
      "image/png": "[encoded data removed]",
      "text/plain": [
       "<Figure size 432x288 with 1 Axes>"
      ]
     },
     "metadata": {
      "needs_background": "light"
     },
     "output_type": "display_data"
    }
   ],
   "source": [
    "plt.scatter(X,y, c=y)\n",
    "xx = np.linspace(0,2.5,100).reshape(-1,1)\n",
    "yy = lrclf.predict_proba(xx)\n",
    "plt.plot(xx,yy[:,1],'r')\n",
    "i = np.min(np.where(yy[:,1] >= 0.5))\n",
    "xp = xx[i]\n",
    "plt.plot([xp,xp], [-.5, 1.5], 'g--')\n",
    "print('임계값:',xp)"
   ]
  },
  {
   "cell_type": "markdown",
   "id": "499a5b1d-7680-48dd-87d5-a8d4a9b033f4",
   "metadata": {},
   "source": [
    "### 결정경계 시각화\n",
    "* iris의 feature를 2개로 나눠 재학습"
   ]
  },
  {
   "cell_type": "code",
   "execution_count": 28,
   "id": "e7a2db80-131d-4de9-a28d-671ef2ab5f38",
   "metadata": {},
   "outputs": [],
   "source": [
    "# 시각화를 위해 두 변수만 지정\n",
    "data = iris.data[:,:2] # Sepal 속성만\n",
    "# data = iris.data[:,2:] # Pepal 속성만\n",
    "\n",
    "target = iris.target"
   ]
  },
  {
   "cell_type": "code",
   "execution_count": 29,
   "id": "f01e69a4-2ece-4181-9da6-cd8ff1669e23",
   "metadata": {},
   "outputs": [
    {
     "name": "stdout",
     "output_type": "stream",
     "text": [
      "0.82\n"
     ]
    }
   ],
   "source": [
    "# 분석시작\n",
    "lrclf = LogisticRegression(solver='lbfgs')\n",
    "lrclf.fit(data,target)\n",
    "print(lrclf.score(data, target)) # 훈련정확도"
   ]
  },
  {
   "cell_type": "code",
   "execution_count": 30,
   "id": "ddc33e93-a581-4e0f-b770-e86dbb70294c",
   "metadata": {},
   "outputs": [],
   "source": [
    "plt.rcParams['pcolor.shading'] = 'nearest'"
   ]
  },
  {
   "cell_type": "code",
   "execution_count": 31,
   "id": "223f7d30-c29f-4e81-bfa3-9b3199ded53d",
   "metadata": {},
   "outputs": [],
   "source": [
    "# 다항로지스틱 결정경계 시각화\n",
    "x_min = data[:,0].min() - 0.5 # x축 최대/최소\n",
    "x_max = data[:,0].max() + 0.5\n",
    "\n",
    "y_min = data[:,1].min() - 0.5 # y축 최대/최소\n",
    "y_max = data[:,1].max() + 0.5"
   ]
  },
  {
   "cell_type": "code",
   "execution_count": 32,
   "id": "e575a529-8012-45c6-9a19-df5787d6d4ae",
   "metadata": {},
   "outputs": [],
   "source": [
    "# x/y 축 범위의 값들 생성\n",
    "xm = np.arange(x_min, x_max, 0.02)\n",
    "ym = np.arange(y_min, y_max, 0.02)"
   ]
  },
  {
   "cell_type": "code",
   "execution_count": 33,
   "id": "1924408a-4416-4154-8827-03b94735aa1b",
   "metadata": {},
   "outputs": [
    {
     "data": {
      "text/plain": [
       "array([[1.5, 1.5, 1.5, 1.5, 1.5, 1.5, 1.5, 1.5, 1.5, 1.5, 1.5, 1.5, 1.5,\n",
       "        1.5, 1.5, 1.5, 1.5, 1.5, 1.5, 1.5, 1.5, 1.5, 1.5, 1.5, 1.5, 1.5,\n",
       "        1.5, 1.5, 1.5, 1.5, 1.5, 1.5, 1.5, 1.5, 1.5, 1.5, 1.5, 1.5, 1.5,\n",
       "        1.5, 1.5, 1.5, 1.5, 1.5, 1.5, 1.5, 1.5, 1.5, 1.5, 1.5, 1.5, 1.5,\n",
       "        1.5, 1.5, 1.5, 1.5, 1.5, 1.5, 1.5, 1.5, 1.5, 1.5, 1.5, 1.5, 1.5,\n",
       "        1.5, 1.5, 1.5, 1.5, 1.5, 1.5, 1.5, 1.5, 1.5, 1.5, 1.5, 1.5, 1.5,\n",
       "        1.5, 1.5, 1.5, 1.5, 1.5, 1.5, 1.5, 1.5, 1.5, 1.5, 1.5, 1.5, 1.5,\n",
       "        1.5, 1.5, 1.5, 1.5, 1.5, 1.5, 1.5, 1.5, 1.5, 1.5, 1.5, 1.5, 1.5,\n",
       "        1.5, 1.5, 1.5, 1.5, 1.5, 1.5, 1.5, 1.5, 1.5, 1.5, 1.5, 1.5, 1.5,\n",
       "        1.5, 1.5, 1.5, 1.5, 1.5, 1.5, 1.5, 1.5, 1.5, 1.5, 1.5, 1.5, 1.5,\n",
       "        1.5, 1.5, 1.5, 1.5, 1.5, 1.5, 1.5, 1.5, 1.5, 1.5, 1.5, 1.5, 1.5,\n",
       "        1.5, 1.5, 1.5, 1.5, 1.5, 1.5, 1.5, 1.5, 1.5, 1.5, 1.5, 1.5, 1.5,\n",
       "        1.5, 1.5, 1.5, 1.5, 1.5, 1.5, 1.5, 1.5, 1.5, 1.5, 1.5, 1.5, 1.5,\n",
       "        1.5, 1.5, 1.5, 1.5, 1.5, 1.5, 1.5, 1.5, 1.5, 1.5, 1.5, 1.5, 1.5,\n",
       "        1.5, 1.5, 1.5, 1.5, 1.5, 1.5, 1.5, 1.5, 1.5, 1.5, 1.5, 1.5, 1.5,\n",
       "        1.5, 1.5, 1.5, 1.5, 1.5, 1.5, 1.5, 1.5, 1.5, 1.5, 1.5, 1.5, 1.5,\n",
       "        1.5, 1.5, 1.5, 1.5, 1.5, 1.5, 1.5, 1.5, 1.5, 1.5, 1.5, 1.5, 1.5,\n",
       "        1.5, 1.5, 1.5, 1.5, 1.5, 1.5, 1.5, 1.5, 1.5, 1.5]])"
      ]
     },
     "execution_count": 33,
     "metadata": {},
     "output_type": "execute_result"
    }
   ],
   "source": [
    "# 생성한 값들을 x,y쌍으로 좌표평면에 배치\n",
    "# 즉, 예측값을 나타낼 데이터 범위 지정\n",
    "xx, yy = np.meshgrid(xm,ym)\n",
    "xx[:1]\n",
    "yy[:1]"
   ]
  },
  {
   "cell_type": "code",
   "execution_count": 34,
   "id": "621e2459-975f-41c4-8257-f9e1cda3e62e",
   "metadata": {},
   "outputs": [
    {
     "data": {
      "image/png": "[encoded data removed]",
      "text/plain": [
       "<Figure size 432x288 with 1 Axes>"
      ]
     },
     "metadata": {
      "needs_background": "light"
     },
     "output_type": "display_data"
    }
   ],
   "source": [
    "# 지금까지의 작업 확인\n",
    "plt.plot(xx,yy)\n",
    "plt.show()"
   ]
  },
  {
   "cell_type": "code",
   "execution_count": 35,
   "id": "2c0619c4-9ac0-4af5-9608-30d01ec8b9dc",
   "metadata": {},
   "outputs": [
    {
     "data": {
      "image/png": "[encoded data removed]",
      "text/plain": [
       "<Figure size 432x288 with 1 Axes>"
      ]
     },
     "metadata": {
      "needs_background": "light"
     },
     "output_type": "display_data"
    }
   ],
   "source": [
    "# 위에서 만든 x,y 좌표쌍을 모델을 통해 예측함\n",
    "# pcolormesh : 내장된 칼라맵을 통해 지정한 위치에 히트맵을 그려주는 함수\n",
    "# pcolormesh(x좌표,y좌표, 색상값, 칼라맵)\n",
    "results = lrclf.predict(np.c_[xx.ravel(), yy.ravel()])\n",
    "results = results.reshape(xx.shape)\n",
    "plt.pcolormesh(xx,yy, results, cmap=plt.cm.tab20c)\n",
    "# 원본데이터를 산점도에 표시\n",
    "plt.scatter(data[:,0], data[:,1], c=target, cmap=plt.cm.tab20c, edgecolors='k')\n",
    "plt.show()"
   ]
  },
  {
   "cell_type": "code",
   "execution_count": 36,
   "id": "5e925710-6067-478b-8455-ab43c0bf6743",
   "metadata": {},
   "outputs": [],
   "source": [
    "# 시각화를 위해 두 변수만 지정 (Pepal)\n",
    "# data = iris.data[:,:2] # Sepal 속성만\n",
    "data = iris.data[:,2:] # Pepal 속성만\n",
    "\n",
    "target = iris.target"
   ]
  },
  {
   "cell_type": "code",
   "execution_count": 37,
   "id": "ab49e0e9-925f-4bc9-82c8-cfdce51ad57e",
   "metadata": {},
   "outputs": [
    {
     "name": "stdout",
     "output_type": "stream",
     "text": [
      "0.9666666666666667\n"
     ]
    }
   ],
   "source": [
    "# 분석시작\n",
    "lrclf = LogisticRegression(solver='lbfgs')\n",
    "lrclf.fit(data,target)\n",
    "print(lrclf.score(data, target)) # 훈련정확도"
   ]
  },
  {
   "cell_type": "code",
   "execution_count": 38,
   "id": "10882d73-19f0-41a3-90e5-663070ffbfef",
   "metadata": {},
   "outputs": [],
   "source": [
    "# 다항로지스틱 결정경계 시각화\n",
    "x_min = data[:,0].min() - 0.5 # x축 최대/최소\n",
    "x_max = data[:,0].max() + 0.5\n",
    "\n",
    "y_min = data[:,1].min() - 0.5 # y축 최대/최소\n",
    "y_max = data[:,1].max() + 0.5"
   ]
  },
  {
   "cell_type": "code",
   "execution_count": 39,
   "id": "90d1250d-3575-4581-97a6-3be9d6ed644c",
   "metadata": {},
   "outputs": [],
   "source": [
    "# x/y 축 범위의 값들 생성\n",
    "xm = np.arange(x_min, x_max, 0.02)\n",
    "ym = np.arange(y_min, y_max, 0.02)"
   ]
  },
  {
   "cell_type": "code",
   "execution_count": 40,
   "id": "cc927fd3-36fc-4c5e-8622-3cc36e95253f",
   "metadata": {},
   "outputs": [
    {
     "data": {
      "text/plain": [
       "array([[-0.4, -0.4, -0.4, -0.4, -0.4, -0.4, -0.4, -0.4, -0.4, -0.4, -0.4,\n",
       "        -0.4, -0.4, -0.4, -0.4, -0.4, -0.4, -0.4, -0.4, -0.4, -0.4, -0.4,\n",
       "        -0.4, -0.4, -0.4, -0.4, -0.4, -0.4, -0.4, -0.4, -0.4, -0.4, -0.4,\n",
       "        -0.4, -0.4, -0.4, -0.4, -0.4, -0.4, -0.4, -0.4, -0.4, -0.4, -0.4,\n",
       "        -0.4, -0.4, -0.4, -0.4, -0.4, -0.4, -0.4, -0.4, -0.4, -0.4, -0.4,\n",
       "        -0.4, -0.4, -0.4, -0.4, -0.4, -0.4, -0.4, -0.4, -0.4, -0.4, -0.4,\n",
       "        -0.4, -0.4, -0.4, -0.4, -0.4, -0.4, -0.4, -0.4, -0.4, -0.4, -0.4,\n",
       "        -0.4, -0.4, -0.4, -0.4, -0.4, -0.4, -0.4, -0.4, -0.4, -0.4, -0.4,\n",
       "        -0.4, -0.4, -0.4, -0.4, -0.4, -0.4, -0.4, -0.4, -0.4, -0.4, -0.4,\n",
       "        -0.4, -0.4, -0.4, -0.4, -0.4, -0.4, -0.4, -0.4, -0.4, -0.4, -0.4,\n",
       "        -0.4, -0.4, -0.4, -0.4, -0.4, -0.4, -0.4, -0.4, -0.4, -0.4, -0.4,\n",
       "        -0.4, -0.4, -0.4, -0.4, -0.4, -0.4, -0.4, -0.4, -0.4, -0.4, -0.4,\n",
       "        -0.4, -0.4, -0.4, -0.4, -0.4, -0.4, -0.4, -0.4, -0.4, -0.4, -0.4,\n",
       "        -0.4, -0.4, -0.4, -0.4, -0.4, -0.4, -0.4, -0.4, -0.4, -0.4, -0.4,\n",
       "        -0.4, -0.4, -0.4, -0.4, -0.4, -0.4, -0.4, -0.4, -0.4, -0.4, -0.4,\n",
       "        -0.4, -0.4, -0.4, -0.4, -0.4, -0.4, -0.4, -0.4, -0.4, -0.4, -0.4,\n",
       "        -0.4, -0.4, -0.4, -0.4, -0.4, -0.4, -0.4, -0.4, -0.4, -0.4, -0.4,\n",
       "        -0.4, -0.4, -0.4, -0.4, -0.4, -0.4, -0.4, -0.4, -0.4, -0.4, -0.4,\n",
       "        -0.4, -0.4, -0.4, -0.4, -0.4, -0.4, -0.4, -0.4, -0.4, -0.4, -0.4,\n",
       "        -0.4, -0.4, -0.4, -0.4, -0.4, -0.4, -0.4, -0.4, -0.4, -0.4, -0.4,\n",
       "        -0.4, -0.4, -0.4, -0.4, -0.4, -0.4, -0.4, -0.4, -0.4, -0.4, -0.4,\n",
       "        -0.4, -0.4, -0.4, -0.4, -0.4, -0.4, -0.4, -0.4, -0.4, -0.4, -0.4,\n",
       "        -0.4, -0.4, -0.4, -0.4, -0.4, -0.4, -0.4, -0.4, -0.4, -0.4, -0.4,\n",
       "        -0.4, -0.4, -0.4, -0.4, -0.4, -0.4, -0.4, -0.4, -0.4, -0.4, -0.4,\n",
       "        -0.4, -0.4, -0.4, -0.4, -0.4, -0.4, -0.4, -0.4, -0.4, -0.4, -0.4,\n",
       "        -0.4, -0.4, -0.4, -0.4, -0.4, -0.4, -0.4, -0.4, -0.4, -0.4, -0.4,\n",
       "        -0.4, -0.4, -0.4, -0.4, -0.4, -0.4, -0.4, -0.4, -0.4, -0.4, -0.4,\n",
       "        -0.4, -0.4, -0.4, -0.4, -0.4, -0.4, -0.4, -0.4, -0.4, -0.4, -0.4,\n",
       "        -0.4, -0.4, -0.4, -0.4, -0.4, -0.4, -0.4, -0.4, -0.4, -0.4, -0.4,\n",
       "        -0.4, -0.4, -0.4, -0.4, -0.4, -0.4, -0.4, -0.4, -0.4, -0.4, -0.4,\n",
       "        -0.4, -0.4, -0.4, -0.4, -0.4, -0.4, -0.4, -0.4, -0.4, -0.4, -0.4,\n",
       "        -0.4, -0.4, -0.4, -0.4]])"
      ]
     },
     "execution_count": 40,
     "metadata": {},
     "output_type": "execute_result"
    }
   ],
   "source": [
    "# 생성한 값들을 x,y쌍으로 좌표평면에 배치\n",
    "# 즉, 예측값을 나타낼 데이터 범위 지정\n",
    "xx, yy = np.meshgrid(xm,ym)\n",
    "xx[:1]\n",
    "yy[:1]"
   ]
  },
  {
   "cell_type": "code",
   "execution_count": 41,
   "id": "c0fc4935-4165-4d41-82a9-661a85a81093",
   "metadata": {},
   "outputs": [
    {
     "data": {
      "image/png": "[encoded data removed]",
      "text/plain": [
       "<Figure size 432x288 with 1 Axes>"
      ]
     },
     "metadata": {
      "needs_background": "light"
     },
     "output_type": "display_data"
    }
   ],
   "source": [
    "# 위에서 만든 x,y 좌표쌍을 모델을 통해 예측함\n",
    "# pcolormesh : 내장된 칼라맵을 통해 지정한 위치에 히트맵을 그려주는 함수\n",
    "# pcolormesh(x좌표,y좌표, 색상값, 칼라맵)\n",
    "results = lrclf.predict(np.c_[xx.ravel(), yy.ravel()])\n",
    "results = results.reshape(xx.shape)\n",
    "plt.pcolormesh(xx,yy, results, cmap=plt.cm.tab20c)\n",
    "# 원본데이터를 산점도에 표시\n",
    "plt.scatter(data[:,0], data[:,1], c=target, cmap=plt.cm.tab20c, edgecolors='k')\n",
    "plt.show()"
   ]
  },
  {
   "cell_type": "code",
   "execution_count": 42,
   "id": "b8cafde6-7ca0-48b8-80ce-5be241e35aac",
   "metadata": {},
   "outputs": [],
   "source": [
    "# 결정영역 시각화 관련파일\n",
    "# mldlpy3.py"
   ]
  },
  {
   "cell_type": "code",
   "execution_count": 44,
   "id": "b409b9b8-9636-497f-8a7d-8a23aa8db049",
   "metadata": {},
   "outputs": [],
   "source": [
    "import mldlpy3"
   ]
  },
  {
   "cell_type": "code",
   "execution_count": 45,
   "id": "0add8978-a8a4-43f5-b526-4505816ea85f",
   "metadata": {},
   "outputs": [
    {
     "name": "stderr",
     "output_type": "stream",
     "text": [
      "/home/hadoop/mldlpy3.py:29: UserWarning: You passed a edgecolor/edgecolors ('k') for an unfilled marker ('x').  Matplotlib is ignoring the edgecolor in favor of the facecolor.  This behavior may change in the future.\n",
      "  edgecolors='k')\n"
     ]
    },
    {
     "data": {
      "image/png": "[encoded data removed]",
      "text/plain": [
       "<Figure size 432x288 with 1 Axes>"
      ]
     },
     "metadata": {
      "needs_background": "light"
     },
     "output_type": "display_data"
    }
   ],
   "source": [
    "mldlpy3.plot_decision_regions(data,target,lrclf)"
   ]
  },
  {
   "cell_type": "code",
   "execution_count": null,
   "id": "b11ef428-a5f3-4086-8d10-32367a2f15bc",
   "metadata": {},
   "outputs": [],
   "source": []
  }
 ],
 "metadata": {
  "kernelspec": {
   "display_name": "Python 3 (ipykernel)",
   "language": "python",
   "name": "python3"
  },
  "language_info": {
   "codemirror_mode": {
    "name": "ipython",
    "version": 3
   },
   "file_extension": ".py",
   "mimetype": "text/x-python",
   "name": "python",
   "nbconvert_exporter": "python",
   "pygments_lexer": "ipython3",
   "version": "3.7.10"
  }
 },
 "nbformat": 4,
 "nbformat_minor": 5
}
