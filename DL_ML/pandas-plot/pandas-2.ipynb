{
 "cells": [
  {
   "cell_type": "code",
   "execution_count": 1,
   "id": "dd01e9e7-3e66-4114-8871-29f0dbd85879",
   "metadata": {},
   "outputs": [],
   "source": [
    "import numpy as np\n",
    "import pandas as pd"
   ]
  },
  {
   "cell_type": "markdown",
   "id": "64f03835-11a9-4b13-9243-ca63971470cd",
   "metadata": {},
   "source": [
    "### 판다스 데이터프레임 살려보기"
   ]
  },
  {
   "cell_type": "code",
   "execution_count": 2,
   "id": "d2d8be12-126a-47df-a897-b842c24115da",
   "metadata": {},
   "outputs": [
    {
     "data": {
      "text/html": [
       "<div>\n",
       "<style scoped>\n",
       "    .dataframe tbody tr th:only-of-type {\n",
       "        vertical-align: middle;\n",
       "    }\n",
       "\n",
       "    .dataframe tbody tr th {\n",
       "        vertical-align: top;\n",
       "    }\n",
       "\n",
       "    .dataframe thead th {\n",
       "        text-align: right;\n",
       "    }\n",
       "</style>\n",
       "<table border=\"1\" class=\"dataframe\">\n",
       "  <thead>\n",
       "    <tr style=\"text-align: right;\">\n",
       "      <th></th>\n",
       "      <th>EMPLOYEE_ID</th>\n",
       "      <th>FIRST_NAME</th>\n",
       "      <th>LAST_NAME</th>\n",
       "      <th>EMAIL</th>\n",
       "      <th>PHONE_NUMBER</th>\n",
       "      <th>HIRE_DATE</th>\n",
       "      <th>JOB_ID</th>\n",
       "      <th>SALARY</th>\n",
       "      <th>COMMISSION_PCT</th>\n",
       "      <th>MANAGER_ID</th>\n",
       "      <th>DEPARTMENT_ID</th>\n",
       "    </tr>\n",
       "  </thead>\n",
       "  <tbody>\n",
       "    <tr>\n",
       "      <th>1</th>\n",
       "      <td>100</td>\n",
       "      <td>Steven</td>\n",
       "      <td>King</td>\n",
       "      <td>SKING</td>\n",
       "      <td>515.123.4567</td>\n",
       "      <td>2003-06-17</td>\n",
       "      <td>AD_PRES</td>\n",
       "      <td>24000</td>\n",
       "      <td>NaN</td>\n",
       "      <td>NaN</td>\n",
       "      <td>90.0</td>\n",
       "    </tr>\n",
       "    <tr>\n",
       "      <th>2</th>\n",
       "      <td>101</td>\n",
       "      <td>Neena</td>\n",
       "      <td>Kochhar</td>\n",
       "      <td>NKOCHHAR</td>\n",
       "      <td>515.123.4568</td>\n",
       "      <td>2005-09-21</td>\n",
       "      <td>AD_VP</td>\n",
       "      <td>17000</td>\n",
       "      <td>NaN</td>\n",
       "      <td>100.0</td>\n",
       "      <td>90.0</td>\n",
       "    </tr>\n",
       "    <tr>\n",
       "      <th>3</th>\n",
       "      <td>102</td>\n",
       "      <td>Lex</td>\n",
       "      <td>De Haan</td>\n",
       "      <td>LDEHAAN</td>\n",
       "      <td>515.123.4569</td>\n",
       "      <td>2001-01-13</td>\n",
       "      <td>AD_VP</td>\n",
       "      <td>17000</td>\n",
       "      <td>NaN</td>\n",
       "      <td>100.0</td>\n",
       "      <td>90.0</td>\n",
       "    </tr>\n",
       "    <tr>\n",
       "      <th>4</th>\n",
       "      <td>103</td>\n",
       "      <td>Alexander</td>\n",
       "      <td>Hunold</td>\n",
       "      <td>AHUNOLD</td>\n",
       "      <td>590.423.4567</td>\n",
       "      <td>2006-01-03</td>\n",
       "      <td>IT_PROG</td>\n",
       "      <td>9000</td>\n",
       "      <td>NaN</td>\n",
       "      <td>102.0</td>\n",
       "      <td>60.0</td>\n",
       "    </tr>\n",
       "    <tr>\n",
       "      <th>5</th>\n",
       "      <td>104</td>\n",
       "      <td>Bruce</td>\n",
       "      <td>Ernst</td>\n",
       "      <td>BERNST</td>\n",
       "      <td>590.423.4568</td>\n",
       "      <td>2007-05-21</td>\n",
       "      <td>IT_PROG</td>\n",
       "      <td>6000</td>\n",
       "      <td>NaN</td>\n",
       "      <td>103.0</td>\n",
       "      <td>60.0</td>\n",
       "    </tr>\n",
       "  </tbody>\n",
       "</table>\n",
       "</div>"
      ],
      "text/plain": [
       "   EMPLOYEE_ID FIRST_NAME LAST_NAME     EMAIL  PHONE_NUMBER   HIRE_DATE  \\\n",
       "1          100     Steven      King     SKING  515.123.4567  2003-06-17   \n",
       "2          101      Neena   Kochhar  NKOCHHAR  515.123.4568  2005-09-21   \n",
       "3          102        Lex   De Haan   LDEHAAN  515.123.4569  2001-01-13   \n",
       "4          103  Alexander    Hunold   AHUNOLD  590.423.4567  2006-01-03   \n",
       "5          104      Bruce     Ernst    BERNST  590.423.4568  2007-05-21   \n",
       "\n",
       "    JOB_ID  SALARY  COMMISSION_PCT  MANAGER_ID  DEPARTMENT_ID  \n",
       "1  AD_PRES   24000             NaN         NaN           90.0  \n",
       "2    AD_VP   17000             NaN       100.0           90.0  \n",
       "3    AD_VP   17000             NaN       100.0           90.0  \n",
       "4  IT_PROG    9000             NaN       102.0           60.0  \n",
       "5  IT_PROG    6000             NaN       103.0           60.0  "
      ]
     },
     "execution_count": 2,
     "metadata": {},
     "output_type": "execute_result"
    }
   ],
   "source": [
    "# 사원 employees 데이터를 pasndas로 읽어 들이기\n",
    "emp = pd.read_csv('csv/employees.csv')\n",
    "emp.index = np.arange(1, len(emp)+1)\n",
    "emp.head()"
   ]
  },
  {
   "cell_type": "code",
   "execution_count": 3,
   "id": "08bc90f0-4b9c-4628-af74-bd5b38943645",
   "metadata": {},
   "outputs": [
    {
     "data": {
      "text/plain": [
       "(107, 11)"
      ]
     },
     "execution_count": 3,
     "metadata": {},
     "output_type": "execute_result"
    }
   ],
   "source": [
    "# 데이트프레임 속성 알아보기\n",
    "emp.shape #(행수, 열수)"
   ]
  },
  {
   "cell_type": "code",
   "execution_count": 4,
   "id": "17d66c4a-031e-42c4-9247-7c78a63035dd",
   "metadata": {},
   "outputs": [
    {
     "data": {
      "text/plain": [
       "2"
      ]
     },
     "execution_count": 4,
     "metadata": {},
     "output_type": "execute_result"
    }
   ],
   "source": [
    "emp.ndim  # 차원수"
   ]
  },
  {
   "cell_type": "code",
   "execution_count": 5,
   "id": "9c27bbdd-ae62-41dc-a82b-60fa505f18c2",
   "metadata": {},
   "outputs": [
    {
     "data": {
      "text/plain": [
       "EMPLOYEE_ID         int64\n",
       "FIRST_NAME         object\n",
       "LAST_NAME          object\n",
       "EMAIL              object\n",
       "PHONE_NUMBER       object\n",
       "HIRE_DATE          object\n",
       "JOB_ID             object\n",
       "SALARY              int64\n",
       "COMMISSION_PCT    float64\n",
       "MANAGER_ID        float64\n",
       "DEPARTMENT_ID     float64\n",
       "dtype: object"
      ]
     },
     "execution_count": 5,
     "metadata": {},
     "output_type": "execute_result"
    }
   ],
   "source": [
    "emp.dtypes # 자료형"
   ]
  },
  {
   "cell_type": "code",
   "execution_count": 6,
   "id": "cf84909b-b0d5-4b6d-9989-686d04588cb3",
   "metadata": {},
   "outputs": [
    {
     "data": {
      "text/html": [
       "<div>\n",
       "<style scoped>\n",
       "    .dataframe tbody tr th:only-of-type {\n",
       "        vertical-align: middle;\n",
       "    }\n",
       "\n",
       "    .dataframe tbody tr th {\n",
       "        vertical-align: top;\n",
       "    }\n",
       "\n",
       "    .dataframe thead th {\n",
       "        text-align: right;\n",
       "    }\n",
       "</style>\n",
       "<table border=\"1\" class=\"dataframe\">\n",
       "  <thead>\n",
       "    <tr style=\"text-align: right;\">\n",
       "      <th></th>\n",
       "      <th>EMPLOYEE_ID</th>\n",
       "      <th>FIRST_NAME</th>\n",
       "      <th>LAST_NAME</th>\n",
       "      <th>EMAIL</th>\n",
       "      <th>PHONE_NUMBER</th>\n",
       "      <th>HIRE_DATE</th>\n",
       "      <th>JOB_ID</th>\n",
       "      <th>SALARY</th>\n",
       "      <th>COMMISSION_PCT</th>\n",
       "      <th>MANAGER_ID</th>\n",
       "      <th>DEPARTMENT_ID</th>\n",
       "    </tr>\n",
       "  </thead>\n",
       "  <tbody>\n",
       "    <tr>\n",
       "      <th>1</th>\n",
       "      <td>100</td>\n",
       "      <td>Steven</td>\n",
       "      <td>King</td>\n",
       "      <td>SKING</td>\n",
       "      <td>515.123.4567</td>\n",
       "      <td>2003-06-17</td>\n",
       "      <td>AD_PRES</td>\n",
       "      <td>24000</td>\n",
       "      <td>NaN</td>\n",
       "      <td>NaN</td>\n",
       "      <td>90.0</td>\n",
       "    </tr>\n",
       "    <tr>\n",
       "      <th>2</th>\n",
       "      <td>101</td>\n",
       "      <td>Neena</td>\n",
       "      <td>Kochhar</td>\n",
       "      <td>NKOCHHAR</td>\n",
       "      <td>515.123.4568</td>\n",
       "      <td>2005-09-21</td>\n",
       "      <td>AD_VP</td>\n",
       "      <td>17000</td>\n",
       "      <td>NaN</td>\n",
       "      <td>100.0</td>\n",
       "      <td>90.0</td>\n",
       "    </tr>\n",
       "    <tr>\n",
       "      <th>3</th>\n",
       "      <td>102</td>\n",
       "      <td>Lex</td>\n",
       "      <td>De Haan</td>\n",
       "      <td>LDEHAAN</td>\n",
       "      <td>515.123.4569</td>\n",
       "      <td>2001-01-13</td>\n",
       "      <td>AD_VP</td>\n",
       "      <td>17000</td>\n",
       "      <td>NaN</td>\n",
       "      <td>100.0</td>\n",
       "      <td>90.0</td>\n",
       "    </tr>\n",
       "    <tr>\n",
       "      <th>4</th>\n",
       "      <td>103</td>\n",
       "      <td>Alexander</td>\n",
       "      <td>Hunold</td>\n",
       "      <td>AHUNOLD</td>\n",
       "      <td>590.423.4567</td>\n",
       "      <td>2006-01-03</td>\n",
       "      <td>IT_PROG</td>\n",
       "      <td>9000</td>\n",
       "      <td>NaN</td>\n",
       "      <td>102.0</td>\n",
       "      <td>60.0</td>\n",
       "    </tr>\n",
       "    <tr>\n",
       "      <th>5</th>\n",
       "      <td>104</td>\n",
       "      <td>Bruce</td>\n",
       "      <td>Ernst</td>\n",
       "      <td>BERNST</td>\n",
       "      <td>590.423.4568</td>\n",
       "      <td>2007-05-21</td>\n",
       "      <td>IT_PROG</td>\n",
       "      <td>6000</td>\n",
       "      <td>NaN</td>\n",
       "      <td>103.0</td>\n",
       "      <td>60.0</td>\n",
       "    </tr>\n",
       "    <tr>\n",
       "      <th>6</th>\n",
       "      <td>105</td>\n",
       "      <td>David</td>\n",
       "      <td>Austin</td>\n",
       "      <td>DAUSTIN</td>\n",
       "      <td>590.423.4569</td>\n",
       "      <td>2005-06-25</td>\n",
       "      <td>IT_PROG</td>\n",
       "      <td>4800</td>\n",
       "      <td>NaN</td>\n",
       "      <td>103.0</td>\n",
       "      <td>60.0</td>\n",
       "    </tr>\n",
       "    <tr>\n",
       "      <th>7</th>\n",
       "      <td>106</td>\n",
       "      <td>Valli</td>\n",
       "      <td>Pataballa</td>\n",
       "      <td>VPATABAL</td>\n",
       "      <td>590.423.4560</td>\n",
       "      <td>2006-02-05</td>\n",
       "      <td>IT_PROG</td>\n",
       "      <td>4800</td>\n",
       "      <td>NaN</td>\n",
       "      <td>103.0</td>\n",
       "      <td>60.0</td>\n",
       "    </tr>\n",
       "    <tr>\n",
       "      <th>8</th>\n",
       "      <td>107</td>\n",
       "      <td>Diana</td>\n",
       "      <td>Lorentz</td>\n",
       "      <td>DLORENTZ</td>\n",
       "      <td>590.423.5567</td>\n",
       "      <td>2007-02-07</td>\n",
       "      <td>IT_PROG</td>\n",
       "      <td>4200</td>\n",
       "      <td>NaN</td>\n",
       "      <td>103.0</td>\n",
       "      <td>60.0</td>\n",
       "    </tr>\n",
       "    <tr>\n",
       "      <th>9</th>\n",
       "      <td>108</td>\n",
       "      <td>Nancy</td>\n",
       "      <td>Greenberg</td>\n",
       "      <td>NGREENBE</td>\n",
       "      <td>515.124.4569</td>\n",
       "      <td>2002-08-17</td>\n",
       "      <td>FI_MGR</td>\n",
       "      <td>12008</td>\n",
       "      <td>NaN</td>\n",
       "      <td>101.0</td>\n",
       "      <td>100.0</td>\n",
       "    </tr>\n",
       "    <tr>\n",
       "      <th>10</th>\n",
       "      <td>109</td>\n",
       "      <td>Daniel</td>\n",
       "      <td>Faviet</td>\n",
       "      <td>DFAVIET</td>\n",
       "      <td>515.124.4169</td>\n",
       "      <td>2002-08-16</td>\n",
       "      <td>FI_ACCOUNT</td>\n",
       "      <td>9000</td>\n",
       "      <td>NaN</td>\n",
       "      <td>108.0</td>\n",
       "      <td>100.0</td>\n",
       "    </tr>\n",
       "  </tbody>\n",
       "</table>\n",
       "</div>"
      ],
      "text/plain": [
       "    EMPLOYEE_ID FIRST_NAME  LAST_NAME     EMAIL  PHONE_NUMBER   HIRE_DATE  \\\n",
       "1           100     Steven       King     SKING  515.123.4567  2003-06-17   \n",
       "2           101      Neena    Kochhar  NKOCHHAR  515.123.4568  2005-09-21   \n",
       "3           102        Lex    De Haan   LDEHAAN  515.123.4569  2001-01-13   \n",
       "4           103  Alexander     Hunold   AHUNOLD  590.423.4567  2006-01-03   \n",
       "5           104      Bruce      Ernst    BERNST  590.423.4568  2007-05-21   \n",
       "6           105      David     Austin   DAUSTIN  590.423.4569  2005-06-25   \n",
       "7           106      Valli  Pataballa  VPATABAL  590.423.4560  2006-02-05   \n",
       "8           107      Diana    Lorentz  DLORENTZ  590.423.5567  2007-02-07   \n",
       "9           108      Nancy  Greenberg  NGREENBE  515.124.4569  2002-08-17   \n",
       "10          109     Daniel     Faviet   DFAVIET  515.124.4169  2002-08-16   \n",
       "\n",
       "        JOB_ID  SALARY  COMMISSION_PCT  MANAGER_ID  DEPARTMENT_ID  \n",
       "1      AD_PRES   24000             NaN         NaN           90.0  \n",
       "2        AD_VP   17000             NaN       100.0           90.0  \n",
       "3        AD_VP   17000             NaN       100.0           90.0  \n",
       "4      IT_PROG    9000             NaN       102.0           60.0  \n",
       "5      IT_PROG    6000             NaN       103.0           60.0  \n",
       "6      IT_PROG    4800             NaN       103.0           60.0  \n",
       "7      IT_PROG    4800             NaN       103.0           60.0  \n",
       "8      IT_PROG    4200             NaN       103.0           60.0  \n",
       "9       FI_MGR   12008             NaN       101.0          100.0  \n",
       "10  FI_ACCOUNT    9000             NaN       108.0          100.0  "
      ]
     },
     "execution_count": 6,
     "metadata": {},
     "output_type": "execute_result"
    }
   ],
   "source": [
    "# 데이터 확인 : head(갯수), tail(갯수)\n",
    "# emp.head() # 상위 5개행 출력\n",
    "emp.head(10)"
   ]
  },
  {
   "cell_type": "code",
   "execution_count": 7,
   "id": "fecb302b-2297-4006-888b-34db301f5814",
   "metadata": {},
   "outputs": [
    {
     "data": {
      "text/html": [
       "<div>\n",
       "<style scoped>\n",
       "    .dataframe tbody tr th:only-of-type {\n",
       "        vertical-align: middle;\n",
       "    }\n",
       "\n",
       "    .dataframe tbody tr th {\n",
       "        vertical-align: top;\n",
       "    }\n",
       "\n",
       "    .dataframe thead th {\n",
       "        text-align: right;\n",
       "    }\n",
       "</style>\n",
       "<table border=\"1\" class=\"dataframe\">\n",
       "  <thead>\n",
       "    <tr style=\"text-align: right;\">\n",
       "      <th></th>\n",
       "      <th>EMPLOYEE_ID</th>\n",
       "      <th>SALARY</th>\n",
       "      <th>COMMISSION_PCT</th>\n",
       "      <th>MANAGER_ID</th>\n",
       "      <th>DEPARTMENT_ID</th>\n",
       "    </tr>\n",
       "  </thead>\n",
       "  <tbody>\n",
       "    <tr>\n",
       "      <th>count</th>\n",
       "      <td>107.000000</td>\n",
       "      <td>107.000000</td>\n",
       "      <td>35.000000</td>\n",
       "      <td>106.000000</td>\n",
       "      <td>106.000000</td>\n",
       "    </tr>\n",
       "    <tr>\n",
       "      <th>mean</th>\n",
       "      <td>153.000000</td>\n",
       "      <td>6461.831776</td>\n",
       "      <td>0.222857</td>\n",
       "      <td>124.764151</td>\n",
       "      <td>63.207547</td>\n",
       "    </tr>\n",
       "    <tr>\n",
       "      <th>std</th>\n",
       "      <td>31.032241</td>\n",
       "      <td>3909.579731</td>\n",
       "      <td>0.085184</td>\n",
       "      <td>20.315395</td>\n",
       "      <td>20.910110</td>\n",
       "    </tr>\n",
       "    <tr>\n",
       "      <th>min</th>\n",
       "      <td>100.000000</td>\n",
       "      <td>2100.000000</td>\n",
       "      <td>0.100000</td>\n",
       "      <td>100.000000</td>\n",
       "      <td>10.000000</td>\n",
       "    </tr>\n",
       "    <tr>\n",
       "      <th>25%</th>\n",
       "      <td>126.500000</td>\n",
       "      <td>3100.000000</td>\n",
       "      <td>0.150000</td>\n",
       "      <td>108.000000</td>\n",
       "      <td>50.000000</td>\n",
       "    </tr>\n",
       "    <tr>\n",
       "      <th>50%</th>\n",
       "      <td>153.000000</td>\n",
       "      <td>6200.000000</td>\n",
       "      <td>0.200000</td>\n",
       "      <td>122.000000</td>\n",
       "      <td>50.000000</td>\n",
       "    </tr>\n",
       "    <tr>\n",
       "      <th>75%</th>\n",
       "      <td>179.500000</td>\n",
       "      <td>8900.000000</td>\n",
       "      <td>0.300000</td>\n",
       "      <td>145.000000</td>\n",
       "      <td>80.000000</td>\n",
       "    </tr>\n",
       "    <tr>\n",
       "      <th>max</th>\n",
       "      <td>206.000000</td>\n",
       "      <td>24000.000000</td>\n",
       "      <td>0.400000</td>\n",
       "      <td>205.000000</td>\n",
       "      <td>110.000000</td>\n",
       "    </tr>\n",
       "  </tbody>\n",
       "</table>\n",
       "</div>"
      ],
      "text/plain": [
       "       EMPLOYEE_ID        SALARY  COMMISSION_PCT  MANAGER_ID  DEPARTMENT_ID\n",
       "count   107.000000    107.000000       35.000000  106.000000     106.000000\n",
       "mean    153.000000   6461.831776        0.222857  124.764151      63.207547\n",
       "std      31.032241   3909.579731        0.085184   20.315395      20.910110\n",
       "min     100.000000   2100.000000        0.100000  100.000000      10.000000\n",
       "25%     126.500000   3100.000000        0.150000  108.000000      50.000000\n",
       "50%     153.000000   6200.000000        0.200000  122.000000      50.000000\n",
       "75%     179.500000   8900.000000        0.300000  145.000000      80.000000\n",
       "max     206.000000  24000.000000        0.400000  205.000000     110.000000"
      ]
     },
     "execution_count": 7,
     "metadata": {},
     "output_type": "execute_result"
    }
   ],
   "source": [
    "# 데이터 기술통계 요약\n",
    "emp.describe()  # 수치형 데이터만 요약 함"
   ]
  },
  {
   "cell_type": "code",
   "execution_count": 8,
   "id": "f281cce4-b07a-472c-86b7-d65ec73c3e68",
   "metadata": {},
   "outputs": [
    {
     "data": {
      "text/plain": [
       "EMPLOYEE_ID       107\n",
       "FIRST_NAME        107\n",
       "LAST_NAME         107\n",
       "EMAIL             107\n",
       "PHONE_NUMBER      107\n",
       "HIRE_DATE         107\n",
       "JOB_ID            107\n",
       "SALARY            107\n",
       "COMMISSION_PCT     35\n",
       "MANAGER_ID        106\n",
       "DEPARTMENT_ID     106\n",
       "dtype: int64"
      ]
     },
     "execution_count": 8,
     "metadata": {},
     "output_type": "execute_result"
    }
   ],
   "source": [
    "# 기타 데이터 관련 함수\n",
    "emp.count()  # 컬럼별 데이터수 출력"
   ]
  },
  {
   "cell_type": "code",
   "execution_count": 9,
   "id": "f64e9d57-6322-4f51-9361-f045a17a265a",
   "metadata": {},
   "outputs": [
    {
     "data": {
      "text/plain": [
       "SA_REP        30\n",
       "ST_CLERK      20\n",
       "SH_CLERK      20\n",
       "SA_MAN         5\n",
       "IT_PROG        5\n",
       "FI_ACCOUNT     5\n",
       "PU_CLERK       5\n",
       "ST_MAN         5\n",
       "AD_VP          2\n",
       "MK_REP         1\n",
       "AC_MGR         1\n",
       "PR_REP         1\n",
       "HR_REP         1\n",
       "AD_PRES        1\n",
       "MK_MAN         1\n",
       "AD_ASST        1\n",
       "PU_MAN         1\n",
       "FI_MGR         1\n",
       "AC_ACCOUNT     1\n",
       "Name: JOB_ID, dtype: int64"
      ]
     },
     "execution_count": 9,
     "metadata": {},
     "output_type": "execute_result"
    }
   ],
   "source": [
    "emp.JOB_ID.value_counts() # 범주형 데이터 수 출력"
   ]
  },
  {
   "cell_type": "code",
   "execution_count": 10,
   "id": "b834ee42-2ea2-4e7b-aace-1eecd2988d45",
   "metadata": {},
   "outputs": [
    {
     "data": {
      "text/plain": [
       "50.0     45\n",
       "80.0     34\n",
       "100.0     6\n",
       "30.0      6\n",
       "60.0      5\n",
       "90.0      3\n",
       "20.0      2\n",
       "110.0     2\n",
       "10.0      1\n",
       "40.0      1\n",
       "70.0      1\n",
       "Name: DEPARTMENT_ID, dtype: int64"
      ]
     },
     "execution_count": 10,
     "metadata": {},
     "output_type": "execute_result"
    }
   ],
   "source": [
    "emp.DEPARTMENT_ID.value_counts()"
   ]
  },
  {
   "cell_type": "code",
   "execution_count": 11,
   "id": "d81896f6-49ea-4a8b-9999-f85ed7c59347",
   "metadata": {},
   "outputs": [
    {
     "data": {
      "text/plain": [
       "6461.8317757009345"
      ]
     },
     "execution_count": 11,
     "metadata": {},
     "output_type": "execute_result"
    }
   ],
   "source": [
    "emp.SALARY.mean() # mean 평균"
   ]
  },
  {
   "cell_type": "code",
   "execution_count": 12,
   "id": "3a28cf56-8bb8-4c3c-9f72-4eb763db7090",
   "metadata": {},
   "outputs": [
    {
     "data": {
      "text/plain": [
       "6200.0"
      ]
     },
     "execution_count": 12,
     "metadata": {},
     "output_type": "execute_result"
    }
   ],
   "source": [
    "emp.SALARY.median() # median 중앙값"
   ]
  },
  {
   "cell_type": "code",
   "execution_count": 13,
   "id": "441f3054-b804-48f0-8025-95353d5c189d",
   "metadata": {},
   "outputs": [
    {
     "data": {
      "text/plain": [
       "2100"
      ]
     },
     "execution_count": 13,
     "metadata": {},
     "output_type": "execute_result"
    }
   ],
   "source": [
    "emp.SALARY.min() # min 최소값"
   ]
  },
  {
   "cell_type": "code",
   "execution_count": 14,
   "id": "254ce622-8359-4ac7-bce9-f969907f6159",
   "metadata": {},
   "outputs": [
    {
     "data": {
      "text/plain": [
       "24000"
      ]
     },
     "execution_count": 14,
     "metadata": {},
     "output_type": "execute_result"
    }
   ],
   "source": [
    "emp.SALARY.max() # max 최대값"
   ]
  },
  {
   "cell_type": "code",
   "execution_count": 15,
   "id": "e9cf5111-b508-47a2-9614-c4ce5228987d",
   "metadata": {},
   "outputs": [
    {
     "data": {
      "text/plain": [
       "3909.579730552482"
      ]
     },
     "execution_count": 15,
     "metadata": {},
     "output_type": "execute_result"
    }
   ],
   "source": [
    "emp.SALARY.std() # 표준편차"
   ]
  },
  {
   "cell_type": "code",
   "execution_count": 16,
   "id": "216cdbb0-592b-486a-8935-eee686ef7d17",
   "metadata": {},
   "outputs": [],
   "source": [
    "# emp[[컬럼명1, 컬럼명2]].corr() # 상관계수"
   ]
  },
  {
   "cell_type": "markdown",
   "id": "6a5744b4-651c-487b-b374-3909b998b617",
   "metadata": {},
   "source": [
    "### 결측치 missing data 처리하기\n",
    "+ null, NaN, NA, None\n",
    "+ 파이썬/pandas에서는 NaN(Float:숫자형) or None(object:문자형)으로 취급\n",
    "+ 단, 정수형 누락값인 NA는 pandas에서는 취급불가\n",
    "+ 결측치는 numpy 모듈을 이용해서 정의해야 함"
   ]
  },
  {
   "cell_type": "code",
   "execution_count": 17,
   "id": "20523983-f035-4b49-b0f1-823b5b15dcd4",
   "metadata": {},
   "outputs": [
    {
     "name": "stdout",
     "output_type": "stream",
     "text": [
      "[1 2 None 4 5] object\n"
     ]
    },
    {
     "ename": "TypeError",
     "evalue": "unsupported operand type(s) for *: 'NoneType' and 'int'",
     "output_type": "error",
     "traceback": [
      "\u001b[0;31m---------------------------------------------------------------------------\u001b[0m",
      "\u001b[0;31mTypeError\u001b[0m                                 Traceback (most recent call last)",
      "\u001b[0;32m/tmp/ipykernel_6494/514622322.py\u001b[0m in \u001b[0;36m<module>\u001b[0;34m\u001b[0m\n\u001b[1;32m      1\u001b[0m \u001b[0ma\u001b[0m \u001b[0;34m=\u001b[0m \u001b[0mnp\u001b[0m\u001b[0;34m.\u001b[0m\u001b[0marray\u001b[0m\u001b[0;34m(\u001b[0m\u001b[0;34m[\u001b[0m\u001b[0;36m1\u001b[0m\u001b[0;34m,\u001b[0m\u001b[0;36m2\u001b[0m\u001b[0;34m,\u001b[0m\u001b[0;32mNone\u001b[0m\u001b[0;34m,\u001b[0m\u001b[0;36m4\u001b[0m\u001b[0;34m,\u001b[0m\u001b[0;36m5\u001b[0m\u001b[0;34m]\u001b[0m\u001b[0;34m)\u001b[0m\u001b[0;34m\u001b[0m\u001b[0;34m\u001b[0m\u001b[0m\n\u001b[1;32m      2\u001b[0m \u001b[0mprint\u001b[0m\u001b[0;34m(\u001b[0m\u001b[0ma\u001b[0m\u001b[0;34m,\u001b[0m \u001b[0ma\u001b[0m\u001b[0;34m.\u001b[0m\u001b[0mdtype\u001b[0m\u001b[0;34m)\u001b[0m\u001b[0;34m\u001b[0m\u001b[0;34m\u001b[0m\u001b[0m\n\u001b[0;32m----> 3\u001b[0;31m \u001b[0mprint\u001b[0m\u001b[0;34m(\u001b[0m\u001b[0ma\u001b[0m \u001b[0;34m*\u001b[0m \u001b[0;36m100\u001b[0m\u001b[0;34m)\u001b[0m \u001b[0;31m# 오류\u001b[0m\u001b[0;34m\u001b[0m\u001b[0;34m\u001b[0m\u001b[0m\n\u001b[0m\u001b[1;32m      4\u001b[0m \u001b[0mprint\u001b[0m\u001b[0;34m(\u001b[0m\u001b[0ma\u001b[0m\u001b[0;34m.\u001b[0m\u001b[0msum\u001b[0m\u001b[0;34m(\u001b[0m\u001b[0;34m)\u001b[0m\u001b[0;34m)\u001b[0m \u001b[0;31m# 오류\u001b[0m\u001b[0;34m\u001b[0m\u001b[0;34m\u001b[0m\u001b[0m\n",
      "\u001b[0;31mTypeError\u001b[0m: unsupported operand type(s) for *: 'NoneType' and 'int'"
     ]
    }
   ],
   "source": [
    "a = np.array([1,2,None,4,5])\n",
    "print(a, a.dtype)\n",
    "print(a * 100) # 오류\n",
    "print(a.sum()) # 오류"
   ]
  },
  {
   "cell_type": "code",
   "execution_count": 18,
   "id": "6549d61d-7d2a-4321-b2b5-b6add2df0c9e",
   "metadata": {},
   "outputs": [
    {
     "name": "stdout",
     "output_type": "stream",
     "text": [
      "[ 1.  2. nan  4.  5.] float64\n",
      "[100. 200.  nan 400. 500.]\n",
      "nan\n"
     ]
    }
   ],
   "source": [
    "# numpy에서 제공하는 결측치 상수로 데이터 정의\n",
    "b = np.array([1,2,np.NaN,4,5])\n",
    "print(b, b.dtype)\n",
    "print(b * 100)    # 결측치를 제외하고 정상적으로 결과 출력\n",
    "print(b.sum())    # 결측치 때문에 연산 불가"
   ]
  },
  {
   "cell_type": "code",
   "execution_count": 19,
   "id": "f362fe57-8abc-46f1-98fa-d1fdc77d906f",
   "metadata": {},
   "outputs": [
    {
     "name": "stdout",
     "output_type": "stream",
     "text": [
      "0    1.0\n",
      "1    2.0\n",
      "2    NaN\n",
      "3    4.0\n",
      "4    5.0\n",
      "dtype: float64 float64\n",
      "0    100.0\n",
      "1    200.0\n",
      "2      NaN\n",
      "3    400.0\n",
      "4    500.0\n",
      "dtype: float64\n",
      "12.0\n"
     ]
    }
   ],
   "source": [
    "# Pandas 객체로 정의한 뒤 결측치 처리\n",
    "c = pd.Series([1,2,None,4,5])  # None 또는 np.NaN 로 해도 결측치 제외\n",
    "# c = pd.Series([1,2,np.NaN,4,5])\n",
    "print(c, c.dtype)\n",
    "print(c * 100)    # 결측치 제외 후 정상처리\n",
    "print(c.sum())    # 결측치 제외 후 정상처리"
   ]
  },
  {
   "cell_type": "markdown",
   "id": "f4465b91-95e2-4dfb-883f-af14f88db4c9",
   "metadata": {},
   "source": [
    "### 결측치 처리하기\n",
    "+ Pandas 자료구조에서는 null 값을 감지하고 삭제하는 기능 제공\n",
    "    - isnull, dropna, notnull, fillna"
   ]
  },
  {
   "cell_type": "code",
   "execution_count": 20,
   "id": "e401824d-1f28-41a1-b20d-57173d8193a7",
   "metadata": {},
   "outputs": [
    {
     "data": {
      "text/plain": [
       "False    3\n",
       "True     2\n",
       "dtype: int64"
      ]
     },
     "execution_count": 20,
     "metadata": {},
     "output_type": "execute_result"
    }
   ],
   "source": [
    "d = pd.Series([1,2, np.NaN, 4, None])\n",
    "# d.isnull()  # NaN, none 여부 출력 True\n",
    "d.isnull().value_counts()"
   ]
  },
  {
   "cell_type": "code",
   "execution_count": 21,
   "id": "eb983981-1e43-479c-9330-0a0b2c5827b7",
   "metadata": {},
   "outputs": [
    {
     "data": {
      "text/plain": [
       "True     3\n",
       "False    2\n",
       "dtype: int64"
      ]
     },
     "execution_count": 21,
     "metadata": {},
     "output_type": "execute_result"
    }
   ],
   "source": [
    "# isnull 반대 NaN, none -> False\n",
    "d.notnull().value_counts()"
   ]
  },
  {
   "cell_type": "code",
   "execution_count": 22,
   "id": "67a0b8ce-6d7b-47f3-9be3-15aaeecc9484",
   "metadata": {},
   "outputs": [
    {
     "data": {
      "text/plain": [
       "2   NaN\n",
       "4   NaN\n",
       "dtype: float64"
      ]
     },
     "execution_count": 22,
     "metadata": {},
     "output_type": "execute_result"
    }
   ],
   "source": [
    "d[d.isnull()] # 결측치가 있는 인덱스가 출력"
   ]
  },
  {
   "cell_type": "code",
   "execution_count": 23,
   "id": "96d22698-763d-4d89-8323-133d1fe0acba",
   "metadata": {},
   "outputs": [
    {
     "data": {
      "text/plain": [
       "0    1.0\n",
       "1    2.0\n",
       "3    4.0\n",
       "dtype: float64"
      ]
     },
     "execution_count": 23,
     "metadata": {},
     "output_type": "execute_result"
    }
   ],
   "source": [
    "d.dropna() # 결측치 제거, 원본유지"
   ]
  },
  {
   "cell_type": "code",
   "execution_count": 24,
   "id": "061e627b-660d-49ca-a064-763be56e3130",
   "metadata": {},
   "outputs": [
    {
     "data": {
      "text/plain": [
       "0    1.0\n",
       "1    2.0\n",
       "2    0.0\n",
       "3    4.0\n",
       "4    0.0\n",
       "dtype: float64"
      ]
     },
     "execution_count": 24,
     "metadata": {},
     "output_type": "execute_result"
    }
   ],
   "source": [
    "d.fillna(0) # 결측치 대체"
   ]
  },
  {
   "cell_type": "markdown",
   "id": "e3736aa0-7ac0-4b49-af1c-adfe89a4e762",
   "metadata": {},
   "source": [
    "### 사원 데이터에 존재하는 결측치 처리하기\n",
    "* 수당의 결측치는 0.0으로 설정\n",
    "* 상사번호, 부서번호의 결측치는 -로 설정"
   ]
  },
  {
   "cell_type": "code",
   "execution_count": 25,
   "id": "35c3b5cf-3668-44b6-92c4-5a9750a806ee",
   "metadata": {},
   "outputs": [
    {
     "data": {
      "text/plain": [
       "True     72\n",
       "False    35\n",
       "Name: COMMISSION_PCT, dtype: int64"
      ]
     },
     "execution_count": 25,
     "metadata": {},
     "output_type": "execute_result"
    }
   ],
   "source": [
    "emp.COMMISSION_PCT.isnull().value_counts()"
   ]
  },
  {
   "cell_type": "code",
   "execution_count": 26,
   "id": "fac907c3-c962-4e6c-a409-4e7452281c8f",
   "metadata": {},
   "outputs": [
    {
     "data": {
      "text/plain": [
       "False    106\n",
       "True       1\n",
       "Name: MANAGER_ID, dtype: int64"
      ]
     },
     "execution_count": 26,
     "metadata": {},
     "output_type": "execute_result"
    }
   ],
   "source": [
    "emp.MANAGER_ID.isnull().value_counts()"
   ]
  },
  {
   "cell_type": "code",
   "execution_count": 27,
   "id": "a6d640c3-b779-46ba-a85c-0c3adde1a4d2",
   "metadata": {},
   "outputs": [
    {
     "data": {
      "text/plain": [
       "False    106\n",
       "True       1\n",
       "Name: DEPARTMENT_ID, dtype: int64"
      ]
     },
     "execution_count": 27,
     "metadata": {},
     "output_type": "execute_result"
    }
   ],
   "source": [
    "emp.DEPARTMENT_ID.isnull().value_counts()"
   ]
  },
  {
   "cell_type": "code",
   "execution_count": 28,
   "id": "eebe0034-9566-4e22-ace5-1fe7010b3b1e",
   "metadata": {},
   "outputs": [],
   "source": [
    "# 숫자형 -> 문자형으로 변경 후 적용\n",
    "emp.MANAGER_ID.apply(lambda x : str(x))\n",
    "emp.DEPARTMENT_ID.apply(lambda x : str(x))\n",
    "\n",
    "# 결측값 변경 후 적용\n",
    "emp.COMMISSION_PCT.fillna(0.0, inplace=True)\n",
    "emp.MANAGER_ID.fillna('-', inplace=True)\n",
    "emp.DEPARTMENT_ID.fillna('-', inplace=True)"
   ]
  },
  {
   "cell_type": "code",
   "execution_count": 29,
   "id": "1a6d6e0c-18c6-4b83-bb95-d1e3e4105792",
   "metadata": {},
   "outputs": [],
   "source": [
    "# 객체명.fillna({컬럼명1:대체값, 컬럼명2:대체값})  // 위 코드보다 간편하게 사용 가능\n",
    "emp.fillna({'COMMISSION_PCT':0.0,'MANAGER_ID':'-','DEPARTMENT_ID':'-'}, inplace=True)"
   ]
  },
  {
   "cell_type": "code",
   "execution_count": 30,
   "id": "a47efafc-d909-455f-affe-9cbbbdff5c9d",
   "metadata": {},
   "outputs": [
    {
     "data": {
      "text/html": [
       "<div>\n",
       "<style scoped>\n",
       "    .dataframe tbody tr th:only-of-type {\n",
       "        vertical-align: middle;\n",
       "    }\n",
       "\n",
       "    .dataframe tbody tr th {\n",
       "        vertical-align: top;\n",
       "    }\n",
       "\n",
       "    .dataframe thead th {\n",
       "        text-align: right;\n",
       "    }\n",
       "</style>\n",
       "<table border=\"1\" class=\"dataframe\">\n",
       "  <thead>\n",
       "    <tr style=\"text-align: right;\">\n",
       "      <th></th>\n",
       "      <th>EMPLOYEE_ID</th>\n",
       "      <th>FIRST_NAME</th>\n",
       "      <th>LAST_NAME</th>\n",
       "      <th>EMAIL</th>\n",
       "      <th>PHONE_NUMBER</th>\n",
       "      <th>HIRE_DATE</th>\n",
       "      <th>JOB_ID</th>\n",
       "      <th>SALARY</th>\n",
       "      <th>COMMISSION_PCT</th>\n",
       "      <th>MANAGER_ID</th>\n",
       "      <th>DEPARTMENT_ID</th>\n",
       "    </tr>\n",
       "  </thead>\n",
       "  <tbody>\n",
       "    <tr>\n",
       "      <th>1</th>\n",
       "      <td>100</td>\n",
       "      <td>Steven</td>\n",
       "      <td>King</td>\n",
       "      <td>SKING</td>\n",
       "      <td>515.123.4567</td>\n",
       "      <td>2003-06-17</td>\n",
       "      <td>AD_PRES</td>\n",
       "      <td>24000</td>\n",
       "      <td>0.0</td>\n",
       "      <td>-</td>\n",
       "      <td>90.0</td>\n",
       "    </tr>\n",
       "    <tr>\n",
       "      <th>2</th>\n",
       "      <td>101</td>\n",
       "      <td>Neena</td>\n",
       "      <td>Kochhar</td>\n",
       "      <td>NKOCHHAR</td>\n",
       "      <td>515.123.4568</td>\n",
       "      <td>2005-09-21</td>\n",
       "      <td>AD_VP</td>\n",
       "      <td>17000</td>\n",
       "      <td>0.0</td>\n",
       "      <td>100.0</td>\n",
       "      <td>90.0</td>\n",
       "    </tr>\n",
       "    <tr>\n",
       "      <th>3</th>\n",
       "      <td>102</td>\n",
       "      <td>Lex</td>\n",
       "      <td>De Haan</td>\n",
       "      <td>LDEHAAN</td>\n",
       "      <td>515.123.4569</td>\n",
       "      <td>2001-01-13</td>\n",
       "      <td>AD_VP</td>\n",
       "      <td>17000</td>\n",
       "      <td>0.0</td>\n",
       "      <td>100.0</td>\n",
       "      <td>90.0</td>\n",
       "    </tr>\n",
       "    <tr>\n",
       "      <th>4</th>\n",
       "      <td>103</td>\n",
       "      <td>Alexander</td>\n",
       "      <td>Hunold</td>\n",
       "      <td>AHUNOLD</td>\n",
       "      <td>590.423.4567</td>\n",
       "      <td>2006-01-03</td>\n",
       "      <td>IT_PROG</td>\n",
       "      <td>9000</td>\n",
       "      <td>0.0</td>\n",
       "      <td>102.0</td>\n",
       "      <td>60.0</td>\n",
       "    </tr>\n",
       "    <tr>\n",
       "      <th>5</th>\n",
       "      <td>104</td>\n",
       "      <td>Bruce</td>\n",
       "      <td>Ernst</td>\n",
       "      <td>BERNST</td>\n",
       "      <td>590.423.4568</td>\n",
       "      <td>2007-05-21</td>\n",
       "      <td>IT_PROG</td>\n",
       "      <td>6000</td>\n",
       "      <td>0.0</td>\n",
       "      <td>103.0</td>\n",
       "      <td>60.0</td>\n",
       "    </tr>\n",
       "    <tr>\n",
       "      <th>6</th>\n",
       "      <td>105</td>\n",
       "      <td>David</td>\n",
       "      <td>Austin</td>\n",
       "      <td>DAUSTIN</td>\n",
       "      <td>590.423.4569</td>\n",
       "      <td>2005-06-25</td>\n",
       "      <td>IT_PROG</td>\n",
       "      <td>4800</td>\n",
       "      <td>0.0</td>\n",
       "      <td>103.0</td>\n",
       "      <td>60.0</td>\n",
       "    </tr>\n",
       "    <tr>\n",
       "      <th>7</th>\n",
       "      <td>106</td>\n",
       "      <td>Valli</td>\n",
       "      <td>Pataballa</td>\n",
       "      <td>VPATABAL</td>\n",
       "      <td>590.423.4560</td>\n",
       "      <td>2006-02-05</td>\n",
       "      <td>IT_PROG</td>\n",
       "      <td>4800</td>\n",
       "      <td>0.0</td>\n",
       "      <td>103.0</td>\n",
       "      <td>60.0</td>\n",
       "    </tr>\n",
       "    <tr>\n",
       "      <th>8</th>\n",
       "      <td>107</td>\n",
       "      <td>Diana</td>\n",
       "      <td>Lorentz</td>\n",
       "      <td>DLORENTZ</td>\n",
       "      <td>590.423.5567</td>\n",
       "      <td>2007-02-07</td>\n",
       "      <td>IT_PROG</td>\n",
       "      <td>4200</td>\n",
       "      <td>0.0</td>\n",
       "      <td>103.0</td>\n",
       "      <td>60.0</td>\n",
       "    </tr>\n",
       "    <tr>\n",
       "      <th>9</th>\n",
       "      <td>108</td>\n",
       "      <td>Nancy</td>\n",
       "      <td>Greenberg</td>\n",
       "      <td>NGREENBE</td>\n",
       "      <td>515.124.4569</td>\n",
       "      <td>2002-08-17</td>\n",
       "      <td>FI_MGR</td>\n",
       "      <td>12008</td>\n",
       "      <td>0.0</td>\n",
       "      <td>101.0</td>\n",
       "      <td>100.0</td>\n",
       "    </tr>\n",
       "    <tr>\n",
       "      <th>10</th>\n",
       "      <td>109</td>\n",
       "      <td>Daniel</td>\n",
       "      <td>Faviet</td>\n",
       "      <td>DFAVIET</td>\n",
       "      <td>515.124.4169</td>\n",
       "      <td>2002-08-16</td>\n",
       "      <td>FI_ACCOUNT</td>\n",
       "      <td>9000</td>\n",
       "      <td>0.0</td>\n",
       "      <td>108.0</td>\n",
       "      <td>100.0</td>\n",
       "    </tr>\n",
       "  </tbody>\n",
       "</table>\n",
       "</div>"
      ],
      "text/plain": [
       "    EMPLOYEE_ID FIRST_NAME  LAST_NAME     EMAIL  PHONE_NUMBER   HIRE_DATE  \\\n",
       "1           100     Steven       King     SKING  515.123.4567  2003-06-17   \n",
       "2           101      Neena    Kochhar  NKOCHHAR  515.123.4568  2005-09-21   \n",
       "3           102        Lex    De Haan   LDEHAAN  515.123.4569  2001-01-13   \n",
       "4           103  Alexander     Hunold   AHUNOLD  590.423.4567  2006-01-03   \n",
       "5           104      Bruce      Ernst    BERNST  590.423.4568  2007-05-21   \n",
       "6           105      David     Austin   DAUSTIN  590.423.4569  2005-06-25   \n",
       "7           106      Valli  Pataballa  VPATABAL  590.423.4560  2006-02-05   \n",
       "8           107      Diana    Lorentz  DLORENTZ  590.423.5567  2007-02-07   \n",
       "9           108      Nancy  Greenberg  NGREENBE  515.124.4569  2002-08-17   \n",
       "10          109     Daniel     Faviet   DFAVIET  515.124.4169  2002-08-16   \n",
       "\n",
       "        JOB_ID  SALARY  COMMISSION_PCT MANAGER_ID DEPARTMENT_ID  \n",
       "1      AD_PRES   24000             0.0          -          90.0  \n",
       "2        AD_VP   17000             0.0      100.0          90.0  \n",
       "3        AD_VP   17000             0.0      100.0          90.0  \n",
       "4      IT_PROG    9000             0.0      102.0          60.0  \n",
       "5      IT_PROG    6000             0.0      103.0          60.0  \n",
       "6      IT_PROG    4800             0.0      103.0          60.0  \n",
       "7      IT_PROG    4800             0.0      103.0          60.0  \n",
       "8      IT_PROG    4200             0.0      103.0          60.0  \n",
       "9       FI_MGR   12008             0.0      101.0         100.0  \n",
       "10  FI_ACCOUNT    9000             0.0      108.0         100.0  "
      ]
     },
     "execution_count": 30,
     "metadata": {},
     "output_type": "execute_result"
    }
   ],
   "source": [
    "emp.head(10)"
   ]
  },
  {
   "cell_type": "code",
   "execution_count": 31,
   "id": "d2c38191-1cd5-475c-898f-d1303ab052e6",
   "metadata": {},
   "outputs": [
    {
     "data": {
      "text/plain": [
       "EMPLOYEE_ID  FIRST_NAME  LAST_NAME  EMAIL  PHONE_NUMBER  HIRE_DATE  JOB_ID  SALARY  COMMISSION_PCT  MANAGER_ID  DEPARTMENT_ID\n",
       "False        False       False      False  False         False      False   False   False           False       False            107\n",
       "dtype: int64"
      ]
     },
     "execution_count": 31,
     "metadata": {},
     "output_type": "execute_result"
    }
   ],
   "source": [
    "emp.isnull().value_counts()"
   ]
  },
  {
   "cell_type": "markdown",
   "id": "dd68873c-9101-4eaf-8e9f-943e999e02e5",
   "metadata": {},
   "source": [
    "### seaborn 패키지에서 제공하는 타이타닉 데이터를 이용해서 결측치에 대해 적절한 대체값으로 채워주세요\n",
    "+ age는 중앙값으로 대체"
   ]
  },
  {
   "cell_type": "code",
   "execution_count": 32,
   "id": "c168e383-0639-415d-9a91-9c070da20808",
   "metadata": {},
   "outputs": [],
   "source": [
    "import seaborn as sns"
   ]
  },
  {
   "cell_type": "code",
   "execution_count": 43,
   "id": "db34b73b-dd4a-4bf9-aa6a-d02af0e7e773",
   "metadata": {},
   "outputs": [],
   "source": [
    "titanic = sns.load_dataset('titanic')"
   ]
  },
  {
   "cell_type": "code",
   "execution_count": 34,
   "id": "07a793f5-3c1b-49f4-af47-e58b9bbeae7a",
   "metadata": {},
   "outputs": [
    {
     "data": {
      "text/html": [
       "<div>\n",
       "<style scoped>\n",
       "    .dataframe tbody tr th:only-of-type {\n",
       "        vertical-align: middle;\n",
       "    }\n",
       "\n",
       "    .dataframe tbody tr th {\n",
       "        vertical-align: top;\n",
       "    }\n",
       "\n",
       "    .dataframe thead th {\n",
       "        text-align: right;\n",
       "    }\n",
       "</style>\n",
       "<table border=\"1\" class=\"dataframe\">\n",
       "  <thead>\n",
       "    <tr style=\"text-align: right;\">\n",
       "      <th></th>\n",
       "      <th>survived</th>\n",
       "      <th>pclass</th>\n",
       "      <th>sex</th>\n",
       "      <th>age</th>\n",
       "      <th>sibsp</th>\n",
       "      <th>parch</th>\n",
       "      <th>fare</th>\n",
       "      <th>embarked</th>\n",
       "      <th>class</th>\n",
       "      <th>who</th>\n",
       "      <th>adult_male</th>\n",
       "      <th>deck</th>\n",
       "      <th>embark_town</th>\n",
       "      <th>alive</th>\n",
       "      <th>alone</th>\n",
       "    </tr>\n",
       "  </thead>\n",
       "  <tbody>\n",
       "    <tr>\n",
       "      <th>0</th>\n",
       "      <td>0</td>\n",
       "      <td>3</td>\n",
       "      <td>male</td>\n",
       "      <td>22.0</td>\n",
       "      <td>1</td>\n",
       "      <td>0</td>\n",
       "      <td>7.2500</td>\n",
       "      <td>S</td>\n",
       "      <td>Third</td>\n",
       "      <td>man</td>\n",
       "      <td>True</td>\n",
       "      <td>NaN</td>\n",
       "      <td>Southampton</td>\n",
       "      <td>no</td>\n",
       "      <td>False</td>\n",
       "    </tr>\n",
       "    <tr>\n",
       "      <th>1</th>\n",
       "      <td>1</td>\n",
       "      <td>1</td>\n",
       "      <td>female</td>\n",
       "      <td>38.0</td>\n",
       "      <td>1</td>\n",
       "      <td>0</td>\n",
       "      <td>71.2833</td>\n",
       "      <td>C</td>\n",
       "      <td>First</td>\n",
       "      <td>woman</td>\n",
       "      <td>False</td>\n",
       "      <td>C</td>\n",
       "      <td>Cherbourg</td>\n",
       "      <td>yes</td>\n",
       "      <td>False</td>\n",
       "    </tr>\n",
       "    <tr>\n",
       "      <th>2</th>\n",
       "      <td>1</td>\n",
       "      <td>3</td>\n",
       "      <td>female</td>\n",
       "      <td>26.0</td>\n",
       "      <td>0</td>\n",
       "      <td>0</td>\n",
       "      <td>7.9250</td>\n",
       "      <td>S</td>\n",
       "      <td>Third</td>\n",
       "      <td>woman</td>\n",
       "      <td>False</td>\n",
       "      <td>NaN</td>\n",
       "      <td>Southampton</td>\n",
       "      <td>yes</td>\n",
       "      <td>True</td>\n",
       "    </tr>\n",
       "    <tr>\n",
       "      <th>3</th>\n",
       "      <td>1</td>\n",
       "      <td>1</td>\n",
       "      <td>female</td>\n",
       "      <td>35.0</td>\n",
       "      <td>1</td>\n",
       "      <td>0</td>\n",
       "      <td>53.1000</td>\n",
       "      <td>S</td>\n",
       "      <td>First</td>\n",
       "      <td>woman</td>\n",
       "      <td>False</td>\n",
       "      <td>C</td>\n",
       "      <td>Southampton</td>\n",
       "      <td>yes</td>\n",
       "      <td>False</td>\n",
       "    </tr>\n",
       "    <tr>\n",
       "      <th>4</th>\n",
       "      <td>0</td>\n",
       "      <td>3</td>\n",
       "      <td>male</td>\n",
       "      <td>35.0</td>\n",
       "      <td>0</td>\n",
       "      <td>0</td>\n",
       "      <td>8.0500</td>\n",
       "      <td>S</td>\n",
       "      <td>Third</td>\n",
       "      <td>man</td>\n",
       "      <td>True</td>\n",
       "      <td>NaN</td>\n",
       "      <td>Southampton</td>\n",
       "      <td>no</td>\n",
       "      <td>True</td>\n",
       "    </tr>\n",
       "  </tbody>\n",
       "</table>\n",
       "</div>"
      ],
      "text/plain": [
       "   survived  pclass     sex   age  sibsp  parch     fare embarked  class  \\\n",
       "0         0       3    male  22.0      1      0   7.2500        S  Third   \n",
       "1         1       1  female  38.0      1      0  71.2833        C  First   \n",
       "2         1       3  female  26.0      0      0   7.9250        S  Third   \n",
       "3         1       1  female  35.0      1      0  53.1000        S  First   \n",
       "4         0       3    male  35.0      0      0   8.0500        S  Third   \n",
       "\n",
       "     who  adult_male deck  embark_town alive  alone  \n",
       "0    man        True  NaN  Southampton    no  False  \n",
       "1  woman       False    C    Cherbourg   yes  False  \n",
       "2  woman       False  NaN  Southampton   yes   True  \n",
       "3  woman       False    C  Southampton   yes  False  \n",
       "4    man        True  NaN  Southampton    no   True  "
      ]
     },
     "execution_count": 34,
     "metadata": {},
     "output_type": "execute_result"
    }
   ],
   "source": [
    "titanic.head()"
   ]
  },
  {
   "cell_type": "code",
   "execution_count": 35,
   "id": "02dc32aa-0021-4882-a78e-d0eee91474d4",
   "metadata": {},
   "outputs": [
    {
     "data": {
      "text/plain": [
       "False    714\n",
       "True     177\n",
       "Name: age, dtype: int64"
      ]
     },
     "execution_count": 35,
     "metadata": {},
     "output_type": "execute_result"
    }
   ],
   "source": [
    "titanic.age.isna().value_counts()"
   ]
  },
  {
   "cell_type": "code",
   "execution_count": 36,
   "id": "22224813-6ec7-45db-bbb0-11b7fc2af99d",
   "metadata": {},
   "outputs": [
    {
     "data": {
      "text/plain": [
       "28.0"
      ]
     },
     "execution_count": 36,
     "metadata": {},
     "output_type": "execute_result"
    }
   ],
   "source": [
    "titanic.age.median()"
   ]
  },
  {
   "cell_type": "code",
   "execution_count": 37,
   "id": "e78853d1-6df1-486f-aacb-eb64edf28634",
   "metadata": {},
   "outputs": [],
   "source": [
    "titanic.age.fillna(titanic.age.median(), inplace=True)"
   ]
  },
  {
   "cell_type": "code",
   "execution_count": 39,
   "id": "6694a509-5fff-4c7d-9b02-f0b22b2778cf",
   "metadata": {},
   "outputs": [
    {
     "data": {
      "text/plain": [
       "False    891\n",
       "Name: age, dtype: int64"
      ]
     },
     "execution_count": 39,
     "metadata": {},
     "output_type": "execute_result"
    }
   ],
   "source": [
    "titanic.age.isnull().value_counts()"
   ]
  },
  {
   "cell_type": "code",
   "execution_count": 45,
   "id": "193b1bdf-3cda-48ba-b60d-c3edf3a4c2ef",
   "metadata": {},
   "outputs": [
    {
     "data": {
      "text/plain": [
       "NaN    688\n",
       "C       59\n",
       "B       47\n",
       "D       33\n",
       "E       32\n",
       "A       15\n",
       "F       13\n",
       "G        4\n",
       "Name: deck, dtype: int64"
      ]
     },
     "execution_count": 45,
     "metadata": {},
     "output_type": "execute_result"
    }
   ],
   "source": [
    "# deck 의 결측치 확인\n",
    "# dropna = False 값을 넣으면 NaN값도 출력\n",
    "titanic.deck.value_counts(dropna=False)"
   ]
  }
 ],
 "metadata": {
  "kernelspec": {
   "display_name": "Python 3 (ipykernel)",
   "language": "python",
   "name": "python3"
  },
  "language_info": {
   "codemirror_mode": {
    "name": "ipython",
    "version": 3
   },
   "file_extension": ".py",
   "mimetype": "text/x-python",
   "name": "python",
   "nbconvert_exporter": "python",
   "pygments_lexer": "ipython3",
   "version": "3.7.10"
  }
 },
 "nbformat": 4,
 "nbformat_minor": 5
}
