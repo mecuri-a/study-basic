{
 "cells": [
  {
   "cell_type": "markdown",
   "id": "7ef60768-b11a-46b2-9390-9f90e372d175",
   "metadata": {},
   "source": [
    "### Pands \n",
    "+ 행에 열 레이블을 부착한 n 차원 행렬 자료구조를 제옹하는 파이썬 라이브러리\n",
    "+ 지원하는 자료구조는 Series, DataFrame, Panel임\n",
    "+ 단, 0.20 이후로 Panel은 deprecated 됨\n",
    "+ Numpy 기반으로 구현되어 처리속도가 빠름\n",
    "\n",
    "+ pandas의 창시자중 한 명은 해지펀드 애널리스트로 일하며 파이썬에서 금융 시계열을 다루기 위한 목적으로 개발함\n",
    "+ pandas.pydata.org\n",
    "+ pip install pandas"
   ]
  },
  {
   "cell_type": "code",
   "execution_count": 1,
   "id": "e2a30785-746f-4bcb-9807-926239666c94",
   "metadata": {},
   "outputs": [],
   "source": [
    "import numpy as np\n",
    "import pandas as pd"
   ]
  },
  {
   "cell_type": "markdown",
   "id": "89d9f29b-6080-494b-b621-d53871c7f3ce",
   "metadata": {},
   "source": [
    "### Pandas 자료구조 1 : Series\n",
    "+ R의 벡터와 유사한 자료구조 : 1차원 배열\n",
    "+ pd.Series(데이터, 인덱스, 자료형)"
   ]
  },
  {
   "cell_type": "code",
   "execution_count": 2,
   "id": "c430caa5-3952-4b2c-a7af-805aa87428bd",
   "metadata": {},
   "outputs": [
    {
     "data": {
      "text/plain": [
       "'1.3.3'"
      ]
     },
     "execution_count": 2,
     "metadata": {},
     "output_type": "execute_result"
    }
   ],
   "source": [
    "# 버전 확인\n",
    "pd.__version__"
   ]
  },
  {
   "cell_type": "code",
   "execution_count": 3,
   "id": "4c166690-6eab-477d-8dbb-e08ada236309",
   "metadata": {},
   "outputs": [
    {
     "data": {
      "text/plain": [
       "Series([], dtype: object)"
      ]
     },
     "execution_count": 3,
     "metadata": {},
     "output_type": "execute_result"
    }
   ],
   "source": [
    "# 빈싯리즈 생성\n",
    "a = pd.Series(dtype='object')\n",
    "a"
   ]
  },
  {
   "cell_type": "code",
   "execution_count": 4,
   "id": "573be3a8-8da5-46fa-8440-fe0c3ef5742d",
   "metadata": {},
   "outputs": [
    {
     "data": {
      "text/plain": [
       "0    1\n",
       "1    2\n",
       "2    3\n",
       "3    4\n",
       "4    5\n",
       "dtype: int64"
      ]
     },
     "execution_count": 4,
     "metadata": {},
     "output_type": "execute_result"
    }
   ],
   "source": [
    "# numpy 배열을 시리즈로 생성\n",
    "b = pd.Series([1,2,3,4,5])\n",
    "b  # 인덱스는 0부터"
   ]
  },
  {
   "cell_type": "code",
   "execution_count": 5,
   "id": "309d64c1-e01f-4c65-8948-42fbe4abfd43",
   "metadata": {},
   "outputs": [
    {
     "data": {
      "text/plain": [
       "1     6\n",
       "2     7\n",
       "3     8\n",
       "4     9\n",
       "5    10\n",
       "dtype: int64"
      ]
     },
     "execution_count": 5,
     "metadata": {},
     "output_type": "execute_result"
    }
   ],
   "source": [
    "# 시리즈 생성시 인뎃스 지정 (index 속성)\n",
    "c = pd.Series([6,7,8,9,10], index=[1,2,3,4,5])\n",
    "c"
   ]
  },
  {
   "cell_type": "code",
   "execution_count": 6,
   "id": "fb2917b4-35d7-4553-9b02-5e1dcba68e9e",
   "metadata": {},
   "outputs": [
    {
     "name": "stdout",
     "output_type": "stream",
     "text": [
      "[ 6  7  8  9 10]\n",
      "Int64Index([1, 2, 3, 4, 5], dtype='int64')\n",
      "7\n",
      "3    8\n",
      "4    9\n",
      "dtype: int64\n"
     ]
    }
   ],
   "source": [
    "# 시리즈 객체가 지원하는 여러가지 속성\n",
    "print(c.values)  # 시리즈의 요소 값\n",
    "print(c.index)   # 시리즈의 인덱스 값\n",
    "print(c[2])      # 2번째값 (인덱스가 1부터 시작)\n",
    "print(c[2:4])    # 3,4 번째 값"
   ]
  },
  {
   "cell_type": "markdown",
   "id": "753058a7-19ac-49c9-b445-70eab4f8cb56",
   "metadata": {},
   "source": [
    "### 팬더스 indexer\n",
    "+ pandas에서 정수형 인덱스를 사용하는 경우 파이썬의 slice연산과 혼동할 위험 존재\n",
    "+ 따라서, pandas 만의 특별한 요소지정방법 제공 - indexer\n",
    "    - loc : 문자형 인덱스로 요소 지정\n",
    "    - iloc : 숫자형 인덱스로 요소 지정"
   ]
  },
  {
   "cell_type": "code",
   "execution_count": 7,
   "id": "402a8443-0d80-4c8f-b1bd-33c211915e11",
   "metadata": {},
   "outputs": [
    {
     "data": {
      "text/plain": [
       "가    9\n",
       "나    8\n",
       "다    7\n",
       "라    6\n",
       "마    5\n",
       "dtype: int64"
      ]
     },
     "execution_count": 7,
     "metadata": {},
     "output_type": "execute_result"
    }
   ],
   "source": [
    "d = pd.Series([9,8,7,6,5], index=['가','나','다','라','마'])\n",
    "d"
   ]
  },
  {
   "cell_type": "code",
   "execution_count": 8,
   "id": "b215ec92-d6bb-47ec-9ec5-ae8ee65879ec",
   "metadata": {},
   "outputs": [
    {
     "name": "stdout",
     "output_type": "stream",
     "text": [
      "9\n",
      "9\n",
      "9\n"
     ]
    }
   ],
   "source": [
    "# 1번째로 자료 지정\n",
    "print(d[0])\n",
    "print(d.iloc[0])\n",
    "print(d.loc['가'])"
   ]
  },
  {
   "cell_type": "code",
   "execution_count": 9,
   "id": "eb718363-ca0b-4181-b176-fc71ed84b181",
   "metadata": {},
   "outputs": [
    {
     "name": "stdout",
     "output_type": "stream",
     "text": [
      "나    8\n",
      "다    7\n",
      "라    6\n",
      "마    5\n",
      "dtype: int64\n",
      "나    8\n",
      "다    7\n",
      "라    6\n",
      "마    5\n",
      "dtype: int64\n",
      "나    8\n",
      "다    7\n",
      "라    6\n",
      "마    5\n",
      "dtype: int64\n"
     ]
    }
   ],
   "source": [
    "# 2번째 이후 모든 자료 지정\n",
    "print(d[1:])\n",
    "print(d.iloc[1:])\n",
    "print(d.loc['나':])"
   ]
  },
  {
   "cell_type": "code",
   "execution_count": 10,
   "id": "7b9eac74-e277-48f1-89df-4aff90525fbf",
   "metadata": {},
   "outputs": [
    {
     "name": "stdout",
     "output_type": "stream",
     "text": [
      "가    9\n",
      "다    7\n",
      "마    5\n",
      "dtype: int64\n",
      "가    9\n",
      "다    7\n",
      "마    5\n",
      "dtype: int64\n",
      "가    9\n",
      "다    7\n",
      "마    5\n",
      "dtype: int64\n"
     ]
    }
   ],
   "source": [
    "# 홀수위치의 모든 자료 지정\n",
    "print(d[::2])\n",
    "print(d.iloc[::2])\n",
    "print(d.loc[['가','다','마']])"
   ]
  },
  {
   "cell_type": "code",
   "execution_count": 11,
   "id": "cd943628-7912-4588-85e3-b7d01441408b",
   "metadata": {},
   "outputs": [
    {
     "data": {
      "text/plain": [
       "a    1\n",
       "b    2\n",
       "c    3\n",
       "d    4\n",
       "e    5\n",
       "dtype: int64"
      ]
     },
     "execution_count": 11,
     "metadata": {},
     "output_type": "execute_result"
    }
   ],
   "source": [
    "# dict 객체로 시리즈 객체 생성\n",
    "data = {'a':1, 'b':2, 'c':3, 'd':4, 'e':5}\n",
    "e = pd.Series(data)\n",
    "e"
   ]
  },
  {
   "cell_type": "markdown",
   "id": "9f4a6a33-4297-4390-b0b6-0aa3a887bba6",
   "metadata": {
    "tags": []
   },
   "source": [
    "### Pandas 자료구조 2 : dataframe\n",
    "+ R의 데이터프레임과 유사한 자료구조 : 2차원 테이블\n",
    "+ pd.DataFrame(데이터, 인덱스, 컬럼테이블,자료형)"
   ]
  },
  {
   "cell_type": "code",
   "execution_count": 12,
   "id": "7e9ff080-5b8b-45d4-9c02-4ce6aba94a6b",
   "metadata": {},
   "outputs": [
    {
     "data": {
      "text/html": [
       "<div>\n",
       "<style scoped>\n",
       "    .dataframe tbody tr th:only-of-type {\n",
       "        vertical-align: middle;\n",
       "    }\n",
       "\n",
       "    .dataframe tbody tr th {\n",
       "        vertical-align: top;\n",
       "    }\n",
       "\n",
       "    .dataframe thead th {\n",
       "        text-align: right;\n",
       "    }\n",
       "</style>\n",
       "<table border=\"1\" class=\"dataframe\">\n",
       "  <thead>\n",
       "    <tr style=\"text-align: right;\">\n",
       "      <th></th>\n",
       "    </tr>\n",
       "  </thead>\n",
       "  <tbody>\n",
       "  </tbody>\n",
       "</table>\n",
       "</div>"
      ],
      "text/plain": [
       "Empty DataFrame\n",
       "Columns: []\n",
       "Index: []"
      ]
     },
     "execution_count": 12,
     "metadata": {},
     "output_type": "execute_result"
    }
   ],
   "source": [
    "# 빈 데이터프레임 객체 생성\n",
    "f = pd.DataFrame()\n",
    "f"
   ]
  },
  {
   "cell_type": "code",
   "execution_count": 13,
   "id": "6f24939c-64bf-4674-b904-4e33ccd1e1de",
   "metadata": {},
   "outputs": [
    {
     "data": {
      "text/html": [
       "<div>\n",
       "<style scoped>\n",
       "    .dataframe tbody tr th:only-of-type {\n",
       "        vertical-align: middle;\n",
       "    }\n",
       "\n",
       "    .dataframe tbody tr th {\n",
       "        vertical-align: top;\n",
       "    }\n",
       "\n",
       "    .dataframe thead th {\n",
       "        text-align: right;\n",
       "    }\n",
       "</style>\n",
       "<table border=\"1\" class=\"dataframe\">\n",
       "  <thead>\n",
       "    <tr style=\"text-align: right;\">\n",
       "      <th></th>\n",
       "      <th>0</th>\n",
       "    </tr>\n",
       "  </thead>\n",
       "  <tbody>\n",
       "    <tr>\n",
       "      <th>0</th>\n",
       "      <td>1</td>\n",
       "    </tr>\n",
       "    <tr>\n",
       "      <th>1</th>\n",
       "      <td>2</td>\n",
       "    </tr>\n",
       "    <tr>\n",
       "      <th>2</th>\n",
       "      <td>3</td>\n",
       "    </tr>\n",
       "    <tr>\n",
       "      <th>3</th>\n",
       "      <td>4</td>\n",
       "    </tr>\n",
       "    <tr>\n",
       "      <th>4</th>\n",
       "      <td>5</td>\n",
       "    </tr>\n",
       "  </tbody>\n",
       "</table>\n",
       "</div>"
      ],
      "text/plain": [
       "   0\n",
       "0  1\n",
       "1  2\n",
       "2  3\n",
       "3  4\n",
       "4  5"
      ]
     },
     "execution_count": 13,
     "metadata": {},
     "output_type": "execute_result"
    }
   ],
   "source": [
    "# 리스트로 데이터프레임 객체 생성\n",
    "data = [1,2,3,4,5]\n",
    "g = pd.DataFrame(data)\n",
    "g   # 컬럼명이 없음"
   ]
  },
  {
   "cell_type": "code",
   "execution_count": 14,
   "id": "4eef5111-9d0b-40ab-a31e-64e8df375147",
   "metadata": {},
   "outputs": [
    {
     "data": {
      "text/html": [
       "<div>\n",
       "<style scoped>\n",
       "    .dataframe tbody tr th:only-of-type {\n",
       "        vertical-align: middle;\n",
       "    }\n",
       "\n",
       "    .dataframe tbody tr th {\n",
       "        vertical-align: top;\n",
       "    }\n",
       "\n",
       "    .dataframe thead th {\n",
       "        text-align: right;\n",
       "    }\n",
       "</style>\n",
       "<table border=\"1\" class=\"dataframe\">\n",
       "  <thead>\n",
       "    <tr style=\"text-align: right;\">\n",
       "      <th></th>\n",
       "      <th>nums</th>\n",
       "    </tr>\n",
       "  </thead>\n",
       "  <tbody>\n",
       "    <tr>\n",
       "      <th>0</th>\n",
       "      <td>1</td>\n",
       "    </tr>\n",
       "    <tr>\n",
       "      <th>1</th>\n",
       "      <td>2</td>\n",
       "    </tr>\n",
       "    <tr>\n",
       "      <th>2</th>\n",
       "      <td>3</td>\n",
       "    </tr>\n",
       "    <tr>\n",
       "      <th>3</th>\n",
       "      <td>4</td>\n",
       "    </tr>\n",
       "    <tr>\n",
       "      <th>4</th>\n",
       "      <td>5</td>\n",
       "    </tr>\n",
       "  </tbody>\n",
       "</table>\n",
       "</div>"
      ],
      "text/plain": [
       "   nums\n",
       "0     1\n",
       "1     2\n",
       "2     3\n",
       "3     4\n",
       "4     5"
      ]
     },
     "execution_count": 14,
     "metadata": {},
     "output_type": "execute_result"
    }
   ],
   "source": [
    "g = pd.DataFrame(data, columns=['nums'])\n",
    "g"
   ]
  },
  {
   "cell_type": "code",
   "execution_count": 15,
   "id": "3f2b9912-bbc0-41da-a232-98182a98c810",
   "metadata": {},
   "outputs": [
    {
     "data": {
      "text/html": [
       "<div>\n",
       "<style scoped>\n",
       "    .dataframe tbody tr th:only-of-type {\n",
       "        vertical-align: middle;\n",
       "    }\n",
       "\n",
       "    .dataframe tbody tr th {\n",
       "        vertical-align: top;\n",
       "    }\n",
       "\n",
       "    .dataframe thead th {\n",
       "        text-align: right;\n",
       "    }\n",
       "</style>\n",
       "<table border=\"1\" class=\"dataframe\">\n",
       "  <thead>\n",
       "    <tr style=\"text-align: right;\">\n",
       "      <th></th>\n",
       "      <th>이름</th>\n",
       "      <th>점수</th>\n",
       "    </tr>\n",
       "  </thead>\n",
       "  <tbody>\n",
       "    <tr>\n",
       "      <th>1</th>\n",
       "      <td>지현</td>\n",
       "      <td>99</td>\n",
       "    </tr>\n",
       "    <tr>\n",
       "      <th>2</th>\n",
       "      <td>혜교</td>\n",
       "      <td>76</td>\n",
       "    </tr>\n",
       "    <tr>\n",
       "      <th>3</th>\n",
       "      <td>수지</td>\n",
       "      <td>83</td>\n",
       "    </tr>\n",
       "  </tbody>\n",
       "</table>\n",
       "</div>"
      ],
      "text/plain": [
       "   이름  점수\n",
       "1  지현  99\n",
       "2  혜교  76\n",
       "3  수지  83"
      ]
     },
     "execution_count": 15,
     "metadata": {},
     "output_type": "execute_result"
    }
   ],
   "source": [
    "# 3행 2열짜리 배열로 dataframe 객체 생성\n",
    "data = [['지현',99],['혜교',76],['수지',83]]\n",
    "cols = ['이름','점수']\n",
    "idx = [1,2,3]\n",
    "h = pd.DataFrame(data, columns=cols, index=idx)\n",
    "h"
   ]
  },
  {
   "cell_type": "code",
   "execution_count": 16,
   "id": "27acc4aa-33f8-4bcc-af78-58fe572b96f6",
   "metadata": {},
   "outputs": [
    {
     "data": {
      "text/html": [
       "<div>\n",
       "<style scoped>\n",
       "    .dataframe tbody tr th:only-of-type {\n",
       "        vertical-align: middle;\n",
       "    }\n",
       "\n",
       "    .dataframe tbody tr th {\n",
       "        vertical-align: top;\n",
       "    }\n",
       "\n",
       "    .dataframe thead th {\n",
       "        text-align: right;\n",
       "    }\n",
       "</style>\n",
       "<table border=\"1\" class=\"dataframe\">\n",
       "  <thead>\n",
       "    <tr style=\"text-align: right;\">\n",
       "      <th></th>\n",
       "      <th>이름</th>\n",
       "      <th>점수</th>\n",
       "    </tr>\n",
       "  </thead>\n",
       "  <tbody>\n",
       "    <tr>\n",
       "      <th>1</th>\n",
       "      <td>지현</td>\n",
       "      <td>99</td>\n",
       "    </tr>\n",
       "    <tr>\n",
       "      <th>2</th>\n",
       "      <td>혜교</td>\n",
       "      <td>76</td>\n",
       "    </tr>\n",
       "    <tr>\n",
       "      <th>3</th>\n",
       "      <td>수지</td>\n",
       "      <td>83</td>\n",
       "    </tr>\n",
       "  </tbody>\n",
       "</table>\n",
       "</div>"
      ],
      "text/plain": [
       "   이름  점수\n",
       "1  지현  99\n",
       "2  혜교  76\n",
       "3  수지  83"
      ]
     },
     "execution_count": 16,
     "metadata": {},
     "output_type": "execute_result"
    }
   ],
   "source": [
    "# dict로 dataframe 객체 생성\n",
    "data2 = {'이름':['지현','혜교','수지'],'점수':[99,76,83]}\n",
    "i = pd.DataFrame(data2, index=idx)\n",
    "i"
   ]
  },
  {
   "cell_type": "code",
   "execution_count": 17,
   "id": "289a33a0-4087-44f1-a8ec-a3cda6dad435",
   "metadata": {},
   "outputs": [
    {
     "data": {
      "text/html": [
       "<div>\n",
       "<style scoped>\n",
       "    .dataframe tbody tr th:only-of-type {\n",
       "        vertical-align: middle;\n",
       "    }\n",
       "\n",
       "    .dataframe tbody tr th {\n",
       "        vertical-align: top;\n",
       "    }\n",
       "\n",
       "    .dataframe thead th {\n",
       "        text-align: right;\n",
       "    }\n",
       "</style>\n",
       "<table border=\"1\" class=\"dataframe\">\n",
       "  <thead>\n",
       "    <tr style=\"text-align: right;\">\n",
       "      <th></th>\n",
       "      <th>이름</th>\n",
       "      <th>점수</th>\n",
       "    </tr>\n",
       "  </thead>\n",
       "  <tbody>\n",
       "    <tr>\n",
       "      <th>1</th>\n",
       "      <td>지현</td>\n",
       "      <td>99</td>\n",
       "    </tr>\n",
       "    <tr>\n",
       "      <th>2</th>\n",
       "      <td>혜교</td>\n",
       "      <td>76</td>\n",
       "    </tr>\n",
       "    <tr>\n",
       "      <th>3</th>\n",
       "      <td>수지</td>\n",
       "      <td>83</td>\n",
       "    </tr>\n",
       "  </tbody>\n",
       "</table>\n",
       "</div>"
      ],
      "text/plain": [
       "   이름  점수\n",
       "1  지현  99\n",
       "2  혜교  76\n",
       "3  수지  83"
      ]
     },
     "execution_count": 17,
     "metadata": {},
     "output_type": "execute_result"
    }
   ],
   "source": [
    "# series로 DataFrame 객체 생성\n",
    "name = pd.Series(['지현','혜교','수지'],index=idx)  # index를 지정 안할시 0,1,2\n",
    "jumsu = pd.Series([99,76,83],index=idx)\n",
    "data3 = {'이름':name, '점수':jumsu}\n",
    "j = pd.DataFrame(data3, index=idx) # index가 idx = 1,2,3 이여서 name,jumsu 에 index 설정\n",
    "j"
   ]
  },
  {
   "cell_type": "code",
   "execution_count": 18,
   "id": "d9050464-0d8c-431c-9c8e-6179c604199b",
   "metadata": {},
   "outputs": [
    {
     "data": {
      "text/html": [
       "<div>\n",
       "<style scoped>\n",
       "    .dataframe tbody tr th:only-of-type {\n",
       "        vertical-align: middle;\n",
       "    }\n",
       "\n",
       "    .dataframe tbody tr th {\n",
       "        vertical-align: top;\n",
       "    }\n",
       "\n",
       "    .dataframe thead th {\n",
       "        text-align: right;\n",
       "    }\n",
       "</style>\n",
       "<table border=\"1\" class=\"dataframe\">\n",
       "  <thead>\n",
       "    <tr style=\"text-align: right;\">\n",
       "      <th></th>\n",
       "      <th>이름</th>\n",
       "      <th>점수</th>\n",
       "    </tr>\n",
       "  </thead>\n",
       "  <tbody>\n",
       "    <tr>\n",
       "      <th>0</th>\n",
       "      <td>지현</td>\n",
       "      <td>99</td>\n",
       "    </tr>\n",
       "    <tr>\n",
       "      <th>1</th>\n",
       "      <td>혜교</td>\n",
       "      <td>76</td>\n",
       "    </tr>\n",
       "    <tr>\n",
       "      <th>2</th>\n",
       "      <td>수지</td>\n",
       "      <td>83</td>\n",
       "    </tr>\n",
       "  </tbody>\n",
       "</table>\n",
       "</div>"
      ],
      "text/plain": [
       "   이름  점수\n",
       "0  지현  99\n",
       "1  혜교  76\n",
       "2  수지  83"
      ]
     },
     "execution_count": 18,
     "metadata": {},
     "output_type": "execute_result"
    }
   ],
   "source": [
    "# series로 DataFrame 객체 생성 // index 없을경우\n",
    "name = pd.Series(['지현','혜교','수지'])\n",
    "jumsu = pd.Series([99,76,83])\n",
    "data3 = {'이름':name, '점수':jumsu}\n",
    "j = pd.DataFrame(data3)\n",
    "j"
   ]
  },
  {
   "cell_type": "code",
   "execution_count": 19,
   "id": "2ff5e939-351a-42df-b2bd-af56c685cf48",
   "metadata": {},
   "outputs": [
    {
     "data": {
      "text/html": [
       "<div>\n",
       "<style scoped>\n",
       "    .dataframe tbody tr th:only-of-type {\n",
       "        vertical-align: middle;\n",
       "    }\n",
       "\n",
       "    .dataframe tbody tr th {\n",
       "        vertical-align: top;\n",
       "    }\n",
       "\n",
       "    .dataframe thead th {\n",
       "        text-align: right;\n",
       "    }\n",
       "</style>\n",
       "<table border=\"1\" class=\"dataframe\">\n",
       "  <thead>\n",
       "    <tr style=\"text-align: right;\">\n",
       "      <th></th>\n",
       "      <th>이름</th>\n",
       "      <th>점수</th>\n",
       "    </tr>\n",
       "  </thead>\n",
       "  <tbody>\n",
       "    <tr>\n",
       "      <th>1</th>\n",
       "      <td>혜교</td>\n",
       "      <td>76.0</td>\n",
       "    </tr>\n",
       "    <tr>\n",
       "      <th>2</th>\n",
       "      <td>수지</td>\n",
       "      <td>83.0</td>\n",
       "    </tr>\n",
       "    <tr>\n",
       "      <th>3</th>\n",
       "      <td>NaN</td>\n",
       "      <td>NaN</td>\n",
       "    </tr>\n",
       "  </tbody>\n",
       "</table>\n",
       "</div>"
      ],
      "text/plain": [
       "    이름    점수\n",
       "1   혜교  76.0\n",
       "2   수지  83.0\n",
       "3  NaN   NaN"
      ]
     },
     "execution_count": 19,
     "metadata": {},
     "output_type": "execute_result"
    }
   ],
   "source": [
    "# 인덱스를 재 설정하려면 reindex를 사용\n",
    "# 기존에 존재하지 않는 인덱스가 추가되면 그 행은 NaN값으로 입력됨\n",
    "j = j.reindex(idx)\n",
    "j"
   ]
  },
  {
   "cell_type": "code",
   "execution_count": 20,
   "id": "679e76a0-d07e-4577-84f8-e50b9d42239f",
   "metadata": {},
   "outputs": [
    {
     "data": {
      "text/html": [
       "<div>\n",
       "<style scoped>\n",
       "    .dataframe tbody tr th:only-of-type {\n",
       "        vertical-align: middle;\n",
       "    }\n",
       "\n",
       "    .dataframe tbody tr th {\n",
       "        vertical-align: top;\n",
       "    }\n",
       "\n",
       "    .dataframe thead th {\n",
       "        text-align: right;\n",
       "    }\n",
       "</style>\n",
       "<table border=\"1\" class=\"dataframe\">\n",
       "  <thead>\n",
       "    <tr style=\"text-align: right;\">\n",
       "      <th></th>\n",
       "      <th>이름</th>\n",
       "      <th>점수</th>\n",
       "    </tr>\n",
       "  </thead>\n",
       "  <tbody>\n",
       "    <tr>\n",
       "      <th>지현</th>\n",
       "      <td>혜교</td>\n",
       "      <td>76.0</td>\n",
       "    </tr>\n",
       "    <tr>\n",
       "      <th>혜교</th>\n",
       "      <td>수지</td>\n",
       "      <td>83.0</td>\n",
       "    </tr>\n",
       "    <tr>\n",
       "      <th>수지</th>\n",
       "      <td>NaN</td>\n",
       "      <td>NaN</td>\n",
       "    </tr>\n",
       "  </tbody>\n",
       "</table>\n",
       "</div>"
      ],
      "text/plain": [
       "     이름    점수\n",
       "지현   혜교  76.0\n",
       "혜교   수지  83.0\n",
       "수지  NaN   NaN"
      ]
     },
     "execution_count": 20,
     "metadata": {},
     "output_type": "execute_result"
    }
   ],
   "source": [
    "# 특정 컬럼을 인덱스로 재 설정하려면 set_index를 사용\n",
    "# 단, 해당컬럼에 중복값이 존재하면 안됨\n",
    "j = j.set_index(name)\n",
    "j"
   ]
  },
  {
   "cell_type": "code",
   "execution_count": 21,
   "id": "0b7913dc-99d0-40ec-a684-6af3097eb7ea",
   "metadata": {},
   "outputs": [
    {
     "data": {
      "text/html": [
       "<div>\n",
       "<style scoped>\n",
       "    .dataframe tbody tr th:only-of-type {\n",
       "        vertical-align: middle;\n",
       "    }\n",
       "\n",
       "    .dataframe tbody tr th {\n",
       "        vertical-align: top;\n",
       "    }\n",
       "\n",
       "    .dataframe thead th {\n",
       "        text-align: right;\n",
       "    }\n",
       "</style>\n",
       "<table border=\"1\" class=\"dataframe\">\n",
       "  <thead>\n",
       "    <tr style=\"text-align: right;\">\n",
       "      <th></th>\n",
       "      <th>Manager</th>\n",
       "      <th>Date</th>\n",
       "      <th>Country</th>\n",
       "      <th>Gender</th>\n",
       "      <th>Age</th>\n",
       "      <th>q1</th>\n",
       "      <th>q2</th>\n",
       "      <th>q3</th>\n",
       "      <th>q4</th>\n",
       "      <th>q5</th>\n",
       "    </tr>\n",
       "  </thead>\n",
       "  <tbody>\n",
       "    <tr>\n",
       "      <th>1</th>\n",
       "      <td>1</td>\n",
       "      <td>10/24/14</td>\n",
       "      <td>US</td>\n",
       "      <td>M</td>\n",
       "      <td>32</td>\n",
       "      <td>5</td>\n",
       "      <td>4</td>\n",
       "      <td>5</td>\n",
       "      <td>5.0</td>\n",
       "      <td>5.0</td>\n",
       "    </tr>\n",
       "    <tr>\n",
       "      <th>2</th>\n",
       "      <td>2</td>\n",
       "      <td>10/28/14</td>\n",
       "      <td>US</td>\n",
       "      <td>F</td>\n",
       "      <td>45</td>\n",
       "      <td>3</td>\n",
       "      <td>5</td>\n",
       "      <td>2</td>\n",
       "      <td>5.0</td>\n",
       "      <td>5.0</td>\n",
       "    </tr>\n",
       "    <tr>\n",
       "      <th>3</th>\n",
       "      <td>3</td>\n",
       "      <td>10/01/14</td>\n",
       "      <td>UK</td>\n",
       "      <td>F</td>\n",
       "      <td>25</td>\n",
       "      <td>3</td>\n",
       "      <td>5</td>\n",
       "      <td>5</td>\n",
       "      <td>5.0</td>\n",
       "      <td>2.0</td>\n",
       "    </tr>\n",
       "    <tr>\n",
       "      <th>4</th>\n",
       "      <td>4</td>\n",
       "      <td>10/12/14</td>\n",
       "      <td>UK</td>\n",
       "      <td>M</td>\n",
       "      <td>39</td>\n",
       "      <td>3</td>\n",
       "      <td>3</td>\n",
       "      <td>4</td>\n",
       "      <td>NaN</td>\n",
       "      <td>NaN</td>\n",
       "    </tr>\n",
       "    <tr>\n",
       "      <th>5</th>\n",
       "      <td>5</td>\n",
       "      <td>05/01/14</td>\n",
       "      <td>UK</td>\n",
       "      <td>F</td>\n",
       "      <td>99</td>\n",
       "      <td>2</td>\n",
       "      <td>2</td>\n",
       "      <td>1</td>\n",
       "      <td>2.0</td>\n",
       "      <td>1.0</td>\n",
       "    </tr>\n",
       "  </tbody>\n",
       "</table>\n",
       "</div>"
      ],
      "text/plain": [
       "   Manager      Date Country Gender  Age  q1  q2  q3   q4   q5\n",
       "1        1  10/24/14      US      M   32   5   4   5  5.0  5.0\n",
       "2        2  10/28/14      US      F   45   3   5   2  5.0  5.0\n",
       "3        3  10/01/14      UK      F   25   3   5   5  5.0  2.0\n",
       "4        4  10/12/14      UK      M   39   3   3   4  NaN  NaN\n",
       "5        5  05/01/14      UK      F   99   2   2   1  2.0  1.0"
      ]
     },
     "execution_count": 21,
     "metadata": {},
     "output_type": "execute_result"
    }
   ],
   "source": [
    "# ex> leadership 데이터를 pandas의 dataframe로 생성\n",
    "m = [1,2,3,4,5]\n",
    "d = ['10/24/14','10/28/14','10/01/14','10/12/14','05/01/14']\n",
    "c = ['US','US','UK','UK','UK']\n",
    "g = ['M','F','F','M','F']\n",
    "a = [32,45,25,39,99]\n",
    "q1 = [5,3,3,3,2]\n",
    "q2 = [4,5,5,3,2]\n",
    "q3 = [5,2,5,4,1]\n",
    "q4 = [5,5,5,None,2]\n",
    "q5 = [5,5,2,np.NAN,1]\n",
    "data1 = {'Manager':m,'Date':d,'Country':c,'Gender':g,'Age':a,'q1':q1,'q2':q2,'q3':q3,'q4':q4,'q5':q5}\n",
    "\n",
    "managership = pd.DataFrame(data1, index=m)\n",
    "managership"
   ]
  },
  {
   "cell_type": "code",
   "execution_count": 22,
   "id": "d9dc855a-5b8a-4992-af7f-11c7d60fc6b1",
   "metadata": {},
   "outputs": [
    {
     "name": "stdout",
     "output_type": "stream",
     "text": [
      "1    32\n",
      "2    45\n",
      "3    25\n",
      "4    39\n",
      "5    99\n",
      "Name: Age, dtype: int64\n",
      "1    32\n",
      "2    45\n",
      "3    25\n",
      "4    39\n",
      "5    99\n",
      "Name: Age, dtype: int64\n",
      "1    32\n",
      "2    45\n",
      "3    25\n",
      "4    39\n",
      "5    99\n",
      "Name: Age, dtype: int64\n",
      "1    32\n",
      "2    45\n",
      "3    25\n",
      "4    39\n",
      "5    99\n",
      "Name: Age, dtype: int64\n"
     ]
    }
   ],
   "source": [
    "# 데이터프레임의 각 요소에 접근하기\n",
    "# 나이 컬럼 출력\n",
    "print(managership['Age'])       # 객체명[컬럼명]\n",
    "print(managership.Age)          # 객체명.컬럼명\n",
    "print(managership.iloc[:,4])    # 객체명.iloc[행,열]\n",
    "print(managership.loc[:,'Age']) # 객체명.loc[행이름, 컬럼명]"
   ]
  },
  {
   "cell_type": "code",
   "execution_count": 23,
   "id": "1d39dba0-6a22-4fad-addf-7d3997ad7ef0",
   "metadata": {},
   "outputs": [
    {
     "name": "stdout",
     "output_type": "stream",
     "text": [
      "   q1  q2  q3   q4   q5\n",
      "1   5   4   5  5.0  5.0\n",
      "2   3   5   2  5.0  5.0\n",
      "3   3   5   5  5.0  2.0\n",
      "4   3   3   4  NaN  NaN\n",
      "5   2   2   1  2.0  1.0\n",
      "-------------------------\n",
      "   q1  q2  q3   q4   q5\n",
      "1   5   4   5  5.0  5.0\n",
      "2   3   5   2  5.0  5.0\n",
      "3   3   5   5  5.0  2.0\n",
      "4   3   3   4  NaN  NaN\n",
      "5   2   2   1  2.0  1.0\n",
      "-------------------------\n",
      "   q1  q2  q3   q4   q5\n",
      "1   5   4   5  5.0  5.0\n",
      "2   3   5   2  5.0  5.0\n",
      "3   3   5   5  5.0  2.0\n",
      "4   3   3   4  NaN  NaN\n",
      "5   2   2   1  2.0  1.0\n"
     ]
    }
   ],
   "source": [
    "# 질문 컬럼(q1~q5) 출력\n",
    "print(managership[['q1','q2','q3','q4','q5']])  # 객체명[ [컬럼명1,컬럼명2,....,컬럼명n] ]\n",
    "print('-'*25)\n",
    "print(managership.iloc[:,5:10])                 # 객체명.iloc[행, 시작:끝+1]\n",
    "print('-'*25)\n",
    "print(managership.loc[:,'q1':'q5'])             # 객체명.loc[행, 시작컬럼명:끝컬럼명]"
   ]
  },
  {
   "cell_type": "markdown",
   "id": "3a93ca28-f070-4a38-94c1-a2df093eafff",
   "metadata": {},
   "source": [
    "### 외부 파일로 데이터프레임 만들기\n",
    "+ 외부 데이터파일을 이용해서 dataframe 객체를 만들 수 있음\n",
    "+ csv, excel, json, xml, ... 등등 지원함\n",
    "+ pd.read_xxx(경로, 구문자, 헤더설정, 인코딩)"
   ]
  },
  {
   "cell_type": "code",
   "execution_count": 24,
   "id": "80e24408-1c8d-4f4f-8037-9449fa967bc3",
   "metadata": {},
   "outputs": [
    {
     "data": {
      "text/html": [
       "<div>\n",
       "<style scoped>\n",
       "    .dataframe tbody tr th:only-of-type {\n",
       "        vertical-align: middle;\n",
       "    }\n",
       "\n",
       "    .dataframe tbody tr th {\n",
       "        vertical-align: top;\n",
       "    }\n",
       "\n",
       "    .dataframe thead th {\n",
       "        text-align: right;\n",
       "    }\n",
       "</style>\n",
       "<table border=\"1\" class=\"dataframe\">\n",
       "  <thead>\n",
       "    <tr style=\"text-align: right;\">\n",
       "      <th></th>\n",
       "      <th>Age</th>\n",
       "      <th>Profit</th>\n",
       "      <th>Location</th>\n",
       "      <th>Vehicle-Type</th>\n",
       "      <th>Previous</th>\n",
       "    </tr>\n",
       "  </thead>\n",
       "  <tbody>\n",
       "    <tr>\n",
       "      <th>0</th>\n",
       "      <td>21</td>\n",
       "      <td>$1,387</td>\n",
       "      <td>Tionesta</td>\n",
       "      <td>Sedan</td>\n",
       "      <td>0</td>\n",
       "    </tr>\n",
       "    <tr>\n",
       "      <th>1</th>\n",
       "      <td>23</td>\n",
       "      <td>1,754</td>\n",
       "      <td>Sheffield</td>\n",
       "      <td>SUV</td>\n",
       "      <td>1</td>\n",
       "    </tr>\n",
       "    <tr>\n",
       "      <th>2</th>\n",
       "      <td>24</td>\n",
       "      <td>1,817</td>\n",
       "      <td>Sheffield</td>\n",
       "      <td>Hybrid</td>\n",
       "      <td>1</td>\n",
       "    </tr>\n",
       "    <tr>\n",
       "      <th>3</th>\n",
       "      <td>25</td>\n",
       "      <td>1,040</td>\n",
       "      <td>Sheffield</td>\n",
       "      <td>Compact</td>\n",
       "      <td>0</td>\n",
       "    </tr>\n",
       "    <tr>\n",
       "      <th>4</th>\n",
       "      <td>26</td>\n",
       "      <td>1,273</td>\n",
       "      <td>Kane</td>\n",
       "      <td>Sedan</td>\n",
       "      <td>1</td>\n",
       "    </tr>\n",
       "  </tbody>\n",
       "</table>\n",
       "</div>"
      ],
      "text/plain": [
       "   Age  Profit   Location Vehicle-Type  Previous\n",
       "0   21  $1,387   Tionesta        Sedan         0\n",
       "1   23   1,754  Sheffield          SUV         1\n",
       "2   24   1,817  Sheffield       Hybrid         1\n",
       "3   25   1,040  Sheffield      Compact         0\n",
       "4   26   1,273       Kane        Sedan         1"
      ]
     },
     "execution_count": 24,
     "metadata": {},
     "output_type": "execute_result"
    }
   ],
   "source": [
    "aw = pd.read_csv('csv/applewood.txt', header=0, sep=' ')\n",
    "aw.head()"
   ]
  },
  {
   "cell_type": "code",
   "execution_count": 25,
   "id": "db21acce-6b3d-4620-842d-b722a1e7ba7e",
   "metadata": {},
   "outputs": [
    {
     "name": "stdout",
     "output_type": "stream",
     "text": [
      "<class 'pandas.core.frame.DataFrame'>\n",
      "RangeIndex: 180 entries, 0 to 179\n",
      "Data columns (total 5 columns):\n",
      " #   Column        Non-Null Count  Dtype \n",
      "---  ------        --------------  ----- \n",
      " 0   Age           180 non-null    int64 \n",
      " 1   Profit        180 non-null    object\n",
      " 2   Location      180 non-null    object\n",
      " 3   Vehicle-Type  180 non-null    object\n",
      " 4   Previous      180 non-null    int64 \n",
      "dtypes: int64(2), object(3)\n",
      "memory usage: 7.2+ KB\n"
     ]
    }
   ],
   "source": [
    "# 데이터프레임의 구조 알아보기\n",
    "# 컬럼별 자료형, 결측치 갯수, 데이터 총 갯수\n",
    "aw.info()"
   ]
  },
  {
   "cell_type": "code",
   "execution_count": 26,
   "id": "67527cfc-2328-430e-a7a0-d1df246dd361",
   "metadata": {},
   "outputs": [
    {
     "data": {
      "text/html": [
       "<div>\n",
       "<style scoped>\n",
       "    .dataframe tbody tr th:only-of-type {\n",
       "        vertical-align: middle;\n",
       "    }\n",
       "\n",
       "    .dataframe tbody tr th {\n",
       "        vertical-align: top;\n",
       "    }\n",
       "\n",
       "    .dataframe thead th {\n",
       "        text-align: right;\n",
       "    }\n",
       "</style>\n",
       "<table border=\"1\" class=\"dataframe\">\n",
       "  <thead>\n",
       "    <tr style=\"text-align: right;\">\n",
       "      <th></th>\n",
       "      <th>Age</th>\n",
       "      <th>Profit</th>\n",
       "      <th>Location</th>\n",
       "      <th>Vehicle-Type</th>\n",
       "      <th>Previous</th>\n",
       "    </tr>\n",
       "  </thead>\n",
       "  <tbody>\n",
       "    <tr>\n",
       "      <th>1</th>\n",
       "      <td>21</td>\n",
       "      <td>$1,387</td>\n",
       "      <td>Tionesta</td>\n",
       "      <td>Sedan</td>\n",
       "      <td>0</td>\n",
       "    </tr>\n",
       "    <tr>\n",
       "      <th>2</th>\n",
       "      <td>23</td>\n",
       "      <td>1,754</td>\n",
       "      <td>Sheffield</td>\n",
       "      <td>SUV</td>\n",
       "      <td>1</td>\n",
       "    </tr>\n",
       "    <tr>\n",
       "      <th>3</th>\n",
       "      <td>24</td>\n",
       "      <td>1,817</td>\n",
       "      <td>Sheffield</td>\n",
       "      <td>Hybrid</td>\n",
       "      <td>1</td>\n",
       "    </tr>\n",
       "    <tr>\n",
       "      <th>4</th>\n",
       "      <td>25</td>\n",
       "      <td>1,040</td>\n",
       "      <td>Sheffield</td>\n",
       "      <td>Compact</td>\n",
       "      <td>0</td>\n",
       "    </tr>\n",
       "    <tr>\n",
       "      <th>5</th>\n",
       "      <td>26</td>\n",
       "      <td>1,273</td>\n",
       "      <td>Kane</td>\n",
       "      <td>Sedan</td>\n",
       "      <td>1</td>\n",
       "    </tr>\n",
       "  </tbody>\n",
       "</table>\n",
       "</div>"
      ],
      "text/plain": [
       "   Age  Profit   Location Vehicle-Type  Previous\n",
       "1   21  $1,387   Tionesta        Sedan         0\n",
       "2   23   1,754  Sheffield          SUV         1\n",
       "3   24   1,817  Sheffield       Hybrid         1\n",
       "4   25   1,040  Sheffield      Compact         0\n",
       "5   26   1,273       Kane        Sedan         1"
      ]
     },
     "execution_count": 26,
     "metadata": {},
     "output_type": "execute_result"
    }
   ],
   "source": [
    "# 일련번호 만들기 : numpy arange\n",
    "idx = np.arange(1,180+1) # n부터 n-1 까지 표시\n",
    "aw.index = idx\n",
    "aw.head()"
   ]
  },
  {
   "cell_type": "code",
   "execution_count": 27,
   "id": "0bfb2f12-7dfe-4e2a-bbb9-e287f1d5af77",
   "metadata": {},
   "outputs": [
    {
     "name": "stdout",
     "output_type": "stream",
     "text": [
      "<class 'pandas.core.frame.DataFrame'>\n",
      "RangeIndex: 40 entries, 0 to 39\n",
      "Data columns (total 1 columns):\n",
      " #   Column  Non-Null Count  Dtype \n",
      "---  ------  --------------  ----- \n",
      " 0   books   40 non-null     object\n",
      "dtypes: object(1)\n",
      "memory usage: 448.0+ bytes\n"
     ]
    }
   ],
   "source": [
    "# json 파일 읽고 데이터프레임으로 만들기\n",
    "book = pd.read_json('json/books.json')\n",
    "book.info()"
   ]
  },
  {
   "cell_type": "code",
   "execution_count": 28,
   "id": "6c9c3954-bd41-4e2d-9971-ad35414ed0c8",
   "metadata": {},
   "outputs": [
    {
     "data": {
      "text/html": [
       "<div>\n",
       "<style scoped>\n",
       "    .dataframe tbody tr th:only-of-type {\n",
       "        vertical-align: middle;\n",
       "    }\n",
       "\n",
       "    .dataframe tbody tr th {\n",
       "        vertical-align: top;\n",
       "    }\n",
       "\n",
       "    .dataframe thead th {\n",
       "        text-align: right;\n",
       "    }\n",
       "</style>\n",
       "<table border=\"1\" class=\"dataframe\">\n",
       "  <thead>\n",
       "    <tr style=\"text-align: right;\">\n",
       "      <th></th>\n",
       "      <th>books</th>\n",
       "    </tr>\n",
       "  </thead>\n",
       "  <tbody>\n",
       "    <tr>\n",
       "      <th>0</th>\n",
       "      <td>{'title': '트렌드 코리아 2022', 'writer': '이혜원,서울대학교...</td>\n",
       "    </tr>\n",
       "    <tr>\n",
       "      <th>1</th>\n",
       "      <td>{'title': '설민석의 한국사 대모험 18', 'writer': '스토리박스,...</td>\n",
       "    </tr>\n",
       "    <tr>\n",
       "      <th>2</th>\n",
       "      <td>{'title': '달러구트 꿈 백화점 2', 'writer': '이미예 저', '...</td>\n",
       "    </tr>\n",
       "    <tr>\n",
       "      <th>3</th>\n",
       "      <td>{'title': '방금 떠나온 세계', 'writer': '김초엽 저', 'pub...</td>\n",
       "    </tr>\n",
       "    <tr>\n",
       "      <th>4</th>\n",
       "      <td>{'title': '달러구트 꿈 백화점', 'writer': '이미예 저', 'pu...</td>\n",
       "    </tr>\n",
       "  </tbody>\n",
       "</table>\n",
       "</div>"
      ],
      "text/plain": [
       "                                               books\n",
       "0  {'title': '트렌드 코리아 2022', 'writer': '이혜원,서울대학교...\n",
       "1  {'title': '설민석의 한국사 대모험 18', 'writer': '스토리박스,...\n",
       "2  {'title': '달러구트 꿈 백화점 2', 'writer': '이미예 저', '...\n",
       "3  {'title': '방금 떠나온 세계', 'writer': '김초엽 저', 'pub...\n",
       "4  {'title': '달러구트 꿈 백화점', 'writer': '이미예 저', 'pu..."
      ]
     },
     "execution_count": 28,
     "metadata": {},
     "output_type": "execute_result"
    }
   ],
   "source": [
    "book.head()"
   ]
  },
  {
   "cell_type": "code",
   "execution_count": 29,
   "id": "276f1a72-6b97-4a56-9a68-13dafa007aaf",
   "metadata": {},
   "outputs": [
    {
     "data": {
      "text/html": [
       "<div>\n",
       "<style scoped>\n",
       "    .dataframe tbody tr th:only-of-type {\n",
       "        vertical-align: middle;\n",
       "    }\n",
       "\n",
       "    .dataframe tbody tr th {\n",
       "        vertical-align: top;\n",
       "    }\n",
       "\n",
       "    .dataframe thead th {\n",
       "        text-align: right;\n",
       "    }\n",
       "</style>\n",
       "<table border=\"1\" class=\"dataframe\">\n",
       "  <thead>\n",
       "    <tr style=\"text-align: right;\">\n",
       "      <th></th>\n",
       "      <th>books</th>\n",
       "    </tr>\n",
       "  </thead>\n",
       "  <tbody>\n",
       "    <tr>\n",
       "      <th>0</th>\n",
       "      <td>{'title': '트렌드 코리아 2022', 'writer': '이혜원,서울대학교 생활과학연구소 소비트렌드분석센터,한다혜,권정윤,서유현 저 외 6명', 'pub': '미래의창', 'price': '16200'}</td>\n",
       "    </tr>\n",
       "    <tr>\n",
       "      <th>1</th>\n",
       "      <td>{'title': '설민석의 한국사 대모험 18', 'writer': '스토리박스,설민석 글/정현희 그림/강석화 감수', 'pub': '아이휴먼', 'price': '10800'}</td>\n",
       "    </tr>\n",
       "    <tr>\n",
       "      <th>2</th>\n",
       "      <td>{'title': '달러구트 꿈 백화점 2', 'writer': '이미예 저', 'pub': '팩토리나인', 'price': '12420'}</td>\n",
       "    </tr>\n",
       "    <tr>\n",
       "      <th>3</th>\n",
       "      <td>{'title': '방금 떠나온 세계', 'writer': '김초엽 저', 'pub': '한겨레출판', 'price': '13500'}</td>\n",
       "    </tr>\n",
       "    <tr>\n",
       "      <th>4</th>\n",
       "      <td>{'title': '달러구트 꿈 백화점', 'writer': '이미예 저', 'pub': '팩토리나인', 'price': '12420'}</td>\n",
       "    </tr>\n",
       "  </tbody>\n",
       "</table>\n",
       "</div>"
      ],
      "text/plain": [
       "                                                                                                                    books\n",
       "0  {'title': '트렌드 코리아 2022', 'writer': '이혜원,서울대학교 생활과학연구소 소비트렌드분석센터,한다혜,권정윤,서유현 저 외 6명', 'pub': '미래의창', 'price': '16200'}\n",
       "1                    {'title': '설민석의 한국사 대모험 18', 'writer': '스토리박스,설민석 글/정현희 그림/강석화 감수', 'pub': '아이휴먼', 'price': '10800'}\n",
       "2                                          {'title': '달러구트 꿈 백화점 2', 'writer': '이미예 저', 'pub': '팩토리나인', 'price': '12420'}\n",
       "3                                             {'title': '방금 떠나온 세계', 'writer': '김초엽 저', 'pub': '한겨레출판', 'price': '13500'}\n",
       "4                                            {'title': '달러구트 꿈 백화점', 'writer': '이미예 저', 'pub': '팩토리나인', 'price': '12420'}"
      ]
     },
     "execution_count": 29,
     "metadata": {},
     "output_type": "execute_result"
    }
   ],
   "source": [
    "# pd.set_option 함수를 이용해서 출력약식을 변경\n",
    "pd.set_option('display.max_columns',50)\n",
    "pd.set_option('display.width',100)\n",
    "pd.set_option('display.max_colwidth',250)\n",
    "book.head()"
   ]
  },
  {
   "cell_type": "code",
   "execution_count": 30,
   "id": "3cbbe687-37fe-4f08-8ace-bc6c30cef137",
   "metadata": {},
   "outputs": [
    {
     "data": {
      "text/html": [
       "<div>\n",
       "<style scoped>\n",
       "    .dataframe tbody tr th:only-of-type {\n",
       "        vertical-align: middle;\n",
       "    }\n",
       "\n",
       "    .dataframe tbody tr th {\n",
       "        vertical-align: top;\n",
       "    }\n",
       "\n",
       "    .dataframe thead th {\n",
       "        text-align: right;\n",
       "    }\n",
       "</style>\n",
       "<table border=\"1\" class=\"dataframe\">\n",
       "  <thead>\n",
       "    <tr style=\"text-align: right;\">\n",
       "      <th></th>\n",
       "      <th>title</th>\n",
       "      <th>writer</th>\n",
       "      <th>pub</th>\n",
       "      <th>price</th>\n",
       "    </tr>\n",
       "  </thead>\n",
       "  <tbody>\n",
       "    <tr>\n",
       "      <th>0</th>\n",
       "      <td>트렌드 코리아 2022</td>\n",
       "      <td>이혜원,서울대학교 생활과학연구소 소비트렌드분석센터,한다혜,권정윤,서유현 저 외 6명</td>\n",
       "      <td>미래의창</td>\n",
       "      <td>16200</td>\n",
       "    </tr>\n",
       "    <tr>\n",
       "      <th>1</th>\n",
       "      <td>설민석의 한국사 대모험 18</td>\n",
       "      <td>스토리박스,설민석 글/정현희 그림/강석화 감수</td>\n",
       "      <td>아이휴먼</td>\n",
       "      <td>10800</td>\n",
       "    </tr>\n",
       "    <tr>\n",
       "      <th>2</th>\n",
       "      <td>달러구트 꿈 백화점 2</td>\n",
       "      <td>이미예 저</td>\n",
       "      <td>팩토리나인</td>\n",
       "      <td>12420</td>\n",
       "    </tr>\n",
       "    <tr>\n",
       "      <th>3</th>\n",
       "      <td>방금 떠나온 세계</td>\n",
       "      <td>김초엽 저</td>\n",
       "      <td>한겨레출판</td>\n",
       "      <td>13500</td>\n",
       "    </tr>\n",
       "    <tr>\n",
       "      <th>4</th>\n",
       "      <td>달러구트 꿈 백화점</td>\n",
       "      <td>이미예 저</td>\n",
       "      <td>팩토리나인</td>\n",
       "      <td>12420</td>\n",
       "    </tr>\n",
       "  </tbody>\n",
       "</table>\n",
       "</div>"
      ],
      "text/plain": [
       "             title                                          writer    pub  price\n",
       "0     트렌드 코리아 2022  이혜원,서울대학교 생활과학연구소 소비트렌드분석센터,한다혜,권정윤,서유현 저 외 6명   미래의창  16200\n",
       "1  설민석의 한국사 대모험 18                       스토리박스,설민석 글/정현희 그림/강석화 감수   아이휴먼  10800\n",
       "2     달러구트 꿈 백화점 2                                           이미예 저  팩토리나인  12420\n",
       "3        방금 떠나온 세계                                           김초엽 저  한겨레출판  13500\n",
       "4       달러구트 꿈 백화점                                           이미예 저  팩토리나인  12420"
      ]
     },
     "execution_count": 30,
     "metadata": {},
     "output_type": "execute_result"
    }
   ],
   "source": [
    "# 읽어들인 json 데이터가 복잡한 중첩구조로 구성된 경우\n",
    "# file 객체로 json 파일을 읽은 후 json.load 함수로 데이터들을 메모리에 적재한 후 json_normalize 함수로 필요한 데이터를 지정해서 데이터프레임으로 만들어야 함\n",
    "import json\n",
    "from pandas import json_normalize\n",
    "with open('json/books.json') as f:\n",
    "    jdata = json.load(f)\n",
    "book = json_normalize(jdata['books'])\n",
    "book.head()"
   ]
  },
  {
   "cell_type": "markdown",
   "id": "d5d675a5-72f5-4b9b-88a6-0093d5e63eda",
   "metadata": {},
   "source": [
    "### 웹페이지에서 table 테그를 데이터프레임으로 만들기\n",
    "+ read_html"
   ]
  },
  {
   "cell_type": "code",
   "execution_count": 41,
   "id": "25e85b14-c403-409d-8dbc-a00b321b466b",
   "metadata": {},
   "outputs": [
    {
     "data": {
      "text/html": [
       "<div>\n",
       "<style scoped>\n",
       "    .dataframe tbody tr th:only-of-type {\n",
       "        vertical-align: middle;\n",
       "    }\n",
       "\n",
       "    .dataframe tbody tr th {\n",
       "        vertical-align: top;\n",
       "    }\n",
       "\n",
       "    .dataframe thead th {\n",
       "        text-align: right;\n",
       "    }\n",
       "</style>\n",
       "<table border=\"1\" class=\"dataframe\">\n",
       "  <thead>\n",
       "    <tr style=\"text-align: right;\">\n",
       "      <th></th>\n",
       "      <th>브랜드</th>\n",
       "      <th>도서명</th>\n",
       "      <th>저자</th>\n",
       "      <th>발행일</th>\n",
       "      <th>정가</th>\n",
       "    </tr>\n",
       "  </thead>\n",
       "  <tbody>\n",
       "    <tr>\n",
       "      <th>0</th>\n",
       "      <td>한빛비즈</td>\n",
       "      <td>비겁한 돈</td>\n",
       "      <td>황현희 외 1명</td>\n",
       "      <td>2021-11-08</td>\n",
       "      <td>16,000원</td>\n",
       "    </tr>\n",
       "    <tr>\n",
       "      <th>1</th>\n",
       "      <td>한빛미디어</td>\n",
       "      <td>구글 BERT의 정석</td>\n",
       "      <td>수다르산 라비찬디란</td>\n",
       "      <td>2021-11-03</td>\n",
       "      <td>34,000원</td>\n",
       "    </tr>\n",
       "    <tr>\n",
       "      <th>2</th>\n",
       "      <td>한빛미디어</td>\n",
       "      <td>머신러닝 디자인 패턴</td>\n",
       "      <td>발리아파 락슈마난 외 2명</td>\n",
       "      <td>2021-11-01</td>\n",
       "      <td>38,000원</td>\n",
       "    </tr>\n",
       "    <tr>\n",
       "      <th>3</th>\n",
       "      <td>한빛미디어</td>\n",
       "      <td>소프트웨어 아키텍처 101</td>\n",
       "      <td>마크 리처즈 외 1명</td>\n",
       "      <td>2021-11-01</td>\n",
       "      <td>32,000원</td>\n",
       "    </tr>\n",
       "    <tr>\n",
       "      <th>4</th>\n",
       "      <td>한빛미디어</td>\n",
       "      <td>혼자 공부하는 SQL</td>\n",
       "      <td>우재남</td>\n",
       "      <td>2021-11-01</td>\n",
       "      <td>24,000원</td>\n",
       "    </tr>\n",
       "  </tbody>\n",
       "</table>\n",
       "</div>"
      ],
      "text/plain": [
       "     브랜드             도서명              저자         발행일       정가\n",
       "0   한빛비즈           비겁한 돈        황현희 외 1명  2021-11-08  16,000원\n",
       "1  한빛미디어     구글 BERT의 정석      수다르산 라비찬디란  2021-11-03  34,000원\n",
       "2  한빛미디어     머신러닝 디자인 패턴  발리아파 락슈마난 외 2명  2021-11-01  38,000원\n",
       "3  한빛미디어  소프트웨어 아키텍처 101     마크 리처즈 외 1명  2021-11-01  32,000원\n",
       "4  한빛미디어     혼자 공부하는 SQL             우재남  2021-11-01  24,000원"
      ]
     },
     "execution_count": 41,
     "metadata": {},
     "output_type": "execute_result"
    }
   ],
   "source": [
    "# hanbit.co.kr의 store메뉴의 전체 도서목록을 데이터프레임으로 만들기\n",
    "import requests\n",
    "from bs4 import BeautifulSoup\n",
    "\n",
    "url = 'https://www.hanbit.co.kr/store/books/full_book_list.html'\n",
    "headers={'User-Agent':'Mozilla/5.0 (Windows NT 10.0; Win64; x64) AppleWebKit/537.36 (KHTML, like Gecko) Chrome/95.0.4638.54 Safari/537.36'}\n",
    "res = requests.get(url, headers=headers)\n",
    "tables = pd.read_html(res.text)\n",
    "tables[1].head()"
   ]
  },
  {
   "cell_type": "code",
   "execution_count": 42,
   "id": "7ea22375-cc29-4dfd-b5c8-d83b7a98596a",
   "metadata": {},
   "outputs": [
    {
     "name": "stdout",
     "output_type": "stream",
     "text": [
      "<class 'pandas.core.frame.DataFrame'>\n",
      "RangeIndex: 50 entries, 0 to 49\n",
      "Data columns (total 5 columns):\n",
      " #   Column  Non-Null Count  Dtype \n",
      "---  ------  --------------  ----- \n",
      " 0   브랜드     50 non-null     object\n",
      " 1   도서명     50 non-null     object\n",
      " 2   저자      50 non-null     object\n",
      " 3   발행일     50 non-null     object\n",
      " 4   정가      50 non-null     object\n",
      "dtypes: object(5)\n",
      "memory usage: 2.1+ KB\n"
     ]
    }
   ],
   "source": [
    "tables[1].info()"
   ]
  },
  {
   "cell_type": "markdown",
   "id": "8cc1307f-14cf-45cb-b84f-8e4ddf0b3c31",
   "metadata": {},
   "source": [
    "+ url = 'http://www.yes24.com/24/Category/BestSeller'\n",
    "+ headers={'User-Agent':'Mozilla/5.0 (Windows NT 10.0; Win64; x64) AppleWebKit/537.36 (KHTML, like Gecko) Chrome/95.0.4638.54 Safari/537.36'}\n",
    "+ res = requests.get(url, headers=headers)\n",
    "+ pd.read_html(res.text)\n",
    "\n",
    "### html 소스내에 table 테그가 불완전하게 작성되었기 때문에 read_html함수로 데이터를 가져올 수 없음"
   ]
  },
  {
   "cell_type": "markdown",
   "id": "a031c46e-0793-4aff-b116-acd63fdea478",
   "metadata": {},
   "source": [
    "### 데이터프레임을 파일로 저장하기\n",
    "+ 객체명.to_xxx(경로) 함수 이용"
   ]
  },
  {
   "cell_type": "code",
   "execution_count": 36,
   "id": "06b1a762-de99-4b92-a981-a576b8eeccd9",
   "metadata": {},
   "outputs": [],
   "source": [
    "# 앞서 생성한 managership 데이터프레임을 csv 파일로 저장\n",
    "managership.to_csv('csv/managers.csv', index=False)"
   ]
  },
  {
   "cell_type": "code",
   "execution_count": 54,
   "id": "1f4bab70-ad50-4cdc-b6d3-1e9adef71538",
   "metadata": {},
   "outputs": [],
   "source": [
    "# 앞서 생성한 전체도서목록에 대한 데이터프레임을 csv 파일로 저장\n",
    "tables[1].to_csv('csv/hanbbooks.csv', index=False)"
   ]
  }
 ],
 "metadata": {
  "kernelspec": {
   "display_name": "Python 3 (ipykernel)",
   "language": "python",
   "name": "python3"
  },
  "language_info": {
   "codemirror_mode": {
    "name": "ipython",
    "version": 3
   },
   "file_extension": ".py",
   "mimetype": "text/x-python",
   "name": "python",
   "nbconvert_exporter": "python",
   "pygments_lexer": "ipython3",
   "version": "3.7.10"
  }
 },
 "nbformat": 4,
 "nbformat_minor": 5
}
