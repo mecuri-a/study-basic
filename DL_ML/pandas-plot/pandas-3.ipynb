{
 "cells": [
  {
   "cell_type": "code",
   "execution_count": 4,
   "id": "f660dbdd-bd21-4ac9-862b-cd13434a21dc",
   "metadata": {},
   "outputs": [],
   "source": [
    "import numpy as np\n",
    "import pandas as pd"
   ]
  },
  {
   "cell_type": "code",
   "execution_count": 5,
   "id": "0e06b49b-c19b-417b-b005-4c7a330036ab",
   "metadata": {},
   "outputs": [],
   "source": [
    "pd.set_option('display.max_columns',50)\n",
    "pd.set_option('display.width',100)\n",
    "pd.set_option('display.max_colwidth',250)"
   ]
  },
  {
   "cell_type": "code",
   "execution_count": 6,
   "id": "bf3b0f1e-7187-445f-94ef-064508769c26",
   "metadata": {},
   "outputs": [
    {
     "data": {
      "text/html": [
       "<div>\n",
       "<style scoped>\n",
       "    .dataframe tbody tr th:only-of-type {\n",
       "        vertical-align: middle;\n",
       "    }\n",
       "\n",
       "    .dataframe tbody tr th {\n",
       "        vertical-align: top;\n",
       "    }\n",
       "\n",
       "    .dataframe thead th {\n",
       "        text-align: right;\n",
       "    }\n",
       "</style>\n",
       "<table border=\"1\" class=\"dataframe\">\n",
       "  <thead>\n",
       "    <tr style=\"text-align: right;\">\n",
       "      <th></th>\n",
       "      <th>0</th>\n",
       "      <th>1</th>\n",
       "      <th>2</th>\n",
       "      <th>3</th>\n",
       "    </tr>\n",
       "  </thead>\n",
       "  <tbody>\n",
       "    <tr>\n",
       "      <th>0</th>\n",
       "      <td>1.0</td>\n",
       "      <td>2</td>\n",
       "      <td>NaN</td>\n",
       "      <td>4.0</td>\n",
       "    </tr>\n",
       "    <tr>\n",
       "      <th>1</th>\n",
       "      <td>NaN</td>\n",
       "      <td>2</td>\n",
       "      <td>3.0</td>\n",
       "      <td>4.0</td>\n",
       "    </tr>\n",
       "    <tr>\n",
       "      <th>2</th>\n",
       "      <td>1.0</td>\n",
       "      <td>2</td>\n",
       "      <td>3.0</td>\n",
       "      <td>NaN</td>\n",
       "    </tr>\n",
       "  </tbody>\n",
       "</table>\n",
       "</div>"
      ],
      "text/plain": [
       "     0  1    2    3\n",
       "0  1.0  2  NaN  4.0\n",
       "1  NaN  2  3.0  4.0\n",
       "2  1.0  2  3.0  NaN"
      ]
     },
     "execution_count": 6,
     "metadata": {},
     "output_type": "execute_result"
    }
   ],
   "source": [
    "data = ([1,2,np.NaN,4],[np.NaN,2,3,4],[1,2,3,np.NaN])\n",
    "a = pd.DataFrame(data)\n",
    "a"
   ]
  },
  {
   "cell_type": "markdown",
   "id": "819ccd9d-41d4-4f82-9ff1-10af4dfff246",
   "metadata": {},
   "source": [
    "### 대체값 채우기 : fillna\n",
    "+ fillna(대체값, 기준대체값, 축방향)\n",
    "+ method 라는 속성을 이용해서 대체값을 넣을 기준 지정"
   ]
  },
  {
   "cell_type": "code",
   "execution_count": 7,
   "id": "eb89286b-169f-4ecb-b864-1c0b4d981cc8",
   "metadata": {},
   "outputs": [
    {
     "data": {
      "text/html": [
       "<div>\n",
       "<style scoped>\n",
       "    .dataframe tbody tr th:only-of-type {\n",
       "        vertical-align: middle;\n",
       "    }\n",
       "\n",
       "    .dataframe tbody tr th {\n",
       "        vertical-align: top;\n",
       "    }\n",
       "\n",
       "    .dataframe thead th {\n",
       "        text-align: right;\n",
       "    }\n",
       "</style>\n",
       "<table border=\"1\" class=\"dataframe\">\n",
       "  <thead>\n",
       "    <tr style=\"text-align: right;\">\n",
       "      <th></th>\n",
       "      <th>0</th>\n",
       "      <th>1</th>\n",
       "      <th>2</th>\n",
       "      <th>3</th>\n",
       "    </tr>\n",
       "  </thead>\n",
       "  <tbody>\n",
       "    <tr>\n",
       "      <th>0</th>\n",
       "      <td>1.0</td>\n",
       "      <td>2</td>\n",
       "      <td>0.0</td>\n",
       "      <td>4.0</td>\n",
       "    </tr>\n",
       "    <tr>\n",
       "      <th>1</th>\n",
       "      <td>0.0</td>\n",
       "      <td>2</td>\n",
       "      <td>3.0</td>\n",
       "      <td>4.0</td>\n",
       "    </tr>\n",
       "    <tr>\n",
       "      <th>2</th>\n",
       "      <td>1.0</td>\n",
       "      <td>2</td>\n",
       "      <td>3.0</td>\n",
       "      <td>0.0</td>\n",
       "    </tr>\n",
       "  </tbody>\n",
       "</table>\n",
       "</div>"
      ],
      "text/plain": [
       "     0  1    2    3\n",
       "0  1.0  2  0.0  4.0\n",
       "1  0.0  2  3.0  4.0\n",
       "2  1.0  2  3.0  0.0"
      ]
     },
     "execution_count": 7,
     "metadata": {},
     "output_type": "execute_result"
    }
   ],
   "source": [
    "# NaN이 0으로 대체\n",
    "a.fillna(0)"
   ]
  },
  {
   "cell_type": "code",
   "execution_count": 8,
   "id": "85a901af-5145-4518-86c6-f1cff9428565",
   "metadata": {},
   "outputs": [
    {
     "data": {
      "text/html": [
       "<div>\n",
       "<style scoped>\n",
       "    .dataframe tbody tr th:only-of-type {\n",
       "        vertical-align: middle;\n",
       "    }\n",
       "\n",
       "    .dataframe tbody tr th {\n",
       "        vertical-align: top;\n",
       "    }\n",
       "\n",
       "    .dataframe thead th {\n",
       "        text-align: right;\n",
       "    }\n",
       "</style>\n",
       "<table border=\"1\" class=\"dataframe\">\n",
       "  <thead>\n",
       "    <tr style=\"text-align: right;\">\n",
       "      <th></th>\n",
       "      <th>0</th>\n",
       "      <th>1</th>\n",
       "      <th>2</th>\n",
       "      <th>3</th>\n",
       "    </tr>\n",
       "  </thead>\n",
       "  <tbody>\n",
       "    <tr>\n",
       "      <th>0</th>\n",
       "      <td>1.0</td>\n",
       "      <td>2</td>\n",
       "      <td>NaN</td>\n",
       "      <td>4.0</td>\n",
       "    </tr>\n",
       "    <tr>\n",
       "      <th>1</th>\n",
       "      <td>1.0</td>\n",
       "      <td>2</td>\n",
       "      <td>3.0</td>\n",
       "      <td>4.0</td>\n",
       "    </tr>\n",
       "    <tr>\n",
       "      <th>2</th>\n",
       "      <td>1.0</td>\n",
       "      <td>2</td>\n",
       "      <td>3.0</td>\n",
       "      <td>4.0</td>\n",
       "    </tr>\n",
       "  </tbody>\n",
       "</table>\n",
       "</div>"
      ],
      "text/plain": [
       "     0  1    2    3\n",
       "0  1.0  2  NaN  4.0\n",
       "1  1.0  2  3.0  4.0\n",
       "2  1.0  2  3.0  4.0"
      ]
     },
     "execution_count": 8,
     "metadata": {},
     "output_type": "execute_result"
    }
   ],
   "source": [
    "# NaN 기준 행의 앞(위)/뒤(아래) 값으로 대체 axis=0 으로 지정한 것과 동일\n",
    "a.fillna(method='ffill') #앞의 값으로 대체"
   ]
  },
  {
   "cell_type": "code",
   "execution_count": 9,
   "id": "29de4a4f-a748-41cf-a53f-e08ba263bd03",
   "metadata": {},
   "outputs": [
    {
     "data": {
      "text/html": [
       "<div>\n",
       "<style scoped>\n",
       "    .dataframe tbody tr th:only-of-type {\n",
       "        vertical-align: middle;\n",
       "    }\n",
       "\n",
       "    .dataframe tbody tr th {\n",
       "        vertical-align: top;\n",
       "    }\n",
       "\n",
       "    .dataframe thead th {\n",
       "        text-align: right;\n",
       "    }\n",
       "</style>\n",
       "<table border=\"1\" class=\"dataframe\">\n",
       "  <thead>\n",
       "    <tr style=\"text-align: right;\">\n",
       "      <th></th>\n",
       "      <th>0</th>\n",
       "      <th>1</th>\n",
       "      <th>2</th>\n",
       "      <th>3</th>\n",
       "    </tr>\n",
       "  </thead>\n",
       "  <tbody>\n",
       "    <tr>\n",
       "      <th>0</th>\n",
       "      <td>1.0</td>\n",
       "      <td>2.0</td>\n",
       "      <td>2.0</td>\n",
       "      <td>4.0</td>\n",
       "    </tr>\n",
       "    <tr>\n",
       "      <th>1</th>\n",
       "      <td>NaN</td>\n",
       "      <td>2.0</td>\n",
       "      <td>3.0</td>\n",
       "      <td>4.0</td>\n",
       "    </tr>\n",
       "    <tr>\n",
       "      <th>2</th>\n",
       "      <td>1.0</td>\n",
       "      <td>2.0</td>\n",
       "      <td>3.0</td>\n",
       "      <td>3.0</td>\n",
       "    </tr>\n",
       "  </tbody>\n",
       "</table>\n",
       "</div>"
      ],
      "text/plain": [
       "     0    1    2    3\n",
       "0  1.0  2.0  2.0  4.0\n",
       "1  NaN  2.0  3.0  4.0\n",
       "2  1.0  2.0  3.0  3.0"
      ]
     },
     "execution_count": 9,
     "metadata": {},
     "output_type": "execute_result"
    }
   ],
   "source": [
    "a.fillna(method='ffill', axis=1)"
   ]
  },
  {
   "cell_type": "code",
   "execution_count": 10,
   "id": "2135a14e-87e4-49c8-bda0-58289cb8b430",
   "metadata": {},
   "outputs": [
    {
     "data": {
      "text/html": [
       "<div>\n",
       "<style scoped>\n",
       "    .dataframe tbody tr th:only-of-type {\n",
       "        vertical-align: middle;\n",
       "    }\n",
       "\n",
       "    .dataframe tbody tr th {\n",
       "        vertical-align: top;\n",
       "    }\n",
       "\n",
       "    .dataframe thead th {\n",
       "        text-align: right;\n",
       "    }\n",
       "</style>\n",
       "<table border=\"1\" class=\"dataframe\">\n",
       "  <thead>\n",
       "    <tr style=\"text-align: right;\">\n",
       "      <th></th>\n",
       "      <th>0</th>\n",
       "      <th>1</th>\n",
       "      <th>2</th>\n",
       "      <th>3</th>\n",
       "    </tr>\n",
       "  </thead>\n",
       "  <tbody>\n",
       "    <tr>\n",
       "      <th>0</th>\n",
       "      <td>1.0</td>\n",
       "      <td>2</td>\n",
       "      <td>3.0</td>\n",
       "      <td>4.0</td>\n",
       "    </tr>\n",
       "    <tr>\n",
       "      <th>1</th>\n",
       "      <td>1.0</td>\n",
       "      <td>2</td>\n",
       "      <td>3.0</td>\n",
       "      <td>4.0</td>\n",
       "    </tr>\n",
       "    <tr>\n",
       "      <th>2</th>\n",
       "      <td>1.0</td>\n",
       "      <td>2</td>\n",
       "      <td>3.0</td>\n",
       "      <td>NaN</td>\n",
       "    </tr>\n",
       "  </tbody>\n",
       "</table>\n",
       "</div>"
      ],
      "text/plain": [
       "     0  1    2    3\n",
       "0  1.0  2  3.0  4.0\n",
       "1  1.0  2  3.0  4.0\n",
       "2  1.0  2  3.0  NaN"
      ]
     },
     "execution_count": 10,
     "metadata": {},
     "output_type": "execute_result"
    }
   ],
   "source": [
    "a.fillna(method='bfill') #뒤의 값으로 대체"
   ]
  },
  {
   "cell_type": "code",
   "execution_count": 11,
   "id": "167bf18e-94c9-4842-8252-4b00a902ecfa",
   "metadata": {},
   "outputs": [
    {
     "data": {
      "text/html": [
       "<div>\n",
       "<style scoped>\n",
       "    .dataframe tbody tr th:only-of-type {\n",
       "        vertical-align: middle;\n",
       "    }\n",
       "\n",
       "    .dataframe tbody tr th {\n",
       "        vertical-align: top;\n",
       "    }\n",
       "\n",
       "    .dataframe thead th {\n",
       "        text-align: right;\n",
       "    }\n",
       "</style>\n",
       "<table border=\"1\" class=\"dataframe\">\n",
       "  <thead>\n",
       "    <tr style=\"text-align: right;\">\n",
       "      <th></th>\n",
       "      <th>0</th>\n",
       "      <th>1</th>\n",
       "      <th>2</th>\n",
       "      <th>3</th>\n",
       "    </tr>\n",
       "  </thead>\n",
       "  <tbody>\n",
       "    <tr>\n",
       "      <th>0</th>\n",
       "      <td>1.0</td>\n",
       "      <td>2.0</td>\n",
       "      <td>4.0</td>\n",
       "      <td>4.0</td>\n",
       "    </tr>\n",
       "    <tr>\n",
       "      <th>1</th>\n",
       "      <td>2.0</td>\n",
       "      <td>2.0</td>\n",
       "      <td>3.0</td>\n",
       "      <td>4.0</td>\n",
       "    </tr>\n",
       "    <tr>\n",
       "      <th>2</th>\n",
       "      <td>1.0</td>\n",
       "      <td>2.0</td>\n",
       "      <td>3.0</td>\n",
       "      <td>NaN</td>\n",
       "    </tr>\n",
       "  </tbody>\n",
       "</table>\n",
       "</div>"
      ],
      "text/plain": [
       "     0    1    2    3\n",
       "0  1.0  2.0  4.0  4.0\n",
       "1  2.0  2.0  3.0  4.0\n",
       "2  1.0  2.0  3.0  NaN"
      ]
     },
     "execution_count": 11,
     "metadata": {},
     "output_type": "execute_result"
    }
   ],
   "source": [
    "a.fillna(method='bfill', axis=1)"
   ]
  },
  {
   "cell_type": "markdown",
   "id": "d1593394-0d5e-4aea-8b4d-8b2cea1e5b82",
   "metadata": {},
   "source": [
    "### 데이터 프레임에 새로운 항목 추가하기\n",
    "+ 열을 추가할 때는 객체명[새로운컬럼명] =  값목록\n",
    "+ 행을 추가할때는 객체명.append(Series/Dict객체) 사용"
   ]
  },
  {
   "cell_type": "code",
   "execution_count": 12,
   "id": "d60b6cdb-4cae-4a86-99ec-0b68acaf9102",
   "metadata": {},
   "outputs": [
    {
     "data": {
      "text/html": [
       "<div>\n",
       "<style scoped>\n",
       "    .dataframe tbody tr th:only-of-type {\n",
       "        vertical-align: middle;\n",
       "    }\n",
       "\n",
       "    .dataframe tbody tr th {\n",
       "        vertical-align: top;\n",
       "    }\n",
       "\n",
       "    .dataframe thead th {\n",
       "        text-align: right;\n",
       "    }\n",
       "</style>\n",
       "<table border=\"1\" class=\"dataframe\">\n",
       "  <thead>\n",
       "    <tr style=\"text-align: right;\">\n",
       "      <th></th>\n",
       "    </tr>\n",
       "  </thead>\n",
       "  <tbody>\n",
       "  </tbody>\n",
       "</table>\n",
       "</div>"
      ],
      "text/plain": [
       "Empty DataFrame\n",
       "Columns: []\n",
       "Index: []"
      ]
     },
     "execution_count": 12,
     "metadata": {},
     "output_type": "execute_result"
    }
   ],
   "source": [
    "b = pd.DataFrame()\n",
    "b"
   ]
  },
  {
   "cell_type": "code",
   "execution_count": 13,
   "id": "7802b308-476c-45d0-bbf5-edcc1f87bda1",
   "metadata": {},
   "outputs": [
    {
     "data": {
      "text/html": [
       "<div>\n",
       "<style scoped>\n",
       "    .dataframe tbody tr th:only-of-type {\n",
       "        vertical-align: middle;\n",
       "    }\n",
       "\n",
       "    .dataframe tbody tr th {\n",
       "        vertical-align: top;\n",
       "    }\n",
       "\n",
       "    .dataframe thead th {\n",
       "        text-align: right;\n",
       "    }\n",
       "</style>\n",
       "<table border=\"1\" class=\"dataframe\">\n",
       "  <thead>\n",
       "    <tr style=\"text-align: right;\">\n",
       "      <th></th>\n",
       "      <th>name</th>\n",
       "      <th>kor</th>\n",
       "      <th>eng</th>\n",
       "      <th>mat</th>\n",
       "    </tr>\n",
       "  </thead>\n",
       "  <tbody>\n",
       "    <tr>\n",
       "      <th>0</th>\n",
       "      <td>혜교</td>\n",
       "      <td>76</td>\n",
       "      <td>54</td>\n",
       "      <td>43</td>\n",
       "    </tr>\n",
       "    <tr>\n",
       "      <th>1</th>\n",
       "      <td>지현</td>\n",
       "      <td>87</td>\n",
       "      <td>65</td>\n",
       "      <td>76</td>\n",
       "    </tr>\n",
       "    <tr>\n",
       "      <th>2</th>\n",
       "      <td>수지</td>\n",
       "      <td>98</td>\n",
       "      <td>76</td>\n",
       "      <td>90</td>\n",
       "    </tr>\n",
       "  </tbody>\n",
       "</table>\n",
       "</div>"
      ],
      "text/plain": [
       "  name  kor  eng  mat\n",
       "0   혜교   76   54   43\n",
       "1   지현   87   65   76\n",
       "2   수지   98   76   90"
      ]
     },
     "execution_count": 13,
     "metadata": {},
     "output_type": "execute_result"
    }
   ],
   "source": [
    "# 열 추가\n",
    "b['name']= ['혜교','지현','수지']\n",
    "b['kor'] = [76,87,98]\n",
    "b['eng'] = [54,65,76]\n",
    "b['mat'] = [43,76,90]\n",
    "b"
   ]
  },
  {
   "cell_type": "code",
   "execution_count": 14,
   "id": "8a24dd5b-75d5-4c21-b69b-7c3c40a4bd8c",
   "metadata": {},
   "outputs": [
    {
     "data": {
      "text/html": [
       "<div>\n",
       "<style scoped>\n",
       "    .dataframe tbody tr th:only-of-type {\n",
       "        vertical-align: middle;\n",
       "    }\n",
       "\n",
       "    .dataframe tbody tr th {\n",
       "        vertical-align: top;\n",
       "    }\n",
       "\n",
       "    .dataframe thead th {\n",
       "        text-align: right;\n",
       "    }\n",
       "</style>\n",
       "<table border=\"1\" class=\"dataframe\">\n",
       "  <thead>\n",
       "    <tr style=\"text-align: right;\">\n",
       "      <th></th>\n",
       "      <th>name</th>\n",
       "      <th>kor</th>\n",
       "      <th>eng</th>\n",
       "      <th>mat</th>\n",
       "    </tr>\n",
       "  </thead>\n",
       "  <tbody>\n",
       "    <tr>\n",
       "      <th>0</th>\n",
       "      <td>혜교</td>\n",
       "      <td>76.0</td>\n",
       "      <td>54.0</td>\n",
       "      <td>43.0</td>\n",
       "    </tr>\n",
       "    <tr>\n",
       "      <th>1</th>\n",
       "      <td>지현</td>\n",
       "      <td>87.0</td>\n",
       "      <td>65.0</td>\n",
       "      <td>76.0</td>\n",
       "    </tr>\n",
       "  </tbody>\n",
       "</table>\n",
       "</div>"
      ],
      "text/plain": [
       "  name   kor   eng   mat\n",
       "0   혜교  76.0  54.0  43.0\n",
       "1   지현  87.0  65.0  76.0"
      ]
     },
     "execution_count": 14,
     "metadata": {},
     "output_type": "execute_result"
    }
   ],
   "source": [
    "b = pd.DataFrame()\n",
    "hekyo = pd.Series(['혜교',76,54,43], index=['name','kor','eng','mat'])\n",
    "jihyun = pd.Series(['지현',87,65,76], index=['name','kor','eng','mat'])\n",
    "b = b.append(hekyo, ignore_index=True)\n",
    "b = b.append(jihyun, ignore_index=True)\n",
    "b"
   ]
  },
  {
   "cell_type": "code",
   "execution_count": 15,
   "id": "accd07ba-d9db-4800-a0c6-47d0f44a5c5f",
   "metadata": {},
   "outputs": [
    {
     "data": {
      "text/html": [
       "<div>\n",
       "<style scoped>\n",
       "    .dataframe tbody tr th:only-of-type {\n",
       "        vertical-align: middle;\n",
       "    }\n",
       "\n",
       "    .dataframe tbody tr th {\n",
       "        vertical-align: top;\n",
       "    }\n",
       "\n",
       "    .dataframe thead th {\n",
       "        text-align: right;\n",
       "    }\n",
       "</style>\n",
       "<table border=\"1\" class=\"dataframe\">\n",
       "  <thead>\n",
       "    <tr style=\"text-align: right;\">\n",
       "      <th></th>\n",
       "      <th>name</th>\n",
       "      <th>kor</th>\n",
       "      <th>eng</th>\n",
       "      <th>mat</th>\n",
       "    </tr>\n",
       "  </thead>\n",
       "  <tbody>\n",
       "    <tr>\n",
       "      <th>0</th>\n",
       "      <td>혜교</td>\n",
       "      <td>76.0</td>\n",
       "      <td>54.0</td>\n",
       "      <td>43.0</td>\n",
       "    </tr>\n",
       "    <tr>\n",
       "      <th>1</th>\n",
       "      <td>지현</td>\n",
       "      <td>87.0</td>\n",
       "      <td>65.0</td>\n",
       "      <td>76.0</td>\n",
       "    </tr>\n",
       "    <tr>\n",
       "      <th>2</th>\n",
       "      <td>수지</td>\n",
       "      <td>98.0</td>\n",
       "      <td>76.0</td>\n",
       "      <td>90.0</td>\n",
       "    </tr>\n",
       "  </tbody>\n",
       "</table>\n",
       "</div>"
      ],
      "text/plain": [
       "  name   kor   eng   mat\n",
       "0   혜교  76.0  54.0  43.0\n",
       "1   지현  87.0  65.0  76.0\n",
       "2   수지  98.0  76.0  90.0"
      ]
     },
     "execution_count": 15,
     "metadata": {},
     "output_type": "execute_result"
    }
   ],
   "source": [
    "# 행을 추가하기 위해 데이터프레임 객체를 생성하는 경우 반드시 행 인덱스를 지어해야 함\n",
    "person = pd.DataFrame({'name':'수지','kor':98,'eng':76,'mat':90}, index=[2,])\n",
    "b = b.append(person)\n",
    "b"
   ]
  },
  {
   "cell_type": "markdown",
   "id": "fa4c0272-9982-4bee-ad31-afdad1be8d6d",
   "metadata": {},
   "source": [
    "### 데이터프레임에서 rank 다루기\n",
    "+ rank(정렬방법)\n",
    "+ 기본적으로 오름차순으로 처리\n",
    "+ 동일한 값들은 그것들의 평균값으로 순위지정"
   ]
  },
  {
   "cell_type": "code",
   "execution_count": 16,
   "id": "14cf8b7a-a4f2-431b-a90d-71a54bdbeada",
   "metadata": {},
   "outputs": [
    {
     "data": {
      "text/html": [
       "<div>\n",
       "<style scoped>\n",
       "    .dataframe tbody tr th:only-of-type {\n",
       "        vertical-align: middle;\n",
       "    }\n",
       "\n",
       "    .dataframe tbody tr th {\n",
       "        vertical-align: top;\n",
       "    }\n",
       "\n",
       "    .dataframe thead th {\n",
       "        text-align: right;\n",
       "    }\n",
       "</style>\n",
       "<table border=\"1\" class=\"dataframe\">\n",
       "  <thead>\n",
       "    <tr style=\"text-align: right;\">\n",
       "      <th></th>\n",
       "      <th>name</th>\n",
       "      <th>kor</th>\n",
       "      <th>eng</th>\n",
       "      <th>mat</th>\n",
       "    </tr>\n",
       "  </thead>\n",
       "  <tbody>\n",
       "    <tr>\n",
       "      <th>0</th>\n",
       "      <td>3.0</td>\n",
       "      <td>1.0</td>\n",
       "      <td>1.0</td>\n",
       "      <td>1.0</td>\n",
       "    </tr>\n",
       "    <tr>\n",
       "      <th>1</th>\n",
       "      <td>2.0</td>\n",
       "      <td>2.0</td>\n",
       "      <td>2.0</td>\n",
       "      <td>2.0</td>\n",
       "    </tr>\n",
       "    <tr>\n",
       "      <th>2</th>\n",
       "      <td>1.0</td>\n",
       "      <td>3.0</td>\n",
       "      <td>3.0</td>\n",
       "      <td>3.0</td>\n",
       "    </tr>\n",
       "  </tbody>\n",
       "</table>\n",
       "</div>"
      ],
      "text/plain": [
       "   name  kor  eng  mat\n",
       "0   3.0  1.0  1.0  1.0\n",
       "1   2.0  2.0  2.0  2.0\n",
       "2   1.0  3.0  3.0  3.0"
      ]
     },
     "execution_count": 16,
     "metadata": {},
     "output_type": "execute_result"
    }
   ],
   "source": [
    "b.rank()"
   ]
  },
  {
   "cell_type": "code",
   "execution_count": 17,
   "id": "17cf1fb5-5e28-4888-95f6-74c71c034254",
   "metadata": {},
   "outputs": [
    {
     "data": {
      "text/html": [
       "<div>\n",
       "<style scoped>\n",
       "    .dataframe tbody tr th:only-of-type {\n",
       "        vertical-align: middle;\n",
       "    }\n",
       "\n",
       "    .dataframe tbody tr th {\n",
       "        vertical-align: top;\n",
       "    }\n",
       "\n",
       "    .dataframe thead th {\n",
       "        text-align: right;\n",
       "    }\n",
       "</style>\n",
       "<table border=\"1\" class=\"dataframe\">\n",
       "  <thead>\n",
       "    <tr style=\"text-align: right;\">\n",
       "      <th></th>\n",
       "      <th>name</th>\n",
       "      <th>kor</th>\n",
       "      <th>eng</th>\n",
       "      <th>mat</th>\n",
       "    </tr>\n",
       "  </thead>\n",
       "  <tbody>\n",
       "    <tr>\n",
       "      <th>0</th>\n",
       "      <td>1.0</td>\n",
       "      <td>3.0</td>\n",
       "      <td>3.0</td>\n",
       "      <td>3.0</td>\n",
       "    </tr>\n",
       "    <tr>\n",
       "      <th>1</th>\n",
       "      <td>2.0</td>\n",
       "      <td>2.0</td>\n",
       "      <td>2.0</td>\n",
       "      <td>2.0</td>\n",
       "    </tr>\n",
       "    <tr>\n",
       "      <th>2</th>\n",
       "      <td>3.0</td>\n",
       "      <td>1.0</td>\n",
       "      <td>1.0</td>\n",
       "      <td>1.0</td>\n",
       "    </tr>\n",
       "  </tbody>\n",
       "</table>\n",
       "</div>"
      ],
      "text/plain": [
       "   name  kor  eng  mat\n",
       "0   1.0  3.0  3.0  3.0\n",
       "1   2.0  2.0  2.0  2.0\n",
       "2   3.0  1.0  1.0  1.0"
      ]
     },
     "execution_count": 17,
     "metadata": {},
     "output_type": "execute_result"
    }
   ],
   "source": [
    "b.rank(ascending=False)"
   ]
  },
  {
   "cell_type": "code",
   "execution_count": 18,
   "id": "bcc7257e-e147-4c91-9ed3-e33742fb036d",
   "metadata": {},
   "outputs": [
    {
     "data": {
      "text/html": [
       "<div>\n",
       "<style scoped>\n",
       "    .dataframe tbody tr th:only-of-type {\n",
       "        vertical-align: middle;\n",
       "    }\n",
       "\n",
       "    .dataframe tbody tr th {\n",
       "        vertical-align: top;\n",
       "    }\n",
       "\n",
       "    .dataframe thead th {\n",
       "        text-align: right;\n",
       "    }\n",
       "</style>\n",
       "<table border=\"1\" class=\"dataframe\">\n",
       "  <thead>\n",
       "    <tr style=\"text-align: right;\">\n",
       "      <th></th>\n",
       "      <th>0</th>\n",
       "    </tr>\n",
       "  </thead>\n",
       "  <tbody>\n",
       "    <tr>\n",
       "      <th>0</th>\n",
       "      <td>6.5</td>\n",
       "    </tr>\n",
       "    <tr>\n",
       "      <th>1</th>\n",
       "      <td>1.0</td>\n",
       "    </tr>\n",
       "    <tr>\n",
       "      <th>2</th>\n",
       "      <td>6.5</td>\n",
       "    </tr>\n",
       "    <tr>\n",
       "      <th>3</th>\n",
       "      <td>4.5</td>\n",
       "    </tr>\n",
       "    <tr>\n",
       "      <th>4</th>\n",
       "      <td>3.0</td>\n",
       "    </tr>\n",
       "    <tr>\n",
       "      <th>5</th>\n",
       "      <td>2.0</td>\n",
       "    </tr>\n",
       "    <tr>\n",
       "      <th>6</th>\n",
       "      <td>4.5</td>\n",
       "    </tr>\n",
       "  </tbody>\n",
       "</table>\n",
       "</div>"
      ],
      "text/plain": [
       "     0\n",
       "0  6.5\n",
       "1  1.0\n",
       "2  6.5\n",
       "3  4.5\n",
       "4  3.0\n",
       "5  2.0\n",
       "6  4.5"
      ]
     },
     "execution_count": 18,
     "metadata": {},
     "output_type": "execute_result"
    }
   ],
   "source": [
    "data = [7,-2,7,4,2,0,4]\n",
    "df = pd.DataFrame(data)\n",
    "df.rank()"
   ]
  },
  {
   "cell_type": "code",
   "execution_count": 19,
   "id": "44f2866a-dbc7-452c-9f44-9540c374aa8c",
   "metadata": {},
   "outputs": [
    {
     "data": {
      "text/html": [
       "<div>\n",
       "<style scoped>\n",
       "    .dataframe tbody tr th:only-of-type {\n",
       "        vertical-align: middle;\n",
       "    }\n",
       "\n",
       "    .dataframe tbody tr th {\n",
       "        vertical-align: top;\n",
       "    }\n",
       "\n",
       "    .dataframe thead th {\n",
       "        text-align: right;\n",
       "    }\n",
       "</style>\n",
       "<table border=\"1\" class=\"dataframe\">\n",
       "  <thead>\n",
       "    <tr style=\"text-align: right;\">\n",
       "      <th></th>\n",
       "      <th>0</th>\n",
       "    </tr>\n",
       "  </thead>\n",
       "  <tbody>\n",
       "    <tr>\n",
       "      <th>0</th>\n",
       "      <td>6.0</td>\n",
       "    </tr>\n",
       "    <tr>\n",
       "      <th>1</th>\n",
       "      <td>1.0</td>\n",
       "    </tr>\n",
       "    <tr>\n",
       "      <th>2</th>\n",
       "      <td>6.0</td>\n",
       "    </tr>\n",
       "    <tr>\n",
       "      <th>3</th>\n",
       "      <td>4.0</td>\n",
       "    </tr>\n",
       "    <tr>\n",
       "      <th>4</th>\n",
       "      <td>3.0</td>\n",
       "    </tr>\n",
       "    <tr>\n",
       "      <th>5</th>\n",
       "      <td>2.0</td>\n",
       "    </tr>\n",
       "    <tr>\n",
       "      <th>6</th>\n",
       "      <td>4.0</td>\n",
       "    </tr>\n",
       "  </tbody>\n",
       "</table>\n",
       "</div>"
      ],
      "text/plain": [
       "     0\n",
       "0  6.0\n",
       "1  1.0\n",
       "2  6.0\n",
       "3  4.0\n",
       "4  3.0\n",
       "5  2.0\n",
       "6  4.0"
      ]
     },
     "execution_count": 19,
     "metadata": {},
     "output_type": "execute_result"
    }
   ],
   "source": [
    "df.rank(method='min') # 동일 순위 지정 방법\n",
    "# 작은 값을 기준으로 1,2,3,4... 중복은 같은 순위"
   ]
  },
  {
   "cell_type": "code",
   "execution_count": 20,
   "id": "091d533d-d34c-4408-9246-63ebc97423ba",
   "metadata": {},
   "outputs": [
    {
     "data": {
      "text/html": [
       "<div>\n",
       "<style scoped>\n",
       "    .dataframe tbody tr th:only-of-type {\n",
       "        vertical-align: middle;\n",
       "    }\n",
       "\n",
       "    .dataframe tbody tr th {\n",
       "        vertical-align: top;\n",
       "    }\n",
       "\n",
       "    .dataframe thead th {\n",
       "        text-align: right;\n",
       "    }\n",
       "</style>\n",
       "<table border=\"1\" class=\"dataframe\">\n",
       "  <thead>\n",
       "    <tr style=\"text-align: right;\">\n",
       "      <th></th>\n",
       "      <th>0</th>\n",
       "    </tr>\n",
       "  </thead>\n",
       "  <tbody>\n",
       "    <tr>\n",
       "      <th>0</th>\n",
       "      <td>7.0</td>\n",
       "    </tr>\n",
       "    <tr>\n",
       "      <th>1</th>\n",
       "      <td>1.0</td>\n",
       "    </tr>\n",
       "    <tr>\n",
       "      <th>2</th>\n",
       "      <td>7.0</td>\n",
       "    </tr>\n",
       "    <tr>\n",
       "      <th>3</th>\n",
       "      <td>5.0</td>\n",
       "    </tr>\n",
       "    <tr>\n",
       "      <th>4</th>\n",
       "      <td>3.0</td>\n",
       "    </tr>\n",
       "    <tr>\n",
       "      <th>5</th>\n",
       "      <td>2.0</td>\n",
       "    </tr>\n",
       "    <tr>\n",
       "      <th>6</th>\n",
       "      <td>5.0</td>\n",
       "    </tr>\n",
       "  </tbody>\n",
       "</table>\n",
       "</div>"
      ],
      "text/plain": [
       "     0\n",
       "0  7.0\n",
       "1  1.0\n",
       "2  7.0\n",
       "3  5.0\n",
       "4  3.0\n",
       "5  2.0\n",
       "6  5.0"
      ]
     },
     "execution_count": 20,
     "metadata": {},
     "output_type": "execute_result"
    }
   ],
   "source": [
    "df.rank(method='max')\n",
    "# 큰 값을 기준으로 7,6,5,4,.... 중복은 같은 순위"
   ]
  },
  {
   "cell_type": "code",
   "execution_count": 21,
   "id": "7c5a1827-c59c-4f54-831f-2091247f5f55",
   "metadata": {},
   "outputs": [
    {
     "data": {
      "text/html": [
       "<div>\n",
       "<style scoped>\n",
       "    .dataframe tbody tr th:only-of-type {\n",
       "        vertical-align: middle;\n",
       "    }\n",
       "\n",
       "    .dataframe tbody tr th {\n",
       "        vertical-align: top;\n",
       "    }\n",
       "\n",
       "    .dataframe thead th {\n",
       "        text-align: right;\n",
       "    }\n",
       "</style>\n",
       "<table border=\"1\" class=\"dataframe\">\n",
       "  <thead>\n",
       "    <tr style=\"text-align: right;\">\n",
       "      <th></th>\n",
       "      <th>0</th>\n",
       "    </tr>\n",
       "  </thead>\n",
       "  <tbody>\n",
       "    <tr>\n",
       "      <th>0</th>\n",
       "      <td>6.0</td>\n",
       "    </tr>\n",
       "    <tr>\n",
       "      <th>1</th>\n",
       "      <td>1.0</td>\n",
       "    </tr>\n",
       "    <tr>\n",
       "      <th>2</th>\n",
       "      <td>7.0</td>\n",
       "    </tr>\n",
       "    <tr>\n",
       "      <th>3</th>\n",
       "      <td>4.0</td>\n",
       "    </tr>\n",
       "    <tr>\n",
       "      <th>4</th>\n",
       "      <td>3.0</td>\n",
       "    </tr>\n",
       "    <tr>\n",
       "      <th>5</th>\n",
       "      <td>2.0</td>\n",
       "    </tr>\n",
       "    <tr>\n",
       "      <th>6</th>\n",
       "      <td>5.0</td>\n",
       "    </tr>\n",
       "  </tbody>\n",
       "</table>\n",
       "</div>"
      ],
      "text/plain": [
       "     0\n",
       "0  6.0\n",
       "1  1.0\n",
       "2  7.0\n",
       "3  4.0\n",
       "4  3.0\n",
       "5  2.0\n",
       "6  5.0"
      ]
     },
     "execution_count": 21,
     "metadata": {},
     "output_type": "execute_result"
    }
   ],
   "source": [
    "df.rank(method='first')\n",
    "# 값이 낮은 순서 부터 앞에서 부터 순위"
   ]
  },
  {
   "cell_type": "markdown",
   "id": "3c6ed0ac-380c-4aa4-8127-748ac19ac07a",
   "metadata": {},
   "source": [
    "### 문자열 처리\n",
    "+ 문자열 관련 함수를 적용하려면 먼저 str 함수로 대상을 문자형으로 변환해야 함"
   ]
  },
  {
   "cell_type": "code",
   "execution_count": 22,
   "id": "b23c84f7-6a89-465a-9d65-cb3fc7e9ede9",
   "metadata": {},
   "outputs": [],
   "source": [
    "data = ['Tom','  James  ',np.NaN,12345,'Vin','Steve']\n",
    "df = pd.Series(data)"
   ]
  },
  {
   "cell_type": "code",
   "execution_count": 23,
   "id": "ccf1078b-dfde-4eb4-88db-cf28e0bebb7d",
   "metadata": {},
   "outputs": [
    {
     "data": {
      "text/plain": [
       "0    3.0\n",
       "1    9.0\n",
       "2    NaN\n",
       "3    NaN\n",
       "4    3.0\n",
       "5    5.0\n",
       "dtype: float64"
      ]
     },
     "execution_count": 23,
     "metadata": {},
     "output_type": "execute_result"
    }
   ],
   "source": [
    "df.str.len() # 문자열 길이"
   ]
  },
  {
   "cell_type": "code",
   "execution_count": 24,
   "id": "668f68d7-36d9-4f46-a11e-6f6e46dc350c",
   "metadata": {},
   "outputs": [
    {
     "data": {
      "text/plain": [
       "0          tom\n",
       "1      james  \n",
       "2          NaN\n",
       "3          NaN\n",
       "4          vin\n",
       "5        steve\n",
       "dtype: object"
      ]
     },
     "execution_count": 24,
     "metadata": {},
     "output_type": "execute_result"
    }
   ],
   "source": [
    "df.str.lower()"
   ]
  },
  {
   "cell_type": "code",
   "execution_count": 25,
   "id": "1fa42fe9-5aeb-4f73-a9c4-470cb0207c5f",
   "metadata": {},
   "outputs": [
    {
     "data": {
      "text/plain": [
       "0          TOM\n",
       "1      JAMES  \n",
       "2          NaN\n",
       "3          NaN\n",
       "4          VIN\n",
       "5        STEVE\n",
       "dtype: object"
      ]
     },
     "execution_count": 25,
     "metadata": {},
     "output_type": "execute_result"
    }
   ],
   "source": [
    "df.str.upper()"
   ]
  },
  {
   "cell_type": "code",
   "execution_count": 26,
   "id": "771d0740-ae57-43fc-a210-09727b5a9b70",
   "metadata": {},
   "outputs": [
    {
     "data": {
      "text/plain": [
       "0          tOM\n",
       "1      jAMES  \n",
       "2          NaN\n",
       "3          NaN\n",
       "4          vIN\n",
       "5        sTEVE\n",
       "dtype: object"
      ]
     },
     "execution_count": 26,
     "metadata": {},
     "output_type": "execute_result"
    }
   ],
   "source": [
    "df.str.swapcase() # 대/소문자 역변환"
   ]
  },
  {
   "cell_type": "code",
   "execution_count": 27,
   "id": "a31883b2-0df6-4544-959f-23f6b64560d1",
   "metadata": {},
   "outputs": [
    {
     "data": {
      "text/plain": [
       "0      Tom\n",
       "1    James\n",
       "2      NaN\n",
       "3      NaN\n",
       "4      Vin\n",
       "5    Steve\n",
       "dtype: object"
      ]
     },
     "execution_count": 27,
     "metadata": {},
     "output_type": "execute_result"
    }
   ],
   "source": [
    "df.str.strip() # 공백 제거"
   ]
  },
  {
   "cell_type": "code",
   "execution_count": 28,
   "id": "35c01b4a-206f-4971-ae9b-8c0784a98f9d",
   "metadata": {},
   "outputs": [
    {
     "data": {
      "text/plain": [
       "0          [Tom]\n",
       "1    [  James  ]\n",
       "2            NaN\n",
       "3            NaN\n",
       "4          [Vin]\n",
       "5        [Steve]\n",
       "dtype: object"
      ]
     },
     "execution_count": 28,
     "metadata": {},
     "output_type": "execute_result"
    }
   ],
   "source": [
    "df.str.split(',')"
   ]
  },
  {
   "cell_type": "code",
   "execution_count": 29,
   "id": "bb961e5e-6081-420c-8212-32a10c651429",
   "metadata": {},
   "outputs": [
    {
     "data": {
      "text/plain": [
       "0    False\n",
       "1    False\n",
       "2      NaN\n",
       "3      NaN\n",
       "4    False\n",
       "5    False\n",
       "dtype: object"
      ]
     },
     "execution_count": 29,
     "metadata": {},
     "output_type": "execute_result"
    }
   ],
   "source": [
    "df.str.contains('123') # 특정 문자열 포함 여부 (T/F)"
   ]
  },
  {
   "cell_type": "code",
   "execution_count": 30,
   "id": "4e587e89-f517-4289-ba4d-8c026496c4ec",
   "metadata": {},
   "outputs": [
    {
     "data": {
      "text/plain": [
       "0     True\n",
       "1    False\n",
       "2      NaN\n",
       "3      NaN\n",
       "4    False\n",
       "5    False\n",
       "dtype: object"
      ]
     },
     "execution_count": 30,
     "metadata": {},
     "output_type": "execute_result"
    }
   ],
   "source": [
    "df.str.contains('T')"
   ]
  },
  {
   "cell_type": "code",
   "execution_count": 31,
   "id": "8568d736-3c1e-45e3-9dc8-6334dc5f35ca",
   "metadata": {},
   "outputs": [
    {
     "data": {
      "text/plain": [
       "0    False\n",
       "1     True\n",
       "2      NaN\n",
       "3      NaN\n",
       "4    False\n",
       "5    False\n",
       "dtype: object"
      ]
     },
     "execution_count": 31,
     "metadata": {},
     "output_type": "execute_result"
    }
   ],
   "source": [
    "df.str.contains('es')"
   ]
  },
  {
   "cell_type": "code",
   "execution_count": 32,
   "id": "4047a500-d9f6-42c9-800b-ecceb5bd94ec",
   "metadata": {},
   "outputs": [
    {
     "data": {
      "text/plain": [
       "0   -1.0\n",
       "1   -1.0\n",
       "2    NaN\n",
       "3    NaN\n",
       "4   -1.0\n",
       "5   -1.0\n",
       "dtype: float64"
      ]
     },
     "execution_count": 32,
     "metadata": {},
     "output_type": "execute_result"
    }
   ],
   "source": [
    "df.str.find('123') # 일치 문자의 인덱스 출력"
   ]
  },
  {
   "cell_type": "code",
   "execution_count": 33,
   "id": "ea98015e-0bb9-4e64-854c-c93d5e25b04d",
   "metadata": {},
   "outputs": [
    {
     "data": {
      "text/plain": [
       "0   -1.0\n",
       "1    5.0\n",
       "2    NaN\n",
       "3    NaN\n",
       "4   -1.0\n",
       "5   -1.0\n",
       "dtype: float64"
      ]
     },
     "execution_count": 33,
     "metadata": {},
     "output_type": "execute_result"
    }
   ],
   "source": [
    "df.str.find('es')"
   ]
  },
  {
   "cell_type": "code",
   "execution_count": 34,
   "id": "f3738e2f-42a8-4c5a-955d-393e2bba5347",
   "metadata": {},
   "outputs": [
    {
     "data": {
      "text/plain": [
       "0    [m]\n",
       "1    [m]\n",
       "2    NaN\n",
       "3    NaN\n",
       "4     []\n",
       "5     []\n",
       "dtype: object"
      ]
     },
     "execution_count": 34,
     "metadata": {},
     "output_type": "execute_result"
    }
   ],
   "source": [
    "df.str.findall('m') # 일치 문자의 문자가 리스트 출력"
   ]
  },
  {
   "cell_type": "code",
   "execution_count": 35,
   "id": "60c354fd-3dc9-40be-96ab-ea6fde7855c9",
   "metadata": {},
   "outputs": [
    {
     "data": {
      "text/plain": [
       "0        []\n",
       "1       [e]\n",
       "2       NaN\n",
       "3       NaN\n",
       "4        []\n",
       "5    [e, e]\n",
       "dtype: object"
      ]
     },
     "execution_count": 35,
     "metadata": {},
     "output_type": "execute_result"
    }
   ],
   "source": [
    "df.str.findall('e')"
   ]
  },
  {
   "cell_type": "markdown",
   "id": "0764a80b-e553-49b3-99de-c8a19361516b",
   "metadata": {},
   "source": [
    "###  onehot-encoding 데이터프레임\n",
    "+ 하나의 True와 나머지가 False인 인코딩을 의미\n",
    "+ 컴퓨터는 문자보다 숫자를 더 잘 처리함\n",
    "+ 따라서, 단어/기호를 숫자형태로 바꾸는 기법 필요\n",
    "+ 범주형 데이터로 구성된 분류문제를 푸는 머신러닝/딥러닝에 주로 사용\n",
    "+ 예를 들어 과일이미지를 이용해서 과일 이름을 판별하는 경우\n",
    "    - 사과/복숭아/오렌지\n",
    "    -  1  /  2  /  3\n",
    "    - 100 / 010 / 001\n",
    "    "
   ]
  },
  {
   "cell_type": "code",
   "execution_count": 36,
   "id": "c589ba33-cddd-47f8-b8bb-31f7f5be2183",
   "metadata": {},
   "outputs": [
    {
     "data": {
      "text/html": [
       "<div>\n",
       "<style scoped>\n",
       "    .dataframe tbody tr th:only-of-type {\n",
       "        vertical-align: middle;\n",
       "    }\n",
       "\n",
       "    .dataframe tbody tr th {\n",
       "        vertical-align: top;\n",
       "    }\n",
       "\n",
       "    .dataframe thead th {\n",
       "        text-align: right;\n",
       "    }\n",
       "</style>\n",
       "<table border=\"1\" class=\"dataframe\">\n",
       "  <thead>\n",
       "    <tr style=\"text-align: right;\">\n",
       "      <th></th>\n",
       "      <th>James</th>\n",
       "      <th>12345</th>\n",
       "      <th>Steve</th>\n",
       "      <th>Tom</th>\n",
       "      <th>Vin</th>\n",
       "    </tr>\n",
       "  </thead>\n",
       "  <tbody>\n",
       "    <tr>\n",
       "      <th>0</th>\n",
       "      <td>0</td>\n",
       "      <td>0</td>\n",
       "      <td>0</td>\n",
       "      <td>1</td>\n",
       "      <td>0</td>\n",
       "    </tr>\n",
       "    <tr>\n",
       "      <th>1</th>\n",
       "      <td>1</td>\n",
       "      <td>0</td>\n",
       "      <td>0</td>\n",
       "      <td>0</td>\n",
       "      <td>0</td>\n",
       "    </tr>\n",
       "    <tr>\n",
       "      <th>2</th>\n",
       "      <td>0</td>\n",
       "      <td>0</td>\n",
       "      <td>0</td>\n",
       "      <td>0</td>\n",
       "      <td>0</td>\n",
       "    </tr>\n",
       "    <tr>\n",
       "      <th>3</th>\n",
       "      <td>0</td>\n",
       "      <td>1</td>\n",
       "      <td>0</td>\n",
       "      <td>0</td>\n",
       "      <td>0</td>\n",
       "    </tr>\n",
       "    <tr>\n",
       "      <th>4</th>\n",
       "      <td>0</td>\n",
       "      <td>0</td>\n",
       "      <td>0</td>\n",
       "      <td>0</td>\n",
       "      <td>1</td>\n",
       "    </tr>\n",
       "    <tr>\n",
       "      <th>5</th>\n",
       "      <td>0</td>\n",
       "      <td>0</td>\n",
       "      <td>1</td>\n",
       "      <td>0</td>\n",
       "      <td>0</td>\n",
       "    </tr>\n",
       "  </tbody>\n",
       "</table>\n",
       "</div>"
      ],
      "text/plain": [
       "     James    12345  Steve  Tom  Vin\n",
       "0          0      0      0    1    0\n",
       "1          1      0      0    0    0\n",
       "2          0      0      0    0    0\n",
       "3          0      1      0    0    0\n",
       "4          0      0      0    0    1\n",
       "5          0      0      1    0    0"
      ]
     },
     "execution_count": 36,
     "metadata": {},
     "output_type": "execute_result"
    }
   ],
   "source": [
    "df.str.get_dummies()\n",
    "# Tom = 00010\n",
    "# Vin = 00001"
   ]
  },
  {
   "cell_type": "markdown",
   "id": "45c2de1a-c142-4b9a-a7a7-f04641da91fb",
   "metadata": {},
   "source": [
    "### 데이터프레임 필터링\n",
    "* 조건을 만족하는 특정 데이터를 추출하려면 []에 조건연산자를 사용한 조건식을 작성하면 됨"
   ]
  },
  {
   "cell_type": "code",
   "execution_count": 37,
   "id": "2d329e6a-943f-4e04-9ae0-d8b7332c20e2",
   "metadata": {},
   "outputs": [
    {
     "data": {
      "text/html": [
       "<div>\n",
       "<style scoped>\n",
       "    .dataframe tbody tr th:only-of-type {\n",
       "        vertical-align: middle;\n",
       "    }\n",
       "\n",
       "    .dataframe tbody tr th {\n",
       "        vertical-align: top;\n",
       "    }\n",
       "\n",
       "    .dataframe thead th {\n",
       "        text-align: right;\n",
       "    }\n",
       "</style>\n",
       "<table border=\"1\" class=\"dataframe\">\n",
       "  <thead>\n",
       "    <tr style=\"text-align: right;\">\n",
       "      <th></th>\n",
       "      <th>prodid</th>\n",
       "      <th>prodname</th>\n",
       "      <th>stock</th>\n",
       "      <th>price</th>\n",
       "      <th>maker</th>\n",
       "    </tr>\n",
       "  </thead>\n",
       "  <tbody>\n",
       "    <tr>\n",
       "      <th>0</th>\n",
       "      <td>p01</td>\n",
       "      <td>그냥만두</td>\n",
       "      <td>5000</td>\n",
       "      <td>4500</td>\n",
       "      <td>대한식품</td>\n",
       "    </tr>\n",
       "    <tr>\n",
       "      <th>1</th>\n",
       "      <td>p02</td>\n",
       "      <td>매운쫄면</td>\n",
       "      <td>2500</td>\n",
       "      <td>5500</td>\n",
       "      <td>민국푸드</td>\n",
       "    </tr>\n",
       "    <tr>\n",
       "      <th>2</th>\n",
       "      <td>p03</td>\n",
       "      <td>쿵떡파이</td>\n",
       "      <td>3600</td>\n",
       "      <td>2600</td>\n",
       "      <td>한빛제과</td>\n",
       "    </tr>\n",
       "    <tr>\n",
       "      <th>3</th>\n",
       "      <td>p04</td>\n",
       "      <td>맛난초콜렛</td>\n",
       "      <td>1250</td>\n",
       "      <td>2500</td>\n",
       "      <td>한빛제과</td>\n",
       "    </tr>\n",
       "    <tr>\n",
       "      <th>4</th>\n",
       "      <td>p05</td>\n",
       "      <td>얼큰라면</td>\n",
       "      <td>2200</td>\n",
       "      <td>1200</td>\n",
       "      <td>대한식품</td>\n",
       "    </tr>\n",
       "  </tbody>\n",
       "</table>\n",
       "</div>"
      ],
      "text/plain": [
       "  prodid prodname  stock  price maker\n",
       "0    p01     그냥만두   5000   4500  대한식품\n",
       "1    p02     매운쫄면   2500   5500  민국푸드\n",
       "2    p03     쿵떡파이   3600   2600  한빛제과\n",
       "3    p04    맛난초콜렛   1250   2500  한빛제과\n",
       "4    p05     얼큰라면   2200   1200  대한식품"
      ]
     },
     "execution_count": 37,
     "metadata": {},
     "output_type": "execute_result"
    }
   ],
   "source": [
    "products = pd.read_csv('csv/Products.csv')\n",
    "products.head()"
   ]
  },
  {
   "cell_type": "code",
   "execution_count": 38,
   "id": "d88da139-6019-4bb8-9804-40b62c52b9d9",
   "metadata": {},
   "outputs": [
    {
     "data": {
      "text/html": [
       "<div>\n",
       "<style scoped>\n",
       "    .dataframe tbody tr th:only-of-type {\n",
       "        vertical-align: middle;\n",
       "    }\n",
       "\n",
       "    .dataframe tbody tr th {\n",
       "        vertical-align: top;\n",
       "    }\n",
       "\n",
       "    .dataframe thead th {\n",
       "        text-align: right;\n",
       "    }\n",
       "</style>\n",
       "<table border=\"1\" class=\"dataframe\">\n",
       "  <thead>\n",
       "    <tr style=\"text-align: right;\">\n",
       "      <th></th>\n",
       "      <th>prodid</th>\n",
       "      <th>prodname</th>\n",
       "      <th>stock</th>\n",
       "      <th>price</th>\n",
       "      <th>maker</th>\n",
       "    </tr>\n",
       "  </thead>\n",
       "  <tbody>\n",
       "    <tr>\n",
       "      <th>2</th>\n",
       "      <td>p03</td>\n",
       "      <td>쿵떡파이</td>\n",
       "      <td>3600</td>\n",
       "      <td>2600</td>\n",
       "      <td>한빛제과</td>\n",
       "    </tr>\n",
       "    <tr>\n",
       "      <th>3</th>\n",
       "      <td>p04</td>\n",
       "      <td>맛난초콜렛</td>\n",
       "      <td>1250</td>\n",
       "      <td>2500</td>\n",
       "      <td>한빛제과</td>\n",
       "    </tr>\n",
       "    <tr>\n",
       "      <th>6</th>\n",
       "      <td>p07</td>\n",
       "      <td>달콤비스켓</td>\n",
       "      <td>1650</td>\n",
       "      <td>1500</td>\n",
       "      <td>한빛제과</td>\n",
       "    </tr>\n",
       "  </tbody>\n",
       "</table>\n",
       "</div>"
      ],
      "text/plain": [
       "  prodid prodname  stock  price maker\n",
       "2    p03     쿵떡파이   3600   2600  한빛제과\n",
       "3    p04    맛난초콜렛   1250   2500  한빛제과\n",
       "6    p07    달콤비스켓   1650   1500  한빛제과"
      ]
     },
     "execution_count": 38,
     "metadata": {},
     "output_type": "execute_result"
    }
   ],
   "source": [
    "# 제조업체가 한빛제과인 상품, 가격 추출\n",
    "search = products.maker == '한빛제과'\n",
    "products[search]  # 조건과 일치하는 모든 컬럼 출력"
   ]
  },
  {
   "cell_type": "code",
   "execution_count": 39,
   "id": "9272bfc5-dc8d-40ae-8886-6f0fc0c1ed9f",
   "metadata": {},
   "outputs": [
    {
     "data": {
      "text/plain": [
       "2     쿵떡파이\n",
       "3    맛난초콜렛\n",
       "6    달콤비스켓\n",
       "Name: prodname, dtype: object"
      ]
     },
     "execution_count": 39,
     "metadata": {},
     "output_type": "execute_result"
    }
   ],
   "source": [
    "# 조건과 일치하는 특정 컬럼 출력\n",
    "products[search]['prodname']"
   ]
  },
  {
   "cell_type": "code",
   "execution_count": 40,
   "id": "fade05c9-5b63-46d3-a014-92227697f354",
   "metadata": {},
   "outputs": [
    {
     "data": {
      "text/html": [
       "<div>\n",
       "<style scoped>\n",
       "    .dataframe tbody tr th:only-of-type {\n",
       "        vertical-align: middle;\n",
       "    }\n",
       "\n",
       "    .dataframe tbody tr th {\n",
       "        vertical-align: top;\n",
       "    }\n",
       "\n",
       "    .dataframe thead th {\n",
       "        text-align: right;\n",
       "    }\n",
       "</style>\n",
       "<table border=\"1\" class=\"dataframe\">\n",
       "  <thead>\n",
       "    <tr style=\"text-align: right;\">\n",
       "      <th></th>\n",
       "      <th>prodname</th>\n",
       "      <th>price</th>\n",
       "    </tr>\n",
       "  </thead>\n",
       "  <tbody>\n",
       "    <tr>\n",
       "      <th>2</th>\n",
       "      <td>쿵떡파이</td>\n",
       "      <td>2600</td>\n",
       "    </tr>\n",
       "    <tr>\n",
       "      <th>3</th>\n",
       "      <td>맛난초콜렛</td>\n",
       "      <td>2500</td>\n",
       "    </tr>\n",
       "    <tr>\n",
       "      <th>6</th>\n",
       "      <td>달콤비스켓</td>\n",
       "      <td>1500</td>\n",
       "    </tr>\n",
       "  </tbody>\n",
       "</table>\n",
       "</div>"
      ],
      "text/plain": [
       "  prodname  price\n",
       "2     쿵떡파이   2600\n",
       "3    맛난초콜렛   2500\n",
       "6    달콤비스켓   1500"
      ]
     },
     "execution_count": 40,
     "metadata": {},
     "output_type": "execute_result"
    }
   ],
   "source": [
    "# 조건과 일치하는 특정 컬럼들 출력\n",
    "products[search][['prodname','price']]"
   ]
  },
  {
   "cell_type": "code",
   "execution_count": 41,
   "id": "199f3fbf-958d-4996-983b-3799176589c2",
   "metadata": {},
   "outputs": [
    {
     "data": {
      "text/html": [
       "<div>\n",
       "<style scoped>\n",
       "    .dataframe tbody tr th:only-of-type {\n",
       "        vertical-align: middle;\n",
       "    }\n",
       "\n",
       "    .dataframe tbody tr th {\n",
       "        vertical-align: top;\n",
       "    }\n",
       "\n",
       "    .dataframe thead th {\n",
       "        text-align: right;\n",
       "    }\n",
       "</style>\n",
       "<table border=\"1\" class=\"dataframe\">\n",
       "  <thead>\n",
       "    <tr style=\"text-align: right;\">\n",
       "      <th></th>\n",
       "      <th>prodname</th>\n",
       "      <th>price</th>\n",
       "    </tr>\n",
       "  </thead>\n",
       "  <tbody>\n",
       "    <tr>\n",
       "      <th>1</th>\n",
       "      <td>매운쫄면</td>\n",
       "      <td>5500</td>\n",
       "    </tr>\n",
       "  </tbody>\n",
       "</table>\n",
       "</div>"
      ],
      "text/plain": [
       "  prodname  price\n",
       "1     매운쫄면   5500"
      ]
     },
     "execution_count": 41,
     "metadata": {},
     "output_type": "execute_result"
    }
   ],
   "source": [
    "# 민국푸드에서 생산중인 상품중 가격이 3000원 이상인 상품은?\n",
    "search = (products.maker == '민국푸드') & (products.price >= 3000)\n",
    "products[search][['prodname','price']]"
   ]
  },
  {
   "cell_type": "code",
   "execution_count": 42,
   "id": "2b0d9837-c199-4ad9-acf9-f47755f06a75",
   "metadata": {},
   "outputs": [
    {
     "data": {
      "text/html": [
       "<div>\n",
       "<style scoped>\n",
       "    .dataframe tbody tr th:only-of-type {\n",
       "        vertical-align: middle;\n",
       "    }\n",
       "\n",
       "    .dataframe tbody tr th {\n",
       "        vertical-align: top;\n",
       "    }\n",
       "\n",
       "    .dataframe thead th {\n",
       "        text-align: right;\n",
       "    }\n",
       "</style>\n",
       "<table border=\"1\" class=\"dataframe\">\n",
       "  <thead>\n",
       "    <tr style=\"text-align: right;\">\n",
       "      <th></th>\n",
       "      <th>makeyear</th>\n",
       "      <th>buyyear</th>\n",
       "      <th>dispsize</th>\n",
       "      <th>age</th>\n",
       "      <th>height</th>\n",
       "      <th>weight</th>\n",
       "      <th>phonetime</th>\n",
       "      <th>pctime</th>\n",
       "      <th>lteamount</th>\n",
       "    </tr>\n",
       "  </thead>\n",
       "  <tbody>\n",
       "    <tr>\n",
       "      <th>0</th>\n",
       "      <td>2015</td>\n",
       "      <td>2015</td>\n",
       "      <td>5.0</td>\n",
       "      <td>45</td>\n",
       "      <td>173</td>\n",
       "      <td>75</td>\n",
       "      <td>60</td>\n",
       "      <td>500</td>\n",
       "      <td>100</td>\n",
       "    </tr>\n",
       "    <tr>\n",
       "      <th>1</th>\n",
       "      <td>2014</td>\n",
       "      <td>2015</td>\n",
       "      <td>4.5</td>\n",
       "      <td>27</td>\n",
       "      <td>176</td>\n",
       "      <td>59</td>\n",
       "      <td>70</td>\n",
       "      <td>30</td>\n",
       "      <td>50</td>\n",
       "    </tr>\n",
       "    <tr>\n",
       "      <th>2</th>\n",
       "      <td>2015</td>\n",
       "      <td>2015</td>\n",
       "      <td>5.0</td>\n",
       "      <td>29</td>\n",
       "      <td>183</td>\n",
       "      <td>65</td>\n",
       "      <td>120</td>\n",
       "      <td>300</td>\n",
       "      <td>200</td>\n",
       "    </tr>\n",
       "    <tr>\n",
       "      <th>3</th>\n",
       "      <td>2015</td>\n",
       "      <td>2016</td>\n",
       "      <td>5.0</td>\n",
       "      <td>28</td>\n",
       "      <td>172</td>\n",
       "      <td>63</td>\n",
       "      <td>80</td>\n",
       "      <td>60</td>\n",
       "      <td>190</td>\n",
       "    </tr>\n",
       "    <tr>\n",
       "      <th>4</th>\n",
       "      <td>2015</td>\n",
       "      <td>2015</td>\n",
       "      <td>5.0</td>\n",
       "      <td>24</td>\n",
       "      <td>179</td>\n",
       "      <td>65</td>\n",
       "      <td>90</td>\n",
       "      <td>30</td>\n",
       "      <td>500</td>\n",
       "    </tr>\n",
       "  </tbody>\n",
       "</table>\n",
       "</div>"
      ],
      "text/plain": [
       "   makeyear  buyyear  dispsize  age  height  weight  phonetime  pctime  lteamount\n",
       "0      2015     2015       5.0   45     173      75         60     500        100\n",
       "1      2014     2015       4.5   27     176      59         70      30         50\n",
       "2      2015     2015       5.0   29     183      65        120     300        200\n",
       "3      2015     2016       5.0   28     172      63         80      60        190\n",
       "4      2015     2015       5.0   24     179      65         90      30        500"
      ]
     },
     "execution_count": 42,
     "metadata": {},
     "output_type": "execute_result"
    }
   ],
   "source": [
    "phone = pd.read_csv('csv/phone02.csv')\n",
    "phone.head()"
   ]
  },
  {
   "cell_type": "code",
   "execution_count": 43,
   "id": "2fe43c34-be32-4731-9396-ab29643619fc",
   "metadata": {},
   "outputs": [
    {
     "data": {
      "text/html": [
       "<div>\n",
       "<style scoped>\n",
       "    .dataframe tbody tr th:only-of-type {\n",
       "        vertical-align: middle;\n",
       "    }\n",
       "\n",
       "    .dataframe tbody tr th {\n",
       "        vertical-align: top;\n",
       "    }\n",
       "\n",
       "    .dataframe thead th {\n",
       "        text-align: right;\n",
       "    }\n",
       "</style>\n",
       "<table border=\"1\" class=\"dataframe\">\n",
       "  <thead>\n",
       "    <tr style=\"text-align: right;\">\n",
       "      <th></th>\n",
       "      <th>makeyear</th>\n",
       "      <th>buyyear</th>\n",
       "      <th>dispsize</th>\n",
       "      <th>age</th>\n",
       "      <th>height</th>\n",
       "      <th>weight</th>\n",
       "      <th>phonetime</th>\n",
       "      <th>pctime</th>\n",
       "      <th>lteamount</th>\n",
       "    </tr>\n",
       "  </thead>\n",
       "  <tbody>\n",
       "    <tr>\n",
       "      <th>0</th>\n",
       "      <td>2015</td>\n",
       "      <td>2015</td>\n",
       "      <td>5.0</td>\n",
       "      <td>45</td>\n",
       "      <td>173</td>\n",
       "      <td>75</td>\n",
       "      <td>60</td>\n",
       "      <td>500</td>\n",
       "      <td>100</td>\n",
       "    </tr>\n",
       "    <tr>\n",
       "      <th>2</th>\n",
       "      <td>2015</td>\n",
       "      <td>2015</td>\n",
       "      <td>5.0</td>\n",
       "      <td>29</td>\n",
       "      <td>183</td>\n",
       "      <td>65</td>\n",
       "      <td>120</td>\n",
       "      <td>300</td>\n",
       "      <td>200</td>\n",
       "    </tr>\n",
       "    <tr>\n",
       "      <th>3</th>\n",
       "      <td>2015</td>\n",
       "      <td>2016</td>\n",
       "      <td>5.0</td>\n",
       "      <td>28</td>\n",
       "      <td>172</td>\n",
       "      <td>63</td>\n",
       "      <td>80</td>\n",
       "      <td>60</td>\n",
       "      <td>190</td>\n",
       "    </tr>\n",
       "    <tr>\n",
       "      <th>4</th>\n",
       "      <td>2015</td>\n",
       "      <td>2015</td>\n",
       "      <td>5.0</td>\n",
       "      <td>24</td>\n",
       "      <td>179</td>\n",
       "      <td>65</td>\n",
       "      <td>90</td>\n",
       "      <td>30</td>\n",
       "      <td>500</td>\n",
       "    </tr>\n",
       "    <tr>\n",
       "      <th>9</th>\n",
       "      <td>2015</td>\n",
       "      <td>2014</td>\n",
       "      <td>5.0</td>\n",
       "      <td>42</td>\n",
       "      <td>177</td>\n",
       "      <td>79</td>\n",
       "      <td>40</td>\n",
       "      <td>480</td>\n",
       "      <td>30</td>\n",
       "    </tr>\n",
       "    <tr>\n",
       "      <th>11</th>\n",
       "      <td>2015</td>\n",
       "      <td>2015</td>\n",
       "      <td>5.5</td>\n",
       "      <td>37</td>\n",
       "      <td>171</td>\n",
       "      <td>70</td>\n",
       "      <td>90</td>\n",
       "      <td>360</td>\n",
       "      <td>200</td>\n",
       "    </tr>\n",
       "    <tr>\n",
       "      <th>12</th>\n",
       "      <td>2015</td>\n",
       "      <td>2016</td>\n",
       "      <td>5.5</td>\n",
       "      <td>35</td>\n",
       "      <td>173</td>\n",
       "      <td>69</td>\n",
       "      <td>60</td>\n",
       "      <td>120</td>\n",
       "      <td>150</td>\n",
       "    </tr>\n",
       "    <tr>\n",
       "      <th>13</th>\n",
       "      <td>2015</td>\n",
       "      <td>2015</td>\n",
       "      <td>6.0</td>\n",
       "      <td>41</td>\n",
       "      <td>181</td>\n",
       "      <td>88</td>\n",
       "      <td>60</td>\n",
       "      <td>120</td>\n",
       "      <td>130</td>\n",
       "    </tr>\n",
       "    <tr>\n",
       "      <th>14</th>\n",
       "      <td>2015</td>\n",
       "      <td>2015</td>\n",
       "      <td>5.5</td>\n",
       "      <td>10</td>\n",
       "      <td>178</td>\n",
       "      <td>89</td>\n",
       "      <td>70</td>\n",
       "      <td>60</td>\n",
       "      <td>140</td>\n",
       "    </tr>\n",
       "    <tr>\n",
       "      <th>15</th>\n",
       "      <td>2015</td>\n",
       "      <td>2015</td>\n",
       "      <td>5.0</td>\n",
       "      <td>35</td>\n",
       "      <td>169</td>\n",
       "      <td>70</td>\n",
       "      <td>50</td>\n",
       "      <td>90</td>\n",
       "      <td>80</td>\n",
       "    </tr>\n",
       "    <tr>\n",
       "      <th>18</th>\n",
       "      <td>2015</td>\n",
       "      <td>2015</td>\n",
       "      <td>4.5</td>\n",
       "      <td>29</td>\n",
       "      <td>188</td>\n",
       "      <td>83</td>\n",
       "      <td>140</td>\n",
       "      <td>240</td>\n",
       "      <td>600</td>\n",
       "    </tr>\n",
       "    <tr>\n",
       "      <th>20</th>\n",
       "      <td>2015</td>\n",
       "      <td>2015</td>\n",
       "      <td>5.5</td>\n",
       "      <td>32</td>\n",
       "      <td>177</td>\n",
       "      <td>68</td>\n",
       "      <td>70</td>\n",
       "      <td>120</td>\n",
       "      <td>300</td>\n",
       "    </tr>\n",
       "    <tr>\n",
       "      <th>22</th>\n",
       "      <td>2015</td>\n",
       "      <td>2015</td>\n",
       "      <td>5.0</td>\n",
       "      <td>26</td>\n",
       "      <td>179</td>\n",
       "      <td>80</td>\n",
       "      <td>180</td>\n",
       "      <td>30</td>\n",
       "      <td>1100</td>\n",
       "    </tr>\n",
       "  </tbody>\n",
       "</table>\n",
       "</div>"
      ],
      "text/plain": [
       "    makeyear  buyyear  dispsize  age  height  weight  phonetime  pctime  lteamount\n",
       "0       2015     2015       5.0   45     173      75         60     500        100\n",
       "2       2015     2015       5.0   29     183      65        120     300        200\n",
       "3       2015     2016       5.0   28     172      63         80      60        190\n",
       "4       2015     2015       5.0   24     179      65         90      30        500\n",
       "9       2015     2014       5.0   42     177      79         40     480         30\n",
       "11      2015     2015       5.5   37     171      70         90     360        200\n",
       "12      2015     2016       5.5   35     173      69         60     120        150\n",
       "13      2015     2015       6.0   41     181      88         60     120        130\n",
       "14      2015     2015       5.5   10     178      89         70      60        140\n",
       "15      2015     2015       5.0   35     169      70         50      90         80\n",
       "18      2015     2015       4.5   29     188      83        140     240        600\n",
       "20      2015     2015       5.5   32     177      68         70     120        300\n",
       "22      2015     2015       5.0   26     179      80        180      30       1100"
      ]
     },
     "execution_count": 43,
     "metadata": {},
     "output_type": "execute_result"
    }
   ],
   "source": [
    "#1 제조년이 2015년인 핸드폰을 사용하는 소비자는?\n",
    "search = phone.makeyear == 2015\n",
    "phone[search]"
   ]
  },
  {
   "cell_type": "code",
   "execution_count": 44,
   "id": "98d3a541-e7f6-4ee1-9a0a-2a56249696b1",
   "metadata": {},
   "outputs": [
    {
     "data": {
      "text/html": [
       "<div>\n",
       "<style scoped>\n",
       "    .dataframe tbody tr th:only-of-type {\n",
       "        vertical-align: middle;\n",
       "    }\n",
       "\n",
       "    .dataframe tbody tr th {\n",
       "        vertical-align: top;\n",
       "    }\n",
       "\n",
       "    .dataframe thead th {\n",
       "        text-align: right;\n",
       "    }\n",
       "</style>\n",
       "<table border=\"1\" class=\"dataframe\">\n",
       "  <thead>\n",
       "    <tr style=\"text-align: right;\">\n",
       "      <th></th>\n",
       "      <th>makeyear</th>\n",
       "      <th>buyyear</th>\n",
       "      <th>dispsize</th>\n",
       "      <th>age</th>\n",
       "      <th>height</th>\n",
       "      <th>weight</th>\n",
       "      <th>phonetime</th>\n",
       "      <th>pctime</th>\n",
       "      <th>lteamount</th>\n",
       "    </tr>\n",
       "  </thead>\n",
       "  <tbody>\n",
       "    <tr>\n",
       "      <th>0</th>\n",
       "      <td>2015</td>\n",
       "      <td>2015</td>\n",
       "      <td>5.0</td>\n",
       "      <td>45</td>\n",
       "      <td>173</td>\n",
       "      <td>75</td>\n",
       "      <td>60</td>\n",
       "      <td>500</td>\n",
       "      <td>100</td>\n",
       "    </tr>\n",
       "    <tr>\n",
       "      <th>1</th>\n",
       "      <td>2014</td>\n",
       "      <td>2015</td>\n",
       "      <td>4.5</td>\n",
       "      <td>27</td>\n",
       "      <td>176</td>\n",
       "      <td>59</td>\n",
       "      <td>70</td>\n",
       "      <td>30</td>\n",
       "      <td>50</td>\n",
       "    </tr>\n",
       "    <tr>\n",
       "      <th>2</th>\n",
       "      <td>2015</td>\n",
       "      <td>2015</td>\n",
       "      <td>5.0</td>\n",
       "      <td>29</td>\n",
       "      <td>183</td>\n",
       "      <td>65</td>\n",
       "      <td>120</td>\n",
       "      <td>300</td>\n",
       "      <td>200</td>\n",
       "    </tr>\n",
       "    <tr>\n",
       "      <th>4</th>\n",
       "      <td>2015</td>\n",
       "      <td>2015</td>\n",
       "      <td>5.0</td>\n",
       "      <td>24</td>\n",
       "      <td>179</td>\n",
       "      <td>65</td>\n",
       "      <td>90</td>\n",
       "      <td>30</td>\n",
       "      <td>500</td>\n",
       "    </tr>\n",
       "    <tr>\n",
       "      <th>10</th>\n",
       "      <td>2014</td>\n",
       "      <td>2015</td>\n",
       "      <td>4.5</td>\n",
       "      <td>32</td>\n",
       "      <td>167</td>\n",
       "      <td>62</td>\n",
       "      <td>130</td>\n",
       "      <td>300</td>\n",
       "      <td>400</td>\n",
       "    </tr>\n",
       "    <tr>\n",
       "      <th>11</th>\n",
       "      <td>2015</td>\n",
       "      <td>2015</td>\n",
       "      <td>5.5</td>\n",
       "      <td>37</td>\n",
       "      <td>171</td>\n",
       "      <td>70</td>\n",
       "      <td>90</td>\n",
       "      <td>360</td>\n",
       "      <td>200</td>\n",
       "    </tr>\n",
       "    <tr>\n",
       "      <th>13</th>\n",
       "      <td>2015</td>\n",
       "      <td>2015</td>\n",
       "      <td>6.0</td>\n",
       "      <td>41</td>\n",
       "      <td>181</td>\n",
       "      <td>88</td>\n",
       "      <td>60</td>\n",
       "      <td>120</td>\n",
       "      <td>130</td>\n",
       "    </tr>\n",
       "    <tr>\n",
       "      <th>14</th>\n",
       "      <td>2015</td>\n",
       "      <td>2015</td>\n",
       "      <td>5.5</td>\n",
       "      <td>10</td>\n",
       "      <td>178</td>\n",
       "      <td>89</td>\n",
       "      <td>70</td>\n",
       "      <td>60</td>\n",
       "      <td>140</td>\n",
       "    </tr>\n",
       "    <tr>\n",
       "      <th>15</th>\n",
       "      <td>2015</td>\n",
       "      <td>2015</td>\n",
       "      <td>5.0</td>\n",
       "      <td>35</td>\n",
       "      <td>169</td>\n",
       "      <td>70</td>\n",
       "      <td>50</td>\n",
       "      <td>90</td>\n",
       "      <td>80</td>\n",
       "    </tr>\n",
       "    <tr>\n",
       "      <th>18</th>\n",
       "      <td>2015</td>\n",
       "      <td>2015</td>\n",
       "      <td>4.5</td>\n",
       "      <td>29</td>\n",
       "      <td>188</td>\n",
       "      <td>83</td>\n",
       "      <td>140</td>\n",
       "      <td>240</td>\n",
       "      <td>600</td>\n",
       "    </tr>\n",
       "    <tr>\n",
       "      <th>20</th>\n",
       "      <td>2015</td>\n",
       "      <td>2015</td>\n",
       "      <td>5.5</td>\n",
       "      <td>32</td>\n",
       "      <td>177</td>\n",
       "      <td>68</td>\n",
       "      <td>70</td>\n",
       "      <td>120</td>\n",
       "      <td>300</td>\n",
       "    </tr>\n",
       "    <tr>\n",
       "      <th>22</th>\n",
       "      <td>2015</td>\n",
       "      <td>2015</td>\n",
       "      <td>5.0</td>\n",
       "      <td>26</td>\n",
       "      <td>179</td>\n",
       "      <td>80</td>\n",
       "      <td>180</td>\n",
       "      <td>30</td>\n",
       "      <td>1100</td>\n",
       "    </tr>\n",
       "  </tbody>\n",
       "</table>\n",
       "</div>"
      ],
      "text/plain": [
       "    makeyear  buyyear  dispsize  age  height  weight  phonetime  pctime  lteamount\n",
       "0       2015     2015       5.0   45     173      75         60     500        100\n",
       "1       2014     2015       4.5   27     176      59         70      30         50\n",
       "2       2015     2015       5.0   29     183      65        120     300        200\n",
       "4       2015     2015       5.0   24     179      65         90      30        500\n",
       "10      2014     2015       4.5   32     167      62        130     300        400\n",
       "11      2015     2015       5.5   37     171      70         90     360        200\n",
       "13      2015     2015       6.0   41     181      88         60     120        130\n",
       "14      2015     2015       5.5   10     178      89         70      60        140\n",
       "15      2015     2015       5.0   35     169      70         50      90         80\n",
       "18      2015     2015       4.5   29     188      83        140     240        600\n",
       "20      2015     2015       5.5   32     177      68         70     120        300\n",
       "22      2015     2015       5.0   26     179      80        180      30       1100"
      ]
     },
     "execution_count": 44,
     "metadata": {},
     "output_type": "execute_result"
    }
   ],
   "source": [
    "#2 구매년이 2015년인 핸드폰을 사용하는 소비자는?\n",
    "search = phone.buyyear == 2015\n",
    "phone[search]"
   ]
  },
  {
   "cell_type": "code",
   "execution_count": 45,
   "id": "91805a84-0745-4e1f-92b1-5a0d4b7ab50e",
   "metadata": {},
   "outputs": [
    {
     "data": {
      "text/html": [
       "<div>\n",
       "<style scoped>\n",
       "    .dataframe tbody tr th:only-of-type {\n",
       "        vertical-align: middle;\n",
       "    }\n",
       "\n",
       "    .dataframe tbody tr th {\n",
       "        vertical-align: top;\n",
       "    }\n",
       "\n",
       "    .dataframe thead th {\n",
       "        text-align: right;\n",
       "    }\n",
       "</style>\n",
       "<table border=\"1\" class=\"dataframe\">\n",
       "  <thead>\n",
       "    <tr style=\"text-align: right;\">\n",
       "      <th></th>\n",
       "      <th>age</th>\n",
       "      <th>height</th>\n",
       "      <th>weight</th>\n",
       "    </tr>\n",
       "  </thead>\n",
       "  <tbody>\n",
       "    <tr>\n",
       "      <th>1</th>\n",
       "      <td>27</td>\n",
       "      <td>176</td>\n",
       "      <td>59</td>\n",
       "    </tr>\n",
       "    <tr>\n",
       "      <th>8</th>\n",
       "      <td>30</td>\n",
       "      <td>175</td>\n",
       "      <td>70</td>\n",
       "    </tr>\n",
       "    <tr>\n",
       "      <th>10</th>\n",
       "      <td>32</td>\n",
       "      <td>167</td>\n",
       "      <td>62</td>\n",
       "    </tr>\n",
       "    <tr>\n",
       "      <th>18</th>\n",
       "      <td>29</td>\n",
       "      <td>188</td>\n",
       "      <td>83</td>\n",
       "    </tr>\n",
       "  </tbody>\n",
       "</table>\n",
       "</div>"
      ],
      "text/plain": [
       "    age  height  weight\n",
       "1    27     176      59\n",
       "8    30     175      70\n",
       "10   32     167      62\n",
       "18   29     188      83"
      ]
     },
     "execution_count": 45,
     "metadata": {},
     "output_type": "execute_result"
    }
   ],
   "source": [
    "#3 크기가 4.5인 핸드폰을 구매한 소비자의 나이, 키, 몸무게 조회하세요\n",
    "search = phone.dispsize == 4.5\n",
    "phone[search][['age','height','weight']]"
   ]
  },
  {
   "cell_type": "code",
   "execution_count": 46,
   "id": "bb940af7-a17e-482f-9445-5f1a67b75fec",
   "metadata": {},
   "outputs": [
    {
     "data": {
      "text/html": [
       "<div>\n",
       "<style scoped>\n",
       "    .dataframe tbody tr th:only-of-type {\n",
       "        vertical-align: middle;\n",
       "    }\n",
       "\n",
       "    .dataframe tbody tr th {\n",
       "        vertical-align: top;\n",
       "    }\n",
       "\n",
       "    .dataframe thead th {\n",
       "        text-align: right;\n",
       "    }\n",
       "</style>\n",
       "<table border=\"1\" class=\"dataframe\">\n",
       "  <thead>\n",
       "    <tr style=\"text-align: right;\">\n",
       "      <th></th>\n",
       "      <th>makeyear</th>\n",
       "      <th>dispsize</th>\n",
       "    </tr>\n",
       "  </thead>\n",
       "  <tbody>\n",
       "    <tr>\n",
       "      <th>0</th>\n",
       "      <td>2015</td>\n",
       "      <td>5.0</td>\n",
       "    </tr>\n",
       "    <tr>\n",
       "      <th>6</th>\n",
       "      <td>2016</td>\n",
       "      <td>6.0</td>\n",
       "    </tr>\n",
       "    <tr>\n",
       "      <th>7</th>\n",
       "      <td>2014</td>\n",
       "      <td>5.0</td>\n",
       "    </tr>\n",
       "    <tr>\n",
       "      <th>9</th>\n",
       "      <td>2015</td>\n",
       "      <td>5.0</td>\n",
       "    </tr>\n",
       "    <tr>\n",
       "      <th>11</th>\n",
       "      <td>2015</td>\n",
       "      <td>5.5</td>\n",
       "    </tr>\n",
       "    <tr>\n",
       "      <th>12</th>\n",
       "      <td>2015</td>\n",
       "      <td>5.5</td>\n",
       "    </tr>\n",
       "    <tr>\n",
       "      <th>13</th>\n",
       "      <td>2015</td>\n",
       "      <td>6.0</td>\n",
       "    </tr>\n",
       "    <tr>\n",
       "      <th>15</th>\n",
       "      <td>2015</td>\n",
       "      <td>5.0</td>\n",
       "    </tr>\n",
       "    <tr>\n",
       "      <th>16</th>\n",
       "      <td>2016</td>\n",
       "      <td>5.5</td>\n",
       "    </tr>\n",
       "  </tbody>\n",
       "</table>\n",
       "</div>"
      ],
      "text/plain": [
       "    makeyear  dispsize\n",
       "0       2015       5.0\n",
       "6       2016       6.0\n",
       "7       2014       5.0\n",
       "9       2015       5.0\n",
       "11      2015       5.5\n",
       "12      2015       5.5\n",
       "13      2015       6.0\n",
       "15      2015       5.0\n",
       "16      2016       5.5"
      ]
     },
     "execution_count": 46,
     "metadata": {},
     "output_type": "execute_result"
    }
   ],
   "source": [
    "#4 나이가 35세이상인 소비자들이 구매한 핸드폰의 제조년, 화면크기 조회\n",
    "search = phone.age >= 35\n",
    "phone[search][['makeyear','dispsize']]"
   ]
  },
  {
   "cell_type": "markdown",
   "id": "48e230f9-cc9b-428b-8126-5dc1e01434c2",
   "metadata": {},
   "source": [
    "### 데이터프레임 그룹핑\n",
    "* 특정조건에 따라 데이터들을 그룹으로 묶어서 집계함수를 적용하고 통계함수를 이용한 정보 출력\n",
    "* 이로서 해당 그룹의 특성을 알아볼수 있음\n",
    "* groupby(조건열).(집계함수)"
   ]
  },
  {
   "cell_type": "code",
   "execution_count": 47,
   "id": "7d01f37b-c0a7-469f-96e1-6cec52eb0bd4",
   "metadata": {},
   "outputs": [
    {
     "data": {
      "text/html": [
       "<div>\n",
       "<style scoped>\n",
       "    .dataframe tbody tr th:only-of-type {\n",
       "        vertical-align: middle;\n",
       "    }\n",
       "\n",
       "    .dataframe tbody tr th {\n",
       "        vertical-align: top;\n",
       "    }\n",
       "\n",
       "    .dataframe thead th {\n",
       "        text-align: right;\n",
       "    }\n",
       "</style>\n",
       "<table border=\"1\" class=\"dataframe\">\n",
       "  <thead>\n",
       "    <tr style=\"text-align: right;\">\n",
       "      <th></th>\n",
       "      <th>도시</th>\n",
       "      <th>연도</th>\n",
       "      <th>인구</th>\n",
       "      <th>지역</th>\n",
       "    </tr>\n",
       "  </thead>\n",
       "  <tbody>\n",
       "    <tr>\n",
       "      <th>0</th>\n",
       "      <td>서울</td>\n",
       "      <td>2015</td>\n",
       "      <td>9904312</td>\n",
       "      <td>수도권</td>\n",
       "    </tr>\n",
       "    <tr>\n",
       "      <th>1</th>\n",
       "      <td>서울</td>\n",
       "      <td>2010</td>\n",
       "      <td>9631482</td>\n",
       "      <td>수도권</td>\n",
       "    </tr>\n",
       "    <tr>\n",
       "      <th>2</th>\n",
       "      <td>서울</td>\n",
       "      <td>2005</td>\n",
       "      <td>9762546</td>\n",
       "      <td>수도권</td>\n",
       "    </tr>\n",
       "    <tr>\n",
       "      <th>3</th>\n",
       "      <td>부산</td>\n",
       "      <td>2015</td>\n",
       "      <td>3448737</td>\n",
       "      <td>경상권</td>\n",
       "    </tr>\n",
       "    <tr>\n",
       "      <th>4</th>\n",
       "      <td>부산</td>\n",
       "      <td>2010</td>\n",
       "      <td>3393191</td>\n",
       "      <td>경상권</td>\n",
       "    </tr>\n",
       "  </tbody>\n",
       "</table>\n",
       "</div>"
      ],
      "text/plain": [
       "   도시    연도       인구   지역\n",
       "0  서울  2015  9904312  수도권\n",
       "1  서울  2010  9631482  수도권\n",
       "2  서울  2005  9762546  수도권\n",
       "3  부산  2015  3448737  경상권\n",
       "4  부산  2010  3393191  경상권"
      ]
     },
     "execution_count": 47,
     "metadata": {},
     "output_type": "execute_result"
    }
   ],
   "source": [
    "city = ['서울', '서울', '서울', '부산', '부산', '부산', '인천', '인천']\n",
    "year = [2015, 2010, 2005, 2015, 2010, 2005, 2015, 2010]\n",
    "pop = [9904312, 9631482, 9762546, 3448737, 3393191, 3512547, 2890451, 263203]\n",
    "region = ['수도권', '수도권', '수도권', '경상권', '경상권', '경상권', '수도권', '수도권']\n",
    "data = {'도시':city, '연도':year,'인구':pop, '지역':region}\n",
    "df = pd.DataFrame(data)\n",
    "df.head()"
   ]
  },
  {
   "cell_type": "code",
   "execution_count": 48,
   "id": "5e21da94-f2b7-47df-9e1a-7d5a0759e1c8",
   "metadata": {},
   "outputs": [
    {
     "data": {
      "text/plain": [
       "{'부산': [3, 4, 5], '서울': [0, 1, 2], '인천': [6, 7]}"
      ]
     },
     "execution_count": 48,
     "metadata": {},
     "output_type": "execute_result"
    }
   ],
   "source": [
    "# 도시별 인구수 알아보기\n",
    "groupby = df.groupby('도시')\n",
    "groupby.groups    # 그룹핑 결과 출력"
   ]
  },
  {
   "cell_type": "code",
   "execution_count": 49,
   "id": "11fc12fa-1824-47a8-b9c2-b4d0208f72a2",
   "metadata": {},
   "outputs": [
    {
     "name": "stdout",
     "output_type": "stream",
     "text": [
      "부산 \n",
      "    도시    연도       인구   지역\n",
      "3  부산  2015  3448737  경상권\n",
      "4  부산  2010  3393191  경상권\n",
      "5  부산  2005  3512547  경상권\n",
      "서울 \n",
      "    도시    연도       인구   지역\n",
      "0  서울  2015  9904312  수도권\n",
      "1  서울  2010  9631482  수도권\n",
      "2  서울  2005  9762546  수도권\n",
      "인천 \n",
      "    도시    연도       인구   지역\n",
      "6  인천  2015  2890451  수도권\n",
      "7  인천  2010   263203  수도권\n"
     ]
    }
   ],
   "source": [
    "# 반복처리를 통해 그룹핑 결과 출력\n",
    "for nm, gp in groupby:\n",
    "   print(f'{nm} \\n {gp}')"
   ]
  },
  {
   "cell_type": "code",
   "execution_count": 50,
   "id": "332b6e3f-99a1-42e6-88fd-5f50ae83f102",
   "metadata": {},
   "outputs": [],
   "source": [
    "# 그룹핑 결과에 집계함수 적용\n",
    "pd.set_option('display.float_format', '{:.2f}'.format)"
   ]
  },
  {
   "cell_type": "code",
   "execution_count": 51,
   "id": "03ea6e18-327d-42ea-bafd-e85d70fd005c",
   "metadata": {},
   "outputs": [
    {
     "data": {
      "text/html": [
       "<style type=\"text/css\">\n",
       "</style>\n",
       "<table id=\"T_d3fb4_\">\n",
       "  <thead>\n",
       "    <tr>\n",
       "      <th class=\"blank level0\" >&nbsp;</th>\n",
       "      <th class=\"col_heading level0 col0\" >연도</th>\n",
       "      <th class=\"col_heading level0 col1\" >인구</th>\n",
       "    </tr>\n",
       "    <tr>\n",
       "      <th class=\"index_name level0\" >도시</th>\n",
       "      <th class=\"blank col0\" >&nbsp;</th>\n",
       "      <th class=\"blank col1\" >&nbsp;</th>\n",
       "    </tr>\n",
       "  </thead>\n",
       "  <tbody>\n",
       "    <tr>\n",
       "      <th id=\"T_d3fb4_level0_row0\" class=\"row_heading level0 row0\" >부산</th>\n",
       "      <td id=\"T_d3fb4_row0_col0\" class=\"data row0 col0\" >6,030</td>\n",
       "      <td id=\"T_d3fb4_row0_col1\" class=\"data row0 col1\" >10,354,475</td>\n",
       "    </tr>\n",
       "    <tr>\n",
       "      <th id=\"T_d3fb4_level0_row1\" class=\"row_heading level0 row1\" >서울</th>\n",
       "      <td id=\"T_d3fb4_row1_col0\" class=\"data row1 col0\" >6,030</td>\n",
       "      <td id=\"T_d3fb4_row1_col1\" class=\"data row1 col1\" >29,298,340</td>\n",
       "    </tr>\n",
       "    <tr>\n",
       "      <th id=\"T_d3fb4_level0_row2\" class=\"row_heading level0 row2\" >인천</th>\n",
       "      <td id=\"T_d3fb4_row2_col0\" class=\"data row2 col0\" >4,025</td>\n",
       "      <td id=\"T_d3fb4_row2_col1\" class=\"data row2 col1\" >3,153,654</td>\n",
       "    </tr>\n",
       "  </tbody>\n",
       "</table>\n"
      ],
      "text/plain": [
       "<pandas.io.formats.style.Styler at 0x7fae90589890>"
      ]
     },
     "execution_count": 51,
     "metadata": {},
     "output_type": "execute_result"
    }
   ],
   "source": [
    "groupby.agg(np.sum).style.format('{:,}')    # 연도까지 합산"
   ]
  },
  {
   "cell_type": "code",
   "execution_count": 52,
   "id": "7ca5ed59-7c4f-4451-bbb1-4003ecfcbc0f",
   "metadata": {},
   "outputs": [
    {
     "data": {
      "text/html": [
       "<style type=\"text/css\">\n",
       "</style>\n",
       "<table id=\"T_58130_\">\n",
       "  <thead>\n",
       "    <tr>\n",
       "      <th class=\"blank level0\" >&nbsp;</th>\n",
       "      <th class=\"col_heading level0 col0\" >연도</th>\n",
       "      <th class=\"col_heading level0 col1\" >인구</th>\n",
       "    </tr>\n",
       "    <tr>\n",
       "      <th class=\"index_name level0\" >도시</th>\n",
       "      <th class=\"blank col0\" >&nbsp;</th>\n",
       "      <th class=\"blank col1\" >&nbsp;</th>\n",
       "    </tr>\n",
       "  </thead>\n",
       "  <tbody>\n",
       "    <tr>\n",
       "      <th id=\"T_58130_level0_row0\" class=\"row_heading level0 row0\" >부산</th>\n",
       "      <td id=\"T_58130_row0_col0\" class=\"data row0 col0\" >2,010.00</td>\n",
       "      <td id=\"T_58130_row0_col1\" class=\"data row0 col1\" >3,451,491.67</td>\n",
       "    </tr>\n",
       "    <tr>\n",
       "      <th id=\"T_58130_level0_row1\" class=\"row_heading level0 row1\" >서울</th>\n",
       "      <td id=\"T_58130_row1_col0\" class=\"data row1 col0\" >2,010.00</td>\n",
       "      <td id=\"T_58130_row1_col1\" class=\"data row1 col1\" >9,766,113.33</td>\n",
       "    </tr>\n",
       "    <tr>\n",
       "      <th id=\"T_58130_level0_row2\" class=\"row_heading level0 row2\" >인천</th>\n",
       "      <td id=\"T_58130_row2_col0\" class=\"data row2 col0\" >2,012.50</td>\n",
       "      <td id=\"T_58130_row2_col1\" class=\"data row2 col1\" >1,576,827.00</td>\n",
       "    </tr>\n",
       "  </tbody>\n",
       "</table>\n"
      ],
      "text/plain": [
       "<pandas.io.formats.style.Styler at 0x7fae8b010850>"
      ]
     },
     "execution_count": 52,
     "metadata": {},
     "output_type": "execute_result"
    }
   ],
   "source": [
    "groupby.agg(np.mean).style.format('{:,.2f}')"
   ]
  },
  {
   "cell_type": "code",
   "execution_count": 53,
   "id": "3d4a5fe4-a1bf-418e-83f8-f022e4c3ac04",
   "metadata": {},
   "outputs": [
    {
     "data": {
      "text/html": [
       "<div>\n",
       "<style scoped>\n",
       "    .dataframe tbody tr th:only-of-type {\n",
       "        vertical-align: middle;\n",
       "    }\n",
       "\n",
       "    .dataframe tbody tr th {\n",
       "        vertical-align: top;\n",
       "    }\n",
       "\n",
       "    .dataframe thead th {\n",
       "        text-align: right;\n",
       "    }\n",
       "</style>\n",
       "<table border=\"1\" class=\"dataframe\">\n",
       "  <thead>\n",
       "    <tr style=\"text-align: right;\">\n",
       "      <th></th>\n",
       "      <th>연도</th>\n",
       "      <th>인구</th>\n",
       "    </tr>\n",
       "    <tr>\n",
       "      <th>도시</th>\n",
       "      <th></th>\n",
       "      <th></th>\n",
       "    </tr>\n",
       "  </thead>\n",
       "  <tbody>\n",
       "    <tr>\n",
       "      <th>부산</th>\n",
       "      <td>6030</td>\n",
       "      <td>10354475</td>\n",
       "    </tr>\n",
       "    <tr>\n",
       "      <th>서울</th>\n",
       "      <td>6030</td>\n",
       "      <td>29298340</td>\n",
       "    </tr>\n",
       "    <tr>\n",
       "      <th>인천</th>\n",
       "      <td>4025</td>\n",
       "      <td>3153654</td>\n",
       "    </tr>\n",
       "  </tbody>\n",
       "</table>\n",
       "</div>"
      ],
      "text/plain": [
       "      연도        인구\n",
       "도시                \n",
       "부산  6030  10354475\n",
       "서울  6030  29298340\n",
       "인천  4025   3153654"
      ]
     },
     "execution_count": 53,
     "metadata": {},
     "output_type": "execute_result"
    }
   ],
   "source": [
    "groupby.sum()          # 연도까지 합산"
   ]
  },
  {
   "cell_type": "code",
   "execution_count": 54,
   "id": "7f37dcba-f9c6-4f50-97af-03a069ee2e14",
   "metadata": {},
   "outputs": [
    {
     "data": {
      "text/html": [
       "<div>\n",
       "<style scoped>\n",
       "    .dataframe tbody tr th:only-of-type {\n",
       "        vertical-align: middle;\n",
       "    }\n",
       "\n",
       "    .dataframe tbody tr th {\n",
       "        vertical-align: top;\n",
       "    }\n",
       "\n",
       "    .dataframe thead th {\n",
       "        text-align: right;\n",
       "    }\n",
       "</style>\n",
       "<table border=\"1\" class=\"dataframe\">\n",
       "  <thead>\n",
       "    <tr style=\"text-align: right;\">\n",
       "      <th></th>\n",
       "      <th>연도</th>\n",
       "      <th>인구</th>\n",
       "    </tr>\n",
       "    <tr>\n",
       "      <th>도시</th>\n",
       "      <th></th>\n",
       "      <th></th>\n",
       "    </tr>\n",
       "  </thead>\n",
       "  <tbody>\n",
       "    <tr>\n",
       "      <th>부산</th>\n",
       "      <td>2010.00</td>\n",
       "      <td>3451491.67</td>\n",
       "    </tr>\n",
       "    <tr>\n",
       "      <th>서울</th>\n",
       "      <td>2010.00</td>\n",
       "      <td>9766113.33</td>\n",
       "    </tr>\n",
       "    <tr>\n",
       "      <th>인천</th>\n",
       "      <td>2012.50</td>\n",
       "      <td>1576827.00</td>\n",
       "    </tr>\n",
       "  </tbody>\n",
       "</table>\n",
       "</div>"
      ],
      "text/plain": [
       "        연도         인구\n",
       "도시                   \n",
       "부산 2010.00 3451491.67\n",
       "서울 2010.00 9766113.33\n",
       "인천 2012.50 1576827.00"
      ]
     },
     "execution_count": 54,
     "metadata": {},
     "output_type": "execute_result"
    }
   ],
   "source": [
    "groupby.mean()"
   ]
  },
  {
   "cell_type": "code",
   "execution_count": 55,
   "id": "ff7126ad-4788-4cf5-bb09-512b73447549",
   "metadata": {},
   "outputs": [
    {
     "data": {
      "text/plain": [
       "도시\n",
       "부산    10354475\n",
       "서울    29298340\n",
       "인천     3153654\n",
       "Name: 인구, dtype: int64"
      ]
     },
     "execution_count": 55,
     "metadata": {},
     "output_type": "execute_result"
    }
   ],
   "source": [
    "groupby['인구'].sum()   # 도시별 총인구"
   ]
  },
  {
   "cell_type": "code",
   "execution_count": 56,
   "id": "9564ce5f-fce4-4d22-8a48-7f7814c02173",
   "metadata": {},
   "outputs": [
    {
     "data": {
      "text/plain": [
       "도시\n",
       "부산   3451491.67\n",
       "서울   9766113.33\n",
       "인천   1576827.00\n",
       "Name: 인구, dtype: float64"
      ]
     },
     "execution_count": 56,
     "metadata": {},
     "output_type": "execute_result"
    }
   ],
   "source": [
    "groupby['인구'].mean()  # 도시별 평균인구"
   ]
  },
  {
   "cell_type": "code",
   "execution_count": 57,
   "id": "55ee5b40-cdf6-4e5c-9080-d29a827ff718",
   "metadata": {},
   "outputs": [
    {
     "data": {
      "text/html": [
       "<style type=\"text/css\">\n",
       "</style>\n",
       "<table id=\"T_7729b_\">\n",
       "  <thead>\n",
       "    <tr>\n",
       "      <th class=\"blank level0\" >&nbsp;</th>\n",
       "      <th class=\"col_heading level0 col0\" >인구</th>\n",
       "    </tr>\n",
       "    <tr>\n",
       "      <th class=\"index_name level0\" >연도</th>\n",
       "      <th class=\"blank col0\" >&nbsp;</th>\n",
       "    </tr>\n",
       "  </thead>\n",
       "  <tbody>\n",
       "    <tr>\n",
       "      <th id=\"T_7729b_level0_row0\" class=\"row_heading level0 row0\" >2005</th>\n",
       "      <td id=\"T_7729b_row0_col0\" class=\"data row0 col0\" >13,275,093</td>\n",
       "    </tr>\n",
       "    <tr>\n",
       "      <th id=\"T_7729b_level0_row1\" class=\"row_heading level0 row1\" >2010</th>\n",
       "      <td id=\"T_7729b_row1_col0\" class=\"data row1 col0\" >13,287,876</td>\n",
       "    </tr>\n",
       "    <tr>\n",
       "      <th id=\"T_7729b_level0_row2\" class=\"row_heading level0 row2\" >2015</th>\n",
       "      <td id=\"T_7729b_row2_col0\" class=\"data row2 col0\" >16,243,500</td>\n",
       "    </tr>\n",
       "  </tbody>\n",
       "</table>\n"
      ],
      "text/plain": [
       "<pandas.io.formats.style.Styler at 0x7fae8aef9e10>"
      ]
     },
     "execution_count": 57,
     "metadata": {},
     "output_type": "execute_result"
    }
   ],
   "source": [
    "# 년도별 총 인구수\n",
    "df.groupby('연도').sum().style.format('{:,}')"
   ]
  },
  {
   "cell_type": "code",
   "execution_count": 58,
   "id": "031a83ab-e76a-4e64-9708-2d640a591361",
   "metadata": {},
   "outputs": [
    {
     "data": {
      "text/html": [
       "<style type=\"text/css\">\n",
       "</style>\n",
       "<table id=\"T_df63e_\">\n",
       "  <thead>\n",
       "    <tr>\n",
       "      <th class=\"blank\" >&nbsp;</th>\n",
       "      <th class=\"blank level0\" >&nbsp;</th>\n",
       "      <th class=\"col_heading level0 col0\" >인구</th>\n",
       "    </tr>\n",
       "    <tr>\n",
       "      <th class=\"index_name level0\" >지역</th>\n",
       "      <th class=\"index_name level1\" >연도</th>\n",
       "      <th class=\"blank col0\" >&nbsp;</th>\n",
       "    </tr>\n",
       "  </thead>\n",
       "  <tbody>\n",
       "    <tr>\n",
       "      <th id=\"T_df63e_level0_row0\" class=\"row_heading level0 row0\" rowspan=\"3\">경상권</th>\n",
       "      <th id=\"T_df63e_level1_row0\" class=\"row_heading level1 row0\" >2005</th>\n",
       "      <td id=\"T_df63e_row0_col0\" class=\"data row0 col0\" >3,512,547</td>\n",
       "    </tr>\n",
       "    <tr>\n",
       "      <th id=\"T_df63e_level1_row1\" class=\"row_heading level1 row1\" >2010</th>\n",
       "      <td id=\"T_df63e_row1_col0\" class=\"data row1 col0\" >3,393,191</td>\n",
       "    </tr>\n",
       "    <tr>\n",
       "      <th id=\"T_df63e_level1_row2\" class=\"row_heading level1 row2\" >2015</th>\n",
       "      <td id=\"T_df63e_row2_col0\" class=\"data row2 col0\" >3,448,737</td>\n",
       "    </tr>\n",
       "    <tr>\n",
       "      <th id=\"T_df63e_level0_row3\" class=\"row_heading level0 row3\" rowspan=\"3\">수도권</th>\n",
       "      <th id=\"T_df63e_level1_row3\" class=\"row_heading level1 row3\" >2005</th>\n",
       "      <td id=\"T_df63e_row3_col0\" class=\"data row3 col0\" >9,762,546</td>\n",
       "    </tr>\n",
       "    <tr>\n",
       "      <th id=\"T_df63e_level1_row4\" class=\"row_heading level1 row4\" >2010</th>\n",
       "      <td id=\"T_df63e_row4_col0\" class=\"data row4 col0\" >9,894,685</td>\n",
       "    </tr>\n",
       "    <tr>\n",
       "      <th id=\"T_df63e_level1_row5\" class=\"row_heading level1 row5\" >2015</th>\n",
       "      <td id=\"T_df63e_row5_col0\" class=\"data row5 col0\" >12,794,763</td>\n",
       "    </tr>\n",
       "  </tbody>\n",
       "</table>\n"
      ],
      "text/plain": [
       "<pandas.io.formats.style.Styler at 0x7fae9056b910>"
      ]
     },
     "execution_count": 58,
     "metadata": {},
     "output_type": "execute_result"
    }
   ],
   "source": [
    "# 지역별 연도별 총 인구수\n",
    "df.groupby(['지역','연도']).sum().style.format('{:,}')"
   ]
  },
  {
   "cell_type": "markdown",
   "id": "e9e9e01b-fefb-43f2-b888-bf369830630b",
   "metadata": {},
   "source": [
    "* 미국 질병통제센터에서 수집한 연도별 신생아 성별 출생수 데이터\n",
    "* 1969 ~ 2008 까지의 데이터"
   ]
  },
  {
   "cell_type": "code",
   "execution_count": 59,
   "id": "0ef79b44-9afb-4550-b9d2-f6d58a1706e4",
   "metadata": {},
   "outputs": [
    {
     "data": {
      "text/html": [
       "<div>\n",
       "<style scoped>\n",
       "    .dataframe tbody tr th:only-of-type {\n",
       "        vertical-align: middle;\n",
       "    }\n",
       "\n",
       "    .dataframe tbody tr th {\n",
       "        vertical-align: top;\n",
       "    }\n",
       "\n",
       "    .dataframe thead th {\n",
       "        text-align: right;\n",
       "    }\n",
       "</style>\n",
       "<table border=\"1\" class=\"dataframe\">\n",
       "  <thead>\n",
       "    <tr style=\"text-align: right;\">\n",
       "      <th></th>\n",
       "      <th>year</th>\n",
       "      <th>month</th>\n",
       "      <th>day</th>\n",
       "      <th>gender</th>\n",
       "      <th>births</th>\n",
       "    </tr>\n",
       "  </thead>\n",
       "  <tbody>\n",
       "    <tr>\n",
       "      <th>0</th>\n",
       "      <td>1969</td>\n",
       "      <td>1</td>\n",
       "      <td>1.00</td>\n",
       "      <td>F</td>\n",
       "      <td>4046</td>\n",
       "    </tr>\n",
       "    <tr>\n",
       "      <th>1</th>\n",
       "      <td>1969</td>\n",
       "      <td>1</td>\n",
       "      <td>1.00</td>\n",
       "      <td>M</td>\n",
       "      <td>4440</td>\n",
       "    </tr>\n",
       "    <tr>\n",
       "      <th>2</th>\n",
       "      <td>1969</td>\n",
       "      <td>1</td>\n",
       "      <td>2.00</td>\n",
       "      <td>F</td>\n",
       "      <td>4454</td>\n",
       "    </tr>\n",
       "    <tr>\n",
       "      <th>3</th>\n",
       "      <td>1969</td>\n",
       "      <td>1</td>\n",
       "      <td>2.00</td>\n",
       "      <td>M</td>\n",
       "      <td>4548</td>\n",
       "    </tr>\n",
       "    <tr>\n",
       "      <th>4</th>\n",
       "      <td>1969</td>\n",
       "      <td>1</td>\n",
       "      <td>3.00</td>\n",
       "      <td>F</td>\n",
       "      <td>4548</td>\n",
       "    </tr>\n",
       "  </tbody>\n",
       "</table>\n",
       "</div>"
      ],
      "text/plain": [
       "   year  month  day gender  births\n",
       "0  1969      1 1.00      F    4046\n",
       "1  1969      1 1.00      M    4440\n",
       "2  1969      1 2.00      F    4454\n",
       "3  1969      1 2.00      M    4548\n",
       "4  1969      1 3.00      F    4548"
      ]
     },
     "execution_count": 59,
     "metadata": {},
     "output_type": "execute_result"
    }
   ],
   "source": [
    "births = pd.read_csv('csv/births.csv')\n",
    "births.head()"
   ]
  },
  {
   "cell_type": "code",
   "execution_count": 60,
   "id": "a532908f-2ee6-4203-b138-f17346e4d498",
   "metadata": {},
   "outputs": [
    {
     "data": {
      "text/html": [
       "<div>\n",
       "<style scoped>\n",
       "    .dataframe tbody tr th:only-of-type {\n",
       "        vertical-align: middle;\n",
       "    }\n",
       "\n",
       "    .dataframe tbody tr th {\n",
       "        vertical-align: top;\n",
       "    }\n",
       "\n",
       "    .dataframe thead th {\n",
       "        text-align: right;\n",
       "    }\n",
       "</style>\n",
       "<table border=\"1\" class=\"dataframe\">\n",
       "  <thead>\n",
       "    <tr style=\"text-align: right;\">\n",
       "      <th></th>\n",
       "      <th>year</th>\n",
       "      <th>month</th>\n",
       "      <th>day</th>\n",
       "      <th>gender</th>\n",
       "      <th>births</th>\n",
       "    </tr>\n",
       "  </thead>\n",
       "  <tbody>\n",
       "    <tr>\n",
       "      <th>15542</th>\n",
       "      <td>2008</td>\n",
       "      <td>10</td>\n",
       "      <td>NaN</td>\n",
       "      <td>M</td>\n",
       "      <td>183219</td>\n",
       "    </tr>\n",
       "    <tr>\n",
       "      <th>15543</th>\n",
       "      <td>2008</td>\n",
       "      <td>11</td>\n",
       "      <td>NaN</td>\n",
       "      <td>F</td>\n",
       "      <td>158939</td>\n",
       "    </tr>\n",
       "    <tr>\n",
       "      <th>15544</th>\n",
       "      <td>2008</td>\n",
       "      <td>11</td>\n",
       "      <td>NaN</td>\n",
       "      <td>M</td>\n",
       "      <td>165468</td>\n",
       "    </tr>\n",
       "    <tr>\n",
       "      <th>15545</th>\n",
       "      <td>2008</td>\n",
       "      <td>12</td>\n",
       "      <td>NaN</td>\n",
       "      <td>F</td>\n",
       "      <td>173215</td>\n",
       "    </tr>\n",
       "    <tr>\n",
       "      <th>15546</th>\n",
       "      <td>2008</td>\n",
       "      <td>12</td>\n",
       "      <td>NaN</td>\n",
       "      <td>M</td>\n",
       "      <td>181235</td>\n",
       "    </tr>\n",
       "  </tbody>\n",
       "</table>\n",
       "</div>"
      ],
      "text/plain": [
       "       year  month  day gender  births\n",
       "15542  2008     10  NaN      M  183219\n",
       "15543  2008     11  NaN      F  158939\n",
       "15544  2008     11  NaN      M  165468\n",
       "15545  2008     12  NaN      F  173215\n",
       "15546  2008     12  NaN      M  181235"
      ]
     },
     "execution_count": 60,
     "metadata": {},
     "output_type": "execute_result"
    }
   ],
   "source": [
    "births.tail()"
   ]
  },
  {
   "cell_type": "code",
   "execution_count": 61,
   "id": "4512b983-eb1d-4544-8a37-34bff2734526",
   "metadata": {},
   "outputs": [
    {
     "data": {
      "text/plain": [
       "year\n",
       "1969    3,600,206명\n",
       "1970    3,737,800명\n",
       "1971    3,563,548명\n",
       "1972    3,266,235명\n",
       "1973    3,146,125명\n",
       "1974    3,170,631명\n",
       "1975    3,153,556명\n",
       "1976    3,176,476명\n",
       "1977    3,332,159명\n",
       "1978    3,338,300명\n",
       "1979    3,499,795명\n",
       "1980    3,617,981명\n",
       "1981    3,635,515명\n",
       "1982    3,685,457명\n",
       "1983    3,642,821명\n",
       "1984    3,673,568명\n",
       "1985    3,765,064명\n",
       "1986    3,760,695명\n",
       "1987    3,813,216명\n",
       "1988    3,913,793명\n",
       "1989    4,045,693명\n",
       "1990    4,162,917명\n",
       "1991    4,115,342명\n",
       "1992    4,069,428명\n",
       "1993    4,004,523명\n",
       "1994    3,956,925명\n",
       "1995    3,903,012명\n",
       "1996    3,894,874명\n",
       "1997    3,884,329명\n",
       "1998    3,945,192명\n",
       "1999    3,963,465명\n",
       "2000    4,063,823명\n",
       "2001    4,031,531명\n",
       "2002    4,027,376명\n",
       "2003    4,096,092명\n",
       "2004    4,118,907명\n",
       "2005    4,145,619명\n",
       "2006    4,273,225명\n",
       "2007    4,324,008명\n",
       "2008    4,255,156명\n",
       "Name: births, dtype: object"
      ]
     },
     "execution_count": 61,
     "metadata": {},
     "output_type": "execute_result"
    }
   ],
   "source": [
    "# 연도별 출생수는?\n",
    "births.groupby('year')['births'].sum().map('{:,}명'.format)"
   ]
  },
  {
   "cell_type": "code",
   "execution_count": 62,
   "id": "77805c54-5580-4fb9-bc51-c34dfd0cb44e",
   "metadata": {},
   "outputs": [
    {
     "data": {
      "text/plain": [
       "month\n",
       "1     12,364,197명\n",
       "2     11,541,178명\n",
       "3     12,678,844명\n",
       "4     12,085,891명\n",
       "5     12,624,972명\n",
       "6     12,521,070명\n",
       "7     13,367,556명\n",
       "8     13,528,007명\n",
       "9     13,252,831명\n",
       "10    12,954,950명\n",
       "11    12,197,967명\n",
       "12    12,656,915명\n",
       "Name: births, dtype: object"
      ]
     },
     "execution_count": 62,
     "metadata": {},
     "output_type": "execute_result"
    }
   ],
   "source": [
    "# 월별 출생수는?\n",
    "births.groupby('month')['births'].sum().map('{:,}명'.format)"
   ]
  },
  {
   "cell_type": "code",
   "execution_count": 63,
   "id": "f934b490-caad-4877-b11c-7abadb1115dd",
   "metadata": {},
   "outputs": [
    {
     "data": {
      "text/html": [
       "<div>\n",
       "<style scoped>\n",
       "    .dataframe tbody tr th:only-of-type {\n",
       "        vertical-align: middle;\n",
       "    }\n",
       "\n",
       "    .dataframe tbody tr th {\n",
       "        vertical-align: top;\n",
       "    }\n",
       "\n",
       "    .dataframe thead th {\n",
       "        text-align: right;\n",
       "    }\n",
       "</style>\n",
       "<table border=\"1\" class=\"dataframe\">\n",
       "  <thead>\n",
       "    <tr style=\"text-align: right;\">\n",
       "      <th></th>\n",
       "      <th>year</th>\n",
       "      <th>month</th>\n",
       "      <th>day</th>\n",
       "      <th>gender</th>\n",
       "      <th>births</th>\n",
       "    </tr>\n",
       "  </thead>\n",
       "  <tbody>\n",
       "    <tr>\n",
       "      <th>0</th>\n",
       "      <td>1969</td>\n",
       "      <td>1</td>\n",
       "      <td>1.00</td>\n",
       "      <td>F</td>\n",
       "      <td>4046</td>\n",
       "    </tr>\n",
       "    <tr>\n",
       "      <th>1</th>\n",
       "      <td>1969</td>\n",
       "      <td>1</td>\n",
       "      <td>1.00</td>\n",
       "      <td>M</td>\n",
       "      <td>4440</td>\n",
       "    </tr>\n",
       "    <tr>\n",
       "      <th>2</th>\n",
       "      <td>1969</td>\n",
       "      <td>1</td>\n",
       "      <td>2.00</td>\n",
       "      <td>F</td>\n",
       "      <td>4454</td>\n",
       "    </tr>\n",
       "    <tr>\n",
       "      <th>3</th>\n",
       "      <td>1969</td>\n",
       "      <td>1</td>\n",
       "      <td>2.00</td>\n",
       "      <td>M</td>\n",
       "      <td>4548</td>\n",
       "    </tr>\n",
       "    <tr>\n",
       "      <th>4</th>\n",
       "      <td>1969</td>\n",
       "      <td>1</td>\n",
       "      <td>3.00</td>\n",
       "      <td>F</td>\n",
       "      <td>4548</td>\n",
       "    </tr>\n",
       "  </tbody>\n",
       "</table>\n",
       "</div>"
      ],
      "text/plain": [
       "   year  month  day gender  births\n",
       "0  1969      1 1.00      F    4046\n",
       "1  1969      1 1.00      M    4440\n",
       "2  1969      1 2.00      F    4454\n",
       "3  1969      1 2.00      M    4548\n",
       "4  1969      1 3.00      F    4548"
      ]
     },
     "execution_count": 63,
     "metadata": {},
     "output_type": "execute_result"
    }
   ],
   "source": [
    "# 1969년의 월별출생수는?\n",
    "search = births.year == 1969\n",
    "b1969 = births[search]\n",
    "b1969.head()"
   ]
  },
  {
   "cell_type": "code",
   "execution_count": 64,
   "id": "99600497-ea77-40fe-9daf-19249ef5b1ce",
   "metadata": {},
   "outputs": [
    {
     "data": {
      "text/plain": [
       "month\n",
       "1     293940\n",
       "2     270786\n",
       "3     296550\n",
       "4     282638\n",
       "5     289124\n",
       "6     291610\n",
       "7     318356\n",
       "8     321034\n",
       "9     312620\n",
       "10    311972\n",
       "11    297054\n",
       "12    314522\n",
       "Name: births, dtype: int64"
      ]
     },
     "execution_count": 64,
     "metadata": {},
     "output_type": "execute_result"
    }
   ],
   "source": [
    "b1969.groupby('month')['births'].sum()"
   ]
  },
  {
   "cell_type": "code",
   "execution_count": 65,
   "id": "3136bb32-33ab-4e8d-82ca-dd59be8e3fb3",
   "metadata": {},
   "outputs": [
    {
     "data": {
      "text/plain": [
       "gender\n",
       "F    74035823\n",
       "M    77738555\n",
       "Name: births, dtype: int64"
      ]
     },
     "execution_count": 65,
     "metadata": {},
     "output_type": "execute_result"
    }
   ],
   "source": [
    "# 성별 출생수는?\n",
    "births.groupby('gender')['births'].sum()"
   ]
  },
  {
   "cell_type": "code",
   "execution_count": 66,
   "id": "0a7e4f24-262f-402c-bf2a-e1dbc0d9f0b4",
   "metadata": {},
   "outputs": [
    {
     "data": {
      "text/plain": [
       "year  gender\n",
       "1969  F         1753634\n",
       "      M         1846572\n",
       "1970  F         1819164\n",
       "      M         1918636\n",
       "1971  F         1736774\n",
       "                 ...   \n",
       "2006  M         2188268\n",
       "2007  F         2111890\n",
       "      M         2212118\n",
       "2008  F         2077929\n",
       "      M         2177227\n",
       "Name: births, Length: 80, dtype: int64"
      ]
     },
     "execution_count": 66,
     "metadata": {},
     "output_type": "execute_result"
    }
   ],
   "source": [
    "# 연도별 성별 출생수?\n",
    "births.groupby(['year','gender'])['births'].sum()"
   ]
  }
 ],
 "metadata": {
  "kernelspec": {
   "display_name": "Python 3 (ipykernel)",
   "language": "python",
   "name": "python3"
  },
  "language_info": {
   "codemirror_mode": {
    "name": "ipython",
    "version": 3
   },
   "file_extension": ".py",
   "mimetype": "text/x-python",
   "name": "python",
   "nbconvert_exporter": "python",
   "pygments_lexer": "ipython3",
   "version": "3.7.10"
  }
 },
 "nbformat": 4,
 "nbformat_minor": 5
}
