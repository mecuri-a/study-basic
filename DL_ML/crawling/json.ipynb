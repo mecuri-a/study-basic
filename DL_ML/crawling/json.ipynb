{
 "cells": [
  {
   "cell_type": "markdown",
   "id": "bded3002-de2b-4955-a3cc-3cfca65b5d7e",
   "metadata": {},
   "source": [
    "## 파이썬으로 JSON 형식 다루기\n",
    "* javascript object notation\n",
    "* 자바스크립트에서 객체를 표현하는 방식을 이용해서 각종 프로그래밍 언어에서 데이터를 표현함\n",
    "* 예전에는 csv, xml로 데이터를 표현했다면 지금은 json으로 거의 대부분 이용해서 표현\n",
    "* NoSQL 데이터베이스 중에서 MongoDB나 neo4j 역시 데이터를 다룰 때에는 json형식을 주로 사용\n",
    "* json은 파이썬의 dict 자료형과 유사\n",
    "    + [{'키':''값}, {...}, {...}]\n",
    "    + {'userid':'abc123', 'apsswd':'987xyz', 'email':'abc123@xyz987.com'}\n",
    "* xml 표기법\n",
    "    + \\<data>\n",
    "        \\<userid>abc123\\</userid> <br>\n",
    "        \\<passwd>987xyz\\</passwd> <br>\n",
    "        \\<email>abc123@xyz987.com\\</email> <br>\n",
    "      \\</data>"
   ]
  },
  {
   "cell_type": "code",
   "execution_count": 1,
   "id": "71bce73c-c7b9-409b-90ea-e8fdabc704d9",
   "metadata": {},
   "outputs": [],
   "source": [
    "# 파이썬에서 json 내장객체 초기화\n",
    "import json"
   ]
  },
  {
   "cell_type": "code",
   "execution_count": 2,
   "id": "148b3cf0-b8c2-4c3a-bccd-c0afbe145466",
   "metadata": {},
   "outputs": [],
   "source": [
    "# JSON 파일을 만들기 위해 사전dict형 객체 생성\n",
    "from collections import OrderedDict"
   ]
  },
  {
   "cell_type": "markdown",
   "id": "c0114e18-b045-427f-8353-9524fd9bb6b4",
   "metadata": {},
   "source": [
    "## JSON 객체 생성 1 - text 이용\n",
    "* python의 dict처럼 정의"
   ]
  },
  {
   "cell_type": "code",
   "execution_count": 3,
   "id": "cb7bd02a-c97c-43cc-9b74-1fc1f1f421b6",
   "metadata": {},
   "outputs": [
    {
     "name": "stdout",
     "output_type": "stream",
     "text": [
      "{'userid': 'abc123', 'apsswd': '987xyz', 'email': 'abc123@xyz987.com'}\n"
     ]
    }
   ],
   "source": [
    "member = {'userid':'abc123', 'apsswd':'987xyz', 'email':'abc123@xyz987.com'}\n",
    "print(member)"
   ]
  },
  {
   "cell_type": "code",
   "execution_count": 4,
   "id": "e7c36e9b-9ab7-48e7-abf9-a0fc4fab392d",
   "metadata": {},
   "outputs": [
    {
     "name": "stdout",
     "output_type": "stream",
     "text": [
      "{\"userid\": \"abc123\", \"apsswd\": \"987xyz\", \"email\": \"abc123@xyz987.com\"}\n"
     ]
    }
   ],
   "source": [
    "# dumps 함수를 이용해서 파이썬에서 만든 dict객체를 json객체로 만들 수 있음\n",
    "obj = json.dumps(member)\n",
    "print(obj)"
   ]
  },
  {
   "cell_type": "code",
   "execution_count": 5,
   "id": "8f4a75d7-6b0f-424f-88bf-550beb5fc735",
   "metadata": {},
   "outputs": [
    {
     "name": "stdout",
     "output_type": "stream",
     "text": [
      "{\n",
      " \"userid\": \"abc123\",\n",
      " \"apsswd\": \"987xyz\",\n",
      " \"email\": \"abc123@xyz987.com\"\n",
      "}\n"
     ]
    }
   ],
   "source": [
    "# indent 속성을 이용하면 json객체를 보기좋게 출력\n",
    "obj = json.dumps(member, indent=True)\n",
    "print(obj)"
   ]
  },
  {
   "cell_type": "code",
   "execution_count": 6,
   "id": "43c2d058-d87a-439c-8424-dc7589db80d3",
   "metadata": {},
   "outputs": [
    {
     "name": "stdout",
     "output_type": "stream",
     "text": [
      "{'name': '홍길동', 'phone': '123-4567-8910', 'friends': ['혜교', '지현', '수지'], 'schools': {'mid': '서울중학교', 'high': '서울고등학교'}}\n"
     ]
    }
   ],
   "source": [
    "# 이름, 전화번호를 person이라는 json 객체로 생성\n",
    "# 속성값이 여러개 존재할 경우 리스트로 정의\n",
    "# 객체가 여러개 존재할 경우 dict로 정의\n",
    "person = {'name':'홍길동', 'phone':'123-4567-8910',\n",
    "          'friends':['혜교','지현','수지'],\n",
    "          'schools':{'mid':'서울중학교','high':'서울고등학교'}}\n",
    "print(person)"
   ]
  },
  {
   "cell_type": "code",
   "execution_count": 7,
   "id": "8d00c982-a76e-4865-a4a0-e91e3f931369",
   "metadata": {},
   "outputs": [
    {
     "name": "stdout",
     "output_type": "stream",
     "text": [
      "{\n",
      " \"name\": \"홍길동\",\n",
      " \"phone\": \"123-4567-8910\",\n",
      " \"friends\": [\n",
      "  \"혜교\",\n",
      "  \"지현\",\n",
      "  \"수지\"\n",
      " ],\n",
      " \"schools\": {\n",
      "  \"mid\": \"서울중학교\",\n",
      "  \"high\": \"서울고등학교\"\n",
      " }\n",
      "}\n"
     ]
    }
   ],
   "source": [
    "# dumps 함수는 텍스트를 강제로 ascii인코딩을 하기때문에\n",
    "# 한글의 경우 제대로 출력되지 않음\n",
    "# 따라서, 강제 ascii 인코딩을 중지해야만 제대로 출력됨\n",
    "obj = json.dumps(person, indent=True, ensure_ascii=False)\n",
    "print(obj)"
   ]
  },
  {
   "cell_type": "markdown",
   "id": "56778151-efee-4cb9-9bca-9c7197bf9b5a",
   "metadata": {},
   "source": [
    "## JSON 객체 생성 2 - OrderedDict 이용\n",
    "* python의 dict를 이용하는 것보다 효율적임"
   ]
  },
  {
   "cell_type": "code",
   "execution_count": 8,
   "id": "af6bc1fb-5ac5-45f3-ba21-da0a1a50a941",
   "metadata": {},
   "outputs": [
    {
     "name": "stdout",
     "output_type": "stream",
     "text": [
      "OrderedDict([('name', '홍길동'), ('phone', '123-4567-8910'), ('friends', ['혜교', '지현', '수지'])])\n"
     ]
    }
   ],
   "source": [
    "person2 = OrderedDict()\n",
    "person2['name'] = '홍길동'\n",
    "person2['phone'] = '123-4567-8910'\n",
    "person2['friends'] = ['혜교','지현','수지']\n",
    "print(person2)"
   ]
  },
  {
   "cell_type": "code",
   "execution_count": 9,
   "id": "c86a126d-fef2-4d85-8376-80843de72b0b",
   "metadata": {},
   "outputs": [],
   "source": [
    "schools = OrderedDict()\n",
    "schools['mid'] = '서울중학교'\n",
    "schools['high'] = '서울고등학교'\n",
    "person2['school2'] = schools"
   ]
  },
  {
   "cell_type": "code",
   "execution_count": 10,
   "id": "0ad6db57-6e88-4887-b0d7-13d73fc1871b",
   "metadata": {},
   "outputs": [
    {
     "name": "stdout",
     "output_type": "stream",
     "text": [
      "{\n",
      " \"name\": \"홍길동\",\n",
      " \"phone\": \"123-4567-8910\",\n",
      " \"friends\": [\n",
      "  \"혜교\",\n",
      "  \"지현\",\n",
      "  \"수지\"\n",
      " ],\n",
      " \"school2\": {\n",
      "  \"mid\": \"서울중학교\",\n",
      "  \"high\": \"서울고등학교\"\n",
      " }\n",
      "}\n"
     ]
    }
   ],
   "source": [
    "obj = json.dumps(person2, indent=True, ensure_ascii=False)\n",
    "print(obj)"
   ]
  },
  {
   "cell_type": "code",
   "execution_count": 11,
   "id": "06fe26c7-edfb-4515-8e6d-1d6e444b421f",
   "metadata": {},
   "outputs": [],
   "source": [
    "# 메모리에 생성된 json객체를 파일로 저장\n",
    "# dump(json객체, 파일객체, 옵션)\n",
    "with open('json/person.json', 'w', encoding='utf-8') as f:\n",
    "    json.dump(person, f, ensure_ascii=False)"
   ]
  },
  {
   "cell_type": "code",
   "execution_count": 12,
   "id": "9bfc231d-ce7c-4484-936b-ad686577fb82",
   "metadata": {},
   "outputs": [
    {
     "name": "stdout",
     "output_type": "stream",
     "text": [
      "{'name': '홍길동', 'phone': '123-4567-8910', 'friends': ['혜교', '지현', '수지'], 'schools': {'mid': '서울중학교', 'high': '서울고등학교'}}\n"
     ]
    }
   ],
   "source": [
    "# 파일에 생성된 json 객체를 메모리로 불러옴\n",
    "# load(파일객체)\n",
    "with open('json/person.json', encoding='utf-8') as f:\n",
    "    person_data = json.load(f)\n",
    "\n",
    "print(person_data)"
   ]
  }
 ],
 "metadata": {
  "kernelspec": {
   "display_name": "Python 3 (ipykernel)",
   "language": "python",
   "name": "python3"
  },
  "language_info": {
   "codemirror_mode": {
    "name": "ipython",
    "version": 3
   },
   "file_extension": ".py",
   "mimetype": "text/x-python",
   "name": "python",
   "nbconvert_exporter": "python",
   "pygments_lexer": "ipython3",
   "version": "3.7.10"
  }
 },
 "nbformat": 4,
 "nbformat_minor": 5
}
