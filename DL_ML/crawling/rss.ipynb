{
 "cells": [
  {
   "cell_type": "markdown",
   "id": "b0c8f95b-9ed2-484f-a960-4dfd3592bb13",
   "metadata": {
    "tags": []
   },
   "source": [
    "### 기상청 날씨 데이터 수집하기\n",
    "* 기상청 날씨누리 -> 페이지 맨 하단 -> RSS\n",
    "\n",
    "\n",
    "### RSS : rich site summary\n",
    "* 사이트를 구독subscribe한 사용자에게 업데이트된\n",
    "* 컨덴츠를 간편하게 배포하고자 만든 데이터 형식\n",
    "\n",
    "\n",
    "### RSS 구독 프로그램을 이용하면\n",
    "* 사이트를 방문하지 않고도 해당 사이트의\n",
    "* 컨텐츠를 이용할 수 있다는 장점 존재"
   ]
  },
  {
   "cell_type": "code",
   "execution_count": 1,
   "id": "d50c9096-6d40-4255-8295-9224aba2bbb8",
   "metadata": {},
   "outputs": [],
   "source": [
    "import requests\n",
    "from xml.etree import ElementTree"
   ]
  },
  {
   "cell_type": "code",
   "execution_count": 2,
   "id": "caf2489a-1102-427f-a67b-a74ec6bb80a6",
   "metadata": {},
   "outputs": [],
   "source": [
    "# RSS 서비스에서 자신이 거주하는 지역의 동네예보 RSS 링크 생성\n",
    "\n",
    "url = 'http://www.kma.go.kr/wid/queryDFSRSS.jsp?zone=1159053000'\n",
    "headers = {'User-Agent': 'Mozilla/5.0 (Windows NT 10.0; Win64; x64) AppleWebKit/537.36 (KHTML, like Gecko) Chrome/94.0.4606.81 Safari/537.36 Edg/94.0.992.50'}\n",
    "res = requests.get(url, headers=headers)\n",
    "rss = res.text\n",
    "rss[:350]\n",
    "\n",
    "\n",
    "# 서버로 부터 읽어온 rss 데이터를 파일에 저장\n",
    "with open('weather.xml', 'w') as f:\n",
    "        f.write(rss)\n",
    "\n",
    "\n",
    "# 파일의 내용을 읽어서 메모리에 계층구조 생성\n",
    "tree = ElementTree.parse('weather.xml')\n",
    "\n",
    "# getroot 메서드로 xml 상위요소 추출\n",
    "root = tree.getroot()\n",
    "\n",
    "# findall 메서드로 추출할 데이터가 있는\n",
    "# 요소element를 지정함"
   ]
  },
  {
   "cell_type": "code",
   "execution_count": 3,
   "id": "af92ed72-226a-4879-9ae5-1123704509e7",
   "metadata": {},
   "outputs": [
    {
     "name": "stdout",
     "output_type": "stream",
     "text": [
      "12 16.0 맑음\n",
      "\n",
      "15 17.0 맑음\n",
      "\n",
      "18 15.0 맑음\n",
      "\n",
      "21 12.0 맑음\n",
      "\n",
      "24 11.0 맑음\n",
      "\n",
      "3 10.0 맑음\n",
      "\n",
      "6 9.0 맑음\n",
      "\n",
      "9 12.0 구름 많음\n",
      "\n",
      "12 17.0 구름 많음\n",
      "\n",
      "15 18.0 구름 많음\n",
      "\n",
      "18 15.0 구름 많음\n",
      "\n",
      "21 14.0 구름 많음\n",
      "\n",
      "24 13.0 흐림\n",
      "\n",
      "3 13.0 흐림\n",
      "\n",
      "6 12.0 비\n",
      "\n",
      "9 13.0 맑음\n",
      "\n",
      "12 16.0 맑음\n",
      "\n",
      "15 18.0 맑음\n",
      "\n",
      "18 14.0 맑음\n",
      "\n",
      "21 12.0 맑음\n",
      "\n",
      "24 10.0 맑음\n",
      "\n"
     ]
    }
   ],
   "source": [
    "for w in root.findall('channel/item/description/body/data'):\n",
    "        hour = w.find('hour').text\n",
    "        temp = w.find('temp').text\n",
    "        wter = w.find('wfKor').text\n",
    "        print(f'{hour} {temp} {wter}\\n')"
   ]
  }  
 ],
 "metadata": {
  "kernelspec": {
   "display_name": "Python 3 (ipykernel)",
   "language": "python",
   "name": "python3"
  },
  "language_info": {
   "codemirror_mode": {
    "name": "ipython",
    "version": 3
   },
   "file_extension": ".py",
   "mimetype": "text/x-python",
   "name": "python",
   "nbconvert_exporter": "python",
   "pygments_lexer": "ipython3",
   "version": "3.7.10"
  }
 },
 "nbformat": 4,
 "nbformat_minor": 5
}
