{
 "cells": [
  {
   "cell_type": "markdown",
   "id": "7af21816-c413-487d-b427-44c595c723e3",
   "metadata": {},
   "source": [
    "### selenium\n",
    "* selenium.dev\n",
    "* 웹브라우져를 이용한 작업들을 자동화할 수 있도록 특수 제작된 브라우저\n",
    "* requests, bs4로 스크래핑할 수 없는 동적 데이터를 포함하는 웹페이지를 원격조작이 가능한 웹브라우져를 이용해서 처리"
   ]
  },
  {
   "cell_type": "markdown",
   "id": "2548d5ce-9c8b-4c29-940b-a3218aa24bf6",
   "metadata": {
    "tags": []
   },
   "source": [
    "### Centos7 google-chrome 설치\n",
    "* yum install -y https://dl.google.com/linux/chrome/rpm/stable/x86_64/google-chrome-stable-92.0.4515.107-1.x86_64.rpm\n",
    "* yum install -y https://dl.google.com/linux/chrome/rpm/stable/x86_64/google-chrome-stable-94.0.4606.61-1.x86_64.rpm\n",
    "\n",
    "* wget https://chromedriver.storage.googleapis.com/94.0.4606.61/chromedriver_linux64.zip\n",
    "* unzip chromedriver_linux64.zip\n",
    "* mv chromedriver /home/hadoop\n",
    "* chown hadoop:hadoop /home/hadoop/chromedriver      # 안해도 되는 것 같음"
   ]
  },
  {
   "cell_type": "code",
   "execution_count": 1,
   "id": "3fc7dd09-1d1a-47ab-8413-b84f7fe6b114",
   "metadata": {},
   "outputs": [],
   "source": [
    "# pip install selenium\n",
    "# pip install beautifulsoup4\n",
    "import time\n",
    "from selenium import webdriver\n",
    "from bs4 import BeautifulSoup\n",
    "from selenium.webdriver.chrome.options import Options\n",
    "from selenium.webdriver.common.by import By"
   ]
  },
  {
   "cell_type": "code",
   "execution_count": 2,
   "id": "0e70a027-06e4-49be-982b-a121c047ba53",
   "metadata": {
    "tags": []
   },
   "outputs": [],
   "source": [
    "# 다음 영화 사이트에서 영화제목, 평점, 예매율 추출하기\n",
    "url = 'https://movie.daum.net/main'\n",
    "\n",
    "# headless를 위한 설정\n",
    "options = Options()\n",
    "options.add_argument('--headless')"
   ]
  },
  {
   "cell_type": "code",
   "execution_count": 8,
   "id": "c4cffc04-01c9-4043-abd1-54a2bdce998b",
   "metadata": {},
   "outputs": [
    {
     "name": "stderr",
     "output_type": "stream",
     "text": [
      "/opt/miniconda3/lib/python3.7/site-packages/ipykernel_launcher.py:2: DeprecationWarning: executable_path has been deprecated, please pass in a Service object\n",
      "  \n"
     ]
    }
   ],
   "source": [
    "path = '/home/hadoop/chrome/chromedriver' # 위치확인\n",
    "chrome = webdriver.Chrome(executable_path=path, options=options)"
   ]
  },
  {
   "cell_type": "code",
   "execution_count": 4,
   "id": "5b814fa0-9f92-4368-8b9a-820f610ec144",
   "metadata": {},
   "outputs": [],
   "source": [
    "# 지정한 url로 접속\n",
    "chrome.get(url)\n",
    "\n",
    "# 응답받은 소스 출력\n",
    "# print(chrome.page_source)\n",
    "res = chrome.page_source\n",
    "\n",
    "# 크롬 종료\n",
    "chrome.close()\n",
    "\n",
    "# 읽어들인 페이지소스를 BeautifulSoup으로 파싱\n",
    "html = BeautifulSoup(res, 'lxml')"
   ]
  },
  {
   "cell_type": "code",
   "execution_count": 5,
   "id": "6679dcde-98b4-4a38-b0ee-5b4ebb19613a",
   "metadata": {},
   "outputs": [
    {
     "name": "stdout",
     "output_type": "stream",
     "text": [
      "이터널스\n",
      "듄\n",
      "베놈 2: 렛 데어 비 카니지\n",
      "고장난 론\n",
      "당신은 믿지 않겠지만\n",
      "라스트 듀얼: 최후의 결투\n",
      "아네트\n",
      "007 노 타임 투 다이\n",
      "한창나이 선녀님\n",
      "첫눈이 사라졌다\n",
      "타다: 대한민국 스타트업의 초상\n",
      "보이스\n",
      "노회찬6411\n",
      "수색자\n",
      "색다른 그녀\n",
      "발신제한\n",
      "무수단\n",
      "세자매\n",
      "내일의 기억\n",
      "파이프라인\n",
      "샤크 : 더 비기닝\n",
      "명탐정 코난 : 베이커가의 망령\n",
      "뺑반\n",
      "명탐정 코난 : 화염의 해바라기\n",
      "추억의 검정고무신\n",
      "극장판 짱구는 못말려: 격돌! 낙서왕국과 얼추 네 명의 용사들\n",
      "모가디슈\n",
      "애프터: 그 후\n",
      "조제, 호랑이 그리고 물고기들\n",
      "베놈\n",
      "졸트\n",
      "애프터\n",
      "극장판 귀멸의 칼날: 무한열차편\n",
      "싱크홀\n",
      "인질\n"
     ]
    }
   ],
   "source": [
    "# 영화제목 추출\n",
    "for title in html.select('strong.tit_item a'):\n",
    "    print(title.text)"
   ]
  },
  {
   "cell_type": "code",
   "execution_count": 6,
   "id": "ab8c1752-82d9-4967-a533-7d3d4f692cc5",
   "metadata": {},
   "outputs": [
    {
     "name": "stdout",
     "output_type": "stream",
     "text": [
      "8.7\n",
      "7.0\n",
      "6.0\n",
      "10.0\n",
      "7.8\n",
      "8.8\n",
      "10.0\n",
      "5.9\n",
      "10.0\n",
      "7.3\n",
      "9.7\n",
      "8.4\n",
      "8.9\n",
      "7.2\n",
      "4.0\n"
     ]
    }
   ],
   "source": [
    "# 영화평점 출력\n",
    "for rate in html.select('span.txt_append span:first-child'):\n",
    "    print(rate.text)"
   ]
  },
  {
   "cell_type": "code",
   "execution_count": 7,
   "id": "f3959cab-8d6a-4506-bbe2-a7f4e6fcadcc",
   "metadata": {},
   "outputs": [
    {
     "name": "stdout",
     "output_type": "stream",
     "text": [
      "40.2%\n",
      "22.5%\n",
      "9.8%\n",
      "6.1%\n",
      "1.8%\n",
      "1.4%\n",
      "1.3%\n",
      "0.8%\n",
      "0.8%\n",
      "0.7%\n",
      "0.5%\n",
      "0.4%\n",
      "0.4%\n",
      "0.4%\n",
      "0.4%\n"
     ]
    }
   ],
   "source": [
    "# 영화예매율 출력\n",
    "for resrv in html.select('span.txt_append span:last-child'):\n",
    "    print(resrv.text)"
   ]
  }
 ],
 "metadata": {
  "kernelspec": {
   "display_name": "Python 3 (ipykernel)",
   "language": "python",
   "name": "python3"
  },
  "language_info": {
   "codemirror_mode": {
    "name": "ipython",
    "version": 3
   },
   "file_extension": ".py",
   "mimetype": "text/x-python",
   "name": "python",
   "nbconvert_exporter": "python",
   "pygments_lexer": "ipython3",
   "version": "3.7.10"
  }
 },
 "nbformat": 4,
 "nbformat_minor": 5
}
