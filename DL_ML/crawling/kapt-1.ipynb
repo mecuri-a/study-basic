{
 "cells": [
  {
   "cell_type": "markdown",
   "id": "fe2398bd-8046-48fb-b7d4-6e7bc62f7517",
   "metadata": {},
   "source": [
    "### k-apt.go.kr\n",
    "+ 2021-10, 서울, 강남구 논현동 소재 모든 아파트 이름, 주소, 주차장 대수 추출하기"
   ]
  },
  {
   "cell_type": "code",
   "execution_count": 1,
   "id": "fa3959ac-1d56-48dd-a8aa-ff655c8e9cca",
   "metadata": {},
   "outputs": [],
   "source": [
    "import time\n",
    "from selenium import webdriver\n",
    "from bs4 import BeautifulSoup\n",
    "from selenium.webdriver.chrome.options import Options\n",
    "from selenium.webdriver.common.by import By"
   ]
  },
  {
   "cell_type": "code",
   "execution_count": 2,
   "id": "046a7dce-d4d8-470f-98e3-33d45e465734",
   "metadata": {},
   "outputs": [
    {
     "name": "stderr",
     "output_type": "stream",
     "text": [
      "/opt/miniconda3/lib/python3.7/site-packages/ipykernel_launcher.py:9: DeprecationWarning: executable_path has been deprecated, please pass in a Service object\n",
      "  if __name__ == '__main__':\n"
     ]
    }
   ],
   "source": [
    "url = 'http://k-apt.go.kr/kaptinfo/openkaptinfo.do'\n",
    "\n",
    "# headless를 위한 설정\n",
    "options = Options()\n",
    "options.add_argument('--headless')\n",
    "# webdriver 실행\n",
    "path = '/home/hadoop/chrome/chromedriver'   # 위치확인\n",
    "# chrome = webdriver.Chrome(executable_path=path)\n",
    "chrome = webdriver.Chrome(executable_path=path, options=options)"
   ]
  },
  {
   "cell_type": "code",
   "execution_count": 3,
   "id": "7cc219db-e8a4-4168-b62b-12e9b2149074",
   "metadata": {},
   "outputs": [],
   "source": [
    "# 소스 읽어 오기\n",
    "chrome.get(url)\n",
    "chrome.implicitly_wait(2)\n",
    "time.sleep(2)"
   ]
  },
  {
   "cell_type": "code",
   "execution_count": 4,
   "id": "d2e50418-7fa6-404d-834e-4fd8ecd5af9f",
   "metadata": {},
   "outputs": [],
   "source": [
    "# 검색할 단지정보 선택 - 2021-10, 서울, 강남구 논현동\n",
    "year = '2021'\n",
    "month = '10'\n",
    "sido = '서울특별시'\n",
    "gugun = '강남구'\n",
    "dong = '논현동'"
   ]
  },
  {
   "cell_type": "code",
   "execution_count": 5,
   "id": "93d8577a-8b2e-4610-bfcb-43a3fbf35a5c",
   "metadata": {},
   "outputs": [],
   "source": [
    "chrome.find_element(By.XPATH,f'//*[@title=\"년도 선택\"]/option[text()=\"{year}\"]').click()\n",
    "time.sleep(1)\n",
    "\n",
    "chrome.find_element(By.XPATH,f'//*[@title=\"월 선택\"]/option[text()=\"{month}\"]').click()\n",
    "time.sleep(1)\n",
    "\n",
    "chrome.find_element(By.XPATH,f'//*[@title=\"광역시도 선택\"]/option[text()=\"{sido}\"]').click()\n",
    "time.sleep(1)\n",
    "\n",
    "chrome.find_element(By.XPATH,f'//*[@title=\"시군구 선택\"]/option[text()=\"{gugun}\"]').click()\n",
    "time.sleep(1)\n",
    "\n",
    "chrome.find_element(By.XPATH,f'//*[@title=\"읍면동 선택\"]/option[text()=\"{dong}\"]').click()\n",
    "time.sleep(1)"
   ]
  },
  {
   "cell_type": "code",
   "execution_count": 6,
   "id": "4c4a92c2-ce47-4c23-857b-e49461e61cb8",
   "metadata": {},
   "outputs": [
    {
     "name": "stdout",
     "output_type": "stream",
     "text": [
      "8\n"
     ]
    }
   ],
   "source": [
    "# news.jtbc.joins.com\n",
    "# 동내 모든 아파트에 대한 법정동 주소 출력하기\n",
    "\n",
    "# 동내 모든 아파트수 출력\n",
    "cnt = chrome.find_element(By.CSS_SELECTOR,'table[id=\"aptInfoList\"] tr:last-child').get_attribute('id')\n",
    "print(cnt)                                                                      "
   ]
  },
  {
   "cell_type": "code",
   "execution_count": 7,
   "id": "c77f532c-0efd-45a9-9b24-12792a815606",
   "metadata": {},
   "outputs": [
    {
     "data": {
      "text/plain": [
       "'논현 기린힐스'"
      ]
     },
     "execution_count": 7,
     "metadata": {},
     "output_type": "execute_result"
    }
   ],
   "source": [
    "# 아파트 명칭 출력1\n",
    "chrome.find_element(By.XPATH,'//tr[@id=\"1\"]/td[2]').text"
   ]
  },
  {
   "cell_type": "code",
   "execution_count": 8,
   "id": "2d822e0a-69b3-4f19-9519-4739f984250d",
   "metadata": {},
   "outputs": [
    {
     "name": "stdout",
     "output_type": "stream",
     "text": [
      "논현 기린힐스\n",
      "논현동부센트레빌\n",
      "논현동현\n",
      "논현신동아\n",
      "동양파라곤\n",
      "동화히스토리\n",
      "마일스디오빌\n",
      "아크로힐스논현\n"
     ]
    }
   ],
   "source": [
    "# 아파트 명칭 출력2\n",
    "\n",
    "for i in range(1, int(cnt)+1):\n",
    "    apt = chrome.find_element(By.XPATH,f'//tr[@id=\"{i}\"]/td[2]').text\n",
    "    print(apt)"
   ]
  },
  {
   "cell_type": "code",
   "execution_count": 9,
   "id": "dfccc1e7-8cb1-485f-846f-1aeefc5c33d9",
   "metadata": {},
   "outputs": [
    {
     "name": "stdout",
     "output_type": "stream",
     "text": [
      "논현 기린힐스(A10024501) 서울특별시 강남구 논현로 661\n",
      "지상: 0 / 지하: 176(총:176대)\n",
      "논현동부센트레빌(A13583301) 서울특별시 강남구 언주로116길 6\n",
      "지상: 13 / 지하: 226(총:239대)\n",
      "논현동현(A13582002) 서울특별시 강남구 언주로146길 18\n",
      "지상: 580 / 지하: 0(총:580대)\n",
      "논현신동아(A13501004) 서울특별시 강남구 강남대로146길 28\n",
      "지상: 226 / 지하: 458(총:684대)\n",
      "동양파라곤(A13501001) 서울특별시 강남구 언주로130길 30\n",
      "지상: 0 / 지하: 572(총:572대)\n",
      "동화히스토리(A13572601) 서울특별시 강남구 학동로4길 15\n",
      "지상: 0 / 지하: 189(총:189대)\n",
      "마일스디오빌(A13501002) 서울특별시 강남구 학동로 165\n",
      "지상: 16 / 지하: 184(총:200대)\n",
      "아크로힐스논현(A13501006) 서울특별시 강남구 언주로 604\n",
      "지상: 0 / 지하: 645(총:645대)\n"
     ]
    }
   ],
   "source": [
    "# 자동으로 아파트 명칭/주소/주차대수 출력\n",
    "for i in range(1, int(cnt)+1):\n",
    "    # 아파트 명칭을 클릭해서 종합정보로 이동\n",
    "    chrome.find_element(By.XPATH,f'//tr[@id=\"{i}\"]').click()\n",
    "    time.sleep(1)\n",
    "    \n",
    "    # 종합정보 -> 기본정보로 이동\n",
    "    chrome.find_element(By.XPATH,'//img[@alt=\"기본정보\"]').click()\n",
    "    time.sleep(1)\n",
    "    \n",
    "    # 명칭/주소/주차대수 가져오기\n",
    "    # 아파트 명칭/주소 출력\n",
    "    aptname = chrome.find_element(By.XPATH,'//td[@id=\"kapt_name\"]').text\n",
    "    aptaddr = chrome.find_element(By.XPATH,'//td[@id=\"road_name\"]').text\n",
    "    print(aptname, aptaddr)\n",
    "    time.sleep(1)\n",
    "    \n",
    "    # 기본정보 -> 관리시설로 이동\n",
    "    chrome.find_element(By.XPATH,'//img[@alt=\"관리시설정보\"]').click()\n",
    "    time.sleep(1)\n",
    "    \n",
    "    # 주자청보 출력\n",
    "    park = chrome.find_element(By.XPATH,'//td[@id=\"parking_cnt\"]').text\n",
    "    print(park)\n",
    "    time.sleep(1)\n",
    "    \n",
    "    # 단지검색 메뉴 클릭\n",
    "    chrome.find_element(By.XPATH,'//img[@alt=\"단지검색\"]').click()\n",
    "    time.sleep(1)\n",
    "    \n",
    "# 작업종료\n",
    "chrome.close()"
   ]
  }
 ],
 "metadata": {
  "kernelspec": {
   "display_name": "Python 3 (ipykernel)",
   "language": "python",
   "name": "python3"
  },
  "language_info": {
   "codemirror_mode": {
    "name": "ipython",
    "version": 3
   },
   "file_extension": ".py",
   "mimetype": "text/x-python",
   "name": "python",
   "nbconvert_exporter": "python",
   "pygments_lexer": "ipython3",
   "version": "3.7.10"
  }
 },
 "nbformat": 4,
 "nbformat_minor": 5
}
