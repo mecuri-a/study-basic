{
 "cells": [
  {
   "cell_type": "code",
   "execution_count": 1,
   "id": "89a63547-fb20-49b5-96e5-8e46a4681e94",
   "metadata": {},
   "outputs": [],
   "source": [
    "import time\n",
    "from selenium import webdriver\n",
    "from bs4 import BeautifulSoup\n",
    "from selenium.webdriver.chrome.options import Options\n",
    "from selenium.webdriver.common.by import By"
   ]
  },
  {
   "cell_type": "code",
   "execution_count": 2,
   "id": "175ce9a1-cf8b-4ff0-9888-3710f8a42fb1",
   "metadata": {},
   "outputs": [],
   "source": [
    "url = 'http://k-apt.go.kr'\n",
    "\n",
    "# headless를 위한 설정\n",
    "options = Options()\n",
    "options.add_argument('--headless')"
   ]
  },
  {
   "cell_type": "code",
   "execution_count": 3,
   "id": "c39b24b7-d97d-4a1a-8678-5fbe45b28784",
   "metadata": {},
   "outputs": [
    {
     "name": "stderr",
     "output_type": "stream",
     "text": [
      "/opt/miniconda3/lib/python3.7/site-packages/ipykernel_launcher.py:4: DeprecationWarning: executable_path has been deprecated, please pass in a Service object\n",
      "  after removing the cwd from sys.path.\n"
     ]
    }
   ],
   "source": [
    "# webdriver 실행\n",
    "path = '/home/hadoop/chrome/chromedriver'  # 위치확인\n",
    "# chrome = webdriver.Chrome(executable_path=path)\n",
    "chrome = webdriver.Chrome(executable_path=path, options=options)"
   ]
  },
  {
   "cell_type": "code",
   "execution_count": 4,
   "id": "767ecd67-72a3-4406-88f2-58f41756618c",
   "metadata": {},
   "outputs": [],
   "source": [
    "chrome.get(url)\n",
    "# 소스가 다 로딩될때까지 2초정도 대기\n",
    "chrome.implicitly_wait(2)\n",
    "time.sleep(2)  # 작업을 의도적으로 지연 (2초동안)"
   ]
  },
  {
   "cell_type": "code",
   "execution_count": 5,
   "id": "5a8ef854-8f46-4c10-8b62-510eb65a1087",
   "metadata": {},
   "outputs": [],
   "source": [
    "# 팝업창 닫기 1\n",
    "# 순서 : 아이디, 클래스, 소속\n",
    "# css 선택자를 이용한 방법\n",
    "\n",
    "# chrome.find_element_by_css_selector('#popup_20210518 div.layerPopupTitle div a').click()\n",
    "# time.sleep(1)\n",
    "\n",
    "# chrome.find_element_by_css_selector('#popup_20200720_02 div.layerPopupTitle div a').click()\n",
    "# time.sleep(1)"
   ]
  },
  {
   "cell_type": "code",
   "execution_count": 6,
   "id": "c76b2fe2-c2f6-48b7-9a4d-deb9a8b071f6",
   "metadata": {},
   "outputs": [],
   "source": [
    "# 팝업창 닫기 2\n",
    "# 자바스크립트 호출\n",
    "# execute_script(함수명)\n",
    "\n",
    "#chrome.execute_script('closeLyserPopup(\"popup_20200720_02\")')\n",
    "#time.sleep(1)\n",
    "\n",
    "#chrome.execute_script('closeLyserPopup(\"popup_20210518\")')\n",
    "#time.sleep(1)"
   ]
  },
  {
   "cell_type": "code",
   "execution_count": 7,
   "id": "f56805fe-d8fe-4c1e-86ef-92689c92a97c",
   "metadata": {},
   "outputs": [
    {
     "name": "stderr",
     "output_type": "stream",
     "text": [
      "/opt/miniconda3/lib/python3.7/site-packages/ipykernel_launcher.py:3: DeprecationWarning: find_elements_by_* commands are deprecated. Please use find_elements() instead\n",
      "  This is separate from the ipykernel package so we can avoid doing imports until\n"
     ]
    }
   ],
   "source": [
    "# 팝업창 닫기 2-2\n",
    "\n",
    "pops = chrome.find_elements_by_css_selector('div.layerPopup')\n",
    "for pop in pops:\n",
    "    id = pop.get_attribute('id')\n",
    "    js = f'closeLyserPopup(\"{id}\")'\n",
    "    chrome.execute_script(js)\n",
    "time.sleep(1)"
   ]
  },
  {
   "cell_type": "code",
   "execution_count": 8,
   "id": "f95f81f8-6bd7-412c-b203-9a140fe27140",
   "metadata": {},
   "outputs": [],
   "source": [
    "# 단지정보\n",
    "\n",
    "btn = chrome.find_element(By.CSS_SELECTOR, '#lnbMenu > li:nth-child(2) > a')\n",
    "btn.click()\n",
    "time.sleep(1)"
   ]
  },
  {
   "cell_type": "code",
   "execution_count": 9,
   "id": "4f737cba-6b28-4b99-84f0-36f4f9bf12ef",
   "metadata": {},
   "outputs": [],
   "source": [
    "# 검색할 단지정보\n",
    "# 값을 선택할 때는 css 선택자로 한계가 있음\n",
    "# 검사 > 해당 문장 우클릭 > 카피 > css 카피\n",
    "#group_date > select.combo_YYYY > option:nth-child(11)\n",
    "# xpath 의 //* : 전체\n",
    "# //*[@id=\"group_date\"]/select[1]/option[11]\n",
    "\n",
    "chrome.find_element(By.XPATH,'//*[@title=\"년도 선택\"]/option[text()=\"2021\"]').click()\n",
    "time.sleep(1)\n",
    "\n",
    "chrome.find_element(By.XPATH,'//*[@title=\"월 선택\"]/option[text()=\"10\"]').click()\n",
    "time.sleep(1)\n",
    "\n",
    "chrome.find_element(By.XPATH,'//*[@title=\"광역시도 선택\"]/option[text()=\"서울특별시\"]').click()\n",
    "time.sleep(1)\n",
    "\n",
    "chrome.find_element(By.XPATH,'//*[@title=\"시군구 선택\"]/option[text()=\"구로구\"]').click()\n",
    "time.sleep(1)\n",
    "\n",
    "chrome.find_element(By.XPATH,'//*[@title=\"읍면동 선택\"]/option[text()=\"구로동\"]').click()\n",
    "time.sleep(1)\n",
    "\n",
    "chrome.find_element(By.XPATH,'//*[@title=\"LG신도림자이\"]').click()\n",
    "time.sleep(1)\n",
    "\n",
    "chrome.find_element(By.XPATH,'//*[@id=\"ui-id-4\"]').click()\n",
    "time.sleep(1)"
   ]
  },
  {
   "cell_type": "code",
   "execution_count": 10,
   "id": "99ebfa6b-a4de-4d62-ab87-f4c958a021b8",
   "metadata": {},
   "outputs": [
    {
     "name": "stdout",
     "output_type": "stream",
     "text": [
      "지상: 42 / 지하: 300(총:342대)\n"
     ]
    }
   ],
   "source": [
    "# chrome.find_element(By.XPATH,'//*[@alt=\"관리시설정보\"]').click()\n",
    "# time.sleep(1)\n",
    "\n",
    "park = chrome.find_element(By.XPATH,'//*[@id=\"parking_cnt\"]').text\n",
    "print(park)\n",
    "time.sleep(1)\n",
    "chrome.close()"
   ]
  }
 ],
 "metadata": {
  "kernelspec": {
   "display_name": "Python 3 (ipykernel)",
   "language": "python",
   "name": "python3"
  },
  "language_info": {
   "codemirror_mode": {
    "name": "ipython",
    "version": 3
   },
   "file_extension": ".py",
   "mimetype": "text/x-python",
   "name": "python",
   "nbconvert_exporter": "python",
   "pygments_lexer": "ipython3",
   "version": "3.7.10"
  }
 },
 "nbformat": 4,
 "nbformat_minor": 5
}
