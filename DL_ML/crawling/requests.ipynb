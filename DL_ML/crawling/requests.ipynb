{
 "cells": [
  {
   "cell_type": "markdown",
   "id": "036b8533-3972-410f-aa8f-8c3ddf5b88b8",
   "metadata": {},
   "source": [
    "### 크롤링 crawling\n",
    "+ 웹 상에 존재하는 다양한 컨텐츠를 수집하는 행위\n",
    "+ html 문서를 통채로 읽어서 내용을 분석한 뒤 필요한 데이터만 골라서 추출하는 것이 주된 작업\n",
    "\n",
    "### 파이썬으로 크롤링 하기\n",
    "+ urllib/urllib2 : 사용하기 무난, 코드 단순, 내장 패키지\n",
    "+ requests : 따로 설치, urllib보다 고급기능 제공\n",
    "+ lxml : 웹을 통해 읽어 들인 문서 내용 분석 문서내에서 필요한 데이터를 추출하는데 사용"
   ]
  },
  {
   "cell_type": "code",
   "execution_count": 1,
   "id": "2be8767a-e734-4d46-8d56-7f038c1c9f6d",
   "metadata": {},
   "outputs": [],
   "source": [
    "# 패키지 설치\n",
    "# pip install requests\n",
    "# pip install lxml\n",
    "# pip install cssselect"
   ]
  },
  {
   "cell_type": "code",
   "execution_count": 2,
   "id": "c108d396-f9ee-474e-b8b6-d871d92c3836",
   "metadata": {},
   "outputs": [],
   "source": [
    "import requests\n",
    "import lxml.html\n",
    "from lxml.cssselect import CSSSelector"
   ]
  },
  {
   "cell_type": "code",
   "execution_count": 3,
   "id": "81a393d6-e6b2-4b74-adcf-07706e1d6c68",
   "metadata": {},
   "outputs": [
    {
     "name": "stdout",
     "output_type": "stream",
     "text": [
      "200 UTF-8 text/html; charset=UTF-8\n"
     ]
    }
   ],
   "source": [
    "# 핫빛 미디어 홈페이지(hanb.co.kr)의 베스트셀러 페이지의 도서 정보(이미지, 도서명, 저자, 가격)를 수집하세요.\n",
    "url = 'https://www.hanbit.co.kr/store/books/bestseller_list.html'\n",
    "\n",
    "# 지정한 url의 문서를 읽어옴 get(주소, 옵션)\n",
    "res = requests.get(url)\n",
    "\n",
    "# requests 패키지 실행후 유용한 변수로 결과 확인\n",
    "# http 응답코드, 응답으로 받은 컨텐츠의 인코딩 및 컨텐츠 유형 확인\n",
    "print(res.status_code, res.encoding, res.headers['content-type'])"
   ]
  },
  {
   "cell_type": "code",
   "execution_count": 4,
   "id": "c3b6fd4a-33ae-4d21-ada2-a1f400db5aa8",
   "metadata": {},
   "outputs": [
    {
     "data": {
      "text/plain": [
       "'<!DOCTYPE html>\\r\\n<html lang=\"ko\">\\r\\n<head>\\r\\n<!--[if lte IE 8]>\\r\\n<script>\\r\\n  location.replace(\\'/support/explorer_upgrade.html\\');\\r\\n</script>\\r\\n<![endif]-->\\r\\n<meta charset=\"utf-8\"/>\\r\\n<title>한빛출판네트워크</title>\\r\\n<link rel=\"shortcut icon\" href=\"https://www.hanbit.co.kr/images/common/hanbit.ico\"> \\r\\n<meta http-equiv=\"X-UA-Compatible\" content=\"IE=Edge\" />\\r\\n<meta property=\"og:type\" content=\"website\"/>\\r\\n<meta property=\"og:title\" content=\"한빛출판네트워크\"/>\\r\\n<meta property=\"og:description\" content=\"더 넓은 세상, 더 나은 미래를 위'"
      ]
     },
     "execution_count": 4,
     "metadata": {},
     "output_type": "execute_result"
    }
   ],
   "source": [
    "# 응답으로 받은 컨텐츠 확인 : text, content\n",
    "res.text[:500]"
   ]
  },
  {
   "cell_type": "code",
   "execution_count": 5,
   "id": "d4cd2813-1800-45b7-bd6a-783315d652fb",
   "metadata": {},
   "outputs": [
    {
     "data": {
      "text/plain": [
       "b'<!DOCTYPE html>\\r\\n<html lang=\"ko\">\\r\\n<head>\\r\\n<!--[if lte IE 8]>\\r\\n<script>\\r\\n  location.replace(\\'/support/explorer_upgrade.html\\');\\r\\n</script>\\r\\n<![endif]-->\\r\\n<meta charset=\"utf-8\"/>\\r\\n<title>\\xed\\x95\\x9c\\xeb\\xb9\\x9b\\xec\\xb6\\x9c\\xed\\x8c\\x90\\xeb\\x84\\xa4\\xed\\x8a\\xb8\\xec\\x9b\\x8c\\xed\\x81\\xac</title>\\r\\n<link rel=\"shortcut icon\" href=\"https://www.hanbit.co.kr/images/common/hanbit.ico\"> \\r\\n<meta http-equiv=\"X-UA-Compatible\" content=\"IE=Edge\" />\\r\\n<meta property=\"og:type\" content=\"website\"/>\\r\\n<meta property=\"og:title\" content=\"\\xed\\x95\\x9c\\xeb\\xb9\\x9b\\xec\\xb6\\x9c\\xed\\x8c\\x90\\xeb\\x84\\xa4\\xed\\x8a\\xb8\\xec\\x9b\\x8c\\xed\\x81\\xac\"/>\\r\\n<meta property=\"og:descripti'"
      ]
     },
     "execution_count": 5,
     "metadata": {},
     "output_type": "execute_result"
    }
   ],
   "source": [
    "res.content[:500]"
   ]
  },
  {
   "cell_type": "code",
   "execution_count": 6,
   "id": "8240b8f4-373a-47f4-9c3d-bc315cf76a8c",
   "metadata": {},
   "outputs": [],
   "source": [
    "# 스크래핑한 결과를 분석해서 필요한 데이터를 추출하기 위해 따로 변수로 저장\n",
    "html = res.text\n",
    "# html 문서에 저장된 문서 내 요소들을 탐색하기 편하도록 계층구조 DOM로 생성\n",
    "root = lxml.html.fromstring(html)"
   ]
  },
  {
   "cell_type": "code",
   "execution_count": 7,
   "id": "4bc6f091-7857-47a7-b7f0-7a60dc92082a",
   "metadata": {},
   "outputs": [
    {
     "name": "stdout",
     "output_type": "stream",
     "text": [
      "['혼자 공부하는 머신러닝+딥러닝', '제대로 알고 쓰는 논문 통계분석 : SPSS & AMOS (개정증보판)', '비겁한 돈', '365 부모 말하기 연습 일력(스프링북)', '1000개 숨은그림찾기 바다 동물', '유지보수하기 어렵게 코딩하는 방법: 평생 개발자로 먹고 살 수 있다', '회사에서 바로 통하는  실무 엑셀+파워포인트+워드&한글(개정판)', '혼자 공부하는 파이썬', '이것이 취업을 위한 코딩 테스트다 with 파이썬', '한번에 통과하는 논문 : SPSS 결과표 작성과 해석 방법', '프리드버그 선형대수학', '혼자 공부하는 C 언어', '심리 읽어드립니다', '눈 떠보니 선진국', '일잘러의 비밀, 구글 스프레드시트 제대로 파헤치기']\n",
      "['박해선 ', '노경섭 ', '황현희 , 제갈현열 ', '박재연 , 공인영 ', '이한이 ', '로에디 그린 ', '전미진 , 이화진 , 신면철 ', '윤인성 ', '나동빈 ', '히든그레이스 논문통계팀 ', '스티븐 H. 프리드버그 , 아놀드 J. 인셀 , 로렌스 E. 스펜스 ', '서현우 ', '김경일 , 사피엔스 스튜디오 ', '박태웅 ', '강남석 ']\n",
      "['23,400원', '28,000원', '14,400원', '16,200원', '7,200원', '0원', '19,800원', '16,200원', '30,600원', '23,000원', '35,000원', '21,600원', '15,750원', '14,850원', '25,200원']\n",
      "['/data/books/B2002963743_m.jpg', '/data/books/B3589179269_m.jpg', '/data/books/B7543250605_m.jpg', '/data/books/B5051207171_m.jpg', '/data/books/B7197264292_m.jpg', '/data/ebook/E2375873090_m.jpg', '/data/books/B6634694521_m.jpg', '/data/books/B2587075793_m.jpg', '/data/books/B8945183661_m.jpg', '/data/books/B6318137900_m.jpg', '/data/books/B1710834745_m.jpg', '/data/books/B1854329839_m.jpg', '/data/books/B8953951220_m.jpg', '/data/books/B7123382765_m.jpg', '/data/books/B7461753617_m.jpg']\n"
     ]
    }
   ],
   "source": [
    "# 추출한 제목을 저장하기 위해 리스트 선언\n",
    "titles = []\n",
    "authors = []\n",
    "prices = []\n",
    "thumbs = []\n",
    "\n",
    "# 모든 p 태그들 중에서 클래스명이 book_tit인 p태그(들)를 찾은 후 하위 태그가 a인 요소들을 선택 select한후 텍스트 요소를 추출함\n",
    "for title in root.cssselect('p.book_tit a'):\n",
    "    # 확인 print(title.text_content())\n",
    "    titles.append(title.text_content())\n",
    "print(titles)\n",
    "\n",
    "for author in root.cssselect('p.book_writer'):\n",
    "    authors.append(author.text_content())\n",
    "print(authors)\n",
    "\n",
    "for price in root.cssselect('span.price'):\n",
    "    prices.append(price.text_content())\n",
    "print(prices)\n",
    "\n",
    "for thumb in root.cssselect('img.thumb'):\n",
    "    thumbs.append(thumb.get('src'))\n",
    "print(thumbs)"
   ]
  },
  {
   "cell_type": "code",
   "execution_count": 8,
   "id": "893045b9-4862-4285-a4ff-a344bef5840f",
   "metadata": {},
   "outputs": [],
   "source": [
    "# 추출한 데이터들을 csv 형식으로 재작성\n",
    "# 혼자 공부하는 파이썬, 윤인성, 16200\n",
    "data = \"\"\n",
    "\n",
    "for i in range(len(titles)):\n",
    "    #print(f'\"{titles[i]}\", \"{authors[i].rstrip()}\", {prices[i].replace(\",\",\"\")[:-1]}, {thumbs[i]\\n')\n",
    "    data += f'\"{titles[i]}\", \"{authors[i].rstrip().replace(\",\",\"，\")}\", {prices[i].replace(\",\",\"\")[:-1]}, {thumbs[i][12:]}\\n'"
   ]
  },
  {
   "cell_type": "code",
   "execution_count": 9,
   "id": "a2a3db80-0a77-4d99-a881-705c668a0f06",
   "metadata": {},
   "outputs": [],
   "source": [
    "# 추출한 데이터들을 csv 형식 재작성\n",
    "# 혼자 공부하는 파이썬 윤인성 16200 이미지경로\n",
    "hdr = 'title,author,price,thumb\\n'\n",
    "with open('books.csv', 'w') as f:\n",
    "    f.write(hdr)\n",
    "    f.write(data)"
   ]
  },
  {
   "cell_type": "code",
   "execution_count": 10,
   "id": "b4ae3580-8a65-4a2a-b50b-bd172722a172",
   "metadata": {},
   "outputs": [
    {
     "name": "stdout",
     "output_type": "stream",
     "text": [
      "['한빛아카데미', '한빛미디어', '한빛미디어', '한빛미디어', '한빛미디어', '한빛미디어', '한빛라이프', '한빛비즈', '한빛미디어', '한빛비즈', '한빛라이프', '한빛미디어', '한빛아카데미', '한빛미디어', '한빛비즈', '한빛라이프', '한빛미디어', '한빛미디어', '한빛비즈', '한빛라이프', '한빛비즈', '한빛미디어', '한빛라이프', '한빛미디어', '한빛에듀', '한빛에듀', '한빛에듀', '한빛미디어', '한빛미디어', '한빛미디어', '한빛미디어', '한빛아카데미', '한빛아카데미', '한빛에듀', '한빛미디어', '한빛아카데미', '한빛미디어', '한빛미디어', '한빛미디어', '한빛비즈', '한빛아카데미', '한빛에듀', '한빛에듀', '한빛라이프', '한빛비즈', '한빛미디어', '한빛미디어', '한빛미디어', '한빛미디어', '한빛미디어']\n",
      "['C 언어 for Beginner 4판', '금융 전략을 위한 머신러닝', '그래프QL 인 액션', '비전 시스템을 위한 딥러닝', '무던한 개발자를 위한 모던한 자바스크립트', '오준석의 안드로이드 생존코딩_코틀린 편(2판)', '하루 한 장 초등과학 365', '다시, 배우다', '당당한 디자인 결정을 위한 9가지 방법', '슈퍼 석세스', '365 부모 말하기 연습 일력(스프링북)', '엑셀 매크로&VBA 업무 공략집', '공학도를 위한 수치해석(8판)', '데이터 과학자 되는 법', '돈 되는 기획', '초등 어휘력이 공부력이다', '빠르게 찾아 바로 적용하는 엑셀 에센스 사전 100', '스토리텔링 우동이즘의 잘 팔리는 웹툰, 웹소설 이야기 만들기', '만화로 배우는 의학의 역사(개정판)', '중학교 입학 가이드', '비겁한 돈', '보고서 작성 실무 강의(개정판)', '나도 영문 손글씨 잘 쓰면 소원이 없겠네', '구글 BERT의 정석', '1000개 숨은그림찾기 보물찾기 : 찾아도 찾아도 끝판왕', '1000개 숨은그림찾기 탈것 : 찾아도 찾아도 끝판왕', '1000개 숨은그림찾기 몬스터 : 찾아도 찾아도 끝판왕', '머신러닝 디자인 패턴', '소프트웨어 아키텍처 101', '혼자 공부하는 SQL', 'UX/UI 디자이너를 위한 실무 피그마', 'IT CookBook, 그림으로 배우고 실생활 예제로 실습하는 자바를 부탁해', '온톨로지 과학자를 위한 지식그래프', '똑똑한 두뇌 연습 : 놀이공원 미로찾기', '한 권으로 다지는 머신러닝&딥러닝 with 파이썬', 'IT CookBook, 시스템 프로그래밍: 리눅스&유닉스', '살아 움직이는 머신러닝 파이프라인 설계', '시험장에 몰래 가져갈  이경오의 SQL+SQLD 비밀노트', '그로킹 심층 강화학습', '심리 읽어드립니다', '한번에 적용하는 분석', '1000개 숨은그림찾기 바다 동물', '1000개 숨은그림찾기 아이스크림', '탐험! 숲체험 생물 도감', '깍두기 가계부 2022', '제대로 배우는 수학적 최적화', '미국 주식으로 시작하는 슬기로운 퀀트투자', '1년에 5,000만 원 버는 수익 확장 노하우 네이버 블로그로 돈 벌기', '디자인 1등 유튜버 존코바의 클릭을 유도하는 유튜브 디자인 with 포토샵', '핸즈온 해킹']\n",
      "['우재남   ', '하리옴 탓샛 외 2명  ', '사메르 부나   ', '모하메드 엘겐디   ', '카이 호스트만   ', '오준석   ', '치바 가즈요시   ', '폴 김   ', '톰 그리버   ', '댄 페냐   ', '박재연 외 1명  ', '최준선   ', 'Steven C.Chapra 외 1명  ', '에밀리 로빈슨 외 1명  ', '김도균   ', '박명선   ', '한은숙   ', '우동이즘(이동우)   ', '장 노엘 파비아니 외 3명  ', '배혜림   ', '황현희 외 1명  ', '홍장표   ', '윤정희(리제 캘리그라피)   ', '수다르산 라비찬디란   ', '전진희   ', '이한이   ', '김확실   ', '발리아파 락슈마난 외 2명  ', '마크 리처즈 외 1명  ', '우재남   ', '클레어 정   ', '박세홍(홍팍)   ', '딘 알레망 외 2명  ', '권나영   ', '알베르토 아르타산체스 외 1명  ', '이종원   ', '하네스 하프케 외 1명  ', '이경오   ', '미겔 모랄레스   ', '김경일 외 1명  ', '히든그레이스 데이터분석팀   ', '이한이   ', '김확실   ', '이치니치 잇슈   ', '쓰담여사   ', '우메타니 슌지   ', '김용환 외 1명  ', '김동석   ', '존코바(이요한)   ', '매슈 히키 외 1명  ']\n",
      "['2022-01-03', '2021-12-27', '2021-12-24', '2021-12-20', '2021-12-20', '2021-12-17', '2021-12-14', '2021-12-10', '2021-12-10', '2021-12-03', '2021-12-01', '2021-11-30', '2021-11-30', '2021-11-26', '2021-11-26', '2021-11-25', '2021-11-25', '2021-11-15', '2021-11-15', '2021-11-11', '2021-11-08', '2021-11-08', '2021-11-05', '2021-11-03', '2021-11-02', '2021-11-02', '2021-11-02', '2021-11-01', '2021-11-01', '2021-11-01', '2021-11-01', '2021-10-29', '2021-10-29', '2021-10-28', '2021-10-21', '2021-10-15', '2021-10-11', '2021-10-10', '2021-10-10', '2021-10-08', '2021-10-08', '2021-10-08', '2021-10-08', '2021-10-06', '2021-10-01', '2021-09-30', '2021-09-30', '2021-09-28', '2021-09-27', '2021-09-27']\n",
      "['26,000원', '35,000원', '35,000원', '38,000원', '32,000원', '32,000원', '19,800원', '16,000원', '22,000원', '25,000원', '18,000원', '22,000원', '36,000원', '24,000원', '14,500원', '18,000원', '18,000원', '16,000원', '20,800원', '16,500원', '16,000원', '18,000원', '16,800원', '34,000원', '8,000원', '8,000원', '8,000원', '38,000원', '32,000원', '24,000원', '24,000원', '26,000원', '45,000원', '7,500원', '40,000원', '28,000원', '32,000원', '32,000원', '35,000원', '17,500원', '24,000원', '8,000원', '8,000원', '13,000원', '14,800원', '38,000원', '32,000원', '16,000원', '19,800원', '45,000원']\n"
     ]
    }
   ],
   "source": [
    "# 한빛미디어 홈페이지의 '새로나온책' 페이지의 도서정보(이미지, 도서명, 저자, 발행일, 가격)를 수집하세요\n",
    "# 단, 1~3페이지까지의 도서들을 대상으로 수집합니다\n",
    "url = 'https://www.hanbit.co.kr/store/books/full_book_list.html'\n",
    "res = requests.get(url)\n",
    "html = res.text\n",
    "root = lxml.html.fromstring(html)\n",
    "\n",
    "brands = []\n",
    "titles = []\n",
    "writers = []\n",
    "pubdates = []\n",
    "prices = []\n",
    "\n",
    "# css 선택자가 요소마다 다름\n",
    "# 이런 경우 이름을 요소를 선택하는 것보다는 요소위치를 선택자로 사용해서 요소를 선택하는 것이 좋음\n",
    "# for brand in root.cssselect('td.brd_m'):\n",
    "# 모든 td 테그들 중에서 첫번째 td태그(들)를 선택함\n",
    "for brand in root.cssselect('table.tbl_type_list td:first_child'):\n",
    "    # 확인 print(brand.text_content())\n",
    "    brands.append(brand.text_content())\n",
    "print(brands)\n",
    "\n",
    "for title in root.cssselect('td.left a'):\n",
    "    titles.append(title.text_content())\n",
    "print(titles)\n",
    "\n",
    "# 동일한 코드가 있는 경우\n",
    "# for writer in root.cssselect('td.left+td.left'):\n",
    "for writer in root.cssselect('td:nth-child(3)'):\n",
    "    writers.append(writer.text_content())\n",
    "print(writers)\n",
    "\n",
    "# 코드가 없는 경우\n",
    "for pubdate in root.cssselect('td.left+td.left+td'):\n",
    "    pubdates.append(pubdate.text_content())\n",
    "print(pubdates)\n",
    "\n",
    "#for price in root.cssselect('td.right'):\n",
    "for price in root.cssselect('table.tbl_type_list td:last-child'):  # td:last-child 만 치면 다른 것도 가져옴\n",
    "    prices.append(price.text_content())\n",
    "print(prices)"
   ]
  },
  {
   "cell_type": "markdown",
   "id": "29cca992-4eb3-4db8-a1ce-84f5a8980efd",
   "metadata": {},
   "source": [
    "### 네이버 검색 예제\n",
    "+ search.naver.com/search.naver?query=검색어\n",
    "+ 네이버에 검색어를 입력하고 검색결과에서 데이터 추출\n",
    "+ 질의 문자열 querystring을 이용해서 검색하고 그 걸과에서 필요한 데이터를 추출함\n",
    "+ 특정 사이트는 스크래핑이나 크롤링을 막기 위한 방편으로 사이트에 접속하는 사용자의 useragent를 확인함\n",
    "+ UA 없이 사이트 접속을 시도하면 접속권한 거부의 의미로403 응답코드와 함께 접속을 금지하기로 함"
   ]
  },
  {
   "cell_type": "code",
   "execution_count": 11,
   "id": "d03229f9-bb08-4418-9ee4-8b82a5c23353",
   "metadata": {},
   "outputs": [],
   "source": [
    "query = 'html5'\n",
    "url = 'https://search.naver.com/search.naver'\n",
    "headers = {'User-Agent' : 'Mozilla/5.0 (Windows NT 10.0; Win64; x64) AppleWebKit/537.36 (KHTML, like Gecko) Chrome/94.0.4606.81 Safari/537.36'}\n",
    "params = {'query' : query}\n",
    "\n",
    "res = requests.get(url, headers=headers, params=params)\n",
    "html = res.text\n",
    "root = lxml.html.fromstring(html)"
   ]
  },
  {
   "cell_type": "code",
   "execution_count": 12,
   "id": "8077cfed-59d4-4108-a55b-4ab1b33a641c",
   "metadata": {},
   "outputs": [
    {
     "name": "stdout",
     "output_type": "stream",
     "text": [
      "Html5 구조 | 기초부터 디자인까지 셀프코딩#2\n",
      "https://blog.naver.com/call_1994/222253172378\n",
      "[html5 &CSS] CSS 기초 속성선택자 a[href]{background-color: gray; color :black; } #027\n",
      "https://blog.naver.com/kji9653/222586859039\n",
      "NonActiveX, 웹표준 HTML5 적용 연말정산 프로그램, IE 종료에 대응하세요!\n",
      "https://blog.naver.com/ctv0126/222589937855\n",
      "코린이 html5 css 질문드립니다.\n",
      "https://cafe.naver.com/hacosa/301623\n",
      "[HTML5] html5 기본틀\n",
      "https://blog.naver.com/makeflood/222593552238\n",
      "GPU를 사용하여 HTML5 기반 게임 앱의 성능을 변화하는 방법\n",
      "https://cafe.naver.com/windows10user/21613\n",
      "[HTML5] #1 HTML의 기본\n",
      "https://blog.naver.com/syjakk/222556885083\n",
      " HTML5 - 나무위키 \n",
      "https://namu.wiki/w/HTML5\n",
      " HTML5test - How well does your browser support HTML5? \n",
      "https://html5test.com/\n",
      " W3C HTML \n",
      "https://www.w3.org/html/\n",
      " Web Hypertext Application Technology Working Group (WHATWG) \n",
      "https://whatwg.org/\n",
      " Do it! HTML5+CSS3 웹 표준의 정석 \n",
      "https://book.naver.com/bookdb/book_detail.nhn?bid=15975063\n",
      " Do it! HTML5+CSS3 웹 표준의 정석 \n",
      "https://book.naver.com/bookdb/book_detail.nhn?bid=11472743\n",
      " HTML5 웹 프로그래밍 입문 \n",
      "https://book.naver.com/bookdb/book_detail.nhn?bid=15257762\n",
      " 명품 HTML5 + CSS3 + Javascript 웹 프로그래밍 \n",
      "https://book.naver.com/bookdb/book_detail.nhn?bid=11575805\n",
      " 모던 웹을 위한 HTML5+CSS3 바이블 (웹 표준을 적용한 480개의 코드로 배우는 웹 페이지 제작의 모든 것) \n",
      "https://book.naver.com/bookdb/book_detail.nhn?bid=14840760\n",
      " HTML5 + CSS3 + JavaScript로 배우는 웹프로그래밍 기초 (기초부터 모바일웹까지 빠르고 쉽게 배우는 웹개발 지침서) \n",
      "https://book.naver.com/bookdb/book_detail.nhn?bid=7394492\n",
      " Hello Coding HTML5+CSS3 (워드보다 쉬운 웹사이트 만들기) \n",
      "https://book.naver.com/bookdb/book_detail.nhn?bid=13330412\n",
      " 모두의 HTML5 & CSS3 (16일 만에 배우는 웹 사이트 제작 기초) \n",
      "https://book.naver.com/bookdb/book_detail.nhn?bid=13953882\n",
      " HTML5 독학백서 \n",
      "https://book.naver.com/bookdb/book_detail.nhn?bid=21156785\n",
      " HTML5 \n",
      "https://book.naver.com/bookdb/book_detail.nhn?bid=13983017\n",
      " 쉽게 배우는 HTML5 웹 프로그래밍 입문 (차별 없는 인터넷 환경 구현하기) \n",
      "https://book.naver.com/bookdb/book_detail.nhn?bid=11020352\n",
      " HTML5 \n",
      "https://book.naver.com/bookdb/book_detail.nhn?bid=14009510\n",
      " DO it! HTML5 + CSS3 웹 표준의 정석 (기초부터 반응형 웹까지! HTML 권위자에게 정석으로 배워라!) \n",
      "https://book.naver.com/bookdb/book_detail.nhn?bid=7309491\n",
      " HTML5 중심의 CSS3와 자바스크립트 \n",
      "https://book.naver.com/bookdb/book_detail.nhn?bid=18031603\n",
      " HTML5 & CSS3 (UI디자인부터 EPUB코딩까지) \n",
      "https://book.naver.com/bookdb/book_detail.nhn?bid=20688976\n"
     ]
    }
   ],
   "source": [
    "# 블로그 웹사이트, 네이버책, 포스트 등의 제목과 링크 추출\n",
    "\n",
    "titles = []\n",
    "links = []\n",
    "\n",
    "for web in root.cssselect('panel-list a.api_txt_lines'):\n",
    "    print(web.text_content())\n",
    "    print(web.get('href'))\n",
    "\n",
    "for brain in root.cssselect('a.question_text'):\n",
    "    print(brain.text_content())\n",
    "    print(brain.get('href'))\n",
    "\n",
    "for wiki in root.cssselect('a.link_tit'):\n",
    "    print(wiki.text_content())\n",
    "    print(wiki.get('href'))\n",
    "\n",
    "for book in root.cssselect('a.title_area'):\n",
    "    print(book.text_content())\n",
    "    print(book.get('href'))"
   ]
  },
  {
   "cell_type": "code",
   "execution_count": 13,
   "id": "95d08203-5af4-40d3-af9b-185e6889914a",
   "metadata": {},
   "outputs": [],
   "source": [
    "# jtbc 뉴스 사이트(news.jtbc.joins.com)에서\n",
    "# 사진npic,제목title,기사미리보기preview,범주ntype 등을\n",
    "# 크롤링해서 jtbcnews 테이블에 저장\n",
    "# 단, 뉴스기사는 2020-10-22일자를 대상으로 한다\n",
    "url = 'https://news.jtbc.joins.com/section/list.aspx'\n",
    "params = {'pdate':'20201022'}\n",
    "res = requests.get(url, headers=headers, params=params)\n",
    "html = res.text\n",
    "root = lxml.html.fromstring(html)"
   ]
  },
  {
   "cell_type": "code",
   "execution_count": 14,
   "id": "be93f661-c51b-4725-a337-564e1e26ee9f",
   "metadata": {},
   "outputs": [],
   "source": [
    "npics = []\n",
    "titles = []\n",
    "previews = []\n",
    "ntypes = []\n",
    "\n",
    "for npic in root.cssselect('dd.photo a img'):\n",
    "    #print(npic.get('src'))\n",
    "    npics.append(npic.get('src'))\n",
    "\n",
    "for title in root.cssselect('dt.title_cr a'):\n",
    "    # print(title.text_content())\n",
    "    titles.append(title.text_content())\n",
    "\n",
    "for preview in root.cssselect('dd.read_cr a'):\n",
    "    # print(preview.text_content())\n",
    "    previews.append(preview.text_content())\n",
    "\n",
    "for ntype in root.cssselect('span.location'):\n",
    "    # print(ntype.text_content())\n",
    "    ntype = ntype.text_content().replace('\\t', '')\n",
    "    ntype = ntype.replace('\\r\\n', '')\n",
    "    ntype = ntype.replace(' ', '')\n",
    "    ntype = ntype.replace('[JTBC>', '')\n",
    "    ntype = ntype.replace(']', '')\n",
    "    ntypes.append(ntype)\n"
   ]
  },
  {
   "cell_type": "code",
   "execution_count": 15,
   "id": "8039c274-d287-4366-b2e0-a50464785316",
   "metadata": {},
   "outputs": [
    {
     "name": "stdout",
     "output_type": "stream",
     "text": [
      "0 건설 폐기물 파묻은 땅에서 벼농사…'브랜드 쌀'로 판매  [앵커]경기도 일부 지역에서 '건설 폐기물'이 섞인 논에서 자란 벼를 브랜드 쌀로 포장해 팔고 있습니다. 저희 취재진이 다섯 달 동안 현장을 추적했는데요. 업체들이 처리 비용을 아끼려고 논에다 폐기물을 퍼부었...              사회 https://photo.jtbc.joins.com/news/2020/10/22/202010222242142756_LC.jpg.tn350.jpg\n",
      "\n",
      "1 [단독] '술접대' 지목 유흥업소…\"김봉현과 검사들 왔었다\"  [앵커]오늘(22일) 국정감사에선 김봉현 전 회장이 주장한 '검사 술접대 의혹'도 쟁점이 됐습니다. 아직 그 진위는 확인되지 않고 있는데, 일단 당사자 측은 강하게 반박하고 있습니다. 저희 법조팀이 그 유흥업소를...              사회 https://photo.jtbc.joins.com/news/2020/10/22/202010222217403478_LC.jpg.tn350.jpg\n",
      "\n",
      "2 [원보가중계] 국감 중에 이러시면…강훈식, 또 게임하다 딱 걸려  좋은 밤, 좋은 뉴스 < 원보가중계 > 시작합니다.첫 번째 소식입니다.앞서 대검찰청 국정감사 리포트에서 미처 다루지 못한 소식이 있어서 준비했습니다.열린민주당 김진애 의원, 윤석열 검찰총장 상대로 부인의 재...              정치 https://photo.jtbc.joins.com/news/2020/10/22/202010222102401754_LC.jpg.tn350.jpg\n",
      "\n",
      "3 [날씨박사] 먼지에 한파까지…23일 아침은 더 춥다  [앵커]날씨박사 시간입니다. 기상학 박사, 김세현 기상전문기자가 나와 있습니다.김세현 기자, 오늘(22일) 황사 때문에 전국 곳곳에 미세먼지 주의보가 내려졌고, 지금도 내려진 곳이 있다고 하는데, 오늘 밤엔 한...              날씨 https://photo.jtbc.joins.com/news/2020/10/22/202010222120070095_LC.jpg.tn350.jpg\n",
      "\n",
      "4 둥근 공의 '심술'…챔피언스리그 흔드는 '자책골' [앵커]축구에서 자책골은 골문을 지키는 선수라면 어떻게든 피하고 싶은 순간이죠. 하지만 의도치 않은 순간, 야속한 장면이 튀어나오곤 합니다. 엉뚱한 곳에 맞아서 골라인을 넘고, 또 막아냈다 싶다가도 골이 되는...              스포츠 https://photo.jtbc.joins.com/news/2020/10/22/202010220930056459.jpg.tn350.jpg\n",
      "\n",
      "5 김태균 '눈물의 은퇴'…\"20년간 우승 못 해서 아쉬워\" [김태균/한화이글스 : 한화이글스는 저의 자존심이었고 자부심이었습니다.][앵커]20년 선수 생활을 내려놓으면서 한화의 4번 타자 김태균은 끝내 울어버렸습니다. 홈런만 대접받던 우리 야구에 출루의 가치를 알려준...              스포츠 https://photo.jtbc.joins.com/news/2020/10/22/202010220927336004.jpg.tn350.jpg\n",
      "\n",
      "6 [팩트체크] 월성 원전 방사성물질이 후쿠시마 130배?  [앵커]일본 정부가 '방사능 오염수'를 바다에 흘려보낼 방침을 이달 안에 확정할 것으로 보입니다. 일본 정치권에서는 \"한국의 원전에서 나오는 방사성 물질이 후쿠시마의 130배다\"라는 주장이 나왔습니다. 저희 팩...              사회 https://photo.jtbc.joins.com/news/2020/10/22/202010222114196734_LC.jpg.tn350.jpg\n",
      "\n",
      "7 '채용비리 혐의' LG전자 전·현직 임직원 12명 검찰 송치  경찰이 LG전자 전·현직 임직원 12명을 채용비리 혐의로 검찰에 넘겼습니다.지난 2013년에서 2015년 사이, LG전자 한국영업본부 공개채용 과정에서 채용 청탁이 들어온 지원자들을 부당하게 합격시킨 혐의입...              사회 https://photo.jtbc.joins.com/news/2020/10/22/202010222113384343_LC.jpg.tn350.jpg\n",
      "\n",
      "8 구글, 게임업체에 '구글 규제법' 반대 종용 의혹  [앵커]최근 미국 정부가 구글을 상대로 반독점법 위반 혐의로 소송을 냈습니다. 인터넷 혁신 기업이 어느새 독점의 상징이 됐단 지적도 나오고 있는데요. 우리 국회에서도 이른바 '구글 규제법'이 발의됐는데, JTBC...              정치 https://photo.jtbc.joins.com/news/2020/10/22/202010222108560614_LC.jpg.tn350.jpg\n",
      "\n",
      "9 \"택배노동자 사망, 업무와 무관\" 쿠팡 측 주장 따져보니…  [앵커]이렇게 고된 일에 시달렸던 택배노동자들이 목숨을 잃고 나면 남아있는 가족들은 사망 원인을 놓고 힘겨운 싸움을 벌여야 합니다. 열흘 전, 쿠팡 물류센터에서 숨진 20대 노동자 장덕준 씨. 쿠팡 측은 택배 ...              사회 https://photo.jtbc.joins.com/news/2020/10/26/202010261603123770_LC.jpg.tn350.jpg\n",
      "\n",
      "10 택배노동자 또 숨져…\"한 번 출근하면 2,3일씩 근무\"  [앵커]택배노동자가 또 세상을 떠났습니다. 물류터미널을 오가면서 택배 상자를 지역 터미널로 옮기던 노동자입니다. 저희 취재진이 유가족을 만나봤는데요. 한 번 출근하면 2, 3일씩 집에 들어오지 못했다고 말했...              사회 https://photo.jtbc.joins.com/news/2020/10/22/202010222110571415_LC.jpg.tn350.jpg\n",
      "\n",
      "11 총선 토론회서 '세월호 유가족에 막말' 차명진 기소  지난 총선 기간에 세월호 유가족을 향해 막말을 한 혐의로 차명진 전 의원이 재판을 받게 됐습니다.인천지검 부천지청은 명예훼손과 모욕 등의 혐의로 차 전 의원을 지난 14일에 재판에 넘겼다고 밝혔습니다.차 전 ...              사회 https://photo.jtbc.joins.com/news/2020/10/22/202010222107187996_LC.jpg.tn350.jpg\n",
      "\n",
      "12 \"나경원 아들, 엄마 찬스\"…서울대 국감서 도마 올라  [앵커]서울대에 대한 국정감사에선 나경원 전 의원 아들의 특혜 논란이 다시 도마에 올랐습니다. 최근 서울대에서 이 논란에 대한 결정문을 냈는데, 그 내용을 놓고 다시 공방이 벌어진 겁니다.채승기 기자입니다.[...              정치 https://photo.jtbc.joins.com/news/2020/10/22/202010222106335687_LC.jpg.tn350.jpg\n",
      "\n",
      "13 [밀착카메라] 13살도 전동킥보드 허용…안전은 누가?  [앵커]도심 곳곳을 씽씽 달리는 전동 킥보드를 오는 12월부터는 운전면허가 없어도 만 13세 이상, 그러니까 중학생들도 탈 수 있습니다. 청소년들이 이걸 타고 도로 위를 달려도 될지 걱정이 앞서는데요. 밀착카메...              사회 https://photo.jtbc.joins.com/news/2020/10/22/202010222105548568_LC.jpg.tn350.jpg\n",
      "\n",
      "14 윤석열, 문 대통령 메시지 공개…청와대 \"입장 없다\"  [앵커]지금 국회에선 대검찰청 대상으로 국정감사가 계속되고 있습니다. 앞서까지는 윤석열 검찰총장이 발언을 쏟아냈는데요. 지금 상황은 어떤지, 잠시 국회를 연결하겠습니다. 최수연 기자가 나가 있는데요.최 기...              정치 https://photo.jtbc.joins.com/news/2020/10/22/202010222100510434_LC.jpg.tn350.jpg\n",
      "\n",
      "15 15 30 15\n"
     ]
    }
   ],
   "source": [
    "import re\n",
    "for ntype in root.cssselect('span.location'):\n",
    "    # print(ntype.text_content())\n",
    "    ntype = re.sub('\\t|\\r\\n| ', '', ntype.text_content())\n",
    "    ntype = re.sub('\\[JTBC>|\\]', '', ntype)\n",
    "    ntypes.append(ntype)    \n",
    "\n",
    "for i in range(len(titles)):\n",
    "    rows = f'{i} {titles[i]} {previews[i]} \\\n",
    "             {ntypes[i]} {npics[i]}\\n'\n",
    "    print(rows)\n",
    "\n",
    "print(len(titles), len(previews), len(ntypes), len(npics))"
   ]
  }
 ],
 "metadata": {
  "kernelspec": {
   "display_name": "Python 3 (ipykernel)",
   "language": "python",
   "name": "python3"
  },
  "language_info": {
   "codemirror_mode": {
    "name": "ipython",
    "version": 3
   },
   "file_extension": ".py",
   "mimetype": "text/x-python",
   "name": "python",
   "nbconvert_exporter": "python",
   "pygments_lexer": "ipython3",
   "version": "3.7.10"
  }
 },
 "nbformat": 4,
 "nbformat_minor": 5
}
