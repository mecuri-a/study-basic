{
 "cells": [
  {
   "cell_type": "markdown",
   "id": "036b8533-3972-410f-aa8f-8c3ddf5b88b8",
   "metadata": {},
   "source": [
    "### 크롤링 crawling\n",
    "+ 웹 상에 존재하는 다양한 컨텐츠를 수집하는 행위\n",
    "+ html 문서를 통채로 읽어서 내용을 분석한 뒤 필요한 데이터만 골라서 추출하는 것이 주된 작업\n",
    "\n",
    "### 파이썬으로 크롤링 하기\n",
    "+ urllib/urllib2 : 사용하기 무난, 코드 단순, 내장 패키지\n",
    "+ requests : 따로 설치, urllib보다 고급기능 제공\n",
    "+ lxml : 웹을 통해 읽어 들인 문서 내용 분석 문서내에서 필요한 데이터를 추출하는데 사용"
   ]
  },
  {
   "cell_type": "code",
   "execution_count": 4,
   "id": "2be8767a-e734-4d46-8d56-7f038c1c9f6d",
   "metadata": {},
   "outputs": [],
   "source": [
    "# 패키지 설치\n",
    "# pip install requests\n",
    "# pip install lxml\n",
    "# pip install cssselect"
   ]
  },
  {
   "cell_type": "code",
   "execution_count": 4,
   "id": "c108d396-f9ee-474e-b8b6-d871d92c3836",
   "metadata": {},
   "outputs": [],
   "source": [
    "import requests\n",
    "import lxml.html\n",
    "from lxml.cssselect import CSSSelector"
   ]
  },
  {
   "cell_type": "code",
   "execution_count": 152,
   "id": "81a393d6-e6b2-4b74-adcf-07706e1d6c68",
   "metadata": {},
   "outputs": [
    {
     "name": "stdout",
     "output_type": "stream",
     "text": [
      "200 UTF-8 text/html; charset=UTF-8\n"
     ]
    }
   ],
   "source": [
    "# 핫빛 미디어 홈페이지(hanb.co.kr)의 베스트셀러 페이지의 도서 정보(이미지, 도서명, 저자, 가격)를 수집하세요.\n",
    "url = 'https://www.hanbit.co.kr/store/books/bestseller_list.html'\n",
    "\n",
    "# 지정한 url의 문서를 읽어옴 get(주소, 옵션)\n",
    "res = requests.get(url)\n",
    "\n",
    "# requests 패키지 실행후 유용한 변수로 결과 확인\n",
    "# http 응답코드, 응답으로 받은 컨텐츠의 인코딩 및 컨텐츠 유형 확인\n",
    "print(res.status_code, res.encoding, res.headers['content-type'])"
   ]
  },
  {
   "cell_type": "code",
   "execution_count": 153,
   "id": "c3b6fd4a-33ae-4d21-ada2-a1f400db5aa8",
   "metadata": {},
   "outputs": [
    {
     "data": {
      "text/plain": [
       "'<!DOCTYPE html>\\r\\n<html lang=\"ko\">\\r\\n<head>\\r\\n<!--[if lte IE 8]>\\r\\n<script>\\r\\n  location.replace(\\'/support/explorer_upgrade.html\\');\\r\\n</script>\\r\\n<![endif]-->\\r\\n<meta charset=\"utf-8\"/>\\r\\n<title>한빛출판네트워크</title>\\r\\n<link rel=\"shortcut icon\" href=\"https://www.hanbit.co.kr/images/common/hanbit.ico\"> \\r\\n<meta http-equiv=\"X-UA-Compatible\" content=\"IE=Edge\" />\\r\\n<meta property=\"og:type\" content=\"website\"/>\\r\\n<meta property=\"og:title\" content=\"한빛출판네트워크\"/>\\r\\n<meta property=\"og:description\" content=\"더 넓은 세상, 더 나은 미래를 위'"
      ]
     },
     "execution_count": 153,
     "metadata": {},
     "output_type": "execute_result"
    }
   ],
   "source": [
    "# 응답으로 받은 컨텐츠 확인 : text, content\n",
    "res.text[:500]"
   ]
  },
  {
   "cell_type": "code",
   "execution_count": 154,
   "id": "d4cd2813-1800-45b7-bd6a-783315d652fb",
   "metadata": {},
   "outputs": [
    {
     "data": {
      "text/plain": [
       "b'<!DOCTYPE html>\\r\\n<html lang=\"ko\">\\r\\n<head>\\r\\n<!--[if lte IE 8]>\\r\\n<script>\\r\\n  location.replace(\\'/support/explorer_upgrade.html\\');\\r\\n</script>\\r\\n<![endif]-->\\r\\n<meta charset=\"utf-8\"/>\\r\\n<title>\\xed\\x95\\x9c\\xeb\\xb9\\x9b\\xec\\xb6\\x9c\\xed\\x8c\\x90\\xeb\\x84\\xa4\\xed\\x8a\\xb8\\xec\\x9b\\x8c\\xed\\x81\\xac</title>\\r\\n<link rel=\"shortcut icon\" href=\"https://www.hanbit.co.kr/images/common/hanbit.ico\"> \\r\\n<meta http-equiv=\"X-UA-Compatible\" content=\"IE=Edge\" />\\r\\n<meta property=\"og:type\" content=\"website\"/>\\r\\n<meta property=\"og:title\" content=\"\\xed\\x95\\x9c\\xeb\\xb9\\x9b\\xec\\xb6\\x9c\\xed\\x8c\\x90\\xeb\\x84\\xa4\\xed\\x8a\\xb8\\xec\\x9b\\x8c\\xed\\x81\\xac\"/>\\r\\n<meta property=\"og:descripti'"
      ]
     },
     "execution_count": 154,
     "metadata": {},
     "output_type": "execute_result"
    }
   ],
   "source": [
    "res.content[:500]"
   ]
  },
  {
   "cell_type": "code",
   "execution_count": 155,
   "id": "8240b8f4-373a-47f4-9c3d-bc315cf76a8c",
   "metadata": {},
   "outputs": [],
   "source": [
    "# 스크래핑한 결과를 분석해서 필요한 데이터를 추출하기 위해 따로 변수로 저장\n",
    "html = res.text\n",
    "# html 문서에 저장된 문서 내 요소들을 탐색하기 편하도록 계층구조 DOM로 생성\n",
    "root = lxml.html.fromstring(html)"
   ]
  },
  {
   "cell_type": "code",
   "execution_count": 156,
   "id": "4bc6f091-7857-47a7-b7f0-7a60dc92082a",
   "metadata": {},
   "outputs": [
    {
     "name": "stdout",
     "output_type": "stream",
     "text": [
      "['혼자 공부하는 머신러닝+딥러닝', '회사에서 바로 통하는 실무 엑셀+파워포인트+워드&한글', 'IT CookBook, 데이터베이스 개론(2판)', 'IT CookBook, 시스템 프로그래밍: 리눅스&유닉스', '눈 떠보니 선진국', '미라클 모닝', '심리 읽어드립니다', '나도 손글씨 바르게 쓰면 소원이 없겠네', '리얼 국내여행 [2021~2022년 최신판]', '재미있고 빠른 첫 한글 쓰기 1권 : 모음∙자음∙쉬운 낱말', '재미있고 빠른 첫 한글 쓰기 2권 : 가나다 글자', 'C#과 데이터베이스로 누구나 쉽게 주식 자동매매 시스템 만들기', '유니티 개발자를 위한 C#으로 온라인 게임 서버 만들기', '혼자 공부하는 파이썬', '이것이 취업을 위한 코딩 테스트다 with 파이썬']\n",
      "['박해선 ', '전미진 , 이화진 , 신면철 ', '김연희 ', '이종원 ', '박태웅 ', '할 엘로드 ', '김경일 , 사피엔스 스튜디오 ', '유한빈(펜크래프트) ', '배나영 ', '한빛학습연구회 ', '한빛학습연구회 ', '이경오 ', '이석현 ', '윤인성 ', '나동빈 ']\n",
      "['23,400원', '19,800원', '27,000원', '28,000원', '14,850원', '10,800원', '15,750원', '10,800원', '16,200원', '5,850원', '5,850원', '14,400원', '9,900원', '16,200원', '30,600원']\n",
      "['/data/books/B2002963743_m.jpg', '/data/books/B8635373198_m.jpg', '/data/books/B8582604063_m.jpg', '/data/books/B3943456030_m.jpg', '/data/books/B7123382765_m.jpg', '/data/books/B8196132630_m.jpg', '/data/books/B8953951220_m.jpg', '/data/books/B2272461464_m.jpg', '/data/books/B3530910256_m.jpg', '/data/books/B7448405310_m.jpg', '/data/books/B9960200234_m.jpg', '/data/ebook/E1054933296_m.jpg', '/data/ebook/E6015792502_m.jpg', '/data/books/B2587075793_m.jpg', '/data/books/B8945183661_m.jpg']\n"
     ]
    }
   ],
   "source": [
    "# 추출한 제목을 저장하기 위해 리스트 선언\n",
    "titles = []\n",
    "authors = []\n",
    "prices = []\n",
    "thumbs = []\n",
    "\n",
    "# 모든 p 태그들 중에서 클래스명이 book_tit인 p태그(들)를 찾은 후 하위 태그가 a인 요소들을 선택 select한후 텍스트 요소를 추출함\n",
    "for title in root.cssselect('p.book_tit a'):\n",
    "    # 확인 print(title.text_content())\n",
    "    titles.append(title.text_content())\n",
    "print(titles)\n",
    "\n",
    "for author in root.cssselect('p.book_writer'):\n",
    "    authors.append(author.text_content())\n",
    "print(authors)\n",
    "\n",
    "for price in root.cssselect('span.price'):\n",
    "    prices.append(price.text_content())\n",
    "print(prices)\n",
    "\n",
    "for thumb in root.cssselect('img.thumb'):\n",
    "    thumbs.append(thumb.get('src'))\n",
    "print(thumbs)"
   ]
  },
  {
   "cell_type": "code",
   "execution_count": 157,
   "id": "893045b9-4862-4285-a4ff-a344bef5840f",
   "metadata": {},
   "outputs": [],
   "source": [
    "# 추출한 데이터들을 csv 형식으로 재작성\n",
    "# 혼자 공부하는 파이썬, 윤인성, 16200\n",
    "data = \"\"\n",
    "\n",
    "for i in range(len(titles)):\n",
    "    #print(f'\"{titles[i]}\", \"{authors[i].rstrip()}\", {prices[i].replace(\",\",\"\")[:-1]}, {thumbs[i]\\n')\n",
    "    data += f'\"{titles[i]}\", \"{authors[i].rstrip().replace(\",\",\"，\")}\", {prices[i].replace(\",\",\"\")[:-1]}, {thumbs[i][12:]}\\n'"
   ]
  },
  {
   "cell_type": "code",
   "execution_count": 158,
   "id": "a2a3db80-0a77-4d99-a881-705c668a0f06",
   "metadata": {},
   "outputs": [],
   "source": [
    "# 추출한 데이터들을 csv 형식 재작성\n",
    "# 혼자 공부하는 파이썬 윤인성 16200 이미지경로\n",
    "hdr = 'title,author,price,thumb\\n'\n",
    "with open('books.csv', 'w') as f:\n",
    "    f.write(hdr)\n",
    "    f.write(data)"
   ]
  },
  {
   "cell_type": "code",
   "execution_count": 150,
   "id": "b4ae3580-8a65-4a2a-b50b-bd172722a172",
   "metadata": {},
   "outputs": [
    {
     "name": "stdout",
     "output_type": "stream",
     "text": [
      "['한빛미디어', '한빛미디어', '한빛아카데미', '한빛미디어', '한빛미디어', '한빛미디어', '한빛비즈', '한빛아카데미', '한빛에듀', '한빛에듀', '한빛라이프', '한빛비즈', '한빛미디어', '한빛미디어', '한빛미디어', '한빛미디어', '한빛미디어', '한빛라이프', '한빛비즈', '한빛아카데미', '한빛미디어', '한빛비즈', '한빛미디어', '한빛아카데미', '한빛미디어', '한빛미디어', '한빛비즈', '한빛아카데미', '한빛비즈', '한빛아카데미', '한빛에듀', '한빛에듀', '한빛에듀', '한빛미디어', '한빛미디어', '한빛라이프', '한빛비즈', '한빛아카데미', '한빛아카데미', '한빛아카데미', '한빛미디어', '한빛미디어', '한빛아카데미', '한빛라이프', '한빛미디어', '한빛아카데미', '한빛미디어', '한빛미디어', '한빛비즈', '한빛미디어']\n",
      "['머신러닝 디자인 패턴', '한 권으로 다지는 머신러닝&딥러닝 with 파이썬', 'IT CookBook, 시스템 프로그래밍: 리눅스&유닉스', '살아 움직이는 머신러닝 파이프라인 설계', '시험장에 몰래 가져갈  이경오의 SQL+SQLD 비밀노트', '그로킹 심층 강화학습', '심리 읽어드립니다', '한번에 적용하는 분석', '1000개 숨은그림찾기 바다 동물', '1000개 숨은그림찾기 아이스크림', '탐험! 숲체험 생물 도감', '깍두기 가계부 2022', '제대로 배우는 수학적 최적화', '미국 주식으로 시작하는 슬기로운 퀀트투자', '1년에 5,000만 원 버는 수익 확장 노하우 네이버 블로그로 돈 벌기', '디자인 1등 유튜버 존코바의 클릭을 유도하는 유튜브 디자인 with 포토샵', '핸즈온 해킹', '정리 잘하는 사람은 이렇게 합니다', '두 발로 선 경제', '인공지능 논리 입문', '머신러닝 파워드 애플리케이션', '유튜브 마케팅 인사이트', '웹 브라우저 속 머신러닝 TensorFlow.js', 'IT CookBook, 처음 만나는 전기기기(2판)', '모바일 UX/UI 디자인 강의 with Adobe XD', '처음 배우는 플라스크 웹 프로그래밍', '인문학 거저보기 : 서양철학 편', 'IT CookBook, 현대 센서공학(5판)', '방구석 심리학 실험실', 'IT CookBook, 모바일 웹 서비스 구현을 위한 JSP 웹 프로그래밍', '혼자서도 척척 접는 종이접기', '혼자서도 척척 접는 종이접기 플러스', '혼자서도 척척 접는 종이접기 2권 세트', '스파크를 이용한 자연어 처리', '클라우드 네이티브를 위한 데이터 센터 네트워크 구축', '어른을 위한 두뇌 놀이 책', '감으로만 일하던 김 팀장은 어떻게 데이터 좀 아는 팀장이 되었나', '쉽게 배우고 익히는 회계원리[객관식/학습문제 해답](4판)', '미래조직을 위한 조직설계의 이해(4판)', '쉽게 배우고 익히는 회계원리(4판)', 'fastai와 파이토치가 만나 꽃피운 딥러닝', '스케치업 & V-Ray 트레이닝 북(개정판)', 'IT CookBook, 짧고 굵게 배우는 JSP 웹 프로그래밍과 스프링 프레임워크', '생각과 말로 글을 늘리는 초등 10분 글쓰기', '만들면서 배우는 파이토치 딥러닝', '데이터베이스 시스템(7판)', '실리콘밸리 리더십', '처음 시작하는 마이크로서비스', '눈 떠보니 선진국', '텐서플로 라이트를 활용한 안드로이드 딥러닝']\n",
      "['발리아파 락슈마난 외 2명  ', '알베르토 아르타산체스 외 1명  ', '이종원   ', '하네스 하프케 외 1명  ', '이경오   ', '미겔 모랄레스   ', '김경일 외 1명  ', '히든그레이스 데이터분석팀   ', '이한이   ', '김확실   ', '이치니치 잇슈   ', '쓰담여사   ', '우메타니 슌지   ', '김용환 외 1명  ', '김동석   ', '존코바(이요한)   ', '매슈 히키 외 1명  ', '고메다 마리나   ', '이용우   ', '이은정   ', '에마뉘엘 아메장   ', '서양수   ', '카이 사사키   ', '최은혁 외 1명  ', '김영삼   ', '윤정현   ', '지하늘   ', 'Jacob Fraden   ', '마이클 A. 브릿   ', '김현규 외 1명  ', '신구 후미아키   ', '신구 후미아키   ', '신구 후미아키   ', '앨릭스 토머스   ', '디네시 G. 더트   ', '개러스 무어 박사   ', '황보현우 외 1명  ', '정용기 외 4명  ', '현선해 외 2명  ', '정용기 외 4명  ', '제러미 하워드 외 1명  ', '강석창   ', '황희정   ', '강근영   ', '오가와 유타로   ', 'Abraham Silberschatz 외 2명  ', '마이클 롭   ', '로니 미트라 외 1명  ', '박태웅   ', '임태규   ']\n",
      "['2021-11-01', '2021-10-21', '2021-10-15', '2021-10-11', '2021-10-10', '2021-10-10', '2021-10-08', '2021-10-08', '2021-10-08', '2021-10-08', '2021-10-06', '2021-10-01', '2021-09-30', '2021-09-30', '2021-09-28', '2021-09-27', '2021-09-27', '2021-09-17', '2021-09-10', '2021-09-10', '2021-09-06', '2021-09-03', '2021-09-01', '2021-08-31', '2021-08-30', '2021-08-30', '2021-08-30', '2021-08-27', '2021-08-25', '2021-08-23', '2021-08-23', '2021-08-23', '2021-08-23', '2021-08-20', '2021-08-20', '2021-08-20', '2021-08-16', '2021-08-13', '2021-08-13', '2021-08-13', '2021-08-10', '2021-08-09', '2021-08-09', '2021-08-07', '2021-08-05', '2021-08-05', '2021-08-01', '2021-08-01', '2021-08-01', '2021-08-01']\n",
      "['38,000원', '40,000원', '28,000원', '32,000원', '32,000원', '35,000원', '17,500원', '24,000원', '8,000원', '8,000원', '13,000원', '14,800원', '38,000원', '32,000원', '16,000원', '19,800원', '45,000원', '15,000원', '23,000원', '22,000원', '27,000원', '16,500원', '25,000원', '24,000원', '26,000원', '19,800원', '18,500원', '35,000원', '18,000원', '30,000원', '9,800원', '9,800원', '15,000원', '34,000원', '36,000원', '9,900원', '17,800원', '7,000원', '22,000원', '30,000원', '44,000원', '28,000원', '27,000원', '15,800원', '40,000원', '45,000원', '22,000원', '27,000원', '16,500원', '27,000원']\n"
     ]
    }
   ],
   "source": [
    "# 한빛미디어 홈페이지의 '새로나온책' 페이지의 도서정보(이미지, 도서명, 저자, 발행일, 가격)를 수집하세요\n",
    "# 단, 1~3페이지까지의 도서들을 대상으로 수집합니다\n",
    "url = 'https://www.hanbit.co.kr/store/books/full_book_list.html'\n",
    "res = requests.get(url)\n",
    "html = res.text\n",
    "root = lxml.html.fromstring(html)\n",
    "\n",
    "brands = []\n",
    "titles = []\n",
    "writers = []\n",
    "pubdates = []\n",
    "prices = []\n",
    "\n",
    "# css 선택자가 요소마다 다름\n",
    "# 이런 경우 이름을 요소를 선택하는 것보다는 요소위치를 선택자로 사용해서 요소를 선택하는 것이 좋음\n",
    "# for brand in root.cssselect('td.brd_m'):\n",
    "# 모든 td 테그들 중에서 첫번째 td태그(들)를 선택함\n",
    "for brand in root.cssselect('table.tbl_type_list td:first_child'):\n",
    "    # 확인 print(brand.text_content())\n",
    "    brands.append(brand.text_content())\n",
    "print(brands)\n",
    "\n",
    "for title in root.cssselect('td.left a'):\n",
    "    titles.append(title.text_content())\n",
    "print(titles)\n",
    "\n",
    "# 동일한 코드가 있는 경우\n",
    "# for writer in root.cssselect('td.left+td.left'):\n",
    "for writer in root.cssselect('td:nth-child(3)'):\n",
    "    writers.append(writer.text_content())\n",
    "print(writers)\n",
    "\n",
    "# 코드가 없는 경우\n",
    "for pubdate in root.cssselect('td.left+td.left+td'):\n",
    "    pubdates.append(pubdate.text_content())\n",
    "print(pubdates)\n",
    "\n",
    "#for price in root.cssselect('td.right'):\n",
    "for price in root.cssselect('table.tbl_type_list td:last-child'):  # td:last-child 만 치면 다른 것도 가져옴\n",
    "    prices.append(price.text_content())\n",
    "print(prices)"
   ]
  },
  {
   "cell_type": "markdown",
   "id": "29cca992-4eb3-4db8-a1ce-84f5a8980efd",
   "metadata": {},
   "source": [
    "### 네이버 검색 예제\n",
    "+ search.naver.com/search.naver?query=검색어\n",
    "+ 네이버에 검색어를 입력하고 검색결과에서 데이터 추출\n",
    "+ 질의 문자열 querystring을 이용해서 검색하고 그 걸과에서 필요한 데이터를 추출함\n",
    "+ 특정 사이트는 스크래핑이나 크롤링을 막기 위한 방편으로 사이트에 접속하는 사용자의 useragent를 확인함\n",
    "+ UA 없이 사이트 접속을 시도하면 접속권한 거부의 의미로403 응답코드와 함께 접속을 금지하기로 함"
   ]
  },
  {
   "cell_type": "code",
   "execution_count": 5,
   "id": "d03229f9-bb08-4418-9ee4-8b82a5c23353",
   "metadata": {},
   "outputs": [],
   "source": [
    "query = 'html5'\n",
    "url = 'https://search.naver.com/search.naver'\n",
    "headers = {'User-Agent' : 'Mozilla/5.0 (Windows NT 10.0; Win64; x64) AppleWebKit/537.36 (KHTML, like Gecko) Chrome/94.0.4606.81 Safari/537.36'}\n",
    "params = {'query' : query}\n",
    "\n",
    "res = requests.get(url, headers=headers, params=params)\n",
    "html = res.text\n",
    "root = lxml.html.fromstring(html)"
   ]
  },
  {
   "cell_type": "code",
   "execution_count": 6,
   "id": "8077cfed-59d4-4108-a55b-4ab1b33a641c",
   "metadata": {},
   "outputs": [
    {
     "name": "stdout",
     "output_type": "stream",
     "text": [
      "Html5 구조 | 기초부터 디자인까지 셀프코딩#2\n",
      "https://blog.naver.com/call_1994/222253172378\n",
      "HTML5 + CSS + JS 스터디 시작\n",
      "https://blog.naver.com/sorang226/222278039447\n",
      "[HTML] 211011 HTML5\n",
      "https://blog.naver.com/blogubo/222540152084\n",
      "앱 플랫폼의 황금알을 낳는 거위, HTML5 게임\n",
      "http://post.naver.com/viewer/postView.nhn?volumeNo=16776238&memberNo=15460786&vType=VERTICAL\n",
      "웹 제작의 뼈대! HTML5 한 번에 끝내기_경기도 지식 GSEEK\n",
      "https://blog.naver.com/gseekcampus/222025837061\n",
      "HTML5 웹 표준 단말 시스템 “W-ebTop(웹탑)” 이젠 선택이 아닌 필수\n",
      "https://blog.naver.com/inswavemk/222528821695\n",
      "html5 로딩 속도\n",
      "https://cafe.naver.com/hacosa/295274\n",
      "CSS,HTML 과 CSS3,HTML5의 차이점이 뭔가요? (간단히 요약해주세요!)\n",
      "https://kin.naver.com/qna/detail.naver?d1id=1&dirId=1040205&docId=379944783&qb=aHRtbDU=&enc=utf8&section=kin.ext&rank=1&search_sort=0&spq=0\n",
      "html5 css3 인강 추천 좀 html5css3공부하려구요 웹페이지 만들어보려는데 책은 어려워서요 단기간 준비할 수 있는 곳으로 추천좀요\n",
      "https://kin.naver.com/qna/detail.naver?d1id=1&dirId=10501&docId=384782269&qb=aHRtbDU=&enc=utf8&section=kin.ext&rank=2&search_sort=0&spq=0\n",
      "HTML5 table 관련 질문 HTML5로 다음과 같이 표를 넣고 싶은데 어떻게 하면 될까요?\n",
      "https://kin.naver.com/qna/detail.naver?d1id=1&dirId=1040205&docId=372443019&qb=aHRtbDU=&enc=utf8&section=kin.ext&rank=3&search_sort=0&spq=0\n",
      " HTML5 - 나무위키 \n",
      "https://namu.wiki/w/HTML5\n",
      " HTML5test - How well does your browser support HTML5? \n",
      "https://html5test.com/\n",
      " W3C HTML \n",
      "https://www.w3.org/html/\n",
      " Web Hypertext Application Technology Working Group (WHATWG) \n",
      "https://whatwg.org/\n"
     ]
    }
   ],
   "source": [
    "# 블로그 웹사이트, 네이버책, 포스트 등의 제목과 링크 추출\n",
    "\n",
    "titles = []\n",
    "links = []\n",
    "\n",
    "for web in root.cssselect('panel-list a.api_txt_lines'):\n",
    "    print(web.text_content())\n",
    "    print(web.get('href'))\n",
    "\n",
    "for brain in root.cssselect('a.question_text'):\n",
    "    print(brain.text_content())\n",
    "    print(brain.get('href'))\n",
    "\n",
    "for wiki in root.cssselect('a.link_tit'):\n",
    "    print(wiki.text_content())\n",
    "    print(wiki.get('href'))\n",
    "\n",
    "for book in root.cssselect('a.title_area'):\n",
    "    print(book.text_content())\n",
    "    print(book.get('href'))"
   ]
  },
  {
   "cell_type": "code",
   "execution_count": 7,
   "id": "95d08203-5af4-40d3-af9b-185e6889914a",
   "metadata": {},
   "outputs": [],
   "source": [
    "# jtbc 뉴스 사이트(news.jtbc.joins.com)에서\n",
    "# 사진npic,제목title,기사미리보기preview,범주ntype 등을\n",
    "# 크롤링해서 jtbcnews 테이블에 저장\n",
    "# 단, 뉴스기사는 2020-10-22일자를 대상으로 한다\n",
    "url = 'https://news.jtbc.joins.com/section/list.aspx'\n",
    "params = {'pdate':'20201022'}\n",
    "res = requests.get(url, headers=headers, params=params)\n",
    "html = res.text\n",
    "root = lxml.html.fromstring(html)"
   ]
  },
  {
   "cell_type": "code",
   "execution_count": 8,
   "id": "be93f661-c51b-4725-a337-564e1e26ee9f",
   "metadata": {},
   "outputs": [],
   "source": [
    "npics = []\n",
    "titles = []\n",
    "previews = []\n",
    "ntypes = []\n",
    "\n",
    "for npic in root.cssselect('dd.photo a img'):\n",
    "    #print(npic.get('src'))\n",
    "    npics.append(npic.get('src'))\n",
    "\n",
    "for title in root.cssselect('dt.title_cr a'):\n",
    "    # print(title.text_content())\n",
    "    titles.append(title.text_content())\n",
    "\n",
    "for preview in root.cssselect('dd.read_cr a'):\n",
    "    # print(preview.text_content())\n",
    "    previews.append(preview.text_content())\n",
    "\n",
    "for ntype in root.cssselect('span.location'):\n",
    "    # print(ntype.text_content())\n",
    "    ntype = ntype.text_content().replace('\\t', '')\n",
    "    ntype = ntype.replace('\\r\\n', '')\n",
    "    ntype = ntype.replace(' ', '')\n",
    "    ntype = ntype.replace('[JTBC>', '')\n",
    "    ntype = ntype.replace(']', '')\n",
    "    ntypes.append(ntype)\n"
   ]
  },
  {
   "cell_type": "code",
   "execution_count": 9,
   "id": "8039c274-d287-4366-b2e0-a50464785316",
   "metadata": {},
   "outputs": [
    {
     "name": "stdout",
     "output_type": "stream",
     "text": [
      "0 건설 폐기물 파묻은 땅에서 벼농사…'브랜드 쌀'로 판매  [앵커]경기도 일부 지역에서 '건설 폐기물'이 섞인 논에서 자란 벼를 브랜드 쌀로 포장해 팔고 있습니다. 저희 취재진이 다섯 달 동안 현장을 추적했는데요. 업체들이 처리 비용을 아끼려고 논에다 폐기물을 퍼부었...              사회 https://photo.jtbc.joins.com/news/2020/10/22/202010222242142756_LC.jpg.tn350.jpg\n",
      "\n",
      "1 [단독] '술접대' 지목 유흥업소…\"김봉현과 검사들 왔었다\"  [앵커]오늘(22일) 국정감사에선 김봉현 전 회장이 주장한 '검사 술접대 의혹'도 쟁점이 됐습니다. 아직 그 진위는 확인되지 않고 있는데, 일단 당사자 측은 강하게 반박하고 있습니다. 저희 법조팀이 그 유흥업소를...              사회 https://photo.jtbc.joins.com/news/2020/10/22/202010222217403478_LC.jpg.tn350.jpg\n",
      "\n",
      "2 [원보가중계] 국감 중에 이러시면…강훈식, 또 게임하다 딱 걸려  좋은 밤, 좋은 뉴스 < 원보가중계 > 시작합니다.첫 번째 소식입니다.앞서 대검찰청 국정감사 리포트에서 미처 다루지 못한 소식이 있어서 준비했습니다.열린민주당 김진애 의원, 윤석열 검찰총장 상대로 부인의 재...              정치 https://photo.jtbc.joins.com/news/2020/10/22/202010222102401754_LC.jpg.tn350.jpg\n",
      "\n",
      "3 [날씨박사] 먼지에 한파까지…23일 아침은 더 춥다  [앵커]날씨박사 시간입니다. 기상학 박사, 김세현 기상전문기자가 나와 있습니다.김세현 기자, 오늘(22일) 황사 때문에 전국 곳곳에 미세먼지 주의보가 내려졌고, 지금도 내려진 곳이 있다고 하는데, 오늘 밤엔 한...              날씨 https://photo.jtbc.joins.com/news/2020/10/22/202010222120070095_LC.jpg.tn350.jpg\n",
      "\n",
      "4 둥근 공의 '심술'…챔피언스리그 흔드는 '자책골' [앵커]축구에서 자책골은 골문을 지키는 선수라면 어떻게든 피하고 싶은 순간이죠. 하지만 의도치 않은 순간, 야속한 장면이 튀어나오곤 합니다. 엉뚱한 곳에 맞아서 골라인을 넘고, 또 막아냈다 싶다가도 골이 되는...              스포츠 https://photo.jtbc.joins.com/news/2020/10/22/202010220930056459.jpg.tn350.jpg\n",
      "\n",
      "5 김태균 '눈물의 은퇴'…\"20년간 우승 못 해서 아쉬워\" [김태균/한화이글스 : 한화이글스는 저의 자존심이었고 자부심이었습니다.][앵커]20년 선수 생활을 내려놓으면서 한화의 4번 타자 김태균은 끝내 울어버렸습니다. 홈런만 대접받던 우리 야구에 출루의 가치를 알려준...              스포츠 https://photo.jtbc.joins.com/news/2020/10/22/202010220927336004.jpg.tn350.jpg\n",
      "\n",
      "6 [팩트체크] 월성 원전 방사성물질이 후쿠시마 130배?  [앵커]일본 정부가 '방사능 오염수'를 바다에 흘려보낼 방침을 이달 안에 확정할 것으로 보입니다. 일본 정치권에서는 \"한국의 원전에서 나오는 방사성 물질이 후쿠시마의 130배다\"라는 주장이 나왔습니다. 저희 팩...              사회 https://photo.jtbc.joins.com/news/2020/10/22/202010222114196734_LC.jpg.tn350.jpg\n",
      "\n",
      "7 '채용비리 혐의' LG전자 전·현직 임직원 12명 검찰 송치  경찰이 LG전자 전·현직 임직원 12명을 채용비리 혐의로 검찰에 넘겼습니다.지난 2013년에서 2015년 사이, LG전자 한국영업본부 공개채용 과정에서 채용 청탁이 들어온 지원자들을 부당하게 합격시킨 혐의입...              사회 https://photo.jtbc.joins.com/news/2020/10/22/202010222113384343_LC.jpg.tn350.jpg\n",
      "\n",
      "8 구글, 게임업체에 '구글 규제법' 반대 종용 의혹  [앵커]최근 미국 정부가 구글을 상대로 반독점법 위반 혐의로 소송을 냈습니다. 인터넷 혁신 기업이 어느새 독점의 상징이 됐단 지적도 나오고 있는데요. 우리 국회에서도 이른바 '구글 규제법'이 발의됐는데, JTBC...              정치 https://photo.jtbc.joins.com/news/2020/10/22/202010222108560614_LC.jpg.tn350.jpg\n",
      "\n",
      "9 \"택배노동자 사망, 업무와 무관\" 쿠팡 측 주장 따져보니…  [앵커]이렇게 고된 일에 시달렸던 택배노동자들이 목숨을 잃고 나면 남아있는 가족들은 사망 원인을 놓고 힘겨운 싸움을 벌여야 합니다. 열흘 전, 쿠팡 물류센터에서 숨진 20대 노동자 장덕준 씨. 쿠팡 측은 택배 ...              사회 https://photo.jtbc.joins.com/news/2020/10/26/202010261603123770_LC.jpg.tn350.jpg\n",
      "\n",
      "10 택배노동자 또 숨져…\"한 번 출근하면 2,3일씩 근무\"  [앵커]택배노동자가 또 세상을 떠났습니다. 물류터미널을 오가면서 택배 상자를 지역 터미널로 옮기던 노동자입니다. 저희 취재진이 유가족을 만나봤는데요. 한 번 출근하면 2, 3일씩 집에 들어오지 못했다고 말했...              사회 https://photo.jtbc.joins.com/news/2020/10/22/202010222110571415_LC.jpg.tn350.jpg\n",
      "\n",
      "11 총선 토론회서 '세월호 유가족에 막말' 차명진 기소  지난 총선 기간에 세월호 유가족을 향해 막말을 한 혐의로 차명진 전 의원이 재판을 받게 됐습니다.인천지검 부천지청은 명예훼손과 모욕 등의 혐의로 차 전 의원을 지난 14일에 재판에 넘겼다고 밝혔습니다.차 전 ...              사회 https://photo.jtbc.joins.com/news/2020/10/22/202010222107187996_LC.jpg.tn350.jpg\n",
      "\n",
      "12 \"나경원 아들, 엄마 찬스\"…서울대 국감서 도마 올라  [앵커]서울대에 대한 국정감사에선 나경원 전 의원 아들의 특혜 논란이 다시 도마에 올랐습니다. 최근 서울대에서 이 논란에 대한 결정문을 냈는데, 그 내용을 놓고 다시 공방이 벌어진 겁니다.채승기 기자입니다.[...              정치 https://photo.jtbc.joins.com/news/2020/10/22/202010222106335687_LC.jpg.tn350.jpg\n",
      "\n",
      "13 [밀착카메라] 13살도 전동킥보드 허용…안전은 누가?  [앵커]도심 곳곳을 씽씽 달리는 전동 킥보드를 오는 12월부터는 운전면허가 없어도 만 13세 이상, 그러니까 중학생들도 탈 수 있습니다. 청소년들이 이걸 타고 도로 위를 달려도 될지 걱정이 앞서는데요. 밀착카메...              사회 https://photo.jtbc.joins.com/news/2020/10/22/202010222105548568_LC.jpg.tn350.jpg\n",
      "\n",
      "14 윤석열, 문 대통령 메시지 공개…청와대 \"입장 없다\"  [앵커]지금 국회에선 대검찰청 대상으로 국정감사가 계속되고 있습니다. 앞서까지는 윤석열 검찰총장이 발언을 쏟아냈는데요. 지금 상황은 어떤지, 잠시 국회를 연결하겠습니다. 최수연 기자가 나가 있는데요.최 기...              정치 https://photo.jtbc.joins.com/news/2020/10/22/202010222100510434_LC.jpg.tn350.jpg\n",
      "\n",
      "15 15 30 15\n"
     ]
    }
   ],
   "source": [
    "import re\n",
    "for ntype in root.cssselect('span.location'):\n",
    "    # print(ntype.text_content())\n",
    "    ntype = re.sub('\\t|\\r\\n| ', '', ntype.text_content())\n",
    "    ntype = re.sub('\\[JTBC>|\\]', '', ntype)\n",
    "    ntypes.append(ntype)    \n",
    "\n",
    "for i in range(len(titles)):\n",
    "    rows = f'{i} {titles[i]} {previews[i]} \\\n",
    "             {ntypes[i]} {npics[i]}\\n'\n",
    "    print(rows)\n",
    "\n",
    "print(len(titles), len(previews), len(ntypes), len(npics))"
   ]
  },
  {
   "cell_type": "code",
   "execution_count": null,
   "id": "a74278ba-8829-499a-b563-f2daa7f8e7dc",
   "metadata": {},
   "outputs": [],
   "source": [
    "# dbeaver 실행후 jtbcnews 테이블 생성\n",
    "create table jtbcnews (\n",
    "    no int primary key auto_increment,\n",
    "    title varchar(200),\n",
    "    preview varchar(1000),\n",
    "    ntype varchar(20),\n",
    "    npic varchar(100),\n",
    "    regdate datetime default current_timestamp\n",
    ");"
   ]
  },
  {
   "cell_type": "code",
   "execution_count": 10,
   "id": "3d9b941e-5def-45ec-a3e1-01268d897e41",
   "metadata": {},
   "outputs": [
    {
     "name": "stdout",
     "output_type": "stream",
     "text": [
      "Collecting pymysql\n",
      "  Downloading PyMySQL-1.0.2-py3-none-any.whl (43 kB)\n",
      "\u001b[K     |████████████████████████████████| 43 kB 7.3 MB/s  eta 0:00:01\n",
      "\u001b[?25hInstalling collected packages: pymysql\n",
      "Successfully installed pymysql-1.0.2\n",
      "Note: you may need to restart the kernel to use updated packages.\n"
     ]
    }
   ],
   "source": [
    "# pip install pymysql\n",
    "import pymysql"
   ]
  },
  {
   "cell_type": "code",
   "execution_count": null,
   "id": "cc2913ea-9175-40d0-b503-82771b8d24c9",
   "metadata": {},
   "outputs": [],
   "source": [
    "# aws EC2에 설치한 mariadb 접속 정보 설정\n",
    "url = 'xxx.34.188.xx'\n",
    "uid = 'bigdata'\n",
    "pwd = 'bigdata2020'\n",
    "db = 'bigdata'\n",
    "charset = 'utf8'\n",
    "sql = 'insert into jtbcnews \\\n",
    "       (title,preview,ntype,npic) values (%s,%s,%s,%s)'\n",
    "\n",
    "conn = pymysql.connect(host=url, user=uid,\n",
    "       password=pwd, db=db, charset=charset)\n",
    "cursor = conn.cursor()\n",
    "\n",
    "for i in range(len(titles)):\n",
    "    params = (titles[i],previews[i],ntypes[i],npics[i])\n",
    "    cursor.execute(sql, params)\n",
    "    conn.commit()\n",
    "\n",
    "cursor.close()\n",
    "conn.close()\n",
    "\n",
    "# daum.net -> 더보기 -> 영화\n",
    "# 영화제목, 평점, 예매율을 추출하세요\n",
    "url = 'https://movie.daum.net/main'\n",
    "res = requests.get(url, headers=headers)\n",
    "html = res.text\n",
    "root = lxml.html.fromstring(html)\n",
    "\n",
    "\n",
    "titles = []\n",
    "rates = []\n",
    "reservs = []\n",
    "\n",
    "for title in root.cssselect('strong a.link_txt'):\n",
    "    print(title.text_content())\n",
    "\n",
    "for rate in root.cssselect(\n",
    "          'span.text_append span:first-child'):\n",
    "    print(rate.text_content())    \n",
    "\n",
    "for reserv in root.cssselect(\n",
    "          'span.text_append span:last-child'):\n",
    "    print(reserv.text_content())        \n",
    "\n",
    "# k-apt.go.kr\n",
    "# www.kma.go.kr"
   ]
  }
 ],
 "metadata": {
  "kernelspec": {
   "display_name": "Python 3 (ipykernel)",
   "language": "python",
   "name": "python3"
  },
  "language_info": {
   "codemirror_mode": {
    "name": "ipython",
    "version": 3
   },
   "file_extension": ".py",
   "mimetype": "text/x-python",
   "name": "python",
   "nbconvert_exporter": "python",
   "pygments_lexer": "ipython3",
   "version": "3.7.10"
  }
 },
 "nbformat": 4,
 "nbformat_minor": 5
}
