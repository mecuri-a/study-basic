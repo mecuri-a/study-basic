{
 "cells": [
  {
   "cell_type": "code",
   "execution_count": 14,
   "id": "37c0e6f4-1034-44d3-af53-44eb667d6ce5",
   "metadata": {},
   "outputs": [],
   "source": [
    "import requests\n",
    "import lxml.html\n",
    "from lxml.cssselect import CSSSelector\n",
    "from bs4 import BeautifulSoup"
   ]
  },
  {
   "cell_type": "code",
   "execution_count": 29,
   "id": "db320fc2-eea7-4ec5-a753-36b3a1e82db6",
   "metadata": {},
   "outputs": [],
   "source": [
    "url = 'https://seoulland.co.kr/?p=19&gubunCode=#container'"
   ]
  },
  {
   "cell_type": "code",
   "execution_count": 30,
   "id": "48e238d7-ebec-4c9f-960c-641b653b25fe",
   "metadata": {},
   "outputs": [
    {
     "data": {
      "text/plain": [
       "'<!DOCTYPE html>\\r\\n<html lang=\"ko\">\\r\\n<head>\\r\\n    <!--\\r\\n<!DOCTYPE html>\\r\\n<html lang=\"ko\">\\r\\n<head>\\r\\n-->\\r\\n        <!-- Global site tag (gtag.js) - Google Analytics --><script async src=\"https://www.googletagmanager.com/gtag/js?id=UA-125586000-1\"></script><script>  window.dataLayer = window.dataLayer || [];  function gtag(){dataLayer.push(arguments);}  gtag(\\'js\\', new Date());  gtag(\\'config\\', \\'UA-125586000-1\\');</script>\\r\\n\\t<meta charset=\"UTF-8\">\\r\\n\\t<meta http-equiv=\"X-UA-Compatible\" content=\"IE=edge\">\\r\\n\\r'"
      ]
     },
     "execution_count": 30,
     "metadata": {},
     "output_type": "execute_result"
    }
   ],
   "source": [
    "# 지정한 url의 문서를 읽어옴 : get(주소, 옵션)\n",
    "res = requests.get(url)\n",
    "res.text[:500]"
   ]
  },
  {
   "cell_type": "code",
   "execution_count": 31,
   "id": "133d6022-7f40-41cc-b547-9383bcff7ea0",
   "metadata": {},
   "outputs": [],
   "source": [
    "html = res.text\n",
    "root = lxml.html.fromstring(html)"
   ]
  },
  {
   "cell_type": "code",
   "execution_count": 32,
   "id": "a5fffee5-abfc-45a9-a77d-e5091be9067a",
   "metadata": {},
   "outputs": [],
   "source": [
    "with open('../csv/sample', 'w', encoding='UTF-8') as f:\n",
    "    f.writelines(html)"
   ]
  },
  {
   "cell_type": "code",
   "execution_count": 33,
   "id": "0393dde0-701f-4eae-ab68-8326df433d65",
   "metadata": {},
   "outputs": [
    {
     "data": {
      "text/plain": [
       "[<div class=\"dc\"><strong>모험의나라</strong><span>캐리커쳐</span></div>,\n",
       " <div class=\"dc\"><strong>세계의광장</strong><span>myFace 3D </span></div>,\n",
       " <div class=\"dc\"><strong>세계의광장</strong><span>팝콘카트</span></div>,\n",
       " <div class=\"dc\"><strong>캐릭터타운</strong><span>아붕</span></div>,\n",
       " <div class=\"dc\"><strong>세계의광장</strong><span>루나펍</span></div>,\n",
       " <div class=\"dc\"><strong>미래의나라</strong><span>회오리감자</span></div>,\n",
       " <div class=\"dc\"><strong>미래의나라</strong><span>쌈이맛</span></div>,\n",
       " <div class=\"dc\"><strong>미래의나라</strong><span>치맥나이트</span></div>,\n",
       " <div class=\"dc\"><strong>베니스무대</strong><span>푸드트럭</span></div>,\n",
       " <div class=\"dc\"><strong>미래의나라</strong><span>리에제와플</span></div>,\n",
       " <div class=\"dc\"><strong>세계의광장</strong><span>세븐일레븐</span></div>,\n",
       " <div class=\"dc\"><strong>세계의광장</strong><span>태피타운</span></div>,\n",
       " <div class=\"dc\"><strong>세계의광장</strong><span>보물섬</span></div>,\n",
       " <div class=\"dc\"><strong>세계의광장</strong><span>다롱이의 집</span></div>,\n",
       " <div class=\"dc\"><strong>모험의나라</strong><span>모험스낵</span></div>,\n",
       " <div class=\"dc\"><strong>캐릭터타운</strong><span>삐에로스낵</span></div>,\n",
       " <div class=\"dc\"><strong>캐릭터타운</strong><span>캐릭터월드</span></div>,\n",
       " <div class=\"dc\"><strong>미래의나라</strong><span>메르하바</span></div>,\n",
       " <div class=\"dc\"><strong>미래의나라</strong><span>너프존</span></div>,\n",
       " <div class=\"dc\"><strong>미래의나라</strong><span>롤리폴리</span></div>,\n",
       " <div class=\"dc\"><strong>삼천리동산</strong><span>삼천리스낵</span></div>,\n",
       " <div class=\"dc\"><strong>미래의나라</strong><span>랜드스토어</span></div>,\n",
       " <div class=\"dc\"><strong>세계의광장</strong><span>핫휠 체험스토어</span></div>,\n",
       " <div class=\"dc\"><strong>삼천리동산</strong><span>장터</span></div>,\n",
       " <div class=\"dc\"><strong>삼천리동산</strong><span>초당순두부</span></div>,\n",
       " <div class=\"dc\"><strong>미래의나라</strong><span>우동플러스</span></div>,\n",
       " <div class=\"dc\"><strong>미래의나라</strong><span>카레원</span></div>,\n",
       " <div class=\"dc\"><strong>미래의나라</strong><span>스파게티니 팩토리</span></div>,\n",
       " <div class=\"dc\"><strong>미래의나라</strong><span>롯데리아 1호점</span></div>,\n",
       " <div class=\"dc\"><strong>미래의나라</strong><span>카페 초이빈&amp;코코호도</span></div>,\n",
       " <div class=\"dc\"><strong>캐릭터타운</strong><span>캐루셀</span></div>,\n",
       " <div class=\"dc\"><strong>캐릭터타운</strong><span>키즈팰리스</span></div>,\n",
       " <div class=\"dc\"><strong>캐릭터타운</strong><span>카페리앙</span></div>,\n",
       " <div class=\"dc\"><strong>캐릭터타운</strong><span>바베큐가든</span></div>,\n",
       " <div class=\"dc\"><strong>캐릭터타운</strong><span>CAFE쉼표</span></div>,\n",
       " <div class=\"dc\"><strong>모험의나라</strong><span>로데오 레스토랑</span></div>,\n",
       " <div class=\"dc\"><strong>세계의광장</strong><span>던킨도너츠</span></div>,\n",
       " <div class=\"dc\"><strong>세계의광장</strong><span>망고식스</span></div>,\n",
       " <div class=\"dc\"><strong>세계의광장</strong><span>카페베네</span></div>,\n",
       " <div class=\"dc\"><strong>세계의광장</strong><span>롯데리아 2호점</span></div>]"
      ]
     },
     "execution_count": 33,
     "metadata": {},
     "output_type": "execute_result"
    }
   ],
   "source": [
    "soup = BeautifulSoup(html, 'html.parser')\n",
    "soup.select('div[class=dc]')"
   ]
  },
  {
   "cell_type": "code",
   "execution_count": 34,
   "id": "60735f47-69f2-4306-8194-36b05cde4c0f",
   "metadata": {},
   "outputs": [
    {
     "name": "stdout",
     "output_type": "stream",
     "text": [
      "캐리커쳐\n",
      "myFace 3D \n",
      "팝콘카트\n",
      "아붕\n",
      "루나펍\n",
      "회오리감자\n",
      "쌈이맛\n",
      "치맥나이트\n",
      "푸드트럭\n",
      "리에제와플\n",
      "세븐일레븐\n",
      "태피타운\n",
      "보물섬\n",
      "다롱이의 집\n",
      "모험스낵\n",
      "삐에로스낵\n",
      "캐릭터월드\n",
      "메르하바\n",
      "너프존\n",
      "롤리폴리\n",
      "삼천리스낵\n",
      "랜드스토어\n",
      "핫휠 체험스토어\n",
      "장터\n",
      "초당순두부\n",
      "우동플러스\n",
      "카레원\n",
      "스파게티니 팩토리\n",
      "롯데리아 1호점\n",
      "카페 초이빈&코코호도\n",
      "캐루셀\n",
      "키즈팰리스\n",
      "카페리앙\n",
      "바베큐가든\n",
      "CAFE쉼표\n",
      "로데오 레스토랑\n",
      "던킨도너츠\n",
      "망고식스\n",
      "카페베네\n",
      "롯데리아 2호점\n"
     ]
    }
   ],
   "source": [
    "for tag in soup.select('div[class=dc]'):\n",
    "    print(tag.text[5:])\n"
   ]
  }
 ],
 "metadata": {
  "kernelspec": {
   "display_name": "Python 3 (ipykernel)",
   "language": "python",
   "name": "python3"
  },
  "language_info": {
   "codemirror_mode": {
    "name": "ipython",
    "version": 3
   },
   "file_extension": ".py",
   "mimetype": "text/x-python",
   "name": "python",
   "nbconvert_exporter": "python",
   "pygments_lexer": "ipython3",
   "version": "3.7.10"
  }
 },
 "nbformat": 4,
 "nbformat_minor": 5
}
