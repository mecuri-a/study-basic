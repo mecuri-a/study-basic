{
 "cells": [
  {
   "cell_type": "code",
   "execution_count": 1,
   "id": "9bf33d34-f242-4eb0-a170-d0c5b5925abd",
   "metadata": {},
   "outputs": [
    {
     "name": "stderr",
     "output_type": "stream",
     "text": [
      "2021-12-16 11:14:57.827946: W tensorflow/stream_executor/platform/default/dso_loader.cc:64] Could not load dynamic library 'libcudart.so.11.0'; dlerror: libcudart.so.11.0: cannot open shared object file: No such file or directory\n",
      "2021-12-16 11:14:57.827974: I tensorflow/stream_executor/cuda/cudart_stub.cc:29] Ignore above cudart dlerror if you do not have a GPU set up on your machine.\n"
     ]
    }
   ],
   "source": [
    "import pandas as pd\n",
    "import numpy as np\n",
    "import matplotlib.pyplot as plt\n",
    "import re\n",
    "import urllib.request\n",
    "from konlpy.tag import Okt\n",
    "from tqdm import tqdm\n",
    "from tensorflow.keras.preprocessing.text import Tokenizer\n",
    "from tensorflow.keras.preprocessing.sequence import pad_sequences\n",
    "import os"
   ]
  },
  {
   "cell_type": "code",
   "execution_count": 2,
   "id": "e3ac4f0c-604b-40fb-afb7-7ee25c3cae77",
   "metadata": {},
   "outputs": [
    {
     "data": {
      "text/html": [
       "<div>\n",
       "<style scoped>\n",
       "    .dataframe tbody tr th:only-of-type {\n",
       "        vertical-align: middle;\n",
       "    }\n",
       "\n",
       "    .dataframe tbody tr th {\n",
       "        vertical-align: top;\n",
       "    }\n",
       "\n",
       "    .dataframe thead th {\n",
       "        text-align: right;\n",
       "    }\n",
       "</style>\n",
       "<table border=\"1\" class=\"dataframe\">\n",
       "  <thead>\n",
       "    <tr style=\"text-align: right;\">\n",
       "      <th></th>\n",
       "      <th>날짜</th>\n",
       "      <th>리뷰 내용</th>\n",
       "      <th>평점(5개 만점)</th>\n",
       "    </tr>\n",
       "  </thead>\n",
       "  <tbody>\n",
       "    <tr>\n",
       "      <th>0</th>\n",
       "      <td>2021년 10월</td>\n",
       "      <td>아침 일찍 와도 주차장이 여유롭지 않지만 여러가지 기구들도 많고 아이들과 놀기 너무...</td>\n",
       "      <td>5.0</td>\n",
       "    </tr>\n",
       "    <tr>\n",
       "      <th>1</th>\n",
       "      <td>2021년 10월</td>\n",
       "      <td>아이들이 좋아하고, 재있어요</td>\n",
       "      <td>5.0</td>\n",
       "    </tr>\n",
       "    <tr>\n",
       "      <th>2</th>\n",
       "      <td>2021년 10월</td>\n",
       "      <td>가족들과 즐건주말 위드코로나되면 더북적북적 해지겠지?</td>\n",
       "      <td>5.0</td>\n",
       "    </tr>\n",
       "    <tr>\n",
       "      <th>3</th>\n",
       "      <td>2021년 10월</td>\n",
       "      <td>오후4시에 들어가서 밤 9시 30분까지 알차게 놀았어요^^ 엄청 혼잡하긴 했지만 거...</td>\n",
       "      <td>5.0</td>\n",
       "    </tr>\n",
       "    <tr>\n",
       "      <th>4</th>\n",
       "      <td>2021년 10월</td>\n",
       "      <td>유아, 어린이가 놀기에 최고의 놀이공원~</td>\n",
       "      <td>5.0</td>\n",
       "    </tr>\n",
       "  </tbody>\n",
       "</table>\n",
       "</div>"
      ],
      "text/plain": [
       "             날짜                                              리뷰 내용  \\\n",
       "0     2021년 10월  아침 일찍 와도 주차장이 여유롭지 않지만 여러가지 기구들도 많고 아이들과 놀기 너무...   \n",
       "1     2021년 10월                                    아이들이 좋아하고, 재있어요   \n",
       "2     2021년 10월                      가족들과 즐건주말 위드코로나되면 더북적북적 해지겠지?   \n",
       "3     2021년 10월  오후4시에 들어가서 밤 9시 30분까지 알차게 놀았어요^^ 엄청 혼잡하긴 했지만 거...   \n",
       "4     2021년 10월                             유아, 어린이가 놀기에 최고의 놀이공원~   \n",
       "\n",
       "      평점(5개 만점)  \n",
       "0           5.0  \n",
       "1           5.0  \n",
       "2           5.0  \n",
       "3           5.0  \n",
       "4           5.0  "
      ]
     },
     "execution_count": 2,
     "metadata": {},
     "output_type": "execute_result"
    }
   ],
   "source": [
    "# 데이터 불러오기\n",
    "df = pd.read_csv('gooreview.csv', encoding='UTF-8')\n",
    "df.head()"
   ]
  },
  {
   "cell_type": "code",
   "execution_count": 3,
   "id": "79ff2ad2-d295-48d1-b56f-10f4cf6948e3",
   "metadata": {},
   "outputs": [],
   "source": [
    "df.columns=['date','document','label']"
   ]
  },
  {
   "cell_type": "code",
   "execution_count": 4,
   "id": "f3e8fcff-7728-4eb5-a127-0e7bc41ad311",
   "metadata": {},
   "outputs": [
    {
     "data": {
      "text/html": [
       "<div>\n",
       "<style scoped>\n",
       "    .dataframe tbody tr th:only-of-type {\n",
       "        vertical-align: middle;\n",
       "    }\n",
       "\n",
       "    .dataframe tbody tr th {\n",
       "        vertical-align: top;\n",
       "    }\n",
       "\n",
       "    .dataframe thead th {\n",
       "        text-align: right;\n",
       "    }\n",
       "</style>\n",
       "<table border=\"1\" class=\"dataframe\">\n",
       "  <thead>\n",
       "    <tr style=\"text-align: right;\">\n",
       "      <th></th>\n",
       "      <th>date</th>\n",
       "      <th>document</th>\n",
       "      <th>label</th>\n",
       "    </tr>\n",
       "  </thead>\n",
       "  <tbody>\n",
       "    <tr>\n",
       "      <th>0</th>\n",
       "      <td>2021년 10월</td>\n",
       "      <td>아침 일찍 와도 주차장이 여유롭지 않지만 여러가지 기구들도 많고 아이들과 놀기 너무...</td>\n",
       "      <td>5.0</td>\n",
       "    </tr>\n",
       "    <tr>\n",
       "      <th>1</th>\n",
       "      <td>2021년 10월</td>\n",
       "      <td>아이들이 좋아하고, 재있어요</td>\n",
       "      <td>5.0</td>\n",
       "    </tr>\n",
       "    <tr>\n",
       "      <th>2</th>\n",
       "      <td>2021년 10월</td>\n",
       "      <td>가족들과 즐건주말 위드코로나되면 더북적북적 해지겠지?</td>\n",
       "      <td>5.0</td>\n",
       "    </tr>\n",
       "    <tr>\n",
       "      <th>3</th>\n",
       "      <td>2021년 10월</td>\n",
       "      <td>오후4시에 들어가서 밤 9시 30분까지 알차게 놀았어요^^ 엄청 혼잡하긴 했지만 거...</td>\n",
       "      <td>5.0</td>\n",
       "    </tr>\n",
       "    <tr>\n",
       "      <th>4</th>\n",
       "      <td>2021년 10월</td>\n",
       "      <td>유아, 어린이가 놀기에 최고의 놀이공원~</td>\n",
       "      <td>5.0</td>\n",
       "    </tr>\n",
       "  </tbody>\n",
       "</table>\n",
       "</div>"
      ],
      "text/plain": [
       "        date                                           document  label\n",
       "0  2021년 10월  아침 일찍 와도 주차장이 여유롭지 않지만 여러가지 기구들도 많고 아이들과 놀기 너무...    5.0\n",
       "1  2021년 10월                                    아이들이 좋아하고, 재있어요    5.0\n",
       "2  2021년 10월                      가족들과 즐건주말 위드코로나되면 더북적북적 해지겠지?    5.0\n",
       "3  2021년 10월  오후4시에 들어가서 밤 9시 30분까지 알차게 놀았어요^^ 엄청 혼잡하긴 했지만 거...    5.0\n",
       "4  2021년 10월                             유아, 어린이가 놀기에 최고의 놀이공원~    5.0"
      ]
     },
     "execution_count": 4,
     "metadata": {},
     "output_type": "execute_result"
    }
   ],
   "source": [
    "df.head()"
   ]
  },
  {
   "cell_type": "code",
   "execution_count": 5,
   "id": "4a07bde3-2af9-4633-8d49-428e74517881",
   "metadata": {},
   "outputs": [
    {
     "name": "stdout",
     "output_type": "stream",
     "text": [
      "테스트용 리뷰 개수 : 240\n"
     ]
    }
   ],
   "source": [
    "print('테스트용 리뷰 개수 :',len(df))"
   ]
  },
  {
   "cell_type": "markdown",
   "id": "9fb92b2e-22a2-48b0-bbfd-2bafd4d16ab0",
   "metadata": {},
   "source": [
    "### 데이터 정제 하기"
   ]
  },
  {
   "cell_type": "code",
   "execution_count": 6,
   "id": "5ede3511-beba-490e-bfb4-057ae5842e5a",
   "metadata": {},
   "outputs": [
    {
     "data": {
      "text/plain": [
       "date         12\n",
       "document    229\n",
       "label         5\n",
       "dtype: int64"
      ]
     },
     "execution_count": 6,
     "metadata": {},
     "output_type": "execute_result"
    }
   ],
   "source": [
    "# 데이터 중복 확인\n",
    "df.nunique()"
   ]
  },
  {
   "cell_type": "code",
   "execution_count": 7,
   "id": "7a508dce-8261-4e27-b68d-5ed188c4572a",
   "metadata": {},
   "outputs": [
    {
     "name": "stdout",
     "output_type": "stream",
     "text": [
      "   label  count\n",
      "0    1.0      6\n",
      "1    2.0      5\n",
      "2    3.0     23\n",
      "3    4.0     68\n",
      "4    5.0    127\n"
     ]
    }
   ],
   "source": [
    "print(df.groupby('label').size().reset_index(name = 'count'))"
   ]
  },
  {
   "cell_type": "code",
   "execution_count": 8,
   "id": "794d06b3-7efa-4940-8025-ca001799455c",
   "metadata": {},
   "outputs": [
    {
     "name": "stdout",
     "output_type": "stream",
     "text": [
      "총 샘플의 수 : 240\n"
     ]
    }
   ],
   "source": [
    "print('총 샘플의 수 :',len(df))"
   ]
  },
  {
   "cell_type": "code",
   "execution_count": 9,
   "id": "c597c3e4-1773-4598-b199-23e72ae0ea0b",
   "metadata": {},
   "outputs": [
    {
     "name": "stderr",
     "output_type": "stream",
     "text": [
      "/opt/miniconda3/lib/python3.7/site-packages/ipykernel_launcher.py:2: FutureWarning: The default value of regex will change from True to False in a future version.\n",
      "  \n"
     ]
    }
   ],
   "source": [
    "# 한글과 공백을 제외하고 모두 제거\n",
    "df['document'] = df['document'].str.replace(\"[^ㄱ-ㅎㅏ-ㅣ가-힣 ]\",\"\")"
   ]
  },
  {
   "cell_type": "code",
   "execution_count": 10,
   "id": "6a65f532-07b0-4e4b-aff6-84ad4f451879",
   "metadata": {
    "tags": []
   },
   "outputs": [],
   "source": [
    "# 결측값 제거\n",
    "df = df.dropna(axis=0)"
   ]
  },
  {
   "cell_type": "code",
   "execution_count": 11,
   "id": "965da331-8c9a-4624-bc90-d68939735dfb",
   "metadata": {},
   "outputs": [
    {
     "data": {
      "text/html": [
       "<div>\n",
       "<style scoped>\n",
       "    .dataframe tbody tr th:only-of-type {\n",
       "        vertical-align: middle;\n",
       "    }\n",
       "\n",
       "    .dataframe tbody tr th {\n",
       "        vertical-align: top;\n",
       "    }\n",
       "\n",
       "    .dataframe thead th {\n",
       "        text-align: right;\n",
       "    }\n",
       "</style>\n",
       "<table border=\"1\" class=\"dataframe\">\n",
       "  <thead>\n",
       "    <tr style=\"text-align: right;\">\n",
       "      <th></th>\n",
       "      <th>date</th>\n",
       "      <th>document</th>\n",
       "      <th>label</th>\n",
       "    </tr>\n",
       "  </thead>\n",
       "  <tbody>\n",
       "    <tr>\n",
       "      <th>0</th>\n",
       "      <td>2021년 10월</td>\n",
       "      <td>아침 일찍 와도 주차장이 여유롭지 않지만 여러가지 기구들도 많고 아이들과 놀기 너무...</td>\n",
       "      <td>5.0</td>\n",
       "    </tr>\n",
       "    <tr>\n",
       "      <th>1</th>\n",
       "      <td>2021년 10월</td>\n",
       "      <td>아이들이 좋아하고 재있어요</td>\n",
       "      <td>5.0</td>\n",
       "    </tr>\n",
       "    <tr>\n",
       "      <th>2</th>\n",
       "      <td>2021년 10월</td>\n",
       "      <td>가족들과 즐건주말 위드코로나되면 더북적북적 해지겠지</td>\n",
       "      <td>5.0</td>\n",
       "    </tr>\n",
       "    <tr>\n",
       "      <th>3</th>\n",
       "      <td>2021년 10월</td>\n",
       "      <td>오후시에 들어가서 밤 시 분까지 알차게 놀았어요 엄청 혼잡하긴 했지만 거의 모든 놀...</td>\n",
       "      <td>5.0</td>\n",
       "    </tr>\n",
       "    <tr>\n",
       "      <th>4</th>\n",
       "      <td>2021년 10월</td>\n",
       "      <td>유아 어린이가 놀기에 최고의 놀이공원</td>\n",
       "      <td>5.0</td>\n",
       "    </tr>\n",
       "  </tbody>\n",
       "</table>\n",
       "</div>"
      ],
      "text/plain": [
       "        date                                           document  label\n",
       "0  2021년 10월  아침 일찍 와도 주차장이 여유롭지 않지만 여러가지 기구들도 많고 아이들과 놀기 너무...    5.0\n",
       "1  2021년 10월                                     아이들이 좋아하고 재있어요    5.0\n",
       "2  2021년 10월                       가족들과 즐건주말 위드코로나되면 더북적북적 해지겠지    5.0\n",
       "3  2021년 10월  오후시에 들어가서 밤 시 분까지 알차게 놀았어요 엄청 혼잡하긴 했지만 거의 모든 놀...    5.0\n",
       "4  2021년 10월                               유아 어린이가 놀기에 최고의 놀이공원    5.0"
      ]
     },
     "execution_count": 11,
     "metadata": {},
     "output_type": "execute_result"
    }
   ],
   "source": [
    "df.head()"
   ]
  },
  {
   "cell_type": "code",
   "execution_count": 12,
   "id": "60d6929c-bf40-4e70-9b7c-2260033cb053",
   "metadata": {},
   "outputs": [],
   "source": [
    "stopwords = ['의','가','이','은','들','는','좀','잘','걍','과','도','를','으로','자','에','와','한','하다','방문일일','방문일']\n",
    "okt = Okt()"
   ]
  },
  {
   "cell_type": "code",
   "execution_count": 13,
   "id": "79cc4f66-b4a9-48da-95e8-4912acca7223",
   "metadata": {},
   "outputs": [
    {
     "name": "stderr",
     "output_type": "stream",
     "text": [
      "100%|█████████████████████████████████████████████████████████████| 229/229 [00:05<00:00, 41.63it/s]\n"
     ]
    }
   ],
   "source": [
    "X_train = []\n",
    "for sentence in tqdm(df['document']):\n",
    "    tokenized_sentence = okt.morphs(sentence, stem=True) # 토큰화\n",
    "    stopwords_removed_sentence = [word for word in tokenized_sentence if not word in stopwords] # 불용어 제거\n",
    "    X_train.append(stopwords_removed_sentence)"
   ]
  },
  {
   "cell_type": "code",
   "execution_count": 14,
   "id": "10c760ce-1905-47b9-babf-e770bc09efe0",
   "metadata": {},
   "outputs": [
    {
     "name": "stdout",
     "output_type": "stream",
     "text": [
      "[['아침', '일찍', '와도', '주차장', '여유롭다', '않다', '여러가지', '기구', '많다', '아이', '놀다', '너무', '좋다', '맛있다', '레스토랑', '이라고', '어렵다', '돈까스', '우동', '등', '그냥', '무난', '식당', '좋다', '끼어들다', '대해', '서', '조금', '더', '엄격하다', '감독', '바램', '이다'], ['아이', '좋아하다', '재다'], ['가족', '즐겁다', '위드', '코로나', '되다', '더', '북적', '북적', '해지', '겠다']]\n"
     ]
    }
   ],
   "source": [
    "print(X_train[:3])"
   ]
  },
  {
   "cell_type": "markdown",
   "id": "bc968b11-5702-4bf3-9899-08c880265c9f",
   "metadata": {},
   "source": [
    "### 정수 인코딩\n",
    "+ 기계가 텍스트를 숫자로 처리할 수 있도록 정수 인코딩을 수행"
   ]
  },
  {
   "cell_type": "code",
   "execution_count": 15,
   "id": "85fe955e-0bce-4352-9608-a7832f4eac8b",
   "metadata": {},
   "outputs": [],
   "source": [
    "tokenizer = Tokenizer()\n",
    "tokenizer.fit_on_texts(X_train)"
   ]
  },
  {
   "cell_type": "code",
   "execution_count": 16,
   "id": "27f02fbe-4778-479f-a552-ddeaf4644e44",
   "metadata": {
    "collapsed": true,
    "jupyter": {
     "outputs_hidden": true
    },
    "tags": []
   },
   "outputs": [
    {
     "name": "stdout",
     "output_type": "stream",
     "text": [
      "{'좋다': 1, '있다': 2, '아이': 3, '많다': 4, '놀이기구': 5, '을': 6, '놀다': 7, '이다': 8, '않다': 9, '없다': 10, '사람': 11, '너무': 12, '곳': 13, '것': 14, '가다': 15, '많이': 16, '오다': 17, '랜드': 18, '타다': 19, '다': 20, '놀이': 21, '코로나': 22, '공원': 23, '재미있다': 24, '보다': 25, '시간': 26, '같다': 27, '탈': 28, '만': 29, '로': 30, '시설': 31, '수': 32, '서': 33, '되다': 34, '좋아하다': 35, '정말': 36, '더': 37, '에서': 38, '다녀오다': 39, '서울': 40, '아쉽다': 41, '에는': 42, '어리다': 43, '제공': 44, '즐겁다': 45, '시': 46, '고': 47, '기구': 48, '가족': 49, '재밌다': 50, '최고': 51, '함께': 52, '번역': 53, '세': 54, '평일': 55, '울': 56, '나': 57, '넓다': 58, '때': 59, '비': 60, '정도': 61, '안': 62, '요': 63, '하루': 64, '줄': 65, '게': 66, '오랜': 67, '넘다': 68, '애': 69, '가격': 70, '자다': 71, '조금': 72, '분': 73, '까지': 74, '거의': 75, '어린이': 76, '기다리다': 77, '다양하다': 78, '적': 79, '에버랜드': 80, '할인': 81, '만원': 82, '먹다': 83, '저': 84, '이라': 85, '추억': 86, '들다': 87, '놀이동산': 88, '운영': 89, '그래도': 90, '그렇다': 91, '야간': 92, '가기': 93, '다니다': 94, '날': 95, '랑': 96, '장소': 97, '키': 98, '그냥': 99, '하고': 100, '유아': 101, '맛': 102, '이벤트': 103, '꽤': 104, '하나': 105, '주말': 106, '저렴하다': 107, '가깝다': 108, '무섭다': 109, '그': 110, '티켓': 111, '다른': 112, '집': 113, '이용': 114, '데리': 115, '함': 116, '인': 117, '보내다': 118, '때문': 119, '추천': 120, '음식': 121, '가성': 122, '저학년': 123, '아기': 124, '하지만': 125, '못': 126, '듯': 127, '거리': 128, '이나': 129, '처럼': 130, '원문': 131, '별로': 132, '주차장': 133, '밤': 134, '엄청': 135, '운행': 136, '년': 137, '되어다': 138, '에도': 139, '중': 140, '부터': 141, '기분': 142, '자녀': 143, '방문': 144, '이상': 145, '공연': 146, '낡다': 147, '탈것': 148, '노후': 149, '생각': 150, '지금': 151, '놀': 152, '전부': 153, '싸다': 154, '적다': 155, '종일': 156, '진짜': 157, '어른': 158, '아주': 159, '저녁': 160, '공룡': 161, '크다': 162, '없이': 163, '끊다': 164, '신나다': 165, '주차': 166, '힘들다': 167, '패스': 168, '쉬다': 169, '라': 170, '제한': 171, '코스터': 172, '월드': 173, '행복': 174, '플레이': 175, '맛있다': 176, '모든': 177, '새롭다': 178, '근데': 179, '위': 180, '원': 181, '돼다': 182, '예요': 183, '두': 184, 'ㅎ': 185, '안되다': 186, '테마': 187, '에게': 188, '화': 189, '사진': 190, '인데': 191, '필요하다': 192, '이하': 193, '떨어지다': 194, '개장': 195, '여기': 196, '바람': 197, '말': 198, '타고': 199, '느낌': 200, '알다': 201, '딱': 202, '산책': 203, '문': 204, '어': 205, '권': 206, '몇': 207, '부족하다': 208, '아들': 209, '개': 210, '타': 211, '편하다': 212, '엔': 213, '전': 214, '루나': 215, '하': 216, '근교': 217, '운': 218, '입장': 219, '자리': 220, '점': 221, '알': 222, '롯데': 223, '롤러': 224, '드리다': 225, '간식': 226, '스릴': 227, '별': 228, '중간': 229, '일찍': 230, '등': 231, '재다': 232, '들어가다': 233, '가까이': 234, '축제': 235, '시기': 236, '가능': 237, '늦다': 238, '이후': 239, '초등': 240, '파크': 241, '즐기다': 242, '다만': 243, '닫다': 244, '오래되다': 245, '보이다': 246, 'ㅜㅜ': 247, '그리고': 248, '지다': 249, '늘다': 250, '입장료': 251, '공기': 252, '이즈': 253, '성인': 254, '아프다': 255, '일': 256, '오늘': 257, '만큼': 258, '먹거리': 259, '쏘다': 260, '꼭': 261, '거': 262, '분위기': 263, '딱이다': 264, '기': 265, '얼음': 266, '컵': 267, '말다': 268, '멋지다': 269, '줄이다': 270, '덥다': 271, '장점': 272, '공간': 273, '가면': 274, '항상': 275, '동': 276, '끝나다': 277, '비교': 278, '입구': 279, '연간': 280, '인근': 281, '차다': 282, '가세': 283, '직원': 284, '예약': 285, '둘': 286, '이랑': 287, '살': 288, '대': 289, '동물원': 290, '휴': 291, '부담': 292, '구매': 293, '대비': 294, '볼거리': 295, '충분하다': 296, '내다': 297, '천국': 298, '이번': 299, '걸리다': 300, '받다': 301, '대부분': 302, '오전': 303, '나다': 304, '명': 305, '괜찮다': 306, '안해': 307, '강추': 308, '제일': 309, '스카이': 310, '올라가다': 311, '예전': 312, '챙기다': 313, '높다': 314, '서고': 315, '아빠': 316, '여러가지': 317, '식당': 318, '북적': 319, '알차다': 320, '네': 321, '주막': 322, '생': 323, '최악': 324, '행사': 325, '버스킹': 326, '같이': 327, '서다': 328, '적합하다': 329, '동문': 330, '지하철': 331, '오래': 332, '대다': 333, '결혼': 334, '탑승': 335, '국내': 336, '최초': 337, '서울대': 338, '연령': 339, '대의': 340, '곳도': 341, '인지': 342, '무엇': 343, '모르다': 344, 'ㅠㅠ': 345, '보수': 346, '화장실': 347, '관리': 348, '즐거움': 349, '허다': 350, '돌아가다': 351, '타고나다': 352, '멀미': 353, '우리': 354, '가지다': 355, '에게는': 356, '외': 357, '빼다': 358, '놀이터': 359, '내리다': 360, '안전벨트': 361, '한테': 362, '조': 363, '답답하다': 364, '에겐': 365, '봄': 366, '싸': 367, '블랙홀': 368, '맞다': 369, '나오다': 370, '느끼다': 371, '에요': 372, '한번': 373, '구타': 374, '어떻다': 375, '특히': 376, '놀수': 377, '뛰다': 378, '딱좋다': 379, '지': 380, '들이다': 381, '굿': 382, '천원': 383, '짜다': 384, '집다': 385, '뚜껑': 386, '터지다': 387, '요즘': 388, '레트로': 389, '매우': 390, '이용권': 391, '탐험': 392, '넘어서다': 393, '실컷': 394, '인거': 395, '보다는': 396, 'ㅎㅎ': 397, '초': 398, '소풍': 399, '본': 400, '바로': 401, '쇼': 402, '찍다': 403, '여름': 404, '제': 405, '맞추다': 406, '수도권': 407, '살다': 408, '물론': 409, '오픈': 410, '해주다': 411, '애기': 412, '걸다': 413, '기다림': 414, '니': 415, '도착': 416, '다가': 417, '바뀌다': 418, '프렌': 419, '차': 420, '감사하다': 421, '끼리': 422, '작은딸': 423, '처음': 424, '보고': 425, '위치': 426, '붐비다': 427, '치': 428, '이지': 429, '유치원': 430, '전체': 431, '길다': 432, '읍니': 433, '정신': 434, '싶다': 435, '대기': 436, '동안': 437, '이렇다': 438, '지난번': 439, '대신': 440, '사용': 441, '나서다': 442, '음식점': 443, '냄새': 444, '조카': 445, '나들이': 446, '행복하다': 447, '용': 448, '좁다': 449, '아직': 450, '소리': 451, '무료': 452, '또': 453, '초등학생': 454, '야외': 455, '주다': 456, '및': 457, '연인': 458, '완전': 459, '아': 460, '두다': 461, '밥': 462, '공': 463, '초딩': 464, '그것': 465, '훌륭하다': 466, '외국인': 467, '가지': 468, '잘알다': 469, '무슨': 470, '정문': 471, '맛집': 472, '자주': 473, '무조건': 474, '분들': 475, '어지러움': 476, '아동': 477, '라바': 478, '도깨비': 479, '열차': 480, '높이': 481, '앞': 482, '신한카드': 483, '퀄리티': 484, '낮다': 485, '넉': 486, '단계': 487, '이지만': 488, '두기': 489, '카드': 490, '가볍다': 491, '어트랙션': 492, '눈썰매장': 493, '따뜻하다': 494, '넘치다': 495, '이야기': 496, '음': 497, '친구': 498, '날씨': 499, '다시': 500, '젠': 501, '방역': 502, '경우': 503, '이제': 504, '음악': 505, '시절': 506, '운동': 507, '면': 508, '국민카드': 509, '짧다': 510, '돌아다니다': 511, '치고는': 512, '뭔가': 513, '핫도그': 514, '아침': 515, '와도': 516, '여유롭다': 517, '레스토랑': 518, '이라고': 519, '어렵다': 520, '돈까스': 521, '우동': 522, '무난': 523, '끼어들다': 524, '대해': 525, '엄격하다': 526, '감독': 527, '바램': 528, '위드': 529, '해지': 530, '겠다': 531, '오': 532, '후시': 533, '혼잡하다': 534, '기도': 535, '가을': 536, '쌀쌀하다': 537, '몇몇': 538, '그대로': 539, '떡뽁이': 540, '절대': 541, '총알': 542, '가버리다': 543, '투입': 544, '함정': 545, '면적': 546, '각종': 547, '미술': 548, '관도': 549, '역사': 550, '오니': 551, '시각': 552, '편의': 553, '깨끗하다': 554, '청결하다': 555, '실망': 556, '들어오다': 557, '경품': 558, '쟁취': 559, '위해': 560, '경쟁': 561, '종': 562, '동물': 563, '관찰': 564, '여행자': 565, '친': 566, '관광': 567, '허브': 568, '찍': 569, '최근': 570, '지는': 571, '공포': 572, '마니아': 573, '귀신': 574, '만으로': 575, '본전': 576, '뽑다': 577, '부분': 578, '장비': 579, '고치다': 580, '추가': 581, '개발': 582, '보임': 583, '불구': 584, '만의': 585, '알바생': 586, '불친절하다': 587, '포토': 588, '존': 589, '연': 590, '인간': 591, '러': 592, '그거슨': 593, '보정': 594, '접다': 595, '아직도': 596, '신기하다': 597, '이상하다': 598, '남': 599, '나름': 600, '발전': 601, '이루다': 602, '모해': 603, '손': 604, '주덕': 605, '단': 606, '부수': 607, '비용': 608, '촤고': 609, '명품': 610, '힘드다': 611, '일명': 612, '청룡열차': 613, '류': 614, '다소': 615, '작다': 616, '어깨': 617, '불편하다': 618, '꽉': 619, '허리': 620, '굽다': 621, '무리': 622, '혼나다': 623, '분명하다': 624, '개선': 625, '필요성': 626, '명절': 627, '전날': 628, '가끔': 629, '들르다': 630, '드물다': 631, '하루빨리': 632, '벗어나다': 633, '낫다': 634, '완만': 635, '부지': 636, '특별하다': 637, '끼': 638, '대충': 639, '떼다': 640, '온몸': 641, '타박상': 642, '입다': 643, '이에요': 644, '당해': 645, '보지': 646, '내내': 647, '한데': 648, '모이다': 649, '운용': 650, '건': 651, '어쩔': 652, '다리': 653, '기념품': 654, '가게': 655, '좀더': 656, '제품': 657, '매점': 658, '사려': 659, '비닐': 660, '돈내': 661, '라고': 662, '속상하다': 663, '사지': 664, '물다': 665, '시대': 666, '감성': 667, '제대로': 668, '발휘': 669, '어린시절': 670, '스트레스': 671, '날다': 672, '버리다': 673, '매일': 674, '군데군데': 675, '관': 676, '빛': 677, '예쁘다': 678, '서지': 679, '시국': 680, '탓': 681, '쩔다': 682, '축소': 683, '매': 684, '점등': 685, '잠시': 686, '즐': 687, '기기': 688, '키즈': 689, '카페': 690, '아가': 691, '실내': 692, '요키': 693, '쪼끔': 694, '램': 695, '쩐다': 696, '딸': 697, '래미': 698, '사랑받다': 699, '기자': 700, '리지': 701, '중고': 702, '이렇게': 703, '곤': 704, '십년': 705, '만인': 706, '경험': 707, 'ㅋ': 708, '여유': 709, '금방': 710, '금토일': 711, '레이저': 712, '당일': 713, '모기': 714, '모': 715, '퇴치': 716, '필수': 717, '장마철': 718, '설': 719, '일도': 720, '해': 721, '필요없다': 722, '죠': 723, '안양': 724, '평촌': 725, '산본': 726, '의왕': 727, '애버랜드': 728, '만요': 729, '비싸다': 730, '초등생': 731, '신용카드': 732, '패쓰': 733, '핸드폰': 734, '마다': 735, '깔다': 736, '줄다': 737, '듭': 738, '다루다': 739, '에만': 740, '다르다': 741, '신분': 742, '불다': 743, '주심': 744, '최하': 745, '무더위': 746, '속': 747, '에서도': 748, '웃음': 749, '반기다': 750, '오기': 751, '변화': 752, '그렇지만': 753, '큰딸': 754, '체험학습': 755, '신청': 756, '출발': 757, '이어서': 758, '한산': 759, '다담': 760, '면서': 761, '국립': 762, '현': 763, '미술관': 764, '상': 765, '애니메이션': 766, '트랙': 767, '션': 768, '중단': 769, '태우다': 770, '가야': 771, '한적하다': 772, '미리': 773, '확인': 774, '표': 775, '라구요': 776, '이쁘다': 777, '난': 778, '장식': 779, '복원': 780, '엔터테인먼트': 781, '프로그램': 782, '명소': 783, '일단': 784, '롤러코스터': 785, '탈고': 786, '돌다': 787, '머리': 788, '줄겁': 789, '기쁘다': 790, '긿': 791, '잃다': 792, '십상': 793, '업그레이드': 794, '성공하다': 795, '런가': 796, '리뉴얼좀': 797, '기르다': 798, '바랬는데': 799, '뭐': 800, '달라': 801, '정글짐': 802, '오류': 803, '크게': 804, '단위': 805, '서기': 806, '매너': 807, '형편': 808, '어플': 809, '일요일': 810, '탈수': 811, '후론': 812, '맛없다': 813, '닭꼬치': 814, '심하다': 815, '환불': 816, '엿': 817, '어요': 818, '따로': 819, '걸어가다': 820, '돈': 821, '둘러보다': 822, '에버': 823, '땡': 824, '체계': 825, '뒤죽박죽': 826, '얽히다': 827, '기본': 828, '접속': 829, '겸': 830, '고모': 831, '더라구요': 832, '살이': 833, '예': 834, '다양': 835, '한편': 836, '술': 837, '중심': 838, '대중교통': 839, '접근': 840, '용이하다': 841, '월요일': 842, '한산하다': 843, '적절하다': 844, '수로': 845, '터': 846, '울다': 847, '달래다': 848, '네이버': 849, '싀': 850, '라도': 851, '드글드글': 852, '까지는': 853, '안성맞춤': 854, '미끄럼틀': 855, '햐': 856, '파다': 857, '유용하다': 858, '영': 859, '흐흐': 860, '들리다': 861, '여기다': 862, '저희': 863, '따님': 864, '회': 865, '맞벌이': 866, '부부': 867, '교대': 868, '장터': 869, '개월': 870, '슬픔': 871, '약간': 872, '올드': 873, '원안': 874, '환타': 875, '스틱': 876, '라면': 877, '갈다': 878, '만들다': 879, '광고': 880, '소중하다': 881, '만들기': 882, '짱': 883, '요기': 884, '팁': 885, '후문': 886, '훨씬': 887, '오후': 888, '휴장': 889, '조금씩': 890, '고학년': 891, '시시하다': 892, '마음': 893, '시전': 894, '차이': 895, '용하다': 896, '말고': 897, '변동': 898, '벌레': 899, '유발': 900, '암': 901, '안함': 902, '미취': 903, '학': 904, '일지': 905, '센티미터': 906, '이상인': 907, '엑스': 908, '플라이': 909, '적당하다': 910, '추움': 911, '이라는': 912, '그런데': 913, '수도': 914, '주의': 915, '참고': 916, '고소공포증': 917, '타지': 918, '고요': 919, '옆': 920, '샷드롭': 921, '꼭대기': 922, '손주': 923, '지내다': 924, '만에': 925, '모두': 926, '위주': 927, '중인': 928, '노인': 929, '게임': 930, '싫다': 931, '없어지다': 932, '친절': 933, '위생': 934, '상태': 935, '식기': 936, '찐득찐득': 937, '린네': 938, '나요': 939, '초밥': 940, '씌우다': 941, '그게': 942, '회전': 943, '침': 944, '찝찝하다': 945, '보통': 946, '간지': 947, '덕': 948, '쥬라기': 949, '실망하다': 950, '몰다': 951, '넣다': 952, '여전하다': 953, '열악하다': 954, '상황': 955, '자금': 956, '민망하다': 957, '굳이': 958, '볼': 959, '필요': 960, '보이': 961, '며': 962, '는걸': 963, '마스크': 964, '착용': 965, '객': 966, '지키다': 967, '안심': 968, '입장권': 969, '참조': 970, '녹슬다': 971, '걱정': 972, '풀리다': 973, '어마어마하다': 974, '곳곳': 975, '손소독제': 976, '비치': 977, '에드': 978, '손잡이': 979, '소독약': 980, '칙칙': 981, '쌓다': 982, '동산': 983, '야경': 984, '특화되': 985, '근접': 986, '특화된': 987, '쯤': 988, '많아지다': 989, '어제': 990, '히터': 991, '히터룸': 992, '금은': 993, '춥다': 994, '서인': 995, '굉장하다': 996, '한가하다': 997, '덕분': 998, '자유': 999, '그만큼': 1000, '휴가': 1001, '산': 1002, '두르다': 1003, '산새': 1004, '소재': 1005, '뚝불': 1006, '고기': 1007, '그래서': 1008, '스타일': 1009, '데리다': 1010, '유원지': 1011, '눈': 1012, '띄다': 1013, '관광객': 1014, '한국': 1015, '클럽': 1016, '활동': 1017, '떠나다': 1018, '영하': 1019, '이고': 1020, '좌석': 1021, '첫': 1022, '번째': 1023, '치다': 1024, '추위': 1025, '입': 1026, '비명': 1027, '지르다': 1028, '다다르다': 1029, '만나다': 1030, '숫자': 1031, '대한': 1032, '공중': 1033, '제비': 1034, '재미': 1035, '가치': 1036, '하하': 1037, '각': 1038, '기간': 1039, '끄다': 1040, '동일하다': 1041, '약': 1042, '원하다': 1043, '라운드': 1044, '끝내다': 1045, '방어': 1046, '플레이어': 1047, '차갑다': 1048, '막히다': 1049, '학창시절': 1050, '떠올리다': 1051, '좋아지다': 1052, '월': 1053, '할로윈': 1054, '장': 1055, '식이': 1056, '실시': 1057, '일부': 1058, '밉다': 1059, '요새': 1060, '롭고': 1061, '친근하다': 1062, '전세': 1063, '듭니': 1064, '빨리': 1065, '걷다': 1066, '코스': 1067, '찍기': 1068, '폐장': 1069, '박다': 1070, '놀라다': 1071, '피크닉': 1072, '준비': 1073, '때로는': 1074, '권위': 1075, '의하다': 1076, '배열': 1077, '수준': 1078, '조명': 1079, '현장': 1080, '자미': 1081, '불안하다': 1082, '맘': 1083, '교통량': 1084, '전반': 1085, '트래픽': 1086, '호수': 1087, '나이': 1088, '든': 1089, '충': 1090, '싸하다': 1091, '음료': 1092, '온': 1093, '흘리다': 1094, '몽땅': 1095, '갖다': 1096, '엄마': 1097, '학년': 1098, '동생': 1099, '넉넉하다': 1100, '사': 1101, '이서': 1102, '오시': 1103, '은하수': 1104, '위험하다': 1105, '개인': 1106, '습': 1107, '니드': 1108, '전등': 1109, '굳다': 1110, '째': 1111, '휴식': 1112, '후': 1113, '첨으로': 1114, '만남': 1115, '건강하다': 1116, '모습': 1117, '흐뭇하다': 1118, '놓다': 1119, '별루': 1120, '여서': 1121, '깎다': 1122, '비추다': 1123, '포장': 1124, '나중': 1125, '조용하다': 1126, '친절하다': 1127, '가능하다': 1128, '여러': 1129, '모로': 1130, '부모': 1131, '동승': 1132, '종종': 1133, '가요': 1134, '늘': 1135, '통신사': 1136, '슴': 1137, '좋았슴': 1138, '무색': 1139, '한개': 1140, '개입': 1141, '간다': 1142, '설정': 1143, '개지': 1144, '별개': 1145, '개정': 1146, '박': 1147, '냥': 1148, '전쟁': 1149, '완젼': 1150, '평지': 1151, '쫌': 1152, '보단': 1153, '동반': 1154, '가보다': 1155, '만하': 1156, '키우다': 1157, '사실': 1158, '그런': 1159, '데려가다': 1160, '기준': 1161, '경사지다': 1162, '계단': 1163, '바퀴': 1164, '데': 1165, '스낵': 1166, '합리': 1167, '월등하다': 1168, '찾기': 1169, '쉽다': 1170, '편이': 1171, '기저귀': 1172, '갈이': 1173, '씩': 1174, '만수': 1175, '유실': 1176, '아쉬움': 1177, '다운': 1178, '도거': 1179, '지치다': 1180, '힘': 1181, '빠지다': 1182, 'ㅋㅋ': 1183, '쓰다': 1184, '객관': 1185, '점애': 1186, '로서': 1187, '편파': 1188, '다섯': 1189, '활발하다': 1190, '아아': 1191, '그리다': 1192, '비다': 1193, '사이': 1194, '크레페': 1195, '스': 1196, '페로': 1197, '스페라': 1198, '언제나': 1199, '길': 1200, '코너': 1201, '아니다': 1202, '찾아가다': 1203}\n"
     ]
    }
   ],
   "source": [
    "print(tokenizer.word_index)"
   ]
  },
  {
   "cell_type": "code",
   "execution_count": 17,
   "id": "2771bc50-31e2-4681-afea-247525543052",
   "metadata": {},
   "outputs": [
    {
     "name": "stdout",
     "output_type": "stream",
     "text": [
      "단어 집합(vocabulary)의 크기 : 1203\n",
      "등장 빈도가 2번 이하인 희귀 단어의 수: 887\n",
      "단어 집합에서 희귀 단어의 비율: 73.73233582709892\n",
      "전체 등장 빈도에서 희귀 단어 등장 빈도 비율: 28.825717321997875\n"
     ]
    }
   ],
   "source": [
    "threshold = 3\n",
    "total_cnt = len(tokenizer.word_index) # 단어의 수\n",
    "rare_cnt = 0 # 등장 빈도수가 threshold보다 작은 단어의 개수를 카운트\n",
    "total_freq = 0 # 훈련 데이터의 전체 단어 빈도수 총 합\n",
    "rare_freq = 0 # 등장 빈도수가 threshold보다 작은 단어의 등장 빈도수의 총 합\n",
    "\n",
    "# 단어와 빈도수의 쌍(pair)을 key와 value로 받는다.\n",
    "for key, value in tokenizer.word_counts.items():\n",
    "    total_freq = total_freq + value\n",
    "\n",
    "    # 단어의 등장 빈도수가 threshold보다 작으면\n",
    "    if(value < threshold):\n",
    "        rare_cnt = rare_cnt + 1\n",
    "        rare_freq = rare_freq + value\n",
    "\n",
    "print('단어 집합(vocabulary)의 크기 :',total_cnt)\n",
    "print('등장 빈도가 %s번 이하인 희귀 단어의 수: %s'%(threshold - 1, rare_cnt))\n",
    "print(\"단어 집합에서 희귀 단어의 비율:\", (rare_cnt / total_cnt)*100)\n",
    "print(\"전체 등장 빈도에서 희귀 단어 등장 빈도 비율:\", (rare_freq / total_freq)*100)"
   ]
  },
  {
   "cell_type": "code",
   "execution_count": 18,
   "id": "7e7fd47b-d680-4761-981d-51463601a964",
   "metadata": {},
   "outputs": [
    {
     "name": "stdout",
     "output_type": "stream",
     "text": [
      "단어 집합의 크기 : 317\n"
     ]
    }
   ],
   "source": [
    "# 전체 단어 개수 중 빈도수 2이하인 단어는 제거.\n",
    "# 0번 패딩 토큰을 고려하여 + 1\n",
    "vocab_size = total_cnt - rare_cnt + 1\n",
    "print('단어 집합의 크기 :',vocab_size)"
   ]
  },
  {
   "cell_type": "code",
   "execution_count": 19,
   "id": "536fae2f-697f-482d-adf7-4e0ed9f81d1a",
   "metadata": {},
   "outputs": [],
   "source": [
    "tokenizer = Tokenizer(vocab_size) \n",
    "tokenizer.fit_on_texts(X_train)\n",
    "X_train = tokenizer.texts_to_sequences(X_train)"
   ]
  },
  {
   "cell_type": "code",
   "execution_count": 20,
   "id": "30aaaff1-394a-4ca0-84a5-4eb18b39bf2e",
   "metadata": {},
   "outputs": [
    {
     "name": "stdout",
     "output_type": "stream",
     "text": [
      "[[230, 133, 9, 48, 4, 3, 7, 12, 1, 176, 231, 99, 1, 33, 72, 37, 8], [3, 35, 232], [49, 45, 22, 34, 37]]\n"
     ]
    }
   ],
   "source": [
    "print(X_train[:3])"
   ]
  },
  {
   "cell_type": "code",
   "execution_count": 21,
   "id": "fb5598c9-50cd-4cfb-89f4-0b58372d62f9",
   "metadata": {},
   "outputs": [],
   "source": [
    "y_train = np.array(df['label'])"
   ]
  },
  {
   "cell_type": "code",
   "execution_count": 22,
   "id": "2e246768-6011-48e4-bf12-b3ed0ca1215a",
   "metadata": {},
   "outputs": [],
   "source": [
    "drop_train = [index for index, sentence in enumerate(X_train) if len(sentence) < 1]"
   ]
  },
  {
   "cell_type": "code",
   "execution_count": 23,
   "id": "796b4517-a83a-4334-80d3-5bc1d9be2ca0",
   "metadata": {},
   "outputs": [
    {
     "name": "stdout",
     "output_type": "stream",
     "text": [
      "227\n",
      "227\n"
     ]
    },
    {
     "name": "stderr",
     "output_type": "stream",
     "text": [
      "/home/hadoop/.local/lib/python3.7/site-packages/numpy/core/_asarray.py:83: VisibleDeprecationWarning: Creating an ndarray from ragged nested sequences (which is a list-or-tuple of lists-or-tuples-or ndarrays with different lengths or shapes) is deprecated. If you meant to do this, you must specify 'dtype=object' when creating the ndarray\n",
      "  return array(a, dtype, copy=False, order=order)\n"
     ]
    }
   ],
   "source": [
    "# 빈 샘플들을 제거\n",
    "X_train = np.delete(X_train, drop_train, axis=0)\n",
    "y_train = np.delete(y_train, drop_train, axis=0)\n",
    "print(len(X_train))\n",
    "print(len(y_train))"
   ]
  },
  {
   "cell_type": "code",
   "execution_count": 24,
   "id": "c9f05538-41b7-45a9-a205-648410436a69",
   "metadata": {},
   "outputs": [
    {
     "name": "stdout",
     "output_type": "stream",
     "text": [
      "리뷰의 최대 길이 : 115\n",
      "리뷰의 평균 길이 : 11.801762114537445\n"
     ]
    },
    {
     "data": {
      "image/png": "[encoded data removed]",
      "text/plain": [
       "<Figure size 432x288 with 1 Axes>"
      ]
     },
     "metadata": {
      "needs_background": "light"
     },
     "output_type": "display_data"
    }
   ],
   "source": [
    "print('리뷰의 최대 길이 :',max(len(l) for l in X_train))\n",
    "print('리뷰의 평균 길이 :',sum(map(len, X_train))/len(X_train))\n",
    "plt.hist([len(s) for s in X_train], bins=50)\n",
    "plt.xlabel('length of samples')\n",
    "plt.ylabel('number of samples')\n",
    "plt.show()"
   ]
  },
  {
   "cell_type": "code",
   "execution_count": 25,
   "id": "9b9892e0-5c33-4697-8e2f-4dc66796d7cf",
   "metadata": {},
   "outputs": [],
   "source": [
    "def below_threshold_len(max_len, nested_list):\n",
    "  count = 0\n",
    "  for sentence in nested_list:\n",
    "    if(len(sentence) <= max_len):\n",
    "        count = count + 1\n",
    "  print('전체 샘플 중 길이가 %s 이하인 샘플의 비율: %s'%(max_len, (count / len(nested_list))*100))"
   ]
  },
  {
   "cell_type": "code",
   "execution_count": 26,
   "id": "497a786f-ecc5-4051-ad18-a15cf025816b",
   "metadata": {},
   "outputs": [
    {
     "name": "stdout",
     "output_type": "stream",
     "text": [
      "전체 샘플 중 길이가 30 이하인 샘플의 비율: 95.15418502202643\n"
     ]
    }
   ],
   "source": [
    "max_len = 30\n",
    "below_threshold_len(max_len, X_train)"
   ]
  },
  {
   "cell_type": "code",
   "execution_count": 27,
   "id": "86b93e08-1546-4fa9-8784-b8540d0dbb3d",
   "metadata": {},
   "outputs": [],
   "source": [
    "X_train = pad_sequences(X_train, maxlen = max_len)"
   ]
  },
  {
   "cell_type": "markdown",
   "id": "59314e3e-dabb-477d-90ac-b8e6c8b088d0",
   "metadata": {},
   "source": [
    "### LSTM으로 영화 리뷰 하기"
   ]
  },
  {
   "cell_type": "code",
   "execution_count": 28,
   "id": "229518e7-14c2-4262-a97f-25435230c285",
   "metadata": {},
   "outputs": [],
   "source": [
    "from tensorflow.keras.layers import Embedding, Dense, LSTM\n",
    "from tensorflow.keras.models import Sequential\n",
    "from tensorflow.keras.models import load_model\n",
    "from tensorflow.keras.callbacks import EarlyStopping, ModelCheckpoint"
   ]
  },
  {
   "cell_type": "code",
   "execution_count": 29,
   "id": "fbce90e3-dc98-4c34-ba13-9936fd1b8982",
   "metadata": {},
   "outputs": [
    {
     "name": "stderr",
     "output_type": "stream",
     "text": [
      "2021-12-16 11:15:06.436068: W tensorflow/stream_executor/platform/default/dso_loader.cc:64] Could not load dynamic library 'libcuda.so.1'; dlerror: libcuda.so.1: cannot open shared object file: No such file or directory\n",
      "2021-12-16 11:15:06.454182: W tensorflow/stream_executor/cuda/cuda_driver.cc:326] failed call to cuInit: UNKNOWN ERROR (303)\n",
      "2021-12-16 11:15:06.454344: I tensorflow/stream_executor/cuda/cuda_diagnostics.cc:156] kernel driver does not appear to be running on this host (localhost.localdomain): /proc/driver/nvidia/version does not exist\n",
      "2021-12-16 11:15:06.473981: I tensorflow/core/platform/cpu_feature_guard.cc:142] This TensorFlow binary is optimized with oneAPI Deep Neural Network Library (oneDNN) to use the following CPU instructions in performance-critical operations:  AVX2 FMA\n",
      "To enable them in other operations, rebuild TensorFlow with the appropriate compiler flags.\n"
     ]
    }
   ],
   "source": [
    "embedding_dim = 100\n",
    "hidden_units = 128\n",
    "\n",
    "model = Sequential()\n",
    "model.add(Embedding(vocab_size, embedding_dim))\n",
    "model.add(LSTM(hidden_units))\n",
    "model.add(Dense(1, activation='sigmoid'))"
   ]
  },
  {
   "cell_type": "code",
   "execution_count": 30,
   "id": "78475774-44e5-4bf3-a676-3f9d4ae6a87a",
   "metadata": {},
   "outputs": [],
   "source": [
    "es = EarlyStopping(monitor='val_loss', mode='min', verbose=1, patience=4)\n",
    "mc = ModelCheckpoint('best_model.h5', monitor='val_acc', mode='max', verbose=1, save_best_only=True)"
   ]
  },
  {
   "cell_type": "code",
   "execution_count": 31,
   "id": "95ec879a-46ab-4a03-96b6-51da679d891a",
   "metadata": {
    "collapsed": true,
    "jupyter": {
     "outputs_hidden": true
    },
    "tags": []
   },
   "outputs": [
    {
     "name": "stderr",
     "output_type": "stream",
     "text": [
      "2021-12-16 11:15:07.487526: I tensorflow/compiler/mlir/mlir_graph_optimization_pass.cc:176] None of the MLIR Optimization Passes are enabled (registered 2)\n",
      "2021-12-16 11:15:07.503412: I tensorflow/core/platform/profile_utils/cpu_utils.cc:114] CPU Frequency: 3192000000 Hz\n"
     ]
    },
    {
     "name": "stdout",
     "output_type": "stream",
     "text": [
      "Epoch 1/15\n",
      "3/3 [==============================] - 2s 203ms/step - loss: -0.0434 - acc: 0.0110 - val_loss: -10.9803 - val_acc: 0.0217\n",
      "\n",
      "Epoch 00001: val_acc improved from -inf to 0.02174, saving model to best_model.h5\n",
      "Epoch 2/15\n",
      "3/3 [==============================] - 0s 48ms/step - loss: -19.6908 - acc: 0.0276 - val_loss: -31.4507 - val_acc: 0.0217\n",
      "\n",
      "Epoch 00002: val_acc did not improve from 0.02174\n",
      "Epoch 3/15\n",
      "3/3 [==============================] - 0s 47ms/step - loss: -33.5286 - acc: 0.0276 - val_loss: -38.6206 - val_acc: 0.0217\n",
      "\n",
      "Epoch 00003: val_acc did not improve from 0.02174\n",
      "Epoch 4/15\n",
      "3/3 [==============================] - 0s 44ms/step - loss: -39.8036 - acc: 0.0276 - val_loss: -43.6858 - val_acc: 0.0217\n",
      "\n",
      "Epoch 00004: val_acc did not improve from 0.02174\n",
      "Epoch 5/15\n",
      "3/3 [==============================] - 0s 43ms/step - loss: -44.4343 - acc: 0.0276 - val_loss: -47.5079 - val_acc: 0.0217\n",
      "\n",
      "Epoch 00005: val_acc did not improve from 0.02174\n",
      "Epoch 6/15\n",
      "3/3 [==============================] - 0s 48ms/step - loss: -47.8396 - acc: 0.0276 - val_loss: -50.3212 - val_acc: 0.0217\n",
      "\n",
      "Epoch 00006: val_acc did not improve from 0.02174\n",
      "Epoch 7/15\n",
      "3/3 [==============================] - 0s 53ms/step - loss: -50.4377 - acc: 0.0276 - val_loss: -52.6614 - val_acc: 0.0217\n",
      "\n",
      "Epoch 00007: val_acc did not improve from 0.02174\n",
      "Epoch 8/15\n",
      "3/3 [==============================] - 0s 45ms/step - loss: -52.7043 - acc: 0.0276 - val_loss: -54.8906 - val_acc: 0.0217\n",
      "\n",
      "Epoch 00008: val_acc did not improve from 0.02174\n",
      "Epoch 9/15\n",
      "3/3 [==============================] - 0s 50ms/step - loss: -54.8496 - acc: 0.0276 - val_loss: -56.9050 - val_acc: 0.0217\n",
      "\n",
      "Epoch 00009: val_acc did not improve from 0.02174\n",
      "Epoch 10/15\n",
      "3/3 [==============================] - 0s 48ms/step - loss: -56.7569 - acc: 0.0276 - val_loss: -58.6889 - val_acc: 0.0217\n",
      "\n",
      "Epoch 00010: val_acc did not improve from 0.02174\n",
      "Epoch 11/15\n",
      "3/3 [==============================] - 0s 51ms/step - loss: -58.4731 - acc: 0.0276 - val_loss: -60.3437 - val_acc: 0.0217\n",
      "\n",
      "Epoch 00011: val_acc did not improve from 0.02174\n",
      "Epoch 12/15\n",
      "3/3 [==============================] - 0s 43ms/step - loss: -60.0737 - acc: 0.0276 - val_loss: -61.9095 - val_acc: 0.0217\n",
      "\n",
      "Epoch 00012: val_acc did not improve from 0.02174\n",
      "Epoch 13/15\n",
      "3/3 [==============================] - 0s 49ms/step - loss: -61.6050 - acc: 0.0276 - val_loss: -63.4496 - val_acc: 0.0217\n",
      "\n",
      "Epoch 00013: val_acc did not improve from 0.02174\n",
      "Epoch 14/15\n",
      "3/3 [==============================] - 0s 49ms/step - loss: -63.1264 - acc: 0.0276 - val_loss: -64.9868 - val_acc: 0.0217\n",
      "\n",
      "Epoch 00014: val_acc did not improve from 0.02174\n",
      "Epoch 15/15\n",
      "3/3 [==============================] - 0s 43ms/step - loss: -64.6331 - acc: 0.0276 - val_loss: -66.4886 - val_acc: 0.0217\n",
      "\n",
      "Epoch 00015: val_acc did not improve from 0.02174\n"
     ]
    }
   ],
   "source": [
    "model.compile(optimizer='rmsprop', loss='binary_crossentropy', metrics=['acc'])\n",
    "history = model.fit(X_train, y_train, epochs=15, callbacks=[es, mc], batch_size=64, validation_split=0.2)"
   ]
  },
  {
   "cell_type": "code",
   "execution_count": 32,
   "id": "b68d3086-52a7-4c70-b1b6-e7ece8b0fbb2",
   "metadata": {},
   "outputs": [
    {
     "name": "stdout",
     "output_type": "stream",
     "text": [
      "8/8 [==============================] - 0s 8ms/step - loss: -11.2736 - acc: 0.0264\n",
      "\n",
      " 테스트 정확도: 0.0264\n"
     ]
    }
   ],
   "source": [
    "loaded_model = load_model('best_model.h5')\n",
    "print(\"\\n 테스트 정확도: %.4f\" % (loaded_model.evaluate(X_train, y_train)[1]))"
   ]
  },
  {
   "cell_type": "markdown",
   "id": "779f94b9-8255-4da4-b59b-f272aa20c35a",
   "metadata": {},
   "source": [
    "### 리뷰 예측해보기"
   ]
  },
  {
   "cell_type": "code",
   "execution_count": 33,
   "id": "7697c769-8e63-4cd7-a6ae-f5bc614d8189",
   "metadata": {},
   "outputs": [],
   "source": [
    "def sentiment_predict(new_sentence):\n",
    "  new_sentence = re.sub(r'[^ㄱ-ㅎㅏ-ㅣ가-힣 ]','', new_sentence)\n",
    "  new_sentence = okt.morphs(new_sentence, stem=True) # 토큰화\n",
    "  new_sentence = [word for word in new_sentence if not word in stopwords] # 불용어 제거\n",
    "  encoded = tokenizer.texts_to_sequences([new_sentence]) # 정수 인코딩\n",
    "  pad_new = pad_sequences(encoded, maxlen = max_len) # 패딩\n",
    "  score = float(loaded_model.predict(pad_new)) # 예측\n",
    "  if(score > 0.5):\n",
    "    print(\"{:.2f}% 확률로 긍정 리뷰입니다.\\n\".format(score * 100))\n",
    "  else:\n",
    "    print(\"{:.2f}% 확률로 부정 리뷰입니다.\\n\".format((1 - score) * 100))"
   ]
  },
  {
   "cell_type": "code",
   "execution_count": 34,
   "id": "1cba5d57-ebac-4a2f-8634-ac81a4a1ae61",
   "metadata": {},
   "outputs": [
    {
     "name": "stdout",
     "output_type": "stream",
     "text": [
      "98.00% 확률로 긍정 리뷰입니다.\n",
      "\n"
     ]
    }
   ],
   "source": [
    "sentiment_predict('아이')"
   ]
  }
 ],
 "metadata": {
  "kernelspec": {
   "display_name": "Python 3 (ipykernel)",
   "language": "python",
   "name": "python3"
  },
  "language_info": {
   "codemirror_mode": {
    "name": "ipython",
    "version": 3
   },
   "file_extension": ".py",
   "mimetype": "text/x-python",
   "name": "python",
   "nbconvert_exporter": "python",
   "pygments_lexer": "ipython3",
   "version": "3.7.10"
  }
 },
 "nbformat": 4,
 "nbformat_minor": 5
}
