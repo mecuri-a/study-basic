{
 "cells": [
  {
   "cell_type": "code",
   "execution_count": 1,
   "id": "8b10fd0b-8c88-41c2-8810-9f8c5b798da6",
   "metadata": {},
   "outputs": [],
   "source": [
    "import time as ti\n",
    "from selenium import webdriver\n",
    "from bs4 import BeautifulSoup\n",
    "from selenium.webdriver.chrome.options import Options\n",
    "from selenium.webdriver.common.by import By\n",
    "from selenium.webdriver.common.keys import Keys\n",
    "import csv"
   ]
  },
  {
   "cell_type": "code",
   "execution_count": 2,
   "id": "ba5462d1-6f5d-45f8-9359-b45ddf49e20a",
   "metadata": {},
   "outputs": [],
   "source": [
    "url = \"https://map.kakao.com/\"\n",
    "\n",
    "# headless를 위한 설정\n",
    "options = Options()\n",
    "options.add_argument('--headless')"
   ]
  },
  {
   "cell_type": "code",
   "execution_count": 3,
   "id": "2cee18ea-61be-4470-904c-bce04ea85ea1",
   "metadata": {},
   "outputs": [
    {
     "name": "stderr",
     "output_type": "stream",
     "text": [
      "/opt/miniconda3/lib/python3.7/site-packages/ipykernel_launcher.py:4: DeprecationWarning: executable_path has been deprecated, please pass in a Service object\n",
      "  after removing the cwd from sys.path.\n"
     ]
    }
   ],
   "source": [
    "# webdriver 실행\n",
    "path = '/home/hadoop/chrome/chromedriver'  # 위치확인\n",
    "# chrome = webdriver.Chrome(executable_path=path)\n",
    "chrome = webdriver.Chrome(executable_path=path, options=options)"
   ]
  },
  {
   "cell_type": "code",
   "execution_count": 4,
   "id": "0927e9c9-1eb4-4895-a481-685598096b6f",
   "metadata": {},
   "outputs": [],
   "source": [
    "chrome.get(url)\n",
    "# 소스가 다 로딩될때까지 2초정도 대기\n",
    "chrome.implicitly_wait(2)\n",
    "ti.sleep(2)  # 작업을 의도적으로 지연 (2초동안)"
   ]
  },
  {
   "cell_type": "code",
   "execution_count": 5,
   "id": "b4d4b8a7-638a-41fa-9e15-0f9d0b33247c",
   "metadata": {},
   "outputs": [],
   "source": [
    "import pandas as pd"
   ]
  },
  {
   "cell_type": "code",
   "execution_count": 6,
   "id": "f1f51013-8884-4330-a94b-11760d7d3945",
   "metadata": {},
   "outputs": [],
   "source": [
    "rids = pd.read_csv('rides.csv')"
   ]
  },
  {
   "cell_type": "code",
   "execution_count": 7,
   "id": "54182090-68e1-4509-a3d4-e29ee2a15c19",
   "metadata": {},
   "outputs": [
    {
     "data": {
      "text/html": [
       "<div>\n",
       "<style scoped>\n",
       "    .dataframe tbody tr th:only-of-type {\n",
       "        vertical-align: middle;\n",
       "    }\n",
       "\n",
       "    .dataframe tbody tr th {\n",
       "        vertical-align: top;\n",
       "    }\n",
       "\n",
       "    .dataframe thead th {\n",
       "        text-align: right;\n",
       "    }\n",
       "</style>\n",
       "<table border=\"1\" class=\"dataframe\">\n",
       "  <thead>\n",
       "    <tr style=\"text-align: right;\">\n",
       "      <th></th>\n",
       "      <th>name</th>\n",
       "      <th>imit</th>\n",
       "      <th>ppc</th>\n",
       "      <th>time(초)</th>\n",
       "      <th>우산</th>\n",
       "      <th>스릴</th>\n",
       "      <th>키즈</th>\n",
       "      <th>예상인원/탑승객 = 몫</th>\n",
       "      <th>예상대기시간 = 몫 * 놀이기구 시간(초)</th>\n",
       "      <th>놀이기구이름</th>\n",
       "    </tr>\n",
       "  </thead>\n",
       "  <tbody>\n",
       "    <tr>\n",
       "      <th>0</th>\n",
       "      <td>둥실비행선</td>\n",
       "      <td>제한없음</td>\n",
       "      <td>64</td>\n",
       "      <td>150</td>\n",
       "      <td>NaN</td>\n",
       "      <td>NaN</td>\n",
       "      <td>1.0</td>\n",
       "      <td>1</td>\n",
       "      <td>2분 30초</td>\n",
       "      <td>둥실비행선</td>\n",
       "    </tr>\n",
       "    <tr>\n",
       "      <th>1</th>\n",
       "      <td>빅회전목마</td>\n",
       "      <td>100cm ~</td>\n",
       "      <td>68</td>\n",
       "      <td>150</td>\n",
       "      <td>1.0</td>\n",
       "      <td>NaN</td>\n",
       "      <td>1.0</td>\n",
       "      <td>1</td>\n",
       "      <td>2분 30초</td>\n",
       "      <td>빅회전목마</td>\n",
       "    </tr>\n",
       "    <tr>\n",
       "      <th>2</th>\n",
       "      <td>월드컵</td>\n",
       "      <td>130cm ~</td>\n",
       "      <td>40</td>\n",
       "      <td>150</td>\n",
       "      <td>NaN</td>\n",
       "      <td>1.0</td>\n",
       "      <td>NaN</td>\n",
       "      <td>2</td>\n",
       "      <td>5분</td>\n",
       "      <td>월드컵</td>\n",
       "    </tr>\n",
       "    <tr>\n",
       "      <th>3</th>\n",
       "      <td>도깨비바람</td>\n",
       "      <td>140cm ~ 185cm</td>\n",
       "      <td>40</td>\n",
       "      <td>180</td>\n",
       "      <td>NaN</td>\n",
       "      <td>1.0</td>\n",
       "      <td>NaN</td>\n",
       "      <td>2</td>\n",
       "      <td>6분</td>\n",
       "      <td>도깨비바람</td>\n",
       "    </tr>\n",
       "    <tr>\n",
       "      <th>4</th>\n",
       "      <td>쥬라기랜드</td>\n",
       "      <td>제한없음</td>\n",
       "      <td>100</td>\n",
       "      <td>없음</td>\n",
       "      <td>1.0</td>\n",
       "      <td>NaN</td>\n",
       "      <td>1.0</td>\n",
       "      <td>1</td>\n",
       "      <td>없음</td>\n",
       "      <td>쥬라기랜드</td>\n",
       "    </tr>\n",
       "  </tbody>\n",
       "</table>\n",
       "</div>"
      ],
      "text/plain": [
       "    name           imit  ppc time(초)   우산   스릴   키즈  예상인원/탑승객 = 몫  \\\n",
       "0  둥실비행선           제한없음   64     150  NaN  NaN  1.0             1   \n",
       "1  빅회전목마        100cm ~   68     150  1.0  NaN  1.0             1   \n",
       "2    월드컵        130cm ~   40     150  NaN  1.0  NaN             2   \n",
       "3  도깨비바람  140cm ~ 185cm   40     180  NaN  1.0  NaN             2   \n",
       "4  쥬라기랜드           제한없음  100      없음  1.0  NaN  1.0             1   \n",
       "\n",
       "  예상대기시간 = 몫 * 놀이기구 시간(초) 놀이기구이름  \n",
       "0                  2분 30초  둥실비행선  \n",
       "1                  2분 30초  빅회전목마  \n",
       "2                      5분    월드컵  \n",
       "3                      6분  도깨비바람  \n",
       "4                      없음  쥬라기랜드  "
      ]
     },
     "execution_count": 7,
     "metadata": {},
     "output_type": "execute_result"
    }
   ],
   "source": [
    "rids.head()"
   ]
  },
  {
   "cell_type": "code",
   "execution_count": 8,
   "id": "73c6a094-cd5f-4406-a26a-2726cd4f5ced",
   "metadata": {},
   "outputs": [],
   "source": [
    "rids1 = pd.DataFrame(rids['name']) # name = 지도에 나오는 정확한 명칭"
   ]
  },
  {
   "cell_type": "code",
   "execution_count": 9,
   "id": "16414875-5cf4-4315-8095-54602d82f3a4",
   "metadata": {},
   "outputs": [],
   "source": [
    "ridsn = rids['놀이기구이름']"
   ]
  },
  {
   "cell_type": "code",
   "execution_count": 11,
   "id": "89c42e9a-1fca-4f09-aeed-28db2138fae2",
   "metadata": {
    "tags": []
   },
   "outputs": [
    {
     "name": "stderr",
     "output_type": "stream",
     "text": [
      "/opt/miniconda3/lib/python3.7/site-packages/ipykernel_launcher.py:3: DeprecationWarning: find_element_by_* commands are deprecated. Please use find_element() instead\n",
      "  This is separate from the ipykernel package so we can avoid doing imports until\n",
      "/opt/miniconda3/lib/python3.7/site-packages/ipykernel_launcher.py:6: DeprecationWarning: find_element_by_* commands are deprecated. Please use find_element() instead\n",
      "  \n",
      "/opt/miniconda3/lib/python3.7/site-packages/ipykernel_launcher.py:7: DeprecationWarning: find_element_by_* commands are deprecated. Please use find_element() instead\n",
      "  import sys\n",
      "/opt/miniconda3/lib/python3.7/site-packages/ipykernel_launcher.py:10: DeprecationWarning: find_element_by_* commands are deprecated. Please use find_element() instead\n",
      "  # Remove the CWD from sys.path while we load stuff.\n",
      "/opt/miniconda3/lib/python3.7/site-packages/ipykernel_launcher.py:11: DeprecationWarning: find_element_by_* commands are deprecated. Please use find_element() instead\n",
      "  # This is added back by InteractiveShellApp.init_path()\n",
      "/opt/miniconda3/lib/python3.7/site-packages/ipykernel_launcher.py:14: DeprecationWarning: find_element_by_* commands are deprecated. Please use find_element() instead\n",
      "  \n",
      "/opt/miniconda3/lib/python3.7/site-packages/ipykernel_launcher.py:17: DeprecationWarning: find_element_by_* commands are deprecated. Please use find_element() instead\n",
      "/opt/miniconda3/lib/python3.7/site-packages/ipykernel_launcher.py:19: DeprecationWarning: find_element_by_* commands are deprecated. Please use find_element() instead\n"
     ]
    },
    {
     "name": "stdout",
     "output_type": "stream",
     "text": [
      "출발지 :  은하열차888 , 목적지 :  둥실비행선 , 시간 :  2분 , 거리 m :  136m\n",
      "출발지 :  은하열차888 , 목적지 :  빅회전목마 , 시간 :  6분 , 거리 m :  400m\n",
      "출발지 :  은하열차888 , 목적지 :  월드컵 , 시간 :  3분 , 거리 m :  226m\n",
      "출발지 :  은하열차888 , 목적지 :  도깨비바람 , 시간 :  6분 , 거리 m :  418m\n",
      "출발지 :  은하열차888 , 목적지 :  쥬라기랜드 , 시간 :  4분 , 거리 m :  256m\n",
      "출발지 :  은하열차888 , 목적지 :  킹바이킹  , 시간 :  9분 , 거리 m :  573m\n",
      "출발지 :  은하열차888 , 목적지 :  블랙홀 2000 , 시간 :  3분 , 거리 m :  223m\n",
      "출발지 :  은하열차888 , 목적지 :  라바 트위스터 , 시간 :  4분 , 거리 m :  264m\n",
      "출발지 :  은하열차888 , 목적지 :  은하열차888 , 시간 :   , 거리 m :  \n",
      "출발지 :  은하열차888 , 목적지 :  베스트키즈 , 시간 :  7분 , 거리 m :  471m\n",
      "출발지 :  은하열차888 , 목적지 :  급류타기 , 시간 :  9분 , 거리 m :  603m\n",
      "출발지 :  은하열차888 , 목적지 :  티키톡열차 , 시간 :  8분 , 거리 m :  525m\n",
      "출발지 :  은하열차888 , 목적지 :  출동! 슈퍼윙스 , 시간 :  2분 , 거리 m :  152m\n",
      "출발지 :  은하열차888 , 목적지 :  브루미즈 동산 , 시간 :  5분 , 거리 m :  321m\n",
      "출발지 :  은하열차888 , 목적지 :  착각의 집 , 시간 :  3분 , 거리 m :  219m\n",
      "출발지 :  은하열차888 , 목적지 :  터닝메카드 레이싱 , 시간 :  6분 , 거리 m :  415m\n",
      "출발지 :  은하열차888 , 목적지 :  피터팬 , 시간 :  6분 , 거리 m :  376m\n",
      "출발지 :  은하열차888 , 목적지 :  엑스플라이어 , 시간 :  3분 , 거리 m :  209m\n",
      "출발지 :  은하열차888 , 목적지 :  알포스윙 , 시간 :  5분 , 거리 m :  349m\n",
      "출발지 :  은하열차888 , 목적지 :  깜짝모험관 , 시간 :  15분 , 거리 m :  982m\n",
      "출발지 :  은하열차888 , 목적지 :  달나라열차 , 시간 :  2분 , 거리 m :  116m\n",
      "출발지 :  은하열차888 , 목적지 :  니나노고카트 , 시간 :  9분 , 거리 m :  588m\n",
      "출발지 :  은하열차888 , 목적지 :  타임머신 , 시간 :  2분 , 거리 m :  105m\n",
      "출발지 :  은하열차888 , 목적지 :  터닝메카드 레이싱 , 시간 :  6분 , 거리 m :  415m\n",
      "출발지 :  은하열차888 , 목적지 :  록까페 , 시간 :  3분 , 거리 m :  205m\n",
      "출발지 :  은하열차888 , 목적지 :  샷드롭 , 시간 :  15분 , 거리 m :  995m\n",
      "출발지 :  은하열차888 , 목적지 :  깜부비행기 , 시간 :  5분 , 거리 m :  339m\n",
      "출발지 :  은하열차888 , 목적지 :  스카이엑스 , 시간 :  2분 , 거리 m :  147m\n",
      "출발지 :  은하열차888 , 목적지 :  뭉게공항액션존 , 시간 :  3분 , 거리 m :  210m\n",
      "출발지 :  은하열차888 , 목적지 :  개구리만세 , 시간 :  5분 , 거리 m :  351m\n",
      "출발지 :  은하열차888 , 목적지 :  미니바이킹 , 시간 :  5분 , 거리 m :  351m\n",
      "출발지 :  은하열차888 , 목적지 :  해적소굴 , 시간 :  9분 , 거리 m :  575m\n",
      "출발지 :  은하열차888 , 목적지 :  도래미악단 , 시간 :  3분 , 거리 m :  228m\n",
      "출발지 :  은하열차888 , 목적지 :  구름빵 , 시간 :  5분 , 거리 m :  355m\n",
      "출발지 :  은하열차888 , 목적지 :  춤추는 요술집 , 시간 :  5분 , 거리 m :  351m\n",
      "출발지 :  은하열차888 , 목적지 :  카트라이더범퍼 , 시간 :  5분 , 거리 m :  349m\n",
      "출발지 :  은하열차888 , 목적지 :  붕붕카 , 시간 :  3분 , 거리 m :  229m\n",
      "출발지 :  은하열차888 , 목적지 :  또봇트레인 , 시간 :  5분 , 거리 m :  329m\n",
      "출발지 :  은하열차888 , 목적지 :  캐니멀 서커스  , 시간 :  3분 , 거리 m :  189m\n"
     ]
    }
   ],
   "source": [
    "for i in range(len(ridsn)):\n",
    "    # 길찾기\n",
    "    chrome.find_element_by_xpath('/html/body/div[5]/div[1]/div/div/ul/li[2]/a').send_keys(Keys.RETURN)\n",
    "    ti.sleep(2)\n",
    "    # 출발지\n",
    "    chrome.find_element_by_xpath('/html/body/div[5]/div[2]/div[2]/div[1]/div/div[1]/div[2]/form/input[1]').send_keys('서울랜드',rids1.name[0])\n",
    "    chrome.find_element_by_xpath('/html/body/div[5]/div[2]/div[2]/div[1]/div/div[1]/div[2]/form/input[1]').send_keys(Keys.RETURN)\n",
    "    # 목적지\n",
    "    ti.sleep(2)\n",
    "    chrome.find_element_by_xpath('/html/body/div[5]/div[2]/div[2]/div[1]/div/div[2]/div[2]/form/input[1]').send_keys('서울랜드',rids1.name[i+1])\n",
    "    chrome.find_element_by_xpath('/html/body/div[5]/div[2]/div[2]/div[1]/div/div[2]/div[2]/form/input[1]').send_keys(Keys.RETURN)\n",
    "    ti.sleep(2)\n",
    "    # 길찾기 시작\n",
    "    chrome.find_element_by_xpath('/html/body/div[5]/div[2]/div[2]/div[2]/div/a[3]').send_keys(Keys.RETURN)\n",
    "    ti.sleep(2)\n",
    "    # 걸리는 시간\n",
    "    time1 = chrome.find_element_by_xpath('/html/body/div[5]/div[2]/div[2]/div[5]/div[3]/div[1]/ul/li[1]/div[1]/div/p/span[1]').text\n",
    "    # 거리 m \n",
    "    m = chrome.find_element_by_xpath('/html/body/div[5]/div[2]/div[2]/div[5]/div[3]/div[1]/ul/li[1]/div[1]/div/p/span[2]').text\n",
    "    # 결과 출력\n",
    "    print('출발지 : ', ridsn[0], ', 목적지 : ',ridsn[i+1], ', 시간 : ',time1, ', 거리 m : ',m)\n",
    "    # 결과 저장 csv\n",
    "    word1 =[ridsn[0], ridsn[i+1], time1, m]\n",
    "    with open('ridestm.csv', 'a', newline='') as f:\n",
    "        wr = csv.writer(f)\n",
    "        wr.writerow(word1)\n",
    "\n",
    "    ti.sleep(1)"
   ]
  }
 ],
 "metadata": {
  "kernelspec": {
   "display_name": "Python 3 (ipykernel)",
   "language": "python",
   "name": "python3"
  },
  "language_info": {
   "codemirror_mode": {
    "name": "ipython",
    "version": 3
   },
   "file_extension": ".py",
   "mimetype": "text/x-python",
   "name": "python",
   "nbconvert_exporter": "python",
   "pygments_lexer": "ipython3",
   "version": "3.7.10"
  }
 },
 "nbformat": 4,
 "nbformat_minor": 5
}
