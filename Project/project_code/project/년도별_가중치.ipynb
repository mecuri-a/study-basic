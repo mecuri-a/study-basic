{
 "cells": [
  {
   "cell_type": "code",
   "execution_count": 1,
   "id": "44293cee-6f99-407e-81e2-7c839d2f77b8",
   "metadata": {},
   "outputs": [
    {
     "name": "stderr",
     "output_type": "stream",
     "text": [
      "2021-12-09 09:32:45.539442: W tensorflow/stream_executor/platform/default/dso_loader.cc:64] Could not load dynamic library 'libcudart.so.11.0'; dlerror: libcudart.so.11.0: cannot open shared object file: No such file or directory\n",
      "2021-12-09 09:32:45.539478: I tensorflow/stream_executor/cuda/cudart_stub.cc:29] Ignore above cudart dlerror if you do not have a GPU set up on your machine.\n"
     ]
    }
   ],
   "source": [
    "import tensorflow as tf\n",
    "from tensorflow.keras.models import Sequential\n",
    "from tensorflow.keras.layers import Dense\n",
    "from tensorflow.keras.optimizers import RMSprop"
   ]
  },
  {
   "cell_type": "code",
   "execution_count": 3,
   "id": "52544da2-e159-4737-8ea8-7d0ca55b0b57",
   "metadata": {},
   "outputs": [
    {
     "name": "stdout",
     "output_type": "stream",
     "text": [
      "WARNING:tensorflow:From /opt/miniconda3/lib/python3.7/site-packages/tensorflow/python/compat/v2_compat.py:96: disable_resource_variables (from tensorflow.python.ops.variable_scope) is deprecated and will be removed in a future version.\n",
      "Instructions for updating:\n",
      "non-resource variables are not supported in the long term\n"
     ]
    }
   ],
   "source": [
    "import tensorflow.compat.v1 as tf\n",
    "\n",
    "tf.disable_v2_behavior()"
   ]
  },
  {
   "cell_type": "code",
   "execution_count": 5,
   "id": "e2434105-69b0-4fda-a1eb-f81921d1a640",
   "metadata": {},
   "outputs": [],
   "source": [
    "import numpy as np\n",
    "import pandas as pd\n",
    "import matplotlib.pyplot as plt\n",
    "import seaborn as sns\n",
    "import tensorflow as tf"
   ]
  },
  {
   "cell_type": "code",
   "execution_count": 6,
   "id": "04ed31ca-e450-4df3-bd82-64e4116a0717",
   "metadata": {},
   "outputs": [],
   "source": [
    "df = pd.read_csv('year.csv', thousands=',')"
   ]
  },
  {
   "cell_type": "code",
   "execution_count": 7,
   "id": "fcb48400-c48e-47a7-9327-4eebdf542357",
   "metadata": {},
   "outputs": [],
   "source": [
    "xdata1 = df['영업손익'].values\n",
    "xdata2 = df['매출이익'].values\n",
    "ydata = df['합계'].values"
   ]
  },
  {
   "cell_type": "code",
   "execution_count": 8,
   "id": "ffcf13c5-3c66-4515-87d3-0bf51634e4b4",
   "metadata": {},
   "outputs": [],
   "source": [
    "a = tf.Variable(tf.random.uniform([1], 0, 10,\n",
    "                dtype=tf.float64, seed=1))\n",
    "b = tf.Variable(tf.random.uniform([1], 0, 10,\n",
    "                dtype=tf.float64, seed=1))\n",
    "c = tf.Variable(tf.random.uniform([1], 0, 100,\n",
    "                dtype=tf.float64, seed=1))"
   ]
  },
  {
   "cell_type": "code",
   "execution_count": 9,
   "id": "cb0d3240-968a-47e6-ac53-7ab0580fb2b7",
   "metadata": {},
   "outputs": [],
   "source": [
    "y = a * xdata1 + b * xdata2 + c"
   ]
  },
  {
   "cell_type": "code",
   "execution_count": 11,
   "id": "e76c2ad1-7b96-4574-a92f-a3bf53c86165",
   "metadata": {},
   "outputs": [],
   "source": [
    "import tensorflow.compat.v1 as tf\n",
    "\n",
    "tf.disable_v2_behavior()"
   ]
  },
  {
   "cell_type": "code",
   "execution_count": 12,
   "id": "3f6ff2b5-1af9-477a-8183-85a33132f6f5",
   "metadata": {},
   "outputs": [],
   "source": [
    "rmse = tf.sqrt(tf.reduce_mean(tf.square(y - ydata)))\n",
    "\n",
    "learn_rate = 0.1\n",
    "\n",
    "gradient_decent = tf.train.GradientDescentOptimizer(learn_rate).minimize(rmse)"
   ]
  },
  {
   "cell_type": "code",
   "execution_count": 13,
   "id": "f1d2b7c8-6945-4aa8-b5e8-3a0a3e9c0e25",
   "metadata": {},
   "outputs": [
    {
     "name": "stdout",
     "output_type": "stream",
     "text": [
      "훈련횟수 epoch 0, RMSE 59274539058.100,기울기1 -34771.467, 기울기2 -65431.030, 절편 91.204\n",
      "훈련횟수 epoch 10, RMSE 46223824215.726,기울기1 -3763.227, 기울기2 -54460.623, 절편 91.180\n",
      "훈련횟수 epoch 20, RMSE 46223824208.847,기울기1 -3763.227, 기울기2 -54460.623, 절편 91.180\n",
      "훈련횟수 epoch 30, RMSE 46223824201.967,기울기1 -3763.227, 기울기2 -54460.623, 절편 91.180\n",
      "훈련횟수 epoch 40, RMSE 46223824195.088,기울기1 -3763.227, 기울기2 -54460.623, 절편 91.180\n",
      "훈련횟수 epoch 50, RMSE 46223824188.209,기울기1 -3763.227, 기울기2 -54460.623, 절편 91.180\n",
      "훈련횟수 epoch 60, RMSE 46223824181.330,기울기1 -3763.227, 기울기2 -54460.623, 절편 91.180\n",
      "훈련횟수 epoch 70, RMSE 46223824174.450,기울기1 -3763.227, 기울기2 -54460.623, 절편 91.180\n",
      "훈련횟수 epoch 80, RMSE 46223824167.571,기울기1 -3763.227, 기울기2 -54460.623, 절편 91.180\n",
      "훈련횟수 epoch 90, RMSE 46223824160.692,기울기1 -3763.227, 기울기2 -54460.623, 절편 91.180\n"
     ]
    },
    {
     "name": "stderr",
     "output_type": "stream",
     "text": [
      "2021-12-09 09:35:31.163348: W tensorflow/stream_executor/platform/default/dso_loader.cc:64] Could not load dynamic library 'libcuda.so.1'; dlerror: libcuda.so.1: cannot open shared object file: No such file or directory\n",
      "2021-12-09 09:35:31.163401: W tensorflow/stream_executor/cuda/cuda_driver.cc:326] failed call to cuInit: UNKNOWN ERROR (303)\n",
      "2021-12-09 09:35:31.163448: I tensorflow/stream_executor/cuda/cuda_diagnostics.cc:156] kernel driver does not appear to be running on this host (localhost.localdomain): /proc/driver/nvidia/version does not exist\n",
      "2021-12-09 09:35:31.163731: I tensorflow/core/platform/cpu_feature_guard.cc:142] This TensorFlow binary is optimized with oneAPI Deep Neural Network Library (oneDNN) to use the following CPU instructions in performance-critical operations:  AVX2 FMA\n",
      "To enable them in other operations, rebuild TensorFlow with the appropriate compiler flags.\n",
      "2021-12-09 09:35:31.166472: I tensorflow/core/platform/profile_utils/cpu_utils.cc:114] CPU Frequency: 3192000000 Hz\n"
     ]
    }
   ],
   "source": [
    "with tf.Session() as sess:\n",
    "    sess.run(tf.global_variables_initializer())\n",
    "    for step in range(100):\n",
    "        sess.run(gradient_decent)\n",
    "        if step % 10 == 0:\n",
    "            print('훈련횟수 epoch %.f, RMSE %.3f,'\\\n",
    "            '기울기1 %.3f, 기울기2 %.3f, 절편 %.3f' %\n",
    "                  ( step, sess.run(rmse),\n",
    "                    sess.run(a), sess.run(b),\n",
    "                    sess.run(c) ))"
   ]
  },
  {
   "cell_type": "markdown",
   "id": "9db9cf26-210a-4eac-a4d5-f8454bba48a3",
   "metadata": {},
   "source": [
    "### 기울기\n",
    "+ y = (-3763.227*x1)+(-54460.623*x2)+91.180"
   ]
  }
 ],
 "metadata": {
  "kernelspec": {
   "display_name": "Python 3 (ipykernel)",
   "language": "python",
   "name": "python3"
  },
  "language_info": {
   "codemirror_mode": {
    "name": "ipython",
    "version": 3
   },
   "file_extension": ".py",
   "mimetype": "text/x-python",
   "name": "python",
   "nbconvert_exporter": "python",
   "pygments_lexer": "ipython3",
   "version": "3.7.10"
  }
 },
 "nbformat": 4,
 "nbformat_minor": 5
}
