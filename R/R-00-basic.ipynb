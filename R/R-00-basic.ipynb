{
 "cells": [
  {
   "cell_type": "markdown",
   "id": "48ec5c21-b7ab-45c4-b9b8-d1b8070c8549",
   "metadata": {},
   "source": [
    "# 통계\n",
    "- 분석하고자 하는 집단과 관련해 조사나 실업의 결과로 얻는 자료 또는 이의 요약된 형태를 의미\n",
    "- 통계학 : 좀 더 효과적인 의사결정을 할 수 있도록 수치자료를 수집, 정리, 표현, 분석하는 학문\n",
    "- 통계는 항상 반례 가능성을 가지고 있음\n",
    "- 관련 통계 분야 : 사회과학통계, 자연과학통계, 수학과학통계"
   ]
  },
  {
   "cell_type": "markdown",
   "id": "c837decf-c191-4830-ac9a-244c18067d30",
   "metadata": {},
   "source": [
    "## 통계학 유형\n",
    "### 1. 기술통계학\n",
    "+ 자료중심 통계\n",
    "+ 수집한 데이터를 요약, 묘사, 설명하는 통계기법\n",
    "+ 그래프, 표, 수치를 이용해서 집단의 특성 파악\n",
    "+ 대표값, 분산\n",
    "    \n",
    "### 2. 추론통계학\n",
    "* 예측 중심의 통계 (중요도 높음)\n",
    "* 수집된 데이터를 바탕으로 예측하는 통계기법\n",
    "* 관측된 자료를 이용해서 모집단 특성 추측\n",
    "    + 모수통계\n",
    "        - 빈도분석\n",
    "        - 상관분석\n",
    "        - 세 집단이상 평균분석\n",
    "        - 회귀분석(!!)\n",
    "    + 비모수통계\n",
    "        - 접합도 검증\n",
    "        - 변수간 상관분석"
   ]
  },
  {
   "cell_type": "markdown",
   "id": "c86679a8-d0ad-481a-836a-8711e2dcb1bc",
   "metadata": {},
   "source": [
    "## 자료의 종류\n",
    "### 질적 자료 : 문자로 표현된  자료\n",
    "+ 명목자료 : 일반적인 범주형 데이터\n",
    "                ex) 남, 여\n",
    "+ 순서자료 : 순서의 의미가 포함된 데이터\n",
    "                ex) 초등학교, 중학교, 고등학교, 대학교\n",
    "\n",
    "### 양적 자료 : 숫자로 표현된 자료\n",
    "+ 이산형 : 셈이 가능한 양적자료, 정수형 데이터\n",
    "+ 연속형 : 셈이 가능한 양적자료, 실수형 데이터\n",
    "+ 구간자료 : 양적자료를 구간별로 나누어 명목/순서의 의미를 포함시킨 데이터\n",
    "                ex) 수, 우, 미, 양, 가\n",
    "+ 비율자료 : 양적자료를 구간별로 나누어 서열/비율(산술)의 의미를 포함시킨 데이터\n",
    "                ex) 몸무게, 시간, 키"
   ]
  },
  {
   "cell_type": "markdown",
   "id": "71400b71-d80b-4bfa-993b-dd5694d09436",
   "metadata": {},
   "source": [
    "## 데이터를 이해하는 마음가짐\n",
    "### 데이터가 숲이라고 가정한다면\n",
    "* 처음부터 숲의 나무를 보고 자세히 관찰하기 보다는\n",
    "* 개략적으로 숲의 모양을 보고 특징을 파악하고 나무를 관찰할 것!\n",
    "* 데이터도 이런식의 접근방식을 사용해야 함\n",
    "\n",
    "### 데이터의 특징이란\n",
    "* 말로 표현하기 보다는 숫자로 표현하여야 하고\n",
    "* 주로 평균, 편차 등등을 활용하는데\n",
    "* 이렇게 숫자로 데이터의 특징을 표현하는 과정을 \"요약 summary\" 이라고 함"
   ]
  },
  {
   "cell_type": "markdown",
   "id": "664e1aca-ce31-421b-bb60-b36665b7b02d",
   "metadata": {},
   "source": [
    "### 기술통계 분석관점\n",
    "1. 중심화 경향\n",
    "+ 수집한 데이터 전체를 대표하는 값이 무엇인지 나타내는 통계(대표값)\n",
    "    - 평균\n",
    "    - 중앙값\n",
    "    - 최빈값\n",
    "    \n",
    "2. 분산화 경향\n",
    "+ 데이터가 어떻게 분포되어 있는지 설명하는지 통계치\n",
    "    - 범위\n",
    "    - 표준편차\n",
    "    - 분산\n",
    "    - 사분위수"
   ]
  },
  {
   "cell_type": "markdown",
   "id": "52985eaa-4568-4717-bcb7-bbfdc6b33fa3",
   "metadata": {},
   "source": [
    "## 대표값\n",
    "### 평균 : 중심척도의 대표적인 통계값\n",
    "+ 평균은 유일하다\n",
    "+ 평균은 계산하기 쉽다\n",
    "+ 모든 측정값을 반영한다\n",
    "+ 단, 평균은 특이값(이상치)에 영향을 받는다\n",
    "> ### $\\bar X = \\frac {\\sum X} {n}$ "
   ]
  },
  {
   "cell_type": "code",
   "execution_count": 1,
   "id": "6fc6f864-c0d4-4313-b0e8-a74dc1f7beff",
   "metadata": {},
   "outputs": [
    {
     "data": {
      "text/html": [
       "5.5"
      ],
      "text/latex": [
       "5.5"
      ],
      "text/markdown": [
       "5.5"
      ],
      "text/plain": [
       "[1] 5.5"
      ]
     },
     "metadata": {},
     "output_type": "display_data"
    }
   ],
   "source": [
    "# R의 1차원 배열 : vector\n",
    "# c(값, 값, 값,....)\n",
    "num1 <- c(1,2,3,4,5,6,7,8,9,10)\n",
    "mean1 = sum(num1) / length(num1)\n",
    "\n",
    "mean1"
   ]
  },
  {
   "cell_type": "code",
   "execution_count": 2,
   "id": "8f7a32e4-9673-4f50-9276-fc1033001b68",
   "metadata": {},
   "outputs": [
    {
     "data": {
      "text/html": [
       "5.5"
      ],
      "text/latex": [
       "5.5"
      ],
      "text/markdown": [
       "5.5"
      ],
      "text/plain": [
       "[1] 5.5"
      ]
     },
     "metadata": {},
     "output_type": "display_data"
    }
   ],
   "source": [
    "mean(num1)"
   ]
  },
  {
   "cell_type": "code",
   "execution_count": 3,
   "id": "920411b2-1a92-4460-a091-02685ed4d766",
   "metadata": {},
   "outputs": [
    {
     "data": {
      "text/html": [
       "46.04"
      ],
      "text/latex": [
       "46.04"
      ],
      "text/markdown": [
       "46.04"
      ],
      "text/plain": [
       "[1] 46.04"
      ]
     },
     "metadata": {},
     "output_type": "display_data"
    }
   ],
   "source": [
    "# 조선조 왕들의 평균 수명을 조사\n",
    "# 73, 62, 45, 53, 38, 16, 51, 28, 37, 30, 56\n",
    "# 30, 33, 56, 66, 54, 40, 33, 59, 36, 82, 48\n",
    "# 44, 22, 32, 67, 52\n",
    "\n",
    "kings <- c(73, 62, 45, 53, 38, 16, 51, 28, 37, 30, 56, 30, 33, 56, 66, 54, 40, 33, 59, 36, 82, 48, 44, 22, 32, 67, 52)\n",
    "round(mean(kings),2)"
   ]
  },
  {
   "cell_type": "code",
   "execution_count": 4,
   "id": "ca6b5e58-1c17-4271-be24-6dc25435c05e",
   "metadata": {},
   "outputs": [
    {
     "data": {
      "text/html": [
       "20.27"
      ],
      "text/latex": [
       "20.27"
      ],
      "text/markdown": [
       "20.27"
      ],
      "text/plain": [
       "[1] 20.27"
      ]
     },
     "metadata": {},
     "output_type": "display_data"
    }
   ],
   "source": [
    "# 대학원생들의 평균 나이\n",
    "\n",
    "colls <- c(19,18,19,21,20,24,21,19,19,20,18,21,22,23,21,19,18,22,24,21,18,19)\n",
    "round(mean(colls),2)"
   ]
  },
  {
   "cell_type": "code",
   "execution_count": 5,
   "id": "e1b1a988-feb0-44ac-8d27-41373a5141ac",
   "metadata": {},
   "outputs": [
    {
     "name": "stdout",
     "output_type": "stream",
     "text": [
      "'data.frame':\t50 obs. of  3 variables:\n",
      " $ student.number: int  1 2 3 4 5 6 7 8 9 10 ...\n",
      " $ english       : int  42 69 56 41 57 48 65 49 65 58 ...\n",
      " $ mathematics   : int  65 80 63 63 76 60 81 66 78 82 ...\n"
     ]
    }
   ],
   "source": [
    "# 성적 데이터 평균 계산\n",
    "# 외부파일 읽기 : read.csv(경로, 옵션)\n",
    "exams = read.csv('csv/exams.csv')\n",
    "\n",
    "# 데이터 구조 살펴보기 : str(객체명) (structure)\n",
    "str(exams)"
   ]
  },
  {
   "cell_type": "code",
   "execution_count": 6,
   "id": "c21556d2-4210-4d0b-b638-5e30b7b4cd0d",
   "metadata": {},
   "outputs": [
    {
     "data": {
      "text/plain": [
       " student.number     english       mathematics   \n",
       " Min.   : 1.00   Min.   :37.00   Min.   :57.00  \n",
       " 1st Qu.:13.25   1st Qu.:54.00   1st Qu.:76.00  \n",
       " Median :25.50   Median :57.50   Median :80.00  \n",
       " Mean   :25.50   Mean   :58.38   Mean   :78.88  \n",
       " 3rd Qu.:37.75   3rd Qu.:65.00   3rd Qu.:84.00  \n",
       " Max.   :50.00   Max.   :79.00   Max.   :94.00  "
      ]
     },
     "metadata": {},
     "output_type": "display_data"
    }
   ],
   "source": [
    "# 데이터 요약\n",
    "summary(exams)"
   ]
  },
  {
   "cell_type": "code",
   "execution_count": 7,
   "id": "bc1a342c-e3cf-4716-9773-bf11b3f4135c",
   "metadata": {
    "slideshow": {
     "slide_type": "notes"
    },
    "tags": []
   },
   "outputs": [
    {
     "data": {
      "text/html": [
       "58.38"
      ],
      "text/latex": [
       "58.38"
      ],
      "text/markdown": [
       "58.38"
      ],
      "text/plain": [
       "[1] 58.38"
      ]
     },
     "metadata": {},
     "output_type": "display_data"
    }
   ],
   "source": [
    "# 각 과목별 평균\n",
    "# 변수지정 : 객체명$변수명\n",
    "mean(exams$english)"
   ]
  },
  {
   "cell_type": "code",
   "execution_count": 8,
   "id": "b1ecfe39-10f9-41e3-8381-068664e63bec",
   "metadata": {},
   "outputs": [
    {
     "data": {
      "text/html": [
       "78.88"
      ],
      "text/latex": [
       "78.88"
      ],
      "text/markdown": [
       "78.88"
      ],
      "text/plain": [
       "[1] 78.88"
      ]
     },
     "metadata": {},
     "output_type": "display_data"
    }
   ],
   "source": [
    "mean(exams$mathematics)"
   ]
  }
 ],
 "metadata": {
  "kernelspec": {
   "display_name": "R",
   "language": "R",
   "name": "ir"
  },
  "language_info": {
   "codemirror_mode": "r",
   "file_extension": ".r",
   "mimetype": "text/x-r-source",
   "name": "R",
   "pygments_lexer": "r",
   "version": "3.6.3"
  }
 },
 "nbformat": 4,
 "nbformat_minor": 5
}
