{
 "cells": [
  {
   "cell_type": "markdown",
   "id": "c0efa133-ce92-4901-ac79-ba291663944f",
   "metadata": {},
   "source": [
    "### dplyr\n",
    "\n",
    "* 해들리 위컴이 만든 패키지\n",
    "\n",
    "* 데이터프레임을 대상으로 데이터랭글링 작업에\n",
    "\n",
    "  빠른 속도와 많은 유용한 기능을 제공\n",
    "\n",
    "* 데이터 전처리작업의 사실상 표준(de facto) 패키지로 인정받음\n",
    "\n",
    "* 데이터 전처리 작업은 동사로 정의된 각 함수를 통해서 이루어 짐\n",
    "\n",
    "   - select    : 열 선택\n",
    "\n",
    "   - filter    : 조건 검색\n",
    "\n",
    "   - group_by  : 데이터 그룹화\n",
    "\n",
    "   - mutate    : 행/열 추가\n",
    "\n",
    "   - summrise  : 데이터 집계\n",
    "\n",
    "   - arrange   : 데이터 정렬\n",
    "\n",
    "* 이러한 함수들은 magrittr 패키지에 의해 구현된 파이프(>) 패러다임을 이용해서 체인형식으로 연산을 수행 할 수 있음\n",
    "\n",
    "* 즉, 먼저 수행한 함수의 결과를 다음 실행할 함수의 입력으로 보낼 수 있음\n",
    "\n",
    "  - sum(titanic, na.rm=T)   # 기존방식\n",
    "\n",
    "  - titanic %>% sum(na.rm=T) # 파이프 방식\n",
    "\n",
    "* 파이프 기호(%>%)를 입력할 때는 단축키 ctrl + shift + M 를 사용함"
   ]
  },
  {
   "cell_type": "code",
   "execution_count": 1,
   "id": "a5a9242f-445b-48a5-a647-281358c27bb1",
   "metadata": {},
   "outputs": [
    {
     "name": "stderr",
     "output_type": "stream",
     "text": [
      "\n",
      "Attaching package: ‘dplyr’\n",
      "\n",
      "\n",
      "The following objects are masked from ‘package:stats’:\n",
      "\n",
      "    filter, lag\n",
      "\n",
      "\n",
      "The following objects are masked from ‘package:base’:\n",
      "\n",
      "    intersect, setdiff, setequal, union\n",
      "\n",
      "\n"
     ]
    }
   ],
   "source": [
    "# dplyr 패키지 설치 (터미널에서 입력)\n",
    "# install.packages('dplyr')\n",
    "library(dplyr)\n",
    "load('rdata/sungjuk.rdata')"
   ]
  },
  {
   "cell_type": "code",
   "execution_count": 2,
   "id": "86979a40-a51c-4fb7-838b-0378f24a156a",
   "metadata": {},
   "outputs": [
    {
     "data": {
      "text/html": [
       "<table class=\"dataframe\">\n",
       "<caption>A data.frame: 4 × 1</caption>\n",
       "<thead>\n",
       "\t<tr><th scope=col>eng</th></tr>\n",
       "\t<tr><th scope=col>&lt;dbl&gt;</th></tr>\n",
       "</thead>\n",
       "<tbody>\n",
       "\t<tr><td>90</td></tr>\n",
       "\t<tr><td>95</td></tr>\n",
       "\t<tr><td>69</td></tr>\n",
       "\t<tr><td>78</td></tr>\n",
       "</tbody>\n",
       "</table>\n"
      ],
      "text/latex": [
       "A data.frame: 4 × 1\n",
       "\\begin{tabular}{l}\n",
       " eng\\\\\n",
       " <dbl>\\\\\n",
       "\\hline\n",
       "\t 90\\\\\n",
       "\t 95\\\\\n",
       "\t 69\\\\\n",
       "\t 78\\\\\n",
       "\\end{tabular}\n"
      ],
      "text/markdown": [
       "\n",
       "A data.frame: 4 × 1\n",
       "\n",
       "| eng &lt;dbl&gt; |\n",
       "|---|\n",
       "| 90 |\n",
       "| 95 |\n",
       "| 69 |\n",
       "| 78 |\n",
       "\n"
      ],
      "text/plain": [
       "  eng\n",
       "1 90 \n",
       "2 95 \n",
       "3 69 \n",
       "4 78 "
      ]
     },
     "metadata": {},
     "output_type": "display_data"
    }
   ],
   "source": [
    "## select (열선택)\n",
    "\n",
    "# 영어성적 출력\n",
    "sungjuk %>% select(eng)  # select(컬럼명)"
   ]
  },
  {
   "cell_type": "code",
   "execution_count": 3,
   "id": "342442db-5bd9-4092-8ae8-e7958e64839b",
   "metadata": {},
   "outputs": [
    {
     "data": {
      "text/html": [
       "<table class=\"dataframe\">\n",
       "<caption>A data.frame: 4 × 3</caption>\n",
       "<thead>\n",
       "\t<tr><th scope=col>eng</th><th scope=col>mat</th><th scope=col>sci</th></tr>\n",
       "\t<tr><th scope=col>&lt;dbl&gt;</th><th scope=col>&lt;dbl&gt;</th><th scope=col>&lt;dbl&gt;</th></tr>\n",
       "</thead>\n",
       "<tbody>\n",
       "\t<tr><td>90</td><td>85</td><td>90</td></tr>\n",
       "\t<tr><td>95</td><td>96</td><td>80</td></tr>\n",
       "\t<tr><td>69</td><td>49</td><td>70</td></tr>\n",
       "\t<tr><td>78</td><td>95</td><td>60</td></tr>\n",
       "</tbody>\n",
       "</table>\n"
      ],
      "text/latex": [
       "A data.frame: 4 × 3\n",
       "\\begin{tabular}{lll}\n",
       " eng & mat & sci\\\\\n",
       " <dbl> & <dbl> & <dbl>\\\\\n",
       "\\hline\n",
       "\t 90 & 85 & 90\\\\\n",
       "\t 95 & 96 & 80\\\\\n",
       "\t 69 & 49 & 70\\\\\n",
       "\t 78 & 95 & 60\\\\\n",
       "\\end{tabular}\n"
      ],
      "text/markdown": [
       "\n",
       "A data.frame: 4 × 3\n",
       "\n",
       "| eng &lt;dbl&gt; | mat &lt;dbl&gt; | sci &lt;dbl&gt; |\n",
       "|---|---|---|\n",
       "| 90 | 85 | 90 |\n",
       "| 95 | 96 | 80 |\n",
       "| 69 | 49 | 70 |\n",
       "| 78 | 95 | 60 |\n",
       "\n"
      ],
      "text/plain": [
       "  eng mat sci\n",
       "1 90  85  90 \n",
       "2 95  96  80 \n",
       "3 69  49  70 \n",
       "4 78  95  60 "
      ]
     },
     "metadata": {},
     "output_type": "display_data"
    }
   ],
   "source": [
    "# 영어, 수학, 과학 성적 출력\n",
    "sungjuk %>% select(eng, mat, sci)"
   ]
  },
  {
   "cell_type": "code",
   "execution_count": 4,
   "id": "15e13c6a-61bb-4ba8-b942-d549c7a79693",
   "metadata": {},
   "outputs": [
    {
     "data": {
      "text/html": [
       "<table class=\"dataframe\">\n",
       "<caption>A data.frame: 4 × 1</caption>\n",
       "<thead>\n",
       "\t<tr><th scope=col>name</th></tr>\n",
       "\t<tr><th scope=col>&lt;fct&gt;</th></tr>\n",
       "</thead>\n",
       "<tbody>\n",
       "\t<tr><td>John</td></tr>\n",
       "\t<tr><td>Tom </td></tr>\n",
       "\t<tr><td>Mark</td></tr>\n",
       "\t<tr><td>Jane</td></tr>\n",
       "</tbody>\n",
       "</table>\n"
      ],
      "text/latex": [
       "A data.frame: 4 × 1\n",
       "\\begin{tabular}{l}\n",
       " name\\\\\n",
       " <fct>\\\\\n",
       "\\hline\n",
       "\t John\\\\\n",
       "\t Tom \\\\\n",
       "\t Mark\\\\\n",
       "\t Jane\\\\\n",
       "\\end{tabular}\n"
      ],
      "text/markdown": [
       "\n",
       "A data.frame: 4 × 1\n",
       "\n",
       "| name &lt;fct&gt; |\n",
       "|---|\n",
       "| John |\n",
       "| Tom  |\n",
       "| Mark |\n",
       "| Jane |\n",
       "\n"
      ],
      "text/plain": [
       "  name\n",
       "1 John\n",
       "2 Tom \n",
       "3 Mark\n",
       "4 Jane"
      ]
     },
     "metadata": {},
     "output_type": "display_data"
    }
   ],
   "source": [
    "# 영어, 수학, 과학 성적을 제외하고 출력\n",
    "sungjuk %>% select(-eng, -mat, -sci)"
   ]
  },
  {
   "cell_type": "code",
   "execution_count": 5,
   "id": "82a7f267-0124-4e72-a76d-66517e8efdfc",
   "metadata": {},
   "outputs": [],
   "source": [
    "# filter (조건검색)\n",
    "sungjuk$class <- c(1,2,1,3)   # 클래스 컬럼 추가"
   ]
  },
  {
   "cell_type": "code",
   "execution_count": 6,
   "id": "2ba24b08-52d5-424d-8f03-b65028e77337",
   "metadata": {},
   "outputs": [
    {
     "data": {
      "text/html": [
       "<table class=\"dataframe\">\n",
       "<caption>A data.frame: 2 × 5</caption>\n",
       "<thead>\n",
       "\t<tr><th scope=col>name</th><th scope=col>eng</th><th scope=col>mat</th><th scope=col>sci</th><th scope=col>class</th></tr>\n",
       "\t<tr><th scope=col>&lt;fct&gt;</th><th scope=col>&lt;dbl&gt;</th><th scope=col>&lt;dbl&gt;</th><th scope=col>&lt;dbl&gt;</th><th scope=col>&lt;dbl&gt;</th></tr>\n",
       "</thead>\n",
       "<tbody>\n",
       "\t<tr><td>John</td><td>90</td><td>85</td><td>90</td><td>1</td></tr>\n",
       "\t<tr><td>Mark</td><td>69</td><td>49</td><td>70</td><td>1</td></tr>\n",
       "</tbody>\n",
       "</table>\n"
      ],
      "text/latex": [
       "A data.frame: 2 × 5\n",
       "\\begin{tabular}{lllll}\n",
       " name & eng & mat & sci & class\\\\\n",
       " <fct> & <dbl> & <dbl> & <dbl> & <dbl>\\\\\n",
       "\\hline\n",
       "\t John & 90 & 85 & 90 & 1\\\\\n",
       "\t Mark & 69 & 49 & 70 & 1\\\\\n",
       "\\end{tabular}\n"
      ],
      "text/markdown": [
       "\n",
       "A data.frame: 2 × 5\n",
       "\n",
       "| name &lt;fct&gt; | eng &lt;dbl&gt; | mat &lt;dbl&gt; | sci &lt;dbl&gt; | class &lt;dbl&gt; |\n",
       "|---|---|---|---|---|\n",
       "| John | 90 | 85 | 90 | 1 |\n",
       "| Mark | 69 | 49 | 70 | 1 |\n",
       "\n"
      ],
      "text/plain": [
       "  name eng mat sci class\n",
       "1 John 90  85  90  1    \n",
       "2 Mark 69  49  70  1    "
      ]
     },
     "metadata": {},
     "output_type": "display_data"
    }
   ],
   "source": [
    "# class가 1인 학생 조회\n",
    "sungjuk %>% filter(class == 1)   # filter(조건식)"
   ]
  },
  {
   "cell_type": "code",
   "execution_count": 7,
   "id": "b5ea6d59-0c42-407c-bdd4-ba8a5598b797",
   "metadata": {},
   "outputs": [
    {
     "data": {
      "text/html": [
       "<table class=\"dataframe\">\n",
       "<caption>A data.frame: 2 × 5</caption>\n",
       "<thead>\n",
       "\t<tr><th scope=col>name</th><th scope=col>eng</th><th scope=col>mat</th><th scope=col>sci</th><th scope=col>class</th></tr>\n",
       "\t<tr><th scope=col>&lt;fct&gt;</th><th scope=col>&lt;dbl&gt;</th><th scope=col>&lt;dbl&gt;</th><th scope=col>&lt;dbl&gt;</th><th scope=col>&lt;dbl&gt;</th></tr>\n",
       "</thead>\n",
       "<tbody>\n",
       "\t<tr><td>Tom </td><td>95</td><td>96</td><td>80</td><td>2</td></tr>\n",
       "\t<tr><td>Jane</td><td>78</td><td>95</td><td>60</td><td>3</td></tr>\n",
       "</tbody>\n",
       "</table>\n"
      ],
      "text/latex": [
       "A data.frame: 2 × 5\n",
       "\\begin{tabular}{lllll}\n",
       " name & eng & mat & sci & class\\\\\n",
       " <fct> & <dbl> & <dbl> & <dbl> & <dbl>\\\\\n",
       "\\hline\n",
       "\t Tom  & 95 & 96 & 80 & 2\\\\\n",
       "\t Jane & 78 & 95 & 60 & 3\\\\\n",
       "\\end{tabular}\n"
      ],
      "text/markdown": [
       "\n",
       "A data.frame: 2 × 5\n",
       "\n",
       "| name &lt;fct&gt; | eng &lt;dbl&gt; | mat &lt;dbl&gt; | sci &lt;dbl&gt; | class &lt;dbl&gt; |\n",
       "|---|---|---|---|---|\n",
       "| Tom  | 95 | 96 | 80 | 2 |\n",
       "| Jane | 78 | 95 | 60 | 3 |\n",
       "\n"
      ],
      "text/plain": [
       "  name eng mat sci class\n",
       "1 Tom  95  96  80  2    \n",
       "2 Jane 78  95  60  3    "
      ]
     },
     "metadata": {},
     "output_type": "display_data"
    }
   ],
   "source": [
    "# class가 1이 아닌 학생 조회\n",
    "sungjuk %>% filter(class != 1)"
   ]
  },
  {
   "cell_type": "code",
   "execution_count": 8,
   "id": "92d9cc3b-ff72-4aa3-84ae-fc570224dc6d",
   "metadata": {},
   "outputs": [
    {
     "data": {
      "text/html": [
       "<table class=\"dataframe\">\n",
       "<caption>A data.frame: 3 × 5</caption>\n",
       "<thead>\n",
       "\t<tr><th scope=col>name</th><th scope=col>eng</th><th scope=col>mat</th><th scope=col>sci</th><th scope=col>class</th></tr>\n",
       "\t<tr><th scope=col>&lt;fct&gt;</th><th scope=col>&lt;dbl&gt;</th><th scope=col>&lt;dbl&gt;</th><th scope=col>&lt;dbl&gt;</th><th scope=col>&lt;dbl&gt;</th></tr>\n",
       "</thead>\n",
       "<tbody>\n",
       "\t<tr><td>John</td><td>90</td><td>85</td><td>90</td><td>1</td></tr>\n",
       "\t<tr><td>Tom </td><td>95</td><td>96</td><td>80</td><td>2</td></tr>\n",
       "\t<tr><td>Jane</td><td>78</td><td>95</td><td>60</td><td>3</td></tr>\n",
       "</tbody>\n",
       "</table>\n"
      ],
      "text/latex": [
       "A data.frame: 3 × 5\n",
       "\\begin{tabular}{lllll}\n",
       " name & eng & mat & sci & class\\\\\n",
       " <fct> & <dbl> & <dbl> & <dbl> & <dbl>\\\\\n",
       "\\hline\n",
       "\t John & 90 & 85 & 90 & 1\\\\\n",
       "\t Tom  & 95 & 96 & 80 & 2\\\\\n",
       "\t Jane & 78 & 95 & 60 & 3\\\\\n",
       "\\end{tabular}\n"
      ],
      "text/markdown": [
       "\n",
       "A data.frame: 3 × 5\n",
       "\n",
       "| name &lt;fct&gt; | eng &lt;dbl&gt; | mat &lt;dbl&gt; | sci &lt;dbl&gt; | class &lt;dbl&gt; |\n",
       "|---|---|---|---|---|\n",
       "| John | 90 | 85 | 90 | 1 |\n",
       "| Tom  | 95 | 96 | 80 | 2 |\n",
       "| Jane | 78 | 95 | 60 | 3 |\n",
       "\n"
      ],
      "text/plain": [
       "  name eng mat sci class\n",
       "1 John 90  85  90  1    \n",
       "2 Tom  95  96  80  2    \n",
       "3 Jane 78  95  60  3    "
      ]
     },
     "metadata": {},
     "output_type": "display_data"
    }
   ],
   "source": [
    "# 영어성적이 70이상인 학생 조회\n",
    "sungjuk %>% filter(eng >= 70)"
   ]
  },
  {
   "cell_type": "code",
   "execution_count": 9,
   "id": "6ec3023c-0d6a-46a5-bfb7-d161076a0f3f",
   "metadata": {},
   "outputs": [
    {
     "data": {
      "text/html": [
       "<table class=\"dataframe\">\n",
       "<caption>A data.frame: 2 × 5</caption>\n",
       "<thead>\n",
       "\t<tr><th scope=col>name</th><th scope=col>eng</th><th scope=col>mat</th><th scope=col>sci</th><th scope=col>class</th></tr>\n",
       "\t<tr><th scope=col>&lt;fct&gt;</th><th scope=col>&lt;dbl&gt;</th><th scope=col>&lt;dbl&gt;</th><th scope=col>&lt;dbl&gt;</th><th scope=col>&lt;dbl&gt;</th></tr>\n",
       "</thead>\n",
       "<tbody>\n",
       "\t<tr><td>John</td><td>90</td><td>85</td><td>90</td><td>1</td></tr>\n",
       "\t<tr><td>Tom </td><td>95</td><td>96</td><td>80</td><td>2</td></tr>\n",
       "</tbody>\n",
       "</table>\n"
      ],
      "text/latex": [
       "A data.frame: 2 × 5\n",
       "\\begin{tabular}{lllll}\n",
       " name & eng & mat & sci & class\\\\\n",
       " <fct> & <dbl> & <dbl> & <dbl> & <dbl>\\\\\n",
       "\\hline\n",
       "\t John & 90 & 85 & 90 & 1\\\\\n",
       "\t Tom  & 95 & 96 & 80 & 2\\\\\n",
       "\\end{tabular}\n"
      ],
      "text/markdown": [
       "\n",
       "A data.frame: 2 × 5\n",
       "\n",
       "| name &lt;fct&gt; | eng &lt;dbl&gt; | mat &lt;dbl&gt; | sci &lt;dbl&gt; | class &lt;dbl&gt; |\n",
       "|---|---|---|---|---|\n",
       "| John | 90 | 85 | 90 | 1 |\n",
       "| Tom  | 95 | 96 | 80 | 2 |\n",
       "\n"
      ],
      "text/plain": [
       "  name eng mat sci class\n",
       "1 John 90  85  90  1    \n",
       "2 Tom  95  96  80  2    "
      ]
     },
     "metadata": {},
     "output_type": "display_data"
    },
    {
     "data": {
      "text/html": [
       "<table class=\"dataframe\">\n",
       "<caption>A data.frame: 2 × 5</caption>\n",
       "<thead>\n",
       "\t<tr><th scope=col>name</th><th scope=col>eng</th><th scope=col>mat</th><th scope=col>sci</th><th scope=col>class</th></tr>\n",
       "\t<tr><th scope=col>&lt;fct&gt;</th><th scope=col>&lt;dbl&gt;</th><th scope=col>&lt;dbl&gt;</th><th scope=col>&lt;dbl&gt;</th><th scope=col>&lt;dbl&gt;</th></tr>\n",
       "</thead>\n",
       "<tbody>\n",
       "\t<tr><td>John</td><td>90</td><td>85</td><td>90</td><td>1</td></tr>\n",
       "\t<tr><td>Tom </td><td>95</td><td>96</td><td>80</td><td>2</td></tr>\n",
       "</tbody>\n",
       "</table>\n"
      ],
      "text/latex": [
       "A data.frame: 2 × 5\n",
       "\\begin{tabular}{lllll}\n",
       " name & eng & mat & sci & class\\\\\n",
       " <fct> & <dbl> & <dbl> & <dbl> & <dbl>\\\\\n",
       "\\hline\n",
       "\t John & 90 & 85 & 90 & 1\\\\\n",
       "\t Tom  & 95 & 96 & 80 & 2\\\\\n",
       "\\end{tabular}\n"
      ],
      "text/markdown": [
       "\n",
       "A data.frame: 2 × 5\n",
       "\n",
       "| name &lt;fct&gt; | eng &lt;dbl&gt; | mat &lt;dbl&gt; | sci &lt;dbl&gt; | class &lt;dbl&gt; |\n",
       "|---|---|---|---|---|\n",
       "| John | 90 | 85 | 90 | 1 |\n",
       "| Tom  | 95 | 96 | 80 | 2 |\n",
       "\n"
      ],
      "text/plain": [
       "  name eng mat sci class\n",
       "1 John 90  85  90  1    \n",
       "2 Tom  95  96  80  2    "
      ]
     },
     "metadata": {},
     "output_type": "display_data"
    }
   ],
   "source": [
    "# 영어성적이 80이상, 수학성적이 85인 학생 조회\n",
    "sungjuk %>% filter(eng >= 80 & mat >= 85)\n",
    "sungjuk %>% filter(eng >= 80, mat >= 85)"
   ]
  },
  {
   "cell_type": "code",
   "execution_count": 10,
   "id": "359628f4-c5e2-46b1-9670-f774a36308ce",
   "metadata": {},
   "outputs": [
    {
     "data": {
      "text/html": [
       "<table class=\"dataframe\">\n",
       "<caption>A data.frame: 2 × 2</caption>\n",
       "<thead>\n",
       "\t<tr><th scope=col>name</th><th scope=col>class</th></tr>\n",
       "\t<tr><th scope=col>&lt;fct&gt;</th><th scope=col>&lt;dbl&gt;</th></tr>\n",
       "</thead>\n",
       "<tbody>\n",
       "\t<tr><td>John</td><td>1</td></tr>\n",
       "\t<tr><td>Tom </td><td>2</td></tr>\n",
       "</tbody>\n",
       "</table>\n"
      ],
      "text/latex": [
       "A data.frame: 2 × 2\n",
       "\\begin{tabular}{ll}\n",
       " name & class\\\\\n",
       " <fct> & <dbl>\\\\\n",
       "\\hline\n",
       "\t John & 1\\\\\n",
       "\t Tom  & 2\\\\\n",
       "\\end{tabular}\n"
      ],
      "text/markdown": [
       "\n",
       "A data.frame: 2 × 2\n",
       "\n",
       "| name &lt;fct&gt; | class &lt;dbl&gt; |\n",
       "|---|---|\n",
       "| John | 1 |\n",
       "| Tom  | 2 |\n",
       "\n"
      ],
      "text/plain": [
       "  name class\n",
       "1 John 1    \n",
       "2 Tom  2    "
      ]
     },
     "metadata": {},
     "output_type": "display_data"
    }
   ],
   "source": [
    "# 영어성적이 80이상, 수학성적이 85인 학생들의 이름,class 조회\n",
    "sungjuk %>% filter(eng >= 80, mat >= 85) %>% select(name, class)"
   ]
  },
  {
   "cell_type": "markdown",
   "id": "d3b28871-e4cf-4601-8e4b-75f0144b02f9",
   "metadata": {},
   "source": [
    "### ggplot2 패키지에 있는 mpg 데이터셋을 이용해서 다음 문제들을 풀어보세요"
   ]
  },
  {
   "cell_type": "code",
   "execution_count": 11,
   "id": "f6651a56-0747-49da-81ae-961d3d28b374",
   "metadata": {},
   "outputs": [
    {
     "data": {
      "text/html": [
       "<table class=\"dataframe\">\n",
       "<caption>A tibble: 6 × 11</caption>\n",
       "<thead>\n",
       "\t<tr><th scope=col>manufacturer</th><th scope=col>model</th><th scope=col>displ</th><th scope=col>year</th><th scope=col>cyl</th><th scope=col>trans</th><th scope=col>drv</th><th scope=col>cty</th><th scope=col>hwy</th><th scope=col>fl</th><th scope=col>class</th></tr>\n",
       "\t<tr><th scope=col>&lt;chr&gt;</th><th scope=col>&lt;chr&gt;</th><th scope=col>&lt;dbl&gt;</th><th scope=col>&lt;int&gt;</th><th scope=col>&lt;int&gt;</th><th scope=col>&lt;chr&gt;</th><th scope=col>&lt;chr&gt;</th><th scope=col>&lt;int&gt;</th><th scope=col>&lt;int&gt;</th><th scope=col>&lt;chr&gt;</th><th scope=col>&lt;chr&gt;</th></tr>\n",
       "</thead>\n",
       "<tbody>\n",
       "\t<tr><td>audi</td><td>a4</td><td>1.8</td><td>1999</td><td>4</td><td>auto(l5)  </td><td>f</td><td>18</td><td>29</td><td>p</td><td>compact</td></tr>\n",
       "\t<tr><td>audi</td><td>a4</td><td>1.8</td><td>1999</td><td>4</td><td>manual(m5)</td><td>f</td><td>21</td><td>29</td><td>p</td><td>compact</td></tr>\n",
       "\t<tr><td>audi</td><td>a4</td><td>2.0</td><td>2008</td><td>4</td><td>manual(m6)</td><td>f</td><td>20</td><td>31</td><td>p</td><td>compact</td></tr>\n",
       "\t<tr><td>audi</td><td>a4</td><td>2.0</td><td>2008</td><td>4</td><td>auto(av)  </td><td>f</td><td>21</td><td>30</td><td>p</td><td>compact</td></tr>\n",
       "\t<tr><td>audi</td><td>a4</td><td>2.8</td><td>1999</td><td>6</td><td>auto(l5)  </td><td>f</td><td>16</td><td>26</td><td>p</td><td>compact</td></tr>\n",
       "\t<tr><td>audi</td><td>a4</td><td>2.8</td><td>1999</td><td>6</td><td>manual(m5)</td><td>f</td><td>18</td><td>26</td><td>p</td><td>compact</td></tr>\n",
       "</tbody>\n",
       "</table>\n"
      ],
      "text/latex": [
       "A tibble: 6 × 11\n",
       "\\begin{tabular}{lllllllllll}\n",
       " manufacturer & model & displ & year & cyl & trans & drv & cty & hwy & fl & class\\\\\n",
       " <chr> & <chr> & <dbl> & <int> & <int> & <chr> & <chr> & <int> & <int> & <chr> & <chr>\\\\\n",
       "\\hline\n",
       "\t audi & a4 & 1.8 & 1999 & 4 & auto(l5)   & f & 18 & 29 & p & compact\\\\\n",
       "\t audi & a4 & 1.8 & 1999 & 4 & manual(m5) & f & 21 & 29 & p & compact\\\\\n",
       "\t audi & a4 & 2.0 & 2008 & 4 & manual(m6) & f & 20 & 31 & p & compact\\\\\n",
       "\t audi & a4 & 2.0 & 2008 & 4 & auto(av)   & f & 21 & 30 & p & compact\\\\\n",
       "\t audi & a4 & 2.8 & 1999 & 6 & auto(l5)   & f & 16 & 26 & p & compact\\\\\n",
       "\t audi & a4 & 2.8 & 1999 & 6 & manual(m5) & f & 18 & 26 & p & compact\\\\\n",
       "\\end{tabular}\n"
      ],
      "text/markdown": [
       "\n",
       "A tibble: 6 × 11\n",
       "\n",
       "| manufacturer &lt;chr&gt; | model &lt;chr&gt; | displ &lt;dbl&gt; | year &lt;int&gt; | cyl &lt;int&gt; | trans &lt;chr&gt; | drv &lt;chr&gt; | cty &lt;int&gt; | hwy &lt;int&gt; | fl &lt;chr&gt; | class &lt;chr&gt; |\n",
       "|---|---|---|---|---|---|---|---|---|---|---|\n",
       "| audi | a4 | 1.8 | 1999 | 4 | auto(l5)   | f | 18 | 29 | p | compact |\n",
       "| audi | a4 | 1.8 | 1999 | 4 | manual(m5) | f | 21 | 29 | p | compact |\n",
       "| audi | a4 | 2.0 | 2008 | 4 | manual(m6) | f | 20 | 31 | p | compact |\n",
       "| audi | a4 | 2.0 | 2008 | 4 | auto(av)   | f | 21 | 30 | p | compact |\n",
       "| audi | a4 | 2.8 | 1999 | 6 | auto(l5)   | f | 16 | 26 | p | compact |\n",
       "| audi | a4 | 2.8 | 1999 | 6 | manual(m5) | f | 18 | 26 | p | compact |\n",
       "\n"
      ],
      "text/plain": [
       "  manufacturer model displ year cyl trans      drv cty hwy fl class  \n",
       "1 audi         a4    1.8   1999 4   auto(l5)   f   18  29  p  compact\n",
       "2 audi         a4    1.8   1999 4   manual(m5) f   21  29  p  compact\n",
       "3 audi         a4    2.0   2008 4   manual(m6) f   20  31  p  compact\n",
       "4 audi         a4    2.0   2008 4   auto(av)   f   21  30  p  compact\n",
       "5 audi         a4    2.8   1999 6   auto(l5)   f   16  26  p  compact\n",
       "6 audi         a4    2.8   1999 6   manual(m5) f   18  26  p  compact"
      ]
     },
     "metadata": {},
     "output_type": "display_data"
    }
   ],
   "source": [
    "library(ggplot2)\n",
    "head(mpg)"
   ]
  },
  {
   "cell_type": "code",
   "execution_count": 12,
   "id": "60a1e9c9-74a2-4262-bf91-cb532dac1fe2",
   "metadata": {},
   "outputs": [
    {
     "name": "stdout",
     "output_type": "stream",
     "text": [
      "\u001b[90m# A tibble: 234 × 2\u001b[39m\n",
      "   class     cty\n",
      "   \u001b[3m\u001b[90m<chr>\u001b[39m\u001b[23m   \u001b[3m\u001b[90m<int>\u001b[39m\u001b[23m\n",
      "\u001b[90m 1\u001b[39m compact    18\n",
      "\u001b[90m 2\u001b[39m compact    21\n",
      "\u001b[90m 3\u001b[39m compact    20\n",
      "\u001b[90m 4\u001b[39m compact    21\n",
      "\u001b[90m 5\u001b[39m compact    16\n",
      "\u001b[90m 6\u001b[39m compact    18\n",
      "\u001b[90m 7\u001b[39m compact    18\n",
      "\u001b[90m 8\u001b[39m compact    18\n",
      "\u001b[90m 9\u001b[39m compact    16\n",
      "\u001b[90m10\u001b[39m compact    20\n",
      "\u001b[90m11\u001b[39m compact    19\n",
      "\u001b[90m12\u001b[39m compact    15\n",
      "\u001b[90m13\u001b[39m compact    17\n",
      "\u001b[90m14\u001b[39m compact    17\n",
      "\u001b[90m15\u001b[39m compact    15\n",
      "\u001b[90m16\u001b[39m midsize    15\n",
      "\u001b[90m17\u001b[39m midsize    17\n",
      "\u001b[90m18\u001b[39m midsize    16\n",
      "\u001b[90m19\u001b[39m suv        14\n",
      "\u001b[90m20\u001b[39m suv        11\n",
      "\u001b[90m# … with 214 more rows\u001b[39m\n"
     ]
    }
   ],
   "source": [
    "# 차종class과 도시연비cty를 조회하세요\n",
    "mpg %>% select(class, cty) %>% print(n=20)"
   ]
  },
  {
   "cell_type": "code",
   "execution_count": 13,
   "id": "b2641a81-937b-458d-9ff9-f123e1ce6224",
   "metadata": {},
   "outputs": [
    {
     "data": {
      "text/html": [
       "13.5"
      ],
      "text/latex": [
       "13.5"
      ],
      "text/markdown": [
       "13.5"
      ],
      "text/plain": [
       "[1] 13.5"
      ]
     },
     "metadata": {},
     "output_type": "display_data"
    },
    {
     "data": {
      "text/html": [
       "20.1"
      ],
      "text/latex": [
       "20.1"
      ],
      "text/markdown": [
       "20.1"
      ],
      "text/plain": [
       "[1] 20.1"
      ]
     },
     "metadata": {},
     "output_type": "display_data"
    }
   ],
   "source": [
    "# 차종이 suv, compact인 차량중\n",
    "# 어느 차량이 도시연비가 높은가?\n",
    "suv <- mpg %>%  select(class, cty) %>% filter(class == 'suv') \n",
    "mean(suv$cty)\n",
    "\n",
    "compact <- mpg %>% select(class, cty) %>% filter(class == 'compact')\n",
    "round(mean(compact$cty),1)"
   ]
  },
  {
   "cell_type": "code",
   "execution_count": 14,
   "id": "739baf7c-85eb-4cdd-9ac0-b30fd2291a79",
   "metadata": {},
   "outputs": [
    {
     "data": {
      "text/html": [
       "19.6"
      ],
      "text/latex": [
       "19.6"
      ],
      "text/markdown": [
       "19.6"
      ],
      "text/plain": [
       "[1] 19.6"
      ]
     },
     "metadata": {},
     "output_type": "display_data"
    },
    {
     "data": {
      "text/html": [
       "17"
      ],
      "text/latex": [
       "17"
      ],
      "text/markdown": [
       "17"
      ],
      "text/plain": [
       "[1] 17"
      ]
     },
     "metadata": {},
     "output_type": "display_data"
    }
   ],
   "source": [
    "# 배기량displ에 따라(4,5)  어느 차량이\n",
    "# 고속도로연비hwy가 높은가?\n",
    "\n",
    "d4 <- mpg %>% filter(displ == 4) %>% select(hwy)\n",
    "mean(d4$hwy)\n",
    "\n",
    "d5<- mpg %>% filter(displ == 5) %>% select(hwy)\n",
    "mean(d5$hwy)"
   ]
  },
  {
   "cell_type": "code",
   "execution_count": 15,
   "id": "9999da31-4365-4116-b484-da1e0f4b3ac8",
   "metadata": {},
   "outputs": [
    {
     "data": {
      "text/html": [
       "17.6111111111111"
      ],
      "text/latex": [
       "17.6111111111111"
      ],
      "text/markdown": [
       "17.6111111111111"
      ],
      "text/plain": [
       "[1] 17.61111"
      ]
     },
     "metadata": {},
     "output_type": "display_data"
    },
    {
     "data": {
      "text/html": [
       "18.5294117647059"
      ],
      "text/latex": [
       "18.5294117647059"
      ],
      "text/markdown": [
       "18.5294117647059"
      ],
      "text/plain": [
       "[1] 18.52941"
      ]
     },
     "metadata": {},
     "output_type": "display_data"
    }
   ],
   "source": [
    "# 제조사manufactor에 따라(audi, toyota)\n",
    "# 어느 차량이 도시연비가 높은가?\n",
    "\n",
    "audi <- mpg %>% filter(manufacturer == 'audi') %>% select(cty)\n",
    "mean(audi$cty)\n",
    "\n",
    "toyota <- mpg %>% filter(manufacturer == 'toyota') %>% select(cty)\n",
    "mean(toyota$cty)"
   ]
  },
  {
   "cell_type": "code",
   "execution_count": 16,
   "id": "89d300e1-1818-4121-8c40-2b5246801b9e",
   "metadata": {},
   "outputs": [
    {
     "data": {
      "text/html": [
       "21.8947368421053"
      ],
      "text/latex": [
       "21.8947368421053"
      ],
      "text/markdown": [
       "21.8947368421053"
      ],
      "text/plain": [
       "[1] 21.89474"
      ]
     },
     "metadata": {},
     "output_type": "display_data"
    },
    {
     "data": {
      "text/html": [
       "19.36"
      ],
      "text/latex": [
       "19.36"
      ],
      "text/markdown": [
       "19.36"
      ],
      "text/plain": [
       "[1] 19.36"
      ]
     },
     "metadata": {},
     "output_type": "display_data"
    },
    {
     "data": {
      "text/html": [
       "32.5555555555556"
      ],
      "text/latex": [
       "32.5555555555556"
      ],
      "text/markdown": [
       "32.5555555555556"
      ],
      "text/plain": [
       "[1] 32.55556"
      ]
     },
     "metadata": {},
     "output_type": "display_data"
    }
   ],
   "source": [
    "# chervolet, ford, honda 차량의\n",
    "# 평균 고속도로연비를 조회하시오\n",
    "\n",
    "chl <- mpg %>% filter(manufacturer == 'chevrolet') %>% select(hwy)\n",
    "mean(chl$hwy)\n",
    "\n",
    "ford <- mpg %>% filter(manufacturer == 'ford') %>% select(hwy)\n",
    "mean(ford$hwy)\n",
    "\n",
    "honda <- mpg %>% filter(manufacturer == 'honda') %>% select(hwy)\n",
    "mean(honda$hwy)"
   ]
  },
  {
   "cell_type": "markdown",
   "id": "709a9d79-0093-404c-a494-e645da8c1092",
   "metadata": {},
   "source": [
    "### mutate(행, 열 추가)"
   ]
  },
  {
   "cell_type": "code",
   "execution_count": 17,
   "id": "b02878e6-cc49-49ff-a33b-7aab7e2222f2",
   "metadata": {},
   "outputs": [
    {
     "data": {
      "text/html": [
       "<table class=\"dataframe\">\n",
       "<caption>A tibble: 6 × 4</caption>\n",
       "<thead>\n",
       "\t<tr><th scope=col>model</th><th scope=col>manufacturer</th><th scope=col>allmpg</th><th scope=col>avgmpg</th></tr>\n",
       "\t<tr><th scope=col>&lt;chr&gt;</th><th scope=col>&lt;chr&gt;</th><th scope=col>&lt;int&gt;</th><th scope=col>&lt;dbl&gt;</th></tr>\n",
       "</thead>\n",
       "<tbody>\n",
       "\t<tr><td>a4</td><td>audi</td><td>47</td><td>23.5</td></tr>\n",
       "\t<tr><td>a4</td><td>audi</td><td>50</td><td>25.0</td></tr>\n",
       "\t<tr><td>a4</td><td>audi</td><td>51</td><td>25.5</td></tr>\n",
       "\t<tr><td>a4</td><td>audi</td><td>51</td><td>25.5</td></tr>\n",
       "\t<tr><td>a4</td><td>audi</td><td>42</td><td>21.0</td></tr>\n",
       "\t<tr><td>a4</td><td>audi</td><td>44</td><td>22.0</td></tr>\n",
       "</tbody>\n",
       "</table>\n"
      ],
      "text/latex": [
       "A tibble: 6 × 4\n",
       "\\begin{tabular}{llll}\n",
       " model & manufacturer & allmpg & avgmpg\\\\\n",
       " <chr> & <chr> & <int> & <dbl>\\\\\n",
       "\\hline\n",
       "\t a4 & audi & 47 & 23.5\\\\\n",
       "\t a4 & audi & 50 & 25.0\\\\\n",
       "\t a4 & audi & 51 & 25.5\\\\\n",
       "\t a4 & audi & 51 & 25.5\\\\\n",
       "\t a4 & audi & 42 & 21.0\\\\\n",
       "\t a4 & audi & 44 & 22.0\\\\\n",
       "\\end{tabular}\n"
      ],
      "text/markdown": [
       "\n",
       "A tibble: 6 × 4\n",
       "\n",
       "| model &lt;chr&gt; | manufacturer &lt;chr&gt; | allmpg &lt;int&gt; | avgmpg &lt;dbl&gt; |\n",
       "|---|---|---|---|\n",
       "| a4 | audi | 47 | 23.5 |\n",
       "| a4 | audi | 50 | 25.0 |\n",
       "| a4 | audi | 51 | 25.5 |\n",
       "| a4 | audi | 51 | 25.5 |\n",
       "| a4 | audi | 42 | 21.0 |\n",
       "| a4 | audi | 44 | 22.0 |\n",
       "\n"
      ],
      "text/plain": [
       "  model manufacturer allmpg avgmpg\n",
       "1 a4    audi         47     23.5  \n",
       "2 a4    audi         50     25.0  \n",
       "3 a4    audi         51     25.5  \n",
       "4 a4    audi         51     25.5  \n",
       "5 a4    audi         42     21.0  \n",
       "6 a4    audi         44     22.0  "
      ]
     },
     "metadata": {},
     "output_type": "display_data"
    }
   ],
   "source": [
    "# 고속도로연비와 도시연비를 합산해서 allmpg를 2로 나눠 avgmpg라는 컬럼을 생성해서 \n",
    "# 모델명 , 제조사, allmpg, avgmpg 순으로 조회하세요\n",
    "\n",
    "mpg %>% mutate(allmpg = cty + hwy, avgmpg = allmpg /2 ) %>% select(model, manufacturer, allmpg, avgmpg) %>% head()"
   ]
  }
 ],
 "metadata": {
  "kernelspec": {
   "display_name": "R",
   "language": "R",
   "name": "ir"
  },
  "language_info": {
   "codemirror_mode": "r",
   "file_extension": ".r",
   "mimetype": "text/x-r-source",
   "name": "R",
   "pygments_lexer": "r",
   "version": "3.6.3"
  }
 },
 "nbformat": 4,
 "nbformat_minor": 5
}
