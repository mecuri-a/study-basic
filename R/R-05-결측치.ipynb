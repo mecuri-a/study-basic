{
 "cells": [
  {
   "cell_type": "markdown",
   "id": "45da0e83-67ca-4d87-9bd0-34aa1519984d",
   "metadata": {},
   "source": [
    "### 결측치 : missing value (누락값)\n",
    "+ 데이터 수집과정에서 채워지지 못한 값을 의미\n",
    "+ 예를 들어 설문조사시 설문자가 특정문항에\n",
    "    - 답을 하지 않으면 그 문항이 결측치가 됨\n",
    "+ 데이터에 결측치가 포함되어 있으면\n",
    "    - 데이터 분석시 편향/왜곡된 결과가 도출될 수 있음\n",
    "+ 해결책 : 제거하거나 추정값으로 대체"
   ]
  },
  {
   "cell_type": "code",
   "execution_count": 1,
   "id": "4aab79c6-3a5e-47cc-a909-50ee77ba5ce9",
   "metadata": {},
   "outputs": [
    {
     "data": {
      "text/html": [
       "&lt;NA&gt;"
      ],
      "text/latex": [
       "<NA>"
      ],
      "text/markdown": [
       "&lt;NA&gt;"
      ],
      "text/plain": [
       "[1] NA"
      ]
     },
     "metadata": {},
     "output_type": "display_data"
    },
    {
     "data": {
      "text/html": [
       "<style>\n",
       ".list-inline {list-style: none; margin:0; padding: 0}\n",
       ".list-inline>li {display: inline-block}\n",
       ".list-inline>li:not(:last-child)::after {content: \"\\00b7\"; padding: 0 .5ex}\n",
       "</style>\n",
       "<ol class=list-inline><li>FALSE</li><li>FALSE</li><li>FALSE</li><li>TRUE</li><li>FALSE</li><li>TRUE</li><li>FALSE</li></ol>\n"
      ],
      "text/latex": [
       "\\begin{enumerate*}\n",
       "\\item FALSE\n",
       "\\item FALSE\n",
       "\\item FALSE\n",
       "\\item TRUE\n",
       "\\item FALSE\n",
       "\\item TRUE\n",
       "\\item FALSE\n",
       "\\end{enumerate*}\n"
      ],
      "text/markdown": [
       "1. FALSE\n",
       "2. FALSE\n",
       "3. FALSE\n",
       "4. TRUE\n",
       "5. FALSE\n",
       "6. TRUE\n",
       "7. FALSE\n",
       "\n",
       "\n"
      ],
      "text/plain": [
       "[1] FALSE FALSE FALSE  TRUE FALSE  TRUE FALSE"
      ]
     },
     "metadata": {},
     "output_type": "display_data"
    },
    {
     "data": {
      "text/html": [
       "2"
      ],
      "text/latex": [
       "2"
      ],
      "text/markdown": [
       "2"
      ],
      "text/plain": [
       "[1] 2"
      ]
     },
     "metadata": {},
     "output_type": "display_data"
    },
    {
     "data": {
      "text/plain": [
       "\n",
       "FALSE  TRUE \n",
       "    5     2 "
      ]
     },
     "metadata": {},
     "output_type": "display_data"
    }
   ],
   "source": [
    "x <- c(1,2,3,NA,5,NA,7)\n",
    "sum(x)\n",
    "\n",
    "# NA 확인 => TRUE\n",
    "is.na(x)\n",
    "\n",
    "# 결측치 갯수 확인\n",
    "sum(is.na(x))\n",
    "\n",
    "# 빈도표 결측치 확인\n",
    "table(is.na(x))"
   ]
  },
  {
   "cell_type": "markdown",
   "id": "82afbe47-85d1-4dd5-86f5-0d4996086018",
   "metadata": {},
   "source": [
    "### 결측치 처리 : 제거"
   ]
  },
  {
   "cell_type": "code",
   "execution_count": 2,
   "id": "d7808729-7c81-4451-8f17-162c2249220d",
   "metadata": {},
   "outputs": [
    {
     "data": {
      "text/html": [
       "18"
      ],
      "text/latex": [
       "18"
      ],
      "text/markdown": [
       "18"
      ],
      "text/plain": [
       "[1] 18"
      ]
     },
     "metadata": {},
     "output_type": "display_data"
    }
   ],
   "source": [
    "sum(x, na.rm=T) # NA 제외후 계산"
   ]
  },
  {
   "cell_type": "code",
   "execution_count": 3,
   "id": "ce9360ba-4c98-4461-9d46-9d19d467cb55",
   "metadata": {},
   "outputs": [
    {
     "data": {
      "text/html": [
       "<style>\n",
       ".list-inline {list-style: none; margin:0; padding: 0}\n",
       ".list-inline>li {display: inline-block}\n",
       ".list-inline>li:not(:last-child)::after {content: \"\\00b7\"; padding: 0 .5ex}\n",
       "</style>\n",
       "<ol class=list-inline><li>1</li><li>2</li><li>3</li><li>5</li><li>7</li></ol>\n"
      ],
      "text/latex": [
       "\\begin{enumerate*}\n",
       "\\item 1\n",
       "\\item 2\n",
       "\\item 3\n",
       "\\item 5\n",
       "\\item 7\n",
       "\\end{enumerate*}\n"
      ],
      "text/markdown": [
       "1. 1\n",
       "2. 2\n",
       "3. 3\n",
       "4. 5\n",
       "5. 7\n",
       "\n",
       "\n"
      ],
      "text/plain": [
       "[1] 1 2 3 5 7\n",
       "attr(,\"na.action\")\n",
       "[1] 4 6\n",
       "attr(,\"class\")\n",
       "[1] \"omit\""
      ]
     },
     "metadata": {},
     "output_type": "display_data"
    },
    {
     "data": {
      "text/html": [
       "<style>\n",
       ".list-inline {list-style: none; margin:0; padding: 0}\n",
       ".list-inline>li {display: inline-block}\n",
       ".list-inline>li:not(:last-child)::after {content: \"\\00b7\"; padding: 0 .5ex}\n",
       "</style>\n",
       "<ol class=list-inline><li>1</li><li>2</li><li>3</li><li>5</li><li>7</li></ol>\n"
      ],
      "text/latex": [
       "\\begin{enumerate*}\n",
       "\\item 1\n",
       "\\item 2\n",
       "\\item 3\n",
       "\\item 5\n",
       "\\item 7\n",
       "\\end{enumerate*}\n"
      ],
      "text/markdown": [
       "1. 1\n",
       "2. 2\n",
       "3. 3\n",
       "4. 5\n",
       "5. 7\n",
       "\n",
       "\n"
      ],
      "text/plain": [
       "[1] 1 2 3 5 7"
      ]
     },
     "metadata": {},
     "output_type": "display_data"
    }
   ],
   "source": [
    "# NA 제거\n",
    "na.omit(x)\n",
    "\n",
    "# NA 제거 후 새로운 벡터로 저장\n",
    "x2 <- as.vector(na.omit(x))\n",
    "x2"
   ]
  },
  {
   "cell_type": "markdown",
   "id": "690bd7b2-5147-490a-8cb3-f267575466b4",
   "metadata": {},
   "source": [
    "### 결측치 처리 : 대체"
   ]
  },
  {
   "cell_type": "code",
   "execution_count": 4,
   "id": "2b987e90-9f2e-4597-b717-7f3716774d6d",
   "metadata": {},
   "outputs": [
    {
     "data": {
      "text/html": [
       "<style>\n",
       ".list-inline {list-style: none; margin:0; padding: 0}\n",
       ".list-inline>li {display: inline-block}\n",
       ".list-inline>li:not(:last-child)::after {content: \"\\00b7\"; padding: 0 .5ex}\n",
       "</style>\n",
       "<ol class=list-inline><li>1</li><li>2</li><li>3</li><li>3.6</li><li>5</li><li>3.6</li><li>7</li></ol>\n"
      ],
      "text/latex": [
       "\\begin{enumerate*}\n",
       "\\item 1\n",
       "\\item 2\n",
       "\\item 3\n",
       "\\item 3.6\n",
       "\\item 5\n",
       "\\item 3.6\n",
       "\\item 7\n",
       "\\end{enumerate*}\n"
      ],
      "text/markdown": [
       "1. 1\n",
       "2. 2\n",
       "3. 3\n",
       "4. 3.6\n",
       "5. 5\n",
       "6. 3.6\n",
       "7. 7\n",
       "\n",
       "\n"
      ],
      "text/plain": [
       "[1] 1.0 2.0 3.0 3.6 5.0 3.6 7.0"
      ]
     },
     "metadata": {},
     "output_type": "display_data"
    }
   ],
   "source": [
    "mean <- mean(x, na.rm=T)\n",
    "\n",
    "# boolean 인덱싱을 이용해서 NA 요소를 찾은 후 평균값으로 대체\n",
    "x[is.na(x)] <- mean\n",
    "x"
   ]
  },
  {
   "cell_type": "markdown",
   "id": "901c33af-9273-498f-91b6-aed153f04752",
   "metadata": {},
   "source": [
    "### 우편번호 데이터를 읽어오고 결측치 처리함"
   ]
  },
  {
   "cell_type": "code",
   "execution_count": 5,
   "id": "c5c0be5a-6448-434a-a74c-8f3723d2d321",
   "metadata": {},
   "outputs": [
    {
     "data": {
      "text/html": [
       "<table class=\"dataframe\">\n",
       "<caption>A data.frame: 6 × 7</caption>\n",
       "<thead>\n",
       "\t<tr><th></th><th scope=col>ZIPCODE</th><th scope=col>SIDO</th><th scope=col>GUGUN</th><th scope=col>DONG</th><th scope=col>RI</th><th scope=col>BUNJI</th><th scope=col>SEQ</th></tr>\n",
       "\t<tr><th></th><th scope=col>&lt;fct&gt;</th><th scope=col>&lt;fct&gt;</th><th scope=col>&lt;fct&gt;</th><th scope=col>&lt;fct&gt;</th><th scope=col>&lt;fct&gt;</th><th scope=col>&lt;fct&gt;</th><th scope=col>&lt;int&gt;</th></tr>\n",
       "</thead>\n",
       "<tbody>\n",
       "\t<tr><th scope=row>1</th><td>135-806</td><td>서울</td><td>강남구</td><td>개포1동</td><td>경남아파트   </td><td>           </td><td>1</td></tr>\n",
       "\t<tr><th scope=row>2</th><td>135-807</td><td>서울</td><td>강남구</td><td>개포1동</td><td>우성3차아파트</td><td>(1∼6동)    </td><td>2</td></tr>\n",
       "\t<tr><th scope=row>3</th><td>135-806</td><td>서울</td><td>강남구</td><td>개포1동</td><td>우성9차아파트</td><td>(901∼902동)</td><td>3</td></tr>\n",
       "\t<tr><th scope=row>4</th><td>135-770</td><td>서울</td><td>강남구</td><td>개포1동</td><td>주공아파트   </td><td>(1∼16동)   </td><td>4</td></tr>\n",
       "\t<tr><th scope=row>5</th><td>135-805</td><td>서울</td><td>강남구</td><td>개포1동</td><td>주공아파트   </td><td>(17∼40동)  </td><td>5</td></tr>\n",
       "\t<tr><th scope=row>6</th><td>135-966</td><td>서울</td><td>강남구</td><td>개포1동</td><td>주공아파트   </td><td>(41∼85동)  </td><td>6</td></tr>\n",
       "</tbody>\n",
       "</table>\n"
      ],
      "text/latex": [
       "A data.frame: 6 × 7\n",
       "\\begin{tabular}{r|lllllll}\n",
       "  & ZIPCODE & SIDO & GUGUN & DONG & RI & BUNJI & SEQ\\\\\n",
       "  & <fct> & <fct> & <fct> & <fct> & <fct> & <fct> & <int>\\\\\n",
       "\\hline\n",
       "\t1 & 135-806 & 서울 & 강남구 & 개포1동 & 경남아파트    &             & 1\\\\\n",
       "\t2 & 135-807 & 서울 & 강남구 & 개포1동 & 우성3차아파트 & (1∼6동)     & 2\\\\\n",
       "\t3 & 135-806 & 서울 & 강남구 & 개포1동 & 우성9차아파트 & (901∼902동) & 3\\\\\n",
       "\t4 & 135-770 & 서울 & 강남구 & 개포1동 & 주공아파트    & (1∼16동)    & 4\\\\\n",
       "\t5 & 135-805 & 서울 & 강남구 & 개포1동 & 주공아파트    & (17∼40동)   & 5\\\\\n",
       "\t6 & 135-966 & 서울 & 강남구 & 개포1동 & 주공아파트    & (41∼85동)   & 6\\\\\n",
       "\\end{tabular}\n"
      ],
      "text/markdown": [
       "\n",
       "A data.frame: 6 × 7\n",
       "\n",
       "| <!--/--> | ZIPCODE &lt;fct&gt; | SIDO &lt;fct&gt; | GUGUN &lt;fct&gt; | DONG &lt;fct&gt; | RI &lt;fct&gt; | BUNJI &lt;fct&gt; | SEQ &lt;int&gt; |\n",
       "|---|---|---|---|---|---|---|---|\n",
       "| 1 | 135-806 | 서울 | 강남구 | 개포1동 | 경남아파트    | <!----> | 1 |\n",
       "| 2 | 135-807 | 서울 | 강남구 | 개포1동 | 우성3차아파트 | (1∼6동)     | 2 |\n",
       "| 3 | 135-806 | 서울 | 강남구 | 개포1동 | 우성9차아파트 | (901∼902동) | 3 |\n",
       "| 4 | 135-770 | 서울 | 강남구 | 개포1동 | 주공아파트    | (1∼16동)    | 4 |\n",
       "| 5 | 135-805 | 서울 | 강남구 | 개포1동 | 주공아파트    | (17∼40동)   | 5 |\n",
       "| 6 | 135-966 | 서울 | 강남구 | 개포1동 | 주공아파트    | (41∼85동)   | 6 |\n",
       "\n"
      ],
      "text/plain": [
       "  ZIPCODE SIDO GUGUN  DONG    RI            BUNJI       SEQ\n",
       "1 135-806 서울 강남구 개포1동 경남아파트                1  \n",
       "2 135-807 서울 강남구 개포1동 우성3차아파트 (1∼6동)     2  \n",
       "3 135-806 서울 강남구 개포1동 우성9차아파트 (901∼902동) 3  \n",
       "4 135-770 서울 강남구 개포1동 주공아파트    (1∼16동)    4  \n",
       "5 135-805 서울 강남구 개포1동 주공아파트    (17∼40동)   5  \n",
       "6 135-966 서울 강남구 개포1동 주공아파트    (41∼85동)   6  "
      ]
     },
     "metadata": {},
     "output_type": "display_data"
    }
   ],
   "source": [
    "# read.csv(파일명, 헤더여부, 구분자, 범주형처리, 결측치처리)\n",
    "zipcode = read.csv('rd1/zipcode_2013.txt', header=T, sep='\\t')\n",
    "\n",
    "head(zipcode)"
   ]
  },
  {
   "cell_type": "code",
   "execution_count": 6,
   "id": "59514c27-55af-4519-be95-7f80de58aae9",
   "metadata": {},
   "outputs": [],
   "source": [
    "## titanic데이터 결측치 처리\n",
    "titanic <- read.csv('csv/titanic2.csv',na.strings=c('','NA'))"
   ]
  },
  {
   "cell_type": "code",
   "execution_count": 7,
   "id": "96efd55d-b67f-4a98-bec7-6d4b1640c47f",
   "metadata": {},
   "outputs": [
    {
     "name": "stdout",
     "output_type": "stream",
     "text": [
      "'data.frame':\t1306 obs. of  13 variables:\n",
      " $ pclass  : int  1 1 1 1 1 1 1 1 1 1 ...\n",
      " $ survived: int  1 1 0 0 0 1 1 0 1 0 ...\n",
      " $ name    : Factor w/ 1304 levels \"Abbing, Mr. Anthony\",..: 22 24 25 26 27 31 46 47 51 55 ...\n",
      " $ sex     : Factor w/ 2 levels \"female\",\"male\": 1 2 1 2 1 2 1 2 1 2 ...\n",
      " $ age     : num  29 0.917 2 30 25 ...\n",
      " $ sibsp   : int  0 1 1 1 1 0 1 0 2 0 ...\n",
      " $ parch   : int  0 2 2 2 2 0 0 0 0 0 ...\n",
      " $ ticket  : Factor w/ 927 levels \"110152\",\"110413\",..: 187 49 49 49 49 124 92 16 76 824 ...\n",
      " $ fare    : num  211 152 152 152 152 ...\n",
      " $ embarked: Factor w/ 3 levels \"C\",\"Q\",\"S\": 3 3 3 3 3 3 3 3 3 1 ...\n",
      " $ life    : Factor w/ 2 levels \"dead\",\"live\": 2 2 1 1 1 2 2 1 2 1 ...\n",
      " $ seat    : Factor w/ 3 levels \"1st\",\"2nd\",\"3rd\": 1 1 1 1 1 1 1 1 1 1 ...\n",
      " $ port    : Factor w/ 3 levels \"cherbourg\",\"qeenstown\",..: 3 3 3 3 3 3 3 3 3 1 ...\n"
     ]
    }
   ],
   "source": [
    "str(titanic)"
   ]
  },
  {
   "cell_type": "code",
   "execution_count": 8,
   "id": "61472fe3-f806-4475-9611-ad4a60b70f73",
   "metadata": {},
   "outputs": [
    {
     "data": {
      "text/plain": [
       "     pclass         survived                                    name     \n",
       " Min.   :1.000   Min.   :0.0000   Connolly, Miss. Kate            :   2  \n",
       " 1st Qu.:2.000   1st Qu.:0.0000   Kelly, Mr. James                :   2  \n",
       " Median :3.000   Median :0.0000   Abbing, Mr. Anthony             :   1  \n",
       " Mean   :2.296   Mean   :0.3813   Abbott, Master. Eugene Joseph   :   1  \n",
       " 3rd Qu.:3.000   3rd Qu.:1.0000   Abbott, Mr. Rossmore Edward     :   1  \n",
       " Max.   :3.000   Max.   :1.0000   Abbott, Mrs. Stanton (Rosa Hunt):   1  \n",
       "                                  (Other)                         :1298  \n",
       "     sex           age              sibsp         parch             ticket    \n",
       " female:464   Min.   : 0.1667   Min.   :0.0   Min.   :0.0000   CA. 2343:  11  \n",
       " male  :842   1st Qu.:22.0000   1st Qu.:0.0   1st Qu.:0.0000   1601    :   8  \n",
       "              Median :29.8811   Median :0.0   Median :0.0000   CA 2144 :   8  \n",
       "              Mean   :29.8269   Mean   :0.5   Mean   :0.3859   3101295 :   7  \n",
       "              3rd Qu.:35.0000   3rd Qu.:1.0   3rd Qu.:0.0000   347077  :   7  \n",
       "              Max.   :80.0000   Max.   :8.0   Max.   :9.0000   347082  :   7  \n",
       "                                                               (Other) :1258  \n",
       "      fare         embarked   life      seat               port    \n",
       " Min.   :  0.000   C:270    dead:808   1st:321   cherbourg   :270  \n",
       " 1st Qu.:  7.896   Q:123    live:498   2nd:277   qeenstown   :123  \n",
       " Median : 14.454   S:913               3rd:708   southampthon:913  \n",
       " Mean   : 33.224                                                   \n",
       " 3rd Qu.: 31.275                                                   \n",
       " Max.   :512.329                                                   \n",
       "                                                                   "
      ]
     },
     "metadata": {},
     "output_type": "display_data"
    }
   ],
   "source": [
    "summary(titanic)"
   ]
  },
  {
   "cell_type": "code",
   "execution_count": 9,
   "id": "7ecac309-85c0-4514-ab7a-620f9af25b86",
   "metadata": {},
   "outputs": [
    {
     "data": {
      "text/html": [
       "<table class=\"dataframe\">\n",
       "<caption>A data.frame: 6 × 13</caption>\n",
       "<thead>\n",
       "\t<tr><th></th><th scope=col>pclass</th><th scope=col>survived</th><th scope=col>name</th><th scope=col>sex</th><th scope=col>age</th><th scope=col>sibsp</th><th scope=col>parch</th><th scope=col>ticket</th><th scope=col>fare</th><th scope=col>embarked</th><th scope=col>life</th><th scope=col>seat</th><th scope=col>port</th></tr>\n",
       "\t<tr><th></th><th scope=col>&lt;int&gt;</th><th scope=col>&lt;int&gt;</th><th scope=col>&lt;fct&gt;</th><th scope=col>&lt;fct&gt;</th><th scope=col>&lt;dbl&gt;</th><th scope=col>&lt;int&gt;</th><th scope=col>&lt;int&gt;</th><th scope=col>&lt;fct&gt;</th><th scope=col>&lt;dbl&gt;</th><th scope=col>&lt;fct&gt;</th><th scope=col>&lt;fct&gt;</th><th scope=col>&lt;fct&gt;</th><th scope=col>&lt;fct&gt;</th></tr>\n",
       "</thead>\n",
       "<tbody>\n",
       "\t<tr><th scope=row>1</th><td>1</td><td>1</td><td>Allen, Miss. Elisabeth Walton                  </td><td>female</td><td>29.0000</td><td>0</td><td>0</td><td>24160 </td><td>211.3375</td><td>S</td><td>live</td><td>1st</td><td>southampthon</td></tr>\n",
       "\t<tr><th scope=row>2</th><td>1</td><td>1</td><td>Allison, Master. Hudson Trevor                 </td><td>male  </td><td> 0.9167</td><td>1</td><td>2</td><td>113781</td><td>151.5500</td><td>S</td><td>live</td><td>1st</td><td>southampthon</td></tr>\n",
       "\t<tr><th scope=row>3</th><td>1</td><td>0</td><td>Allison, Miss. Helen Loraine                   </td><td>female</td><td> 2.0000</td><td>1</td><td>2</td><td>113781</td><td>151.5500</td><td>S</td><td>dead</td><td>1st</td><td>southampthon</td></tr>\n",
       "\t<tr><th scope=row>4</th><td>1</td><td>0</td><td>Allison, Mr. Hudson Joshua Creighton           </td><td>male  </td><td>30.0000</td><td>1</td><td>2</td><td>113781</td><td>151.5500</td><td>S</td><td>dead</td><td>1st</td><td>southampthon</td></tr>\n",
       "\t<tr><th scope=row>5</th><td>1</td><td>0</td><td>Allison, Mrs. Hudson J C (Bessie Waldo Daniels)</td><td>female</td><td>25.0000</td><td>1</td><td>2</td><td>113781</td><td>151.5500</td><td>S</td><td>dead</td><td>1st</td><td>southampthon</td></tr>\n",
       "\t<tr><th scope=row>6</th><td>1</td><td>1</td><td>Anderson, Mr. Harry                            </td><td>male  </td><td>48.0000</td><td>0</td><td>0</td><td>19952 </td><td> 26.5500</td><td>S</td><td>live</td><td>1st</td><td>southampthon</td></tr>\n",
       "</tbody>\n",
       "</table>\n"
      ],
      "text/latex": [
       "A data.frame: 6 × 13\n",
       "\\begin{tabular}{r|lllllllllllll}\n",
       "  & pclass & survived & name & sex & age & sibsp & parch & ticket & fare & embarked & life & seat & port\\\\\n",
       "  & <int> & <int> & <fct> & <fct> & <dbl> & <int> & <int> & <fct> & <dbl> & <fct> & <fct> & <fct> & <fct>\\\\\n",
       "\\hline\n",
       "\t1 & 1 & 1 & Allen, Miss. Elisabeth Walton                   & female & 29.0000 & 0 & 0 & 24160  & 211.3375 & S & live & 1st & southampthon\\\\\n",
       "\t2 & 1 & 1 & Allison, Master. Hudson Trevor                  & male   &  0.9167 & 1 & 2 & 113781 & 151.5500 & S & live & 1st & southampthon\\\\\n",
       "\t3 & 1 & 0 & Allison, Miss. Helen Loraine                    & female &  2.0000 & 1 & 2 & 113781 & 151.5500 & S & dead & 1st & southampthon\\\\\n",
       "\t4 & 1 & 0 & Allison, Mr. Hudson Joshua Creighton            & male   & 30.0000 & 1 & 2 & 113781 & 151.5500 & S & dead & 1st & southampthon\\\\\n",
       "\t5 & 1 & 0 & Allison, Mrs. Hudson J C (Bessie Waldo Daniels) & female & 25.0000 & 1 & 2 & 113781 & 151.5500 & S & dead & 1st & southampthon\\\\\n",
       "\t6 & 1 & 1 & Anderson, Mr. Harry                             & male   & 48.0000 & 0 & 0 & 19952  &  26.5500 & S & live & 1st & southampthon\\\\\n",
       "\\end{tabular}\n"
      ],
      "text/markdown": [
       "\n",
       "A data.frame: 6 × 13\n",
       "\n",
       "| <!--/--> | pclass &lt;int&gt; | survived &lt;int&gt; | name &lt;fct&gt; | sex &lt;fct&gt; | age &lt;dbl&gt; | sibsp &lt;int&gt; | parch &lt;int&gt; | ticket &lt;fct&gt; | fare &lt;dbl&gt; | embarked &lt;fct&gt; | life &lt;fct&gt; | seat &lt;fct&gt; | port &lt;fct&gt; |\n",
       "|---|---|---|---|---|---|---|---|---|---|---|---|---|---|\n",
       "| 1 | 1 | 1 | Allen, Miss. Elisabeth Walton                   | female | 29.0000 | 0 | 0 | 24160  | 211.3375 | S | live | 1st | southampthon |\n",
       "| 2 | 1 | 1 | Allison, Master. Hudson Trevor                  | male   |  0.9167 | 1 | 2 | 113781 | 151.5500 | S | live | 1st | southampthon |\n",
       "| 3 | 1 | 0 | Allison, Miss. Helen Loraine                    | female |  2.0000 | 1 | 2 | 113781 | 151.5500 | S | dead | 1st | southampthon |\n",
       "| 4 | 1 | 0 | Allison, Mr. Hudson Joshua Creighton            | male   | 30.0000 | 1 | 2 | 113781 | 151.5500 | S | dead | 1st | southampthon |\n",
       "| 5 | 1 | 0 | Allison, Mrs. Hudson J C (Bessie Waldo Daniels) | female | 25.0000 | 1 | 2 | 113781 | 151.5500 | S | dead | 1st | southampthon |\n",
       "| 6 | 1 | 1 | Anderson, Mr. Harry                             | male   | 48.0000 | 0 | 0 | 19952  |  26.5500 | S | live | 1st | southampthon |\n",
       "\n"
      ],
      "text/plain": [
       "  pclass survived name                                            sex   \n",
       "1 1      1        Allen, Miss. Elisabeth Walton                   female\n",
       "2 1      1        Allison, Master. Hudson Trevor                  male  \n",
       "3 1      0        Allison, Miss. Helen Loraine                    female\n",
       "4 1      0        Allison, Mr. Hudson Joshua Creighton            male  \n",
       "5 1      0        Allison, Mrs. Hudson J C (Bessie Waldo Daniels) female\n",
       "6 1      1        Anderson, Mr. Harry                             male  \n",
       "  age     sibsp parch ticket fare     embarked life seat port        \n",
       "1 29.0000 0     0     24160  211.3375 S        live 1st  southampthon\n",
       "2  0.9167 1     2     113781 151.5500 S        live 1st  southampthon\n",
       "3  2.0000 1     2     113781 151.5500 S        dead 1st  southampthon\n",
       "4 30.0000 1     2     113781 151.5500 S        dead 1st  southampthon\n",
       "5 25.0000 1     2     113781 151.5500 S        dead 1st  southampthon\n",
       "6 48.0000 0     0     19952   26.5500 S        live 1st  southampthon"
      ]
     },
     "metadata": {},
     "output_type": "display_data"
    }
   ],
   "source": [
    "head(titanic)"
   ]
  },
  {
   "cell_type": "code",
   "execution_count": 10,
   "id": "84cde9eb-8a06-48d5-8a8d-4b6aa17c612a",
   "metadata": {},
   "outputs": [
    {
     "data": {
      "text/html": [
       "<style>\n",
       ".dl-inline {width: auto; margin:0; padding: 0}\n",
       ".dl-inline>dt, .dl-inline>dd {float: none; width: auto; display: inline-block}\n",
       ".dl-inline>dt::after {content: \":\\0020\"; padding-right: .5ex}\n",
       ".dl-inline>dt:not(:first-of-type) {padding-left: .5ex}\n",
       "</style><dl class=dl-inline><dt>pclass</dt><dd>0</dd><dt>survived</dt><dd>0</dd><dt>name</dt><dd>0</dd><dt>sex</dt><dd>0</dd><dt>age</dt><dd>0</dd><dt>sibsp</dt><dd>0</dd><dt>parch</dt><dd>0</dd><dt>ticket</dt><dd>0</dd><dt>fare</dt><dd>0</dd><dt>embarked</dt><dd>0</dd><dt>life</dt><dd>0</dd><dt>seat</dt><dd>0</dd><dt>port</dt><dd>0</dd></dl>\n"
      ],
      "text/latex": [
       "\\begin{description*}\n",
       "\\item[pclass] 0\n",
       "\\item[survived] 0\n",
       "\\item[name] 0\n",
       "\\item[sex] 0\n",
       "\\item[age] 0\n",
       "\\item[sibsp] 0\n",
       "\\item[parch] 0\n",
       "\\item[ticket] 0\n",
       "\\item[fare] 0\n",
       "\\item[embarked] 0\n",
       "\\item[life] 0\n",
       "\\item[seat] 0\n",
       "\\item[port] 0\n",
       "\\end{description*}\n"
      ],
      "text/markdown": [
       "pclass\n",
       ":   0survived\n",
       ":   0name\n",
       ":   0sex\n",
       ":   0age\n",
       ":   0sibsp\n",
       ":   0parch\n",
       ":   0ticket\n",
       ":   0fare\n",
       ":   0embarked\n",
       ":   0life\n",
       ":   0seat\n",
       ":   0port\n",
       ":   0\n",
       "\n"
      ],
      "text/plain": [
       "  pclass survived     name      sex      age    sibsp    parch   ticket \n",
       "       0        0        0        0        0        0        0        0 \n",
       "    fare embarked     life     seat     port \n",
       "       0        0        0        0        0 "
      ]
     },
     "metadata": {},
     "output_type": "display_data"
    }
   ],
   "source": [
    "colSums(is.na(titanic))"
   ]
  },
  {
   "cell_type": "code",
   "execution_count": 11,
   "id": "468b03bc-c176-4674-b74c-ee216396adea",
   "metadata": {},
   "outputs": [],
   "source": [
    "# age:264, cabin:1015\n",
    "# age : 다른값으로 대체값\n",
    "# cabin : 컬럼 자체 제거\n",
    "\n",
    "# cabin 컬럼 제거\n",
    "titanic$cabin <- NULL"
   ]
  },
  {
   "cell_type": "code",
   "execution_count": 12,
   "id": "e9d891ff-1abe-4062-b43c-74598c832de6",
   "metadata": {},
   "outputs": [],
   "source": [
    "# age 컬럼의 결측치는 중앙값으로 대체\n",
    "md <- median(titanic$age, na.rm=T)\n",
    "titanic$age[is.na(titanic$age)] <- md"
   ]
  },
  {
   "cell_type": "code",
   "execution_count": 13,
   "id": "c256679a-2e6c-46c8-9402-cd1f7663d860",
   "metadata": {},
   "outputs": [],
   "source": [
    "# embarked의 결측치가 3개이므로 이것을 기준으로 제거함\n",
    "titanic <- na.omit(titanic)"
   ]
  },
  {
   "cell_type": "code",
   "execution_count": 14,
   "id": "ac8f7daa-5d9c-4279-be5a-73aba31539a7",
   "metadata": {},
   "outputs": [
    {
     "data": {
      "text/html": [
       "<style>\n",
       ".dl-inline {width: auto; margin:0; padding: 0}\n",
       ".dl-inline>dt, .dl-inline>dd {float: none; width: auto; display: inline-block}\n",
       ".dl-inline>dt::after {content: \":\\0020\"; padding-right: .5ex}\n",
       ".dl-inline>dt:not(:first-of-type) {padding-left: .5ex}\n",
       "</style><dl class=dl-inline><dt>pclass</dt><dd>0</dd><dt>survived</dt><dd>0</dd><dt>name</dt><dd>0</dd><dt>sex</dt><dd>0</dd><dt>age</dt><dd>0</dd><dt>sibsp</dt><dd>0</dd><dt>parch</dt><dd>0</dd><dt>ticket</dt><dd>0</dd><dt>fare</dt><dd>0</dd><dt>embarked</dt><dd>0</dd><dt>life</dt><dd>0</dd><dt>seat</dt><dd>0</dd><dt>port</dt><dd>0</dd></dl>\n"
      ],
      "text/latex": [
       "\\begin{description*}\n",
       "\\item[pclass] 0\n",
       "\\item[survived] 0\n",
       "\\item[name] 0\n",
       "\\item[sex] 0\n",
       "\\item[age] 0\n",
       "\\item[sibsp] 0\n",
       "\\item[parch] 0\n",
       "\\item[ticket] 0\n",
       "\\item[fare] 0\n",
       "\\item[embarked] 0\n",
       "\\item[life] 0\n",
       "\\item[seat] 0\n",
       "\\item[port] 0\n",
       "\\end{description*}\n"
      ],
      "text/markdown": [
       "pclass\n",
       ":   0survived\n",
       ":   0name\n",
       ":   0sex\n",
       ":   0age\n",
       ":   0sibsp\n",
       ":   0parch\n",
       ":   0ticket\n",
       ":   0fare\n",
       ":   0embarked\n",
       ":   0life\n",
       ":   0seat\n",
       ":   0port\n",
       ":   0\n",
       "\n"
      ],
      "text/plain": [
       "  pclass survived     name      sex      age    sibsp    parch   ticket \n",
       "       0        0        0        0        0        0        0        0 \n",
       "    fare embarked     life     seat     port \n",
       "       0        0        0        0        0 "
      ]
     },
     "metadata": {},
     "output_type": "display_data"
    }
   ],
   "source": [
    "# 최종 확인\n",
    "colSums(is.na(titanic))"
   ]
  },
  {
   "cell_type": "code",
   "execution_count": 15,
   "id": "4b20e7a3-d460-475c-8e45-4d22727f10d9",
   "metadata": {},
   "outputs": [],
   "source": [
    "# 최종결과 파일로 저장\n",
    "save(titanic, file='rdata/titanic.rdata')"
   ]
  }
 ],
 "metadata": {
  "kernelspec": {
   "display_name": "R",
   "language": "R",
   "name": "ir"
  },
  "language_info": {
   "codemirror_mode": "r",
   "file_extension": ".r",
   "mimetype": "text/x-r-source",
   "name": "R",
   "pygments_lexer": "r",
   "version": "3.6.3"
  }
 },
 "nbformat": 4,
 "nbformat_minor": 5
}
