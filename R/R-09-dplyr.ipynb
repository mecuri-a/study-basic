{
 "cells": [
  {
   "cell_type": "markdown",
   "id": "b646e0dc-68c9-4284-a28b-418682aaed45",
   "metadata": {},
   "source": [
    "### dplyr\n",
    "+ select: 열 선택\n",
    "+ filter : 조건 검색\n",
    "+ group_by : 데이터 그룹화\n",
    "+ mutate : 행/열 추가\n",
    "+ summrise : 데이터 집계\n",
    "+ arrange : 데이터 정렬"
   ]
  },
  {
   "cell_type": "markdown",
   "id": "e042073a-9063-4f31-aa76-291ce13ed089",
   "metadata": {},
   "source": [
    "### arrange (데이터 정렬)"
   ]
  },
  {
   "cell_type": "code",
   "execution_count": 1,
   "id": "d22ba0f2-b994-431f-a361-1466df82a8ba",
   "metadata": {},
   "outputs": [
    {
     "name": "stderr",
     "output_type": "stream",
     "text": [
      "\n",
      "Attaching package: ‘dplyr’\n",
      "\n",
      "\n",
      "The following objects are masked from ‘package:stats’:\n",
      "\n",
      "    filter, lag\n",
      "\n",
      "\n",
      "The following objects are masked from ‘package:base’:\n",
      "\n",
      "    intersect, setdiff, setequal, union\n",
      "\n",
      "\n"
     ]
    }
   ],
   "source": [
    "library(dplyr)"
   ]
  },
  {
   "cell_type": "code",
   "execution_count": 2,
   "id": "51c2cecc-1aad-4f57-bc95-fcb3e5729b79",
   "metadata": {},
   "outputs": [],
   "source": [
    "load('rdata/sungjuk.rdata')"
   ]
  },
  {
   "cell_type": "code",
   "execution_count": 3,
   "id": "de8685cf-0c48-4ea9-be62-d5909fe24b60",
   "metadata": {},
   "outputs": [
    {
     "data": {
      "text/html": [
       "<table class=\"dataframe\">\n",
       "<caption>A data.frame: 4 × 4</caption>\n",
       "<thead>\n",
       "\t<tr><th scope=col>name</th><th scope=col>eng</th><th scope=col>mat</th><th scope=col>sci</th></tr>\n",
       "\t<tr><th scope=col>&lt;fct&gt;</th><th scope=col>&lt;dbl&gt;</th><th scope=col>&lt;dbl&gt;</th><th scope=col>&lt;dbl&gt;</th></tr>\n",
       "</thead>\n",
       "<tbody>\n",
       "\t<tr><td>Jane</td><td>78</td><td>95</td><td>60</td></tr>\n",
       "\t<tr><td>John</td><td>90</td><td>85</td><td>90</td></tr>\n",
       "\t<tr><td>Mark</td><td>69</td><td>49</td><td>70</td></tr>\n",
       "\t<tr><td>Tom </td><td>95</td><td>96</td><td>80</td></tr>\n",
       "</tbody>\n",
       "</table>\n"
      ],
      "text/latex": [
       "A data.frame: 4 × 4\n",
       "\\begin{tabular}{llll}\n",
       " name & eng & mat & sci\\\\\n",
       " <fct> & <dbl> & <dbl> & <dbl>\\\\\n",
       "\\hline\n",
       "\t Jane & 78 & 95 & 60\\\\\n",
       "\t John & 90 & 85 & 90\\\\\n",
       "\t Mark & 69 & 49 & 70\\\\\n",
       "\t Tom  & 95 & 96 & 80\\\\\n",
       "\\end{tabular}\n"
      ],
      "text/markdown": [
       "\n",
       "A data.frame: 4 × 4\n",
       "\n",
       "| name &lt;fct&gt; | eng &lt;dbl&gt; | mat &lt;dbl&gt; | sci &lt;dbl&gt; |\n",
       "|---|---|---|---|\n",
       "| Jane | 78 | 95 | 60 |\n",
       "| John | 90 | 85 | 90 |\n",
       "| Mark | 69 | 49 | 70 |\n",
       "| Tom  | 95 | 96 | 80 |\n",
       "\n"
      ],
      "text/plain": [
       "  name eng mat sci\n",
       "1 Jane 78  95  60 \n",
       "2 John 90  85  90 \n",
       "3 Mark 69  49  70 \n",
       "4 Tom  95  96  80 "
      ]
     },
     "metadata": {},
     "output_type": "display_data"
    }
   ],
   "source": [
    "# 이름 순으로 오름차순 정렬\n",
    "sungjuk %>% arrange(name)"
   ]
  },
  {
   "cell_type": "code",
   "execution_count": 4,
   "id": "5dcbcff2-5429-4fa9-97e8-8e4b34ee3771",
   "metadata": {},
   "outputs": [
    {
     "data": {
      "text/html": [
       "<table class=\"dataframe\">\n",
       "<caption>A data.frame: 4 × 4</caption>\n",
       "<thead>\n",
       "\t<tr><th scope=col>name</th><th scope=col>eng</th><th scope=col>mat</th><th scope=col>sci</th></tr>\n",
       "\t<tr><th scope=col>&lt;fct&gt;</th><th scope=col>&lt;dbl&gt;</th><th scope=col>&lt;dbl&gt;</th><th scope=col>&lt;dbl&gt;</th></tr>\n",
       "</thead>\n",
       "<tbody>\n",
       "\t<tr><td>Tom </td><td>95</td><td>96</td><td>80</td></tr>\n",
       "\t<tr><td>Mark</td><td>69</td><td>49</td><td>70</td></tr>\n",
       "\t<tr><td>John</td><td>90</td><td>85</td><td>90</td></tr>\n",
       "\t<tr><td>Jane</td><td>78</td><td>95</td><td>60</td></tr>\n",
       "</tbody>\n",
       "</table>\n"
      ],
      "text/latex": [
       "A data.frame: 4 × 4\n",
       "\\begin{tabular}{llll}\n",
       " name & eng & mat & sci\\\\\n",
       " <fct> & <dbl> & <dbl> & <dbl>\\\\\n",
       "\\hline\n",
       "\t Tom  & 95 & 96 & 80\\\\\n",
       "\t Mark & 69 & 49 & 70\\\\\n",
       "\t John & 90 & 85 & 90\\\\\n",
       "\t Jane & 78 & 95 & 60\\\\\n",
       "\\end{tabular}\n"
      ],
      "text/markdown": [
       "\n",
       "A data.frame: 4 × 4\n",
       "\n",
       "| name &lt;fct&gt; | eng &lt;dbl&gt; | mat &lt;dbl&gt; | sci &lt;dbl&gt; |\n",
       "|---|---|---|---|\n",
       "| Tom  | 95 | 96 | 80 |\n",
       "| Mark | 69 | 49 | 70 |\n",
       "| John | 90 | 85 | 90 |\n",
       "| Jane | 78 | 95 | 60 |\n",
       "\n"
      ],
      "text/plain": [
       "  name eng mat sci\n",
       "1 Tom  95  96  80 \n",
       "2 Mark 69  49  70 \n",
       "3 John 90  85  90 \n",
       "4 Jane 78  95  60 "
      ]
     },
     "metadata": {},
     "output_type": "display_data"
    }
   ],
   "source": [
    "# 이름 순으로 내림차순 정렬\n",
    "sungjuk %>% arrange(desc(name))"
   ]
  },
  {
   "cell_type": "code",
   "execution_count": 5,
   "id": "3c38d905-a831-4757-9809-48b3c12b7155",
   "metadata": {},
   "outputs": [
    {
     "data": {
      "text/html": [
       "<table class=\"dataframe\">\n",
       "<caption>A data.frame: 4 × 4</caption>\n",
       "<thead>\n",
       "\t<tr><th scope=col>name</th><th scope=col>eng</th><th scope=col>mat</th><th scope=col>sci</th></tr>\n",
       "\t<tr><th scope=col>&lt;fct&gt;</th><th scope=col>&lt;dbl&gt;</th><th scope=col>&lt;dbl&gt;</th><th scope=col>&lt;dbl&gt;</th></tr>\n",
       "</thead>\n",
       "<tbody>\n",
       "\t<tr><td>Tom </td><td>95</td><td>96</td><td>80</td></tr>\n",
       "\t<tr><td>John</td><td>90</td><td>85</td><td>90</td></tr>\n",
       "\t<tr><td>Jane</td><td>78</td><td>95</td><td>60</td></tr>\n",
       "\t<tr><td>Mark</td><td>69</td><td>49</td><td>70</td></tr>\n",
       "</tbody>\n",
       "</table>\n"
      ],
      "text/latex": [
       "A data.frame: 4 × 4\n",
       "\\begin{tabular}{llll}\n",
       " name & eng & mat & sci\\\\\n",
       " <fct> & <dbl> & <dbl> & <dbl>\\\\\n",
       "\\hline\n",
       "\t Tom  & 95 & 96 & 80\\\\\n",
       "\t John & 90 & 85 & 90\\\\\n",
       "\t Jane & 78 & 95 & 60\\\\\n",
       "\t Mark & 69 & 49 & 70\\\\\n",
       "\\end{tabular}\n"
      ],
      "text/markdown": [
       "\n",
       "A data.frame: 4 × 4\n",
       "\n",
       "| name &lt;fct&gt; | eng &lt;dbl&gt; | mat &lt;dbl&gt; | sci &lt;dbl&gt; |\n",
       "|---|---|---|---|\n",
       "| Tom  | 95 | 96 | 80 |\n",
       "| John | 90 | 85 | 90 |\n",
       "| Jane | 78 | 95 | 60 |\n",
       "| Mark | 69 | 49 | 70 |\n",
       "\n"
      ],
      "text/plain": [
       "  name eng mat sci\n",
       "1 Tom  95  96  80 \n",
       "2 John 90  85  90 \n",
       "3 Jane 78  95  60 \n",
       "4 Mark 69  49  70 "
      ]
     },
     "metadata": {},
     "output_type": "display_data"
    }
   ],
   "source": [
    "# 영어/수학/과학 점수를 내림차순으로 정렬\n",
    "sungjuk %>% arrange(desc(eng,mat,sci))"
   ]
  },
  {
   "cell_type": "markdown",
   "id": "da327a3e-38fa-449f-8b38-fd6ebd1df139",
   "metadata": {},
   "source": [
    "###  summarise (데이터 집계)"
   ]
  },
  {
   "cell_type": "code",
   "execution_count": 6,
   "id": "5ff28e4e-65ea-4a80-986b-fec57ade2a88",
   "metadata": {},
   "outputs": [
    {
     "data": {
      "text/html": [
       "<table class=\"dataframe\">\n",
       "<caption>A data.frame: 1 × 1</caption>\n",
       "<thead>\n",
       "\t<tr><th scope=col>평균 영어 점수</th></tr>\n",
       "\t<tr><th scope=col>&lt;dbl&gt;</th></tr>\n",
       "</thead>\n",
       "<tbody>\n",
       "\t<tr><td>83</td></tr>\n",
       "</tbody>\n",
       "</table>\n"
      ],
      "text/latex": [
       "A data.frame: 1 × 1\n",
       "\\begin{tabular}{l}\n",
       " 평균 영어 점수\\\\\n",
       " <dbl>\\\\\n",
       "\\hline\n",
       "\t 83\\\\\n",
       "\\end{tabular}\n"
      ],
      "text/markdown": [
       "\n",
       "A data.frame: 1 × 1\n",
       "\n",
       "| 평균 영어 점수 &lt;dbl&gt; |\n",
       "|---|\n",
       "| 83 |\n",
       "\n"
      ],
      "text/plain": [
       "  평균 영어 점수\n",
       "1 83            "
      ]
     },
     "metadata": {},
     "output_type": "display_data"
    }
   ],
   "source": [
    "# 평균 영어 점수 출력\n",
    "sungjuk %>% summarise('평균 영어 점수'=mean(eng))"
   ]
  },
  {
   "cell_type": "code",
   "execution_count": 7,
   "id": "09f7cfd6-697d-46e6-a179-f7631851dd31",
   "metadata": {},
   "outputs": [
    {
     "data": {
      "text/html": [
       "<table class=\"dataframe\">\n",
       "<caption>A data.frame: 1 × 3</caption>\n",
       "<thead>\n",
       "\t<tr><th scope=col>영어 평균</th><th scope=col>수학 평균</th><th scope=col>과학 평균</th></tr>\n",
       "\t<tr><th scope=col>&lt;dbl&gt;</th><th scope=col>&lt;dbl&gt;</th><th scope=col>&lt;dbl&gt;</th></tr>\n",
       "</thead>\n",
       "<tbody>\n",
       "\t<tr><td>83</td><td>81.25</td><td>75</td></tr>\n",
       "</tbody>\n",
       "</table>\n"
      ],
      "text/latex": [
       "A data.frame: 1 × 3\n",
       "\\begin{tabular}{lll}\n",
       " 영어 평균 & 수학 평균 & 과학 평균\\\\\n",
       " <dbl> & <dbl> & <dbl>\\\\\n",
       "\\hline\n",
       "\t 83 & 81.25 & 75\\\\\n",
       "\\end{tabular}\n"
      ],
      "text/markdown": [
       "\n",
       "A data.frame: 1 × 3\n",
       "\n",
       "| 영어 평균 &lt;dbl&gt; | 수학 평균 &lt;dbl&gt; | 과학 평균 &lt;dbl&gt; |\n",
       "|---|---|---|\n",
       "| 83 | 81.25 | 75 |\n",
       "\n"
      ],
      "text/plain": [
       "  영어 평균 수학 평균 과학 평균\n",
       "1 83        81.25     75       "
      ]
     },
     "metadata": {},
     "output_type": "display_data"
    },
    {
     "data": {
      "text/html": [
       "<table class=\"dataframe\">\n",
       "<caption>A data.frame: 1 × 3</caption>\n",
       "<thead>\n",
       "\t<tr><th scope=col>영어 최고점수</th><th scope=col>수학 최고점수</th><th scope=col>과학 최고점수</th></tr>\n",
       "\t<tr><th scope=col>&lt;dbl&gt;</th><th scope=col>&lt;dbl&gt;</th><th scope=col>&lt;dbl&gt;</th></tr>\n",
       "</thead>\n",
       "<tbody>\n",
       "\t<tr><td>95</td><td>96</td><td>90</td></tr>\n",
       "</tbody>\n",
       "</table>\n"
      ],
      "text/latex": [
       "A data.frame: 1 × 3\n",
       "\\begin{tabular}{lll}\n",
       " 영어 최고점수 & 수학 최고점수 & 과학 최고점수\\\\\n",
       " <dbl> & <dbl> & <dbl>\\\\\n",
       "\\hline\n",
       "\t 95 & 96 & 90\\\\\n",
       "\\end{tabular}\n"
      ],
      "text/markdown": [
       "\n",
       "A data.frame: 1 × 3\n",
       "\n",
       "| 영어 최고점수 &lt;dbl&gt; | 수학 최고점수 &lt;dbl&gt; | 과학 최고점수 &lt;dbl&gt; |\n",
       "|---|---|---|\n",
       "| 95 | 96 | 90 |\n",
       "\n"
      ],
      "text/plain": [
       "  영어 최고점수 수학 최고점수 과학 최고점수\n",
       "1 95            96            90           "
      ]
     },
     "metadata": {},
     "output_type": "display_data"
    },
    {
     "data": {
      "text/html": [
       "<table class=\"dataframe\">\n",
       "<caption>A data.frame: 1 × 3</caption>\n",
       "<thead>\n",
       "\t<tr><th scope=col>영어 최저점수</th><th scope=col>수학 최저점수</th><th scope=col>과학 최저점수</th></tr>\n",
       "\t<tr><th scope=col>&lt;dbl&gt;</th><th scope=col>&lt;dbl&gt;</th><th scope=col>&lt;dbl&gt;</th></tr>\n",
       "</thead>\n",
       "<tbody>\n",
       "\t<tr><td>69</td><td>49</td><td>60</td></tr>\n",
       "</tbody>\n",
       "</table>\n"
      ],
      "text/latex": [
       "A data.frame: 1 × 3\n",
       "\\begin{tabular}{lll}\n",
       " 영어 최저점수 & 수학 최저점수 & 과학 최저점수\\\\\n",
       " <dbl> & <dbl> & <dbl>\\\\\n",
       "\\hline\n",
       "\t 69 & 49 & 60\\\\\n",
       "\\end{tabular}\n"
      ],
      "text/markdown": [
       "\n",
       "A data.frame: 1 × 3\n",
       "\n",
       "| 영어 최저점수 &lt;dbl&gt; | 수학 최저점수 &lt;dbl&gt; | 과학 최저점수 &lt;dbl&gt; |\n",
       "|---|---|---|\n",
       "| 69 | 49 | 60 |\n",
       "\n"
      ],
      "text/plain": [
       "  영어 최저점수 수학 최저점수 과학 최저점수\n",
       "1 69            49            60           "
      ]
     },
     "metadata": {},
     "output_type": "display_data"
    }
   ],
   "source": [
    "# 각 과목별로 평균/최고/최소 점수 출력\n",
    "sungjuk %>% summarise('영어 평균'=mean(eng),\n",
    "                     '수학 평균'=mean(mat),\n",
    "                     '과학 평균'=mean(sci))\n",
    "sungjuk %>% summarise('영어 최고점수'=max(eng),\n",
    "                     '수학 최고점수'=max(mat),\n",
    "                     '과학 최고점수'=max(sci))\n",
    "sungjuk %>% summarise('영어 최저점수'=min(eng),\n",
    "                     '수학 최저점수'=min(mat),\n",
    "                     '과학 최저점수'=min(sci))"
   ]
  },
  {
   "cell_type": "markdown",
   "id": "87d601fa-4965-4352-91a8-f00bddfa4bf2",
   "metadata": {},
   "source": [
    "### group_by(데이터 그룹화)"
   ]
  },
  {
   "cell_type": "code",
   "execution_count": 8,
   "id": "cf589d17-c6b3-439d-aa0a-4bb2241a7c14",
   "metadata": {},
   "outputs": [
    {
     "data": {
      "text/html": [
       "<table class=\"dataframe\">\n",
       "<caption>A data.frame: 4 × 5</caption>\n",
       "<thead>\n",
       "\t<tr><th scope=col>name</th><th scope=col>eng</th><th scope=col>mat</th><th scope=col>sci</th><th scope=col>class</th></tr>\n",
       "\t<tr><th scope=col>&lt;fct&gt;</th><th scope=col>&lt;dbl&gt;</th><th scope=col>&lt;dbl&gt;</th><th scope=col>&lt;dbl&gt;</th><th scope=col>&lt;dbl&gt;</th></tr>\n",
       "</thead>\n",
       "<tbody>\n",
       "\t<tr><td>John</td><td>90</td><td>85</td><td>90</td><td>2</td></tr>\n",
       "\t<tr><td>Tom </td><td>95</td><td>96</td><td>80</td><td>1</td></tr>\n",
       "\t<tr><td>Mark</td><td>69</td><td>49</td><td>70</td><td>2</td></tr>\n",
       "\t<tr><td>Jane</td><td>78</td><td>95</td><td>60</td><td>3</td></tr>\n",
       "</tbody>\n",
       "</table>\n"
      ],
      "text/latex": [
       "A data.frame: 4 × 5\n",
       "\\begin{tabular}{lllll}\n",
       " name & eng & mat & sci & class\\\\\n",
       " <fct> & <dbl> & <dbl> & <dbl> & <dbl>\\\\\n",
       "\\hline\n",
       "\t John & 90 & 85 & 90 & 2\\\\\n",
       "\t Tom  & 95 & 96 & 80 & 1\\\\\n",
       "\t Mark & 69 & 49 & 70 & 2\\\\\n",
       "\t Jane & 78 & 95 & 60 & 3\\\\\n",
       "\\end{tabular}\n"
      ],
      "text/markdown": [
       "\n",
       "A data.frame: 4 × 5\n",
       "\n",
       "| name &lt;fct&gt; | eng &lt;dbl&gt; | mat &lt;dbl&gt; | sci &lt;dbl&gt; | class &lt;dbl&gt; |\n",
       "|---|---|---|---|---|\n",
       "| John | 90 | 85 | 90 | 2 |\n",
       "| Tom  | 95 | 96 | 80 | 1 |\n",
       "| Mark | 69 | 49 | 70 | 2 |\n",
       "| Jane | 78 | 95 | 60 | 3 |\n",
       "\n"
      ],
      "text/plain": [
       "  name eng mat sci class\n",
       "1 John 90  85  90  2    \n",
       "2 Tom  95  96  80  1    \n",
       "3 Mark 69  49  70  2    \n",
       "4 Jane 78  95  60  3    "
      ]
     },
     "metadata": {},
     "output_type": "display_data"
    }
   ],
   "source": [
    "# 새로운 컬럼 추가\n",
    "sungjuk$class <- c(2,1,2,3)\n",
    "sungjuk"
   ]
  },
  {
   "cell_type": "code",
   "execution_count": 9,
   "id": "b9d0b46e-8728-4769-9a4b-3d54b773f8e3",
   "metadata": {},
   "outputs": [
    {
     "data": {
      "text/html": [
       "<table class=\"dataframe\">\n",
       "<caption>A tibble: 3 × 2</caption>\n",
       "<thead>\n",
       "\t<tr><th scope=col>class</th><th scope=col>평균영어</th></tr>\n",
       "\t<tr><th scope=col>&lt;dbl&gt;</th><th scope=col>&lt;dbl&gt;</th></tr>\n",
       "</thead>\n",
       "<tbody>\n",
       "\t<tr><td>1</td><td>95.0</td></tr>\n",
       "\t<tr><td>2</td><td>79.5</td></tr>\n",
       "\t<tr><td>3</td><td>78.0</td></tr>\n",
       "</tbody>\n",
       "</table>\n"
      ],
      "text/latex": [
       "A tibble: 3 × 2\n",
       "\\begin{tabular}{ll}\n",
       " class & 평균영어\\\\\n",
       " <dbl> & <dbl>\\\\\n",
       "\\hline\n",
       "\t 1 & 95.0\\\\\n",
       "\t 2 & 79.5\\\\\n",
       "\t 3 & 78.0\\\\\n",
       "\\end{tabular}\n"
      ],
      "text/markdown": [
       "\n",
       "A tibble: 3 × 2\n",
       "\n",
       "| class &lt;dbl&gt; | 평균영어 &lt;dbl&gt; |\n",
       "|---|---|\n",
       "| 1 | 95.0 |\n",
       "| 2 | 79.5 |\n",
       "| 3 | 78.0 |\n",
       "\n"
      ],
      "text/plain": [
       "  class 평균영어\n",
       "1 1     95.0    \n",
       "2 2     79.5    \n",
       "3 3     78.0    "
      ]
     },
     "metadata": {},
     "output_type": "display_data"
    }
   ],
   "source": [
    "# 클래스별 평균 영어 점수\n",
    "sungjuk %>% group_by(class) %>% summarise(평균영어=mean(eng))"
   ]
  },
  {
   "cell_type": "code",
   "execution_count": 10,
   "id": "b564a379-869d-4922-8092-510722a78ddc",
   "metadata": {},
   "outputs": [
    {
     "data": {
      "text/html": [
       "<table class=\"dataframe\">\n",
       "<caption>A tibble: 3 × 3</caption>\n",
       "<thead>\n",
       "\t<tr><th scope=col>class</th><th scope=col>최고영어</th><th scope=col>최저영어</th></tr>\n",
       "\t<tr><th scope=col>&lt;dbl&gt;</th><th scope=col>&lt;dbl&gt;</th><th scope=col>&lt;dbl&gt;</th></tr>\n",
       "</thead>\n",
       "<tbody>\n",
       "\t<tr><td>1</td><td>95</td><td>95</td></tr>\n",
       "\t<tr><td>2</td><td>90</td><td>69</td></tr>\n",
       "\t<tr><td>3</td><td>78</td><td>78</td></tr>\n",
       "</tbody>\n",
       "</table>\n"
      ],
      "text/latex": [
       "A tibble: 3 × 3\n",
       "\\begin{tabular}{lll}\n",
       " class & 최고영어 & 최저영어\\\\\n",
       " <dbl> & <dbl> & <dbl>\\\\\n",
       "\\hline\n",
       "\t 1 & 95 & 95\\\\\n",
       "\t 2 & 90 & 69\\\\\n",
       "\t 3 & 78 & 78\\\\\n",
       "\\end{tabular}\n"
      ],
      "text/markdown": [
       "\n",
       "A tibble: 3 × 3\n",
       "\n",
       "| class &lt;dbl&gt; | 최고영어 &lt;dbl&gt; | 최저영어 &lt;dbl&gt; |\n",
       "|---|---|---|\n",
       "| 1 | 95 | 95 |\n",
       "| 2 | 90 | 69 |\n",
       "| 3 | 78 | 78 |\n",
       "\n"
      ],
      "text/plain": [
       "  class 최고영어 최저영어\n",
       "1 1     95       95      \n",
       "2 2     90       69      \n",
       "3 3     78       78      "
      ]
     },
     "metadata": {},
     "output_type": "display_data"
    }
   ],
   "source": [
    "# 클래스별 최고/최소 영어 점수\n",
    "sungjuk %>% group_by(class) %>% summarise(최고영어=max(eng),최저영어=min(eng))"
   ]
  },
  {
   "cell_type": "code",
   "execution_count": 11,
   "id": "8b5610aa-a1de-484a-aac2-9c283791de23",
   "metadata": {},
   "outputs": [
    {
     "data": {
      "text/html": [
       "<table class=\"dataframe\">\n",
       "<caption>A tibble: 6 × 10</caption>\n",
       "<thead>\n",
       "\t<tr><th scope=col>carat</th><th scope=col>cut</th><th scope=col>color</th><th scope=col>clarity</th><th scope=col>depth</th><th scope=col>table</th><th scope=col>price</th><th scope=col>x</th><th scope=col>y</th><th scope=col>z</th></tr>\n",
       "\t<tr><th scope=col>&lt;dbl&gt;</th><th scope=col>&lt;ord&gt;</th><th scope=col>&lt;ord&gt;</th><th scope=col>&lt;ord&gt;</th><th scope=col>&lt;dbl&gt;</th><th scope=col>&lt;dbl&gt;</th><th scope=col>&lt;int&gt;</th><th scope=col>&lt;dbl&gt;</th><th scope=col>&lt;dbl&gt;</th><th scope=col>&lt;dbl&gt;</th></tr>\n",
       "</thead>\n",
       "<tbody>\n",
       "\t<tr><td>0.23</td><td>Ideal    </td><td>E</td><td>SI2 </td><td>61.5</td><td>55</td><td>326</td><td>3.95</td><td>3.98</td><td>2.43</td></tr>\n",
       "\t<tr><td>0.21</td><td>Premium  </td><td>E</td><td>SI1 </td><td>59.8</td><td>61</td><td>326</td><td>3.89</td><td>3.84</td><td>2.31</td></tr>\n",
       "\t<tr><td>0.23</td><td>Good     </td><td>E</td><td>VS1 </td><td>56.9</td><td>65</td><td>327</td><td>4.05</td><td>4.07</td><td>2.31</td></tr>\n",
       "\t<tr><td>0.29</td><td>Premium  </td><td>I</td><td>VS2 </td><td>62.4</td><td>58</td><td>334</td><td>4.20</td><td>4.23</td><td>2.63</td></tr>\n",
       "\t<tr><td>0.31</td><td>Good     </td><td>J</td><td>SI2 </td><td>63.3</td><td>58</td><td>335</td><td>4.34</td><td>4.35</td><td>2.75</td></tr>\n",
       "\t<tr><td>0.24</td><td>Very Good</td><td>J</td><td>VVS2</td><td>62.8</td><td>57</td><td>336</td><td>3.94</td><td>3.96</td><td>2.48</td></tr>\n",
       "</tbody>\n",
       "</table>\n"
      ],
      "text/latex": [
       "A tibble: 6 × 10\n",
       "\\begin{tabular}{llllllllll}\n",
       " carat & cut & color & clarity & depth & table & price & x & y & z\\\\\n",
       " <dbl> & <ord> & <ord> & <ord> & <dbl> & <dbl> & <int> & <dbl> & <dbl> & <dbl>\\\\\n",
       "\\hline\n",
       "\t 0.23 & Ideal     & E & SI2  & 61.5 & 55 & 326 & 3.95 & 3.98 & 2.43\\\\\n",
       "\t 0.21 & Premium   & E & SI1  & 59.8 & 61 & 326 & 3.89 & 3.84 & 2.31\\\\\n",
       "\t 0.23 & Good      & E & VS1  & 56.9 & 65 & 327 & 4.05 & 4.07 & 2.31\\\\\n",
       "\t 0.29 & Premium   & I & VS2  & 62.4 & 58 & 334 & 4.20 & 4.23 & 2.63\\\\\n",
       "\t 0.31 & Good      & J & SI2  & 63.3 & 58 & 335 & 4.34 & 4.35 & 2.75\\\\\n",
       "\t 0.24 & Very Good & J & VVS2 & 62.8 & 57 & 336 & 3.94 & 3.96 & 2.48\\\\\n",
       "\\end{tabular}\n"
      ],
      "text/markdown": [
       "\n",
       "A tibble: 6 × 10\n",
       "\n",
       "| carat &lt;dbl&gt; | cut &lt;ord&gt; | color &lt;ord&gt; | clarity &lt;ord&gt; | depth &lt;dbl&gt; | table &lt;dbl&gt; | price &lt;int&gt; | x &lt;dbl&gt; | y &lt;dbl&gt; | z &lt;dbl&gt; |\n",
       "|---|---|---|---|---|---|---|---|---|---|\n",
       "| 0.23 | Ideal     | E | SI2  | 61.5 | 55 | 326 | 3.95 | 3.98 | 2.43 |\n",
       "| 0.21 | Premium   | E | SI1  | 59.8 | 61 | 326 | 3.89 | 3.84 | 2.31 |\n",
       "| 0.23 | Good      | E | VS1  | 56.9 | 65 | 327 | 4.05 | 4.07 | 2.31 |\n",
       "| 0.29 | Premium   | I | VS2  | 62.4 | 58 | 334 | 4.20 | 4.23 | 2.63 |\n",
       "| 0.31 | Good      | J | SI2  | 63.3 | 58 | 335 | 4.34 | 4.35 | 2.75 |\n",
       "| 0.24 | Very Good | J | VVS2 | 62.8 | 57 | 336 | 3.94 | 3.96 | 2.48 |\n",
       "\n"
      ],
      "text/plain": [
       "  carat cut       color clarity depth table price x    y    z   \n",
       "1 0.23  Ideal     E     SI2     61.5  55    326   3.95 3.98 2.43\n",
       "2 0.21  Premium   E     SI1     59.8  61    326   3.89 3.84 2.31\n",
       "3 0.23  Good      E     VS1     56.9  65    327   4.05 4.07 2.31\n",
       "4 0.29  Premium   I     VS2     62.4  58    334   4.20 4.23 2.63\n",
       "5 0.31  Good      J     SI2     63.3  58    335   4.34 4.35 2.75\n",
       "6 0.24  Very Good J     VVS2    62.8  57    336   3.94 3.96 2.48"
      ]
     },
     "metadata": {},
     "output_type": "display_data"
    }
   ],
   "source": [
    "# diamonds 데이터셋을 이용해서 다음 문제를 풀어보시오\n",
    "library(ggplot2)\n",
    "head(diamonds)"
   ]
  },
  {
   "cell_type": "code",
   "execution_count": 12,
   "id": "f58d2a9a-6483-473c-b05c-d59ddbc16674",
   "metadata": {},
   "outputs": [
    {
     "data": {
      "text/html": [
       "<table class=\"dataframe\">\n",
       "<caption>A tibble: 6 × 2</caption>\n",
       "<thead>\n",
       "\t<tr><th scope=col>carat</th><th scope=col>price</th></tr>\n",
       "\t<tr><th scope=col>&lt;dbl&gt;</th><th scope=col>&lt;int&gt;</th></tr>\n",
       "</thead>\n",
       "<tbody>\n",
       "\t<tr><td>0.23</td><td>326</td></tr>\n",
       "\t<tr><td>0.21</td><td>326</td></tr>\n",
       "\t<tr><td>0.23</td><td>327</td></tr>\n",
       "\t<tr><td>0.29</td><td>334</td></tr>\n",
       "\t<tr><td>0.31</td><td>335</td></tr>\n",
       "\t<tr><td>0.24</td><td>336</td></tr>\n",
       "</tbody>\n",
       "</table>\n"
      ],
      "text/latex": [
       "A tibble: 6 × 2\n",
       "\\begin{tabular}{ll}\n",
       " carat & price\\\\\n",
       " <dbl> & <int>\\\\\n",
       "\\hline\n",
       "\t 0.23 & 326\\\\\n",
       "\t 0.21 & 326\\\\\n",
       "\t 0.23 & 327\\\\\n",
       "\t 0.29 & 334\\\\\n",
       "\t 0.31 & 335\\\\\n",
       "\t 0.24 & 336\\\\\n",
       "\\end{tabular}\n"
      ],
      "text/markdown": [
       "\n",
       "A tibble: 6 × 2\n",
       "\n",
       "| carat &lt;dbl&gt; | price &lt;int&gt; |\n",
       "|---|---|\n",
       "| 0.23 | 326 |\n",
       "| 0.21 | 326 |\n",
       "| 0.23 | 327 |\n",
       "| 0.29 | 334 |\n",
       "| 0.31 | 335 |\n",
       "| 0.24 | 336 |\n",
       "\n"
      ],
      "text/plain": [
       "  carat price\n",
       "1 0.23  326  \n",
       "2 0.21  326  \n",
       "3 0.23  327  \n",
       "4 0.29  334  \n",
       "5 0.31  335  \n",
       "6 0.24  336  "
      ]
     },
     "metadata": {},
     "output_type": "display_data"
    }
   ],
   "source": [
    "# carat과 price 변수 출력\n",
    "diamonds %>% select(carat, price) %>% head()"
   ]
  },
  {
   "cell_type": "code",
   "execution_count": 13,
   "id": "dafc794a-d14c-4a41-ad1f-b618e8d5e644",
   "metadata": {},
   "outputs": [
    {
     "data": {
      "text/html": [
       "<table class=\"dataframe\">\n",
       "<caption>A tibble: 6 × 8</caption>\n",
       "<thead>\n",
       "\t<tr><th scope=col>cut</th><th scope=col>color</th><th scope=col>clarity</th><th scope=col>depth</th><th scope=col>table</th><th scope=col>x</th><th scope=col>y</th><th scope=col>z</th></tr>\n",
       "\t<tr><th scope=col>&lt;ord&gt;</th><th scope=col>&lt;ord&gt;</th><th scope=col>&lt;ord&gt;</th><th scope=col>&lt;dbl&gt;</th><th scope=col>&lt;dbl&gt;</th><th scope=col>&lt;dbl&gt;</th><th scope=col>&lt;dbl&gt;</th><th scope=col>&lt;dbl&gt;</th></tr>\n",
       "</thead>\n",
       "<tbody>\n",
       "\t<tr><td>Ideal    </td><td>E</td><td>SI2 </td><td>61.5</td><td>55</td><td>3.95</td><td>3.98</td><td>2.43</td></tr>\n",
       "\t<tr><td>Premium  </td><td>E</td><td>SI1 </td><td>59.8</td><td>61</td><td>3.89</td><td>3.84</td><td>2.31</td></tr>\n",
       "\t<tr><td>Good     </td><td>E</td><td>VS1 </td><td>56.9</td><td>65</td><td>4.05</td><td>4.07</td><td>2.31</td></tr>\n",
       "\t<tr><td>Premium  </td><td>I</td><td>VS2 </td><td>62.4</td><td>58</td><td>4.20</td><td>4.23</td><td>2.63</td></tr>\n",
       "\t<tr><td>Good     </td><td>J</td><td>SI2 </td><td>63.3</td><td>58</td><td>4.34</td><td>4.35</td><td>2.75</td></tr>\n",
       "\t<tr><td>Very Good</td><td>J</td><td>VVS2</td><td>62.8</td><td>57</td><td>3.94</td><td>3.96</td><td>2.48</td></tr>\n",
       "</tbody>\n",
       "</table>\n"
      ],
      "text/latex": [
       "A tibble: 6 × 8\n",
       "\\begin{tabular}{llllllll}\n",
       " cut & color & clarity & depth & table & x & y & z\\\\\n",
       " <ord> & <ord> & <ord> & <dbl> & <dbl> & <dbl> & <dbl> & <dbl>\\\\\n",
       "\\hline\n",
       "\t Ideal     & E & SI2  & 61.5 & 55 & 3.95 & 3.98 & 2.43\\\\\n",
       "\t Premium   & E & SI1  & 59.8 & 61 & 3.89 & 3.84 & 2.31\\\\\n",
       "\t Good      & E & VS1  & 56.9 & 65 & 4.05 & 4.07 & 2.31\\\\\n",
       "\t Premium   & I & VS2  & 62.4 & 58 & 4.20 & 4.23 & 2.63\\\\\n",
       "\t Good      & J & SI2  & 63.3 & 58 & 4.34 & 4.35 & 2.75\\\\\n",
       "\t Very Good & J & VVS2 & 62.8 & 57 & 3.94 & 3.96 & 2.48\\\\\n",
       "\\end{tabular}\n"
      ],
      "text/markdown": [
       "\n",
       "A tibble: 6 × 8\n",
       "\n",
       "| cut &lt;ord&gt; | color &lt;ord&gt; | clarity &lt;ord&gt; | depth &lt;dbl&gt; | table &lt;dbl&gt; | x &lt;dbl&gt; | y &lt;dbl&gt; | z &lt;dbl&gt; |\n",
       "|---|---|---|---|---|---|---|---|\n",
       "| Ideal     | E | SI2  | 61.5 | 55 | 3.95 | 3.98 | 2.43 |\n",
       "| Premium   | E | SI1  | 59.8 | 61 | 3.89 | 3.84 | 2.31 |\n",
       "| Good      | E | VS1  | 56.9 | 65 | 4.05 | 4.07 | 2.31 |\n",
       "| Premium   | I | VS2  | 62.4 | 58 | 4.20 | 4.23 | 2.63 |\n",
       "| Good      | J | SI2  | 63.3 | 58 | 4.34 | 4.35 | 2.75 |\n",
       "| Very Good | J | VVS2 | 62.8 | 57 | 3.94 | 3.96 | 2.48 |\n",
       "\n"
      ],
      "text/plain": [
       "  cut       color clarity depth table x    y    z   \n",
       "1 Ideal     E     SI2     61.5  55    3.95 3.98 2.43\n",
       "2 Premium   E     SI1     59.8  61    3.89 3.84 2.31\n",
       "3 Good      E     VS1     56.9  65    4.05 4.07 2.31\n",
       "4 Premium   I     VS2     62.4  58    4.20 4.23 2.63\n",
       "5 Good      J     SI2     63.3  58    4.34 4.35 2.75\n",
       "6 Very Good J     VVS2    62.8  57    3.94 3.96 2.48"
      ]
     },
     "metadata": {},
     "output_type": "display_data"
    }
   ],
   "source": [
    "# 변수들 중 carat, price 제외하고 모두 출력\n",
    "diamonds %>%  select(-carat, -price) %>% head()"
   ]
  },
  {
   "cell_type": "code",
   "execution_count": 14,
   "id": "66790da0-a3ae-4108-a355-f60305a8949f",
   "metadata": {},
   "outputs": [
    {
     "data": {
      "text/html": [
       "<table class=\"dataframe\">\n",
       "<caption>A tibble: 6 × 4</caption>\n",
       "<thead>\n",
       "\t<tr><th scope=col>carat</th><th scope=col>cut</th><th scope=col>color</th><th scope=col>clarity</th></tr>\n",
       "\t<tr><th scope=col>&lt;dbl&gt;</th><th scope=col>&lt;ord&gt;</th><th scope=col>&lt;ord&gt;</th><th scope=col>&lt;ord&gt;</th></tr>\n",
       "</thead>\n",
       "<tbody>\n",
       "\t<tr><td>0.23</td><td>Ideal    </td><td>E</td><td>SI2 </td></tr>\n",
       "\t<tr><td>0.21</td><td>Premium  </td><td>E</td><td>SI1 </td></tr>\n",
       "\t<tr><td>0.23</td><td>Good     </td><td>E</td><td>VS1 </td></tr>\n",
       "\t<tr><td>0.29</td><td>Premium  </td><td>I</td><td>VS2 </td></tr>\n",
       "\t<tr><td>0.31</td><td>Good     </td><td>J</td><td>SI2 </td></tr>\n",
       "\t<tr><td>0.24</td><td>Very Good</td><td>J</td><td>VVS2</td></tr>\n",
       "</tbody>\n",
       "</table>\n"
      ],
      "text/latex": [
       "A tibble: 6 × 4\n",
       "\\begin{tabular}{llll}\n",
       " carat & cut & color & clarity\\\\\n",
       " <dbl> & <ord> & <ord> & <ord>\\\\\n",
       "\\hline\n",
       "\t 0.23 & Ideal     & E & SI2 \\\\\n",
       "\t 0.21 & Premium   & E & SI1 \\\\\n",
       "\t 0.23 & Good      & E & VS1 \\\\\n",
       "\t 0.29 & Premium   & I & VS2 \\\\\n",
       "\t 0.31 & Good      & J & SI2 \\\\\n",
       "\t 0.24 & Very Good & J & VVS2\\\\\n",
       "\\end{tabular}\n"
      ],
      "text/markdown": [
       "\n",
       "A tibble: 6 × 4\n",
       "\n",
       "| carat &lt;dbl&gt; | cut &lt;ord&gt; | color &lt;ord&gt; | clarity &lt;ord&gt; |\n",
       "|---|---|---|---|\n",
       "| 0.23 | Ideal     | E | SI2  |\n",
       "| 0.21 | Premium   | E | SI1  |\n",
       "| 0.23 | Good      | E | VS1  |\n",
       "| 0.29 | Premium   | I | VS2  |\n",
       "| 0.31 | Good      | J | SI2  |\n",
       "| 0.24 | Very Good | J | VVS2 |\n",
       "\n"
      ],
      "text/plain": [
       "  carat cut       color clarity\n",
       "1 0.23  Ideal     E     SI2    \n",
       "2 0.21  Premium   E     SI1    \n",
       "3 0.23  Good      E     VS1    \n",
       "4 0.29  Premium   I     VS2    \n",
       "5 0.31  Good      J     SI2    \n",
       "6 0.24  Very Good J     VVS2   "
      ]
     },
     "metadata": {},
     "output_type": "display_data"
    }
   ],
   "source": [
    "# 변수명중 c로 시작하는 것만 출력 : starts_with\n",
    "diamonds %>% select(starts_with(\"c\")) %>% head()"
   ]
  },
  {
   "cell_type": "code",
   "execution_count": 15,
   "id": "5cc0f20e-17f6-414e-82e2-53ed01856b14",
   "metadata": {},
   "outputs": [
    {
     "data": {
      "text/html": [
       "<table class=\"dataframe\">\n",
       "<caption>A tibble: 6 × 2</caption>\n",
       "<thead>\n",
       "\t<tr><th scope=col>table</th><th scope=col>price</th></tr>\n",
       "\t<tr><th scope=col>&lt;dbl&gt;</th><th scope=col>&lt;int&gt;</th></tr>\n",
       "</thead>\n",
       "<tbody>\n",
       "\t<tr><td>55</td><td>326</td></tr>\n",
       "\t<tr><td>61</td><td>326</td></tr>\n",
       "\t<tr><td>65</td><td>327</td></tr>\n",
       "\t<tr><td>58</td><td>334</td></tr>\n",
       "\t<tr><td>58</td><td>335</td></tr>\n",
       "\t<tr><td>57</td><td>336</td></tr>\n",
       "</tbody>\n",
       "</table>\n"
      ],
      "text/latex": [
       "A tibble: 6 × 2\n",
       "\\begin{tabular}{ll}\n",
       " table & price\\\\\n",
       " <dbl> & <int>\\\\\n",
       "\\hline\n",
       "\t 55 & 326\\\\\n",
       "\t 61 & 326\\\\\n",
       "\t 65 & 327\\\\\n",
       "\t 58 & 334\\\\\n",
       "\t 58 & 335\\\\\n",
       "\t 57 & 336\\\\\n",
       "\\end{tabular}\n"
      ],
      "text/markdown": [
       "\n",
       "A tibble: 6 × 2\n",
       "\n",
       "| table &lt;dbl&gt; | price &lt;int&gt; |\n",
       "|---|---|\n",
       "| 55 | 326 |\n",
       "| 61 | 326 |\n",
       "| 65 | 327 |\n",
       "| 58 | 334 |\n",
       "| 58 | 335 |\n",
       "| 57 | 336 |\n",
       "\n"
      ],
      "text/plain": [
       "  table price\n",
       "1 55    326  \n",
       "2 61    326  \n",
       "3 65    327  \n",
       "4 58    334  \n",
       "5 58    335  \n",
       "6 57    336  "
      ]
     },
     "metadata": {},
     "output_type": "display_data"
    }
   ],
   "source": [
    "# 변수명중 e로 끝나는 것만 출력 : ends_with\n",
    "diamonds %>% select(ends_with(\"e\")) %>% head()"
   ]
  },
  {
   "cell_type": "code",
   "execution_count": 16,
   "id": "5fb27dec-e572-4e65-b269-ea47beb5e4f8",
   "metadata": {},
   "outputs": [
    {
     "data": {
      "text/html": [
       "<table class=\"dataframe\">\n",
       "<caption>A tibble: 6 × 3</caption>\n",
       "<thead>\n",
       "\t<tr><th scope=col>color</th><th scope=col>clarity</th><th scope=col>table</th></tr>\n",
       "\t<tr><th scope=col>&lt;ord&gt;</th><th scope=col>&lt;ord&gt;</th><th scope=col>&lt;dbl&gt;</th></tr>\n",
       "</thead>\n",
       "<tbody>\n",
       "\t<tr><td>E</td><td>SI2 </td><td>55</td></tr>\n",
       "\t<tr><td>E</td><td>SI1 </td><td>61</td></tr>\n",
       "\t<tr><td>E</td><td>VS1 </td><td>65</td></tr>\n",
       "\t<tr><td>I</td><td>VS2 </td><td>58</td></tr>\n",
       "\t<tr><td>J</td><td>SI2 </td><td>58</td></tr>\n",
       "\t<tr><td>J</td><td>VVS2</td><td>57</td></tr>\n",
       "</tbody>\n",
       "</table>\n"
      ],
      "text/latex": [
       "A tibble: 6 × 3\n",
       "\\begin{tabular}{lll}\n",
       " color & clarity & table\\\\\n",
       " <ord> & <ord> & <dbl>\\\\\n",
       "\\hline\n",
       "\t E & SI2  & 55\\\\\n",
       "\t E & SI1  & 61\\\\\n",
       "\t E & VS1  & 65\\\\\n",
       "\t I & VS2  & 58\\\\\n",
       "\t J & SI2  & 58\\\\\n",
       "\t J & VVS2 & 57\\\\\n",
       "\\end{tabular}\n"
      ],
      "text/markdown": [
       "\n",
       "A tibble: 6 × 3\n",
       "\n",
       "| color &lt;ord&gt; | clarity &lt;ord&gt; | table &lt;dbl&gt; |\n",
       "|---|---|---|\n",
       "| E | SI2  | 55 |\n",
       "| E | SI1  | 61 |\n",
       "| E | VS1  | 65 |\n",
       "| I | VS2  | 58 |\n",
       "| J | SI2  | 58 |\n",
       "| J | VVS2 | 57 |\n",
       "\n"
      ],
      "text/plain": [
       "  color clarity table\n",
       "1 E     SI2     55   \n",
       "2 E     SI1     61   \n",
       "3 E     VS1     65   \n",
       "4 I     VS2     58   \n",
       "5 J     SI2     58   \n",
       "6 J     VVS2    57   "
      ]
     },
     "metadata": {},
     "output_type": "display_data"
    }
   ],
   "source": [
    "# 변수명중 l을 포함하는 것만 출력: contains/matches\n",
    "diamonds %>% select(contains(\"l\")) %>% head()"
   ]
  },
  {
   "cell_type": "code",
   "execution_count": 17,
   "id": "908a43f2-246a-47a1-a463-0fb73d592e86",
   "metadata": {},
   "outputs": [
    {
     "data": {
      "text/html": [
       "<table class=\"dataframe\">\n",
       "<caption>A tibble: 6 × 2</caption>\n",
       "<thead>\n",
       "\t<tr><th scope=col>carat</th><th scope=col>clarity</th></tr>\n",
       "\t<tr><th scope=col>&lt;dbl&gt;</th><th scope=col>&lt;ord&gt;</th></tr>\n",
       "</thead>\n",
       "<tbody>\n",
       "\t<tr><td>0.23</td><td>SI2 </td></tr>\n",
       "\t<tr><td>0.21</td><td>SI1 </td></tr>\n",
       "\t<tr><td>0.23</td><td>VS1 </td></tr>\n",
       "\t<tr><td>0.29</td><td>VS2 </td></tr>\n",
       "\t<tr><td>0.31</td><td>SI2 </td></tr>\n",
       "\t<tr><td>0.24</td><td>VVS2</td></tr>\n",
       "</tbody>\n",
       "</table>\n"
      ],
      "text/latex": [
       "A tibble: 6 × 2\n",
       "\\begin{tabular}{ll}\n",
       " carat & clarity\\\\\n",
       " <dbl> & <ord>\\\\\n",
       "\\hline\n",
       "\t 0.23 & SI2 \\\\\n",
       "\t 0.21 & SI1 \\\\\n",
       "\t 0.23 & VS1 \\\\\n",
       "\t 0.29 & VS2 \\\\\n",
       "\t 0.31 & SI2 \\\\\n",
       "\t 0.24 & VVS2\\\\\n",
       "\\end{tabular}\n"
      ],
      "text/markdown": [
       "\n",
       "A tibble: 6 × 2\n",
       "\n",
       "| carat &lt;dbl&gt; | clarity &lt;ord&gt; |\n",
       "|---|---|\n",
       "| 0.23 | SI2  |\n",
       "| 0.21 | SI1  |\n",
       "| 0.23 | VS1  |\n",
       "| 0.29 | VS2  |\n",
       "| 0.31 | SI2  |\n",
       "| 0.24 | VVS2 |\n",
       "\n"
      ],
      "text/plain": [
       "  carat clarity\n",
       "1 0.23  SI2    \n",
       "2 0.21  SI1    \n",
       "3 0.23  VS1    \n",
       "4 0.29  VS2    \n",
       "5 0.31  SI2    \n",
       "6 0.24  VVS2   "
      ]
     },
     "metadata": {},
     "output_type": "display_data"
    }
   ],
   "source": [
    "# 변수명중 r과 t를 포함한 것만 출력\n",
    "diamonds %>% select(matches(\"r.t\")) %>% head()"
   ]
  },
  {
   "cell_type": "code",
   "execution_count": 18,
   "id": "04fbaa05-8248-4ba5-9e91-23f0312b6b95",
   "metadata": {},
   "outputs": [
    {
     "data": {
      "text/html": [
       "<table class=\"dataframe\">\n",
       "<caption>A tibble: 6 × 10</caption>\n",
       "<thead>\n",
       "\t<tr><th scope=col>carat</th><th scope=col>cut</th><th scope=col>color</th><th scope=col>clarity</th><th scope=col>depth</th><th scope=col>table</th><th scope=col>price</th><th scope=col>x</th><th scope=col>y</th><th scope=col>z</th></tr>\n",
       "\t<tr><th scope=col>&lt;dbl&gt;</th><th scope=col>&lt;ord&gt;</th><th scope=col>&lt;ord&gt;</th><th scope=col>&lt;ord&gt;</th><th scope=col>&lt;dbl&gt;</th><th scope=col>&lt;dbl&gt;</th><th scope=col>&lt;int&gt;</th><th scope=col>&lt;dbl&gt;</th><th scope=col>&lt;dbl&gt;</th><th scope=col>&lt;dbl&gt;</th></tr>\n",
       "</thead>\n",
       "<tbody>\n",
       "\t<tr><td>0.23</td><td>Ideal</td><td>E</td><td>SI2</td><td>61.5</td><td>55</td><td>326</td><td>3.95</td><td>3.98</td><td>2.43</td></tr>\n",
       "\t<tr><td>0.23</td><td>Ideal</td><td>J</td><td>VS1</td><td>62.8</td><td>56</td><td>340</td><td>3.93</td><td>3.90</td><td>2.46</td></tr>\n",
       "\t<tr><td>0.31</td><td>Ideal</td><td>J</td><td>SI2</td><td>62.2</td><td>54</td><td>344</td><td>4.35</td><td>4.37</td><td>2.71</td></tr>\n",
       "\t<tr><td>0.30</td><td>Ideal</td><td>I</td><td>SI2</td><td>62.0</td><td>54</td><td>348</td><td>4.31</td><td>4.34</td><td>2.68</td></tr>\n",
       "\t<tr><td>0.33</td><td>Ideal</td><td>I</td><td>SI2</td><td>61.8</td><td>55</td><td>403</td><td>4.49</td><td>4.51</td><td>2.78</td></tr>\n",
       "\t<tr><td>0.33</td><td>Ideal</td><td>I</td><td>SI2</td><td>61.2</td><td>56</td><td>403</td><td>4.49</td><td>4.50</td><td>2.75</td></tr>\n",
       "</tbody>\n",
       "</table>\n"
      ],
      "text/latex": [
       "A tibble: 6 × 10\n",
       "\\begin{tabular}{llllllllll}\n",
       " carat & cut & color & clarity & depth & table & price & x & y & z\\\\\n",
       " <dbl> & <ord> & <ord> & <ord> & <dbl> & <dbl> & <int> & <dbl> & <dbl> & <dbl>\\\\\n",
       "\\hline\n",
       "\t 0.23 & Ideal & E & SI2 & 61.5 & 55 & 326 & 3.95 & 3.98 & 2.43\\\\\n",
       "\t 0.23 & Ideal & J & VS1 & 62.8 & 56 & 340 & 3.93 & 3.90 & 2.46\\\\\n",
       "\t 0.31 & Ideal & J & SI2 & 62.2 & 54 & 344 & 4.35 & 4.37 & 2.71\\\\\n",
       "\t 0.30 & Ideal & I & SI2 & 62.0 & 54 & 348 & 4.31 & 4.34 & 2.68\\\\\n",
       "\t 0.33 & Ideal & I & SI2 & 61.8 & 55 & 403 & 4.49 & 4.51 & 2.78\\\\\n",
       "\t 0.33 & Ideal & I & SI2 & 61.2 & 56 & 403 & 4.49 & 4.50 & 2.75\\\\\n",
       "\\end{tabular}\n"
      ],
      "text/markdown": [
       "\n",
       "A tibble: 6 × 10\n",
       "\n",
       "| carat &lt;dbl&gt; | cut &lt;ord&gt; | color &lt;ord&gt; | clarity &lt;ord&gt; | depth &lt;dbl&gt; | table &lt;dbl&gt; | price &lt;int&gt; | x &lt;dbl&gt; | y &lt;dbl&gt; | z &lt;dbl&gt; |\n",
       "|---|---|---|---|---|---|---|---|---|---|\n",
       "| 0.23 | Ideal | E | SI2 | 61.5 | 55 | 326 | 3.95 | 3.98 | 2.43 |\n",
       "| 0.23 | Ideal | J | VS1 | 62.8 | 56 | 340 | 3.93 | 3.90 | 2.46 |\n",
       "| 0.31 | Ideal | J | SI2 | 62.2 | 54 | 344 | 4.35 | 4.37 | 2.71 |\n",
       "| 0.30 | Ideal | I | SI2 | 62.0 | 54 | 348 | 4.31 | 4.34 | 2.68 |\n",
       "| 0.33 | Ideal | I | SI2 | 61.8 | 55 | 403 | 4.49 | 4.51 | 2.78 |\n",
       "| 0.33 | Ideal | I | SI2 | 61.2 | 56 | 403 | 4.49 | 4.50 | 2.75 |\n",
       "\n"
      ],
      "text/plain": [
       "  carat cut   color clarity depth table price x    y    z   \n",
       "1 0.23  Ideal E     SI2     61.5  55    326   3.95 3.98 2.43\n",
       "2 0.23  Ideal J     VS1     62.8  56    340   3.93 3.90 2.46\n",
       "3 0.31  Ideal J     SI2     62.2  54    344   4.35 4.37 2.71\n",
       "4 0.30  Ideal I     SI2     62.0  54    348   4.31 4.34 2.68\n",
       "5 0.33  Ideal I     SI2     61.8  55    403   4.49 4.51 2.78\n",
       "6 0.33  Ideal I     SI2     61.2  56    403   4.49 4.50 2.75"
      ]
     },
     "metadata": {},
     "output_type": "display_data"
    }
   ],
   "source": [
    "# cut 변수 값 중 'Ideal' 인 데이터 조회\n",
    "diamonds %>% filter(cut == 'Ideal') %>% head()"
   ]
  },
  {
   "cell_type": "code",
   "execution_count": 19,
   "id": "b8e6220b-2c30-4bae-8510-7603a069cf81",
   "metadata": {},
   "outputs": [
    {
     "data": {
      "text/html": [
       "<table class=\"dataframe\">\n",
       "<caption>A tibble: 6 × 10</caption>\n",
       "<thead>\n",
       "\t<tr><th scope=col>carat</th><th scope=col>cut</th><th scope=col>color</th><th scope=col>clarity</th><th scope=col>depth</th><th scope=col>table</th><th scope=col>price</th><th scope=col>x</th><th scope=col>y</th><th scope=col>z</th></tr>\n",
       "\t<tr><th scope=col>&lt;dbl&gt;</th><th scope=col>&lt;ord&gt;</th><th scope=col>&lt;ord&gt;</th><th scope=col>&lt;ord&gt;</th><th scope=col>&lt;dbl&gt;</th><th scope=col>&lt;dbl&gt;</th><th scope=col>&lt;int&gt;</th><th scope=col>&lt;dbl&gt;</th><th scope=col>&lt;dbl&gt;</th><th scope=col>&lt;dbl&gt;</th></tr>\n",
       "</thead>\n",
       "<tbody>\n",
       "\t<tr><td>0.70</td><td>Ideal    </td><td>E</td><td>SI1</td><td>62.5</td><td>57</td><td>2757</td><td>5.70</td><td>5.72</td><td>3.57</td></tr>\n",
       "\t<tr><td>0.86</td><td>Fair     </td><td>E</td><td>SI2</td><td>55.1</td><td>69</td><td>2757</td><td>6.45</td><td>6.33</td><td>3.52</td></tr>\n",
       "\t<tr><td>0.70</td><td>Ideal    </td><td>G</td><td>VS2</td><td>61.6</td><td>56</td><td>2757</td><td>5.70</td><td>5.67</td><td>3.50</td></tr>\n",
       "\t<tr><td>0.71</td><td>Very Good</td><td>E</td><td>VS2</td><td>62.4</td><td>57</td><td>2759</td><td>5.68</td><td>5.73</td><td>3.56</td></tr>\n",
       "\t<tr><td>0.78</td><td>Very Good</td><td>G</td><td>SI2</td><td>63.8</td><td>56</td><td>2759</td><td>5.81</td><td>5.85</td><td>3.72</td></tr>\n",
       "\t<tr><td>0.70</td><td>Good     </td><td>E</td><td>VS2</td><td>57.5</td><td>58</td><td>2759</td><td>5.85</td><td>5.90</td><td>3.38</td></tr>\n",
       "</tbody>\n",
       "</table>\n"
      ],
      "text/latex": [
       "A tibble: 6 × 10\n",
       "\\begin{tabular}{llllllllll}\n",
       " carat & cut & color & clarity & depth & table & price & x & y & z\\\\\n",
       " <dbl> & <ord> & <ord> & <ord> & <dbl> & <dbl> & <int> & <dbl> & <dbl> & <dbl>\\\\\n",
       "\\hline\n",
       "\t 0.70 & Ideal     & E & SI1 & 62.5 & 57 & 2757 & 5.70 & 5.72 & 3.57\\\\\n",
       "\t 0.86 & Fair      & E & SI2 & 55.1 & 69 & 2757 & 6.45 & 6.33 & 3.52\\\\\n",
       "\t 0.70 & Ideal     & G & VS2 & 61.6 & 56 & 2757 & 5.70 & 5.67 & 3.50\\\\\n",
       "\t 0.71 & Very Good & E & VS2 & 62.4 & 57 & 2759 & 5.68 & 5.73 & 3.56\\\\\n",
       "\t 0.78 & Very Good & G & SI2 & 63.8 & 56 & 2759 & 5.81 & 5.85 & 3.72\\\\\n",
       "\t 0.70 & Good      & E & VS2 & 57.5 & 58 & 2759 & 5.85 & 5.90 & 3.38\\\\\n",
       "\\end{tabular}\n"
      ],
      "text/markdown": [
       "\n",
       "A tibble: 6 × 10\n",
       "\n",
       "| carat &lt;dbl&gt; | cut &lt;ord&gt; | color &lt;ord&gt; | clarity &lt;ord&gt; | depth &lt;dbl&gt; | table &lt;dbl&gt; | price &lt;int&gt; | x &lt;dbl&gt; | y &lt;dbl&gt; | z &lt;dbl&gt; |\n",
       "|---|---|---|---|---|---|---|---|---|---|\n",
       "| 0.70 | Ideal     | E | SI1 | 62.5 | 57 | 2757 | 5.70 | 5.72 | 3.57 |\n",
       "| 0.86 | Fair      | E | SI2 | 55.1 | 69 | 2757 | 6.45 | 6.33 | 3.52 |\n",
       "| 0.70 | Ideal     | G | VS2 | 61.6 | 56 | 2757 | 5.70 | 5.67 | 3.50 |\n",
       "| 0.71 | Very Good | E | VS2 | 62.4 | 57 | 2759 | 5.68 | 5.73 | 3.56 |\n",
       "| 0.78 | Very Good | G | SI2 | 63.8 | 56 | 2759 | 5.81 | 5.85 | 3.72 |\n",
       "| 0.70 | Good      | E | VS2 | 57.5 | 58 | 2759 | 5.85 | 5.90 | 3.38 |\n",
       "\n"
      ],
      "text/plain": [
       "  carat cut       color clarity depth table price x    y    z   \n",
       "1 0.70  Ideal     E     SI1     62.5  57    2757  5.70 5.72 3.57\n",
       "2 0.86  Fair      E     SI2     55.1  69    2757  6.45 6.33 3.52\n",
       "3 0.70  Ideal     G     VS2     61.6  56    2757  5.70 5.67 3.50\n",
       "4 0.71  Very Good E     VS2     62.4  57    2759  5.68 5.73 3.56\n",
       "5 0.78  Very Good G     SI2     63.8  56    2759  5.81 5.85 3.72\n",
       "6 0.70  Good      E     VS2     57.5  58    2759  5.85 5.90 3.38"
      ]
     },
     "metadata": {},
     "output_type": "display_data"
    }
   ],
   "source": [
    "# price 가 1000 이상인 데이터 조회\n",
    "diamonds %>% filter(price >= 1000) %>% head()"
   ]
  },
  {
   "cell_type": "code",
   "execution_count": 20,
   "id": "2e3afc9e-c2e7-4510-ac86-a718153fa604",
   "metadata": {},
   "outputs": [
    {
     "data": {
      "text/html": [
       "<table class=\"dataframe\">\n",
       "<caption>A tibble: 6 × 10</caption>\n",
       "<thead>\n",
       "\t<tr><th scope=col>carat</th><th scope=col>cut</th><th scope=col>color</th><th scope=col>clarity</th><th scope=col>depth</th><th scope=col>table</th><th scope=col>price</th><th scope=col>x</th><th scope=col>y</th><th scope=col>z</th></tr>\n",
       "\t<tr><th scope=col>&lt;dbl&gt;</th><th scope=col>&lt;ord&gt;</th><th scope=col>&lt;ord&gt;</th><th scope=col>&lt;ord&gt;</th><th scope=col>&lt;dbl&gt;</th><th scope=col>&lt;dbl&gt;</th><th scope=col>&lt;int&gt;</th><th scope=col>&lt;dbl&gt;</th><th scope=col>&lt;dbl&gt;</th><th scope=col>&lt;dbl&gt;</th></tr>\n",
       "</thead>\n",
       "<tbody>\n",
       "\t<tr><td>2.06</td><td>Premium</td><td>J</td><td>I1</td><td>61.2</td><td>58</td><td>5203</td><td>8.10</td><td>8.07</td><td>4.95</td></tr>\n",
       "\t<tr><td>2.14</td><td>Fair   </td><td>J</td><td>I1</td><td>69.4</td><td>57</td><td>5405</td><td>7.74</td><td>7.70</td><td>5.36</td></tr>\n",
       "\t<tr><td>2.15</td><td>Fair   </td><td>J</td><td>I1</td><td>65.5</td><td>57</td><td>5430</td><td>8.01</td><td>7.95</td><td>5.23</td></tr>\n",
       "\t<tr><td>2.22</td><td>Fair   </td><td>J</td><td>I1</td><td>66.7</td><td>56</td><td>5607</td><td>8.04</td><td>8.02</td><td>5.36</td></tr>\n",
       "\t<tr><td>2.01</td><td>Fair   </td><td>I</td><td>I1</td><td>67.4</td><td>58</td><td>5696</td><td>7.71</td><td>7.64</td><td>5.17</td></tr>\n",
       "\t<tr><td>2.01</td><td>Fair   </td><td>I</td><td>I1</td><td>55.9</td><td>64</td><td>5696</td><td>8.48</td><td>8.39</td><td>4.71</td></tr>\n",
       "</tbody>\n",
       "</table>\n"
      ],
      "text/latex": [
       "A tibble: 6 × 10\n",
       "\\begin{tabular}{llllllllll}\n",
       " carat & cut & color & clarity & depth & table & price & x & y & z\\\\\n",
       " <dbl> & <ord> & <ord> & <ord> & <dbl> & <dbl> & <int> & <dbl> & <dbl> & <dbl>\\\\\n",
       "\\hline\n",
       "\t 2.06 & Premium & J & I1 & 61.2 & 58 & 5203 & 8.10 & 8.07 & 4.95\\\\\n",
       "\t 2.14 & Fair    & J & I1 & 69.4 & 57 & 5405 & 7.74 & 7.70 & 5.36\\\\\n",
       "\t 2.15 & Fair    & J & I1 & 65.5 & 57 & 5430 & 8.01 & 7.95 & 5.23\\\\\n",
       "\t 2.22 & Fair    & J & I1 & 66.7 & 56 & 5607 & 8.04 & 8.02 & 5.36\\\\\n",
       "\t 2.01 & Fair    & I & I1 & 67.4 & 58 & 5696 & 7.71 & 7.64 & 5.17\\\\\n",
       "\t 2.01 & Fair    & I & I1 & 55.9 & 64 & 5696 & 8.48 & 8.39 & 4.71\\\\\n",
       "\\end{tabular}\n"
      ],
      "text/markdown": [
       "\n",
       "A tibble: 6 × 10\n",
       "\n",
       "| carat &lt;dbl&gt; | cut &lt;ord&gt; | color &lt;ord&gt; | clarity &lt;ord&gt; | depth &lt;dbl&gt; | table &lt;dbl&gt; | price &lt;int&gt; | x &lt;dbl&gt; | y &lt;dbl&gt; | z &lt;dbl&gt; |\n",
       "|---|---|---|---|---|---|---|---|---|---|\n",
       "| 2.06 | Premium | J | I1 | 61.2 | 58 | 5203 | 8.10 | 8.07 | 4.95 |\n",
       "| 2.14 | Fair    | J | I1 | 69.4 | 57 | 5405 | 7.74 | 7.70 | 5.36 |\n",
       "| 2.15 | Fair    | J | I1 | 65.5 | 57 | 5430 | 8.01 | 7.95 | 5.23 |\n",
       "| 2.22 | Fair    | J | I1 | 66.7 | 56 | 5607 | 8.04 | 8.02 | 5.36 |\n",
       "| 2.01 | Fair    | I | I1 | 67.4 | 58 | 5696 | 7.71 | 7.64 | 5.17 |\n",
       "| 2.01 | Fair    | I | I1 | 55.9 | 64 | 5696 | 8.48 | 8.39 | 4.71 |\n",
       "\n"
      ],
      "text/plain": [
       "  carat cut     color clarity depth table price x    y    z   \n",
       "1 2.06  Premium J     I1      61.2  58    5203  8.10 8.07 4.95\n",
       "2 2.14  Fair    J     I1      69.4  57    5405  7.74 7.70 5.36\n",
       "3 2.15  Fair    J     I1      65.5  57    5430  8.01 7.95 5.23\n",
       "4 2.22  Fair    J     I1      66.7  56    5607  8.04 8.02 5.36\n",
       "5 2.01  Fair    I     I1      67.4  58    5696  7.71 7.64 5.17\n",
       "6 2.01  Fair    I     I1      55.9  64    5696  8.48 8.39 4.71"
      ]
     },
     "metadata": {},
     "output_type": "display_data"
    }
   ],
   "source": [
    "# carat이 2이상, price 가 14000 이하인 데이터 조회\n",
    "diamonds %>% filter(carat > 2, price < 14000) %>% head()"
   ]
  },
  {
   "cell_type": "code",
   "execution_count": 21,
   "id": "aa646ac8-ff34-4902-925c-3a9079893641",
   "metadata": {},
   "outputs": [
    {
     "data": {
      "text/html": [
       "<table class=\"dataframe\">\n",
       "<caption>A tibble: 6 × 10</caption>\n",
       "<thead>\n",
       "\t<tr><th scope=col>carat</th><th scope=col>cut</th><th scope=col>color</th><th scope=col>clarity</th><th scope=col>depth</th><th scope=col>table</th><th scope=col>price</th><th scope=col>x</th><th scope=col>y</th><th scope=col>z</th></tr>\n",
       "\t<tr><th scope=col>&lt;dbl&gt;</th><th scope=col>&lt;ord&gt;</th><th scope=col>&lt;ord&gt;</th><th scope=col>&lt;ord&gt;</th><th scope=col>&lt;dbl&gt;</th><th scope=col>&lt;dbl&gt;</th><th scope=col>&lt;int&gt;</th><th scope=col>&lt;dbl&gt;</th><th scope=col>&lt;dbl&gt;</th><th scope=col>&lt;dbl&gt;</th></tr>\n",
       "</thead>\n",
       "<tbody>\n",
       "\t<tr><td>1.17</td><td>Very Good</td><td>J</td><td>I1 </td><td>60.2</td><td>61</td><td>2774</td><td>6.83</td><td>6.90</td><td>4.13</td></tr>\n",
       "\t<tr><td>1.01</td><td>Premium  </td><td>F</td><td>I1 </td><td>61.8</td><td>60</td><td>2781</td><td>6.39</td><td>6.36</td><td>3.94</td></tr>\n",
       "\t<tr><td>1.01</td><td>Fair     </td><td>E</td><td>I1 </td><td>64.5</td><td>58</td><td>2788</td><td>6.29</td><td>6.21</td><td>4.03</td></tr>\n",
       "\t<tr><td>1.01</td><td>Premium  </td><td>H</td><td>SI2</td><td>62.7</td><td>59</td><td>2788</td><td>6.31</td><td>6.22</td><td>3.93</td></tr>\n",
       "\t<tr><td>1.05</td><td>Very Good</td><td>J</td><td>SI2</td><td>63.2</td><td>56</td><td>2789</td><td>6.49</td><td>6.45</td><td>4.09</td></tr>\n",
       "\t<tr><td>1.05</td><td>Fair     </td><td>J</td><td>SI2</td><td>65.8</td><td>59</td><td>2789</td><td>6.41</td><td>6.27</td><td>4.18</td></tr>\n",
       "</tbody>\n",
       "</table>\n"
      ],
      "text/latex": [
       "A tibble: 6 × 10\n",
       "\\begin{tabular}{llllllllll}\n",
       " carat & cut & color & clarity & depth & table & price & x & y & z\\\\\n",
       " <dbl> & <ord> & <ord> & <ord> & <dbl> & <dbl> & <int> & <dbl> & <dbl> & <dbl>\\\\\n",
       "\\hline\n",
       "\t 1.17 & Very Good & J & I1  & 60.2 & 61 & 2774 & 6.83 & 6.90 & 4.13\\\\\n",
       "\t 1.01 & Premium   & F & I1  & 61.8 & 60 & 2781 & 6.39 & 6.36 & 3.94\\\\\n",
       "\t 1.01 & Fair      & E & I1  & 64.5 & 58 & 2788 & 6.29 & 6.21 & 4.03\\\\\n",
       "\t 1.01 & Premium   & H & SI2 & 62.7 & 59 & 2788 & 6.31 & 6.22 & 3.93\\\\\n",
       "\t 1.05 & Very Good & J & SI2 & 63.2 & 56 & 2789 & 6.49 & 6.45 & 4.09\\\\\n",
       "\t 1.05 & Fair      & J & SI2 & 65.8 & 59 & 2789 & 6.41 & 6.27 & 4.18\\\\\n",
       "\\end{tabular}\n"
      ],
      "text/markdown": [
       "\n",
       "A tibble: 6 × 10\n",
       "\n",
       "| carat &lt;dbl&gt; | cut &lt;ord&gt; | color &lt;ord&gt; | clarity &lt;ord&gt; | depth &lt;dbl&gt; | table &lt;dbl&gt; | price &lt;int&gt; | x &lt;dbl&gt; | y &lt;dbl&gt; | z &lt;dbl&gt; |\n",
       "|---|---|---|---|---|---|---|---|---|---|\n",
       "| 1.17 | Very Good | J | I1  | 60.2 | 61 | 2774 | 6.83 | 6.90 | 4.13 |\n",
       "| 1.01 | Premium   | F | I1  | 61.8 | 60 | 2781 | 6.39 | 6.36 | 3.94 |\n",
       "| 1.01 | Fair      | E | I1  | 64.5 | 58 | 2788 | 6.29 | 6.21 | 4.03 |\n",
       "| 1.01 | Premium   | H | SI2 | 62.7 | 59 | 2788 | 6.31 | 6.22 | 3.93 |\n",
       "| 1.05 | Very Good | J | SI2 | 63.2 | 56 | 2789 | 6.49 | 6.45 | 4.09 |\n",
       "| 1.05 | Fair      | J | SI2 | 65.8 | 59 | 2789 | 6.41 | 6.27 | 4.18 |\n",
       "\n"
      ],
      "text/plain": [
       "  carat cut       color clarity depth table price x    y    z   \n",
       "1 1.17  Very Good J     I1      60.2  61    2774  6.83 6.90 4.13\n",
       "2 1.01  Premium   F     I1      61.8  60    2781  6.39 6.36 3.94\n",
       "3 1.01  Fair      E     I1      64.5  58    2788  6.29 6.21 4.03\n",
       "4 1.01  Premium   H     SI2     62.7  59    2788  6.31 6.22 3.93\n",
       "5 1.05  Very Good J     SI2     63.2  56    2789  6.49 6.45 4.09\n",
       "6 1.05  Fair      J     SI2     65.8  59    2789  6.41 6.27 4.18"
      ]
     },
     "metadata": {},
     "output_type": "display_data"
    }
   ],
   "source": [
    "# carat이 1초과, 5 미만인 데이터 조회  and &\n",
    "diamonds %>% filter(1 < carat & carat < 5) %>% head()"
   ]
  },
  {
   "cell_type": "code",
   "execution_count": 22,
   "id": "b03d1f99-7a2d-40cb-b9a0-d684b237e482",
   "metadata": {
    "tags": []
   },
   "outputs": [
    {
     "data": {
      "text/html": [
       "<table class=\"dataframe\">\n",
       "<caption>A tibble: 6 × 10</caption>\n",
       "<thead>\n",
       "\t<tr><th scope=col>carat</th><th scope=col>cut</th><th scope=col>color</th><th scope=col>clarity</th><th scope=col>depth</th><th scope=col>table</th><th scope=col>price</th><th scope=col>x</th><th scope=col>y</th><th scope=col>z</th></tr>\n",
       "\t<tr><th scope=col>&lt;dbl&gt;</th><th scope=col>&lt;ord&gt;</th><th scope=col>&lt;ord&gt;</th><th scope=col>&lt;ord&gt;</th><th scope=col>&lt;dbl&gt;</th><th scope=col>&lt;dbl&gt;</th><th scope=col>&lt;int&gt;</th><th scope=col>&lt;dbl&gt;</th><th scope=col>&lt;dbl&gt;</th><th scope=col>&lt;dbl&gt;</th></tr>\n",
       "</thead>\n",
       "<tbody>\n",
       "\t<tr><td>0.23</td><td>Ideal    </td><td>E</td><td>SI2 </td><td>61.5</td><td>55</td><td>326</td><td>3.95</td><td>3.98</td><td>2.43</td></tr>\n",
       "\t<tr><td>0.21</td><td>Premium  </td><td>E</td><td>SI1 </td><td>59.8</td><td>61</td><td>326</td><td>3.89</td><td>3.84</td><td>2.31</td></tr>\n",
       "\t<tr><td>0.23</td><td>Good     </td><td>E</td><td>VS1 </td><td>56.9</td><td>65</td><td>327</td><td>4.05</td><td>4.07</td><td>2.31</td></tr>\n",
       "\t<tr><td>0.29</td><td>Premium  </td><td>I</td><td>VS2 </td><td>62.4</td><td>58</td><td>334</td><td>4.20</td><td>4.23</td><td>2.63</td></tr>\n",
       "\t<tr><td>0.31</td><td>Good     </td><td>J</td><td>SI2 </td><td>63.3</td><td>58</td><td>335</td><td>4.34</td><td>4.35</td><td>2.75</td></tr>\n",
       "\t<tr><td>0.24</td><td>Very Good</td><td>J</td><td>VVS2</td><td>62.8</td><td>57</td><td>336</td><td>3.94</td><td>3.96</td><td>2.48</td></tr>\n",
       "</tbody>\n",
       "</table>\n"
      ],
      "text/latex": [
       "A tibble: 6 × 10\n",
       "\\begin{tabular}{llllllllll}\n",
       " carat & cut & color & clarity & depth & table & price & x & y & z\\\\\n",
       " <dbl> & <ord> & <ord> & <ord> & <dbl> & <dbl> & <int> & <dbl> & <dbl> & <dbl>\\\\\n",
       "\\hline\n",
       "\t 0.23 & Ideal     & E & SI2  & 61.5 & 55 & 326 & 3.95 & 3.98 & 2.43\\\\\n",
       "\t 0.21 & Premium   & E & SI1  & 59.8 & 61 & 326 & 3.89 & 3.84 & 2.31\\\\\n",
       "\t 0.23 & Good      & E & VS1  & 56.9 & 65 & 327 & 4.05 & 4.07 & 2.31\\\\\n",
       "\t 0.29 & Premium   & I & VS2  & 62.4 & 58 & 334 & 4.20 & 4.23 & 2.63\\\\\n",
       "\t 0.31 & Good      & J & SI2  & 63.3 & 58 & 335 & 4.34 & 4.35 & 2.75\\\\\n",
       "\t 0.24 & Very Good & J & VVS2 & 62.8 & 57 & 336 & 3.94 & 3.96 & 2.48\\\\\n",
       "\\end{tabular}\n"
      ],
      "text/markdown": [
       "\n",
       "A tibble: 6 × 10\n",
       "\n",
       "| carat &lt;dbl&gt; | cut &lt;ord&gt; | color &lt;ord&gt; | clarity &lt;ord&gt; | depth &lt;dbl&gt; | table &lt;dbl&gt; | price &lt;int&gt; | x &lt;dbl&gt; | y &lt;dbl&gt; | z &lt;dbl&gt; |\n",
       "|---|---|---|---|---|---|---|---|---|---|\n",
       "| 0.23 | Ideal     | E | SI2  | 61.5 | 55 | 326 | 3.95 | 3.98 | 2.43 |\n",
       "| 0.21 | Premium   | E | SI1  | 59.8 | 61 | 326 | 3.89 | 3.84 | 2.31 |\n",
       "| 0.23 | Good      | E | VS1  | 56.9 | 65 | 327 | 4.05 | 4.07 | 2.31 |\n",
       "| 0.29 | Premium   | I | VS2  | 62.4 | 58 | 334 | 4.20 | 4.23 | 2.63 |\n",
       "| 0.31 | Good      | J | SI2  | 63.3 | 58 | 335 | 4.34 | 4.35 | 2.75 |\n",
       "| 0.24 | Very Good | J | VVS2 | 62.8 | 57 | 336 | 3.94 | 3.96 | 2.48 |\n",
       "\n"
      ],
      "text/plain": [
       "  carat cut       color clarity depth table price x    y    z   \n",
       "1 0.23  Ideal     E     SI2     61.5  55    326   3.95 3.98 2.43\n",
       "2 0.21  Premium   E     SI1     59.8  61    326   3.89 3.84 2.31\n",
       "3 0.23  Good      E     VS1     56.9  65    327   4.05 4.07 2.31\n",
       "4 0.29  Premium   I     VS2     62.4  58    334   4.20 4.23 2.63\n",
       "5 0.31  Good      J     SI2     63.3  58    335   4.34 4.35 2.75\n",
       "6 0.24  Very Good J     VVS2    62.8  57    336   3.94 3.96 2.48"
      ]
     },
     "metadata": {},
     "output_type": "display_data"
    }
   ],
   "source": [
    "# carat이 1미만이거나, 5초과인 데이터 조회  or |\n",
    "diamonds %>% filter(1 > carat | carat > 5) %>% head()"
   ]
  },
  {
   "cell_type": "code",
   "execution_count": 23,
   "id": "d6f0fd07-29f8-4828-825e-4a4f8aaf37da",
   "metadata": {},
   "outputs": [
    {
     "data": {
      "text/html": [
       "<table class=\"dataframe\">\n",
       "<caption>A tibble: 6 × 10</caption>\n",
       "<thead>\n",
       "\t<tr><th scope=col>carat</th><th scope=col>cut</th><th scope=col>color</th><th scope=col>clarity</th><th scope=col>depth</th><th scope=col>table</th><th scope=col>price</th><th scope=col>x</th><th scope=col>y</th><th scope=col>z</th></tr>\n",
       "\t<tr><th scope=col>&lt;dbl&gt;</th><th scope=col>&lt;ord&gt;</th><th scope=col>&lt;ord&gt;</th><th scope=col>&lt;ord&gt;</th><th scope=col>&lt;dbl&gt;</th><th scope=col>&lt;dbl&gt;</th><th scope=col>&lt;int&gt;</th><th scope=col>&lt;dbl&gt;</th><th scope=col>&lt;dbl&gt;</th><th scope=col>&lt;dbl&gt;</th></tr>\n",
       "</thead>\n",
       "<tbody>\n",
       "\t<tr><td>0.23</td><td>Ideal</td><td>E</td><td>SI2</td><td>61.5</td><td>55</td><td>326</td><td>3.95</td><td>3.98</td><td>2.43</td></tr>\n",
       "\t<tr><td>0.23</td><td>Good </td><td>E</td><td>VS1</td><td>56.9</td><td>65</td><td>327</td><td>4.05</td><td>4.07</td><td>2.31</td></tr>\n",
       "\t<tr><td>0.31</td><td>Good </td><td>J</td><td>SI2</td><td>63.3</td><td>58</td><td>335</td><td>4.34</td><td>4.35</td><td>2.75</td></tr>\n",
       "\t<tr><td>0.30</td><td>Good </td><td>J</td><td>SI1</td><td>64.0</td><td>55</td><td>339</td><td>4.25</td><td>4.28</td><td>2.73</td></tr>\n",
       "\t<tr><td>0.23</td><td>Ideal</td><td>J</td><td>VS1</td><td>62.8</td><td>56</td><td>340</td><td>3.93</td><td>3.90</td><td>2.46</td></tr>\n",
       "\t<tr><td>0.31</td><td>Ideal</td><td>J</td><td>SI2</td><td>62.2</td><td>54</td><td>344</td><td>4.35</td><td>4.37</td><td>2.71</td></tr>\n",
       "</tbody>\n",
       "</table>\n"
      ],
      "text/latex": [
       "A tibble: 6 × 10\n",
       "\\begin{tabular}{llllllllll}\n",
       " carat & cut & color & clarity & depth & table & price & x & y & z\\\\\n",
       " <dbl> & <ord> & <ord> & <ord> & <dbl> & <dbl> & <int> & <dbl> & <dbl> & <dbl>\\\\\n",
       "\\hline\n",
       "\t 0.23 & Ideal & E & SI2 & 61.5 & 55 & 326 & 3.95 & 3.98 & 2.43\\\\\n",
       "\t 0.23 & Good  & E & VS1 & 56.9 & 65 & 327 & 4.05 & 4.07 & 2.31\\\\\n",
       "\t 0.31 & Good  & J & SI2 & 63.3 & 58 & 335 & 4.34 & 4.35 & 2.75\\\\\n",
       "\t 0.30 & Good  & J & SI1 & 64.0 & 55 & 339 & 4.25 & 4.28 & 2.73\\\\\n",
       "\t 0.23 & Ideal & J & VS1 & 62.8 & 56 & 340 & 3.93 & 3.90 & 2.46\\\\\n",
       "\t 0.31 & Ideal & J & SI2 & 62.2 & 54 & 344 & 4.35 & 4.37 & 2.71\\\\\n",
       "\\end{tabular}\n"
      ],
      "text/markdown": [
       "\n",
       "A tibble: 6 × 10\n",
       "\n",
       "| carat &lt;dbl&gt; | cut &lt;ord&gt; | color &lt;ord&gt; | clarity &lt;ord&gt; | depth &lt;dbl&gt; | table &lt;dbl&gt; | price &lt;int&gt; | x &lt;dbl&gt; | y &lt;dbl&gt; | z &lt;dbl&gt; |\n",
       "|---|---|---|---|---|---|---|---|---|---|\n",
       "| 0.23 | Ideal | E | SI2 | 61.5 | 55 | 326 | 3.95 | 3.98 | 2.43 |\n",
       "| 0.23 | Good  | E | VS1 | 56.9 | 65 | 327 | 4.05 | 4.07 | 2.31 |\n",
       "| 0.31 | Good  | J | SI2 | 63.3 | 58 | 335 | 4.34 | 4.35 | 2.75 |\n",
       "| 0.30 | Good  | J | SI1 | 64.0 | 55 | 339 | 4.25 | 4.28 | 2.73 |\n",
       "| 0.23 | Ideal | J | VS1 | 62.8 | 56 | 340 | 3.93 | 3.90 | 2.46 |\n",
       "| 0.31 | Ideal | J | SI2 | 62.2 | 54 | 344 | 4.35 | 4.37 | 2.71 |\n",
       "\n"
      ],
      "text/plain": [
       "  carat cut   color clarity depth table price x    y    z   \n",
       "1 0.23  Ideal E     SI2     61.5  55    326   3.95 3.98 2.43\n",
       "2 0.23  Good  E     VS1     56.9  65    327   4.05 4.07 2.31\n",
       "3 0.31  Good  J     SI2     63.3  58    335   4.34 4.35 2.75\n",
       "4 0.30  Good  J     SI1     64.0  55    339   4.25 4.28 2.73\n",
       "5 0.23  Ideal J     VS1     62.8  56    340   3.93 3.90 2.46\n",
       "6 0.31  Ideal J     SI2     62.2  54    344   4.35 4.37 2.71"
      ]
     },
     "metadata": {},
     "output_type": "display_data"
    },
    {
     "data": {
      "text/html": [
       "<table class=\"dataframe\">\n",
       "<caption>A tibble: 6 × 10</caption>\n",
       "<thead>\n",
       "\t<tr><th scope=col>carat</th><th scope=col>cut</th><th scope=col>color</th><th scope=col>clarity</th><th scope=col>depth</th><th scope=col>table</th><th scope=col>price</th><th scope=col>x</th><th scope=col>y</th><th scope=col>z</th></tr>\n",
       "\t<tr><th scope=col>&lt;dbl&gt;</th><th scope=col>&lt;ord&gt;</th><th scope=col>&lt;ord&gt;</th><th scope=col>&lt;ord&gt;</th><th scope=col>&lt;dbl&gt;</th><th scope=col>&lt;dbl&gt;</th><th scope=col>&lt;int&gt;</th><th scope=col>&lt;dbl&gt;</th><th scope=col>&lt;dbl&gt;</th><th scope=col>&lt;dbl&gt;</th></tr>\n",
       "</thead>\n",
       "<tbody>\n",
       "\t<tr><td>0.23</td><td>Ideal</td><td>E</td><td>SI2</td><td>61.5</td><td>55</td><td>326</td><td>3.95</td><td>3.98</td><td>2.43</td></tr>\n",
       "\t<tr><td>0.23</td><td>Good </td><td>E</td><td>VS1</td><td>56.9</td><td>65</td><td>327</td><td>4.05</td><td>4.07</td><td>2.31</td></tr>\n",
       "\t<tr><td>0.31</td><td>Good </td><td>J</td><td>SI2</td><td>63.3</td><td>58</td><td>335</td><td>4.34</td><td>4.35</td><td>2.75</td></tr>\n",
       "\t<tr><td>0.30</td><td>Good </td><td>J</td><td>SI1</td><td>64.0</td><td>55</td><td>339</td><td>4.25</td><td>4.28</td><td>2.73</td></tr>\n",
       "\t<tr><td>0.23</td><td>Ideal</td><td>J</td><td>VS1</td><td>62.8</td><td>56</td><td>340</td><td>3.93</td><td>3.90</td><td>2.46</td></tr>\n",
       "\t<tr><td>0.31</td><td>Ideal</td><td>J</td><td>SI2</td><td>62.2</td><td>54</td><td>344</td><td>4.35</td><td>4.37</td><td>2.71</td></tr>\n",
       "</tbody>\n",
       "</table>\n"
      ],
      "text/latex": [
       "A tibble: 6 × 10\n",
       "\\begin{tabular}{llllllllll}\n",
       " carat & cut & color & clarity & depth & table & price & x & y & z\\\\\n",
       " <dbl> & <ord> & <ord> & <ord> & <dbl> & <dbl> & <int> & <dbl> & <dbl> & <dbl>\\\\\n",
       "\\hline\n",
       "\t 0.23 & Ideal & E & SI2 & 61.5 & 55 & 326 & 3.95 & 3.98 & 2.43\\\\\n",
       "\t 0.23 & Good  & E & VS1 & 56.9 & 65 & 327 & 4.05 & 4.07 & 2.31\\\\\n",
       "\t 0.31 & Good  & J & SI2 & 63.3 & 58 & 335 & 4.34 & 4.35 & 2.75\\\\\n",
       "\t 0.30 & Good  & J & SI1 & 64.0 & 55 & 339 & 4.25 & 4.28 & 2.73\\\\\n",
       "\t 0.23 & Ideal & J & VS1 & 62.8 & 56 & 340 & 3.93 & 3.90 & 2.46\\\\\n",
       "\t 0.31 & Ideal & J & SI2 & 62.2 & 54 & 344 & 4.35 & 4.37 & 2.71\\\\\n",
       "\\end{tabular}\n"
      ],
      "text/markdown": [
       "\n",
       "A tibble: 6 × 10\n",
       "\n",
       "| carat &lt;dbl&gt; | cut &lt;ord&gt; | color &lt;ord&gt; | clarity &lt;ord&gt; | depth &lt;dbl&gt; | table &lt;dbl&gt; | price &lt;int&gt; | x &lt;dbl&gt; | y &lt;dbl&gt; | z &lt;dbl&gt; |\n",
       "|---|---|---|---|---|---|---|---|---|---|\n",
       "| 0.23 | Ideal | E | SI2 | 61.5 | 55 | 326 | 3.95 | 3.98 | 2.43 |\n",
       "| 0.23 | Good  | E | VS1 | 56.9 | 65 | 327 | 4.05 | 4.07 | 2.31 |\n",
       "| 0.31 | Good  | J | SI2 | 63.3 | 58 | 335 | 4.34 | 4.35 | 2.75 |\n",
       "| 0.30 | Good  | J | SI1 | 64.0 | 55 | 339 | 4.25 | 4.28 | 2.73 |\n",
       "| 0.23 | Ideal | J | VS1 | 62.8 | 56 | 340 | 3.93 | 3.90 | 2.46 |\n",
       "| 0.31 | Ideal | J | SI2 | 62.2 | 54 | 344 | 4.35 | 4.37 | 2.71 |\n",
       "\n"
      ],
      "text/plain": [
       "  carat cut   color clarity depth table price x    y    z   \n",
       "1 0.23  Ideal E     SI2     61.5  55    326   3.95 3.98 2.43\n",
       "2 0.23  Good  E     VS1     56.9  65    327   4.05 4.07 2.31\n",
       "3 0.31  Good  J     SI2     63.3  58    335   4.34 4.35 2.75\n",
       "4 0.30  Good  J     SI1     64.0  55    339   4.25 4.28 2.73\n",
       "5 0.23  Ideal J     VS1     62.8  56    340   3.93 3.90 2.46\n",
       "6 0.31  Ideal J     SI2     62.2  54    344   4.35 4.37 2.71"
      ]
     },
     "metadata": {},
     "output_type": "display_data"
    }
   ],
   "source": [
    "# cut이 'Ideal'이거나 'Good'인 데이터 조회\n",
    "diamonds %>% filter(cut %in% c('Ideal','Good')) %>% head()\n",
    "diamonds %>% filter(cut == 'Ideal'| cut== 'Good') %>% head()         "
   ]
  },
  {
   "cell_type": "code",
   "execution_count": 24,
   "id": "1f37b252-1837-4482-96d4-79a9634c9734",
   "metadata": {},
   "outputs": [
    {
     "data": {
      "text/html": [
       "<table class=\"dataframe\">\n",
       "<caption>A tibble: 5 × 2</caption>\n",
       "<thead>\n",
       "\t<tr><th scope=col>cut</th><th scope=col>avgPrice</th></tr>\n",
       "\t<tr><th scope=col>&lt;ord&gt;</th><th scope=col>&lt;dbl&gt;</th></tr>\n",
       "</thead>\n",
       "<tbody>\n",
       "\t<tr><td>Fair     </td><td>4358.758</td></tr>\n",
       "\t<tr><td>Good     </td><td>3928.864</td></tr>\n",
       "\t<tr><td>Very Good</td><td>3981.760</td></tr>\n",
       "\t<tr><td>Premium  </td><td>4584.258</td></tr>\n",
       "\t<tr><td>Ideal    </td><td>3457.542</td></tr>\n",
       "</tbody>\n",
       "</table>\n"
      ],
      "text/latex": [
       "A tibble: 5 × 2\n",
       "\\begin{tabular}{ll}\n",
       " cut & avgPrice\\\\\n",
       " <ord> & <dbl>\\\\\n",
       "\\hline\n",
       "\t Fair      & 4358.758\\\\\n",
       "\t Good      & 3928.864\\\\\n",
       "\t Very Good & 3981.760\\\\\n",
       "\t Premium   & 4584.258\\\\\n",
       "\t Ideal     & 3457.542\\\\\n",
       "\\end{tabular}\n"
      ],
      "text/markdown": [
       "\n",
       "A tibble: 5 × 2\n",
       "\n",
       "| cut &lt;ord&gt; | avgPrice &lt;dbl&gt; |\n",
       "|---|---|\n",
       "| Fair      | 4358.758 |\n",
       "| Good      | 3928.864 |\n",
       "| Very Good | 3981.760 |\n",
       "| Premium   | 4584.258 |\n",
       "| Ideal     | 3457.542 |\n",
       "\n"
      ],
      "text/plain": [
       "  cut       avgPrice\n",
       "1 Fair      4358.758\n",
       "2 Good      3928.864\n",
       "3 Very Good 3981.760\n",
       "4 Premium   4584.258\n",
       "5 Ideal     3457.542"
      ]
     },
     "metadata": {},
     "output_type": "display_data"
    }
   ],
   "source": [
    "# cut, color 기준으로 평균 가격을\n",
    "# avgPrice로, 총 carat을 sumCarat이라는\n",
    "# 이름으로 집계\n",
    "diamonds %>% group_by(cut)%>% summarise(avgPrice = mean(price))"
   ]
  },
  {
   "cell_type": "code",
   "execution_count": 25,
   "id": "7905bb4d-27d4-498a-b1ae-8e995cff29f7",
   "metadata": {},
   "outputs": [
    {
     "data": {
      "text/html": [
       "<table class=\"dataframe\">\n",
       "<caption>A tibble: 7 × 2</caption>\n",
       "<thead>\n",
       "\t<tr><th scope=col>color</th><th scope=col>avgPrice</th></tr>\n",
       "\t<tr><th scope=col>&lt;ord&gt;</th><th scope=col>&lt;dbl&gt;</th></tr>\n",
       "</thead>\n",
       "<tbody>\n",
       "\t<tr><td>D</td><td>3169.954</td></tr>\n",
       "\t<tr><td>E</td><td>3076.752</td></tr>\n",
       "\t<tr><td>F</td><td>3724.886</td></tr>\n",
       "\t<tr><td>G</td><td>3999.136</td></tr>\n",
       "\t<tr><td>H</td><td>4486.669</td></tr>\n",
       "\t<tr><td>I</td><td>5091.875</td></tr>\n",
       "\t<tr><td>J</td><td>5323.818</td></tr>\n",
       "</tbody>\n",
       "</table>\n"
      ],
      "text/latex": [
       "A tibble: 7 × 2\n",
       "\\begin{tabular}{ll}\n",
       " color & avgPrice\\\\\n",
       " <ord> & <dbl>\\\\\n",
       "\\hline\n",
       "\t D & 3169.954\\\\\n",
       "\t E & 3076.752\\\\\n",
       "\t F & 3724.886\\\\\n",
       "\t G & 3999.136\\\\\n",
       "\t H & 4486.669\\\\\n",
       "\t I & 5091.875\\\\\n",
       "\t J & 5323.818\\\\\n",
       "\\end{tabular}\n"
      ],
      "text/markdown": [
       "\n",
       "A tibble: 7 × 2\n",
       "\n",
       "| color &lt;ord&gt; | avgPrice &lt;dbl&gt; |\n",
       "|---|---|\n",
       "| D | 3169.954 |\n",
       "| E | 3076.752 |\n",
       "| F | 3724.886 |\n",
       "| G | 3999.136 |\n",
       "| H | 4486.669 |\n",
       "| I | 5091.875 |\n",
       "| J | 5323.818 |\n",
       "\n"
      ],
      "text/plain": [
       "  color avgPrice\n",
       "1 D     3169.954\n",
       "2 E     3076.752\n",
       "3 F     3724.886\n",
       "4 G     3999.136\n",
       "5 H     4486.669\n",
       "6 I     5091.875\n",
       "7 J     5323.818"
      ]
     },
     "metadata": {},
     "output_type": "display_data"
    }
   ],
   "source": [
    "diamonds %>% group_by(color) %>% summarise(avgPrice = mean(price))"
   ]
  },
  {
   "cell_type": "code",
   "execution_count": 26,
   "id": "ab726df4-711e-483a-9504-c476bc69bec0",
   "metadata": {},
   "outputs": [
    {
     "data": {
      "text/html": [
       "<table class=\"dataframe\">\n",
       "<caption>A tibble: 1 × 1</caption>\n",
       "<thead>\n",
       "\t<tr><th scope=col>SumCarat</th></tr>\n",
       "\t<tr><th scope=col>&lt;dbl&gt;</th></tr>\n",
       "</thead>\n",
       "<tbody>\n",
       "\t<tr><td>43040.87</td></tr>\n",
       "</tbody>\n",
       "</table>\n"
      ],
      "text/latex": [
       "A tibble: 1 × 1\n",
       "\\begin{tabular}{l}\n",
       " SumCarat\\\\\n",
       " <dbl>\\\\\n",
       "\\hline\n",
       "\t 43040.87\\\\\n",
       "\\end{tabular}\n"
      ],
      "text/markdown": [
       "\n",
       "A tibble: 1 × 1\n",
       "\n",
       "| SumCarat &lt;dbl&gt; |\n",
       "|---|\n",
       "| 43040.87 |\n",
       "\n"
      ],
      "text/plain": [
       "  SumCarat\n",
       "1 43040.87"
      ]
     },
     "metadata": {},
     "output_type": "display_data"
    }
   ],
   "source": [
    "diamonds %>% summarise(SumCarat = sum(carat))"
   ]
  }
 ],
 "metadata": {
  "kernelspec": {
   "display_name": "R",
   "language": "R",
   "name": "ir"
  },
  "language_info": {
   "codemirror_mode": "r",
   "file_extension": ".r",
   "mimetype": "text/x-r-source",
   "name": "R",
   "pygments_lexer": "r",
   "version": "3.6.3"
  }
 },
 "nbformat": 4,
 "nbformat_minor": 5
}
