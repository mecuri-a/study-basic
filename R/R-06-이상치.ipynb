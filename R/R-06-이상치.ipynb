{
 "cells": [
  {
   "cell_type": "markdown",
   "id": "76634aac-263a-43b3-a013-e750616a7a16",
   "metadata": {},
   "source": [
    "### 이상치(특이값)outlier\n",
    "\n",
    "+ 정상적이라고 생각되는 데이터의 범위 밖에 위치하는 값들을 의미\n",
    "\n",
    "+ 잘못 입력하거나, 정상이지만, 상황에 따라 큰 값이 입력되는 경우에 주로 발생\n",
    "\n",
    "+ 이것을 이용해서 제조공정상의 불량품 검출 또는 금융거래상에서 비정상 거래 탐지, 게임등에서 비정상 활동을 탐지할때 주로 사용함\n",
    "\n",
    "+ 특이값은 전체 데이터의 평균을 끌어 올리거나 낮추는등 왜곡을 가져오므로 분석시 제거하는 것이 좋음\n",
    "\n",
    "+ 이상치를 판단하는 기준은 3사분위수에서 +1.5IQR, 1사분위수에서 -1.5IQR를 넘어가는 경우\n",
    "\n",
    "\n",
    "### 상자수염 그래프\n",
    "\n",
    "+ box-and-whisker plot\n",
    "\n",
    "+ 데이터의 대략적인 분포와 개별적인 이상치들을 동시에 보여줄 수 있으며\n",
    "\n",
    "+ 서로 다른 데이터 뭉치를 쉽게 비교할 수 있도록 도와주는 시각화 기법\n",
    "\n",
    "+ 통계학자 존 튜키(John Tukey)가 1977년 저서 \"탐색적 데이터 분석(Exploratory Data Analysis)\"에서 처음 제시\n",
    "\n",
    "+ 범위 막대에서는 수염의 양 끝이 최대값과 최소값을 나타내고,\n",
    "\n",
    "+ 상자는 사분위수범위를 나타내며\n",
    "\n",
    "+ 상자 안에 중앙값을 표현하는 방식으로 \"5가지 요약 수치\" 를 표현"
   ]
  },
  {
   "cell_type": "code",
   "execution_count": 1,
   "id": "6e4168b0-70c7-4cb7-85d1-fffee3cacbfd",
   "metadata": {},
   "outputs": [
    {
     "data": {
      "text/html": [
       "<table class=\"dataframe\">\n",
       "<caption>A matrix: 6 × 8 of type dbl</caption>\n",
       "<thead>\n",
       "\t<tr><th></th><th scope=col>Population</th><th scope=col>Income</th><th scope=col>Illiteracy</th><th scope=col>Life Exp</th><th scope=col>Murder</th><th scope=col>HS Grad</th><th scope=col>Frost</th><th scope=col>Area</th></tr>\n",
       "</thead>\n",
       "<tbody>\n",
       "\t<tr><th scope=row>Alabama</th><td> 3615</td><td>3624</td><td>2.1</td><td>69.05</td><td>15.1</td><td>41.3</td><td> 20</td><td> 50708</td></tr>\n",
       "\t<tr><th scope=row>Alaska</th><td>  365</td><td>6315</td><td>1.5</td><td>69.31</td><td>11.3</td><td>66.7</td><td>152</td><td>566432</td></tr>\n",
       "\t<tr><th scope=row>Arizona</th><td> 2212</td><td>4530</td><td>1.8</td><td>70.55</td><td> 7.8</td><td>58.1</td><td> 15</td><td>113417</td></tr>\n",
       "\t<tr><th scope=row>Arkansas</th><td> 2110</td><td>3378</td><td>1.9</td><td>70.66</td><td>10.1</td><td>39.9</td><td> 65</td><td> 51945</td></tr>\n",
       "\t<tr><th scope=row>California</th><td>21198</td><td>5114</td><td>1.1</td><td>71.71</td><td>10.3</td><td>62.6</td><td> 20</td><td>156361</td></tr>\n",
       "\t<tr><th scope=row>Colorado</th><td> 2541</td><td>4884</td><td>0.7</td><td>72.06</td><td> 6.8</td><td>63.9</td><td>166</td><td>103766</td></tr>\n",
       "</tbody>\n",
       "</table>\n"
      ],
      "text/latex": [
       "A matrix: 6 × 8 of type dbl\n",
       "\\begin{tabular}{r|llllllll}\n",
       "  & Population & Income & Illiteracy & Life Exp & Murder & HS Grad & Frost & Area\\\\\n",
       "\\hline\n",
       "\tAlabama &  3615 & 3624 & 2.1 & 69.05 & 15.1 & 41.3 &  20 &  50708\\\\\n",
       "\tAlaska &   365 & 6315 & 1.5 & 69.31 & 11.3 & 66.7 & 152 & 566432\\\\\n",
       "\tArizona &  2212 & 4530 & 1.8 & 70.55 &  7.8 & 58.1 &  15 & 113417\\\\\n",
       "\tArkansas &  2110 & 3378 & 1.9 & 70.66 & 10.1 & 39.9 &  65 &  51945\\\\\n",
       "\tCalifornia & 21198 & 5114 & 1.1 & 71.71 & 10.3 & 62.6 &  20 & 156361\\\\\n",
       "\tColorado &  2541 & 4884 & 0.7 & 72.06 &  6.8 & 63.9 & 166 & 103766\\\\\n",
       "\\end{tabular}\n"
      ],
      "text/markdown": [
       "\n",
       "A matrix: 6 × 8 of type dbl\n",
       "\n",
       "| <!--/--> | Population | Income | Illiteracy | Life Exp | Murder | HS Grad | Frost | Area |\n",
       "|---|---|---|---|---|---|---|---|---|\n",
       "| Alabama |  3615 | 3624 | 2.1 | 69.05 | 15.1 | 41.3 |  20 |  50708 |\n",
       "| Alaska |   365 | 6315 | 1.5 | 69.31 | 11.3 | 66.7 | 152 | 566432 |\n",
       "| Arizona |  2212 | 4530 | 1.8 | 70.55 |  7.8 | 58.1 |  15 | 113417 |\n",
       "| Arkansas |  2110 | 3378 | 1.9 | 70.66 | 10.1 | 39.9 |  65 |  51945 |\n",
       "| California | 21198 | 5114 | 1.1 | 71.71 | 10.3 | 62.6 |  20 | 156361 |\n",
       "| Colorado |  2541 | 4884 | 0.7 | 72.06 |  6.8 | 63.9 | 166 | 103766 |\n",
       "\n"
      ],
      "text/plain": [
       "           Population Income Illiteracy Life Exp Murder HS Grad Frost Area  \n",
       "Alabama     3615      3624   2.1        69.05    15.1   41.3     20    50708\n",
       "Alaska       365      6315   1.5        69.31    11.3   66.7    152   566432\n",
       "Arizona     2212      4530   1.8        70.55     7.8   58.1     15   113417\n",
       "Arkansas    2110      3378   1.9        70.66    10.1   39.9     65    51945\n",
       "California 21198      5114   1.1        71.71    10.3   62.6     20   156361\n",
       "Colorado    2541      4884   0.7        72.06     6.8   63.9    166   103766"
      ]
     },
     "metadata": {},
     "output_type": "display_data"
    }
   ],
   "source": [
    "# 미국 50개 주 통계자료 중 주별 수입income 분석\n",
    "head(state.x77)"
   ]
  },
  {
   "cell_type": "code",
   "execution_count": 2,
   "id": "4c836580-d018-4f24-8d27-017034ef7d05",
   "metadata": {},
   "outputs": [
    {
     "data": {
      "image/png": "[encoded data removed]",
      "text/plain": [
       "Plot with title “Histogram of state77$Income”"
      ]
     },
     "metadata": {
      "image/png": {
       "height": 420,
       "width": 420
      }
     },
     "output_type": "display_data"
    }
   ],
   "source": [
    "# 시각화\n",
    "state77 <- data.frame(state.x77)\n",
    "hist(state77$Income)"
   ]
  },
  {
   "cell_type": "code",
   "execution_count": 3,
   "id": "75af4f57-4090-4c7f-b42c-245f7262a394",
   "metadata": {},
   "outputs": [
    {
     "data": {
      "image/png": "[encoded data removed]",
      "text/plain": [
       "plot without title"
      ]
     },
     "metadata": {
      "image/png": {
       "height": 420,
       "width": 420
      }
     },
     "output_type": "display_data"
    }
   ],
   "source": [
    "# 주별 수입이 6000~6500인 데이터가 존재\n",
    "\n",
    "# 이상치 여부 확인\n",
    "bp <- boxplot(state77$Income)"
   ]
  },
  {
   "cell_type": "code",
   "execution_count": 4,
   "id": "620342bc-35ca-427b-bff2-36e6e275e035",
   "metadata": {},
   "outputs": [
    {
     "data": {
      "text/html": [
       "6315"
      ],
      "text/latex": [
       "6315"
      ],
      "text/markdown": [
       "6315"
      ],
      "text/plain": [
       "[1] 6315"
      ]
     },
     "metadata": {},
     "output_type": "display_data"
    }
   ],
   "source": [
    "# 이상치 확인\n",
    "# $ststs : 5가지 요약수\n",
    "# $out : 이상치\n",
    "bp$out"
   ]
  },
  {
   "cell_type": "code",
   "execution_count": 5,
   "id": "23771ebf-4058-4353-b8a3-4211cf1b173d",
   "metadata": {},
   "outputs": [
    {
     "data": {
      "text/html": [
       "<table class=\"dataframe\">\n",
       "<caption>A data.frame: 1 × 8</caption>\n",
       "<thead>\n",
       "\t<tr><th></th><th scope=col>Population</th><th scope=col>Income</th><th scope=col>Illiteracy</th><th scope=col>Life.Exp</th><th scope=col>Murder</th><th scope=col>HS.Grad</th><th scope=col>Frost</th><th scope=col>Area</th></tr>\n",
       "\t<tr><th></th><th scope=col>&lt;dbl&gt;</th><th scope=col>&lt;dbl&gt;</th><th scope=col>&lt;dbl&gt;</th><th scope=col>&lt;dbl&gt;</th><th scope=col>&lt;dbl&gt;</th><th scope=col>&lt;dbl&gt;</th><th scope=col>&lt;dbl&gt;</th><th scope=col>&lt;dbl&gt;</th></tr>\n",
       "</thead>\n",
       "<tbody>\n",
       "\t<tr><th scope=row>Alaska</th><td>365</td><td>6315</td><td>1.5</td><td>69.31</td><td>11.3</td><td>66.7</td><td>152</td><td>566432</td></tr>\n",
       "</tbody>\n",
       "</table>\n"
      ],
      "text/latex": [
       "A data.frame: 1 × 8\n",
       "\\begin{tabular}{r|llllllll}\n",
       "  & Population & Income & Illiteracy & Life.Exp & Murder & HS.Grad & Frost & Area\\\\\n",
       "  & <dbl> & <dbl> & <dbl> & <dbl> & <dbl> & <dbl> & <dbl> & <dbl>\\\\\n",
       "\\hline\n",
       "\tAlaska & 365 & 6315 & 1.5 & 69.31 & 11.3 & 66.7 & 152 & 566432\\\\\n",
       "\\end{tabular}\n"
      ],
      "text/markdown": [
       "\n",
       "A data.frame: 1 × 8\n",
       "\n",
       "| <!--/--> | Population &lt;dbl&gt; | Income &lt;dbl&gt; | Illiteracy &lt;dbl&gt; | Life.Exp &lt;dbl&gt; | Murder &lt;dbl&gt; | HS.Grad &lt;dbl&gt; | Frost &lt;dbl&gt; | Area &lt;dbl&gt; |\n",
       "|---|---|---|---|---|---|---|---|---|\n",
       "| Alaska | 365 | 6315 | 1.5 | 69.31 | 11.3 | 66.7 | 152 | 566432 |\n",
       "\n"
      ],
      "text/plain": [
       "       Population Income Illiteracy Life.Exp Murder HS.Grad Frost Area  \n",
       "Alaska 365        6315   1.5        69.31    11.3   66.7    152   566432"
      ]
     },
     "metadata": {},
     "output_type": "display_data"
    }
   ],
   "source": [
    "# 이상치가 있는 주이름은?\n",
    "state77[state77$Income == bp$out, ]"
   ]
  },
  {
   "cell_type": "code",
   "execution_count": 6,
   "id": "3cdbd808-ecd3-4a4e-9bc1-3472ea993ac7",
   "metadata": {},
   "outputs": [
    {
     "data": {
      "text/html": [
       "<style>\n",
       ".list-inline {list-style: none; margin:0; padding: 0}\n",
       ".list-inline>li {display: inline-block}\n",
       ".list-inline>li:not(:last-child)::after {content: \"\\00b7\"; padding: 0 .5ex}\n",
       "</style>\n",
       "<ol class=list-inline><li>3624</li><li>&lt;NA&gt;</li><li>4530</li><li>3378</li><li>5114</li><li>4884</li><li>5348</li><li>4809</li><li>4815</li><li>4091</li><li>4963</li><li>4119</li><li>5107</li><li>4458</li><li>4628</li><li>4669</li><li>3712</li><li>3545</li><li>3694</li><li>5299</li><li>4755</li><li>4751</li><li>4675</li><li>3098</li><li>4254</li><li>4347</li><li>4508</li><li>5149</li><li>4281</li><li>5237</li><li>3601</li><li>4903</li><li>3875</li><li>5087</li><li>4561</li><li>3983</li><li>4660</li><li>4449</li><li>4558</li><li>3635</li><li>4167</li><li>3821</li><li>4188</li><li>4022</li><li>3907</li><li>4701</li><li>4864</li><li>3617</li><li>4468</li><li>4566</li></ol>\n"
      ],
      "text/latex": [
       "\\begin{enumerate*}\n",
       "\\item 3624\n",
       "\\item <NA>\n",
       "\\item 4530\n",
       "\\item 3378\n",
       "\\item 5114\n",
       "\\item 4884\n",
       "\\item 5348\n",
       "\\item 4809\n",
       "\\item 4815\n",
       "\\item 4091\n",
       "\\item 4963\n",
       "\\item 4119\n",
       "\\item 5107\n",
       "\\item 4458\n",
       "\\item 4628\n",
       "\\item 4669\n",
       "\\item 3712\n",
       "\\item 3545\n",
       "\\item 3694\n",
       "\\item 5299\n",
       "\\item 4755\n",
       "\\item 4751\n",
       "\\item 4675\n",
       "\\item 3098\n",
       "\\item 4254\n",
       "\\item 4347\n",
       "\\item 4508\n",
       "\\item 5149\n",
       "\\item 4281\n",
       "\\item 5237\n",
       "\\item 3601\n",
       "\\item 4903\n",
       "\\item 3875\n",
       "\\item 5087\n",
       "\\item 4561\n",
       "\\item 3983\n",
       "\\item 4660\n",
       "\\item 4449\n",
       "\\item 4558\n",
       "\\item 3635\n",
       "\\item 4167\n",
       "\\item 3821\n",
       "\\item 4188\n",
       "\\item 4022\n",
       "\\item 3907\n",
       "\\item 4701\n",
       "\\item 4864\n",
       "\\item 3617\n",
       "\\item 4468\n",
       "\\item 4566\n",
       "\\end{enumerate*}\n"
      ],
      "text/markdown": [
       "1. 3624\n",
       "2. &lt;NA&gt;\n",
       "3. 4530\n",
       "4. 3378\n",
       "5. 5114\n",
       "6. 4884\n",
       "7. 5348\n",
       "8. 4809\n",
       "9. 4815\n",
       "10. 4091\n",
       "11. 4963\n",
       "12. 4119\n",
       "13. 5107\n",
       "14. 4458\n",
       "15. 4628\n",
       "16. 4669\n",
       "17. 3712\n",
       "18. 3545\n",
       "19. 3694\n",
       "20. 5299\n",
       "21. 4755\n",
       "22. 4751\n",
       "23. 4675\n",
       "24. 3098\n",
       "25. 4254\n",
       "26. 4347\n",
       "27. 4508\n",
       "28. 5149\n",
       "29. 4281\n",
       "30. 5237\n",
       "31. 3601\n",
       "32. 4903\n",
       "33. 3875\n",
       "34. 5087\n",
       "35. 4561\n",
       "36. 3983\n",
       "37. 4660\n",
       "38. 4449\n",
       "39. 4558\n",
       "40. 3635\n",
       "41. 4167\n",
       "42. 3821\n",
       "43. 4188\n",
       "44. 4022\n",
       "45. 3907\n",
       "46. 4701\n",
       "47. 4864\n",
       "48. 3617\n",
       "49. 4468\n",
       "50. 4566\n",
       "\n",
       "\n"
      ],
      "text/plain": [
       " [1] 3624   NA 4530 3378 5114 4884 5348 4809 4815 4091 4963 4119 5107 4458 4628\n",
       "[16] 4669 3712 3545 3694 5299 4755 4751 4675 3098 4254 4347 4508 5149 4281 5237\n",
       "[31] 3601 4903 3875 5087 4561 3983 4660 4449 4558 3635 4167 3821 4188 4022 3907\n",
       "[46] 4701 4864 3617 4468 4566"
      ]
     },
     "metadata": {},
     "output_type": "display_data"
    }
   ],
   "source": [
    "# 이상치를 제거하려면 해당 컬럼의 값을 NA로 바꾼후 na.omit 사용\n",
    "s77Income <- state77$Income\n",
    "s77Income[s77Income == bp$out] <- NA\n",
    "s77Income  # NA 확인"
   ]
  },
  {
   "cell_type": "code",
   "execution_count": 7,
   "id": "b1c54c0e-62f9-44d6-ac5a-e76962ef7762",
   "metadata": {},
   "outputs": [],
   "source": [
    "s77Income <- na.omit(s77Income)  # 이상치 제거"
   ]
  },
  {
   "cell_type": "code",
   "execution_count": 8,
   "id": "62d10c4c-54ca-43d7-9eea-70c42cd0608b",
   "metadata": {},
   "outputs": [
    {
     "data": {
      "image/png": "[encoded data removed]",
      "text/plain": [
       "plot without title"
      ]
     },
     "metadata": {
      "image/png": {
       "height": 420,
       "width": 420
      }
     },
     "output_type": "display_data"
    }
   ],
   "source": [
    "boxplot(s77Income)"
   ]
  },
  {
   "cell_type": "code",
   "execution_count": 9,
   "id": "b11b196f-632f-43a1-b024-0cfa099f0331",
   "metadata": {},
   "outputs": [],
   "source": [
    "## titanic데이터 이상치 처리\n",
    "load('rdata/titanic.rdata')"
   ]
  },
  {
   "cell_type": "code",
   "execution_count": 10,
   "id": "60b8fc12-ffc2-41b6-bb8a-b480a584c5dc",
   "metadata": {},
   "outputs": [
    {
     "data": {
      "text/html": [
       "<table class=\"dataframe\">\n",
       "<caption>A matrix: 5 × 1 of type dbl</caption>\n",
       "<tbody>\n",
       "\t<tr><td> 3.00000</td></tr>\n",
       "\t<tr><td>22.00000</td></tr>\n",
       "\t<tr><td>29.88113</td></tr>\n",
       "\t<tr><td>35.00000</td></tr>\n",
       "\t<tr><td>54.00000</td></tr>\n",
       "</tbody>\n",
       "</table>\n"
      ],
      "text/latex": [
       "A matrix: 5 × 1 of type dbl\n",
       "\\begin{tabular}{l}\n",
       "\t  3.00000\\\\\n",
       "\t 22.00000\\\\\n",
       "\t 29.88113\\\\\n",
       "\t 35.00000\\\\\n",
       "\t 54.00000\\\\\n",
       "\\end{tabular}\n"
      ],
      "text/markdown": [
       "\n",
       "A matrix: 5 × 1 of type dbl\n",
       "\n",
       "|  3.00000 |\n",
       "| 22.00000 |\n",
       "| 29.88113 |\n",
       "| 35.00000 |\n",
       "| 54.00000 |\n",
       "\n"
      ],
      "text/plain": [
       "     [,1]    \n",
       "[1,]  3.00000\n",
       "[2,] 22.00000\n",
       "[3,] 29.88113\n",
       "[4,] 35.00000\n",
       "[5,] 54.00000"
      ]
     },
     "metadata": {},
     "output_type": "display_data"
    },
    {
     "data": {
      "image/png": "[encoded data removed]",
      "text/plain": [
       "plot without title"
      ]
     },
     "metadata": {
      "image/png": {
       "height": 420,
       "width": 420
      }
     },
     "output_type": "display_data"
    }
   ],
   "source": [
    "# 승객의 나이에서 이상치 여부 확인\n",
    "bp <- boxplot(titanic$age)\n",
    "bp$stats"
   ]
  },
  {
   "cell_type": "code",
   "execution_count": 11,
   "id": "398100d6-a7b7-4ef3-8b93-9a8e80af19cd",
   "metadata": {},
   "outputs": [
    {
     "data": {
      "text/html": [
       "<table class=\"dataframe\">\n",
       "<caption>A matrix: 5 × 1 of type dbl</caption>\n",
       "<tbody>\n",
       "\t<tr><td> 0.0000</td></tr>\n",
       "\t<tr><td> 7.8958</td></tr>\n",
       "\t<tr><td>14.4542</td></tr>\n",
       "\t<tr><td>31.2750</td></tr>\n",
       "\t<tr><td>65.0000</td></tr>\n",
       "</tbody>\n",
       "</table>\n"
      ],
      "text/latex": [
       "A matrix: 5 × 1 of type dbl\n",
       "\\begin{tabular}{l}\n",
       "\t  0.0000\\\\\n",
       "\t  7.8958\\\\\n",
       "\t 14.4542\\\\\n",
       "\t 31.2750\\\\\n",
       "\t 65.0000\\\\\n",
       "\\end{tabular}\n"
      ],
      "text/markdown": [
       "\n",
       "A matrix: 5 × 1 of type dbl\n",
       "\n",
       "|  0.0000 |\n",
       "|  7.8958 |\n",
       "| 14.4542 |\n",
       "| 31.2750 |\n",
       "| 65.0000 |\n",
       "\n"
      ],
      "text/plain": [
       "     [,1]   \n",
       "[1,]  0.0000\n",
       "[2,]  7.8958\n",
       "[3,] 14.4542\n",
       "[4,] 31.2750\n",
       "[5,] 65.0000"
      ]
     },
     "metadata": {},
     "output_type": "display_data"
    },
    {
     "data": {
      "image/png": "[encoded data removed]",
      "text/plain": [
       "plot without title"
      ]
     },
     "metadata": {
      "image/png": {
       "height": 420,
       "width": 420
      }
     },
     "output_type": "display_data"
    }
   ],
   "source": [
    "# 승객들이 지불한 요금에서 이상치 여부 확인\n",
    "bp <- boxplot(titanic$fare)\n",
    "bp$stats"
   ]
  }
 ],
 "metadata": {
  "kernelspec": {
   "display_name": "R",
   "language": "R",
   "name": "ir"
  },
  "language_info": {
   "codemirror_mode": "r",
   "file_extension": ".r",
   "mimetype": "text/x-r-source",
   "name": "R",
   "pygments_lexer": "r",
   "version": "3.6.3"
  }
 },
 "nbformat": 4,
 "nbformat_minor": 5
}
